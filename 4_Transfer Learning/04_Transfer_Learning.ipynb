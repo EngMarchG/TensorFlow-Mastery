{
 "cells": [
  {
   "cell_type": "markdown",
   "metadata": {},
   "source": [
    "# Transfer Learning with TensorFlow Part 1: Feature Extraction\n",
    "\n",
    "Benefits:\n",
    "1. Uses an existing neural network architecture that works on problems similar to the intended model\n",
    "2. Utulizes a working neural network architecture that already learned patters on similar data.\n",
    "\n",
    "Links:\n",
    "- [10_food_classes_10_percent](https://storage.googleapis.com/ztm_tf_course/food_vision/10_food_classes_10_percent.zip)"
   ]
  },
  {
   "cell_type": "code",
   "execution_count": 1,
   "metadata": {},
   "outputs": [
    {
     "name": "stdout",
     "output_type": "stream",
     "text": [
      "There are 2 folders and 0 images in 10_food_classes_10_percent\n",
      "There are 10 folders and 0 images in 10_food_classes_10_percent\\test\n",
      "There are 0 folders and 250 images in 10_food_classes_10_percent\\test\\chicken_curry\n",
      "There are 0 folders and 250 images in 10_food_classes_10_percent\\test\\chicken_wings\n",
      "There are 0 folders and 250 images in 10_food_classes_10_percent\\test\\fried_rice\n",
      "There are 0 folders and 250 images in 10_food_classes_10_percent\\test\\grilled_salmon\n",
      "There are 0 folders and 250 images in 10_food_classes_10_percent\\test\\hamburger\n",
      "There are 0 folders and 250 images in 10_food_classes_10_percent\\test\\ice_cream\n",
      "There are 0 folders and 250 images in 10_food_classes_10_percent\\test\\pizza\n",
      "There are 0 folders and 250 images in 10_food_classes_10_percent\\test\\ramen\n",
      "There are 0 folders and 250 images in 10_food_classes_10_percent\\test\\steak\n",
      "There are 0 folders and 250 images in 10_food_classes_10_percent\\test\\sushi\n",
      "There are 10 folders and 0 images in 10_food_classes_10_percent\\train\n",
      "There are 0 folders and 75 images in 10_food_classes_10_percent\\train\\chicken_curry\n",
      "There are 0 folders and 75 images in 10_food_classes_10_percent\\train\\chicken_wings\n",
      "There are 0 folders and 75 images in 10_food_classes_10_percent\\train\\fried_rice\n",
      "There are 0 folders and 75 images in 10_food_classes_10_percent\\train\\grilled_salmon\n",
      "There are 0 folders and 75 images in 10_food_classes_10_percent\\train\\hamburger\n",
      "There are 0 folders and 75 images in 10_food_classes_10_percent\\train\\ice_cream\n",
      "There are 0 folders and 75 images in 10_food_classes_10_percent\\train\\pizza\n",
      "There are 0 folders and 75 images in 10_food_classes_10_percent\\train\\ramen\n",
      "There are 0 folders and 75 images in 10_food_classes_10_percent\\train\\steak\n",
      "There are 0 folders and 75 images in 10_food_classes_10_percent\\train\\sushi\n"
     ]
    }
   ],
   "source": [
    "# How many images are in each folder?\n",
    "import os\n",
    "\n",
    "for dirpath, dirnames, filenames in os.walk(\"10_food_classes_10_percent\"):\n",
    "    print(f\"There are {len(dirnames)} folders and {len(filenames)} images in {dirpath}\")"
   ]
  },
  {
   "cell_type": "markdown",
   "metadata": {},
   "source": [
    "## Creating data loaders (preparing the data)"
   ]
  },
  {
   "cell_type": "code",
   "execution_count": 3,
   "metadata": {},
   "outputs": [
    {
     "name": "stdout",
     "output_type": "stream",
     "text": [
      "Training images: \n",
      "Found 750 images belonging to 10 classes.\n",
      "Testing images: \n",
      "Found 2500 images belonging to 10 classes.\n"
     ]
    }
   ],
   "source": [
    "# Setup data inputs\n",
    "import tensorflow as tf\n",
    "from tensorflow.keras.preprocessing.image import ImageDataGenerator\n",
    "\n",
    "IMAGE_SHAPE = (224, 224)\n",
    "BATCH_SIZE = 32\n",
    "\n",
    "# Add the directories\n",
    "train_dir = \"10_food_classes_10_percent/train/\"\n",
    "test_dir = \"10_food_classes_10_percent/test\"\n",
    "\n",
    "# Create the image generator instance and rescale\n",
    "train_datagen = ImageDataGenerator(rescale=1/255)\n",
    "test_datagen = ImageDataGenerator(rescale=1/255)\n",
    "\n",
    "print(\"Training images: \")\n",
    "train_data_10_percent = train_datagen.flow_from_directory(train_dir,\n",
    "                                      target_size=IMAGE_SHAPE,\n",
    "                                      batch_size=BATCH_SIZE,\n",
    "                                      class_mode=\"categorical\")\n",
    "\n",
    "print(\"Testing images: \")\n",
    "test_data = test_datagen.flow_from_directory(test_dir,\n",
    "                                             target_size=IMAGE_SHAPE,\n",
    "                                             batch_size=BATCH_SIZE,\n",
    "                                             class_mode=\"categorical\")\n"
   ]
  },
  {
   "cell_type": "markdown",
   "metadata": {},
   "source": [
    "## Setting up callbacks (things to run while the model trains)\n",
    "Callbacks are extra functionality to add on models to be performed during or after training. Most popular ones are:\n",
    "- Tracking experiments with the TensorBoard callback\n",
    "- Model checkpoint with ModelCheckpoint callback\n",
    "- Stopping a model from training (before training too long and overfitting) with EarlyStopping callback"
   ]
  },
  {
   "cell_type": "code",
   "execution_count": 4,
   "metadata": {},
   "outputs": [],
   "source": [
    "# Create TensorBoard callback (functionized because it needs to create a \n",
    "# new one for each model)\n",
    "import datetime\n",
    "\n",
    "def create_tensorboard_callback(dir_name, exp_name):\n",
    "    log_dir = dir_name + \"/\" + exp_name + \"/\" + datetime.datetime.now().strftime(\"%Y%m%d-%H%M%S\")\n",
    "    tensorboard_callback = tf.keras.callbacks.TensorBoard(log_dir=log_dir)\n",
    "    print(f\"Saving TensorBoard log files to: {log_dir}\")\n",
    "    return tensorboard_callback\n"
   ]
  },
  {
   "cell_type": "markdown",
   "metadata": {},
   "source": [
    "## Create a model using TensorFlow Hub\n",
    "Model was found from tf.hub.dev\n",
    "https://tfhub.dev/tensorflow/efficientnet/b0/feature-vector/1\n",
    "\n",
    "Note: Finding a good model can usually be done by looking at https://paperswithcode.com\n",
    "Finally, many images use https://image-net.org to train models since it is such a big repository"
   ]
  },
  {
   "cell_type": "code",
   "execution_count": 5,
   "metadata": {},
   "outputs": [],
   "source": [
    "# Compare the two model links from tf.hub\n",
    "resnet_url = \"https://tfhub.dev/google/imagenet/resnet_v2_50/feature_vector/5\"\n",
    "\n",
    "efficientnet_url =\"https://tfhub.dev/tensorflow/efficientnet/b0/feature-vector/1\""
   ]
  },
  {
   "cell_type": "code",
   "execution_count": 7,
   "metadata": {},
   "outputs": [],
   "source": [
    "# Import dependences\n",
    "import tensorflow as tf\n",
    "import tensorflow_hub as hub\n",
    "from tensorflow.keras import layers"
   ]
  },
  {
   "cell_type": "code",
   "execution_count": 8,
   "metadata": {},
   "outputs": [],
   "source": [
    "# Create a model function to create a model from a URL\n",
    "def create_model(model_url, num_classes=10):\n",
    "    \"\"\" \n",
    "    Takes a TensorFlow Hub URL and creates a Keras Sequential model\n",
    "    with it.\n",
    "\n",
    "    Args: \n",
    "        model_url (str): A TensorFlow Hub feature extraction URL.\n",
    "        num_class (int): Number of output neurons in the output layer,\n",
    "            should be equal to number of target classes, default 10.\n",
    "    \n",
    "    Returns:\n",
    "        An uncompiled Keras Sequential model with model_url as feature\n",
    "        extractor layer and Dense output layer with num_classes output neurons.\n",
    "    \"\"\"\n",
    "    # Download the pretrained model and \n",
    "    feature_extractor_layer = hub.KerasLayer(model_url,\n",
    "                                            trainable=False, # freeze pre-learnt patterns\n",
    "                                            name=\"feature_extraction_layer\",\n",
    "                                            input_shape=IMAGE_SHAPE+(3,)) \n",
    "    \n",
    "    # Create the model\n",
    "    model = tf.keras.Sequential([\n",
    "        feature_extractor_layer,\n",
    "        layers.Dense(num_classes, activation=\"softmax\", name=\"output_layer\")\n",
    "    ])\n",
    "\n",
    "    return model"
   ]
  },
  {
   "cell_type": "markdown",
   "metadata": {},
   "source": [
    "### Creating and testing ResNet TensorFlow Hub"
   ]
  },
  {
   "cell_type": "code",
   "execution_count": 13,
   "metadata": {},
   "outputs": [],
   "source": [
    "# Create Resnet model\n",
    "resnet_model = create_model(resnet_url,\n",
    "                            num_classes=train_data_10_percent.num_classes)"
   ]
  },
  {
   "cell_type": "code",
   "execution_count": 14,
   "metadata": {},
   "outputs": [],
   "source": [
    "# Compile the resnet model\n",
    "resnet_model.compile(loss=\"categorical_crossentropy\",\n",
    "                     optimizer=tf.keras.optimizers.Adam(),\n",
    "                     metrics=[\"accuracy\"])"
   ]
  },
  {
   "cell_type": "code",
   "execution_count": 24,
   "metadata": {},
   "outputs": [
    {
     "name": "stdout",
     "output_type": "stream",
     "text": [
      "Saving TensorBoard log files to: tensorflow_hub/resnet50V2/20220503-203053\n",
      "Epoch 1/5\n",
      "24/24 [==============================] - 17s 604ms/step - loss: 0.3295 - accuracy: 0.9320 - val_loss: 0.6549 - val_accuracy: 0.7772\n",
      "Epoch 2/5\n",
      "24/24 [==============================] - 14s 596ms/step - loss: 0.2733 - accuracy: 0.9453 - val_loss: 0.6345 - val_accuracy: 0.7852\n",
      "Epoch 3/5\n",
      "24/24 [==============================] - 14s 598ms/step - loss: 0.2375 - accuracy: 0.9627 - val_loss: 0.6321 - val_accuracy: 0.7840\n",
      "Epoch 4/5\n",
      "24/24 [==============================] - 14s 601ms/step - loss: 0.2033 - accuracy: 0.9733 - val_loss: 0.6170 - val_accuracy: 0.7884\n",
      "Epoch 5/5\n",
      "24/24 [==============================] - 14s 601ms/step - loss: 0.1711 - accuracy: 0.9880 - val_loss: 0.6179 - val_accuracy: 0.7900\n"
     ]
    }
   ],
   "source": [
    "# Fit the model \n",
    "resnet_history = resnet_model.fit(train_data_10_percent,\n",
    "                 epochs=5,\n",
    "                 steps_per_epoch=len(train_data_10_percent),\n",
    "                 validation_data=test_data,\n",
    "                 validation_steps=len(test_data),\n",
    "                 callbacks=[create_tensorboard_callback(dir_name=\"tensorflow_hub\",\n",
    "                                                       exp_name=\"resnet50V2\")])"
   ]
  },
  {
   "cell_type": "markdown",
   "metadata": {},
   "source": [
    "Looking back at the previous section, the transfer learnt model performs over double the accuracy over unseen data. The previous model only got an accuracy of 34%. \n",
    "The time is also significantly lower (10% of the training dataset was used)"
   ]
  },
  {
   "cell_type": "code",
   "execution_count": 22,
   "metadata": {},
   "outputs": [
    {
     "name": "stdout",
     "output_type": "stream",
     "text": [
      "Model: \"sequential\"\n",
      "_________________________________________________________________\n",
      " Layer (type)                Output Shape              Param #   \n",
      "=================================================================\n",
      " feature_extraction_layer (K  (None, 2048)             23564800  \n",
      " erasLayer)                                                      \n",
      "                                                                 \n",
      " output_layer (Dense)        (None, 10)                20490     \n",
      "                                                                 \n",
      "=================================================================\n",
      "Total params: 23,585,290\n",
      "Trainable params: 20,490\n",
      "Non-trainable params: 23,564,800\n",
      "_________________________________________________________________\n"
     ]
    }
   ],
   "source": [
    "resnet_model.summary()"
   ]
  },
  {
   "cell_type": "code",
   "execution_count": 23,
   "metadata": {},
   "outputs": [],
   "source": [
    "import matplotlib.pyplot as plt\n",
    "# Plot the validation and training curves\n",
    "def plot_loss(history):\n",
    "    \"\"\" \n",
    "    Returns seperate loss curves for training and validation\n",
    "\n",
    "    Args:\n",
    "        history: TensorFlow History object. \n",
    "    \n",
    "    Returns:\n",
    "        Plots of training/validation loss and accuracy metrics\n",
    "    \"\"\"\n",
    "    loss = history.history[\"loss\"]\n",
    "    val_loss = history.history[\"val_loss\"]\n",
    "\n",
    "    accuracy = history.history[\"accuracy\"]\n",
    "    val_accuracy = history.history[\"val_accuracy\"]\n",
    "\n",
    "    epochs = range(len(history.history[\"loss\"]))\n",
    "\n",
    "    # Plot loss\n",
    "    plt.plot(epochs, loss, label=\"training loss\")\n",
    "    plt.plot(epochs, val_loss, label=\"val_loss\")\n",
    "    plt.title(\"Loss\")\n",
    "    plt.xlabel(\"Epochs\")\n",
    "    plt.legend()\n",
    "\n",
    "    # Plot accuracy\n",
    "    plt.figure()\n",
    "    plt.plot(epochs, accuracy, label=\"training_accuracy\")\n",
    "    plt.plot(epochs, val_accuracy, label=\"val_accuracy\")\n",
    "    plt.title(\"Accuracy\")\n",
    "    plt.xlabel(\"epochs\")\n",
    "    plt.legend()\n"
   ]
  },
  {
   "cell_type": "code",
   "execution_count": 25,
   "metadata": {},
   "outputs": [
    {
     "data": {
      "image/png": "[encoded data removed]",
      "text/plain": [
       "<Figure size 432x288 with 1 Axes>"
      ]
     },
     "metadata": {
      "needs_background": "light"
     },
     "output_type": "display_data"
    },
    {
     "data": {
      "image/png": "[encoded data removed]",
      "text/plain": [
       "<Figure size 432x288 with 1 Axes>"
      ]
     },
     "metadata": {
      "needs_background": "light"
     },
     "output_type": "display_data"
    }
   ],
   "source": [
    "plot_loss(history=resnet_history)"
   ]
  },
  {
   "cell_type": "markdown",
   "metadata": {},
   "source": [
    "The model seems stagnate near the end (may be overfitting). \n",
    "NOTE: the history was ran twice. The losses show the 2nd time it was ran. The overall validation accuracy increased slightly and losses are not improving as much due to it."
   ]
  },
  {
   "cell_type": "markdown",
   "metadata": {},
   "source": [
    "### Creating and testing EfficientNet80 TensorFlow Hub Feature Extraction model"
   ]
  },
  {
   "cell_type": "code",
   "execution_count": 26,
   "metadata": {},
   "outputs": [],
   "source": [
    "# Create the model \n",
    "efficient_net = create_model(efficientnet_url, num_classes=train_data_10_percent.num_classes)"
   ]
  },
  {
   "cell_type": "code",
   "execution_count": 30,
   "metadata": {},
   "outputs": [
    {
     "name": "stdout",
     "output_type": "stream",
     "text": [
      "Saving TensorBoard log files to: tensorflow_hub/efficientnetb0/20220503-213754\n",
      "Epoch 1/5\n",
      "24/24 [==============================] - 33s 489ms/step - loss: 1.8405 - accuracy: 0.4507 - val_loss: 1.3204 - val_accuracy: 0.7184\n",
      "Epoch 2/5\n",
      "24/24 [==============================] - 9s 374ms/step - loss: 1.0618 - accuracy: 0.7760 - val_loss: 0.8770 - val_accuracy: 0.8164\n",
      "Epoch 3/5\n",
      "24/24 [==============================] - 9s 366ms/step - loss: 0.7599 - accuracy: 0.8120 - val_loss: 0.7010 - val_accuracy: 0.8416\n",
      "Epoch 4/5\n",
      "24/24 [==============================] - 9s 367ms/step - loss: 0.6102 - accuracy: 0.8613 - val_loss: 0.6148 - val_accuracy: 0.8516\n",
      "Epoch 5/5\n",
      "24/24 [==============================] - 9s 370ms/step - loss: 0.5178 - accuracy: 0.8920 - val_loss: 0.5619 - val_accuracy: 0.8604\n"
     ]
    }
   ],
   "source": [
    "# Compile the model\n",
    "efficient_net.compile(loss=\"categorical_crossentropy\",\n",
    "                      optimizer=tf.keras.optimizers.Adam(),\n",
    "                      metrics=[\"accuracy\"])\n",
    "\n",
    "# Fit the efficient net model\n",
    "efficient_net_history = efficient_net.fit(train_data_10_percent,\n",
    "                                          epochs=5,\n",
    "                                          validation_data=test_data,\n",
    "                                          validation_steps=len(test_data),\n",
    "                                          callbacks=[create_tensorboard_callback(dir_name=\"tensorflow_hub\",\n",
    "                                                                                        exp_name=\"efficientnetb0\")])"
   ]
  },
  {
   "cell_type": "markdown",
   "metadata": {},
   "source": [
    "Compared to the resnet model, the accuracy of the validation increased over around 7% higher. "
   ]
  },
  {
   "cell_type": "code",
   "execution_count": 31,
   "metadata": {},
   "outputs": [
    {
     "data": {
      "image/png": "[encoded data removed]",
      "text/plain": [
       "<Figure size 432x288 with 1 Axes>"
      ]
     },
     "metadata": {
      "needs_background": "light"
     },
     "output_type": "display_data"
    },
    {
     "data": {
      "image/png": "[encoded data removed]",
      "text/plain": [
       "<Figure size 432x288 with 1 Axes>"
      ]
     },
     "metadata": {
      "needs_background": "light"
     },
     "output_type": "display_data"
    }
   ],
   "source": [
    "# Plot the history of the efficientnet model\n",
    "plot_loss(efficient_net_history)"
   ]
  },
  {
   "cell_type": "code",
   "execution_count": 38,
   "metadata": {},
   "outputs": [
    {
     "name": "stdout",
     "output_type": "stream",
     "text": [
      "Model: \"sequential_1\"\n",
      "_________________________________________________________________\n",
      " Layer (type)                Output Shape              Param #   \n",
      "=================================================================\n",
      " feature_extraction_layer (K  (None, 1280)             4049564   \n",
      " erasLayer)                                                      \n",
      "                                                                 \n",
      " output_layer (Dense)        (None, 10)                12810     \n",
      "                                                                 \n",
      "=================================================================\n",
      "Total params: 4,062,374\n",
      "Trainable params: 12,810\n",
      "Non-trainable params: 4,049,564\n",
      "_________________________________________________________________\n"
     ]
    },
    {
     "data": {
      "text/plain": [
       "(None, 309)"
      ]
     },
     "execution_count": 38,
     "metadata": {},
     "output_type": "execute_result"
    }
   ],
   "source": [
    "efficient_net.summary(), len(efficient_net.layers[0].weights)"
   ]
  },
  {
   "cell_type": "markdown",
   "metadata": {},
   "source": [
    "## Different types of Transfer learning\n",
    "- **As is** transfer learning - using an existing model with no changes what so ever.\n",
    "- **Feature Extraction** transfer learning - Use the prelearnt patterns of an existing model and adjust the output layer for your own problems (e.g. 1000 classes -> 10 classes of food)\n",
    "- **Fine-tuning** transfer learning - use the prelearnt patterns of an existing model and adjust many of the underlying layers (including new output layers)"
   ]
  },
  {
   "cell_type": "markdown",
   "metadata": {},
   "source": [
    "### Comparing model results using TensorBoard\n",
    "When uploading things on TensorBoard.dev, experiments are public."
   ]
  },
  {
   "cell_type": "code",
   "execution_count": null,
   "metadata": {},
   "outputs": [],
   "source": [
    "# Upload TensorBoard dev record\n",
    "# Use ! instead\n",
    "# %reload_ext tensorboard\n",
    "%tensorboard dev upload --logdir \"./tensorflow_hub/\" \\\n",
    "--name \"EfficientNetB0 vs. ResNet50v2\" \\\n",
    "--description \"Comparing two TFHub models using a tenth of the training data\" \\\n",
    "--one_shot"
   ]
  },
  {
   "cell_type": "markdown",
   "metadata": {},
   "source": [
    "https://tensorboard.dev/experiment/ojijob6XSBiwuMUoh2rwxg/#scalars&_smoothingWeight=0.656\n",
    "\n",
    "If it doesn't work then: \n",
    "\n",
    "tensorboard dev upload --logdir ./tensorflow_hub/ --name \"EfficientNetB0 vs. ResNet50v2\" --description \"Comparing two TFHub models using a tenth of the training data\" --one_shot\n",
    "\n",
    "Paste in the terminal (be sure you are in the correct directory or cd to it)"
   ]
  },
  {
   "cell_type": "code",
   "execution_count": 49,
   "metadata": {},
   "outputs": [
    {
     "name": "stdout",
     "output_type": "stream",
     "text": [
      "https://tensorboard.dev/experiment/ojijob6XSBiwuMUoh2rwxg/\n",
      "\tName                 EfficientNetB0 vs. ResNet50v2\n",
      "\tDescription          Comparing two TFHub models using a tenth of the training data\n",
      "\tId                   ojijob6XSBiwuMUoh2rwxg\n",
      "\tCreated              2022-05-03 22:51:36 (5 minutes ago)\n",
      "\tUpdated              2022-05-03 22:51:59 (5 minutes ago)\n",
      "\tRuns                 6\n",
      "\tTags                 5\n",
      "\tScalars              90\n",
      "\tTensor bytes         0\n",
      "\tBinary object bytes  7514962\n",
      "https://tensorboard.dev/experiment/RdTXiKsgQD2ndyQSr1jHOQ/\n",
      "\tName                 [No Name]\n",
      "\tDescription          [No Description]\n",
      "\tId                   RdTXiKsgQD2ndyQSr1jHOQ\n",
      "\tCreated              2022-05-03 22:47:13 (10 minutes ago)\n",
      "\tUpdated              2022-05-03 22:47:13 (10 minutes ago)\n",
      "\tRuns                 0\n",
      "\tTags                 0\n",
      "\tScalars              0\n",
      "\tTensor bytes         0\n",
      "\tBinary object bytes  0\n"
     ]
    },
    {
     "name": "stderr",
     "output_type": "stream",
     "text": [
      "Total: 2 experiment(s)\n"
     ]
    }
   ],
   "source": [
    "# Check out what TensorBoard Experiments uploaded\n",
    "!tensorboard dev list"
   ]
  },
  {
   "cell_type": "code",
   "execution_count": 51,
   "metadata": {},
   "outputs": [
    {
     "name": "stdout",
     "output_type": "stream",
     "text": [
      "Deleted experiment RdTXiKsgQD2ndyQSr1jHOQ.\n"
     ]
    }
   ],
   "source": [
    "# To delete an accidentally uploaded model\n",
    "!tensorboard dev delete --experiment_id RdTXiKsgQD2ndyQSr1jHOQ"
   ]
  },
  {
   "cell_type": "code",
   "execution_count": null,
   "metadata": {},
   "outputs": [],
   "source": []
  }
 ],
 "metadata": {
  "interpreter": {
   "hash": "9b432319b1b054266bcdf59eb764237d3d3272012fbf9a2e21780dc801e4d991"
  },
  "kernelspec": {
   "display_name": "Python 3.9.12 ('tf')",
   "language": "python",
   "name": "python3"
  },
  "language_info": {
   "codemirror_mode": {
    "name": "ipython",
    "version": 3
   },
   "file_extension": ".py",
   "mimetype": "text/x-python",
   "name": "python",
   "nbconvert_exporter": "python",
   "pygments_lexer": "ipython3",
   "version": "3.9.12"
  },
  "orig_nbformat": 4
 },
 "nbformat": 4,
 "nbformat_minor": 2
}
