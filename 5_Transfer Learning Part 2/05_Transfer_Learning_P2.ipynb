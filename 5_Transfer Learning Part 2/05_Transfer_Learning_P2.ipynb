{
 "cells": [
  {
   "cell_type": "markdown",
   "metadata": {},
   "source": [
    "# This section will focus on Transfer Learning with TensorFlow: Fine-tuning"
   ]
  },
  {
   "cell_type": "code",
   "execution_count": 1,
   "metadata": {},
   "outputs": [
    {
     "data": {
      "text/plain": [
       "('2.8.0', [PhysicalDevice(name='/physical_device:GPU:0', device_type='GPU')])"
      ]
     },
     "execution_count": 1,
     "metadata": {},
     "output_type": "execute_result"
    }
   ],
   "source": [
    "import tensorflow as tf\n",
    "tf.__version__, tf.config.list_physical_devices(\"GPU\")"
   ]
  },
  {
   "cell_type": "code",
   "execution_count": 2,
   "metadata": {},
   "outputs": [],
   "source": [
    "# Creating a helper function from all the previous functions\n",
    "# It will now be imported for us when needed\n",
    "import sys\n",
    "sys.path.append(\"../helper/\")\n",
    "from helperFunctions import walk_through_dir, plot_loss_curves, unzip_data, create_tensorboard_callback"
   ]
  },
  {
   "cell_type": "code",
   "execution_count": 3,
   "metadata": {},
   "outputs": [
    {
     "name": "stdout",
     "output_type": "stream",
     "text": [
      "There are 2 directories and 0 images in '10_food_classes_10_percent'.\n",
      "There are 10 directories and 0 images in '10_food_classes_10_percent\\test'.\n",
      "There are 0 directories and 250 images in '10_food_classes_10_percent\\test\\chicken_curry'.\n",
      "There are 0 directories and 250 images in '10_food_classes_10_percent\\test\\chicken_wings'.\n",
      "There are 0 directories and 250 images in '10_food_classes_10_percent\\test\\fried_rice'.\n",
      "There are 0 directories and 250 images in '10_food_classes_10_percent\\test\\grilled_salmon'.\n",
      "There are 0 directories and 250 images in '10_food_classes_10_percent\\test\\hamburger'.\n",
      "There are 0 directories and 250 images in '10_food_classes_10_percent\\test\\ice_cream'.\n",
      "There are 0 directories and 250 images in '10_food_classes_10_percent\\test\\pizza'.\n",
      "There are 0 directories and 250 images in '10_food_classes_10_percent\\test\\ramen'.\n",
      "There are 0 directories and 250 images in '10_food_classes_10_percent\\test\\steak'.\n",
      "There are 0 directories and 250 images in '10_food_classes_10_percent\\test\\sushi'.\n",
      "There are 10 directories and 0 images in '10_food_classes_10_percent\\train'.\n",
      "There are 0 directories and 75 images in '10_food_classes_10_percent\\train\\chicken_curry'.\n",
      "There are 0 directories and 75 images in '10_food_classes_10_percent\\train\\chicken_wings'.\n",
      "There are 0 directories and 75 images in '10_food_classes_10_percent\\train\\fried_rice'.\n",
      "There are 0 directories and 75 images in '10_food_classes_10_percent\\train\\grilled_salmon'.\n",
      "There are 0 directories and 75 images in '10_food_classes_10_percent\\train\\hamburger'.\n",
      "There are 0 directories and 75 images in '10_food_classes_10_percent\\train\\ice_cream'.\n",
      "There are 0 directories and 75 images in '10_food_classes_10_percent\\train\\pizza'.\n",
      "There are 0 directories and 75 images in '10_food_classes_10_percent\\train\\ramen'.\n",
      "There are 0 directories and 75 images in '10_food_classes_10_percent\\train\\steak'.\n",
      "There are 0 directories and 75 images in '10_food_classes_10_percent\\train\\sushi'.\n"
     ]
    }
   ],
   "source": [
    "walk_through_dir(\"10_food_classes_10_percent\")"
   ]
  },
  {
   "cell_type": "code",
   "execution_count": 4,
   "metadata": {},
   "outputs": [],
   "source": [
    "# Create training and test directory paths\n",
    "train_dir = \"10_food_classes_10_percent/train\"\n",
    "test_dir = \"10_food_classes_10_percent/test\""
   ]
  },
  {
   "cell_type": "code",
   "execution_count": 5,
   "metadata": {},
   "outputs": [
    {
     "name": "stdout",
     "output_type": "stream",
     "text": [
      "Found 750 files belonging to 10 classes.\n",
      "Found 2500 files belonging to 10 classes.\n"
     ]
    }
   ],
   "source": [
    "# Create the picture batches\n",
    "IMG_SIZE = (224, 224)\n",
    "BATCH_SIZE = 32\n",
    "train_data_10_percent = tf.keras.preprocessing.image_dataset_from_directory(directory=train_dir,\n",
    "                                                                            image_size=IMG_SIZE,\n",
    "                                                                            label_mode=\"categorical\",\n",
    "                                                                            batch_size=BATCH_SIZE)\n",
    "\n",
    "test_data = tf.keras.preprocessing.image_dataset_from_directory(directory=test_dir,\n",
    "                                                                image_size=IMG_SIZE,\n",
    "                                                                label_mode=\"categorical\",\n",
    "                                                                batch_size=BATCH_SIZE)"
   ]
  },
  {
   "cell_type": "code",
   "execution_count": 6,
   "metadata": {},
   "outputs": [
    {
     "data": {
      "text/plain": [
       "(<BatchDataset element_spec=(TensorSpec(shape=(None, 224, 224, 3), dtype=tf.float32, name=None), TensorSpec(shape=(None, 10), dtype=tf.float32, name=None))>,\n",
       " ['chicken_curry',\n",
       "  'chicken_wings',\n",
       "  'fried_rice',\n",
       "  'grilled_salmon',\n",
       "  'hamburger',\n",
       "  'ice_cream',\n",
       "  'pizza',\n",
       "  'ramen',\n",
       "  'steak',\n",
       "  'sushi'])"
      ]
     },
     "execution_count": 6,
     "metadata": {},
     "output_type": "execute_result"
    }
   ],
   "source": [
    "# Check the batch and some of its features seperately\n",
    "train_data_10_percent, train_data_10_percent.class_names"
   ]
  },
  {
   "cell_type": "markdown",
   "metadata": {},
   "source": [
    "## Modelling experiments that will be ran\n",
    "- model 0: baseline (use 10% of the training data only)\n",
    "- model 1: use 1% of the training data only and augment the data\n",
    "- model 2: use 10% of the training data and augment data\n",
    "- model 3: use 10% of the training data and augment data and fine-tune \n",
    "- model 4: model 3 + full training data"
   ]
  },
  {
   "cell_type": "markdown",
   "metadata": {},
   "source": [
    "The models will be built towards functional API rather than sequential, since it is more flexible and allows for more sophistication."
   ]
  },
  {
   "cell_type": "code",
   "execution_count": 7,
   "metadata": {},
   "outputs": [
    {
     "name": "stdout",
     "output_type": "stream",
     "text": [
      "Shape after passing inputs through base model: (None, 7, 7, 1280)\n",
      "Shape after GlobalAveragePooling2D: (None, 1280)\n",
      "Saving TensorBoard log files to: transfer_learning/10_percent_feature_extraction/20220504-213403\n",
      "Epoch 1/5\n",
      "24/24 [==============================] - 18s 305ms/step - loss: 1.9336 - accuracy: 0.4027 - val_loss: 1.3809 - val_accuracy: 0.7007\n",
      "Epoch 2/5\n",
      "24/24 [==============================] - 5s 193ms/step - loss: 1.1746 - accuracy: 0.7360 - val_loss: 0.9194 - val_accuracy: 0.8125\n",
      "Epoch 3/5\n",
      "24/24 [==============================] - 5s 195ms/step - loss: 0.8483 - accuracy: 0.8027 - val_loss: 0.7426 - val_accuracy: 0.8405\n",
      "Epoch 4/5\n",
      "24/24 [==============================] - 5s 193ms/step - loss: 0.6951 - accuracy: 0.8267 - val_loss: 0.6604 - val_accuracy: 0.8355\n",
      "Epoch 5/5\n",
      "24/24 [==============================] - 5s 193ms/step - loss: 0.5987 - accuracy: 0.8533 - val_loss: 0.6156 - val_accuracy: 0.8388\n"
     ]
    }
   ],
   "source": [
    "# 1. Model 0: built with tf.keras.applications\n",
    "base_model = tf.keras.applications.EfficientNetB0(include_top=False)\n",
    "\n",
    "# 2. Freeze the base model (so the underlying pre-trained patterns aren't updated)\n",
    "base_model.trainable = False\n",
    "\n",
    "# 3. Create inputs into our model\n",
    "inputs = tf.keras.layers.Input(shape=(224, 224, 3), name=\"input_layer\")\n",
    "\n",
    "# 4. If using ResNet50V2 you will need to normalize inputs (in efficientnet it is built in)\n",
    "# x = tf.keras.layers.experimental.preprocessing.Rescaling(1./255)(inputs)\n",
    "\n",
    "# 5. Pass the inputs to the base_model\n",
    "x = base_model(inputs)\n",
    "print(f\"Shape after passing inputs through base model: {x.shape}\")\n",
    "\n",
    "# 6. Average pool the outputs of the base model (aggregate all the most important information)\n",
    "x = tf.keras.layers.GlobalAveragePooling2D(name=\"global_average_pooling_layer\")(x)\n",
    "print(f\"Shape after GlobalAveragePooling2D: {x.shape}\")\n",
    "\n",
    "# 7. Create the output activation layer\n",
    "outputs = tf.keras.layers.Dense(10, activation=\"softmax\", name=\"output_layer\")(x)\n",
    "\n",
    "# 8. Combine the unputs with the outputs into a model\n",
    "model_0 = tf.keras.Model(inputs, outputs)\n",
    "\n",
    "# 9. Compile the model\n",
    "model_0.compile(loss=\"categorical_crossentropy\",\n",
    "                optimizer=tf.keras.optimizers.Adam(),\n",
    "                metrics=[\"accuracy\"])\n",
    "\n",
    "# 10. Fit the model\n",
    "history_0 = model_0.fit(train_data_10_percent,\n",
    "                        epochs=5,\n",
    "                        steps_per_epoch=len(train_data_10_percent),\n",
    "                        validation_data=test_data,\n",
    "                        validation_steps=int(0.25*len(test_data)),\n",
    "                        callbacks=[create_tensorboard_callback(dir_name=\"transfer_learning\",\n",
    "                        experiment_name=\"10_percent_feature_extraction\")])\n"
   ]
  },
  {
   "cell_type": "code",
   "execution_count": 8,
   "metadata": {},
   "outputs": [
    {
     "name": "stdout",
     "output_type": "stream",
     "text": [
      "79/79 [==============================] - 9s 112ms/step - loss: 0.6122 - accuracy: 0.8452\n"
     ]
    },
    {
     "data": {
      "text/plain": [
       "[0.6121899485588074, 0.8452000021934509]"
      ]
     },
     "execution_count": 8,
     "metadata": {},
     "output_type": "execute_result"
    }
   ],
   "source": [
    "model_0.evaluate(test_data)"
   ]
  },
  {
   "cell_type": "code",
   "execution_count": 9,
   "metadata": {},
   "outputs": [
    {
     "name": "stdout",
     "output_type": "stream",
     "text": [
      "0 input_1\n",
      "1 rescaling\n",
      "2 normalization\n",
      "3 stem_conv_pad\n",
      "4 stem_conv\n",
      "5 stem_bn\n",
      "6 stem_activation\n",
      "7 block1a_dwconv\n",
      "8 block1a_bn\n",
      "9 block1a_activation\n",
      "10 block1a_se_squeeze\n",
      "11 block1a_se_reshape\n",
      "12 block1a_se_reduce\n",
      "13 block1a_se_expand\n",
      "14 block1a_se_excite\n",
      "15 block1a_project_conv\n",
      "16 block1a_project_bn\n",
      "17 block2a_expand_conv\n",
      "18 block2a_expand_bn\n",
      "19 block2a_expand_activation\n",
      "20 block2a_dwconv_pad\n",
      "21 block2a_dwconv\n",
      "22 block2a_bn\n",
      "23 block2a_activation\n",
      "24 block2a_se_squeeze\n",
      "25 block2a_se_reshape\n",
      "26 block2a_se_reduce\n",
      "27 block2a_se_expand\n",
      "28 block2a_se_excite\n",
      "29 block2a_project_conv\n",
      "30 block2a_project_bn\n",
      "31 block2b_expand_conv\n",
      "32 block2b_expand_bn\n",
      "33 block2b_expand_activation\n",
      "34 block2b_dwconv\n",
      "35 block2b_bn\n",
      "36 block2b_activation\n",
      "37 block2b_se_squeeze\n",
      "38 block2b_se_reshape\n",
      "39 block2b_se_reduce\n",
      "40 block2b_se_expand\n",
      "41 block2b_se_excite\n",
      "42 block2b_project_conv\n",
      "43 block2b_project_bn\n",
      "44 block2b_drop\n",
      "45 block2b_add\n",
      "46 block3a_expand_conv\n",
      "47 block3a_expand_bn\n",
      "48 block3a_expand_activation\n",
      "49 block3a_dwconv_pad\n",
      "50 block3a_dwconv\n",
      "51 block3a_bn\n",
      "52 block3a_activation\n",
      "53 block3a_se_squeeze\n",
      "54 block3a_se_reshape\n",
      "55 block3a_se_reduce\n",
      "56 block3a_se_expand\n",
      "57 block3a_se_excite\n",
      "58 block3a_project_conv\n",
      "59 block3a_project_bn\n",
      "60 block3b_expand_conv\n",
      "61 block3b_expand_bn\n",
      "62 block3b_expand_activation\n",
      "63 block3b_dwconv\n",
      "64 block3b_bn\n",
      "65 block3b_activation\n",
      "66 block3b_se_squeeze\n",
      "67 block3b_se_reshape\n",
      "68 block3b_se_reduce\n",
      "69 block3b_se_expand\n",
      "70 block3b_se_excite\n",
      "71 block3b_project_conv\n",
      "72 block3b_project_bn\n",
      "73 block3b_drop\n",
      "74 block3b_add\n",
      "75 block4a_expand_conv\n",
      "76 block4a_expand_bn\n",
      "77 block4a_expand_activation\n",
      "78 block4a_dwconv_pad\n",
      "79 block4a_dwconv\n",
      "80 block4a_bn\n",
      "81 block4a_activation\n",
      "82 block4a_se_squeeze\n",
      "83 block4a_se_reshape\n",
      "84 block4a_se_reduce\n",
      "85 block4a_se_expand\n",
      "86 block4a_se_excite\n",
      "87 block4a_project_conv\n",
      "88 block4a_project_bn\n",
      "89 block4b_expand_conv\n",
      "90 block4b_expand_bn\n",
      "91 block4b_expand_activation\n",
      "92 block4b_dwconv\n",
      "93 block4b_bn\n",
      "94 block4b_activation\n",
      "95 block4b_se_squeeze\n",
      "96 block4b_se_reshape\n",
      "97 block4b_se_reduce\n",
      "98 block4b_se_expand\n",
      "99 block4b_se_excite\n",
      "100 block4b_project_conv\n",
      "101 block4b_project_bn\n",
      "102 block4b_drop\n",
      "103 block4b_add\n",
      "104 block4c_expand_conv\n",
      "105 block4c_expand_bn\n",
      "106 block4c_expand_activation\n",
      "107 block4c_dwconv\n",
      "108 block4c_bn\n",
      "109 block4c_activation\n",
      "110 block4c_se_squeeze\n",
      "111 block4c_se_reshape\n",
      "112 block4c_se_reduce\n",
      "113 block4c_se_expand\n",
      "114 block4c_se_excite\n",
      "115 block4c_project_conv\n",
      "116 block4c_project_bn\n",
      "117 block4c_drop\n",
      "118 block4c_add\n",
      "119 block5a_expand_conv\n",
      "120 block5a_expand_bn\n",
      "121 block5a_expand_activation\n",
      "122 block5a_dwconv\n",
      "123 block5a_bn\n",
      "124 block5a_activation\n",
      "125 block5a_se_squeeze\n",
      "126 block5a_se_reshape\n",
      "127 block5a_se_reduce\n",
      "128 block5a_se_expand\n",
      "129 block5a_se_excite\n",
      "130 block5a_project_conv\n",
      "131 block5a_project_bn\n",
      "132 block5b_expand_conv\n",
      "133 block5b_expand_bn\n",
      "134 block5b_expand_activation\n",
      "135 block5b_dwconv\n",
      "136 block5b_bn\n",
      "137 block5b_activation\n",
      "138 block5b_se_squeeze\n",
      "139 block5b_se_reshape\n",
      "140 block5b_se_reduce\n",
      "141 block5b_se_expand\n",
      "142 block5b_se_excite\n",
      "143 block5b_project_conv\n",
      "144 block5b_project_bn\n",
      "145 block5b_drop\n",
      "146 block5b_add\n",
      "147 block5c_expand_conv\n",
      "148 block5c_expand_bn\n",
      "149 block5c_expand_activation\n",
      "150 block5c_dwconv\n",
      "151 block5c_bn\n",
      "152 block5c_activation\n",
      "153 block5c_se_squeeze\n",
      "154 block5c_se_reshape\n",
      "155 block5c_se_reduce\n",
      "156 block5c_se_expand\n",
      "157 block5c_se_excite\n",
      "158 block5c_project_conv\n",
      "159 block5c_project_bn\n",
      "160 block5c_drop\n",
      "161 block5c_add\n",
      "162 block6a_expand_conv\n",
      "163 block6a_expand_bn\n",
      "164 block6a_expand_activation\n",
      "165 block6a_dwconv_pad\n",
      "166 block6a_dwconv\n",
      "167 block6a_bn\n",
      "168 block6a_activation\n",
      "169 block6a_se_squeeze\n",
      "170 block6a_se_reshape\n",
      "171 block6a_se_reduce\n",
      "172 block6a_se_expand\n",
      "173 block6a_se_excite\n",
      "174 block6a_project_conv\n",
      "175 block6a_project_bn\n",
      "176 block6b_expand_conv\n",
      "177 block6b_expand_bn\n",
      "178 block6b_expand_activation\n",
      "179 block6b_dwconv\n",
      "180 block6b_bn\n",
      "181 block6b_activation\n",
      "182 block6b_se_squeeze\n",
      "183 block6b_se_reshape\n",
      "184 block6b_se_reduce\n",
      "185 block6b_se_expand\n",
      "186 block6b_se_excite\n",
      "187 block6b_project_conv\n",
      "188 block6b_project_bn\n",
      "189 block6b_drop\n",
      "190 block6b_add\n",
      "191 block6c_expand_conv\n",
      "192 block6c_expand_bn\n",
      "193 block6c_expand_activation\n",
      "194 block6c_dwconv\n",
      "195 block6c_bn\n",
      "196 block6c_activation\n",
      "197 block6c_se_squeeze\n",
      "198 block6c_se_reshape\n",
      "199 block6c_se_reduce\n",
      "200 block6c_se_expand\n",
      "201 block6c_se_excite\n",
      "202 block6c_project_conv\n",
      "203 block6c_project_bn\n",
      "204 block6c_drop\n",
      "205 block6c_add\n",
      "206 block6d_expand_conv\n",
      "207 block6d_expand_bn\n",
      "208 block6d_expand_activation\n",
      "209 block6d_dwconv\n",
      "210 block6d_bn\n",
      "211 block6d_activation\n",
      "212 block6d_se_squeeze\n",
      "213 block6d_se_reshape\n",
      "214 block6d_se_reduce\n",
      "215 block6d_se_expand\n",
      "216 block6d_se_excite\n",
      "217 block6d_project_conv\n",
      "218 block6d_project_bn\n",
      "219 block6d_drop\n",
      "220 block6d_add\n",
      "221 block7a_expand_conv\n",
      "222 block7a_expand_bn\n",
      "223 block7a_expand_activation\n",
      "224 block7a_dwconv\n",
      "225 block7a_bn\n",
      "226 block7a_activation\n",
      "227 block7a_se_squeeze\n",
      "228 block7a_se_reshape\n",
      "229 block7a_se_reduce\n",
      "230 block7a_se_expand\n",
      "231 block7a_se_excite\n",
      "232 block7a_project_conv\n",
      "233 block7a_project_bn\n",
      "234 top_conv\n",
      "235 top_bn\n",
      "236 top_activation\n"
     ]
    }
   ],
   "source": [
    "# Check the layers in the base model\n",
    "for layer_num, layer in enumerate(base_model.layers):\n",
    "    print(layer_num, layer.name)"
   ]
  },
  {
   "cell_type": "code",
   "execution_count": 10,
   "metadata": {},
   "outputs": [
    {
     "name": "stdout",
     "output_type": "stream",
     "text": [
      "Model: \"efficientnetb0\"\n",
      "__________________________________________________________________________________________________\n",
      " Layer (type)                   Output Shape         Param #     Connected to                     \n",
      "==================================================================================================\n",
      " input_1 (InputLayer)           [(None, None, None,  0           []                               \n",
      "                                 3)]                                                              \n",
      "                                                                                                  \n",
      " rescaling (Rescaling)          (None, None, None,   0           ['input_1[0][0]']                \n",
      "                                3)                                                                \n",
      "                                                                                                  \n",
      " normalization (Normalization)  (None, None, None,   7           ['rescaling[0][0]']              \n",
      "                                3)                                                                \n",
      "                                                                                                  \n",
      " stem_conv_pad (ZeroPadding2D)  (None, None, None,   0           ['normalization[0][0]']          \n",
      "                                3)                                                                \n",
      "                                                                                                  \n",
      " stem_conv (Conv2D)             (None, None, None,   864         ['stem_conv_pad[0][0]']          \n",
      "                                32)                                                               \n",
      "                                                                                                  \n",
      " stem_bn (BatchNormalization)   (None, None, None,   128         ['stem_conv[0][0]']              \n",
      "                                32)                                                               \n",
      "                                                                                                  \n",
      " stem_activation (Activation)   (None, None, None,   0           ['stem_bn[0][0]']                \n",
      "                                32)                                                               \n",
      "                                                                                                  \n",
      " block1a_dwconv (DepthwiseConv2  (None, None, None,   288        ['stem_activation[0][0]']        \n",
      " D)                             32)                                                               \n",
      "                                                                                                  \n",
      " block1a_bn (BatchNormalization  (None, None, None,   128        ['block1a_dwconv[0][0]']         \n",
      " )                              32)                                                               \n",
      "                                                                                                  \n",
      " block1a_activation (Activation  (None, None, None,   0          ['block1a_bn[0][0]']             \n",
      " )                              32)                                                               \n",
      "                                                                                                  \n",
      " block1a_se_squeeze (GlobalAver  (None, 32)          0           ['block1a_activation[0][0]']     \n",
      " agePooling2D)                                                                                    \n",
      "                                                                                                  \n",
      " block1a_se_reshape (Reshape)   (None, 1, 1, 32)     0           ['block1a_se_squeeze[0][0]']     \n",
      "                                                                                                  \n",
      " block1a_se_reduce (Conv2D)     (None, 1, 1, 8)      264         ['block1a_se_reshape[0][0]']     \n",
      "                                                                                                  \n",
      " block1a_se_expand (Conv2D)     (None, 1, 1, 32)     288         ['block1a_se_reduce[0][0]']      \n",
      "                                                                                                  \n",
      " block1a_se_excite (Multiply)   (None, None, None,   0           ['block1a_activation[0][0]',     \n",
      "                                32)                               'block1a_se_expand[0][0]']      \n",
      "                                                                                                  \n",
      " block1a_project_conv (Conv2D)  (None, None, None,   512         ['block1a_se_excite[0][0]']      \n",
      "                                16)                                                               \n",
      "                                                                                                  \n",
      " block1a_project_bn (BatchNorma  (None, None, None,   64         ['block1a_project_conv[0][0]']   \n",
      " lization)                      16)                                                               \n",
      "                                                                                                  \n",
      " block2a_expand_conv (Conv2D)   (None, None, None,   1536        ['block1a_project_bn[0][0]']     \n",
      "                                96)                                                               \n",
      "                                                                                                  \n",
      " block2a_expand_bn (BatchNormal  (None, None, None,   384        ['block2a_expand_conv[0][0]']    \n",
      " ization)                       96)                                                               \n",
      "                                                                                                  \n",
      " block2a_expand_activation (Act  (None, None, None,   0          ['block2a_expand_bn[0][0]']      \n",
      " ivation)                       96)                                                               \n",
      "                                                                                                  \n",
      " block2a_dwconv_pad (ZeroPaddin  (None, None, None,   0          ['block2a_expand_activation[0][0]\n",
      " g2D)                           96)                              ']                               \n",
      "                                                                                                  \n",
      " block2a_dwconv (DepthwiseConv2  (None, None, None,   864        ['block2a_dwconv_pad[0][0]']     \n",
      " D)                             96)                                                               \n",
      "                                                                                                  \n",
      " block2a_bn (BatchNormalization  (None, None, None,   384        ['block2a_dwconv[0][0]']         \n",
      " )                              96)                                                               \n",
      "                                                                                                  \n",
      " block2a_activation (Activation  (None, None, None,   0          ['block2a_bn[0][0]']             \n",
      " )                              96)                                                               \n",
      "                                                                                                  \n",
      " block2a_se_squeeze (GlobalAver  (None, 96)          0           ['block2a_activation[0][0]']     \n",
      " agePooling2D)                                                                                    \n",
      "                                                                                                  \n",
      " block2a_se_reshape (Reshape)   (None, 1, 1, 96)     0           ['block2a_se_squeeze[0][0]']     \n",
      "                                                                                                  \n",
      " block2a_se_reduce (Conv2D)     (None, 1, 1, 4)      388         ['block2a_se_reshape[0][0]']     \n",
      "                                                                                                  \n",
      " block2a_se_expand (Conv2D)     (None, 1, 1, 96)     480         ['block2a_se_reduce[0][0]']      \n",
      "                                                                                                  \n",
      " block2a_se_excite (Multiply)   (None, None, None,   0           ['block2a_activation[0][0]',     \n",
      "                                96)                               'block2a_se_expand[0][0]']      \n",
      "                                                                                                  \n",
      " block2a_project_conv (Conv2D)  (None, None, None,   2304        ['block2a_se_excite[0][0]']      \n",
      "                                24)                                                               \n",
      "                                                                                                  \n",
      " block2a_project_bn (BatchNorma  (None, None, None,   96         ['block2a_project_conv[0][0]']   \n",
      " lization)                      24)                                                               \n",
      "                                                                                                  \n",
      " block2b_expand_conv (Conv2D)   (None, None, None,   3456        ['block2a_project_bn[0][0]']     \n",
      "                                144)                                                              \n",
      "                                                                                                  \n",
      " block2b_expand_bn (BatchNormal  (None, None, None,   576        ['block2b_expand_conv[0][0]']    \n",
      " ization)                       144)                                                              \n",
      "                                                                                                  \n",
      " block2b_expand_activation (Act  (None, None, None,   0          ['block2b_expand_bn[0][0]']      \n",
      " ivation)                       144)                                                              \n",
      "                                                                                                  \n",
      " block2b_dwconv (DepthwiseConv2  (None, None, None,   1296       ['block2b_expand_activation[0][0]\n",
      " D)                             144)                             ']                               \n",
      "                                                                                                  \n",
      " block2b_bn (BatchNormalization  (None, None, None,   576        ['block2b_dwconv[0][0]']         \n",
      " )                              144)                                                              \n",
      "                                                                                                  \n",
      " block2b_activation (Activation  (None, None, None,   0          ['block2b_bn[0][0]']             \n",
      " )                              144)                                                              \n",
      "                                                                                                  \n",
      " block2b_se_squeeze (GlobalAver  (None, 144)         0           ['block2b_activation[0][0]']     \n",
      " agePooling2D)                                                                                    \n",
      "                                                                                                  \n",
      " block2b_se_reshape (Reshape)   (None, 1, 1, 144)    0           ['block2b_se_squeeze[0][0]']     \n",
      "                                                                                                  \n",
      " block2b_se_reduce (Conv2D)     (None, 1, 1, 6)      870         ['block2b_se_reshape[0][0]']     \n",
      "                                                                                                  \n",
      " block2b_se_expand (Conv2D)     (None, 1, 1, 144)    1008        ['block2b_se_reduce[0][0]']      \n",
      "                                                                                                  \n",
      " block2b_se_excite (Multiply)   (None, None, None,   0           ['block2b_activation[0][0]',     \n",
      "                                144)                              'block2b_se_expand[0][0]']      \n",
      "                                                                                                  \n",
      " block2b_project_conv (Conv2D)  (None, None, None,   3456        ['block2b_se_excite[0][0]']      \n",
      "                                24)                                                               \n",
      "                                                                                                  \n",
      " block2b_project_bn (BatchNorma  (None, None, None,   96         ['block2b_project_conv[0][0]']   \n",
      " lization)                      24)                                                               \n",
      "                                                                                                  \n",
      " block2b_drop (Dropout)         (None, None, None,   0           ['block2b_project_bn[0][0]']     \n",
      "                                24)                                                               \n",
      "                                                                                                  \n",
      " block2b_add (Add)              (None, None, None,   0           ['block2b_drop[0][0]',           \n",
      "                                24)                               'block2a_project_bn[0][0]']     \n",
      "                                                                                                  \n",
      " block3a_expand_conv (Conv2D)   (None, None, None,   3456        ['block2b_add[0][0]']            \n",
      "                                144)                                                              \n",
      "                                                                                                  \n",
      " block3a_expand_bn (BatchNormal  (None, None, None,   576        ['block3a_expand_conv[0][0]']    \n",
      " ization)                       144)                                                              \n",
      "                                                                                                  \n",
      " block3a_expand_activation (Act  (None, None, None,   0          ['block3a_expand_bn[0][0]']      \n",
      " ivation)                       144)                                                              \n",
      "                                                                                                  \n",
      " block3a_dwconv_pad (ZeroPaddin  (None, None, None,   0          ['block3a_expand_activation[0][0]\n",
      " g2D)                           144)                             ']                               \n",
      "                                                                                                  \n",
      " block3a_dwconv (DepthwiseConv2  (None, None, None,   3600       ['block3a_dwconv_pad[0][0]']     \n",
      " D)                             144)                                                              \n",
      "                                                                                                  \n",
      " block3a_bn (BatchNormalization  (None, None, None,   576        ['block3a_dwconv[0][0]']         \n",
      " )                              144)                                                              \n",
      "                                                                                                  \n",
      " block3a_activation (Activation  (None, None, None,   0          ['block3a_bn[0][0]']             \n",
      " )                              144)                                                              \n",
      "                                                                                                  \n",
      " block3a_se_squeeze (GlobalAver  (None, 144)         0           ['block3a_activation[0][0]']     \n",
      " agePooling2D)                                                                                    \n",
      "                                                                                                  \n",
      " block3a_se_reshape (Reshape)   (None, 1, 1, 144)    0           ['block3a_se_squeeze[0][0]']     \n",
      "                                                                                                  \n",
      " block3a_se_reduce (Conv2D)     (None, 1, 1, 6)      870         ['block3a_se_reshape[0][0]']     \n",
      "                                                                                                  \n",
      " block3a_se_expand (Conv2D)     (None, 1, 1, 144)    1008        ['block3a_se_reduce[0][0]']      \n",
      "                                                                                                  \n",
      " block3a_se_excite (Multiply)   (None, None, None,   0           ['block3a_activation[0][0]',     \n",
      "                                144)                              'block3a_se_expand[0][0]']      \n",
      "                                                                                                  \n",
      " block3a_project_conv (Conv2D)  (None, None, None,   5760        ['block3a_se_excite[0][0]']      \n",
      "                                40)                                                               \n",
      "                                                                                                  \n",
      " block3a_project_bn (BatchNorma  (None, None, None,   160        ['block3a_project_conv[0][0]']   \n",
      " lization)                      40)                                                               \n",
      "                                                                                                  \n",
      " block3b_expand_conv (Conv2D)   (None, None, None,   9600        ['block3a_project_bn[0][0]']     \n",
      "                                240)                                                              \n",
      "                                                                                                  \n",
      " block3b_expand_bn (BatchNormal  (None, None, None,   960        ['block3b_expand_conv[0][0]']    \n",
      " ization)                       240)                                                              \n",
      "                                                                                                  \n",
      " block3b_expand_activation (Act  (None, None, None,   0          ['block3b_expand_bn[0][0]']      \n",
      " ivation)                       240)                                                              \n",
      "                                                                                                  \n",
      " block3b_dwconv (DepthwiseConv2  (None, None, None,   6000       ['block3b_expand_activation[0][0]\n",
      " D)                             240)                             ']                               \n",
      "                                                                                                  \n",
      " block3b_bn (BatchNormalization  (None, None, None,   960        ['block3b_dwconv[0][0]']         \n",
      " )                              240)                                                              \n",
      "                                                                                                  \n",
      " block3b_activation (Activation  (None, None, None,   0          ['block3b_bn[0][0]']             \n",
      " )                              240)                                                              \n",
      "                                                                                                  \n",
      " block3b_se_squeeze (GlobalAver  (None, 240)         0           ['block3b_activation[0][0]']     \n",
      " agePooling2D)                                                                                    \n",
      "                                                                                                  \n",
      " block3b_se_reshape (Reshape)   (None, 1, 1, 240)    0           ['block3b_se_squeeze[0][0]']     \n",
      "                                                                                                  \n",
      " block3b_se_reduce (Conv2D)     (None, 1, 1, 10)     2410        ['block3b_se_reshape[0][0]']     \n",
      "                                                                                                  \n",
      " block3b_se_expand (Conv2D)     (None, 1, 1, 240)    2640        ['block3b_se_reduce[0][0]']      \n",
      "                                                                                                  \n",
      " block3b_se_excite (Multiply)   (None, None, None,   0           ['block3b_activation[0][0]',     \n",
      "                                240)                              'block3b_se_expand[0][0]']      \n",
      "                                                                                                  \n",
      " block3b_project_conv (Conv2D)  (None, None, None,   9600        ['block3b_se_excite[0][0]']      \n",
      "                                40)                                                               \n",
      "                                                                                                  \n",
      " block3b_project_bn (BatchNorma  (None, None, None,   160        ['block3b_project_conv[0][0]']   \n",
      " lization)                      40)                                                               \n",
      "                                                                                                  \n",
      " block3b_drop (Dropout)         (None, None, None,   0           ['block3b_project_bn[0][0]']     \n",
      "                                40)                                                               \n",
      "                                                                                                  \n",
      " block3b_add (Add)              (None, None, None,   0           ['block3b_drop[0][0]',           \n",
      "                                40)                               'block3a_project_bn[0][0]']     \n",
      "                                                                                                  \n",
      " block4a_expand_conv (Conv2D)   (None, None, None,   9600        ['block3b_add[0][0]']            \n",
      "                                240)                                                              \n",
      "                                                                                                  \n",
      " block4a_expand_bn (BatchNormal  (None, None, None,   960        ['block4a_expand_conv[0][0]']    \n",
      " ization)                       240)                                                              \n",
      "                                                                                                  \n",
      " block4a_expand_activation (Act  (None, None, None,   0          ['block4a_expand_bn[0][0]']      \n",
      " ivation)                       240)                                                              \n",
      "                                                                                                  \n",
      " block4a_dwconv_pad (ZeroPaddin  (None, None, None,   0          ['block4a_expand_activation[0][0]\n",
      " g2D)                           240)                             ']                               \n",
      "                                                                                                  \n",
      " block4a_dwconv (DepthwiseConv2  (None, None, None,   2160       ['block4a_dwconv_pad[0][0]']     \n",
      " D)                             240)                                                              \n",
      "                                                                                                  \n",
      " block4a_bn (BatchNormalization  (None, None, None,   960        ['block4a_dwconv[0][0]']         \n",
      " )                              240)                                                              \n",
      "                                                                                                  \n",
      " block4a_activation (Activation  (None, None, None,   0          ['block4a_bn[0][0]']             \n",
      " )                              240)                                                              \n",
      "                                                                                                  \n",
      " block4a_se_squeeze (GlobalAver  (None, 240)         0           ['block4a_activation[0][0]']     \n",
      " agePooling2D)                                                                                    \n",
      "                                                                                                  \n",
      " block4a_se_reshape (Reshape)   (None, 1, 1, 240)    0           ['block4a_se_squeeze[0][0]']     \n",
      "                                                                                                  \n",
      " block4a_se_reduce (Conv2D)     (None, 1, 1, 10)     2410        ['block4a_se_reshape[0][0]']     \n",
      "                                                                                                  \n",
      " block4a_se_expand (Conv2D)     (None, 1, 1, 240)    2640        ['block4a_se_reduce[0][0]']      \n",
      "                                                                                                  \n",
      " block4a_se_excite (Multiply)   (None, None, None,   0           ['block4a_activation[0][0]',     \n",
      "                                240)                              'block4a_se_expand[0][0]']      \n",
      "                                                                                                  \n",
      " block4a_project_conv (Conv2D)  (None, None, None,   19200       ['block4a_se_excite[0][0]']      \n",
      "                                80)                                                               \n",
      "                                                                                                  \n",
      " block4a_project_bn (BatchNorma  (None, None, None,   320        ['block4a_project_conv[0][0]']   \n",
      " lization)                      80)                                                               \n",
      "                                                                                                  \n",
      " block4b_expand_conv (Conv2D)   (None, None, None,   38400       ['block4a_project_bn[0][0]']     \n",
      "                                480)                                                              \n",
      "                                                                                                  \n",
      " block4b_expand_bn (BatchNormal  (None, None, None,   1920       ['block4b_expand_conv[0][0]']    \n",
      " ization)                       480)                                                              \n",
      "                                                                                                  \n",
      " block4b_expand_activation (Act  (None, None, None,   0          ['block4b_expand_bn[0][0]']      \n",
      " ivation)                       480)                                                              \n",
      "                                                                                                  \n",
      " block4b_dwconv (DepthwiseConv2  (None, None, None,   4320       ['block4b_expand_activation[0][0]\n",
      " D)                             480)                             ']                               \n",
      "                                                                                                  \n",
      " block4b_bn (BatchNormalization  (None, None, None,   1920       ['block4b_dwconv[0][0]']         \n",
      " )                              480)                                                              \n",
      "                                                                                                  \n",
      " block4b_activation (Activation  (None, None, None,   0          ['block4b_bn[0][0]']             \n",
      " )                              480)                                                              \n",
      "                                                                                                  \n",
      " block4b_se_squeeze (GlobalAver  (None, 480)         0           ['block4b_activation[0][0]']     \n",
      " agePooling2D)                                                                                    \n",
      "                                                                                                  \n",
      " block4b_se_reshape (Reshape)   (None, 1, 1, 480)    0           ['block4b_se_squeeze[0][0]']     \n",
      "                                                                                                  \n",
      " block4b_se_reduce (Conv2D)     (None, 1, 1, 20)     9620        ['block4b_se_reshape[0][0]']     \n",
      "                                                                                                  \n",
      " block4b_se_expand (Conv2D)     (None, 1, 1, 480)    10080       ['block4b_se_reduce[0][0]']      \n",
      "                                                                                                  \n",
      " block4b_se_excite (Multiply)   (None, None, None,   0           ['block4b_activation[0][0]',     \n",
      "                                480)                              'block4b_se_expand[0][0]']      \n",
      "                                                                                                  \n",
      " block4b_project_conv (Conv2D)  (None, None, None,   38400       ['block4b_se_excite[0][0]']      \n",
      "                                80)                                                               \n",
      "                                                                                                  \n",
      " block4b_project_bn (BatchNorma  (None, None, None,   320        ['block4b_project_conv[0][0]']   \n",
      " lization)                      80)                                                               \n",
      "                                                                                                  \n",
      " block4b_drop (Dropout)         (None, None, None,   0           ['block4b_project_bn[0][0]']     \n",
      "                                80)                                                               \n",
      "                                                                                                  \n",
      " block4b_add (Add)              (None, None, None,   0           ['block4b_drop[0][0]',           \n",
      "                                80)                               'block4a_project_bn[0][0]']     \n",
      "                                                                                                  \n",
      " block4c_expand_conv (Conv2D)   (None, None, None,   38400       ['block4b_add[0][0]']            \n",
      "                                480)                                                              \n",
      "                                                                                                  \n",
      " block4c_expand_bn (BatchNormal  (None, None, None,   1920       ['block4c_expand_conv[0][0]']    \n",
      " ization)                       480)                                                              \n",
      "                                                                                                  \n",
      " block4c_expand_activation (Act  (None, None, None,   0          ['block4c_expand_bn[0][0]']      \n",
      " ivation)                       480)                                                              \n",
      "                                                                                                  \n",
      " block4c_dwconv (DepthwiseConv2  (None, None, None,   4320       ['block4c_expand_activation[0][0]\n",
      " D)                             480)                             ']                               \n",
      "                                                                                                  \n",
      " block4c_bn (BatchNormalization  (None, None, None,   1920       ['block4c_dwconv[0][0]']         \n",
      " )                              480)                                                              \n",
      "                                                                                                  \n",
      " block4c_activation (Activation  (None, None, None,   0          ['block4c_bn[0][0]']             \n",
      " )                              480)                                                              \n",
      "                                                                                                  \n",
      " block4c_se_squeeze (GlobalAver  (None, 480)         0           ['block4c_activation[0][0]']     \n",
      " agePooling2D)                                                                                    \n",
      "                                                                                                  \n",
      " block4c_se_reshape (Reshape)   (None, 1, 1, 480)    0           ['block4c_se_squeeze[0][0]']     \n",
      "                                                                                                  \n",
      " block4c_se_reduce (Conv2D)     (None, 1, 1, 20)     9620        ['block4c_se_reshape[0][0]']     \n",
      "                                                                                                  \n",
      " block4c_se_expand (Conv2D)     (None, 1, 1, 480)    10080       ['block4c_se_reduce[0][0]']      \n",
      "                                                                                                  \n",
      " block4c_se_excite (Multiply)   (None, None, None,   0           ['block4c_activation[0][0]',     \n",
      "                                480)                              'block4c_se_expand[0][0]']      \n",
      "                                                                                                  \n",
      " block4c_project_conv (Conv2D)  (None, None, None,   38400       ['block4c_se_excite[0][0]']      \n",
      "                                80)                                                               \n",
      "                                                                                                  \n",
      " block4c_project_bn (BatchNorma  (None, None, None,   320        ['block4c_project_conv[0][0]']   \n",
      " lization)                      80)                                                               \n",
      "                                                                                                  \n",
      " block4c_drop (Dropout)         (None, None, None,   0           ['block4c_project_bn[0][0]']     \n",
      "                                80)                                                               \n",
      "                                                                                                  \n",
      " block4c_add (Add)              (None, None, None,   0           ['block4c_drop[0][0]',           \n",
      "                                80)                               'block4b_add[0][0]']            \n",
      "                                                                                                  \n",
      " block5a_expand_conv (Conv2D)   (None, None, None,   38400       ['block4c_add[0][0]']            \n",
      "                                480)                                                              \n",
      "                                                                                                  \n",
      " block5a_expand_bn (BatchNormal  (None, None, None,   1920       ['block5a_expand_conv[0][0]']    \n",
      " ization)                       480)                                                              \n",
      "                                                                                                  \n",
      " block5a_expand_activation (Act  (None, None, None,   0          ['block5a_expand_bn[0][0]']      \n",
      " ivation)                       480)                                                              \n",
      "                                                                                                  \n",
      " block5a_dwconv (DepthwiseConv2  (None, None, None,   12000      ['block5a_expand_activation[0][0]\n",
      " D)                             480)                             ']                               \n",
      "                                                                                                  \n",
      " block5a_bn (BatchNormalization  (None, None, None,   1920       ['block5a_dwconv[0][0]']         \n",
      " )                              480)                                                              \n",
      "                                                                                                  \n",
      " block5a_activation (Activation  (None, None, None,   0          ['block5a_bn[0][0]']             \n",
      " )                              480)                                                              \n",
      "                                                                                                  \n",
      " block5a_se_squeeze (GlobalAver  (None, 480)         0           ['block5a_activation[0][0]']     \n",
      " agePooling2D)                                                                                    \n",
      "                                                                                                  \n",
      " block5a_se_reshape (Reshape)   (None, 1, 1, 480)    0           ['block5a_se_squeeze[0][0]']     \n",
      "                                                                                                  \n",
      " block5a_se_reduce (Conv2D)     (None, 1, 1, 20)     9620        ['block5a_se_reshape[0][0]']     \n",
      "                                                                                                  \n",
      " block5a_se_expand (Conv2D)     (None, 1, 1, 480)    10080       ['block5a_se_reduce[0][0]']      \n",
      "                                                                                                  \n",
      " block5a_se_excite (Multiply)   (None, None, None,   0           ['block5a_activation[0][0]',     \n",
      "                                480)                              'block5a_se_expand[0][0]']      \n",
      "                                                                                                  \n",
      " block5a_project_conv (Conv2D)  (None, None, None,   53760       ['block5a_se_excite[0][0]']      \n",
      "                                112)                                                              \n",
      "                                                                                                  \n",
      " block5a_project_bn (BatchNorma  (None, None, None,   448        ['block5a_project_conv[0][0]']   \n",
      " lization)                      112)                                                              \n",
      "                                                                                                  \n",
      " block5b_expand_conv (Conv2D)   (None, None, None,   75264       ['block5a_project_bn[0][0]']     \n",
      "                                672)                                                              \n",
      "                                                                                                  \n",
      " block5b_expand_bn (BatchNormal  (None, None, None,   2688       ['block5b_expand_conv[0][0]']    \n",
      " ization)                       672)                                                              \n",
      "                                                                                                  \n",
      " block5b_expand_activation (Act  (None, None, None,   0          ['block5b_expand_bn[0][0]']      \n",
      " ivation)                       672)                                                              \n",
      "                                                                                                  \n",
      " block5b_dwconv (DepthwiseConv2  (None, None, None,   16800      ['block5b_expand_activation[0][0]\n",
      " D)                             672)                             ']                               \n",
      "                                                                                                  \n",
      " block5b_bn (BatchNormalization  (None, None, None,   2688       ['block5b_dwconv[0][0]']         \n",
      " )                              672)                                                              \n",
      "                                                                                                  \n",
      " block5b_activation (Activation  (None, None, None,   0          ['block5b_bn[0][0]']             \n",
      " )                              672)                                                              \n",
      "                                                                                                  \n",
      " block5b_se_squeeze (GlobalAver  (None, 672)         0           ['block5b_activation[0][0]']     \n",
      " agePooling2D)                                                                                    \n",
      "                                                                                                  \n",
      " block5b_se_reshape (Reshape)   (None, 1, 1, 672)    0           ['block5b_se_squeeze[0][0]']     \n",
      "                                                                                                  \n",
      " block5b_se_reduce (Conv2D)     (None, 1, 1, 28)     18844       ['block5b_se_reshape[0][0]']     \n",
      "                                                                                                  \n",
      " block5b_se_expand (Conv2D)     (None, 1, 1, 672)    19488       ['block5b_se_reduce[0][0]']      \n",
      "                                                                                                  \n",
      " block5b_se_excite (Multiply)   (None, None, None,   0           ['block5b_activation[0][0]',     \n",
      "                                672)                              'block5b_se_expand[0][0]']      \n",
      "                                                                                                  \n",
      " block5b_project_conv (Conv2D)  (None, None, None,   75264       ['block5b_se_excite[0][0]']      \n",
      "                                112)                                                              \n",
      "                                                                                                  \n",
      " block5b_project_bn (BatchNorma  (None, None, None,   448        ['block5b_project_conv[0][0]']   \n",
      " lization)                      112)                                                              \n",
      "                                                                                                  \n",
      " block5b_drop (Dropout)         (None, None, None,   0           ['block5b_project_bn[0][0]']     \n",
      "                                112)                                                              \n",
      "                                                                                                  \n",
      " block5b_add (Add)              (None, None, None,   0           ['block5b_drop[0][0]',           \n",
      "                                112)                              'block5a_project_bn[0][0]']     \n",
      "                                                                                                  \n",
      " block5c_expand_conv (Conv2D)   (None, None, None,   75264       ['block5b_add[0][0]']            \n",
      "                                672)                                                              \n",
      "                                                                                                  \n",
      " block5c_expand_bn (BatchNormal  (None, None, None,   2688       ['block5c_expand_conv[0][0]']    \n",
      " ization)                       672)                                                              \n",
      "                                                                                                  \n",
      " block5c_expand_activation (Act  (None, None, None,   0          ['block5c_expand_bn[0][0]']      \n",
      " ivation)                       672)                                                              \n",
      "                                                                                                  \n",
      " block5c_dwconv (DepthwiseConv2  (None, None, None,   16800      ['block5c_expand_activation[0][0]\n",
      " D)                             672)                             ']                               \n",
      "                                                                                                  \n",
      " block5c_bn (BatchNormalization  (None, None, None,   2688       ['block5c_dwconv[0][0]']         \n",
      " )                              672)                                                              \n",
      "                                                                                                  \n",
      " block5c_activation (Activation  (None, None, None,   0          ['block5c_bn[0][0]']             \n",
      " )                              672)                                                              \n",
      "                                                                                                  \n",
      " block5c_se_squeeze (GlobalAver  (None, 672)         0           ['block5c_activation[0][0]']     \n",
      " agePooling2D)                                                                                    \n",
      "                                                                                                  \n",
      " block5c_se_reshape (Reshape)   (None, 1, 1, 672)    0           ['block5c_se_squeeze[0][0]']     \n",
      "                                                                                                  \n",
      " block5c_se_reduce (Conv2D)     (None, 1, 1, 28)     18844       ['block5c_se_reshape[0][0]']     \n",
      "                                                                                                  \n",
      " block5c_se_expand (Conv2D)     (None, 1, 1, 672)    19488       ['block5c_se_reduce[0][0]']      \n",
      "                                                                                                  \n",
      " block5c_se_excite (Multiply)   (None, None, None,   0           ['block5c_activation[0][0]',     \n",
      "                                672)                              'block5c_se_expand[0][0]']      \n",
      "                                                                                                  \n",
      " block5c_project_conv (Conv2D)  (None, None, None,   75264       ['block5c_se_excite[0][0]']      \n",
      "                                112)                                                              \n",
      "                                                                                                  \n",
      " block5c_project_bn (BatchNorma  (None, None, None,   448        ['block5c_project_conv[0][0]']   \n",
      " lization)                      112)                                                              \n",
      "                                                                                                  \n",
      " block5c_drop (Dropout)         (None, None, None,   0           ['block5c_project_bn[0][0]']     \n",
      "                                112)                                                              \n",
      "                                                                                                  \n",
      " block5c_add (Add)              (None, None, None,   0           ['block5c_drop[0][0]',           \n",
      "                                112)                              'block5b_add[0][0]']            \n",
      "                                                                                                  \n",
      " block6a_expand_conv (Conv2D)   (None, None, None,   75264       ['block5c_add[0][0]']            \n",
      "                                672)                                                              \n",
      "                                                                                                  \n",
      " block6a_expand_bn (BatchNormal  (None, None, None,   2688       ['block6a_expand_conv[0][0]']    \n",
      " ization)                       672)                                                              \n",
      "                                                                                                  \n",
      " block6a_expand_activation (Act  (None, None, None,   0          ['block6a_expand_bn[0][0]']      \n",
      " ivation)                       672)                                                              \n",
      "                                                                                                  \n",
      " block6a_dwconv_pad (ZeroPaddin  (None, None, None,   0          ['block6a_expand_activation[0][0]\n",
      " g2D)                           672)                             ']                               \n",
      "                                                                                                  \n",
      " block6a_dwconv (DepthwiseConv2  (None, None, None,   16800      ['block6a_dwconv_pad[0][0]']     \n",
      " D)                             672)                                                              \n",
      "                                                                                                  \n",
      " block6a_bn (BatchNormalization  (None, None, None,   2688       ['block6a_dwconv[0][0]']         \n",
      " )                              672)                                                              \n",
      "                                                                                                  \n",
      " block6a_activation (Activation  (None, None, None,   0          ['block6a_bn[0][0]']             \n",
      " )                              672)                                                              \n",
      "                                                                                                  \n",
      " block6a_se_squeeze (GlobalAver  (None, 672)         0           ['block6a_activation[0][0]']     \n",
      " agePooling2D)                                                                                    \n",
      "                                                                                                  \n",
      " block6a_se_reshape (Reshape)   (None, 1, 1, 672)    0           ['block6a_se_squeeze[0][0]']     \n",
      "                                                                                                  \n",
      " block6a_se_reduce (Conv2D)     (None, 1, 1, 28)     18844       ['block6a_se_reshape[0][0]']     \n",
      "                                                                                                  \n",
      " block6a_se_expand (Conv2D)     (None, 1, 1, 672)    19488       ['block6a_se_reduce[0][0]']      \n",
      "                                                                                                  \n",
      " block6a_se_excite (Multiply)   (None, None, None,   0           ['block6a_activation[0][0]',     \n",
      "                                672)                              'block6a_se_expand[0][0]']      \n",
      "                                                                                                  \n",
      " block6a_project_conv (Conv2D)  (None, None, None,   129024      ['block6a_se_excite[0][0]']      \n",
      "                                192)                                                              \n",
      "                                                                                                  \n",
      " block6a_project_bn (BatchNorma  (None, None, None,   768        ['block6a_project_conv[0][0]']   \n",
      " lization)                      192)                                                              \n",
      "                                                                                                  \n",
      " block6b_expand_conv (Conv2D)   (None, None, None,   221184      ['block6a_project_bn[0][0]']     \n",
      "                                1152)                                                             \n",
      "                                                                                                  \n",
      " block6b_expand_bn (BatchNormal  (None, None, None,   4608       ['block6b_expand_conv[0][0]']    \n",
      " ization)                       1152)                                                             \n",
      "                                                                                                  \n",
      " block6b_expand_activation (Act  (None, None, None,   0          ['block6b_expand_bn[0][0]']      \n",
      " ivation)                       1152)                                                             \n",
      "                                                                                                  \n",
      " block6b_dwconv (DepthwiseConv2  (None, None, None,   28800      ['block6b_expand_activation[0][0]\n",
      " D)                             1152)                            ']                               \n",
      "                                                                                                  \n",
      " block6b_bn (BatchNormalization  (None, None, None,   4608       ['block6b_dwconv[0][0]']         \n",
      " )                              1152)                                                             \n",
      "                                                                                                  \n",
      " block6b_activation (Activation  (None, None, None,   0          ['block6b_bn[0][0]']             \n",
      " )                              1152)                                                             \n",
      "                                                                                                  \n",
      " block6b_se_squeeze (GlobalAver  (None, 1152)        0           ['block6b_activation[0][0]']     \n",
      " agePooling2D)                                                                                    \n",
      "                                                                                                  \n",
      " block6b_se_reshape (Reshape)   (None, 1, 1, 1152)   0           ['block6b_se_squeeze[0][0]']     \n",
      "                                                                                                  \n",
      " block6b_se_reduce (Conv2D)     (None, 1, 1, 48)     55344       ['block6b_se_reshape[0][0]']     \n",
      "                                                                                                  \n",
      " block6b_se_expand (Conv2D)     (None, 1, 1, 1152)   56448       ['block6b_se_reduce[0][0]']      \n",
      "                                                                                                  \n",
      " block6b_se_excite (Multiply)   (None, None, None,   0           ['block6b_activation[0][0]',     \n",
      "                                1152)                             'block6b_se_expand[0][0]']      \n",
      "                                                                                                  \n",
      " block6b_project_conv (Conv2D)  (None, None, None,   221184      ['block6b_se_excite[0][0]']      \n",
      "                                192)                                                              \n",
      "                                                                                                  \n",
      " block6b_project_bn (BatchNorma  (None, None, None,   768        ['block6b_project_conv[0][0]']   \n",
      " lization)                      192)                                                              \n",
      "                                                                                                  \n",
      " block6b_drop (Dropout)         (None, None, None,   0           ['block6b_project_bn[0][0]']     \n",
      "                                192)                                                              \n",
      "                                                                                                  \n",
      " block6b_add (Add)              (None, None, None,   0           ['block6b_drop[0][0]',           \n",
      "                                192)                              'block6a_project_bn[0][0]']     \n",
      "                                                                                                  \n",
      " block6c_expand_conv (Conv2D)   (None, None, None,   221184      ['block6b_add[0][0]']            \n",
      "                                1152)                                                             \n",
      "                                                                                                  \n",
      " block6c_expand_bn (BatchNormal  (None, None, None,   4608       ['block6c_expand_conv[0][0]']    \n",
      " ization)                       1152)                                                             \n",
      "                                                                                                  \n",
      " block6c_expand_activation (Act  (None, None, None,   0          ['block6c_expand_bn[0][0]']      \n",
      " ivation)                       1152)                                                             \n",
      "                                                                                                  \n",
      " block6c_dwconv (DepthwiseConv2  (None, None, None,   28800      ['block6c_expand_activation[0][0]\n",
      " D)                             1152)                            ']                               \n",
      "                                                                                                  \n",
      " block6c_bn (BatchNormalization  (None, None, None,   4608       ['block6c_dwconv[0][0]']         \n",
      " )                              1152)                                                             \n",
      "                                                                                                  \n",
      " block6c_activation (Activation  (None, None, None,   0          ['block6c_bn[0][0]']             \n",
      " )                              1152)                                                             \n",
      "                                                                                                  \n",
      " block6c_se_squeeze (GlobalAver  (None, 1152)        0           ['block6c_activation[0][0]']     \n",
      " agePooling2D)                                                                                    \n",
      "                                                                                                  \n",
      " block6c_se_reshape (Reshape)   (None, 1, 1, 1152)   0           ['block6c_se_squeeze[0][0]']     \n",
      "                                                                                                  \n",
      " block6c_se_reduce (Conv2D)     (None, 1, 1, 48)     55344       ['block6c_se_reshape[0][0]']     \n",
      "                                                                                                  \n",
      " block6c_se_expand (Conv2D)     (None, 1, 1, 1152)   56448       ['block6c_se_reduce[0][0]']      \n",
      "                                                                                                  \n",
      " block6c_se_excite (Multiply)   (None, None, None,   0           ['block6c_activation[0][0]',     \n",
      "                                1152)                             'block6c_se_expand[0][0]']      \n",
      "                                                                                                  \n",
      " block6c_project_conv (Conv2D)  (None, None, None,   221184      ['block6c_se_excite[0][0]']      \n",
      "                                192)                                                              \n",
      "                                                                                                  \n",
      " block6c_project_bn (BatchNorma  (None, None, None,   768        ['block6c_project_conv[0][0]']   \n",
      " lization)                      192)                                                              \n",
      "                                                                                                  \n",
      " block6c_drop (Dropout)         (None, None, None,   0           ['block6c_project_bn[0][0]']     \n",
      "                                192)                                                              \n",
      "                                                                                                  \n",
      " block6c_add (Add)              (None, None, None,   0           ['block6c_drop[0][0]',           \n",
      "                                192)                              'block6b_add[0][0]']            \n",
      "                                                                                                  \n",
      " block6d_expand_conv (Conv2D)   (None, None, None,   221184      ['block6c_add[0][0]']            \n",
      "                                1152)                                                             \n",
      "                                                                                                  \n",
      " block6d_expand_bn (BatchNormal  (None, None, None,   4608       ['block6d_expand_conv[0][0]']    \n",
      " ization)                       1152)                                                             \n",
      "                                                                                                  \n",
      " block6d_expand_activation (Act  (None, None, None,   0          ['block6d_expand_bn[0][0]']      \n",
      " ivation)                       1152)                                                             \n",
      "                                                                                                  \n",
      " block6d_dwconv (DepthwiseConv2  (None, None, None,   28800      ['block6d_expand_activation[0][0]\n",
      " D)                             1152)                            ']                               \n",
      "                                                                                                  \n",
      " block6d_bn (BatchNormalization  (None, None, None,   4608       ['block6d_dwconv[0][0]']         \n",
      " )                              1152)                                                             \n",
      "                                                                                                  \n",
      " block6d_activation (Activation  (None, None, None,   0          ['block6d_bn[0][0]']             \n",
      " )                              1152)                                                             \n",
      "                                                                                                  \n",
      " block6d_se_squeeze (GlobalAver  (None, 1152)        0           ['block6d_activation[0][0]']     \n",
      " agePooling2D)                                                                                    \n",
      "                                                                                                  \n",
      " block6d_se_reshape (Reshape)   (None, 1, 1, 1152)   0           ['block6d_se_squeeze[0][0]']     \n",
      "                                                                                                  \n",
      " block6d_se_reduce (Conv2D)     (None, 1, 1, 48)     55344       ['block6d_se_reshape[0][0]']     \n",
      "                                                                                                  \n",
      " block6d_se_expand (Conv2D)     (None, 1, 1, 1152)   56448       ['block6d_se_reduce[0][0]']      \n",
      "                                                                                                  \n",
      " block6d_se_excite (Multiply)   (None, None, None,   0           ['block6d_activation[0][0]',     \n",
      "                                1152)                             'block6d_se_expand[0][0]']      \n",
      "                                                                                                  \n",
      " block6d_project_conv (Conv2D)  (None, None, None,   221184      ['block6d_se_excite[0][0]']      \n",
      "                                192)                                                              \n",
      "                                                                                                  \n",
      " block6d_project_bn (BatchNorma  (None, None, None,   768        ['block6d_project_conv[0][0]']   \n",
      " lization)                      192)                                                              \n",
      "                                                                                                  \n",
      " block6d_drop (Dropout)         (None, None, None,   0           ['block6d_project_bn[0][0]']     \n",
      "                                192)                                                              \n",
      "                                                                                                  \n",
      " block6d_add (Add)              (None, None, None,   0           ['block6d_drop[0][0]',           \n",
      "                                192)                              'block6c_add[0][0]']            \n",
      "                                                                                                  \n",
      " block7a_expand_conv (Conv2D)   (None, None, None,   221184      ['block6d_add[0][0]']            \n",
      "                                1152)                                                             \n",
      "                                                                                                  \n",
      " block7a_expand_bn (BatchNormal  (None, None, None,   4608       ['block7a_expand_conv[0][0]']    \n",
      " ization)                       1152)                                                             \n",
      "                                                                                                  \n",
      " block7a_expand_activation (Act  (None, None, None,   0          ['block7a_expand_bn[0][0]']      \n",
      " ivation)                       1152)                                                             \n",
      "                                                                                                  \n",
      " block7a_dwconv (DepthwiseConv2  (None, None, None,   10368      ['block7a_expand_activation[0][0]\n",
      " D)                             1152)                            ']                               \n",
      "                                                                                                  \n",
      " block7a_bn (BatchNormalization  (None, None, None,   4608       ['block7a_dwconv[0][0]']         \n",
      " )                              1152)                                                             \n",
      "                                                                                                  \n",
      " block7a_activation (Activation  (None, None, None,   0          ['block7a_bn[0][0]']             \n",
      " )                              1152)                                                             \n",
      "                                                                                                  \n",
      " block7a_se_squeeze (GlobalAver  (None, 1152)        0           ['block7a_activation[0][0]']     \n",
      " agePooling2D)                                                                                    \n",
      "                                                                                                  \n",
      " block7a_se_reshape (Reshape)   (None, 1, 1, 1152)   0           ['block7a_se_squeeze[0][0]']     \n",
      "                                                                                                  \n",
      " block7a_se_reduce (Conv2D)     (None, 1, 1, 48)     55344       ['block7a_se_reshape[0][0]']     \n",
      "                                                                                                  \n",
      " block7a_se_expand (Conv2D)     (None, 1, 1, 1152)   56448       ['block7a_se_reduce[0][0]']      \n",
      "                                                                                                  \n",
      " block7a_se_excite (Multiply)   (None, None, None,   0           ['block7a_activation[0][0]',     \n",
      "                                1152)                             'block7a_se_expand[0][0]']      \n",
      "                                                                                                  \n",
      " block7a_project_conv (Conv2D)  (None, None, None,   368640      ['block7a_se_excite[0][0]']      \n",
      "                                320)                                                              \n",
      "                                                                                                  \n",
      " block7a_project_bn (BatchNorma  (None, None, None,   1280       ['block7a_project_conv[0][0]']   \n",
      " lization)                      320)                                                              \n",
      "                                                                                                  \n",
      " top_conv (Conv2D)              (None, None, None,   409600      ['block7a_project_bn[0][0]']     \n",
      "                                1280)                                                             \n",
      "                                                                                                  \n",
      " top_bn (BatchNormalization)    (None, None, None,   5120        ['top_conv[0][0]']               \n",
      "                                1280)                                                             \n",
      "                                                                                                  \n",
      " top_activation (Activation)    (None, None, None,   0           ['top_bn[0][0]']                 \n",
      "                                1280)                                                             \n",
      "                                                                                                  \n",
      "==================================================================================================\n",
      "Total params: 4,049,571\n",
      "Trainable params: 0\n",
      "Non-trainable params: 4,049,571\n",
      "__________________________________________________________________________________________________\n"
     ]
    }
   ],
   "source": [
    "base_model.summary()"
   ]
  },
  {
   "cell_type": "code",
   "execution_count": 11,
   "metadata": {},
   "outputs": [
    {
     "name": "stdout",
     "output_type": "stream",
     "text": [
      "Model: \"model\"\n",
      "_________________________________________________________________\n",
      " Layer (type)                Output Shape              Param #   \n",
      "=================================================================\n",
      " input_layer (InputLayer)    [(None, 224, 224, 3)]     0         \n",
      "                                                                 \n",
      " efficientnetb0 (Functional)  (None, None, None, 1280)  4049571  \n",
      "                                                                 \n",
      " global_average_pooling_laye  (None, 1280)             0         \n",
      " r (GlobalAveragePooling2D)                                      \n",
      "                                                                 \n",
      " output_layer (Dense)        (None, 10)                12810     \n",
      "                                                                 \n",
      "=================================================================\n",
      "Total params: 4,062,381\n",
      "Trainable params: 12,810\n",
      "Non-trainable params: 4,049,571\n",
      "_________________________________________________________________\n"
     ]
    }
   ],
   "source": [
    "# Notice that the trainable parameters are only the output\n",
    "# Additionally, model_0 technically just has 4 layers\n",
    "model_0.summary()\n"
   ]
  },
  {
   "cell_type": "code",
   "execution_count": 12,
   "metadata": {},
   "outputs": [
    {
     "data": {
      "image/png": "[encoded data removed]",
      "text/plain": [
       "<Figure size 432x288 with 1 Axes>"
      ]
     },
     "metadata": {
      "needs_background": "light"
     },
     "output_type": "display_data"
    },
    {
     "data": {
      "image/png": "[encoded data removed]",
      "text/plain": [
       "<Figure size 432x288 with 1 Axes>"
      ]
     },
     "metadata": {
      "needs_background": "light"
     },
     "output_type": "display_data"
    }
   ],
   "source": [
    "# Plot the loss curves\n",
    "plot_loss_curves(history_0)"
   ]
  },
  {
   "cell_type": "markdown",
   "metadata": {},
   "source": [
    "### Extracting a feature vector from a trained model\n",
    "To demonstrate the GlobalAveragePooling2D layer, a tensor is made after going through base_model of shape (None, 7, 7, 1280), where the none is left for the batch size.\n",
    "\n",
    "When passed through GlobaAveragePooling2D, it turns into (None, 1280).\n",
    "Use a similar shaped tensor of (1, 4, 4, 3) and then pass it to GlobalAveragePooling2D"
   ]
  },
  {
   "cell_type": "code",
   "execution_count": 13,
   "metadata": {},
   "outputs": [
    {
     "name": "stdout",
     "output_type": "stream",
     "text": [
      "Random input tensor: \n",
      " [[[[-1.0178256  -0.6905276  -0.0087332 ]\n",
      "   [-0.5789686   0.6162134   0.9376349 ]\n",
      "   [ 0.17766382 -0.99546874 -0.21550006]\n",
      "   [ 0.23175538  0.5666746   1.6750298 ]]\n",
      "\n",
      "  [[-1.2249361   0.7658794   0.43442637]\n",
      "   [ 2.3789895   1.0340004  -0.1701912 ]\n",
      "   [-0.5199478  -0.3502383  -1.9349874 ]\n",
      "   [ 0.46867365  0.18043903 -0.48382837]]\n",
      "\n",
      "  [[-0.83176696 -0.37739238  1.4195409 ]\n",
      "   [ 1.1884797  -1.0452874   0.23494199]\n",
      "   [-0.4151038   1.169985   -1.8412837 ]\n",
      "   [ 0.6910526  -0.65649116 -0.5823141 ]]\n",
      "\n",
      "  [[ 0.6587107  -0.8993863  -0.73738986]\n",
      "   [-0.43224362  0.40781993  1.278308  ]\n",
      "   [ 0.45524415 -0.5450797   0.68063545]\n",
      "   [-1.8556758  -0.29843184 -0.8459964 ]]]] \n",
      "\n",
      "Random input tensor after being processd: \n",
      " [[-0.03911868 -0.06983073 -0.00998169]] \n",
      "\n",
      "The shape of the tensor: (1, 4, 4, 3) \n",
      "The shape of the vector: (1, 3)\n"
     ]
    }
   ],
   "source": [
    "# Define the input shape\n",
    "input_shape = (1, 4, 4, 3)\n",
    "\n",
    "# Create a random tensor\n",
    "tf.random.set_seed = 42\n",
    "input_tensor = tf.random.normal(input_shape)\n",
    "print(f\"Random input tensor: \\n {input_tensor} \\n\")\n",
    "\n",
    "# Pass the random tensor through a global average pooling 2D layer\n",
    "global_average_pooled_tensor = tf.keras.layers.GlobalAveragePooling2D()(input_tensor)\n",
    "print(f\"Random input tensor after being processd: \\n {global_average_pooled_tensor} \\n\")\n",
    "\n",
    "print(f\"The shape of the tensor: {input_tensor.shape} \\nThe shape of the vector: {global_average_pooled_tensor.shape}\")"
   ]
  },
  {
   "cell_type": "markdown",
   "metadata": {},
   "source": [
    "The processed tensor became a feature vector (lowered the dimensions to a 2D vector)"
   ]
  },
  {
   "cell_type": "code",
   "execution_count": 14,
   "metadata": {},
   "outputs": [
    {
     "data": {
      "text/plain": [
       "<tf.Tensor: shape=(1, 3), dtype=float32, numpy=array([[-0.03911868, -0.06983073, -0.00998169]], dtype=float32)>"
      ]
     },
     "execution_count": 14,
     "metadata": {},
     "output_type": "execute_result"
    }
   ],
   "source": [
    "# Replicate the GlobalAveragePool2D layer\n",
    "tf.reduce_mean(input_tensor, axis=[1, 2])"
   ]
  },
  {
   "cell_type": "markdown",
   "metadata": {},
   "source": [
    "## Building model_1 with 1% of the data"
   ]
  },
  {
   "cell_type": "code",
   "execution_count": 15,
   "metadata": {},
   "outputs": [
    {
     "name": "stdout",
     "output_type": "stream",
     "text": [
      "There are 2 directories and 0 images in '10_food_classes_1_percent'.\n",
      "There are 10 directories and 0 images in '10_food_classes_1_percent\\test'.\n",
      "There are 0 directories and 250 images in '10_food_classes_1_percent\\test\\chicken_curry'.\n",
      "There are 0 directories and 250 images in '10_food_classes_1_percent\\test\\chicken_wings'.\n",
      "There are 0 directories and 250 images in '10_food_classes_1_percent\\test\\fried_rice'.\n",
      "There are 0 directories and 250 images in '10_food_classes_1_percent\\test\\grilled_salmon'.\n",
      "There are 0 directories and 250 images in '10_food_classes_1_percent\\test\\hamburger'.\n",
      "There are 0 directories and 250 images in '10_food_classes_1_percent\\test\\ice_cream'.\n",
      "There are 0 directories and 250 images in '10_food_classes_1_percent\\test\\pizza'.\n",
      "There are 0 directories and 250 images in '10_food_classes_1_percent\\test\\ramen'.\n",
      "There are 0 directories and 250 images in '10_food_classes_1_percent\\test\\steak'.\n",
      "There are 0 directories and 250 images in '10_food_classes_1_percent\\test\\sushi'.\n",
      "There are 10 directories and 0 images in '10_food_classes_1_percent\\train'.\n",
      "There are 0 directories and 7 images in '10_food_classes_1_percent\\train\\chicken_curry'.\n",
      "There are 0 directories and 7 images in '10_food_classes_1_percent\\train\\chicken_wings'.\n",
      "There are 0 directories and 7 images in '10_food_classes_1_percent\\train\\fried_rice'.\n",
      "There are 0 directories and 7 images in '10_food_classes_1_percent\\train\\grilled_salmon'.\n",
      "There are 0 directories and 7 images in '10_food_classes_1_percent\\train\\hamburger'.\n",
      "There are 0 directories and 7 images in '10_food_classes_1_percent\\train\\ice_cream'.\n",
      "There are 0 directories and 7 images in '10_food_classes_1_percent\\train\\pizza'.\n",
      "There are 0 directories and 7 images in '10_food_classes_1_percent\\train\\ramen'.\n",
      "There are 0 directories and 7 images in '10_food_classes_1_percent\\train\\steak'.\n",
      "There are 0 directories and 7 images in '10_food_classes_1_percent\\train\\sushi'.\n"
     ]
    }
   ],
   "source": [
    "# How many images are there?\n",
    "walk_through_dir(\"10_food_classes_1_percent\")"
   ]
  },
  {
   "cell_type": "code",
   "execution_count": 16,
   "metadata": {},
   "outputs": [
    {
     "name": "stdout",
     "output_type": "stream",
     "text": [
      "Found 70 files belonging to 10 classes.\n",
      "Found 2500 files belonging to 10 classes.\n"
     ]
    }
   ],
   "source": [
    "# Create the train and test path \n",
    "train_dir_1_percent = \"10_food_classes_1_percent/train\"\n",
    "test_dir = \"10_food_classes_1_percent/test\"\n",
    "\n",
    "train_data_1_percent = tf.keras.preprocessing.image_dataset_from_directory(train_dir_1_percent,\n",
    "                                                                          label_mode=\"categorical\",\n",
    "                                                                          image_size=IMG_SIZE,\n",
    "                                                                          batch_size=BATCH_SIZE) # batch is default\n",
    "\n",
    "test_data = tf.keras.preprocessing.image_dataset_from_directory(test_dir,\n",
    "                                                                label_mode=\"categorical\",\n",
    "                                                                image_size=IMG_SIZE)"
   ]
  },
  {
   "cell_type": "code",
   "execution_count": 17,
   "metadata": {},
   "outputs": [],
   "source": [
    "# Adding data augmentation right into the model\n",
    "import tensorflow as tf\n",
    "from tensorflow import keras\n",
    "from tensorflow.keras import layers"
   ]
  },
  {
   "cell_type": "code",
   "execution_count": 18,
   "metadata": {},
   "outputs": [],
   "source": [
    "# Create data augmentation stage with horizontal flipping, rotation, zooms etc\n",
    "data_augmentation = keras.Sequential([\n",
    "    layers.RandomFlip(\"horizontal\"),\n",
    "    layers.RandomRotation(0.2),\n",
    "    layers.RandomZoom(0.2),\n",
    "    layers.RandomHeight(0.2),\n",
    "    layers.RandomWidth(0.2),\n",
    "    # layers.Rescaling(1./255)\n",
    "], name=\"data_augmentation\")"
   ]
  },
  {
   "cell_type": "markdown",
   "metadata": {},
   "source": [
    "### Visualize the augmented layer"
   ]
  },
  {
   "cell_type": "code",
   "execution_count": 19,
   "metadata": {},
   "outputs": [
    {
     "data": {
      "image/png": "[encoded data removed]",
      "text/plain": [
       "<Figure size 432x288 with 1 Axes>"
      ]
     },
     "metadata": {
      "needs_background": "light"
     },
     "output_type": "display_data"
    },
    {
     "data": {
      "image/png": "[encoded data removed]",
      "text/plain": [
       "<Figure size 432x288 with 1 Axes>"
      ]
     },
     "metadata": {
      "needs_background": "light"
     },
     "output_type": "display_data"
    }
   ],
   "source": [
    "# View a random image\n",
    "import matplotlib.pyplot as plt\n",
    "import matplotlib.image as mpimg\n",
    "import os\n",
    "import random\n",
    "\n",
    "target_class = random.choice(train_data_1_percent.class_names) # choose a random class\n",
    "target_dir = \"10_food_classes_1_percent/train/\" + target_class # create the target directory\n",
    "\n",
    "random_image = random.choice(os.listdir(target_dir)) # choose a random image from target directory\n",
    "random_image_path = target_dir + \"/\" + random_image # create the choosen random image path\n",
    "\n",
    "# Read and plot in the random image\n",
    "img = mpimg.imread(random_image_path) # read in the chosen target image\n",
    "plt.imshow(img) # plot the target image\n",
    "plt.title(f\"Original random image from class: {target_class}\")\n",
    "plt.axis(False); # turn off the axes\n",
    "\n",
    "# Augment the image\n",
    "augmented_img = data_augmentation(tf.expand_dims(img, axis=0)) # data augmentation model requires shape (None, height, width, 3)\n",
    "plt.figure()\n",
    "plt.imshow(tf.squeeze(augmented_img)/255.) # requires normalization after augmentation\n",
    "plt.title(f\"Augmented random image from class: {target_class}\")\n",
    "plt.axis(False);"
   ]
  },
  {
   "cell_type": "markdown",
   "metadata": {},
   "source": [
    "Note: In the latest tensorflow versions, preprocessing the images only occurs during training of the model."
   ]
  },
  {
   "cell_type": "markdown",
   "metadata": {},
   "source": [
    "## Model 1: Feature extraction transfer learning on 1% of the data with data augmentation\n"
   ]
  },
  {
   "cell_type": "code",
   "execution_count": 20,
   "metadata": {},
   "outputs": [
    {
     "name": "stdout",
     "output_type": "stream",
     "text": [
      "Saving TensorBoard log files to: transfer_learning/1_percent_data_aug/20220504-213454\n",
      "Epoch 1/5\n",
      "3/3 [==============================] - 12s 3s/step - loss: 2.2827 - accuracy: 0.2000 - val_loss: 2.2593 - val_accuracy: 0.1734\n",
      "Epoch 2/5\n",
      "3/3 [==============================] - 5s 2s/step - loss: 2.0699 - accuracy: 0.2714 - val_loss: 2.1447 - val_accuracy: 0.2219\n",
      "Epoch 3/5\n",
      "3/3 [==============================] - 4s 2s/step - loss: 1.8450 - accuracy: 0.5000 - val_loss: 2.0293 - val_accuracy: 0.2781\n",
      "Epoch 4/5\n",
      "3/3 [==============================] - 4s 2s/step - loss: 1.7358 - accuracy: 0.5429 - val_loss: 1.9266 - val_accuracy: 0.3562\n",
      "Epoch 5/5\n",
      "3/3 [==============================] - 4s 2s/step - loss: 1.5262 - accuracy: 0.6714 - val_loss: 1.8305 - val_accuracy: 0.4187\n"
     ]
    }
   ],
   "source": [
    "# Setup the input shape and base model, freezing the base model layers\n",
    "input_shape = (224, 224, 3)\n",
    "base_model = tf.keras.applications.EfficientNetB0(include_top=False)\n",
    "base_model.trainable = False\n",
    "\n",
    "# Create input layer\n",
    "inputs = layers.Input(shape=input_shape, name=\"input layer\")\n",
    "\n",
    "# Add in data augmentation Sequential model as a layer\n",
    "x = data_augmentation(inputs)\n",
    "\n",
    "# Give base_model the inputs (after augmentation) and don't train it\n",
    "x = base_model(x, training=False)\n",
    "\n",
    "# Pool output features of the base model\n",
    "x = layers.GlobalAveragePooling2D(name=\"global_average_pooling_layer\")(x)\n",
    "\n",
    "# Put a dense layer on as the output\n",
    "outputs = layers.Dense(10, activation=\"softmax\", name=\"output_layer\")(x)\n",
    "\n",
    "# Make a model using the inputs and outputs\n",
    "model_1 = keras.Model(inputs, outputs)\n",
    "\n",
    "# Compile the model\n",
    "model_1.compile(loss=\"categorical_crossentropy\",\n",
    "                optimizer=tf.keras.optimizers.Adam(),\n",
    "                metrics=[\"accuracy\"])\n",
    "\n",
    "# Fit the model\n",
    "history_1 = model_1.fit(train_data_1_percent,\n",
    "                        epochs=5,\n",
    "                        steps_per_epoch=len(train_data_1_percent),\n",
    "                        validation_data=test_data,\n",
    "                        validation_steps=0.25*len(test_data),\n",
    "                        callbacks=[create_tensorboard_callback(dir_name=\"transfer_learning\", \n",
    "                        experiment_name=\"1_percent_data_aug\")])\n"
   ]
  },
  {
   "cell_type": "code",
   "execution_count": 21,
   "metadata": {},
   "outputs": [
    {
     "name": "stdout",
     "output_type": "stream",
     "text": [
      "Model: \"model_1\"\n",
      "_________________________________________________________________\n",
      " Layer (type)                Output Shape              Param #   \n",
      "=================================================================\n",
      " input layer (InputLayer)    [(None, 224, 224, 3)]     0         \n",
      "                                                                 \n",
      " data_augmentation (Sequenti  (None, None, None, 3)    0         \n",
      " al)                                                             \n",
      "                                                                 \n",
      " efficientnetb0 (Functional)  (None, None, None, 1280)  4049571  \n",
      "                                                                 \n",
      " global_average_pooling_laye  (None, 1280)             0         \n",
      " r (GlobalAveragePooling2D)                                      \n",
      "                                                                 \n",
      " output_layer (Dense)        (None, 10)                12810     \n",
      "                                                                 \n",
      "=================================================================\n",
      "Total params: 4,062,381\n",
      "Trainable params: 12,810\n",
      "Non-trainable params: 4,049,571\n",
      "_________________________________________________________________\n"
     ]
    }
   ],
   "source": [
    "model_1.summary()"
   ]
  },
  {
   "cell_type": "code",
   "execution_count": 22,
   "metadata": {},
   "outputs": [
    {
     "name": "stdout",
     "output_type": "stream",
     "text": [
      "79/79 [==============================] - 8s 104ms/step - loss: 1.8044 - accuracy: 0.4356\n"
     ]
    },
    {
     "data": {
      "text/plain": [
       "[1.8043512105941772, 0.43560001254081726]"
      ]
     },
     "execution_count": 22,
     "metadata": {},
     "output_type": "execute_result"
    }
   ],
   "source": [
    "# Evaluate on the full test data\n",
    "model_1.evaluate(test_data)"
   ]
  },
  {
   "cell_type": "code",
   "execution_count": 23,
   "metadata": {},
   "outputs": [
    {
     "data": {
      "image/png": "[encoded data removed]",
      "text/plain": [
       "<Figure size 432x288 with 1 Axes>"
      ]
     },
     "metadata": {
      "needs_background": "light"
     },
     "output_type": "display_data"
    },
    {
     "data": {
      "image/png": "[encoded data removed]",
      "text/plain": [
       "<Figure size 432x288 with 1 Axes>"
      ]
     },
     "metadata": {
      "needs_background": "light"
     },
     "output_type": "display_data"
    }
   ],
   "source": [
    "plot_loss_curves(history_1)"
   ]
  },
  {
   "cell_type": "markdown",
   "metadata": {},
   "source": [
    "## Model 2: Feature extraction transfer learning model with 10% of the data augmented"
   ]
  },
  {
   "cell_type": "code",
   "execution_count": 24,
   "metadata": {},
   "outputs": [],
   "source": [
    "# Set up the directory\n",
    "train_dir_10_percent = \"10_food_classes_10_percent/train\"\n",
    "test_dir = \"10_food_classes_10_percent/test\""
   ]
  },
  {
   "cell_type": "code",
   "execution_count": 25,
   "metadata": {},
   "outputs": [
    {
     "name": "stdout",
     "output_type": "stream",
     "text": [
      "Found 750 files belonging to 10 classes.\n",
      "Found 2500 files belonging to 10 classes.\n"
     ]
    }
   ],
   "source": [
    "# Set up the inputs\n",
    "import tensorflow as tf\n",
    "IMG_SIZE=(224,224)\n",
    "\n",
    "train_data_10_percent = tf.keras.preprocessing.image_dataset_from_directory(train_dir_10_percent,\n",
    "                                                                            label_mode=\"categorical\",\n",
    "                                                                            image_size=IMG_SIZE)\n",
    "\n",
    "test_data = tf.keras.preprocessing.image_dataset_from_directory(test_dir,\n",
    "                                                                label_mode=\"categorical\",\n",
    "                                                                image_size=IMG_SIZE)"
   ]
  },
  {
   "cell_type": "code",
   "execution_count": 26,
   "metadata": {},
   "outputs": [],
   "source": [
    "# Create model 2 with data augmentation built in \n",
    "from tensorflow.keras import layers\n",
    "from tensorflow.keras.models import Sequential\n",
    "\n",
    "# Build data augmentation layer\n",
    "data_augmentation = Sequential([\n",
    "    layers.RandomFlip(\"horizontal\"),\n",
    "    layers.RandomHeight(0.2),\n",
    "    layers.RandomWidth(0.2),\n",
    "    layers.RandomZoom(0.2),\n",
    "    layers.RandomRotation(0.2),\n",
    "    # layers.Rescaling(1/255) # this is efficient net so no need \n",
    "], name=\"data_augmentation\")"
   ]
  },
  {
   "cell_type": "code",
   "execution_count": 27,
   "metadata": {},
   "outputs": [],
   "source": [
    "# Setup the input shape to the model\n",
    "input_shape = (224, 224, 3)\n",
    "\n",
    "# Create a frozen base model (also called the backbone)\n",
    "base_model = tf.keras.applications.EfficientNetB0(include_top=False)\n",
    "base_model.trainable = False\n",
    "\n",
    "# Create the inputs and outputs \n",
    "inputs = layers.Input(shape=input_shape, name=\"input_layer\")\n",
    "x = data_augmentation(inputs) # aug training images\n",
    "x = base_model(x, training=False) # pass aug img to base model but keeps patterns unchanged for layer and batch layers\n",
    "x = layers.GlobalAveragePooling2D(name=\"global_average_pooling_2D\")(x)\n",
    "outputs = layers.Dense(10, activation=\"softmax\", name=\"output_layer\")(x)\n",
    "model_2 = tf.keras.Model(inputs, outputs)\n",
    "\n",
    "# Compile the model\n",
    "model_2.compile(loss=\"categorical_crossentropy\",\n",
    "                optimizer=tf.keras.optimizers.Adam(),\n",
    "                metrics=[\"accuracy\"])"
   ]
  },
  {
   "cell_type": "code",
   "execution_count": 28,
   "metadata": {},
   "outputs": [
    {
     "name": "stdout",
     "output_type": "stream",
     "text": [
      "Model: \"model_2\"\n",
      "_________________________________________________________________\n",
      " Layer (type)                Output Shape              Param #   \n",
      "=================================================================\n",
      " input_layer (InputLayer)    [(None, 224, 224, 3)]     0         \n",
      "                                                                 \n",
      " data_augmentation (Sequenti  (None, 224, 224, 3)      0         \n",
      " al)                                                             \n",
      "                                                                 \n",
      " efficientnetb0 (Functional)  (None, None, None, 1280)  4049571  \n",
      "                                                                 \n",
      " global_average_pooling_2D (  (None, 1280)             0         \n",
      " GlobalAveragePooling2D)                                         \n",
      "                                                                 \n",
      " output_layer (Dense)        (None, 10)                12810     \n",
      "                                                                 \n",
      "=================================================================\n",
      "Total params: 4,062,381\n",
      "Trainable params: 12,810\n",
      "Non-trainable params: 4,049,571\n",
      "_________________________________________________________________\n"
     ]
    }
   ],
   "source": [
    "model_2.summary()"
   ]
  },
  {
   "cell_type": "markdown",
   "metadata": {},
   "source": [
    "### Creating a ModelCheckpoint callback\n",
    "This callback intermediately saves the model (the full model or partially to come and start back off where it was left off)"
   ]
  },
  {
   "cell_type": "code",
   "execution_count": 29,
   "metadata": {},
   "outputs": [],
   "source": [
    "# Set checkpoint path\n",
    "checkpoint_path = \"10_percent_model_checkpoints_weights/checkpoint.ckpt\"\n",
    "\n",
    "# Create a ModelCheckpoint callback that saves the model\n",
    "checkpoint_callback = tf.keras.callbacks.ModelCheckpoint(filepath=checkpoint_path,\n",
    "                                   save_weights_only=True,\n",
    "                                   save_best=False,\n",
    "                                   save_freq=\"epoch\",\n",
    "                                   verbose=1)"
   ]
  },
  {
   "cell_type": "code",
   "execution_count": 30,
   "metadata": {},
   "outputs": [
    {
     "name": "stdout",
     "output_type": "stream",
     "text": [
      "Saving TensorBoard log files to: transfer_learning/10_percent_data_aug/20220504-213535\n",
      "Epoch 1/5\n",
      "24/24 [==============================] - ETA: 0s - loss: 2.0333 - accuracy: 0.3320\n",
      "Epoch 1: saving model to 10_percent_model_checkpoints_weights\\checkpoint.ckpt\n",
      "24/24 [==============================] - 25s 784ms/step - loss: 2.0333 - accuracy: 0.3320 - val_loss: 1.4802 - val_accuracy: 0.6546\n",
      "Epoch 2/5\n",
      "24/24 [==============================] - ETA: 0s - loss: 1.3617 - accuracy: 0.6533\n",
      "Epoch 2: saving model to 10_percent_model_checkpoints_weights\\checkpoint.ckpt\n",
      "24/24 [==============================] - 14s 582ms/step - loss: 1.3617 - accuracy: 0.6533 - val_loss: 1.0613 - val_accuracy: 0.7368\n",
      "Epoch 3/5\n",
      "24/24 [==============================] - ETA: 0s - loss: 1.0808 - accuracy: 0.7387\n",
      "Epoch 3: saving model to 10_percent_model_checkpoints_weights\\checkpoint.ckpt\n",
      "24/24 [==============================] - 12s 495ms/step - loss: 1.0808 - accuracy: 0.7387 - val_loss: 0.8355 - val_accuracy: 0.7993\n",
      "Epoch 4/5\n",
      "24/24 [==============================] - ETA: 0s - loss: 0.9108 - accuracy: 0.7667\n",
      "Epoch 4: saving model to 10_percent_model_checkpoints_weights\\checkpoint.ckpt\n",
      "24/24 [==============================] - 14s 582ms/step - loss: 0.9108 - accuracy: 0.7667 - val_loss: 0.7717 - val_accuracy: 0.7911\n",
      "Epoch 5/5\n",
      "24/24 [==============================] - ETA: 0s - loss: 0.8082 - accuracy: 0.7960\n",
      "Epoch 5: saving model to 10_percent_model_checkpoints_weights\\checkpoint.ckpt\n",
      "24/24 [==============================] - 13s 559ms/step - loss: 0.8082 - accuracy: 0.7960 - val_loss: 0.6887 - val_accuracy: 0.8043\n"
     ]
    }
   ],
   "source": [
    "# Fit the model saving checkpoints every epoch\n",
    "initial_epochs=5\n",
    "\n",
    "history_2 = model_2.fit(train_data_10_percent,\n",
    "                        epochs=initial_epochs,\n",
    "                        steps_per_epoch=len(train_data_10_percent),\n",
    "                        validation_data=test_data,\n",
    "                        validation_steps=int(0.25*len(test_data)),\n",
    "                        callbacks=[create_tensorboard_callback(dir_name=\"transfer_learning\",\n",
    "                                        experiment_name=\"10_percent_data_aug\"),\n",
    "                                        checkpoint_callback])"
   ]
  },
  {
   "cell_type": "code",
   "execution_count": 31,
   "metadata": {},
   "outputs": [
    {
     "name": "stdout",
     "output_type": "stream",
     "text": [
      "79/79 [==============================] - 8s 104ms/step - loss: 0.6122 - accuracy: 0.8452\n"
     ]
    },
    {
     "data": {
      "text/plain": [
       "[0.6121900081634521, 0.8452000021934509]"
      ]
     },
     "execution_count": 31,
     "metadata": {},
     "output_type": "execute_result"
    }
   ],
   "source": [
    "model_0.evaluate(test_data)"
   ]
  },
  {
   "cell_type": "code",
   "execution_count": 32,
   "metadata": {},
   "outputs": [
    {
     "name": "stdout",
     "output_type": "stream",
     "text": [
      "79/79 [==============================] - 8s 103ms/step - loss: 0.6991 - accuracy: 0.8080\n"
     ]
    },
    {
     "data": {
      "text/plain": [
       "[0.699148952960968, 0.8080000281333923]"
      ]
     },
     "execution_count": 32,
     "metadata": {},
     "output_type": "execute_result"
    }
   ],
   "source": [
    "# Check model_2 results on all the test data\n",
    "results_10_percent_data_aug = model_2.evaluate(test_data)\n",
    "results_10_percent_data_aug"
   ]
  },
  {
   "cell_type": "code",
   "execution_count": 33,
   "metadata": {},
   "outputs": [
    {
     "data": {
      "image/png": "[encoded data removed]",
      "text/plain": [
       "<Figure size 432x288 with 1 Axes>"
      ]
     },
     "metadata": {
      "needs_background": "light"
     },
     "output_type": "display_data"
    },
    {
     "data": {
      "image/png": "[encoded data removed]",
      "text/plain": [
       "<Figure size 432x288 with 1 Axes>"
      ]
     },
     "metadata": {
      "needs_background": "light"
     },
     "output_type": "display_data"
    }
   ],
   "source": [
    "plot_loss_curves(history_2)"
   ]
  },
  {
   "cell_type": "markdown",
   "metadata": {},
   "source": [
    "### Loading in a checkpointed weights\n",
    "Loading in the checkpointed weights returns a model to a specific checkpoint"
   ]
  },
  {
   "cell_type": "code",
   "execution_count": 34,
   "metadata": {},
   "outputs": [
    {
     "data": {
      "text/plain": [
       "<tensorflow.python.training.tracking.util.CheckpointLoadStatus at 0x18b7ecad1c0>"
      ]
     },
     "execution_count": 34,
     "metadata": {},
     "output_type": "execute_result"
    }
   ],
   "source": [
    "# Load in saved model weights and evaluate model\n",
    "model_2.load_weights(checkpoint_path)"
   ]
  },
  {
   "cell_type": "code",
   "execution_count": 35,
   "metadata": {},
   "outputs": [
    {
     "name": "stdout",
     "output_type": "stream",
     "text": [
      "79/79 [==============================] - 8s 103ms/step - loss: 0.6991 - accuracy: 0.8080\n"
     ]
    }
   ],
   "source": [
    "loaded_weights_model_results = model_2.evaluate(test_data)"
   ]
  },
  {
   "cell_type": "code",
   "execution_count": 36,
   "metadata": {},
   "outputs": [
    {
     "data": {
      "text/plain": [
       "array([ True,  True])"
      ]
     },
     "execution_count": 36,
     "metadata": {},
     "output_type": "execute_result"
    }
   ],
   "source": [
    "# Check to see if the loaded model results are very close to the previous non-loaded results\n",
    "import numpy as np\n",
    "np.isclose(np.array(loaded_weights_model_results), np.array(results_10_percent_data_aug))"
   ]
  },
  {
   "cell_type": "code",
   "execution_count": 37,
   "metadata": {},
   "outputs": [
    {
     "name": "stdout",
     "output_type": "stream",
     "text": [
      "[0. 0.]\n"
     ]
    }
   ],
   "source": [
    "# Check the difference between the two results\n",
    "print(np.array(loaded_weights_model_results)-np.array(results_10_percent_data_aug))"
   ]
  },
  {
   "cell_type": "markdown",
   "metadata": {},
   "source": [
    "## Model 3: Feature extracting with 10% of the data, augmentation and fine-tuning"
   ]
  },
  {
   "cell_type": "code",
   "execution_count": 38,
   "metadata": {},
   "outputs": [
    {
     "data": {
      "text/plain": [
       "[<keras.engine.input_layer.InputLayer at 0x18b7ea79700>,\n",
       " <keras.engine.sequential.Sequential at 0x18b7ea3a9a0>,\n",
       " <keras.engine.functional.Functional at 0x18b7ed5d8e0>,\n",
       " <keras.layers.pooling.GlobalAveragePooling2D at 0x18b7ea79760>,\n",
       " <keras.layers.core.dense.Dense at 0x18b189b1e80>]"
      ]
     },
     "execution_count": 38,
     "metadata": {},
     "output_type": "execute_result"
    }
   ],
   "source": [
    "# Layers in loaded model\n",
    "model_2.layers"
   ]
  },
  {
   "cell_type": "code",
   "execution_count": 39,
   "metadata": {},
   "outputs": [
    {
     "name": "stdout",
     "output_type": "stream",
     "text": [
      "<keras.engine.input_layer.InputLayer object at 0x0000018B7EA79700> True\n",
      "<keras.engine.sequential.Sequential object at 0x0000018B7EA3A9A0> True\n",
      "<keras.engine.functional.Functional object at 0x0000018B7ED5D8E0> False\n",
      "<keras.layers.pooling.GlobalAveragePooling2D object at 0x0000018B7EA79760> True\n",
      "<keras.layers.core.dense.Dense object at 0x0000018B189B1E80> True\n"
     ]
    }
   ],
   "source": [
    "# All the layers of the efficientnet model are not trainable as seen\n",
    "for layer in model_2.layers:\n",
    "    print(layer, layer.trainable)"
   ]
  },
  {
   "cell_type": "code",
   "execution_count": 40,
   "metadata": {},
   "outputs": [],
   "source": [
    "# To begin fine-tuning, let start by setting the last 10 layers of the base_model.trainable to true\n",
    "base_model.trainable = True\n",
    "\n",
    "# Freeze all layers except for the last 10\n",
    "for layer in base_model.layers[:-10]:\n",
    "    layer.trainable = False\n",
    "\n",
    "# Recompile (has to be done for every change)\n",
    "model_2.compile(loss=\"categorical_crossentropy\",\n",
    "                optimizer=tf.keras.optimizers.Adam(learning_rate=0.0001),\n",
    "                metrics=[\"accuracy\"])\n"
   ]
  },
  {
   "cell_type": "markdown",
   "metadata": {},
   "source": [
    "It is good practice to lower learning rate when fine-tuning.\n",
    "- Good rule of thumb is lower by at least 10x \n",
    "- Ulmfit paper talks about this more"
   ]
  },
  {
   "cell_type": "code",
   "execution_count": 41,
   "metadata": {},
   "outputs": [
    {
     "name": "stdout",
     "output_type": "stream",
     "text": [
      "0 input_3 False\n",
      "1 rescaling_2 False\n",
      "2 normalization_2 False\n",
      "3 stem_conv_pad False\n",
      "4 stem_conv False\n",
      "5 stem_bn False\n",
      "6 stem_activation False\n",
      "7 block1a_dwconv False\n",
      "8 block1a_bn False\n",
      "9 block1a_activation False\n",
      "10 block1a_se_squeeze False\n",
      "11 block1a_se_reshape False\n",
      "12 block1a_se_reduce False\n",
      "13 block1a_se_expand False\n",
      "14 block1a_se_excite False\n",
      "15 block1a_project_conv False\n",
      "16 block1a_project_bn False\n",
      "17 block2a_expand_conv False\n",
      "18 block2a_expand_bn False\n",
      "19 block2a_expand_activation False\n",
      "20 block2a_dwconv_pad False\n",
      "21 block2a_dwconv False\n",
      "22 block2a_bn False\n",
      "23 block2a_activation False\n",
      "24 block2a_se_squeeze False\n",
      "25 block2a_se_reshape False\n",
      "26 block2a_se_reduce False\n",
      "27 block2a_se_expand False\n",
      "28 block2a_se_excite False\n",
      "29 block2a_project_conv False\n",
      "30 block2a_project_bn False\n",
      "31 block2b_expand_conv False\n",
      "32 block2b_expand_bn False\n",
      "33 block2b_expand_activation False\n",
      "34 block2b_dwconv False\n",
      "35 block2b_bn False\n",
      "36 block2b_activation False\n",
      "37 block2b_se_squeeze False\n",
      "38 block2b_se_reshape False\n",
      "39 block2b_se_reduce False\n",
      "40 block2b_se_expand False\n",
      "41 block2b_se_excite False\n",
      "42 block2b_project_conv False\n",
      "43 block2b_project_bn False\n",
      "44 block2b_drop False\n",
      "45 block2b_add False\n",
      "46 block3a_expand_conv False\n",
      "47 block3a_expand_bn False\n",
      "48 block3a_expand_activation False\n",
      "49 block3a_dwconv_pad False\n",
      "50 block3a_dwconv False\n",
      "51 block3a_bn False\n",
      "52 block3a_activation False\n",
      "53 block3a_se_squeeze False\n",
      "54 block3a_se_reshape False\n",
      "55 block3a_se_reduce False\n",
      "56 block3a_se_expand False\n",
      "57 block3a_se_excite False\n",
      "58 block3a_project_conv False\n",
      "59 block3a_project_bn False\n",
      "60 block3b_expand_conv False\n",
      "61 block3b_expand_bn False\n",
      "62 block3b_expand_activation False\n",
      "63 block3b_dwconv False\n",
      "64 block3b_bn False\n",
      "65 block3b_activation False\n",
      "66 block3b_se_squeeze False\n",
      "67 block3b_se_reshape False\n",
      "68 block3b_se_reduce False\n",
      "69 block3b_se_expand False\n",
      "70 block3b_se_excite False\n",
      "71 block3b_project_conv False\n",
      "72 block3b_project_bn False\n",
      "73 block3b_drop False\n",
      "74 block3b_add False\n",
      "75 block4a_expand_conv False\n",
      "76 block4a_expand_bn False\n",
      "77 block4a_expand_activation False\n",
      "78 block4a_dwconv_pad False\n",
      "79 block4a_dwconv False\n",
      "80 block4a_bn False\n",
      "81 block4a_activation False\n",
      "82 block4a_se_squeeze False\n",
      "83 block4a_se_reshape False\n",
      "84 block4a_se_reduce False\n",
      "85 block4a_se_expand False\n",
      "86 block4a_se_excite False\n",
      "87 block4a_project_conv False\n",
      "88 block4a_project_bn False\n",
      "89 block4b_expand_conv False\n",
      "90 block4b_expand_bn False\n",
      "91 block4b_expand_activation False\n",
      "92 block4b_dwconv False\n",
      "93 block4b_bn False\n",
      "94 block4b_activation False\n",
      "95 block4b_se_squeeze False\n",
      "96 block4b_se_reshape False\n",
      "97 block4b_se_reduce False\n",
      "98 block4b_se_expand False\n",
      "99 block4b_se_excite False\n",
      "100 block4b_project_conv False\n",
      "101 block4b_project_bn False\n",
      "102 block4b_drop False\n",
      "103 block4b_add False\n",
      "104 block4c_expand_conv False\n",
      "105 block4c_expand_bn False\n",
      "106 block4c_expand_activation False\n",
      "107 block4c_dwconv False\n",
      "108 block4c_bn False\n",
      "109 block4c_activation False\n",
      "110 block4c_se_squeeze False\n",
      "111 block4c_se_reshape False\n",
      "112 block4c_se_reduce False\n",
      "113 block4c_se_expand False\n",
      "114 block4c_se_excite False\n",
      "115 block4c_project_conv False\n",
      "116 block4c_project_bn False\n",
      "117 block4c_drop False\n",
      "118 block4c_add False\n",
      "119 block5a_expand_conv False\n",
      "120 block5a_expand_bn False\n",
      "121 block5a_expand_activation False\n",
      "122 block5a_dwconv False\n",
      "123 block5a_bn False\n",
      "124 block5a_activation False\n",
      "125 block5a_se_squeeze False\n",
      "126 block5a_se_reshape False\n",
      "127 block5a_se_reduce False\n",
      "128 block5a_se_expand False\n",
      "129 block5a_se_excite False\n",
      "130 block5a_project_conv False\n",
      "131 block5a_project_bn False\n",
      "132 block5b_expand_conv False\n",
      "133 block5b_expand_bn False\n",
      "134 block5b_expand_activation False\n",
      "135 block5b_dwconv False\n",
      "136 block5b_bn False\n",
      "137 block5b_activation False\n",
      "138 block5b_se_squeeze False\n",
      "139 block5b_se_reshape False\n",
      "140 block5b_se_reduce False\n",
      "141 block5b_se_expand False\n",
      "142 block5b_se_excite False\n",
      "143 block5b_project_conv False\n",
      "144 block5b_project_bn False\n",
      "145 block5b_drop False\n",
      "146 block5b_add False\n",
      "147 block5c_expand_conv False\n",
      "148 block5c_expand_bn False\n",
      "149 block5c_expand_activation False\n",
      "150 block5c_dwconv False\n",
      "151 block5c_bn False\n",
      "152 block5c_activation False\n",
      "153 block5c_se_squeeze False\n",
      "154 block5c_se_reshape False\n",
      "155 block5c_se_reduce False\n",
      "156 block5c_se_expand False\n",
      "157 block5c_se_excite False\n",
      "158 block5c_project_conv False\n",
      "159 block5c_project_bn False\n",
      "160 block5c_drop False\n",
      "161 block5c_add False\n",
      "162 block6a_expand_conv False\n",
      "163 block6a_expand_bn False\n",
      "164 block6a_expand_activation False\n",
      "165 block6a_dwconv_pad False\n",
      "166 block6a_dwconv False\n",
      "167 block6a_bn False\n",
      "168 block6a_activation False\n",
      "169 block6a_se_squeeze False\n",
      "170 block6a_se_reshape False\n",
      "171 block6a_se_reduce False\n",
      "172 block6a_se_expand False\n",
      "173 block6a_se_excite False\n",
      "174 block6a_project_conv False\n",
      "175 block6a_project_bn False\n",
      "176 block6b_expand_conv False\n",
      "177 block6b_expand_bn False\n",
      "178 block6b_expand_activation False\n",
      "179 block6b_dwconv False\n",
      "180 block6b_bn False\n",
      "181 block6b_activation False\n",
      "182 block6b_se_squeeze False\n",
      "183 block6b_se_reshape False\n",
      "184 block6b_se_reduce False\n",
      "185 block6b_se_expand False\n",
      "186 block6b_se_excite False\n",
      "187 block6b_project_conv False\n",
      "188 block6b_project_bn False\n",
      "189 block6b_drop False\n",
      "190 block6b_add False\n",
      "191 block6c_expand_conv False\n",
      "192 block6c_expand_bn False\n",
      "193 block6c_expand_activation False\n",
      "194 block6c_dwconv False\n",
      "195 block6c_bn False\n",
      "196 block6c_activation False\n",
      "197 block6c_se_squeeze False\n",
      "198 block6c_se_reshape False\n",
      "199 block6c_se_reduce False\n",
      "200 block6c_se_expand False\n",
      "201 block6c_se_excite False\n",
      "202 block6c_project_conv False\n",
      "203 block6c_project_bn False\n",
      "204 block6c_drop False\n",
      "205 block6c_add False\n",
      "206 block6d_expand_conv False\n",
      "207 block6d_expand_bn False\n",
      "208 block6d_expand_activation False\n",
      "209 block6d_dwconv False\n",
      "210 block6d_bn False\n",
      "211 block6d_activation False\n",
      "212 block6d_se_squeeze False\n",
      "213 block6d_se_reshape False\n",
      "214 block6d_se_reduce False\n",
      "215 block6d_se_expand False\n",
      "216 block6d_se_excite False\n",
      "217 block6d_project_conv False\n",
      "218 block6d_project_bn False\n",
      "219 block6d_drop False\n",
      "220 block6d_add False\n",
      "221 block7a_expand_conv False\n",
      "222 block7a_expand_bn False\n",
      "223 block7a_expand_activation False\n",
      "224 block7a_dwconv False\n",
      "225 block7a_bn False\n",
      "226 block7a_activation False\n",
      "227 block7a_se_squeeze True\n",
      "228 block7a_se_reshape True\n",
      "229 block7a_se_reduce True\n",
      "230 block7a_se_expand True\n",
      "231 block7a_se_excite True\n",
      "232 block7a_project_conv True\n",
      "233 block7a_project_bn True\n",
      "234 top_conv True\n",
      "235 top_bn True\n",
      "236 top_activation True\n"
     ]
    }
   ],
   "source": [
    "# Check which layers are tunable (trainable)\n",
    "for layer_number, layer in enumerate(model_2.layers[2].layers):\n",
    "    print(layer_number, layer.name, layer.trainable)"
   ]
  },
  {
   "cell_type": "code",
   "execution_count": 42,
   "metadata": {},
   "outputs": [
    {
     "name": "stdout",
     "output_type": "stream",
     "text": [
      "12\n"
     ]
    }
   ],
   "source": [
    "# How many trainable variables are there?\n",
    "print(len(model_2.trainable_variables))"
   ]
  },
  {
   "cell_type": "code",
   "execution_count": 43,
   "metadata": {},
   "outputs": [
    {
     "name": "stdout",
     "output_type": "stream",
     "text": [
      "Saving TensorBoard log files to: transfer_learning/10_percent_fine_tune_last_10/20220504-213721\n",
      "Epoch 5/10\n",
      "24/24 [==============================] - 22s 625ms/step - loss: 0.7092 - accuracy: 0.8053 - val_loss: 0.5730 - val_accuracy: 0.8109\n",
      "Epoch 6/10\n",
      "24/24 [==============================] - 13s 539ms/step - loss: 0.5656 - accuracy: 0.8307 - val_loss: 0.5342 - val_accuracy: 0.8125\n",
      "Epoch 7/10\n",
      "24/24 [==============================] - 13s 541ms/step - loss: 0.4997 - accuracy: 0.8387 - val_loss: 0.5247 - val_accuracy: 0.8203\n",
      "Epoch 8/10\n",
      "24/24 [==============================] - 12s 492ms/step - loss: 0.4748 - accuracy: 0.8480 - val_loss: 0.5167 - val_accuracy: 0.8188\n",
      "Epoch 9/10\n",
      "24/24 [==============================] - 11s 468ms/step - loss: 0.4320 - accuracy: 0.8653 - val_loss: 0.4802 - val_accuracy: 0.8281\n",
      "Epoch 10/10\n",
      "24/24 [==============================] - 12s 485ms/step - loss: 0.4057 - accuracy: 0.8667 - val_loss: 0.4864 - val_accuracy: 0.8375\n"
     ]
    }
   ],
   "source": [
    "# Fine tune for another 5 epochs\n",
    "fine_tune_epochs = initial_epochs + 5\n",
    "\n",
    "# Refit the model same as model_2 with more trainable layers\n",
    "history_2_tuned = model_2.fit(train_data_10_percent,\n",
    "                        epochs=fine_tune_epochs,\n",
    "                        validation_data=test_data,\n",
    "                        validation_steps=0.25*len(test_data),\n",
    "                        initial_epoch=history_2.epoch[-1], # Start training from the last previous epoch\n",
    "                        callbacks=[create_tensorboard_callback(dir_name=\"transfer_learning\",\n",
    "                                                            experiment_name=\"10_percent_fine_tune_last_10\")])"
   ]
  },
  {
   "cell_type": "code",
   "execution_count": 44,
   "metadata": {},
   "outputs": [
    {
     "name": "stdout",
     "output_type": "stream",
     "text": [
      "79/79 [==============================] - 8s 104ms/step - loss: 0.5164 - accuracy: 0.8272\n"
     ]
    }
   ],
   "source": [
    "# Evaluate the fine-tune model (model_3 which is model_2 but fine-tuned)\n",
    "results_fine_tune_10_percent = model_2.evaluate(test_data)"
   ]
  },
  {
   "cell_type": "code",
   "execution_count": 45,
   "metadata": {},
   "outputs": [
    {
     "data": {
      "text/plain": [
       "[0.699148952960968, 0.8080000281333923]"
      ]
     },
     "execution_count": 45,
     "metadata": {},
     "output_type": "execute_result"
    }
   ],
   "source": [
    "# Gained around 1% from last time\n",
    "results_10_percent_data_aug"
   ]
  },
  {
   "cell_type": "code",
   "execution_count": 46,
   "metadata": {},
   "outputs": [
    {
     "data": {
      "image/png": "[encoded data removed]",
      "text/plain": [
       "<Figure size 432x288 with 1 Axes>"
      ]
     },
     "metadata": {
      "needs_background": "light"
     },
     "output_type": "display_data"
    },
    {
     "data": {
      "image/png": "[encoded data removed]",
      "text/plain": [
       "<Figure size 432x288 with 1 Axes>"
      ]
     },
     "metadata": {
      "needs_background": "light"
     },
     "output_type": "display_data"
    }
   ],
   "source": [
    "plot_loss_curves(history_2_tuned)"
   ]
  },
  {
   "cell_type": "markdown",
   "metadata": {},
   "source": [
    "The plot_loss_curves function works great with the models. However, now a function to compare the before and after of the fine-tuning would be more convinent"
   ]
  },
  {
   "cell_type": "code",
   "execution_count": 47,
   "metadata": {},
   "outputs": [],
   "source": [
    "# Creating a function to compare training and loss histories\n",
    "def compare_history(original_history, new_history, initial_epochs=5):\n",
    "    \"\"\" \n",
    "    Compares Two TensorFlow Histories\n",
    "    \"\"\"\n",
    "    # Get the original history measures\n",
    "    acc = original_history.history[\"accuracy\"]\n",
    "    loss = original_history.history[\"loss\"]\n",
    "\n",
    "    val_acc = original_history.history[\"val_accuracy\"]\n",
    "    val_loss = original_history.history[\"val_loss\"]\n",
    "\n",
    "    # Combine original history metrics with new_history metrics\n",
    "    total_acc = acc + new_history.history[\"accuracy\"]\n",
    "    total_loss = loss + new_history.history[\"loss\"]\n",
    "\n",
    "    total_val_acc = val_acc + new_history.history[\"val_accuracy\"]\n",
    "    total_val_loss = val_loss + new_history.history[\"val_loss\"]\n",
    "\n",
    "    # Prepare the plot\n",
    "    plt.figure(figsize=(8,8))\n",
    "    plt.subplot(2, 1, 1)\n",
    "    plt.plot(total_acc, label=\"Training Accuracy\")\n",
    "    plt.plot(total_val_acc, label=\"Val Accuracy\")\n",
    "    plt.plot([initial_epochs-1, initial_epochs-1], plt.ylim(), label=\"Start Fine Tuning\")\n",
    "    plt.legend(loc=\"lower right\")\n",
    "    plt.title(\"Training and validation accuracy\")\n",
    "\n",
    "    # Prepare the plot\n",
    "    plt.figure(figsize=(8,8))\n",
    "    plt.subplot(2, 1, 2)\n",
    "    plt.plot(total_loss, label=\"Training Loss\")\n",
    "    plt.plot(total_val_loss, label=\"Val Loss\")\n",
    "    plt.plot([initial_epochs-1, initial_epochs-1], plt.ylim(), label=\"Start Fine Tuning\")\n",
    "    plt.legend(loc=\"upper right\")\n",
    "    plt.title(\"Training and validation loss\")"
   ]
  },
  {
   "cell_type": "markdown",
   "metadata": {},
   "source": [
    "This can be used to compare future models before and after fine-tuning"
   ]
  },
  {
   "cell_type": "markdown",
   "metadata": {},
   "source": [
    "## Model 4: Feature extraction using the full data, data aug, fine tuning"
   ]
  },
  {
   "cell_type": "code",
   "execution_count": 48,
   "metadata": {},
   "outputs": [],
   "source": [
    "# Set up the path\n",
    "train_dir_all_data = \"10_food_classes_all_data/train\"\n",
    "test_dir = \"10_food_classes_all_data/test\""
   ]
  },
  {
   "cell_type": "code",
   "execution_count": 49,
   "metadata": {},
   "outputs": [
    {
     "name": "stdout",
     "output_type": "stream",
     "text": [
      "There are 2 directories and 0 images in '10_food_classes_all_data'.\n",
      "There are 10 directories and 0 images in '10_food_classes_all_data\\test'.\n",
      "There are 0 directories and 250 images in '10_food_classes_all_data\\test\\chicken_curry'.\n",
      "There are 0 directories and 250 images in '10_food_classes_all_data\\test\\chicken_wings'.\n",
      "There are 0 directories and 250 images in '10_food_classes_all_data\\test\\fried_rice'.\n",
      "There are 0 directories and 250 images in '10_food_classes_all_data\\test\\grilled_salmon'.\n",
      "There are 0 directories and 250 images in '10_food_classes_all_data\\test\\hamburger'.\n",
      "There are 0 directories and 250 images in '10_food_classes_all_data\\test\\ice_cream'.\n",
      "There are 0 directories and 250 images in '10_food_classes_all_data\\test\\pizza'.\n",
      "There are 0 directories and 250 images in '10_food_classes_all_data\\test\\ramen'.\n",
      "There are 0 directories and 250 images in '10_food_classes_all_data\\test\\steak'.\n",
      "There are 0 directories and 250 images in '10_food_classes_all_data\\test\\sushi'.\n",
      "There are 10 directories and 0 images in '10_food_classes_all_data\\train'.\n",
      "There are 0 directories and 750 images in '10_food_classes_all_data\\train\\chicken_curry'.\n",
      "There are 0 directories and 750 images in '10_food_classes_all_data\\train\\chicken_wings'.\n",
      "There are 0 directories and 750 images in '10_food_classes_all_data\\train\\fried_rice'.\n",
      "There are 0 directories and 750 images in '10_food_classes_all_data\\train\\grilled_salmon'.\n",
      "There are 0 directories and 750 images in '10_food_classes_all_data\\train\\hamburger'.\n",
      "There are 0 directories and 750 images in '10_food_classes_all_data\\train\\ice_cream'.\n",
      "There are 0 directories and 750 images in '10_food_classes_all_data\\train\\pizza'.\n",
      "There are 0 directories and 750 images in '10_food_classes_all_data\\train\\ramen'.\n",
      "There are 0 directories and 750 images in '10_food_classes_all_data\\train\\steak'.\n",
      "There are 0 directories and 750 images in '10_food_classes_all_data\\train\\sushi'.\n"
     ]
    }
   ],
   "source": [
    "# How many images are there?\n",
    "walk_through_dir(\"10_food_classes_all_data\")"
   ]
  },
  {
   "cell_type": "code",
   "execution_count": 50,
   "metadata": {},
   "outputs": [
    {
     "name": "stdout",
     "output_type": "stream",
     "text": [
      "Found 7500 files belonging to 10 classes.\n",
      "Found 2500 files belonging to 10 classes.\n"
     ]
    }
   ],
   "source": [
    "# Turn them to batches\n",
    "import tensorflow as tf\n",
    "IMG_SIZE = (224, 224)\n",
    "\n",
    "train_data_all = tf.keras.preprocessing.image_dataset_from_directory(train_dir_all_data,\n",
    "                                                                     label_mode=\"categorical\",\n",
    "                                                                     image_size=IMG_SIZE)\n",
    "\n",
    "test_data = tf.keras.preprocessing.image_dataset_from_directory(test_dir,\n",
    "                                                                     label_mode=\"categorical\",\n",
    "                                                                     image_size=IMG_SIZE)"
   ]
  },
  {
   "cell_type": "markdown",
   "metadata": {},
   "source": [
    "The loaded test data set is the same as the previous ones.\n",
    "Time to do the following:\n",
    "- Load weights from checkpoint (model_2), that way fine-tune from the same stage the 10% data model was fine-tuned from"
   ]
  },
  {
   "cell_type": "code",
   "execution_count": 51,
   "metadata": {},
   "outputs": [
    {
     "data": {
      "text/plain": [
       "<tensorflow.python.training.tracking.util.CheckpointLoadStatus at 0x18b9e846bb0>"
      ]
     },
     "execution_count": 51,
     "metadata": {},
     "output_type": "execute_result"
    }
   ],
   "source": [
    "model_2.load_weights(checkpoint_path)"
   ]
  },
  {
   "cell_type": "code",
   "execution_count": 52,
   "metadata": {},
   "outputs": [
    {
     "name": "stdout",
     "output_type": "stream",
     "text": [
      "79/79 [==============================] - 8s 104ms/step - loss: 0.6991 - accuracy: 0.8080\n"
     ]
    },
    {
     "data": {
      "text/plain": [
       "([0.6991490125656128, 0.8080000281333923],\n",
       " [0.699148952960968, 0.8080000281333923])"
      ]
     },
     "execution_count": 52,
     "metadata": {},
     "output_type": "execute_result"
    }
   ],
   "source": [
    "# Evaluate model 2 \n",
    "# Comparing it to the results of model 2, it is clear that the weights have been reverted\n",
    "# The layers remain trainable however.\n",
    "model_2.evaluate(test_data), results_10_percent_data_aug"
   ]
  },
  {
   "cell_type": "code",
   "execution_count": 53,
   "metadata": {},
   "outputs": [
    {
     "name": "stdout",
     "output_type": "stream",
     "text": [
      "0 input_3 False\n",
      "1 rescaling_2 False\n",
      "2 normalization_2 False\n",
      "3 stem_conv_pad False\n",
      "4 stem_conv False\n",
      "5 stem_bn False\n",
      "6 stem_activation False\n",
      "7 block1a_dwconv False\n",
      "8 block1a_bn False\n",
      "9 block1a_activation False\n",
      "10 block1a_se_squeeze False\n",
      "11 block1a_se_reshape False\n",
      "12 block1a_se_reduce False\n",
      "13 block1a_se_expand False\n",
      "14 block1a_se_excite False\n",
      "15 block1a_project_conv False\n",
      "16 block1a_project_bn False\n",
      "17 block2a_expand_conv False\n",
      "18 block2a_expand_bn False\n",
      "19 block2a_expand_activation False\n",
      "20 block2a_dwconv_pad False\n",
      "21 block2a_dwconv False\n",
      "22 block2a_bn False\n",
      "23 block2a_activation False\n",
      "24 block2a_se_squeeze False\n",
      "25 block2a_se_reshape False\n",
      "26 block2a_se_reduce False\n",
      "27 block2a_se_expand False\n",
      "28 block2a_se_excite False\n",
      "29 block2a_project_conv False\n",
      "30 block2a_project_bn False\n",
      "31 block2b_expand_conv False\n",
      "32 block2b_expand_bn False\n",
      "33 block2b_expand_activation False\n",
      "34 block2b_dwconv False\n",
      "35 block2b_bn False\n",
      "36 block2b_activation False\n",
      "37 block2b_se_squeeze False\n",
      "38 block2b_se_reshape False\n",
      "39 block2b_se_reduce False\n",
      "40 block2b_se_expand False\n",
      "41 block2b_se_excite False\n",
      "42 block2b_project_conv False\n",
      "43 block2b_project_bn False\n",
      "44 block2b_drop False\n",
      "45 block2b_add False\n",
      "46 block3a_expand_conv False\n",
      "47 block3a_expand_bn False\n",
      "48 block3a_expand_activation False\n",
      "49 block3a_dwconv_pad False\n",
      "50 block3a_dwconv False\n",
      "51 block3a_bn False\n",
      "52 block3a_activation False\n",
      "53 block3a_se_squeeze False\n",
      "54 block3a_se_reshape False\n",
      "55 block3a_se_reduce False\n",
      "56 block3a_se_expand False\n",
      "57 block3a_se_excite False\n",
      "58 block3a_project_conv False\n",
      "59 block3a_project_bn False\n",
      "60 block3b_expand_conv False\n",
      "61 block3b_expand_bn False\n",
      "62 block3b_expand_activation False\n",
      "63 block3b_dwconv False\n",
      "64 block3b_bn False\n",
      "65 block3b_activation False\n",
      "66 block3b_se_squeeze False\n",
      "67 block3b_se_reshape False\n",
      "68 block3b_se_reduce False\n",
      "69 block3b_se_expand False\n",
      "70 block3b_se_excite False\n",
      "71 block3b_project_conv False\n",
      "72 block3b_project_bn False\n",
      "73 block3b_drop False\n",
      "74 block3b_add False\n",
      "75 block4a_expand_conv False\n",
      "76 block4a_expand_bn False\n",
      "77 block4a_expand_activation False\n",
      "78 block4a_dwconv_pad False\n",
      "79 block4a_dwconv False\n",
      "80 block4a_bn False\n",
      "81 block4a_activation False\n",
      "82 block4a_se_squeeze False\n",
      "83 block4a_se_reshape False\n",
      "84 block4a_se_reduce False\n",
      "85 block4a_se_expand False\n",
      "86 block4a_se_excite False\n",
      "87 block4a_project_conv False\n",
      "88 block4a_project_bn False\n",
      "89 block4b_expand_conv False\n",
      "90 block4b_expand_bn False\n",
      "91 block4b_expand_activation False\n",
      "92 block4b_dwconv False\n",
      "93 block4b_bn False\n",
      "94 block4b_activation False\n",
      "95 block4b_se_squeeze False\n",
      "96 block4b_se_reshape False\n",
      "97 block4b_se_reduce False\n",
      "98 block4b_se_expand False\n",
      "99 block4b_se_excite False\n",
      "100 block4b_project_conv False\n",
      "101 block4b_project_bn False\n",
      "102 block4b_drop False\n",
      "103 block4b_add False\n",
      "104 block4c_expand_conv False\n",
      "105 block4c_expand_bn False\n",
      "106 block4c_expand_activation False\n",
      "107 block4c_dwconv False\n",
      "108 block4c_bn False\n",
      "109 block4c_activation False\n",
      "110 block4c_se_squeeze False\n",
      "111 block4c_se_reshape False\n",
      "112 block4c_se_reduce False\n",
      "113 block4c_se_expand False\n",
      "114 block4c_se_excite False\n",
      "115 block4c_project_conv False\n",
      "116 block4c_project_bn False\n",
      "117 block4c_drop False\n",
      "118 block4c_add False\n",
      "119 block5a_expand_conv False\n",
      "120 block5a_expand_bn False\n",
      "121 block5a_expand_activation False\n",
      "122 block5a_dwconv False\n",
      "123 block5a_bn False\n",
      "124 block5a_activation False\n",
      "125 block5a_se_squeeze False\n",
      "126 block5a_se_reshape False\n",
      "127 block5a_se_reduce False\n",
      "128 block5a_se_expand False\n",
      "129 block5a_se_excite False\n",
      "130 block5a_project_conv False\n",
      "131 block5a_project_bn False\n",
      "132 block5b_expand_conv False\n",
      "133 block5b_expand_bn False\n",
      "134 block5b_expand_activation False\n",
      "135 block5b_dwconv False\n",
      "136 block5b_bn False\n",
      "137 block5b_activation False\n",
      "138 block5b_se_squeeze False\n",
      "139 block5b_se_reshape False\n",
      "140 block5b_se_reduce False\n",
      "141 block5b_se_expand False\n",
      "142 block5b_se_excite False\n",
      "143 block5b_project_conv False\n",
      "144 block5b_project_bn False\n",
      "145 block5b_drop False\n",
      "146 block5b_add False\n",
      "147 block5c_expand_conv False\n",
      "148 block5c_expand_bn False\n",
      "149 block5c_expand_activation False\n",
      "150 block5c_dwconv False\n",
      "151 block5c_bn False\n",
      "152 block5c_activation False\n",
      "153 block5c_se_squeeze False\n",
      "154 block5c_se_reshape False\n",
      "155 block5c_se_reduce False\n",
      "156 block5c_se_expand False\n",
      "157 block5c_se_excite False\n",
      "158 block5c_project_conv False\n",
      "159 block5c_project_bn False\n",
      "160 block5c_drop False\n",
      "161 block5c_add False\n",
      "162 block6a_expand_conv False\n",
      "163 block6a_expand_bn False\n",
      "164 block6a_expand_activation False\n",
      "165 block6a_dwconv_pad False\n",
      "166 block6a_dwconv False\n",
      "167 block6a_bn False\n",
      "168 block6a_activation False\n",
      "169 block6a_se_squeeze False\n",
      "170 block6a_se_reshape False\n",
      "171 block6a_se_reduce False\n",
      "172 block6a_se_expand False\n",
      "173 block6a_se_excite False\n",
      "174 block6a_project_conv False\n",
      "175 block6a_project_bn False\n",
      "176 block6b_expand_conv False\n",
      "177 block6b_expand_bn False\n",
      "178 block6b_expand_activation False\n",
      "179 block6b_dwconv False\n",
      "180 block6b_bn False\n",
      "181 block6b_activation False\n",
      "182 block6b_se_squeeze False\n",
      "183 block6b_se_reshape False\n",
      "184 block6b_se_reduce False\n",
      "185 block6b_se_expand False\n",
      "186 block6b_se_excite False\n",
      "187 block6b_project_conv False\n",
      "188 block6b_project_bn False\n",
      "189 block6b_drop False\n",
      "190 block6b_add False\n",
      "191 block6c_expand_conv False\n",
      "192 block6c_expand_bn False\n",
      "193 block6c_expand_activation False\n",
      "194 block6c_dwconv False\n",
      "195 block6c_bn False\n",
      "196 block6c_activation False\n",
      "197 block6c_se_squeeze False\n",
      "198 block6c_se_reshape False\n",
      "199 block6c_se_reduce False\n",
      "200 block6c_se_expand False\n",
      "201 block6c_se_excite False\n",
      "202 block6c_project_conv False\n",
      "203 block6c_project_bn False\n",
      "204 block6c_drop False\n",
      "205 block6c_add False\n",
      "206 block6d_expand_conv False\n",
      "207 block6d_expand_bn False\n",
      "208 block6d_expand_activation False\n",
      "209 block6d_dwconv False\n",
      "210 block6d_bn False\n",
      "211 block6d_activation False\n",
      "212 block6d_se_squeeze False\n",
      "213 block6d_se_reshape False\n",
      "214 block6d_se_reduce False\n",
      "215 block6d_se_expand False\n",
      "216 block6d_se_excite False\n",
      "217 block6d_project_conv False\n",
      "218 block6d_project_bn False\n",
      "219 block6d_drop False\n",
      "220 block6d_add False\n",
      "221 block7a_expand_conv False\n",
      "222 block7a_expand_bn False\n",
      "223 block7a_expand_activation False\n",
      "224 block7a_dwconv False\n",
      "225 block7a_bn False\n",
      "226 block7a_activation False\n",
      "227 block7a_se_squeeze True\n",
      "228 block7a_se_reshape True\n",
      "229 block7a_se_reduce True\n",
      "230 block7a_se_expand True\n",
      "231 block7a_se_excite True\n",
      "232 block7a_project_conv True\n",
      "233 block7a_project_bn True\n",
      "234 top_conv True\n",
      "235 top_bn True\n",
      "236 top_activation True\n"
     ]
    }
   ],
   "source": [
    "for layer_number, layer in enumerate(model_2.layers[2].layers):\n",
    "    print(layer_number, layer.name, layer.trainable)"
   ]
  },
  {
   "cell_type": "code",
   "execution_count": 54,
   "metadata": {},
   "outputs": [
    {
     "name": "stdout",
     "output_type": "stream",
     "text": [
      "Saving TensorBoard log files to: transfer_learning/full_10_classes_fine_tune_last_10/20220504-213903\n",
      "Epoch 5/10\n",
      "235/235 [==============================] - 87s 341ms/step - loss: 0.6902 - accuracy: 0.7811 - val_loss: 0.3808 - val_accuracy: 0.8766\n",
      "Epoch 6/10\n",
      "235/235 [==============================] - 70s 299ms/step - loss: 0.4738 - accuracy: 0.8449 - val_loss: 0.3806 - val_accuracy: 0.8750\n",
      "Epoch 7/10\n",
      "235/235 [==============================] - 58s 246ms/step - loss: 0.4037 - accuracy: 0.8719 - val_loss: 0.3352 - val_accuracy: 0.8906\n",
      "Epoch 8/10\n",
      "235/235 [==============================] - 62s 263ms/step - loss: 0.3396 - accuracy: 0.8861 - val_loss: 0.3470 - val_accuracy: 0.8828\n",
      "Epoch 9/10\n",
      "235/235 [==============================] - 56s 236ms/step - loss: 0.2900 - accuracy: 0.9027 - val_loss: 0.3133 - val_accuracy: 0.8969\n",
      "Epoch 10/10\n",
      "235/235 [==============================] - 50s 213ms/step - loss: 0.2544 - accuracy: 0.9152 - val_loss: 0.3185 - val_accuracy: 0.9000\n"
     ]
    }
   ],
   "source": [
    "# Compile\n",
    "model_2.compile(loss=\"categorical_crossentropy\",\n",
    "                optimizer=tf.keras.optimizers.Adam(),\n",
    "                metrics=[\"accuracy\"])\n",
    "\n",
    "fine_tune_epochs= initial_epochs + 5\n",
    "# Fit the model\n",
    "history_fine_10_classes_full = model_2.fit(train_data_all,\n",
    "                                           epochs=fine_tune_epochs,\n",
    "                                           initial_epoch=history_2.epoch[-1],\n",
    "                                           validation_data=test_data,\n",
    "                                           validation_steps=0.25*len(test_data),\n",
    "                                           callbacks=[create_tensorboard_callback(dir_name=\"transfer_learning\",\n",
    "                                                                                experiment_name=\"full_10_classes_fine_tune_last_10\")])"
   ]
  },
  {
   "cell_type": "code",
   "execution_count": 55,
   "metadata": {},
   "outputs": [
    {
     "name": "stdout",
     "output_type": "stream",
     "text": [
      "79/79 [==============================] - 9s 103ms/step - loss: 0.3290 - accuracy: 0.8956\n"
     ]
    }
   ],
   "source": [
    "# Evaluate the model\n",
    "results_fine_tune_full_data = model_2.evaluate(test_data)"
   ]
  },
  {
   "cell_type": "code",
   "execution_count": 56,
   "metadata": {},
   "outputs": [
    {
     "data": {
      "image/png": "[encoded data removed]",
      "text/plain": [
       "<Figure size 576x576 with 1 Axes>"
      ]
     },
     "metadata": {
      "needs_background": "light"
     },
     "output_type": "display_data"
    },
    {
     "data": {
      "image/png": "[encoded data removed]",
      "text/plain": [
       "<Figure size 576x576 with 1 Axes>"
      ]
     },
     "metadata": {
      "needs_background": "light"
     },
     "output_type": "display_data"
    }
   ],
   "source": [
    "# How did the fine-tuning go?\n",
    "compare_history(history_2,history_fine_10_classes_full)"
   ]
  },
  {
   "cell_type": "markdown",
   "metadata": {},
   "source": [
    "### Viewing the experiment data on TensorBoard"
   ]
  },
  {
   "cell_type": "markdown",
   "metadata": {},
   "source": [
    "- View tensorboard logs of transfer learning modelling \n",
    "https://tensorboard.dev/experiment/LLGrsrdDSwu4gKc4k0ZsAw/\n",
    "\n",
    "- tensorboard dev upload --logdir \"./transfer_learning\" --name \"Transfer Learning Experiment with 10 Food Types\" --description \"A series of different transfer learning experiments with different data volumes and fine-tuning\" --one_shot"
   ]
  },
  {
   "cell_type": "markdown",
   "metadata": {},
   "source": []
  }
 ],
 "metadata": {
  "interpreter": {
   "hash": "9b432319b1b054266bcdf59eb764237d3d3272012fbf9a2e21780dc801e4d991"
  },
  "kernelspec": {
   "display_name": "Python 3.9.12 ('tf')",
   "language": "python",
   "name": "python3"
  },
  "language_info": {
   "codemirror_mode": {
    "name": "ipython",
    "version": 3
   },
   "file_extension": ".py",
   "mimetype": "text/x-python",
   "name": "python",
   "nbconvert_exporter": "python",
   "pygments_lexer": "ipython3",
   "version": "3.9.12"
  },
  "orig_nbformat": 4
 },
 "nbformat": 4,
 "nbformat_minor": 2
}
