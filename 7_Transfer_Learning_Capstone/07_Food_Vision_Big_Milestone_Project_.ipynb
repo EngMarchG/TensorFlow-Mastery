{
  "cells": [
    {
      "cell_type": "markdown",
      "metadata": {
        "id": "wDnyHhlFzQDd"
      },
      "source": [
        "# Milestone Project 1: Food Vision Big\n",
        "This project is done on colab since the dataset filesize is quite big (5 gb)\n",
        "\n",
        "Links (to compare to your model at the end):\n",
        "- [fine_tuned_mixed_precision_efficientnet_model](https://storage.googleapis.com/ztm_tf_course/food_vision/07_efficientnetb0_fine_tuned_101_classes_mixed_precision.zip)"
      ]
    },
    {
      "cell_type": "markdown",
      "metadata": {
        "id": "0nNYRIqFyq0t"
      },
      "source": [
        "### Check the Colab GPU and ensure it is a Tesla T4, in order to use mixed precision training"
      ]
    },
    {
      "cell_type": "code",
      "execution_count": 1,
      "metadata": {
        "colab": {
          "base_uri": "https://localhost:8080/"
        },
        "id": "SgLqoQIZyyIn",
        "outputId": "615f643b-e6bb-466a-e0e9-f15d717f4158"
      },
      "outputs": [
        {
          "name": "stdout",
          "output_type": "stream",
          "text": [
            "GPU 0: Tesla T4 (UUID: GPU-eaa6cfc8-4a81-2cb6-8ca8-239c5631fe10)\n"
          ]
        }
      ],
      "source": [
        "!nvidia-smi -L"
      ]
    },
    {
      "cell_type": "code",
      "execution_count": 2,
      "metadata": {
        "colab": {
          "base_uri": "https://localhost:8080/"
        },
        "id": "xuPZP69W1N8t",
        "outputId": "96f3c9dd-e581-473c-908a-fdabe2642871"
      },
      "outputs": [
        {
          "name": "stdout",
          "output_type": "stream",
          "text": [
            "--2022-05-08 14:59:47--  https://raw.githubusercontent.com/EngMarchG/TensorFlow-Mastery/master/helper/helperFunctions.py\n",
            "Resolving raw.githubusercontent.com (raw.githubusercontent.com)... 185.199.110.133, 185.199.108.133, 185.199.109.133, ...\n",
            "Connecting to raw.githubusercontent.com (raw.githubusercontent.com)|185.199.110.133|:443... connected.\n",
            "HTTP request sent, awaiting response... 200 OK\n",
            "Length: 11679 (11K) [text/plain]\n",
            "Saving to: ‘helperFunctions.py’\n",
            "\n",
            "\rhelperFunctions.py    0%[                    ]       0  --.-KB/s               \rhelperFunctions.py  100%[===================>]  11.41K  --.-KB/s    in 0s      \n",
            "\n",
            "2022-05-08 14:59:47 (78.9 MB/s) - ‘helperFunctions.py’ saved [11679/11679]\n",
            "\n"
          ]
        }
      ],
      "source": [
        "# Import the helper function\n",
        "# No need if it is already in your folder\n",
        "!wget https://raw.githubusercontent.com/EngMarchG/TensorFlow-Mastery/master/helper/helperFunctions.py"
      ]
    },
    {
      "cell_type": "code",
      "execution_count": 3,
      "metadata": {
        "id": "RTPS1ear1lLx"
      },
      "outputs": [],
      "source": [
        "# Import a few functionalities of the module\n",
        "# import sys\n",
        "# sys.path.append(\"./../helper/\")\n",
        "from helperFunctions import create_tensorboard_callback, plot_loss_curves, compare_historys"
      ]
    },
    {
      "cell_type": "markdown",
      "metadata": {
        "id": "iG1RriFU2ARI"
      },
      "source": [
        "# Use TensorFlow Datasets to Download Data"
      ]
    },
    {
      "cell_type": "code",
      "execution_count": 4,
      "metadata": {
        "id": "jlARKju17yWw"
      },
      "outputs": [],
      "source": [
        "# import TensorFlow Datasets\n",
        "import tensorflow_datasets as tfds "
      ]
    },
    {
      "cell_type": "code",
      "execution_count": 5,
      "metadata": {
        "colab": {
          "base_uri": "https://localhost:8080/"
        },
        "id": "G1iy58zb76jo",
        "outputId": "daabd292-4687-47eb-8ec0-f1cdc9e6d881"
      },
      "outputs": [
        {
          "name": "stdout",
          "output_type": "stream",
          "text": [
            "True\n"
          ]
        }
      ],
      "source": [
        "# List all available datasets\n",
        "datasets_list = tfds.list_builders() # get all available datasets in TFDS\n",
        "print(\"food101\" in datasets_list) # Checking if the target dataset is in the list"
      ]
    },
    {
      "cell_type": "code",
      "execution_count": 6,
      "metadata": {
        "colab": {
          "base_uri": "https://localhost:8080/",
          "height": 299,
          "referenced_widgets": [
            "4e0d2c977d184d8b93507a29139bcea0",
            "bf54c21b457d4a7aac2b47ce4aed3f08",
            "acf37a81b7bb400bb85be6ff84db3ffc",
            "b629d261773a41e1a34b806e7e9f95dc",
            "2d86dfbda55f4f5fafc0d3804e930a45",
            "33bef2d6a7614f62b064006f94d40ac2",
            "440bde191380425e95385b12bbbc7ce9",
            "39f9996d96114a41aff37094e7b7fedf",
            "7f5dd5a5c621484cae9bb5108863b33d",
            "f33d2d638dd845baaa3b5f0384ee9c52",
            "55404203d04d4491a73d35d64cfab074",
            "da489ed7324b41179eb0117d5be268f5",
            "b6fe24fcb3724fd2bb925787c49e0c58",
            "cac742f906ba414094e5b4adcd3fbf6d",
            "d96c4c13b01149b78eb20a0962b2c641",
            "50f54c36f1684ff9bfdbc86b8609f16d",
            "69b72acf36a44023ab231f9522718365",
            "9e8a1f20e08c41469ebbdada1ae910b1",
            "dc482ea50c944f628d56479a1bfbd761",
            "4b3f898487584a1e947ed55ad5f8c056",
            "6611035b972f490d9512fb3f1b14c136",
            "35140c5f552049b19003ab3ae3c26b45",
            "296752fd0ade414dbb15bc45576160e5",
            "048ef588dbba4505b87b3554cda5e2e8",
            "827914d419ab48628897779ff58449f2",
            "a2b99565439f467c9a03c8c56500c371",
            "fa142f3383874eec9eb4fe8f91d411b6",
            "d8f697bc58d94848b7e303e5c100aa10",
            "d337613e16d84530ab9466d84f4e9016",
            "00f01f98e3e44841b544ef5f0f34fb5f",
            "bbcecb0ffc3749c6a40a800e234cc4b4",
            "d0eb722694b14284b5e2cfbc40275732",
            "df235c08d98c4d2ba39a11c6892b6859",
            "8c7dba8be43b4381aff614467d221143",
            "a4240ea75b97488793e9be793d73af66",
            "7d32e5b124164d3c89be0a2cf3bdcda4",
            "3551bd73a46f4af4a8d5dd50fbbcd07b",
            "9cbc6021bbce4bd0916ada17845f0044",
            "d5b28de0c0ef4d5b9ce3403640aa3c28",
            "754ba11e1dd843269c025754243e38d5",
            "f0b91cd2cf6648c691a246f617e5d406",
            "743c092e7a10469db9e7ca0453d654b6",
            "e3a1ed16392d4eb1a90a435c537e96b3",
            "8862a0a19cf14026a402a6130c7178ee",
            "b6244309739b4e139e3625a493fde360",
            "9e309197afb44c5b82655058d4ea25bc",
            "37da6af502614dc8bb0dac805b0503dc",
            "c24cd00034ed4f7cb37cf32dfe009eed",
            "2721eae1d35440bca41e059274334fa1",
            "c7b47d492f1748d185a2b67cf784f466",
            "2536f32d06d14d2889c739037be58f4f",
            "c59fcb7f9d9e4e1185f1193e829f10b5",
            "58e3d5664eb740e6b96388ee1533ec62",
            "5e5c1627fbb84a53987739f6ccbfc577",
            "21b811c6721d418d985690fa2de7524e",
            "1c77218afec148b1b877b614b8ff4a2a",
            "ade9e87d1fd24eedbfcbbc18e15759db",
            "217ed34310a443ee9f9f04b1e8738e04",
            "e707dceb0ad84c9ebb2b363a30154ef8",
            "988db618462d49dc9760b135add9eb78",
            "14087cd1f1d7461baa64f6ab903d9c34",
            "753ed7ce8b16429c9fbe91ed4cc6824a",
            "a3cff8f7f66c4ffdb0cd2c52ddc82bab",
            "52e00882418b4d7993df1dc8746fded4",
            "4f53d4fd94494f85b7b8b59036e9c294",
            "991e446e02934729b61633ef3d4951a4",
            "3c93ac8fff3c44eca2d326cec86ebc1b",
            "071afdf76e71437fa25c79869690d24d",
            "0ad23b8e28824819b3de22895faf7260",
            "a54177907d41473489d03034378c9a03",
            "c296676d58944998b73351aeac3d9314",
            "9ed59e2f717248ef831786235df8f3b5",
            "b5303afb29984974adc78dd79fb558b8",
            "5391db933d134cc19700705c63177da6",
            "f64b5d3a939d47f0b066f806ffbd293c",
            "9b4acb03970a4145b8a28397432cd041",
            "004ee6f8e45348ed87f432782a9b2fbd"
          ]
        },
        "id": "Zos0Faas8Pi3",
        "outputId": "56766d90-29b4-4a9c-de56-69686839115f"
      },
      "outputs": [
        {
          "name": "stdout",
          "output_type": "stream",
          "text": [
            "\u001b[1mDownloading and preparing dataset food101/2.0.0 (download: 4.65 GiB, generated: Unknown size, total: 4.65 GiB) to /root/tensorflow_datasets/food101/2.0.0...\u001b[0m\n"
          ]
        },
        {
          "data": {
            "application/vnd.jupyter.widget-view+json": {
              "model_id": "4e0d2c977d184d8b93507a29139bcea0",
              "version_major": 2,
              "version_minor": 0
            },
            "text/plain": [
              "Dl Completed...: 0 url [00:00, ? url/s]"
            ]
          },
          "metadata": {},
          "output_type": "display_data"
        },
        {
          "data": {
            "application/vnd.jupyter.widget-view+json": {
              "model_id": "da489ed7324b41179eb0117d5be268f5",
              "version_major": 2,
              "version_minor": 0
            },
            "text/plain": [
              "Dl Size...: 0 MiB [00:00, ? MiB/s]"
            ]
          },
          "metadata": {},
          "output_type": "display_data"
        },
        {
          "data": {
            "application/vnd.jupyter.widget-view+json": {
              "model_id": "296752fd0ade414dbb15bc45576160e5",
              "version_major": 2,
              "version_minor": 0
            },
            "text/plain": [
              "Extraction completed...: 0 file [00:00, ? file/s]"
            ]
          },
          "metadata": {},
          "output_type": "display_data"
        },
        {
          "name": "stdout",
          "output_type": "stream",
          "text": [
            "\n",
            "\n",
            "\n"
          ]
        },
        {
          "data": {
            "application/vnd.jupyter.widget-view+json": {
              "model_id": "8c7dba8be43b4381aff614467d221143",
              "version_major": 2,
              "version_minor": 0
            },
            "text/plain": [
              "0 examples [00:00, ? examples/s]"
            ]
          },
          "metadata": {},
          "output_type": "display_data"
        },
        {
          "name": "stdout",
          "output_type": "stream",
          "text": [
            "Shuffling and writing examples to /root/tensorflow_datasets/food101/2.0.0.incompleteQ0M2VM/food101-train.tfrecord\n"
          ]
        },
        {
          "data": {
            "application/vnd.jupyter.widget-view+json": {
              "model_id": "b6244309739b4e139e3625a493fde360",
              "version_major": 2,
              "version_minor": 0
            },
            "text/plain": [
              "  0%|          | 0/75750 [00:00<?, ? examples/s]"
            ]
          },
          "metadata": {},
          "output_type": "display_data"
        },
        {
          "data": {
            "application/vnd.jupyter.widget-view+json": {
              "model_id": "1c77218afec148b1b877b614b8ff4a2a",
              "version_major": 2,
              "version_minor": 0
            },
            "text/plain": [
              "0 examples [00:00, ? examples/s]"
            ]
          },
          "metadata": {},
          "output_type": "display_data"
        },
        {
          "name": "stdout",
          "output_type": "stream",
          "text": [
            "Shuffling and writing examples to /root/tensorflow_datasets/food101/2.0.0.incompleteQ0M2VM/food101-validation.tfrecord\n"
          ]
        },
        {
          "data": {
            "application/vnd.jupyter.widget-view+json": {
              "model_id": "3c93ac8fff3c44eca2d326cec86ebc1b",
              "version_major": 2,
              "version_minor": 0
            },
            "text/plain": [
              "  0%|          | 0/25250 [00:00<?, ? examples/s]"
            ]
          },
          "metadata": {},
          "output_type": "display_data"
        },
        {
          "name": "stdout",
          "output_type": "stream",
          "text": [
            "\u001b[1mDataset food101 downloaded and prepared to /root/tensorflow_datasets/food101/2.0.0. Subsequent calls will reuse this data.\u001b[0m\n"
          ]
        }
      ],
      "source": [
        "# Load in the data\n",
        "(train_data, test_data), ds_info = tfds.load(name=\"food101\",\n",
        "                                             split=[\"train\", \"validation\"],\n",
        "                                             shuffle_files=True,\n",
        "                                             as_supervised=True, # Data gets returned as tuple (data, label)\n",
        "                                             with_info=True) # Downloads ds_info aka meta data"
      ]
    },
    {
      "cell_type": "markdown",
      "metadata": {
        "id": "BHAoqQhM-s8r"
      },
      "source": [
        "## Exploring the Food101 Data from Tensorflow DataSet\n",
        "\n",
        "To become one with the data, find:\n",
        "- Class names\n",
        "- The shape of input data\n",
        "The datatype of our input data\n",
        "- What the labels look like (one-hot encoded or strings)\n",
        "- Do the labels match up with the image"
      ]
    },
    {
      "cell_type": "code",
      "execution_count": 7,
      "metadata": {
        "colab": {
          "base_uri": "https://localhost:8080/"
        },
        "id": "iRxrJWnq9EcB",
        "outputId": "8290a246-d2ba-47da-99bd-29a1dd70e5e3"
      },
      "outputs": [
        {
          "data": {
            "text/plain": [
              "FeaturesDict({\n",
              "    'image': Image(shape=(None, None, 3), dtype=tf.uint8),\n",
              "    'label': ClassLabel(shape=(), dtype=tf.int64, num_classes=101),\n",
              "})"
            ]
          },
          "execution_count": 7,
          "metadata": {},
          "output_type": "execute_result"
        }
      ],
      "source": [
        "# Features of Food101 from TFDS\n",
        "ds_info.features"
      ]
    },
    {
      "cell_type": "code",
      "execution_count": 8,
      "metadata": {
        "colab": {
          "base_uri": "https://localhost:8080/"
        },
        "id": "ToT5q2hD-P7M",
        "outputId": "0cd27a5d-2f9d-4021-dea3-25f0d9b6a26a"
      },
      "outputs": [
        {
          "data": {
            "text/plain": [
              "['apple_pie',\n",
              " 'baby_back_ribs',\n",
              " 'baklava',\n",
              " 'beef_carpaccio',\n",
              " 'beef_tartare',\n",
              " 'beet_salad',\n",
              " 'beignets',\n",
              " 'bibimbap',\n",
              " 'bread_pudding',\n",
              " 'breakfast_burrito']"
            ]
          },
          "execution_count": 8,
          "metadata": {},
          "output_type": "execute_result"
        }
      ],
      "source": [
        "# Get the class name\n",
        "class_names = ds_info.features[\"label\"].names\n",
        "class_names[:10]"
      ]
    },
    {
      "cell_type": "code",
      "execution_count": 9,
      "metadata": {
        "colab": {
          "base_uri": "https://localhost:8080/"
        },
        "id": "msBJB77T-iNg",
        "outputId": "2b92278a-0eca-430f-abc5-c08a2e14b2be"
      },
      "outputs": [
        {
          "data": {
            "text/plain": [
              "<TakeDataset element_spec=(TensorSpec(shape=(None, None, 3), dtype=tf.uint8, name=None), TensorSpec(shape=(), dtype=tf.int64, name=None))>"
            ]
          },
          "execution_count": 9,
          "metadata": {},
          "output_type": "execute_result"
        }
      ],
      "source": [
        "# Take one sample of the train data\n",
        "train_one_sample = train_data.take(1) # Samples are in format (image_tensor, label)\n",
        "train_one_sample"
      ]
    },
    {
      "cell_type": "code",
      "execution_count": 10,
      "metadata": {
        "colab": {
          "base_uri": "https://localhost:8080/"
        },
        "id": "Y3d0Lt9e_Op9",
        "outputId": "07299e96-f2b4-4224-c510-2f652917241e"
      },
      "outputs": [
        {
          "name": "stdout",
          "output_type": "stream",
          "text": [
            "\n",
            "  Image shape: (512, 512, 3)\n",
            "  Image datatype: <dtype: 'uint8'>\n",
            "  Target class from Food101 (tensor form): 16\n",
            "  Class name (str form): cheesecake \n"
          ]
        }
      ],
      "source": [
        "# Output info about the training sample\n",
        "for image, label in train_one_sample:\n",
        "  print(f\"\"\"\n",
        "  Image shape: {image.shape}\n",
        "  Image datatype: {image.dtype}\n",
        "  Target class from Food101 (tensor form): {label}\n",
        "  Class name (str form): {class_names[label.numpy()]} \"\"\")"
      ]
    },
    {
      "cell_type": "code",
      "execution_count": 11,
      "metadata": {
        "colab": {
          "base_uri": "https://localhost:8080/"
        },
        "id": "fAW9eSb-AKFe",
        "outputId": "87e9b8c1-baa8-47e6-a19b-38d6a346a1e8"
      },
      "outputs": [
        {
          "data": {
            "text/plain": [
              "<tf.Tensor: shape=(512, 512, 3), dtype=uint8, numpy=\n",
              "array([[[ 85,  84,  92],\n",
              "        [ 86,  85,  93],\n",
              "        [ 93,  92, 100],\n",
              "        ...,\n",
              "        [120, 196, 245],\n",
              "        [120, 198, 246],\n",
              "        [121, 199, 247]],\n",
              "\n",
              "       [[ 88,  88,  96],\n",
              "        [ 82,  82,  90],\n",
              "        [ 88,  88,  96],\n",
              "        ...,\n",
              "        [116, 192, 244],\n",
              "        [118, 195, 249],\n",
              "        [119, 196, 248]],\n",
              "\n",
              "       [[ 77,  80,  89],\n",
              "        [ 75,  78,  87],\n",
              "        [ 82,  86,  95],\n",
              "        ...,\n",
              "        [115, 189, 252],\n",
              "        [117, 192, 255],\n",
              "        [118, 194, 255]],\n",
              "\n",
              "       ...,\n",
              "\n",
              "       [[159, 166, 194],\n",
              "        [154, 161, 187],\n",
              "        [171, 178, 204],\n",
              "        ...,\n",
              "        [219, 216, 235],\n",
              "        [223, 220, 239],\n",
              "        [227, 226, 244]],\n",
              "\n",
              "       [[170, 179, 208],\n",
              "        [169, 179, 206],\n",
              "        [173, 183, 210],\n",
              "        ...,\n",
              "        [218, 217, 235],\n",
              "        [223, 222, 240],\n",
              "        [226, 227, 245]],\n",
              "\n",
              "       [[168, 177, 206],\n",
              "        [170, 179, 208],\n",
              "        [152, 162, 189],\n",
              "        ...,\n",
              "        [224, 223, 241],\n",
              "        [228, 229, 247],\n",
              "        [231, 232, 250]]], dtype=uint8)>"
            ]
          },
          "execution_count": 11,
          "metadata": {},
          "output_type": "execute_result"
        }
      ],
      "source": [
        "# What does the image tensor from TFDS Food101 look like?\n",
        "# Taking another sample the shapes are of different resolutions and unscaled\n",
        "image"
      ]
    },
    {
      "cell_type": "code",
      "execution_count": 12,
      "metadata": {
        "colab": {
          "base_uri": "https://localhost:8080/"
        },
        "id": "cilpF_qUAQ62",
        "outputId": "7bfea76b-f36e-4dc6-8872-aa83a9f99e84"
      },
      "outputs": [
        {
          "data": {
            "text/plain": [
              "(<tf.Tensor: shape=(), dtype=uint8, numpy=0>,\n",
              " <tf.Tensor: shape=(), dtype=uint8, numpy=255>)"
            ]
          },
          "execution_count": 12,
          "metadata": {},
          "output_type": "execute_result"
        }
      ],
      "source": [
        "# What are the min and max values of the image tensor?\n",
        "import tensorflow as tf\n",
        "tf.reduce_min(image), tf.reduce_max(image)"
      ]
    },
    {
      "cell_type": "markdown",
      "metadata": {
        "id": "nz64sC2LAnuH"
      },
      "source": [
        "Plot an image from the Dataset"
      ]
    },
    {
      "cell_type": "code",
      "execution_count": 13,
      "metadata": {
        "colab": {
          "base_uri": "https://localhost:8080/",
          "height": 444
        },
        "id": "mvWL5ZoYBC9n",
        "outputId": "4f6dd34e-a41c-4283-9e3f-ccab62859c44"
      },
      "outputs": [
        {
          "data": {
            "text/plain": [
              "<matplotlib.image.AxesImage at 0x7f6432708590>"
            ]
          },
          "execution_count": 13,
          "metadata": {},
          "output_type": "execute_result"
        },
        {
          "data": {
            "image/png": "[encoded data removed]",
            "text/plain": [
              "<Figure size 720x504 with 1 Axes>"
            ]
          },
          "metadata": {
            "needs_background": "light"
          },
          "output_type": "display_data"
        }
      ],
      "source": [
        "import matplotlib.pyplot as plt\n",
        "plt.figure(figsize=(10,7))\n",
        "plt.title(class_names[label.numpy()])\n",
        "plt.axis(False)\n",
        "plt.imshow(image)"
      ]
    },
    {
      "cell_type": "markdown",
      "metadata": {
        "id": "wtR5Vm-MBHJW"
      },
      "source": [
        "# Create preprocessing Functions for the data\n",
        "How the data currently is:\n",
        "- Type: 'uint8' datatyp\n",
        "- Comprised of different sized tensors\n",
        "- Unscaled\n",
        "\n",
        "What do models prefer:\n",
        "- Data in 'float32' dtype or mixed precision type 'float16 and float32'\n",
        "- Batch sizes need to be of the same image size\n",
        "- Scaled images (0 & 1)\n",
        "\n",
        "Rescaling won't be necessary in this case since EfficientNetBX will be used"
      ]
    },
    {
      "cell_type": "code",
      "execution_count": 14,
      "metadata": {
        "id": "dfbv-sJFCg1M"
      },
      "outputs": [],
      "source": [
        "# Make a function for preprocessing image\n",
        "def preprocessing_img(image, label, img_shape=224, scaler=False):\n",
        "  \"\"\"\n",
        "  Converts image datatypes to 'float32' and reshapes\n",
        "  image to [img_shape, img_shape, colour_channels]\n",
        "  scaler (Bool): scales the iamge if necessary (default false)\n",
        "  \"\"\"\n",
        "  image = tf.image.resize(image, [img_shape, img_shape]) # reshape target image\n",
        "  if scaler:\n",
        "    image = image/255\n",
        "  return tf.cast(image, tf.float32), label # returns (float32_image, label)"
      ]
    },
    {
      "cell_type": "code",
      "execution_count": 15,
      "metadata": {
        "colab": {
          "base_uri": "https://localhost:8080/"
        },
        "id": "f04yt2t3Dpbp",
        "outputId": "5a093662-4360-4889-ea70-93e16aae2e1f"
      },
      "outputs": [
        {
          "name": "stdout",
          "output_type": "stream",
          "text": [
            "Image before preprocessing: \n",
            " [[[ 85  84  92]\n",
            "  [ 86  85  93]\n",
            "  [ 93  92 100]\n",
            "  ...\n",
            "  [120 196 245]\n",
            "  [120 198 246]\n",
            "  [121 199 247]]\n",
            "\n",
            " [[ 88  88  96]\n",
            "  [ 82  82  90]\n",
            "  [ 88  88  96]\n",
            "  ...\n",
            "  [116 192 244]\n",
            "  [118 195 249]\n",
            "  [119 196 248]]]...m nShape: (512, 512, 3), \n",
            "Datatype: <dtype: 'uint8'>\n",
            "\n",
            "Image before preprocessing: \n",
            " [[[ 84.67857   84.321434  92.321434]\n",
            "  [ 87.19898   86.841835  94.841835]\n",
            "  [ 84.72959   84.581635  94.72449 ]\n",
            "  ...\n",
            "  [119.50503  194.93877  245.85202 ]\n",
            "  [114.974525 190.97452  241.90309 ]\n",
            "  [119.071465 196.4286   247.82652 ]]\n",
            "\n",
            " [[ 75.647964  84.21939   93.21939 ]\n",
            "  [ 71.45407   80.959175  89.959175]\n",
            "  [ 78.03061   87.20408   97.47449 ]\n",
            "  ...\n",
            "  [113.31632  182.62755  249.35715 ]\n",
            "  [106.57655  176.86227  245.4337  ]\n",
            "  [108.601944 179.9796   248.16833 ]]]...m nShape: (224, 224, 3), \n",
            "Datatype: <dtype: 'float32'>\n"
          ]
        }
      ],
      "source": [
        "# Preprocess a single sample image and check the outputs\n",
        "preprocessed_img = preprocessing_img(image, label)[0]\n",
        "print(f\"Image before preprocessing: \\n {image[:2]}...m nShape: {image.shape}, \\nDatatype: {image.dtype}\\n\")\n",
        "print(f\"Image before preprocessing: \\n {preprocessed_img[:2]}...m nShape: {preprocessed_img.shape}, \\nDatatype: {preprocessed_img.dtype}\")"
      ]
    },
    {
      "cell_type": "markdown",
      "metadata": {
        "id": "-K8B1A3SETwZ"
      },
      "source": [
        "## Prepare batches \n",
        "Data input pipelines are recommended to run really fast\n",
        "Extra resources: www.tensorflow.org/guide"
      ]
    },
    {
      "cell_type": "code",
      "execution_count": 16,
      "metadata": {
        "id": "SzHgUsxIGD01"
      },
      "outputs": [],
      "source": [
        "# Map preprocessing function to training and (parallelize)\n",
        "train_data = train_data.map(map_func=preprocessing_img, num_parallel_calls=tf.data.AUTOTUNE)\n",
        "\n",
        "# Shuffle train_data and turn it into batches and prefetch it (load it faster)\n",
        "train_data = train_data.shuffle(buffer_size=1000).batch(batch_size=32).prefetch(buffer_size=tf.data.AUTOTUNE) # Stores data in memory for faster batching\n",
        "\n",
        "# Map preprocessing function to test data\n",
        "test_data = test_data.map(preprocessing_img, num_parallel_calls=tf.data.AUTOTUNE).batch(32).prefetch(tf.data.AUTOTUNE) # .cache if needed"
      ]
    },
    {
      "cell_type": "code",
      "execution_count": 17,
      "metadata": {
        "colab": {
          "base_uri": "https://localhost:8080/"
        },
        "id": "8Q8y3Ol-GUC-",
        "outputId": "f0ed6bc3-dfe8-4b0c-d49a-ae62cf484c19"
      },
      "outputs": [
        {
          "data": {
            "text/plain": [
              "(<PrefetchDataset element_spec=(TensorSpec(shape=(None, 224, 224, 3), dtype=tf.float32, name=None), TensorSpec(shape=(None,), dtype=tf.int64, name=None))>,\n",
              " <PrefetchDataset element_spec=(TensorSpec(shape=(None, 224, 224, 3), dtype=tf.float32, name=None), TensorSpec(shape=(None,), dtype=tf.int64, name=None))>)"
            ]
          },
          "execution_count": 17,
          "metadata": {},
          "output_type": "execute_result"
        }
      ],
      "source": [
        "train_data, test_data"
      ]
    },
    {
      "cell_type": "markdown",
      "metadata": {
        "id": "d2LyzLjdaONj"
      },
      "source": [
        "Maps the preprocessing function ('preprocess_img') across the training dataset, then shuffle a number of elements and batch them together. Finally, prepare new patches (prefetch), while the model is looking through (finding patterns) in the current batch."
      ]
    },
    {
      "cell_type": "markdown",
      "metadata": {
        "id": "VUbblDEsaw3u"
      },
      "source": [
        "## Create modelling callbacks\n",
        "\n",
        "Create a couple of callbacks to help out while the model trains\n",
        "- TensorBoard Callback to log training results (so it can be visalized later if needed)\n",
        "- ModelCheckPoint callback to save the model's progress after feature extraction"
      ]
    },
    {
      "cell_type": "code",
      "execution_count": 18,
      "metadata": {
        "id": "WHlQNR9rbj7n"
      },
      "outputs": [],
      "source": [
        "# Create a tensorboard callback (premade function will be imported)\n",
        "from helperFunctions import create_tensorboard_callback\n",
        "\n",
        "# Create ModelCheckpoint callback to save a model's progress during training\n",
        "checkpoint_path = \"model_checkpoint\"\n",
        "model_checkpoint = tf.keras.callbacks.ModelCheckpoint(checkpoint_path,\n",
        "                                                      monitor=\"val_acc\", # others like val_loss\n",
        "                                                      save_best_only=True,\n",
        "                                                      save_weights_only=True,\n",
        "                                                      verbose=0) # 0 doesn't print 1 prints 2 prints more stuff\n"
      ]
    },
    {
      "cell_type": "markdown",
      "metadata": {
        "id": "NNlecDK8kkQp"
      },
      "source": [
        "## Setup mixed precision training\n",
        "To understand the process read the following link: [Precision training](www.tensorflow.org/guide/mixed_precision)"
      ]
    },
    {
      "cell_type": "code",
      "execution_count": 19,
      "metadata": {
        "colab": {
          "base_uri": "https://localhost:8080/"
        },
        "id": "Ik9TP1N5knhC",
        "outputId": "d0e897fc-03a5-4689-da89-4f76941e6cd5"
      },
      "outputs": [
        {
          "name": "stdout",
          "output_type": "stream",
          "text": [
            "INFO:tensorflow:Mixed precision compatibility check (mixed_float16): OK\n",
            "Your GPU will likely run quickly with dtype policy mixed_float16 as it has compute capability of at least 7.0. Your GPU: Tesla T4, compute capability 7.5\n"
          ]
        },
        {
          "name": "stderr",
          "output_type": "stream",
          "text": [
            "INFO:tensorflow:Mixed precision compatibility check (mixed_float16): OK\n",
            "Your GPU will likely run quickly with dtype policy mixed_float16 as it has compute capability of at least 7.0. Your GPU: Tesla T4, compute capability 7.5\n"
          ]
        }
      ],
      "source": [
        "# Turn on mixed precision training\n",
        "from tensorflow.keras import mixed_precision\n",
        "mixed_precision.set_global_policy(\"mixed_float16\") # Set global policy to mixed precision"
      ]
    },
    {
      "cell_type": "code",
      "execution_count": 20,
      "metadata": {
        "colab": {
          "base_uri": "https://localhost:8080/"
        },
        "id": "azNgd-4jlbB-",
        "outputId": "0dd64949-0c9d-47b2-ba70-20a68a61fa3e"
      },
      "outputs": [
        {
          "data": {
            "text/plain": [
              "<Policy \"mixed_float16\">"
            ]
          },
          "execution_count": 20,
          "metadata": {},
          "output_type": "execute_result"
        }
      ],
      "source": [
        "mixed_precision.global_policy()"
      ]
    },
    {
      "cell_type": "markdown",
      "metadata": {
        "id": "xwmdxvBum5xO"
      },
      "source": [
        "## Building the feature extracting model"
      ]
    },
    {
      "cell_type": "code",
      "execution_count": 21,
      "metadata": {
        "id": "xL2tNArUnCkp"
      },
      "outputs": [],
      "source": [
        "from tensorflow.keras import layers"
      ]
    },
    {
      "cell_type": "code",
      "execution_count": 22,
      "metadata": {
        "colab": {
          "base_uri": "https://localhost:8080/"
        },
        "id": "mt7bhmKwt7Oq",
        "outputId": "7b12aa1b-9fa4-4add-e05a-a24a39c92283"
      },
      "outputs": [
        {
          "name": "stdout",
          "output_type": "stream",
          "text": [
            "Downloading data from https://storage.googleapis.com/keras-applications/efficientnetb0_notop.h5\n",
            "16711680/16705208 [==============================] - 0s 0us/step\n",
            "16719872/16705208 [==============================] - 0s 0us/step\n"
          ]
        }
      ],
      "source": [
        "# Create base model\n",
        "input_shape = (224, 224, 3)\n",
        "base_model = tf.keras.applications.EfficientNetB0(include_top=False)\n",
        "base_model.trainable = False\n",
        "\n",
        "# Create Functional model\n",
        "inputs = layers.Input(shape=input_shape, name=\"input_layer\")\n",
        "# x = preprocessing.Rescaling(1/255)(x)  # if rescaling was necessary\n",
        "x = base_model(inputs, training=False) \n",
        "x = layers.GlobalAveragePooling2D()(x)\n",
        "x = layers.Dense(len(class_names))(x)\n",
        "outputs = layers.Activation(\"softmax\", dtype=tf.float32, name=\"softmax_float32\")(x) \n",
        "# Only change is the activation outside to pass types\n",
        "model = tf.keras.Model(inputs, outputs)\n",
        "\n",
        "# Compile the model\n",
        "model.compile(loss=\"sparse_categorical_crossentropy\",\n",
        "              optimizer=tf.keras.optimizers.Adam(),\n",
        "              metrics=[\"accuracy\"])"
      ]
    },
    {
      "cell_type": "code",
      "execution_count": 23,
      "metadata": {
        "colab": {
          "base_uri": "https://localhost:8080/"
        },
        "id": "rLvIBcdkznnS",
        "outputId": "da286002-152b-4d6a-b128-23f2bc46862a"
      },
      "outputs": [
        {
          "name": "stdout",
          "output_type": "stream",
          "text": [
            "Model: \"model\"\n",
            "_________________________________________________________________\n",
            " Layer (type)                Output Shape              Param #   \n",
            "=================================================================\n",
            " input_layer (InputLayer)    [(None, 224, 224, 3)]     0         \n",
            "                                                                 \n",
            " efficientnetb0 (Functional)  (None, None, None, 1280)  4049571  \n",
            "                                                                 \n",
            " global_average_pooling2d (G  (None, 1280)             0         \n",
            " lobalAveragePooling2D)                                          \n",
            "                                                                 \n",
            " dense (Dense)               (None, 101)               129381    \n",
            "                                                                 \n",
            " softmax_float32 (Activation  (None, 101)              0         \n",
            " )                                                               \n",
            "                                                                 \n",
            "=================================================================\n",
            "Total params: 4,178,952\n",
            "Trainable params: 129,381\n",
            "Non-trainable params: 4,049,571\n",
            "_________________________________________________________________\n"
          ]
        }
      ],
      "source": [
        "model.summary()"
      ]
    },
    {
      "cell_type": "markdown",
      "metadata": {
        "id": "A9W0ZTu-0BmR"
      },
      "source": [
        "### Checking layer dtype policies (to check if mixed precision is being used)"
      ]
    },
    {
      "cell_type": "code",
      "execution_count": 24,
      "metadata": {
        "colab": {
          "base_uri": "https://localhost:8080/"
        },
        "id": "J_qKuNVxzwFY",
        "outputId": "b41c6507-d9da-4b89-887b-956e741c3821"
      },
      "outputs": [
        {
          "name": "stdout",
          "output_type": "stream",
          "text": [
            "input_layer True float32 <Policy \"float32\">\n",
            "efficientnetb0 False float32 <Policy \"mixed_float16\">\n",
            "global_average_pooling2d True float32 <Policy \"mixed_float16\">\n",
            "dense True float32 <Policy \"mixed_float16\">\n",
            "softmax_float32 True float32 <Policy \"float32\">\n"
          ]
        }
      ],
      "source": [
        "for layer in model.layers:\n",
        "  print(layer.name, layer.trainable, layer.dtype, layer.dtype_policy)"
      ]
    },
    {
      "cell_type": "markdown",
      "metadata": {
        "id": "mzM5MKlSzzdw"
      },
      "source": [
        "As seen above:\n",
        "- layer.name: the name of the particular layer\n",
        "- layer.trainable: is the layer trainable or not\n",
        "- layer.dtype: the datatype a layer stores its variables in\n",
        "- layer.dtype_policy: the datatype a layer computes its variables with\n",
        "\n",
        "This layer type remains float32 to maintain stability"
      ]
    },
    {
      "cell_type": "code",
      "execution_count": 25,
      "metadata": {
        "colab": {
          "base_uri": "https://localhost:8080/"
        },
        "id": "NVfhqVAe0z8I",
        "outputId": "68af967d-a90b-4e75-d7c4-c4f8362a2e40"
      },
      "outputs": [
        {
          "name": "stdout",
          "output_type": "stream",
          "text": [
            "input_1 False float32 <Policy \"float32\">\n",
            "rescaling False float32 <Policy \"mixed_float16\">\n",
            "normalization False float32 <Policy \"mixed_float16\">\n",
            "stem_conv_pad False float32 <Policy \"mixed_float16\">\n",
            "stem_conv False float32 <Policy \"mixed_float16\">\n",
            "stem_bn False float32 <Policy \"mixed_float16\">\n",
            "stem_activation False float32 <Policy \"mixed_float16\">\n",
            "block1a_dwconv False float32 <Policy \"mixed_float16\">\n",
            "block1a_bn False float32 <Policy \"mixed_float16\">\n",
            "block1a_activation False float32 <Policy \"mixed_float16\">\n",
            "block1a_se_squeeze False float32 <Policy \"mixed_float16\">\n",
            "block1a_se_reshape False float32 <Policy \"mixed_float16\">\n",
            "block1a_se_reduce False float32 <Policy \"mixed_float16\">\n",
            "block1a_se_expand False float32 <Policy \"mixed_float16\">\n",
            "block1a_se_excite False float32 <Policy \"mixed_float16\">\n",
            "block1a_project_conv False float32 <Policy \"mixed_float16\">\n",
            "block1a_project_bn False float32 <Policy \"mixed_float16\">\n",
            "block2a_expand_conv False float32 <Policy \"mixed_float16\">\n",
            "block2a_expand_bn False float32 <Policy \"mixed_float16\">\n",
            "block2a_expand_activation False float32 <Policy \"mixed_float16\">\n",
            "block2a_dwconv_pad False float32 <Policy \"mixed_float16\">\n",
            "block2a_dwconv False float32 <Policy \"mixed_float16\">\n",
            "block2a_bn False float32 <Policy \"mixed_float16\">\n",
            "block2a_activation False float32 <Policy \"mixed_float16\">\n",
            "block2a_se_squeeze False float32 <Policy \"mixed_float16\">\n",
            "block2a_se_reshape False float32 <Policy \"mixed_float16\">\n",
            "block2a_se_reduce False float32 <Policy \"mixed_float16\">\n",
            "block2a_se_expand False float32 <Policy \"mixed_float16\">\n",
            "block2a_se_excite False float32 <Policy \"mixed_float16\">\n",
            "block2a_project_conv False float32 <Policy \"mixed_float16\">\n",
            "block2a_project_bn False float32 <Policy \"mixed_float16\">\n",
            "block2b_expand_conv False float32 <Policy \"mixed_float16\">\n",
            "block2b_expand_bn False float32 <Policy \"mixed_float16\">\n",
            "block2b_expand_activation False float32 <Policy \"mixed_float16\">\n",
            "block2b_dwconv False float32 <Policy \"mixed_float16\">\n",
            "block2b_bn False float32 <Policy \"mixed_float16\">\n",
            "block2b_activation False float32 <Policy \"mixed_float16\">\n",
            "block2b_se_squeeze False float32 <Policy \"mixed_float16\">\n",
            "block2b_se_reshape False float32 <Policy \"mixed_float16\">\n",
            "block2b_se_reduce False float32 <Policy \"mixed_float16\">\n",
            "block2b_se_expand False float32 <Policy \"mixed_float16\">\n",
            "block2b_se_excite False float32 <Policy \"mixed_float16\">\n",
            "block2b_project_conv False float32 <Policy \"mixed_float16\">\n",
            "block2b_project_bn False float32 <Policy \"mixed_float16\">\n",
            "block2b_drop False float32 <Policy \"mixed_float16\">\n",
            "block2b_add False float32 <Policy \"mixed_float16\">\n",
            "block3a_expand_conv False float32 <Policy \"mixed_float16\">\n",
            "block3a_expand_bn False float32 <Policy \"mixed_float16\">\n",
            "block3a_expand_activation False float32 <Policy \"mixed_float16\">\n",
            "block3a_dwconv_pad False float32 <Policy \"mixed_float16\">\n",
            "block3a_dwconv False float32 <Policy \"mixed_float16\">\n",
            "block3a_bn False float32 <Policy \"mixed_float16\">\n",
            "block3a_activation False float32 <Policy \"mixed_float16\">\n",
            "block3a_se_squeeze False float32 <Policy \"mixed_float16\">\n",
            "block3a_se_reshape False float32 <Policy \"mixed_float16\">\n",
            "block3a_se_reduce False float32 <Policy \"mixed_float16\">\n",
            "block3a_se_expand False float32 <Policy \"mixed_float16\">\n",
            "block3a_se_excite False float32 <Policy \"mixed_float16\">\n",
            "block3a_project_conv False float32 <Policy \"mixed_float16\">\n",
            "block3a_project_bn False float32 <Policy \"mixed_float16\">\n",
            "block3b_expand_conv False float32 <Policy \"mixed_float16\">\n",
            "block3b_expand_bn False float32 <Policy \"mixed_float16\">\n",
            "block3b_expand_activation False float32 <Policy \"mixed_float16\">\n",
            "block3b_dwconv False float32 <Policy \"mixed_float16\">\n",
            "block3b_bn False float32 <Policy \"mixed_float16\">\n",
            "block3b_activation False float32 <Policy \"mixed_float16\">\n",
            "block3b_se_squeeze False float32 <Policy \"mixed_float16\">\n",
            "block3b_se_reshape False float32 <Policy \"mixed_float16\">\n",
            "block3b_se_reduce False float32 <Policy \"mixed_float16\">\n",
            "block3b_se_expand False float32 <Policy \"mixed_float16\">\n",
            "block3b_se_excite False float32 <Policy \"mixed_float16\">\n",
            "block3b_project_conv False float32 <Policy \"mixed_float16\">\n",
            "block3b_project_bn False float32 <Policy \"mixed_float16\">\n",
            "block3b_drop False float32 <Policy \"mixed_float16\">\n",
            "block3b_add False float32 <Policy \"mixed_float16\">\n",
            "block4a_expand_conv False float32 <Policy \"mixed_float16\">\n",
            "block4a_expand_bn False float32 <Policy \"mixed_float16\">\n",
            "block4a_expand_activation False float32 <Policy \"mixed_float16\">\n",
            "block4a_dwconv_pad False float32 <Policy \"mixed_float16\">\n",
            "block4a_dwconv False float32 <Policy \"mixed_float16\">\n",
            "block4a_bn False float32 <Policy \"mixed_float16\">\n",
            "block4a_activation False float32 <Policy \"mixed_float16\">\n",
            "block4a_se_squeeze False float32 <Policy \"mixed_float16\">\n",
            "block4a_se_reshape False float32 <Policy \"mixed_float16\">\n",
            "block4a_se_reduce False float32 <Policy \"mixed_float16\">\n",
            "block4a_se_expand False float32 <Policy \"mixed_float16\">\n",
            "block4a_se_excite False float32 <Policy \"mixed_float16\">\n",
            "block4a_project_conv False float32 <Policy \"mixed_float16\">\n",
            "block4a_project_bn False float32 <Policy \"mixed_float16\">\n",
            "block4b_expand_conv False float32 <Policy \"mixed_float16\">\n",
            "block4b_expand_bn False float32 <Policy \"mixed_float16\">\n",
            "block4b_expand_activation False float32 <Policy \"mixed_float16\">\n",
            "block4b_dwconv False float32 <Policy \"mixed_float16\">\n",
            "block4b_bn False float32 <Policy \"mixed_float16\">\n",
            "block4b_activation False float32 <Policy \"mixed_float16\">\n",
            "block4b_se_squeeze False float32 <Policy \"mixed_float16\">\n",
            "block4b_se_reshape False float32 <Policy \"mixed_float16\">\n",
            "block4b_se_reduce False float32 <Policy \"mixed_float16\">\n",
            "block4b_se_expand False float32 <Policy \"mixed_float16\">\n",
            "block4b_se_excite False float32 <Policy \"mixed_float16\">\n",
            "block4b_project_conv False float32 <Policy \"mixed_float16\">\n",
            "block4b_project_bn False float32 <Policy \"mixed_float16\">\n",
            "block4b_drop False float32 <Policy \"mixed_float16\">\n",
            "block4b_add False float32 <Policy \"mixed_float16\">\n",
            "block4c_expand_conv False float32 <Policy \"mixed_float16\">\n",
            "block4c_expand_bn False float32 <Policy \"mixed_float16\">\n",
            "block4c_expand_activation False float32 <Policy \"mixed_float16\">\n",
            "block4c_dwconv False float32 <Policy \"mixed_float16\">\n",
            "block4c_bn False float32 <Policy \"mixed_float16\">\n",
            "block4c_activation False float32 <Policy \"mixed_float16\">\n",
            "block4c_se_squeeze False float32 <Policy \"mixed_float16\">\n",
            "block4c_se_reshape False float32 <Policy \"mixed_float16\">\n",
            "block4c_se_reduce False float32 <Policy \"mixed_float16\">\n",
            "block4c_se_expand False float32 <Policy \"mixed_float16\">\n",
            "block4c_se_excite False float32 <Policy \"mixed_float16\">\n",
            "block4c_project_conv False float32 <Policy \"mixed_float16\">\n",
            "block4c_project_bn False float32 <Policy \"mixed_float16\">\n",
            "block4c_drop False float32 <Policy \"mixed_float16\">\n",
            "block4c_add False float32 <Policy \"mixed_float16\">\n",
            "block5a_expand_conv False float32 <Policy \"mixed_float16\">\n",
            "block5a_expand_bn False float32 <Policy \"mixed_float16\">\n",
            "block5a_expand_activation False float32 <Policy \"mixed_float16\">\n",
            "block5a_dwconv False float32 <Policy \"mixed_float16\">\n",
            "block5a_bn False float32 <Policy \"mixed_float16\">\n",
            "block5a_activation False float32 <Policy \"mixed_float16\">\n",
            "block5a_se_squeeze False float32 <Policy \"mixed_float16\">\n",
            "block5a_se_reshape False float32 <Policy \"mixed_float16\">\n",
            "block5a_se_reduce False float32 <Policy \"mixed_float16\">\n",
            "block5a_se_expand False float32 <Policy \"mixed_float16\">\n",
            "block5a_se_excite False float32 <Policy \"mixed_float16\">\n",
            "block5a_project_conv False float32 <Policy \"mixed_float16\">\n",
            "block5a_project_bn False float32 <Policy \"mixed_float16\">\n",
            "block5b_expand_conv False float32 <Policy \"mixed_float16\">\n",
            "block5b_expand_bn False float32 <Policy \"mixed_float16\">\n",
            "block5b_expand_activation False float32 <Policy \"mixed_float16\">\n",
            "block5b_dwconv False float32 <Policy \"mixed_float16\">\n",
            "block5b_bn False float32 <Policy \"mixed_float16\">\n",
            "block5b_activation False float32 <Policy \"mixed_float16\">\n",
            "block5b_se_squeeze False float32 <Policy \"mixed_float16\">\n",
            "block5b_se_reshape False float32 <Policy \"mixed_float16\">\n",
            "block5b_se_reduce False float32 <Policy \"mixed_float16\">\n",
            "block5b_se_expand False float32 <Policy \"mixed_float16\">\n",
            "block5b_se_excite False float32 <Policy \"mixed_float16\">\n",
            "block5b_project_conv False float32 <Policy \"mixed_float16\">\n",
            "block5b_project_bn False float32 <Policy \"mixed_float16\">\n",
            "block5b_drop False float32 <Policy \"mixed_float16\">\n",
            "block5b_add False float32 <Policy \"mixed_float16\">\n",
            "block5c_expand_conv False float32 <Policy \"mixed_float16\">\n",
            "block5c_expand_bn False float32 <Policy \"mixed_float16\">\n",
            "block5c_expand_activation False float32 <Policy \"mixed_float16\">\n",
            "block5c_dwconv False float32 <Policy \"mixed_float16\">\n",
            "block5c_bn False float32 <Policy \"mixed_float16\">\n",
            "block5c_activation False float32 <Policy \"mixed_float16\">\n",
            "block5c_se_squeeze False float32 <Policy \"mixed_float16\">\n",
            "block5c_se_reshape False float32 <Policy \"mixed_float16\">\n",
            "block5c_se_reduce False float32 <Policy \"mixed_float16\">\n",
            "block5c_se_expand False float32 <Policy \"mixed_float16\">\n",
            "block5c_se_excite False float32 <Policy \"mixed_float16\">\n",
            "block5c_project_conv False float32 <Policy \"mixed_float16\">\n",
            "block5c_project_bn False float32 <Policy \"mixed_float16\">\n",
            "block5c_drop False float32 <Policy \"mixed_float16\">\n",
            "block5c_add False float32 <Policy \"mixed_float16\">\n",
            "block6a_expand_conv False float32 <Policy \"mixed_float16\">\n",
            "block6a_expand_bn False float32 <Policy \"mixed_float16\">\n",
            "block6a_expand_activation False float32 <Policy \"mixed_float16\">\n",
            "block6a_dwconv_pad False float32 <Policy \"mixed_float16\">\n",
            "block6a_dwconv False float32 <Policy \"mixed_float16\">\n",
            "block6a_bn False float32 <Policy \"mixed_float16\">\n",
            "block6a_activation False float32 <Policy \"mixed_float16\">\n",
            "block6a_se_squeeze False float32 <Policy \"mixed_float16\">\n",
            "block6a_se_reshape False float32 <Policy \"mixed_float16\">\n",
            "block6a_se_reduce False float32 <Policy \"mixed_float16\">\n",
            "block6a_se_expand False float32 <Policy \"mixed_float16\">\n",
            "block6a_se_excite False float32 <Policy \"mixed_float16\">\n",
            "block6a_project_conv False float32 <Policy \"mixed_float16\">\n",
            "block6a_project_bn False float32 <Policy \"mixed_float16\">\n",
            "block6b_expand_conv False float32 <Policy \"mixed_float16\">\n",
            "block6b_expand_bn False float32 <Policy \"mixed_float16\">\n",
            "block6b_expand_activation False float32 <Policy \"mixed_float16\">\n",
            "block6b_dwconv False float32 <Policy \"mixed_float16\">\n",
            "block6b_bn False float32 <Policy \"mixed_float16\">\n",
            "block6b_activation False float32 <Policy \"mixed_float16\">\n",
            "block6b_se_squeeze False float32 <Policy \"mixed_float16\">\n",
            "block6b_se_reshape False float32 <Policy \"mixed_float16\">\n",
            "block6b_se_reduce False float32 <Policy \"mixed_float16\">\n",
            "block6b_se_expand False float32 <Policy \"mixed_float16\">\n",
            "block6b_se_excite False float32 <Policy \"mixed_float16\">\n",
            "block6b_project_conv False float32 <Policy \"mixed_float16\">\n",
            "block6b_project_bn False float32 <Policy \"mixed_float16\">\n",
            "block6b_drop False float32 <Policy \"mixed_float16\">\n",
            "block6b_add False float32 <Policy \"mixed_float16\">\n",
            "block6c_expand_conv False float32 <Policy \"mixed_float16\">\n",
            "block6c_expand_bn False float32 <Policy \"mixed_float16\">\n",
            "block6c_expand_activation False float32 <Policy \"mixed_float16\">\n",
            "block6c_dwconv False float32 <Policy \"mixed_float16\">\n",
            "block6c_bn False float32 <Policy \"mixed_float16\">\n",
            "block6c_activation False float32 <Policy \"mixed_float16\">\n",
            "block6c_se_squeeze False float32 <Policy \"mixed_float16\">\n",
            "block6c_se_reshape False float32 <Policy \"mixed_float16\">\n",
            "block6c_se_reduce False float32 <Policy \"mixed_float16\">\n",
            "block6c_se_expand False float32 <Policy \"mixed_float16\">\n",
            "block6c_se_excite False float32 <Policy \"mixed_float16\">\n",
            "block6c_project_conv False float32 <Policy \"mixed_float16\">\n",
            "block6c_project_bn False float32 <Policy \"mixed_float16\">\n",
            "block6c_drop False float32 <Policy \"mixed_float16\">\n",
            "block6c_add False float32 <Policy \"mixed_float16\">\n",
            "block6d_expand_conv False float32 <Policy \"mixed_float16\">\n",
            "block6d_expand_bn False float32 <Policy \"mixed_float16\">\n",
            "block6d_expand_activation False float32 <Policy \"mixed_float16\">\n",
            "block6d_dwconv False float32 <Policy \"mixed_float16\">\n",
            "block6d_bn False float32 <Policy \"mixed_float16\">\n",
            "block6d_activation False float32 <Policy \"mixed_float16\">\n",
            "block6d_se_squeeze False float32 <Policy \"mixed_float16\">\n",
            "block6d_se_reshape False float32 <Policy \"mixed_float16\">\n",
            "block6d_se_reduce False float32 <Policy \"mixed_float16\">\n",
            "block6d_se_expand False float32 <Policy \"mixed_float16\">\n",
            "block6d_se_excite False float32 <Policy \"mixed_float16\">\n",
            "block6d_project_conv False float32 <Policy \"mixed_float16\">\n",
            "block6d_project_bn False float32 <Policy \"mixed_float16\">\n",
            "block6d_drop False float32 <Policy \"mixed_float16\">\n",
            "block6d_add False float32 <Policy \"mixed_float16\">\n",
            "block7a_expand_conv False float32 <Policy \"mixed_float16\">\n",
            "block7a_expand_bn False float32 <Policy \"mixed_float16\">\n",
            "block7a_expand_activation False float32 <Policy \"mixed_float16\">\n",
            "block7a_dwconv False float32 <Policy \"mixed_float16\">\n",
            "block7a_bn False float32 <Policy \"mixed_float16\">\n",
            "block7a_activation False float32 <Policy \"mixed_float16\">\n",
            "block7a_se_squeeze False float32 <Policy \"mixed_float16\">\n",
            "block7a_se_reshape False float32 <Policy \"mixed_float16\">\n",
            "block7a_se_reduce False float32 <Policy \"mixed_float16\">\n",
            "block7a_se_expand False float32 <Policy \"mixed_float16\">\n",
            "block7a_se_excite False float32 <Policy \"mixed_float16\">\n",
            "block7a_project_conv False float32 <Policy \"mixed_float16\">\n",
            "block7a_project_bn False float32 <Policy \"mixed_float16\">\n",
            "top_conv False float32 <Policy \"mixed_float16\">\n",
            "top_bn False float32 <Policy \"mixed_float16\">\n",
            "top_activation False float32 <Policy \"mixed_float16\">\n"
          ]
        }
      ],
      "source": [
        "for layer in model.layers[1].layers:\n",
        "  print(layer.name, layer.trainable, layer.dtype, layer.dtype_policy)"
      ]
    },
    {
      "cell_type": "code",
      "execution_count": 26,
      "metadata": {
        "colab": {
          "base_uri": "https://localhost:8080/"
        },
        "id": "8ygeiqU50_bd",
        "outputId": "913156d3-37aa-495e-df4c-ccd2b1dc19d2"
      },
      "outputs": [
        {
          "data": {
            "text/plain": [
              "<Policy \"mixed_float16\">"
            ]
          },
          "execution_count": 26,
          "metadata": {},
          "output_type": "execute_result"
        }
      ],
      "source": [
        "# The model is successfully using mixed precision\n",
        "mixed_precision.global_policy()"
      ]
    },
    {
      "cell_type": "code",
      "execution_count": 27,
      "metadata": {
        "colab": {
          "base_uri": "https://localhost:8080/"
        },
        "id": "xU-siYHu1O83",
        "outputId": "493cb3e8-e877-479e-a48d-ffd030046b36"
      },
      "outputs": [
        {
          "name": "stdout",
          "output_type": "stream",
          "text": [
            "Saving TensorBoard log files to: training_logs/efficientnetb0_101_classes_all_data_feature_extract/20220508-150732\n",
            "Epoch 1/3\n",
            "2368/2368 [==============================] - ETA: 0s - loss: 1.8208 - accuracy: 0.5565WARNING:tensorflow:Can save best model only with val_acc available, skipping.\n"
          ]
        },
        {
          "name": "stderr",
          "output_type": "stream",
          "text": [
            "WARNING:tensorflow:Can save best model only with val_acc available, skipping.\n"
          ]
        },
        {
          "name": "stdout",
          "output_type": "stream",
          "text": [
            "\b\b\b\b\b\b\b\b\b\b\b\b\b\b\b\b\b\b\b\b\b\b\b\b\b\b\b\b\b\b\b\b\b\b\b\b\b\b\b\b\b\b\b\b\b\b\b\b\b\b\b\b\b\b\b\b\b\b\b\b\b\b\b\b\b\b\b\b\b\b\b\b\b\b\b\b\b\b\b\b\b\b\b\b\b\b\r2368/2368 [==============================] - 186s 71ms/step - loss: 1.8208 - accuracy: 0.5565 - val_loss: 1.2304 - val_accuracy: 0.6777\n",
            "Epoch 2/3\n",
            "2368/2368 [==============================] - ETA: 0s - loss: 1.2929 - accuracy: 0.6657WARNING:tensorflow:Can save best model only with val_acc available, skipping.\n"
          ]
        },
        {
          "name": "stderr",
          "output_type": "stream",
          "text": [
            "WARNING:tensorflow:Can save best model only with val_acc available, skipping.\n"
          ]
        },
        {
          "name": "stdout",
          "output_type": "stream",
          "text": [
            "\b\b\b\b\b\b\b\b\b\b\b\b\b\b\b\b\b\b\b\b\b\b\b\b\b\b\b\b\b\b\b\b\b\b\b\b\b\b\b\b\b\b\b\b\b\b\b\b\b\b\b\b\b\b\b\b\b\b\b\b\b\b\b\b\b\b\b\b\b\b\b\b\b\b\b\b\b\b\b\b\b\b\b\b\b\b\r2368/2368 [==============================] - 170s 71ms/step - loss: 1.2929 - accuracy: 0.6657 - val_loss: 1.1255 - val_accuracy: 0.7005\n",
            "Epoch 3/3\n",
            "2368/2368 [==============================] - ETA: 0s - loss: 1.1429 - accuracy: 0.7021WARNING:tensorflow:Can save best model only with val_acc available, skipping.\n"
          ]
        },
        {
          "name": "stderr",
          "output_type": "stream",
          "text": [
            "WARNING:tensorflow:Can save best model only with val_acc available, skipping.\n"
          ]
        },
        {
          "name": "stdout",
          "output_type": "stream",
          "text": [
            "\b\b\b\b\b\b\b\b\b\b\b\b\b\b\b\b\b\b\b\b\b\b\b\b\b\b\b\b\b\b\b\b\b\b\b\b\b\b\b\b\b\b\b\b\b\b\b\b\b\b\b\b\b\b\b\b\b\b\b\b\b\b\b\b\b\b\b\b\b\b\b\b\b\b\b\b\b\b\b\b\b\b\b\b\b\b\r2368/2368 [==============================] - 163s 68ms/step - loss: 1.1429 - accuracy: 0.7021 - val_loss: 1.0856 - val_accuracy: 0.7042\n"
          ]
        }
      ],
      "source": [
        "# Fit the model\n",
        "history_101_food_classes_feature_extract = model.fit(train_data,\n",
        "                                              epochs=3,\n",
        "                                              steps_per_epoch=len(train_data),\n",
        "                                              validation_data=test_data,\n",
        "                                              validation_steps=int(0.15*len(test_data)),\n",
        "                                              callbacks=[create_tensorboard_callback(\n",
        "                                                  dir_name=\"training_logs\",\n",
        "                                                  experiment_name=\"efficientnetb0_101_classes_all_data_feature_extract\"),\n",
        "                                                  model_checkpoint])"
      ]
    },
    {
      "cell_type": "code",
      "execution_count": 28,
      "metadata": {
        "colab": {
          "base_uri": "https://localhost:8080/"
        },
        "id": "MBcUZG7u2T40",
        "outputId": "4fbf684a-32d7-4625-e3a4-ddbb8aab9538"
      },
      "outputs": [
        {
          "name": "stdout",
          "output_type": "stream",
          "text": [
            "790/790 [==============================] - 49s 62ms/step - loss: 1.0943 - accuracy: 0.7053\n"
          ]
        },
        {
          "data": {
            "text/plain": [
              "[1.0942679643630981, 0.7053465247154236]"
            ]
          },
          "execution_count": 28,
          "metadata": {},
          "output_type": "execute_result"
        }
      ],
      "source": [
        "# Evaluate the model\n",
        "model.evaluate(test_data)"
      ]
    },
    {
      "cell_type": "code",
      "execution_count": null,
      "metadata": {
        "colab": {
          "base_uri": "https://localhost:8080/",
          "height": 328
        },
        "id": "VT_IU1xb6UaX",
        "outputId": "83851097-c63a-48f4-8e50-1ec956b9ce5c"
      },
      "outputs": [],
      "source": [
        "# Save the model for later use\n",
        "model.save(\"model_baseline_101_foods_all_data\")"
      ]
    },
    {
      "cell_type": "code",
      "execution_count": null,
      "metadata": {
        "id": "2j3sosXY7snV"
      },
      "outputs": [],
      "source": [
        "# Colab commands to download the model\n",
        "# The first part names the zip and the 2nd is the folder to be ziped\n",
        "!zip -r /content/model.zip /content/model_baseline_101_foods_all_data"
      ]
    },
    {
      "cell_type": "code",
      "execution_count": null,
      "metadata": {
        "colab": {
          "base_uri": "https://localhost:8080/",
          "height": 17
        },
        "id": "CyEdCBSR8u6P",
        "outputId": "102a9fba-63e2-4ad9-e48a-4f52e0acc46a"
      },
      "outputs": [
        {
          "data": {
            "application/javascript": "\n    async function download(id, filename, size) {\n      if (!google.colab.kernel.accessAllowed) {\n        return;\n      }\n      const div = document.createElement('div');\n      const label = document.createElement('label');\n      label.textContent = `Downloading \"${filename}\": `;\n      div.appendChild(label);\n      const progress = document.createElement('progress');\n      progress.max = size;\n      div.appendChild(progress);\n      document.body.appendChild(div);\n\n      const buffers = [];\n      let downloaded = 0;\n\n      const channel = await google.colab.kernel.comms.open(id);\n      // Send a message to notify the kernel that we're ready.\n      channel.send({})\n\n      for await (const message of channel.messages) {\n        // Send a message to notify the kernel that we're ready.\n        channel.send({})\n        if (message.buffers) {\n          for (const buffer of message.buffers) {\n            buffers.push(buffer);\n            downloaded += buffer.byteLength;\n            progress.value = downloaded;\n          }\n        }\n      }\n      const blob = new Blob(buffers, {type: 'application/binary'});\n      const a = document.createElement('a');\n      a.href = window.URL.createObjectURL(blob);\n      a.download = filename;\n      div.appendChild(a);\n      a.click();\n      div.remove();\n    }\n  ",
            "text/plain": [
              "<IPython.core.display.Javascript object>"
            ]
          },
          "metadata": {},
          "output_type": "display_data"
        },
        {
          "data": {
            "application/javascript": "download(\"download_73de2180-ffc0-45a8-b7bd-a72639fe5c39\", \"model.zip\", 16953885)",
            "text/plain": [
              "<IPython.core.display.Javascript object>"
            ]
          },
          "metadata": {},
          "output_type": "display_data"
        }
      ],
      "source": [
        "# Download the file \n",
        "from google.colab import files\n",
        "files.download(\"/content/model.zip\")"
      ]
    },
    {
      "cell_type": "markdown",
      "metadata": {
        "id": "YxrZCZIQ8zho"
      },
      "source": [
        "# It is time to fine-tune the model and beat the baseline"
      ]
    },
    {
      "cell_type": "code",
      "execution_count": 30,
      "metadata": {
        "id": "yxUlVkoS9zoc"
      },
      "outputs": [],
      "source": [
        "# First rebuild the mode with data augmentation\n",
        "from tensorflow.keras import Sequential\n",
        "data_augmentation = Sequential([\n",
        "                                layers.RandomFlip(\"horizontal\"),\n",
        "                                layers.RandomZoom(0.2),\n",
        "                                layers.RandomWidth(0.2),\n",
        "                                layers.RandomHeight(0.2),\n",
        "                                layers.RandomRotation(0.2)\n",
        "], name=\"data_agumentation\")"
      ]
    },
    {
      "cell_type": "code",
      "execution_count": 31,
      "metadata": {
        "id": "GNQC9TH7AhUI"
      },
      "outputs": [],
      "source": [
        "# Create base model\n",
        "input_shape = (224, 224, 3)\n",
        "base_model_augmented = tf.keras.applications.EfficientNetB0(include_top=False)\n",
        "base_model_augmented.trainable = False\n",
        "\n",
        "# Create Functional model\n",
        "inputs = layers.Input(shape=input_shape, name=\"input_layer\")\n",
        "# x = preprocessing.Rescaling(1/255)(x)  # if rescaling was necessary\n",
        "x = data_augmentation(inputs) \n",
        "x = base_model_augmented(x, training=False)\n",
        "x = layers.GlobalAveragePooling2D()(x)\n",
        "x = layers.Dense(len(class_names))(x)\n",
        "outputs = layers.Activation(\"softmax\", dtype=tf.float32, name=\"softmax_float32\")(x) \n",
        "# Only change is the activation outside to pass types\n",
        "base_model_augmented = tf.keras.Model(inputs, outputs)\n",
        "\n",
        "# Compile the model\n",
        "base_model_augmented.compile(loss=\"sparse_categorical_crossentropy\",\n",
        "              optimizer=tf.keras.optimizers.Adam(),\n",
        "              metrics=[\"accuracy\"])"
      ]
    },
    {
      "cell_type": "code",
      "execution_count": 32,
      "metadata": {
        "colab": {
          "base_uri": "https://localhost:8080/"
        },
        "id": "AD9UgktOAoBI",
        "outputId": "038598ac-a3a5-4585-d0a9-4a7ff599b522"
      },
      "outputs": [
        {
          "name": "stdout",
          "output_type": "stream",
          "text": [
            "Saving TensorBoard log files to: training_log_aug/efficientnetb0_101_classes_all_data_augmented/20220508-151816\n",
            "Epoch 1/3\n",
            "2368/2368 [==============================] - ETA: 0s - loss: 2.2450 - accuracy: 0.4597WARNING:tensorflow:Can save best model only with val_acc available, skipping.\n"
          ]
        },
        {
          "name": "stderr",
          "output_type": "stream",
          "text": [
            "WARNING:tensorflow:Can save best model only with val_acc available, skipping.\n"
          ]
        },
        {
          "name": "stdout",
          "output_type": "stream",
          "text": [
            "\b\b\b\b\b\b\b\b\b\b\b\b\b\b\b\b\b\b\b\b\b\b\b\b\b\b\b\b\b\b\b\b\b\b\b\b\b\b\b\b\b\b\b\b\b\b\b\b\b\b\b\b\b\b\b\b\b\b\b\b\b\b\b\b\b\b\b\b\b\b\b\b\b\b\b\b\b\b\b\b\b\b\b\b\b\b\r2368/2368 [==============================] - 198s 80ms/step - loss: 2.2450 - accuracy: 0.4597 - val_loss: 1.4029 - val_accuracy: 0.6255\n",
            "Epoch 2/3\n",
            "2368/2368 [==============================] - ETA: 0s - loss: 1.7562 - accuracy: 0.5572WARNING:tensorflow:Can save best model only with val_acc available, skipping.\n"
          ]
        },
        {
          "name": "stderr",
          "output_type": "stream",
          "text": [
            "WARNING:tensorflow:Can save best model only with val_acc available, skipping.\n"
          ]
        },
        {
          "name": "stdout",
          "output_type": "stream",
          "text": [
            "\b\b\b\b\b\b\b\b\b\b\b\b\b\b\b\b\b\b\b\b\b\b\b\b\b\b\b\b\b\b\b\b\b\b\b\b\b\b\b\b\b\b\b\b\b\b\b\b\b\b\b\b\b\b\b\b\b\b\b\b\b\b\b\b\b\b\b\b\b\b\b\b\b\b\b\b\b\b\b\b\b\b\b\b\b\b\r2368/2368 [==============================] - 178s 74ms/step - loss: 1.7562 - accuracy: 0.5572 - val_loss: 1.2928 - val_accuracy: 0.6568\n",
            "Epoch 3/3\n",
            "2368/2368 [==============================] - ETA: 0s - loss: 1.6442 - accuracy: 0.5805WARNING:tensorflow:Can save best model only with val_acc available, skipping.\n"
          ]
        },
        {
          "name": "stderr",
          "output_type": "stream",
          "text": [
            "WARNING:tensorflow:Can save best model only with val_acc available, skipping.\n"
          ]
        },
        {
          "name": "stdout",
          "output_type": "stream",
          "text": [
            "\b\b\b\b\b\b\b\b\b\b\b\b\b\b\b\b\b\b\b\b\b\b\b\b\b\b\b\b\b\b\b\b\b\b\b\b\b\b\b\b\b\b\b\b\b\b\b\b\b\b\b\b\b\b\b\b\b\b\b\b\b\b\b\b\b\b\b\b\b\b\b\b\b\b\b\b\b\b\b\b\b\b\b\b\b\b\r2368/2368 [==============================] - 174s 73ms/step - loss: 1.6442 - accuracy: 0.5805 - val_loss: 1.2450 - val_accuracy: 0.6610\n"
          ]
        }
      ],
      "source": [
        "# Fit the model \n",
        "history_2_101_foods_all_augmented = base_model_augmented.fit(train_data,\n",
        "                                                            epochs=3,\n",
        "                                                            steps_per_epoch=len(train_data),\n",
        "                                                            validation_data=test_data,\n",
        "                                                            validation_steps=int(0.15*len(test_data)),\n",
        "                                                            callbacks=[create_tensorboard_callback(\"training_log_aug\",\n",
        "                                                                                                   \"efficientnetb0_101_classes_all_data_augmented\"),\n",
        "                                                                                                    model_checkpoint])"
      ]
    },
    {
      "cell_type": "code",
      "execution_count": 33,
      "metadata": {
        "colab": {
          "base_uri": "https://localhost:8080/"
        },
        "id": "RAaLQQBSD92J",
        "outputId": "42253a19-a7fd-4d08-9f5d-7cc3aec9c30e"
      },
      "outputs": [
        {
          "name": "stdout",
          "output_type": "stream",
          "text": [
            "790/790 [==============================] - 48s 61ms/step - loss: 1.2640 - accuracy: 0.6589\n"
          ]
        },
        {
          "data": {
            "text/plain": [
              "[1.2640385627746582, 0.6588910818099976]"
            ]
          },
          "execution_count": 33,
          "metadata": {},
          "output_type": "execute_result"
        }
      ],
      "source": [
        "evaluated_base_aug = base_model_augmented.evaluate(test_data)\n",
        "evaluated_base_aug"
      ]
    },
    {
      "cell_type": "code",
      "execution_count": null,
      "metadata": {
        "colab": {
          "base_uri": "https://localhost:8080/",
          "height": 573
        },
        "id": "f3vnltGLJiDA",
        "outputId": "0b7d6073-84d7-4891-e502-7b957300ac72"
      },
      "outputs": [
        {
          "data": {
            "image/png": "[encoded data removed]",
            "text/plain": [
              "<Figure size 432x288 with 1 Axes>"
            ]
          },
          "metadata": {
            "needs_background": "light"
          },
          "output_type": "display_data"
        },
        {
          "data": {
            "image/png": "[encoded data removed]",
            "text/plain": [
              "<Figure size 432x288 with 1 Axes>"
            ]
          },
          "metadata": {
            "needs_background": "light"
          },
          "output_type": "display_data"
        }
      ],
      "source": [
        "plot_loss_curves(history_2_101_foods_all_augmented)"
      ]
    },
    {
      "cell_type": "code",
      "execution_count": null,
      "metadata": {
        "colab": {
          "base_uri": "https://localhost:8080/",
          "height": 573
        },
        "id": "ZJiViBTuKFIc",
        "outputId": "4a1af15e-b171-4671-8e9c-3a597ae1dac8"
      },
      "outputs": [
        {
          "data": {
            "image/png": "[encoded data removed]",
            "text/plain": [
              "<Figure size 432x288 with 1 Axes>"
            ]
          },
          "metadata": {
            "needs_background": "light"
          },
          "output_type": "display_data"
        },
        {
          "data": {
            "image/png": "[encoded data removed]",
            "text/plain": [
              "<Figure size 432x288 with 1 Axes>"
            ]
          },
          "metadata": {
            "needs_background": "light"
          },
          "output_type": "display_data"
        }
      ],
      "source": [
        "plot_loss_curves(history_101_food_classes_feature_extract)"
      ]
    },
    {
      "cell_type": "markdown",
      "metadata": {
        "id": "oqVrHXHOKPrX"
      },
      "source": [
        "It seems that the model is starting to overfit in the data augmented model.\n",
        "Save the model and fine-tune it with 5 unfrozen layers"
      ]
    },
    {
      "cell_type": "markdown",
      "metadata": {
        "id": "qdoObbbxKxal"
      },
      "source": [
        "## Fine-Tuning the model"
      ]
    },
    {
      "cell_type": "code",
      "execution_count": 34,
      "metadata": {
        "colab": {
          "base_uri": "https://localhost:8080/"
        },
        "id": "onq_aFfPK2sM",
        "outputId": "afb5e034-fc1f-4bcb-8bc7-eceff48f3fb4"
      },
      "outputs": [
        {
          "name": "stdout",
          "output_type": "stream",
          "text": [
            "INFO:tensorflow:Assets written to: model_101_foods_augmented_model/assets\n"
          ]
        },
        {
          "name": "stderr",
          "output_type": "stream",
          "text": [
            "INFO:tensorflow:Assets written to: model_101_foods_augmented_model/assets\n"
          ]
        }
      ],
      "source": [
        "# Save the new augmented model \n",
        "base_model_augmented.save(\"model_101_foods_augmented_model\")"
      ]
    },
    {
      "cell_type": "code",
      "execution_count": 35,
      "metadata": {
        "id": "H5i5Gbr4Xvqx"
      },
      "outputs": [],
      "source": [
        "# Load the augmented model\n",
        "base_model_augmented = tf.keras.models.load_model(\"model_101_foods_augmented_model\")"
      ]
    },
    {
      "cell_type": "code",
      "execution_count": 36,
      "metadata": {
        "id": "dEkQvjTTOgs_"
      },
      "outputs": [],
      "source": [
        "# Unfreeze the last 5 layers\n",
        "base_model_augmented.trainable = True\n",
        "\n",
        "for layer in base_model_augmented.layers[2].layers[:-5]:\n",
        "  layer.trainable = False"
      ]
    },
    {
      "cell_type": "code",
      "execution_count": 37,
      "metadata": {
        "colab": {
          "base_uri": "https://localhost:8080/"
        },
        "id": "mLRdqohuPF2S",
        "outputId": "d805e378-f6a5-4009-f8a6-10ca07d1814f"
      },
      "outputs": [
        {
          "name": "stdout",
          "output_type": "stream",
          "text": [
            "input_2 False\n",
            "rescaling_1 False\n",
            "normalization_1 False\n",
            "stem_conv_pad False\n",
            "stem_conv False\n",
            "stem_bn False\n",
            "stem_activation False\n",
            "block1a_dwconv False\n",
            "block1a_bn False\n",
            "block1a_activation False\n",
            "block1a_se_squeeze False\n",
            "block1a_se_reshape False\n",
            "block1a_se_reduce False\n",
            "block1a_se_expand False\n",
            "block1a_se_excite False\n",
            "block1a_project_conv False\n",
            "block1a_project_bn False\n",
            "block2a_expand_conv False\n",
            "block2a_expand_bn False\n",
            "block2a_expand_activation False\n",
            "block2a_dwconv_pad False\n",
            "block2a_dwconv False\n",
            "block2a_bn False\n",
            "block2a_activation False\n",
            "block2a_se_squeeze False\n",
            "block2a_se_reshape False\n",
            "block2a_se_reduce False\n",
            "block2a_se_expand False\n",
            "block2a_se_excite False\n",
            "block2a_project_conv False\n",
            "block2a_project_bn False\n",
            "block2b_expand_conv False\n",
            "block2b_expand_bn False\n",
            "block2b_expand_activation False\n",
            "block2b_dwconv False\n",
            "block2b_bn False\n",
            "block2b_activation False\n",
            "block2b_se_squeeze False\n",
            "block2b_se_reshape False\n",
            "block2b_se_reduce False\n",
            "block2b_se_expand False\n",
            "block2b_se_excite False\n",
            "block2b_project_conv False\n",
            "block2b_project_bn False\n",
            "block2b_drop False\n",
            "block2b_add False\n",
            "block3a_expand_conv False\n",
            "block3a_expand_bn False\n",
            "block3a_expand_activation False\n",
            "block3a_dwconv_pad False\n",
            "block3a_dwconv False\n",
            "block3a_bn False\n",
            "block3a_activation False\n",
            "block3a_se_squeeze False\n",
            "block3a_se_reshape False\n",
            "block3a_se_reduce False\n",
            "block3a_se_expand False\n",
            "block3a_se_excite False\n",
            "block3a_project_conv False\n",
            "block3a_project_bn False\n",
            "block3b_expand_conv False\n",
            "block3b_expand_bn False\n",
            "block3b_expand_activation False\n",
            "block3b_dwconv False\n",
            "block3b_bn False\n",
            "block3b_activation False\n",
            "block3b_se_squeeze False\n",
            "block3b_se_reshape False\n",
            "block3b_se_reduce False\n",
            "block3b_se_expand False\n",
            "block3b_se_excite False\n",
            "block3b_project_conv False\n",
            "block3b_project_bn False\n",
            "block3b_drop False\n",
            "block3b_add False\n",
            "block4a_expand_conv False\n",
            "block4a_expand_bn False\n",
            "block4a_expand_activation False\n",
            "block4a_dwconv_pad False\n",
            "block4a_dwconv False\n",
            "block4a_bn False\n",
            "block4a_activation False\n",
            "block4a_se_squeeze False\n",
            "block4a_se_reshape False\n",
            "block4a_se_reduce False\n",
            "block4a_se_expand False\n",
            "block4a_se_excite False\n",
            "block4a_project_conv False\n",
            "block4a_project_bn False\n",
            "block4b_expand_conv False\n",
            "block4b_expand_bn False\n",
            "block4b_expand_activation False\n",
            "block4b_dwconv False\n",
            "block4b_bn False\n",
            "block4b_activation False\n",
            "block4b_se_squeeze False\n",
            "block4b_se_reshape False\n",
            "block4b_se_reduce False\n",
            "block4b_se_expand False\n",
            "block4b_se_excite False\n",
            "block4b_project_conv False\n",
            "block4b_project_bn False\n",
            "block4b_drop False\n",
            "block4b_add False\n",
            "block4c_expand_conv False\n",
            "block4c_expand_bn False\n",
            "block4c_expand_activation False\n",
            "block4c_dwconv False\n",
            "block4c_bn False\n",
            "block4c_activation False\n",
            "block4c_se_squeeze False\n",
            "block4c_se_reshape False\n",
            "block4c_se_reduce False\n",
            "block4c_se_expand False\n",
            "block4c_se_excite False\n",
            "block4c_project_conv False\n",
            "block4c_project_bn False\n",
            "block4c_drop False\n",
            "block4c_add False\n",
            "block5a_expand_conv False\n",
            "block5a_expand_bn False\n",
            "block5a_expand_activation False\n",
            "block5a_dwconv False\n",
            "block5a_bn False\n",
            "block5a_activation False\n",
            "block5a_se_squeeze False\n",
            "block5a_se_reshape False\n",
            "block5a_se_reduce False\n",
            "block5a_se_expand False\n",
            "block5a_se_excite False\n",
            "block5a_project_conv False\n",
            "block5a_project_bn False\n",
            "block5b_expand_conv False\n",
            "block5b_expand_bn False\n",
            "block5b_expand_activation False\n",
            "block5b_dwconv False\n",
            "block5b_bn False\n",
            "block5b_activation False\n",
            "block5b_se_squeeze False\n",
            "block5b_se_reshape False\n",
            "block5b_se_reduce False\n",
            "block5b_se_expand False\n",
            "block5b_se_excite False\n",
            "block5b_project_conv False\n",
            "block5b_project_bn False\n",
            "block5b_drop False\n",
            "block5b_add False\n",
            "block5c_expand_conv False\n",
            "block5c_expand_bn False\n",
            "block5c_expand_activation False\n",
            "block5c_dwconv False\n",
            "block5c_bn False\n",
            "block5c_activation False\n",
            "block5c_se_squeeze False\n",
            "block5c_se_reshape False\n",
            "block5c_se_reduce False\n",
            "block5c_se_expand False\n",
            "block5c_se_excite False\n",
            "block5c_project_conv False\n",
            "block5c_project_bn False\n",
            "block5c_drop False\n",
            "block5c_add False\n",
            "block6a_expand_conv False\n",
            "block6a_expand_bn False\n",
            "block6a_expand_activation False\n",
            "block6a_dwconv_pad False\n",
            "block6a_dwconv False\n",
            "block6a_bn False\n",
            "block6a_activation False\n",
            "block6a_se_squeeze False\n",
            "block6a_se_reshape False\n",
            "block6a_se_reduce False\n",
            "block6a_se_expand False\n",
            "block6a_se_excite False\n",
            "block6a_project_conv False\n",
            "block6a_project_bn False\n",
            "block6b_expand_conv False\n",
            "block6b_expand_bn False\n",
            "block6b_expand_activation False\n",
            "block6b_dwconv False\n",
            "block6b_bn False\n",
            "block6b_activation False\n",
            "block6b_se_squeeze False\n",
            "block6b_se_reshape False\n",
            "block6b_se_reduce False\n",
            "block6b_se_expand False\n",
            "block6b_se_excite False\n",
            "block6b_project_conv False\n",
            "block6b_project_bn False\n",
            "block6b_drop False\n",
            "block6b_add False\n",
            "block6c_expand_conv False\n",
            "block6c_expand_bn False\n",
            "block6c_expand_activation False\n",
            "block6c_dwconv False\n",
            "block6c_bn False\n",
            "block6c_activation False\n",
            "block6c_se_squeeze False\n",
            "block6c_se_reshape False\n",
            "block6c_se_reduce False\n",
            "block6c_se_expand False\n",
            "block6c_se_excite False\n",
            "block6c_project_conv False\n",
            "block6c_project_bn False\n",
            "block6c_drop False\n",
            "block6c_add False\n",
            "block6d_expand_conv False\n",
            "block6d_expand_bn False\n",
            "block6d_expand_activation False\n",
            "block6d_dwconv False\n",
            "block6d_bn False\n",
            "block6d_activation False\n",
            "block6d_se_squeeze False\n",
            "block6d_se_reshape False\n",
            "block6d_se_reduce False\n",
            "block6d_se_expand False\n",
            "block6d_se_excite False\n",
            "block6d_project_conv False\n",
            "block6d_project_bn False\n",
            "block6d_drop False\n",
            "block6d_add False\n",
            "block7a_expand_conv False\n",
            "block7a_expand_bn False\n",
            "block7a_expand_activation False\n",
            "block7a_dwconv False\n",
            "block7a_bn False\n",
            "block7a_activation False\n",
            "block7a_se_squeeze False\n",
            "block7a_se_reshape False\n",
            "block7a_se_reduce False\n",
            "block7a_se_expand False\n",
            "block7a_se_excite False\n",
            "block7a_project_conv True\n",
            "block7a_project_bn True\n",
            "top_conv True\n",
            "top_bn True\n",
            "top_activation True\n"
          ]
        }
      ],
      "source": [
        "for layer in base_model_augmented.layers[2].layers:\n",
        "  print(layer.name, layer.trainable)"
      ]
    },
    {
      "cell_type": "code",
      "execution_count": 38,
      "metadata": {
        "colab": {
          "base_uri": "https://localhost:8080/"
        },
        "id": "pp0Vlg39PVep",
        "outputId": "bc575e04-5d97-400e-9b51-14631f08ef73"
      },
      "outputs": [
        {
          "name": "stdout",
          "output_type": "stream",
          "text": [
            "Saving TensorBoard log files to: training_log_aug/efficientnetb0_101_classes_all_data_augmented_fine_tuned/20220508-153022\n",
            "Epoch 3/6\n",
            "2368/2368 [==============================] - 183s 74ms/step - loss: 1.4735 - accuracy: 0.6193 - val_loss: 1.1453 - val_accuracy: 0.6894\n",
            "Epoch 4/6\n",
            "2368/2368 [==============================] - 178s 74ms/step - loss: 1.3546 - accuracy: 0.6458 - val_loss: 1.1027 - val_accuracy: 0.7034\n",
            "Epoch 5/6\n",
            "2368/2368 [==============================] - 176s 74ms/step - loss: 1.2812 - accuracy: 0.6622 - val_loss: 1.0834 - val_accuracy: 0.7068\n",
            "Epoch 6/6\n",
            "2368/2368 [==============================] - 171s 71ms/step - loss: 1.2304 - accuracy: 0.6754 - val_loss: 1.0627 - val_accuracy: 0.7079\n"
          ]
        }
      ],
      "source": [
        "# Fine-tune for another 3 epochs\n",
        "fine_tine_epochs = 6\n",
        "\n",
        "# Recompile the model\n",
        "base_model_augmented.compile(loss=\"sparse_categorical_crossentropy\",\n",
        "                optimizer=tf.keras.optimizers.Adam(learning_rate=0.0001),\n",
        "                metrics=[\"accuracy\"])\n",
        "\n",
        "# Fit the model\n",
        "history_3_101_foods_all_augmented = base_model_augmented.fit(train_data,\n",
        "                                                             epochs=fine_tine_epochs,\n",
        "                                                             validation_data=test_data,\n",
        "                                                             validation_steps=int(0.15*len(test_data)),\n",
        "                                                             callbacks=[create_tensorboard_callback(\n",
        "                                                                 \"training_log_aug\",\n",
        "                                                                 \"efficientnetb0_101_classes_all_data_augmented_fine_tuned\"\n",
        "                                                             )],\n",
        "                                                             initial_epoch=history_2_101_foods_all_augmented.epoch[-1])\n"
      ]
    },
    {
      "cell_type": "code",
      "execution_count": 39,
      "metadata": {
        "colab": {
          "base_uri": "https://localhost:8080/"
        },
        "id": "kLJssZWpSl-R",
        "outputId": "f89482b5-ac63-44c3-a0a2-c84ee951b524"
      },
      "outputs": [
        {
          "name": "stdout",
          "output_type": "stream",
          "text": [
            "790/790 [==============================] - 49s 62ms/step - loss: 1.0812 - accuracy: 0.7062\n"
          ]
        },
        {
          "data": {
            "text/plain": [
              "[1.0812370777130127, 0.7061781883239746]"
            ]
          },
          "execution_count": 39,
          "metadata": {},
          "output_type": "execute_result"
        }
      ],
      "source": [
        "# Evaluate the augmented and fine-tuned model over the whole test set\n",
        "base_model_augmented.evaluate(test_data)"
      ]
    },
    {
      "cell_type": "code",
      "execution_count": 40,
      "metadata": {
        "colab": {
          "base_uri": "https://localhost:8080/",
          "height": 573
        },
        "id": "_WfdKhyybdUZ",
        "outputId": "44359378-41f7-4d83-ad67-841e6e40a388"
      },
      "outputs": [
        {
          "data": {
            "image/png": "[encoded data removed]",
            "text/plain": [
              "<Figure size 432x288 with 1 Axes>"
            ]
          },
          "metadata": {
            "needs_background": "light"
          },
          "output_type": "display_data"
        },
        {
          "data": {
            "image/png": "[encoded data removed]",
            "text/plain": [
              "<Figure size 432x288 with 1 Axes>"
            ]
          },
          "metadata": {
            "needs_background": "light"
          },
          "output_type": "display_data"
        }
      ],
      "source": [
        "# Plot the loss curves of the new history\n",
        "# The model trend appears to be much better than last time!\n",
        "plot_loss_curves(history_3_101_foods_all_augmented)"
      ]
    },
    {
      "cell_type": "code",
      "execution_count": 41,
      "metadata": {
        "colab": {
          "base_uri": "https://localhost:8080/",
          "height": 513
        },
        "id": "RGg-TX1ScNkh",
        "outputId": "0b2a0bec-b612-4918-efc6-94a7689d43ac"
      },
      "outputs": [
        {
          "data": {
            "image/png": "[encoded data removed]",
            "text/plain": [
              "<Figure size 576x576 with 2 Axes>"
            ]
          },
          "metadata": {
            "needs_background": "light"
          },
          "output_type": "display_data"
        }
      ],
      "source": [
        "compare_historys(history_2_101_foods_all_augmented, history_3_101_foods_all_augmented, initial_epochs=3)"
      ]
    },
    {
      "cell_type": "markdown",
      "metadata": {
        "id": "0UALXBFsdEpa"
      },
      "source": [
        "Comparing the history of the new model with the old non-trainable one, it can be seen that the model stops improving as much at around 5 epochs."
      ]
    },
    {
      "cell_type": "code",
      "execution_count": 42,
      "metadata": {
        "id": "ERE_JG5FejiI"
      },
      "outputs": [],
      "source": [
        "# How about unfreezing 2 more layers and increasing the epochs by 1"
      ]
    },
    {
      "cell_type": "code",
      "execution_count": 43,
      "metadata": {
        "id": "09Rf2kmWfU74"
      },
      "outputs": [],
      "source": [
        "model_4_aug_fine_tuned = tf.keras.models.load_model(\"model_101_foods_augmented_model\")"
      ]
    },
    {
      "cell_type": "code",
      "execution_count": 44,
      "metadata": {
        "id": "NjJ1bvC0fqy6"
      },
      "outputs": [],
      "source": [
        "# Unfreeze the last 7 layers\n",
        "model_4_aug_fine_tuned.trainable = True\n",
        "\n",
        "for layer in model_4_aug_fine_tuned.layers[2].layers[:-7]:\n",
        "  layer.trainable = False"
      ]
    },
    {
      "cell_type": "code",
      "execution_count": 45,
      "metadata": {
        "colab": {
          "base_uri": "https://localhost:8080/"
        },
        "id": "oRKGRBvqfyJa",
        "outputId": "99e3a34f-8749-4dc0-d7db-a018d0a64d47"
      },
      "outputs": [
        {
          "name": "stdout",
          "output_type": "stream",
          "text": [
            "Saving TensorBoard log files to: training_log_aug/efficientnetb0_101_classes_all_data_augmented_fine_tuned_7Layers/20220508-154436\n",
            "Epoch 3/7\n",
            "2368/2368 [==============================] - 183s 74ms/step - loss: 1.4637 - accuracy: 0.6222 - val_loss: 1.1267 - val_accuracy: 0.7005\n",
            "Epoch 4/7\n",
            "2368/2368 [==============================] - 177s 74ms/step - loss: 1.3454 - accuracy: 0.6490 - val_loss: 1.0874 - val_accuracy: 0.7084\n",
            "Epoch 5/7\n",
            "2368/2368 [==============================] - 170s 71ms/step - loss: 1.2665 - accuracy: 0.6661 - val_loss: 1.0543 - val_accuracy: 0.7177\n",
            "Epoch 6/7\n",
            "2368/2368 [==============================] - 174s 73ms/step - loss: 1.2042 - accuracy: 0.6804 - val_loss: 1.0375 - val_accuracy: 0.7142\n",
            "Epoch 7/7\n",
            "2368/2368 [==============================] - 176s 73ms/step - loss: 1.1578 - accuracy: 0.6936 - val_loss: 1.0233 - val_accuracy: 0.7206\n"
          ]
        }
      ],
      "source": [
        "# Fine-tune for another 4 epochs\n",
        "fine_tine_epochs = 7\n",
        "\n",
        "# Recompile the model\n",
        "model_4_aug_fine_tuned.compile(loss=\"sparse_categorical_crossentropy\",\n",
        "                optimizer=tf.keras.optimizers.Adam(learning_rate=0.0001),\n",
        "                metrics=[\"accuracy\"])\n",
        "\n",
        "# Fit the model\n",
        "history_4_101_foods_all_augmented = model_4_aug_fine_tuned.fit(train_data,\n",
        "                                                             epochs=fine_tine_epochs,\n",
        "                                                             validation_data=test_data,\n",
        "                                                             validation_steps=int(0.15*len(test_data)),\n",
        "                                                             callbacks=[create_tensorboard_callback(\n",
        "                                                                 \"training_log_aug\",\n",
        "                                                                 \"efficientnetb0_101_classes_all_data_augmented_fine_tuned_7Layers\"\n",
        "                                                             )],\n",
        "                                                             initial_epoch=history_2_101_foods_all_augmented.epoch[-1])\n"
      ]
    },
    {
      "cell_type": "code",
      "execution_count": null,
      "metadata": {
        "colab": {
          "base_uri": "https://localhost:8080/",
          "height": 573
        },
        "id": "HOCt9vw-gHdJ",
        "outputId": "50137459-851d-4e06-e60c-3f6b63646095"
      },
      "outputs": [
        {
          "data": {
            "image/png": "[encoded data removed]",
            "text/plain": [
              "<Figure size 432x288 with 1 Axes>"
            ]
          },
          "metadata": {
            "needs_background": "light"
          },
          "output_type": "display_data"
        },
        {
          "data": {
            "image/png": "[encoded data removed]",
            "text/plain": [
              "<Figure size 432x288 with 1 Axes>"
            ]
          },
          "metadata": {
            "needs_background": "light"
          },
          "output_type": "display_data"
        }
      ],
      "source": [
        "# The last epochs seems to barely make a dent but the over all trend apepear \n",
        "# to be good\n",
        "plot_loss_curves(history_4_101_foods_all_augmented)"
      ]
    },
    {
      "cell_type": "code",
      "execution_count": null,
      "metadata": {
        "colab": {
          "base_uri": "https://localhost:8080/",
          "height": 513
        },
        "id": "Q-p7fb3dj37T",
        "outputId": "138fb773-9685-468d-9897-7ff169154fc5"
      },
      "outputs": [
        {
          "data": {
            "image/png": "[encoded data removed]",
            "text/plain": [
              "<Figure size 576x576 with 2 Axes>"
            ]
          },
          "metadata": {
            "needs_background": "light"
          },
          "output_type": "display_data"
        }
      ],
      "source": [
        "compare_historys(history_2_101_foods_all_augmented,history_4_101_foods_all_augmented, initial_epochs=3)"
      ]
    },
    {
      "cell_type": "code",
      "execution_count": 46,
      "metadata": {
        "colab": {
          "base_uri": "https://localhost:8080/"
        },
        "id": "Sfmteqa4kWkj",
        "outputId": "8ddf8ba7-f36c-4bcc-cfeb-f746d96073c9"
      },
      "outputs": [
        {
          "name": "stdout",
          "output_type": "stream",
          "text": [
            "INFO:tensorflow:Assets written to: model_101_foods_augmented_model_7t_Layers/assets\n"
          ]
        },
        {
          "name": "stderr",
          "output_type": "stream",
          "text": [
            "INFO:tensorflow:Assets written to: model_101_foods_augmented_model_7t_Layers/assets\n"
          ]
        }
      ],
      "source": [
        "# Save the model\n",
        "model_4_aug_fine_tuned.save(\"model_101_foods_augmented_model_7t_Layers\")"
      ]
    },
    {
      "cell_type": "code",
      "execution_count": null,
      "metadata": {
        "colab": {
          "base_uri": "https://localhost:8080/",
          "height": 139
        },
        "id": "csrRapBulDa6",
        "outputId": "9c26c422-fedf-4052-b3f4-f2da77ba6578"
      },
      "outputs": [
        {
          "name": "stdout",
          "output_type": "stream",
          "text": [
            "  adding: content/model_101_foods_augmented_model_7t_Layers/ (stored 0%)\n",
            "  adding: content/model_101_foods_augmented_model_7t_Layers/assets/ (stored 0%)\n",
            "  adding: content/model_101_foods_augmented_model_7t_Layers/saved_model.pb (deflated 91%)\n",
            "  adding: content/model_101_foods_augmented_model_7t_Layers/variables/ (stored 0%)\n",
            "  adding: content/model_101_foods_augmented_model_7t_Layers/variables/variables.index (deflated 74%)\n",
            "  adding: content/model_101_foods_augmented_model_7t_Layers/variables/variables.data-00000-of-00001 (deflated 8%)\n",
            "  adding: content/model_101_foods_augmented_model_7t_Layers/keras_metadata.pb (deflated 96%)\n"
          ]
        },
        {
          "data": {
            "application/javascript": "\n    async function download(id, filename, size) {\n      if (!google.colab.kernel.accessAllowed) {\n        return;\n      }\n      const div = document.createElement('div');\n      const label = document.createElement('label');\n      label.textContent = `Downloading \"${filename}\": `;\n      div.appendChild(label);\n      const progress = document.createElement('progress');\n      progress.max = size;\n      div.appendChild(progress);\n      document.body.appendChild(div);\n\n      const buffers = [];\n      let downloaded = 0;\n\n      const channel = await google.colab.kernel.comms.open(id);\n      // Send a message to notify the kernel that we're ready.\n      channel.send({})\n\n      for await (const message of channel.messages) {\n        // Send a message to notify the kernel that we're ready.\n        channel.send({})\n        if (message.buffers) {\n          for (const buffer of message.buffers) {\n            buffers.push(buffer);\n            downloaded += buffer.byteLength;\n            progress.value = downloaded;\n          }\n        }\n      }\n      const blob = new Blob(buffers, {type: 'application/binary'});\n      const a = document.createElement('a');\n      a.href = window.URL.createObjectURL(blob);\n      a.download = filename;\n      div.appendChild(a);\n      a.click();\n      div.remove();\n    }\n  ",
            "text/plain": [
              "<IPython.core.display.Javascript object>"
            ]
          },
          "metadata": {},
          "output_type": "display_data"
        },
        {
          "data": {
            "application/javascript": "download(\"download_0d6abf30-bc97-4957-8d60-81db7f2e24d0\", \"model_tuned.zip\", 23423265)",
            "text/plain": [
              "<IPython.core.display.Javascript object>"
            ]
          },
          "metadata": {},
          "output_type": "display_data"
        }
      ],
      "source": [
        "# Colab commands to download the model\n",
        "!zip -r /content/model_tuned.zip /content/model_101_foods_augmented_model_7t_Layers\n",
        "\n",
        "# Download the file \n",
        "from google.colab import files\n",
        "files.download(\"/content/model_tuned.zip\")"
      ]
    },
    {
      "cell_type": "code",
      "execution_count": 47,
      "metadata": {
        "id": "vafFjDhAlZEr"
      },
      "outputs": [],
      "source": [
        "# Final model with 10 layers and 8 epochs\n",
        "model_5_aug_fine_tuned = tf.keras.models.load_model(\"model_101_foods_augmented_model\")"
      ]
    },
    {
      "cell_type": "code",
      "execution_count": 48,
      "metadata": {
        "id": "QKGInLminaOy"
      },
      "outputs": [],
      "source": [
        "# Unfreeze the last 10 layers\n",
        "model_5_aug_fine_tuned.trainable = True\n",
        "\n",
        "for layer in model_5_aug_fine_tuned.layers[2].layers[:-10]:\n",
        "  layer.trainable = False"
      ]
    },
    {
      "cell_type": "code",
      "execution_count": 49,
      "metadata": {
        "colab": {
          "base_uri": "https://localhost:8080/"
        },
        "id": "pU8mYaWjnkLj",
        "outputId": "891b6724-99bc-4880-afc1-05330b119327"
      },
      "outputs": [
        {
          "name": "stdout",
          "output_type": "stream",
          "text": [
            "Saving TensorBoard log files to: training_log_aug/efficientnetb0_101_classes_all_data_augmented_fine_tuned_10Layers/20220508-160141\n",
            "Epoch 3/8\n",
            "2368/2368 [==============================] - 184s 74ms/step - loss: 1.4544 - accuracy: 0.6240 - val_loss: 1.1212 - val_accuracy: 0.6917\n",
            "Epoch 4/8\n",
            "2368/2368 [==============================] - 176s 74ms/step - loss: 1.3374 - accuracy: 0.6507 - val_loss: 1.0934 - val_accuracy: 0.7060\n",
            "Epoch 5/8\n",
            "2368/2368 [==============================] - 180s 75ms/step - loss: 1.2538 - accuracy: 0.6695 - val_loss: 1.0682 - val_accuracy: 0.7119\n",
            "Epoch 6/8\n",
            "2368/2368 [==============================] - 177s 74ms/step - loss: 1.1923 - accuracy: 0.6830 - val_loss: 1.0523 - val_accuracy: 0.7124\n",
            "Epoch 7/8\n",
            "2368/2368 [==============================] - 179s 74ms/step - loss: 1.1306 - accuracy: 0.6964 - val_loss: 1.0474 - val_accuracy: 0.7100\n",
            "Epoch 8/8\n",
            "2368/2368 [==============================] - 177s 74ms/step - loss: 1.0891 - accuracy: 0.7058 - val_loss: 1.0293 - val_accuracy: 0.7153\n"
          ]
        }
      ],
      "source": [
        "# Fine-tune for another 5 epochs\n",
        "fine_tine_epochs = 8\n",
        "\n",
        "# Recompile the model\n",
        "model_5_aug_fine_tuned.compile(loss=\"sparse_categorical_crossentropy\",\n",
        "                optimizer=tf.keras.optimizers.Adam(learning_rate=0.0001),\n",
        "                metrics=[\"accuracy\"])\n",
        "\n",
        "# Fit the model\n",
        "history_5_101_foods_all_augmented = model_5_aug_fine_tuned.fit(train_data,\n",
        "                                                             epochs=fine_tine_epochs,\n",
        "                                                             validation_data=test_data,\n",
        "                                                             validation_steps=int(0.15*len(test_data)),\n",
        "                                                             callbacks=[create_tensorboard_callback(\n",
        "                                                                 \"training_log_aug\",\n",
        "                                                                 \"efficientnetb0_101_classes_all_data_augmented_fine_tuned_10Layers\"\n",
        "                                                             )],\n",
        "                                                             initial_epoch=history_2_101_foods_all_augmented.epoch[-1])\n"
      ]
    },
    {
      "cell_type": "code",
      "execution_count": 51,
      "metadata": {
        "colab": {
          "base_uri": "https://localhost:8080/"
        },
        "id": "2NNWiTSmn6jU",
        "outputId": "fd13aef1-19b3-49f5-e029-875e3ad0ed47"
      },
      "outputs": [
        {
          "name": "stdout",
          "output_type": "stream",
          "text": [
            "790/790 [==============================] - 49s 62ms/step - loss: 1.0345 - accuracy: 0.7181\n",
            "790/790 [==============================] - 54s 68ms/step - loss: 1.0305 - accuracy: 0.7149\n"
          ]
        },
        {
          "data": {
            "text/plain": [
              "([1.034497618675232, 0.7180989980697632],\n",
              " [1.0304607152938843, 0.7148514986038208])"
            ]
          },
          "execution_count": 51,
          "metadata": {},
          "output_type": "execute_result"
        }
      ],
      "source": [
        "# Evaluate the performance of model_4 and model_5 since validation only looks at 15% of the test data\n",
        "model_4_aug_fine_tuned.evaluate(test_data), model_5_aug_fine_tuned.evaluate(test_data)"
      ]
    },
    {
      "cell_type": "code",
      "execution_count": 52,
      "metadata": {
        "colab": {
          "base_uri": "https://localhost:8080/",
          "height": 573
        },
        "id": "fij4hi2dnt5B",
        "outputId": "55f85b36-02d1-48e2-980c-908d01dc6ce5"
      },
      "outputs": [
        {
          "data": {
            "image/png": "[encoded data removed]",
            "text/plain": [
              "<Figure size 432x288 with 1 Axes>"
            ]
          },
          "metadata": {
            "needs_background": "light"
          },
          "output_type": "display_data"
        },
        {
          "data": {
            "image/png": "[encoded data removed]",
            "text/plain": [
              "<Figure size 432x288 with 1 Axes>"
            ]
          },
          "metadata": {
            "needs_background": "light"
          },
          "output_type": "display_data"
        }
      ],
      "source": [
        "plot_loss_curves(history_5_101_foods_all_augmented)"
      ]
    },
    {
      "cell_type": "code",
      "execution_count": 53,
      "metadata": {
        "colab": {
          "base_uri": "https://localhost:8080/",
          "height": 513
        },
        "id": "3hP87BQQnwwj",
        "outputId": "1f7c3acf-14fd-4790-c513-3bc717375624"
      },
      "outputs": [
        {
          "data": {
            "image/png": "[encoded data removed]",
            "text/plain": [
              "<Figure size 576x576 with 2 Axes>"
            ]
          },
          "metadata": {
            "needs_background": "light"
          },
          "output_type": "display_data"
        }
      ],
      "source": [
        "compare_historys(history_2_101_foods_all_augmented,history_5_101_foods_all_augmented, initial_epochs=3)"
      ]
    },
    {
      "cell_type": "code",
      "execution_count": 50,
      "metadata": {
        "colab": {
          "base_uri": "https://localhost:8080/",
          "height": 607
        },
        "id": "nti2u63qn5qk",
        "outputId": "fc15eaf9-6003-497d-8c55-24ad9c7e6e42"
      },
      "outputs": [
        {
          "name": "stdout",
          "output_type": "stream",
          "text": [
            "INFO:tensorflow:Assets written to: model_101_foods_augmented_model_10t_Layers/assets\n"
          ]
        },
        {
          "name": "stderr",
          "output_type": "stream",
          "text": [
            "INFO:tensorflow:Assets written to: model_101_foods_augmented_model_10t_Layers/assets\n"
          ]
        },
        {
          "name": "stdout",
          "output_type": "stream",
          "text": [
            "  adding: content/model_101_foods_augmented_model_10t_Layers/ (stored 0%)\n",
            "  adding: content/model_101_foods_augmented_model_10t_Layers/assets/ (stored 0%)\n",
            "  adding: content/model_101_foods_augmented_model_10t_Layers/saved_model.pb (deflated 91%)\n",
            "  adding: content/model_101_foods_augmented_model_10t_Layers/variables/ (stored 0%)\n",
            "  adding: content/model_101_foods_augmented_model_10t_Layers/variables/variables.index (deflated 74%)\n",
            "  adding: content/model_101_foods_augmented_model_10t_Layers/variables/variables.data-00000-of-00001 (deflated 8%)\n",
            "  adding: content/model_101_foods_augmented_model_10t_Layers/keras_metadata.pb (deflated 96%)\n",
            "  adding: content/training_log_aug/ (stored 0%)\n",
            "  adding: content/training_log_aug/efficientnetb0_101_classes_all_data_augmented_fine_tuned/ (stored 0%)\n",
            "  adding: content/training_log_aug/efficientnetb0_101_classes_all_data_augmented_fine_tuned/20220508-153022/ (stored 0%)\n",
            "  adding: content/training_log_aug/efficientnetb0_101_classes_all_data_augmented_fine_tuned/20220508-153022/train/ (stored 0%)\n",
            "  adding: content/training_log_aug/efficientnetb0_101_classes_all_data_augmented_fine_tuned/20220508-153022/train/events.out.tfevents.1652023822.62aec866d2e0.73.4.v2 (deflated 93%)\n",
            "  adding: content/training_log_aug/efficientnetb0_101_classes_all_data_augmented_fine_tuned/20220508-153022/validation/ (stored 0%)\n",
            "  adding: content/training_log_aug/efficientnetb0_101_classes_all_data_augmented_fine_tuned/20220508-153022/validation/events.out.tfevents.1652023998.62aec866d2e0.73.5.v2 (deflated 66%)\n",
            "  adding: content/training_log_aug/efficientnetb0_101_classes_all_data_augmented/ (stored 0%)\n",
            "  adding: content/training_log_aug/efficientnetb0_101_classes_all_data_augmented/20220508-151816/ (stored 0%)\n",
            "  adding: content/training_log_aug/efficientnetb0_101_classes_all_data_augmented/20220508-151816/train/ (stored 0%)\n",
            "  adding: content/training_log_aug/efficientnetb0_101_classes_all_data_augmented/20220508-151816/train/events.out.tfevents.1652023096.62aec866d2e0.73.2.v2 (deflated 93%)\n",
            "  adding: content/training_log_aug/efficientnetb0_101_classes_all_data_augmented/20220508-151816/validation/ (stored 0%)\n",
            "  adding: content/training_log_aug/efficientnetb0_101_classes_all_data_augmented/20220508-151816/validation/events.out.tfevents.1652023286.62aec866d2e0.73.3.v2 (deflated 61%)\n",
            "  adding: content/training_log_aug/efficientnetb0_101_classes_all_data_augmented_fine_tuned_7Layers/ (stored 0%)\n",
            "  adding: content/training_log_aug/efficientnetb0_101_classes_all_data_augmented_fine_tuned_7Layers/20220508-154436/ (stored 0%)\n",
            "  adding: content/training_log_aug/efficientnetb0_101_classes_all_data_augmented_fine_tuned_7Layers/20220508-154436/train/ (stored 0%)\n",
            "  adding: content/training_log_aug/efficientnetb0_101_classes_all_data_augmented_fine_tuned_7Layers/20220508-154436/train/events.out.tfevents.1652024676.62aec866d2e0.73.6.v2 (deflated 93%)\n",
            "  adding: content/training_log_aug/efficientnetb0_101_classes_all_data_augmented_fine_tuned_7Layers/20220508-154436/validation/ (stored 0%)\n",
            "  adding: content/training_log_aug/efficientnetb0_101_classes_all_data_augmented_fine_tuned_7Layers/20220508-154436/validation/events.out.tfevents.1652024850.62aec866d2e0.73.7.v2 (deflated 68%)\n",
            "  adding: content/training_log_aug/efficientnetb0_101_classes_all_data_augmented_fine_tuned_10Layers/ (stored 0%)\n",
            "  adding: content/training_log_aug/efficientnetb0_101_classes_all_data_augmented_fine_tuned_10Layers/20220508-160141/ (stored 0%)\n",
            "  adding: content/training_log_aug/efficientnetb0_101_classes_all_data_augmented_fine_tuned_10Layers/20220508-160141/train/ (stored 0%)\n",
            "  adding: content/training_log_aug/efficientnetb0_101_classes_all_data_augmented_fine_tuned_10Layers/20220508-160141/train/events.out.tfevents.1652025701.62aec866d2e0.73.8.v2 (deflated 93%)\n",
            "  adding: content/training_log_aug/efficientnetb0_101_classes_all_data_augmented_fine_tuned_10Layers/20220508-160141/validation/ (stored 0%)\n",
            "  adding: content/training_log_aug/efficientnetb0_101_classes_all_data_augmented_fine_tuned_10Layers/20220508-160141/validation/events.out.tfevents.1652025877.62aec866d2e0.73.9.v2 (deflated 69%)\n"
          ]
        },
        {
          "data": {
            "application/javascript": "\n    async function download(id, filename, size) {\n      if (!google.colab.kernel.accessAllowed) {\n        return;\n      }\n      const div = document.createElement('div');\n      const label = document.createElement('label');\n      label.textContent = `Downloading \"${filename}\": `;\n      div.appendChild(label);\n      const progress = document.createElement('progress');\n      progress.max = size;\n      div.appendChild(progress);\n      document.body.appendChild(div);\n\n      const buffers = [];\n      let downloaded = 0;\n\n      const channel = await google.colab.kernel.comms.open(id);\n      // Send a message to notify the kernel that we're ready.\n      channel.send({})\n\n      for await (const message of channel.messages) {\n        // Send a message to notify the kernel that we're ready.\n        channel.send({})\n        if (message.buffers) {\n          for (const buffer of message.buffers) {\n            buffers.push(buffer);\n            downloaded += buffer.byteLength;\n            progress.value = downloaded;\n          }\n        }\n      }\n      const blob = new Blob(buffers, {type: 'application/binary'});\n      const a = document.createElement('a');\n      a.href = window.URL.createObjectURL(blob);\n      a.download = filename;\n      div.appendChild(a);\n      a.click();\n      div.remove();\n    }\n  ",
            "text/plain": [
              "<IPython.core.display.Javascript object>"
            ]
          },
          "metadata": {},
          "output_type": "display_data"
        },
        {
          "data": {
            "application/javascript": "download(\"download_e8a9f44e-f2d5-4eda-9275-fd9754d4ca67\", \"model_tuned_10L.zip\", 23834288)",
            "text/plain": [
              "<IPython.core.display.Javascript object>"
            ]
          },
          "metadata": {},
          "output_type": "display_data"
        },
        {
          "data": {
            "application/javascript": "\n    async function download(id, filename, size) {\n      if (!google.colab.kernel.accessAllowed) {\n        return;\n      }\n      const div = document.createElement('div');\n      const label = document.createElement('label');\n      label.textContent = `Downloading \"${filename}\": `;\n      div.appendChild(label);\n      const progress = document.createElement('progress');\n      progress.max = size;\n      div.appendChild(progress);\n      document.body.appendChild(div);\n\n      const buffers = [];\n      let downloaded = 0;\n\n      const channel = await google.colab.kernel.comms.open(id);\n      // Send a message to notify the kernel that we're ready.\n      channel.send({})\n\n      for await (const message of channel.messages) {\n        // Send a message to notify the kernel that we're ready.\n        channel.send({})\n        if (message.buffers) {\n          for (const buffer of message.buffers) {\n            buffers.push(buffer);\n            downloaded += buffer.byteLength;\n            progress.value = downloaded;\n          }\n        }\n      }\n      const blob = new Blob(buffers, {type: 'application/binary'});\n      const a = document.createElement('a');\n      a.href = window.URL.createObjectURL(blob);\n      a.download = filename;\n      div.appendChild(a);\n      a.click();\n      div.remove();\n    }\n  ",
            "text/plain": [
              "<IPython.core.display.Javascript object>"
            ]
          },
          "metadata": {},
          "output_type": "display_data"
        },
        {
          "data": {
            "application/javascript": "download(\"download_458544ae-36b4-48df-9848-545fb9157f08\", \"training_log_aug.zip\", 317747)",
            "text/plain": [
              "<IPython.core.display.Javascript object>"
            ]
          },
          "metadata": {},
          "output_type": "display_data"
        }
      ],
      "source": [
        "# Save the model\n",
        "model_5_aug_fine_tuned.save(\"model_101_foods_augmented_model_10t_Layers\")\n",
        "\n",
        "# Colab commands to download the model\n",
        "!zip -r /content/model_tuned_10L.zip /content/model_101_foods_augmented_model_10t_Layers\n",
        "!zip -r /content/training_log_aug.zip /content/training_log_aug\n",
        "\n",
        "\n",
        "# Download the file \n",
        "from google.colab import files\n",
        "files.download(\"/content/model_tuned_10L.zip\")\n",
        "files.download(\"/content/training_log_aug.zip\")"
      ]
    },
    {
      "cell_type": "markdown",
      "metadata": {
        "id": "nyIVE1ARf5Wu"
      },
      "source": [
        "## Upload the logs on tensorboard and visualize the progress"
      ]
    },
    {
      "cell_type": "code",
      "execution_count": 102,
      "metadata": {
        "colab": {
          "base_uri": "https://localhost:8080/"
        },
        "id": "KulQsd4bf7jH",
        "outputId": "50504d72-9e6c-44c9-cb37-ceda33e68f34"
      },
      "outputs": [
        {
          "name": "stdout",
          "output_type": "stream",
          "text": [
            "\n",
            "New experiment created. View your TensorBoard at: https://tensorboard.dev/experiment/TQ3oMo3YTamvnryGxVpOSw/\n",
            "\n",
            "\u001b[1m[2022-05-08T16:58:42]\u001b[0m Started scanning logdir.\n",
            "\u001b[1m[2022-05-08T16:58:46]\u001b[0m Total uploaded: 108 scalars, 0 tensors, 4 binary objects (3.6 MB)\n",
            "\u001b[1m[2022-05-08T16:58:46]\u001b[0m Done scanning logdir.\n",
            "\n",
            "\n",
            "Done. View your TensorBoard at https://tensorboard.dev/experiment/TQ3oMo3YTamvnryGxVpOSw/\n"
          ]
        }
      ],
      "source": [
        "!tensorboard dev upload --logdir /content/training_log_aug \\\n",
        "--name \"Transfer Learning Experiment with 101 Food Types\" \\\n",
        "--description \"A series of different transfer learning experiments with data augmentation and fine-tuning\" \\\n",
        "--one_shot "
      ]
    },
    {
      "cell_type": "code",
      "execution_count": null,
      "metadata": {
        "id": "4ZQSRXUvnLIo"
      },
      "outputs": [],
      "source": []
    }
  ],
  "metadata": {
    "accelerator": "GPU",
    "colab": {
      "collapsed_sections": [],
      "name": "07_Food_Vision_Big_Milestone_Project (1).ipynb",
      "provenance": []
    },
    "kernelspec": {
      "display_name": "Python 3",
      "name": "python3"
    },
    "language_info": {
      "name": "python"
    },
    "widgets": {
      "application/vnd.jupyter.widget-state+json": {
        "004ee6f8e45348ed87f432782a9b2fbd": {
          "model_module": "@jupyter-widgets/controls",
          "model_module_version": "1.5.0",
          "model_name": "DescriptionStyleModel",
          "state": {
            "_model_module": "@jupyter-widgets/controls",
            "_model_module_version": "1.5.0",
            "_model_name": "DescriptionStyleModel",
            "_view_count": null,
            "_view_module": "@jupyter-widgets/base",
            "_view_module_version": "1.2.0",
            "_view_name": "StyleView",
            "description_width": ""
          }
        },
        "00f01f98e3e44841b544ef5f0f34fb5f": {
          "model_module": "@jupyter-widgets/base",
          "model_module_version": "1.2.0",
          "model_name": "LayoutModel",
          "state": {
            "_model_module": "@jupyter-widgets/base",
            "_model_module_version": "1.2.0",
            "_model_name": "LayoutModel",
            "_view_count": null,
            "_view_module": "@jupyter-widgets/base",
            "_view_module_version": "1.2.0",
            "_view_name": "LayoutView",
            "align_content": null,
            "align_items": null,
            "align_self": null,
            "border": null,
            "bottom": null,
            "display": null,
            "flex": null,
            "flex_flow": null,
            "grid_area": null,
            "grid_auto_columns": null,
            "grid_auto_flow": null,
            "grid_auto_rows": null,
            "grid_column": null,
            "grid_gap": null,
            "grid_row": null,
            "grid_template_areas": null,
            "grid_template_columns": null,
            "grid_template_rows": null,
            "height": null,
            "justify_content": null,
            "justify_items": null,
            "left": null,
            "margin": null,
            "max_height": null,
            "max_width": null,
            "min_height": null,
            "min_width": null,
            "object_fit": null,
            "object_position": null,
            "order": null,
            "overflow": null,
            "overflow_x": null,
            "overflow_y": null,
            "padding": null,
            "right": null,
            "top": null,
            "visibility": null,
            "width": "20px"
          }
        },
        "048ef588dbba4505b87b3554cda5e2e8": {
          "model_module": "@jupyter-widgets/controls",
          "model_module_version": "1.5.0",
          "model_name": "HTMLModel",
          "state": {
            "_dom_classes": [],
            "_model_module": "@jupyter-widgets/controls",
            "_model_module_version": "1.5.0",
            "_model_name": "HTMLModel",
            "_view_count": null,
            "_view_module": "@jupyter-widgets/controls",
            "_view_module_version": "1.5.0",
            "_view_name": "HTMLView",
            "description": "",
            "description_tooltip": null,
            "layout": "IPY_MODEL_d8f697bc58d94848b7e303e5c100aa10",
            "placeholder": "​",
            "style": "IPY_MODEL_d337613e16d84530ab9466d84f4e9016",
            "value": "Extraction completed...: 100%"
          }
        },
        "071afdf76e71437fa25c79869690d24d": {
          "model_module": "@jupyter-widgets/controls",
          "model_module_version": "1.5.0",
          "model_name": "HTMLModel",
          "state": {
            "_dom_classes": [],
            "_model_module": "@jupyter-widgets/controls",
            "_model_module_version": "1.5.0",
            "_model_name": "HTMLModel",
            "_view_count": null,
            "_view_module": "@jupyter-widgets/controls",
            "_view_module_version": "1.5.0",
            "_view_name": "HTMLView",
            "description": "",
            "description_tooltip": null,
            "layout": "IPY_MODEL_9ed59e2f717248ef831786235df8f3b5",
            "placeholder": "​",
            "style": "IPY_MODEL_b5303afb29984974adc78dd79fb558b8",
            "value": "100%"
          }
        },
        "0ad23b8e28824819b3de22895faf7260": {
          "model_module": "@jupyter-widgets/controls",
          "model_module_version": "1.5.0",
          "model_name": "FloatProgressModel",
          "state": {
            "_dom_classes": [],
            "_model_module": "@jupyter-widgets/controls",
            "_model_module_version": "1.5.0",
            "_model_name": "FloatProgressModel",
            "_view_count": null,
            "_view_module": "@jupyter-widgets/controls",
            "_view_module_version": "1.5.0",
            "_view_name": "ProgressView",
            "bar_style": "danger",
            "description": "",
            "description_tooltip": null,
            "layout": "IPY_MODEL_5391db933d134cc19700705c63177da6",
            "max": 25250,
            "min": 0,
            "orientation": "horizontal",
            "style": "IPY_MODEL_f64b5d3a939d47f0b066f806ffbd293c",
            "value": 25249
          }
        },
        "14087cd1f1d7461baa64f6ab903d9c34": {
          "model_module": "@jupyter-widgets/base",
          "model_module_version": "1.2.0",
          "model_name": "LayoutModel",
          "state": {
            "_model_module": "@jupyter-widgets/base",
            "_model_module_version": "1.2.0",
            "_model_name": "LayoutModel",
            "_view_count": null,
            "_view_module": "@jupyter-widgets/base",
            "_view_module_version": "1.2.0",
            "_view_name": "LayoutView",
            "align_content": null,
            "align_items": null,
            "align_self": null,
            "border": null,
            "bottom": null,
            "display": null,
            "flex": null,
            "flex_flow": null,
            "grid_area": null,
            "grid_auto_columns": null,
            "grid_auto_flow": null,
            "grid_auto_rows": null,
            "grid_column": null,
            "grid_gap": null,
            "grid_row": null,
            "grid_template_areas": null,
            "grid_template_columns": null,
            "grid_template_rows": null,
            "height": null,
            "justify_content": null,
            "justify_items": null,
            "left": null,
            "margin": null,
            "max_height": null,
            "max_width": null,
            "min_height": null,
            "min_width": null,
            "object_fit": null,
            "object_position": null,
            "order": null,
            "overflow": null,
            "overflow_x": null,
            "overflow_y": null,
            "padding": null,
            "right": null,
            "top": null,
            "visibility": null,
            "width": null
          }
        },
        "1c77218afec148b1b877b614b8ff4a2a": {
          "model_module": "@jupyter-widgets/controls",
          "model_module_version": "1.5.0",
          "model_name": "HBoxModel",
          "state": {
            "_dom_classes": [],
            "_model_module": "@jupyter-widgets/controls",
            "_model_module_version": "1.5.0",
            "_model_name": "HBoxModel",
            "_view_count": null,
            "_view_module": "@jupyter-widgets/controls",
            "_view_module_version": "1.5.0",
            "_view_name": "HBoxView",
            "box_style": "",
            "children": [
              "IPY_MODEL_ade9e87d1fd24eedbfcbbc18e15759db",
              "IPY_MODEL_217ed34310a443ee9f9f04b1e8738e04",
              "IPY_MODEL_e707dceb0ad84c9ebb2b363a30154ef8"
            ],
            "layout": "IPY_MODEL_988db618462d49dc9760b135add9eb78"
          }
        },
        "217ed34310a443ee9f9f04b1e8738e04": {
          "model_module": "@jupyter-widgets/controls",
          "model_module_version": "1.5.0",
          "model_name": "FloatProgressModel",
          "state": {
            "_dom_classes": [],
            "_model_module": "@jupyter-widgets/controls",
            "_model_module_version": "1.5.0",
            "_model_name": "FloatProgressModel",
            "_view_count": null,
            "_view_module": "@jupyter-widgets/controls",
            "_view_module_version": "1.5.0",
            "_view_name": "ProgressView",
            "bar_style": "info",
            "description": "",
            "description_tooltip": null,
            "layout": "IPY_MODEL_a3cff8f7f66c4ffdb0cd2c52ddc82bab",
            "max": 1,
            "min": 0,
            "orientation": "horizontal",
            "style": "IPY_MODEL_52e00882418b4d7993df1dc8746fded4",
            "value": 1
          }
        },
        "21b811c6721d418d985690fa2de7524e": {
          "model_module": "@jupyter-widgets/controls",
          "model_module_version": "1.5.0",
          "model_name": "DescriptionStyleModel",
          "state": {
            "_model_module": "@jupyter-widgets/controls",
            "_model_module_version": "1.5.0",
            "_model_name": "DescriptionStyleModel",
            "_view_count": null,
            "_view_module": "@jupyter-widgets/base",
            "_view_module_version": "1.2.0",
            "_view_name": "StyleView",
            "description_width": ""
          }
        },
        "2536f32d06d14d2889c739037be58f4f": {
          "model_module": "@jupyter-widgets/controls",
          "model_module_version": "1.5.0",
          "model_name": "DescriptionStyleModel",
          "state": {
            "_model_module": "@jupyter-widgets/controls",
            "_model_module_version": "1.5.0",
            "_model_name": "DescriptionStyleModel",
            "_view_count": null,
            "_view_module": "@jupyter-widgets/base",
            "_view_module_version": "1.2.0",
            "_view_name": "StyleView",
            "description_width": ""
          }
        },
        "2721eae1d35440bca41e059274334fa1": {
          "model_module": "@jupyter-widgets/base",
          "model_module_version": "1.2.0",
          "model_name": "LayoutModel",
          "state": {
            "_model_module": "@jupyter-widgets/base",
            "_model_module_version": "1.2.0",
            "_model_name": "LayoutModel",
            "_view_count": null,
            "_view_module": "@jupyter-widgets/base",
            "_view_module_version": "1.2.0",
            "_view_name": "LayoutView",
            "align_content": null,
            "align_items": null,
            "align_self": null,
            "border": null,
            "bottom": null,
            "display": null,
            "flex": null,
            "flex_flow": null,
            "grid_area": null,
            "grid_auto_columns": null,
            "grid_auto_flow": null,
            "grid_auto_rows": null,
            "grid_column": null,
            "grid_gap": null,
            "grid_row": null,
            "grid_template_areas": null,
            "grid_template_columns": null,
            "grid_template_rows": null,
            "height": null,
            "justify_content": null,
            "justify_items": null,
            "left": null,
            "margin": null,
            "max_height": null,
            "max_width": null,
            "min_height": null,
            "min_width": null,
            "object_fit": null,
            "object_position": null,
            "order": null,
            "overflow": null,
            "overflow_x": null,
            "overflow_y": null,
            "padding": null,
            "right": null,
            "top": null,
            "visibility": null,
            "width": null
          }
        },
        "296752fd0ade414dbb15bc45576160e5": {
          "model_module": "@jupyter-widgets/controls",
          "model_module_version": "1.5.0",
          "model_name": "HBoxModel",
          "state": {
            "_dom_classes": [],
            "_model_module": "@jupyter-widgets/controls",
            "_model_module_version": "1.5.0",
            "_model_name": "HBoxModel",
            "_view_count": null,
            "_view_module": "@jupyter-widgets/controls",
            "_view_module_version": "1.5.0",
            "_view_name": "HBoxView",
            "box_style": "",
            "children": [
              "IPY_MODEL_048ef588dbba4505b87b3554cda5e2e8",
              "IPY_MODEL_827914d419ab48628897779ff58449f2",
              "IPY_MODEL_a2b99565439f467c9a03c8c56500c371"
            ],
            "layout": "IPY_MODEL_fa142f3383874eec9eb4fe8f91d411b6"
          }
        },
        "2d86dfbda55f4f5fafc0d3804e930a45": {
          "model_module": "@jupyter-widgets/base",
          "model_module_version": "1.2.0",
          "model_name": "LayoutModel",
          "state": {
            "_model_module": "@jupyter-widgets/base",
            "_model_module_version": "1.2.0",
            "_model_name": "LayoutModel",
            "_view_count": null,
            "_view_module": "@jupyter-widgets/base",
            "_view_module_version": "1.2.0",
            "_view_name": "LayoutView",
            "align_content": null,
            "align_items": null,
            "align_self": null,
            "border": null,
            "bottom": null,
            "display": null,
            "flex": null,
            "flex_flow": null,
            "grid_area": null,
            "grid_auto_columns": null,
            "grid_auto_flow": null,
            "grid_auto_rows": null,
            "grid_column": null,
            "grid_gap": null,
            "grid_row": null,
            "grid_template_areas": null,
            "grid_template_columns": null,
            "grid_template_rows": null,
            "height": null,
            "justify_content": null,
            "justify_items": null,
            "left": null,
            "margin": null,
            "max_height": null,
            "max_width": null,
            "min_height": null,
            "min_width": null,
            "object_fit": null,
            "object_position": null,
            "order": null,
            "overflow": null,
            "overflow_x": null,
            "overflow_y": null,
            "padding": null,
            "right": null,
            "top": null,
            "visibility": null,
            "width": null
          }
        },
        "33bef2d6a7614f62b064006f94d40ac2": {
          "model_module": "@jupyter-widgets/base",
          "model_module_version": "1.2.0",
          "model_name": "LayoutModel",
          "state": {
            "_model_module": "@jupyter-widgets/base",
            "_model_module_version": "1.2.0",
            "_model_name": "LayoutModel",
            "_view_count": null,
            "_view_module": "@jupyter-widgets/base",
            "_view_module_version": "1.2.0",
            "_view_name": "LayoutView",
            "align_content": null,
            "align_items": null,
            "align_self": null,
            "border": null,
            "bottom": null,
            "display": null,
            "flex": null,
            "flex_flow": null,
            "grid_area": null,
            "grid_auto_columns": null,
            "grid_auto_flow": null,
            "grid_auto_rows": null,
            "grid_column": null,
            "grid_gap": null,
            "grid_row": null,
            "grid_template_areas": null,
            "grid_template_columns": null,
            "grid_template_rows": null,
            "height": null,
            "justify_content": null,
            "justify_items": null,
            "left": null,
            "margin": null,
            "max_height": null,
            "max_width": null,
            "min_height": null,
            "min_width": null,
            "object_fit": null,
            "object_position": null,
            "order": null,
            "overflow": null,
            "overflow_x": null,
            "overflow_y": null,
            "padding": null,
            "right": null,
            "top": null,
            "visibility": null,
            "width": null
          }
        },
        "35140c5f552049b19003ab3ae3c26b45": {
          "model_module": "@jupyter-widgets/controls",
          "model_module_version": "1.5.0",
          "model_name": "DescriptionStyleModel",
          "state": {
            "_model_module": "@jupyter-widgets/controls",
            "_model_module_version": "1.5.0",
            "_model_name": "DescriptionStyleModel",
            "_view_count": null,
            "_view_module": "@jupyter-widgets/base",
            "_view_module_version": "1.2.0",
            "_view_name": "StyleView",
            "description_width": ""
          }
        },
        "3551bd73a46f4af4a8d5dd50fbbcd07b": {
          "model_module": "@jupyter-widgets/controls",
          "model_module_version": "1.5.0",
          "model_name": "HTMLModel",
          "state": {
            "_dom_classes": [],
            "_model_module": "@jupyter-widgets/controls",
            "_model_module_version": "1.5.0",
            "_model_name": "HTMLModel",
            "_view_count": null,
            "_view_module": "@jupyter-widgets/controls",
            "_view_module_version": "1.5.0",
            "_view_name": "HTMLView",
            "description": "",
            "description_tooltip": null,
            "layout": "IPY_MODEL_e3a1ed16392d4eb1a90a435c537e96b3",
            "placeholder": "​",
            "style": "IPY_MODEL_8862a0a19cf14026a402a6130c7178ee",
            "value": " 75718/0 [01:49&lt;00:00, 846.15 examples/s]"
          }
        },
        "37da6af502614dc8bb0dac805b0503dc": {
          "model_module": "@jupyter-widgets/controls",
          "model_module_version": "1.5.0",
          "model_name": "FloatProgressModel",
          "state": {
            "_dom_classes": [],
            "_model_module": "@jupyter-widgets/controls",
            "_model_module_version": "1.5.0",
            "_model_name": "FloatProgressModel",
            "_view_count": null,
            "_view_module": "@jupyter-widgets/controls",
            "_view_module_version": "1.5.0",
            "_view_name": "ProgressView",
            "bar_style": "danger",
            "description": "",
            "description_tooltip": null,
            "layout": "IPY_MODEL_c59fcb7f9d9e4e1185f1193e829f10b5",
            "max": 75750,
            "min": 0,
            "orientation": "horizontal",
            "style": "IPY_MODEL_58e3d5664eb740e6b96388ee1533ec62",
            "value": 75749
          }
        },
        "39f9996d96114a41aff37094e7b7fedf": {
          "model_module": "@jupyter-widgets/base",
          "model_module_version": "1.2.0",
          "model_name": "LayoutModel",
          "state": {
            "_model_module": "@jupyter-widgets/base",
            "_model_module_version": "1.2.0",
            "_model_name": "LayoutModel",
            "_view_count": null,
            "_view_module": "@jupyter-widgets/base",
            "_view_module_version": "1.2.0",
            "_view_name": "LayoutView",
            "align_content": null,
            "align_items": null,
            "align_self": null,
            "border": null,
            "bottom": null,
            "display": null,
            "flex": null,
            "flex_flow": null,
            "grid_area": null,
            "grid_auto_columns": null,
            "grid_auto_flow": null,
            "grid_auto_rows": null,
            "grid_column": null,
            "grid_gap": null,
            "grid_row": null,
            "grid_template_areas": null,
            "grid_template_columns": null,
            "grid_template_rows": null,
            "height": null,
            "justify_content": null,
            "justify_items": null,
            "left": null,
            "margin": null,
            "max_height": null,
            "max_width": null,
            "min_height": null,
            "min_width": null,
            "object_fit": null,
            "object_position": null,
            "order": null,
            "overflow": null,
            "overflow_x": null,
            "overflow_y": null,
            "padding": null,
            "right": null,
            "top": null,
            "visibility": null,
            "width": "20px"
          }
        },
        "3c93ac8fff3c44eca2d326cec86ebc1b": {
          "model_module": "@jupyter-widgets/controls",
          "model_module_version": "1.5.0",
          "model_name": "HBoxModel",
          "state": {
            "_dom_classes": [],
            "_model_module": "@jupyter-widgets/controls",
            "_model_module_version": "1.5.0",
            "_model_name": "HBoxModel",
            "_view_count": null,
            "_view_module": "@jupyter-widgets/controls",
            "_view_module_version": "1.5.0",
            "_view_name": "HBoxView",
            "box_style": "",
            "children": [
              "IPY_MODEL_071afdf76e71437fa25c79869690d24d",
              "IPY_MODEL_0ad23b8e28824819b3de22895faf7260",
              "IPY_MODEL_a54177907d41473489d03034378c9a03"
            ],
            "layout": "IPY_MODEL_c296676d58944998b73351aeac3d9314"
          }
        },
        "440bde191380425e95385b12bbbc7ce9": {
          "model_module": "@jupyter-widgets/controls",
          "model_module_version": "1.5.0",
          "model_name": "DescriptionStyleModel",
          "state": {
            "_model_module": "@jupyter-widgets/controls",
            "_model_module_version": "1.5.0",
            "_model_name": "DescriptionStyleModel",
            "_view_count": null,
            "_view_module": "@jupyter-widgets/base",
            "_view_module_version": "1.2.0",
            "_view_name": "StyleView",
            "description_width": ""
          }
        },
        "4b3f898487584a1e947ed55ad5f8c056": {
          "model_module": "@jupyter-widgets/controls",
          "model_module_version": "1.5.0",
          "model_name": "ProgressStyleModel",
          "state": {
            "_model_module": "@jupyter-widgets/controls",
            "_model_module_version": "1.5.0",
            "_model_name": "ProgressStyleModel",
            "_view_count": null,
            "_view_module": "@jupyter-widgets/base",
            "_view_module_version": "1.2.0",
            "_view_name": "StyleView",
            "bar_color": null,
            "description_width": ""
          }
        },
        "4e0d2c977d184d8b93507a29139bcea0": {
          "model_module": "@jupyter-widgets/controls",
          "model_module_version": "1.5.0",
          "model_name": "HBoxModel",
          "state": {
            "_dom_classes": [],
            "_model_module": "@jupyter-widgets/controls",
            "_model_module_version": "1.5.0",
            "_model_name": "HBoxModel",
            "_view_count": null,
            "_view_module": "@jupyter-widgets/controls",
            "_view_module_version": "1.5.0",
            "_view_name": "HBoxView",
            "box_style": "",
            "children": [
              "IPY_MODEL_bf54c21b457d4a7aac2b47ce4aed3f08",
              "IPY_MODEL_acf37a81b7bb400bb85be6ff84db3ffc",
              "IPY_MODEL_b629d261773a41e1a34b806e7e9f95dc"
            ],
            "layout": "IPY_MODEL_2d86dfbda55f4f5fafc0d3804e930a45"
          }
        },
        "4f53d4fd94494f85b7b8b59036e9c294": {
          "model_module": "@jupyter-widgets/base",
          "model_module_version": "1.2.0",
          "model_name": "LayoutModel",
          "state": {
            "_model_module": "@jupyter-widgets/base",
            "_model_module_version": "1.2.0",
            "_model_name": "LayoutModel",
            "_view_count": null,
            "_view_module": "@jupyter-widgets/base",
            "_view_module_version": "1.2.0",
            "_view_name": "LayoutView",
            "align_content": null,
            "align_items": null,
            "align_self": null,
            "border": null,
            "bottom": null,
            "display": null,
            "flex": null,
            "flex_flow": null,
            "grid_area": null,
            "grid_auto_columns": null,
            "grid_auto_flow": null,
            "grid_auto_rows": null,
            "grid_column": null,
            "grid_gap": null,
            "grid_row": null,
            "grid_template_areas": null,
            "grid_template_columns": null,
            "grid_template_rows": null,
            "height": null,
            "justify_content": null,
            "justify_items": null,
            "left": null,
            "margin": null,
            "max_height": null,
            "max_width": null,
            "min_height": null,
            "min_width": null,
            "object_fit": null,
            "object_position": null,
            "order": null,
            "overflow": null,
            "overflow_x": null,
            "overflow_y": null,
            "padding": null,
            "right": null,
            "top": null,
            "visibility": null,
            "width": null
          }
        },
        "50f54c36f1684ff9bfdbc86b8609f16d": {
          "model_module": "@jupyter-widgets/base",
          "model_module_version": "1.2.0",
          "model_name": "LayoutModel",
          "state": {
            "_model_module": "@jupyter-widgets/base",
            "_model_module_version": "1.2.0",
            "_model_name": "LayoutModel",
            "_view_count": null,
            "_view_module": "@jupyter-widgets/base",
            "_view_module_version": "1.2.0",
            "_view_name": "LayoutView",
            "align_content": null,
            "align_items": null,
            "align_self": null,
            "border": null,
            "bottom": null,
            "display": null,
            "flex": null,
            "flex_flow": null,
            "grid_area": null,
            "grid_auto_columns": null,
            "grid_auto_flow": null,
            "grid_auto_rows": null,
            "grid_column": null,
            "grid_gap": null,
            "grid_row": null,
            "grid_template_areas": null,
            "grid_template_columns": null,
            "grid_template_rows": null,
            "height": null,
            "justify_content": null,
            "justify_items": null,
            "left": null,
            "margin": null,
            "max_height": null,
            "max_width": null,
            "min_height": null,
            "min_width": null,
            "object_fit": null,
            "object_position": null,
            "order": null,
            "overflow": null,
            "overflow_x": null,
            "overflow_y": null,
            "padding": null,
            "right": null,
            "top": null,
            "visibility": null,
            "width": null
          }
        },
        "52e00882418b4d7993df1dc8746fded4": {
          "model_module": "@jupyter-widgets/controls",
          "model_module_version": "1.5.0",
          "model_name": "ProgressStyleModel",
          "state": {
            "_model_module": "@jupyter-widgets/controls",
            "_model_module_version": "1.5.0",
            "_model_name": "ProgressStyleModel",
            "_view_count": null,
            "_view_module": "@jupyter-widgets/base",
            "_view_module_version": "1.2.0",
            "_view_name": "StyleView",
            "bar_color": null,
            "description_width": ""
          }
        },
        "5391db933d134cc19700705c63177da6": {
          "model_module": "@jupyter-widgets/base",
          "model_module_version": "1.2.0",
          "model_name": "LayoutModel",
          "state": {
            "_model_module": "@jupyter-widgets/base",
            "_model_module_version": "1.2.0",
            "_model_name": "LayoutModel",
            "_view_count": null,
            "_view_module": "@jupyter-widgets/base",
            "_view_module_version": "1.2.0",
            "_view_name": "LayoutView",
            "align_content": null,
            "align_items": null,
            "align_self": null,
            "border": null,
            "bottom": null,
            "display": null,
            "flex": null,
            "flex_flow": null,
            "grid_area": null,
            "grid_auto_columns": null,
            "grid_auto_flow": null,
            "grid_auto_rows": null,
            "grid_column": null,
            "grid_gap": null,
            "grid_row": null,
            "grid_template_areas": null,
            "grid_template_columns": null,
            "grid_template_rows": null,
            "height": null,
            "justify_content": null,
            "justify_items": null,
            "left": null,
            "margin": null,
            "max_height": null,
            "max_width": null,
            "min_height": null,
            "min_width": null,
            "object_fit": null,
            "object_position": null,
            "order": null,
            "overflow": null,
            "overflow_x": null,
            "overflow_y": null,
            "padding": null,
            "right": null,
            "top": null,
            "visibility": null,
            "width": null
          }
        },
        "55404203d04d4491a73d35d64cfab074": {
          "model_module": "@jupyter-widgets/controls",
          "model_module_version": "1.5.0",
          "model_name": "DescriptionStyleModel",
          "state": {
            "_model_module": "@jupyter-widgets/controls",
            "_model_module_version": "1.5.0",
            "_model_name": "DescriptionStyleModel",
            "_view_count": null,
            "_view_module": "@jupyter-widgets/base",
            "_view_module_version": "1.2.0",
            "_view_name": "StyleView",
            "description_width": ""
          }
        },
        "58e3d5664eb740e6b96388ee1533ec62": {
          "model_module": "@jupyter-widgets/controls",
          "model_module_version": "1.5.0",
          "model_name": "ProgressStyleModel",
          "state": {
            "_model_module": "@jupyter-widgets/controls",
            "_model_module_version": "1.5.0",
            "_model_name": "ProgressStyleModel",
            "_view_count": null,
            "_view_module": "@jupyter-widgets/base",
            "_view_module_version": "1.2.0",
            "_view_name": "StyleView",
            "bar_color": null,
            "description_width": ""
          }
        },
        "5e5c1627fbb84a53987739f6ccbfc577": {
          "model_module": "@jupyter-widgets/base",
          "model_module_version": "1.2.0",
          "model_name": "LayoutModel",
          "state": {
            "_model_module": "@jupyter-widgets/base",
            "_model_module_version": "1.2.0",
            "_model_name": "LayoutModel",
            "_view_count": null,
            "_view_module": "@jupyter-widgets/base",
            "_view_module_version": "1.2.0",
            "_view_name": "LayoutView",
            "align_content": null,
            "align_items": null,
            "align_self": null,
            "border": null,
            "bottom": null,
            "display": null,
            "flex": null,
            "flex_flow": null,
            "grid_area": null,
            "grid_auto_columns": null,
            "grid_auto_flow": null,
            "grid_auto_rows": null,
            "grid_column": null,
            "grid_gap": null,
            "grid_row": null,
            "grid_template_areas": null,
            "grid_template_columns": null,
            "grid_template_rows": null,
            "height": null,
            "justify_content": null,
            "justify_items": null,
            "left": null,
            "margin": null,
            "max_height": null,
            "max_width": null,
            "min_height": null,
            "min_width": null,
            "object_fit": null,
            "object_position": null,
            "order": null,
            "overflow": null,
            "overflow_x": null,
            "overflow_y": null,
            "padding": null,
            "right": null,
            "top": null,
            "visibility": null,
            "width": null
          }
        },
        "6611035b972f490d9512fb3f1b14c136": {
          "model_module": "@jupyter-widgets/base",
          "model_module_version": "1.2.0",
          "model_name": "LayoutModel",
          "state": {
            "_model_module": "@jupyter-widgets/base",
            "_model_module_version": "1.2.0",
            "_model_name": "LayoutModel",
            "_view_count": null,
            "_view_module": "@jupyter-widgets/base",
            "_view_module_version": "1.2.0",
            "_view_name": "LayoutView",
            "align_content": null,
            "align_items": null,
            "align_self": null,
            "border": null,
            "bottom": null,
            "display": null,
            "flex": null,
            "flex_flow": null,
            "grid_area": null,
            "grid_auto_columns": null,
            "grid_auto_flow": null,
            "grid_auto_rows": null,
            "grid_column": null,
            "grid_gap": null,
            "grid_row": null,
            "grid_template_areas": null,
            "grid_template_columns": null,
            "grid_template_rows": null,
            "height": null,
            "justify_content": null,
            "justify_items": null,
            "left": null,
            "margin": null,
            "max_height": null,
            "max_width": null,
            "min_height": null,
            "min_width": null,
            "object_fit": null,
            "object_position": null,
            "order": null,
            "overflow": null,
            "overflow_x": null,
            "overflow_y": null,
            "padding": null,
            "right": null,
            "top": null,
            "visibility": null,
            "width": null
          }
        },
        "69b72acf36a44023ab231f9522718365": {
          "model_module": "@jupyter-widgets/base",
          "model_module_version": "1.2.0",
          "model_name": "LayoutModel",
          "state": {
            "_model_module": "@jupyter-widgets/base",
            "_model_module_version": "1.2.0",
            "_model_name": "LayoutModel",
            "_view_count": null,
            "_view_module": "@jupyter-widgets/base",
            "_view_module_version": "1.2.0",
            "_view_name": "LayoutView",
            "align_content": null,
            "align_items": null,
            "align_self": null,
            "border": null,
            "bottom": null,
            "display": null,
            "flex": null,
            "flex_flow": null,
            "grid_area": null,
            "grid_auto_columns": null,
            "grid_auto_flow": null,
            "grid_auto_rows": null,
            "grid_column": null,
            "grid_gap": null,
            "grid_row": null,
            "grid_template_areas": null,
            "grid_template_columns": null,
            "grid_template_rows": null,
            "height": null,
            "justify_content": null,
            "justify_items": null,
            "left": null,
            "margin": null,
            "max_height": null,
            "max_width": null,
            "min_height": null,
            "min_width": null,
            "object_fit": null,
            "object_position": null,
            "order": null,
            "overflow": null,
            "overflow_x": null,
            "overflow_y": null,
            "padding": null,
            "right": null,
            "top": null,
            "visibility": null,
            "width": null
          }
        },
        "743c092e7a10469db9e7ca0453d654b6": {
          "model_module": "@jupyter-widgets/controls",
          "model_module_version": "1.5.0",
          "model_name": "ProgressStyleModel",
          "state": {
            "_model_module": "@jupyter-widgets/controls",
            "_model_module_version": "1.5.0",
            "_model_name": "ProgressStyleModel",
            "_view_count": null,
            "_view_module": "@jupyter-widgets/base",
            "_view_module_version": "1.2.0",
            "_view_name": "StyleView",
            "bar_color": null,
            "description_width": ""
          }
        },
        "753ed7ce8b16429c9fbe91ed4cc6824a": {
          "model_module": "@jupyter-widgets/controls",
          "model_module_version": "1.5.0",
          "model_name": "DescriptionStyleModel",
          "state": {
            "_model_module": "@jupyter-widgets/controls",
            "_model_module_version": "1.5.0",
            "_model_name": "DescriptionStyleModel",
            "_view_count": null,
            "_view_module": "@jupyter-widgets/base",
            "_view_module_version": "1.2.0",
            "_view_name": "StyleView",
            "description_width": ""
          }
        },
        "754ba11e1dd843269c025754243e38d5": {
          "model_module": "@jupyter-widgets/controls",
          "model_module_version": "1.5.0",
          "model_name": "DescriptionStyleModel",
          "state": {
            "_model_module": "@jupyter-widgets/controls",
            "_model_module_version": "1.5.0",
            "_model_name": "DescriptionStyleModel",
            "_view_count": null,
            "_view_module": "@jupyter-widgets/base",
            "_view_module_version": "1.2.0",
            "_view_name": "StyleView",
            "description_width": ""
          }
        },
        "7d32e5b124164d3c89be0a2cf3bdcda4": {
          "model_module": "@jupyter-widgets/controls",
          "model_module_version": "1.5.0",
          "model_name": "FloatProgressModel",
          "state": {
            "_dom_classes": [],
            "_model_module": "@jupyter-widgets/controls",
            "_model_module_version": "1.5.0",
            "_model_name": "FloatProgressModel",
            "_view_count": null,
            "_view_module": "@jupyter-widgets/controls",
            "_view_module_version": "1.5.0",
            "_view_name": "ProgressView",
            "bar_style": "info",
            "description": "",
            "description_tooltip": null,
            "layout": "IPY_MODEL_f0b91cd2cf6648c691a246f617e5d406",
            "max": 1,
            "min": 0,
            "orientation": "horizontal",
            "style": "IPY_MODEL_743c092e7a10469db9e7ca0453d654b6",
            "value": 1
          }
        },
        "7f5dd5a5c621484cae9bb5108863b33d": {
          "model_module": "@jupyter-widgets/controls",
          "model_module_version": "1.5.0",
          "model_name": "ProgressStyleModel",
          "state": {
            "_model_module": "@jupyter-widgets/controls",
            "_model_module_version": "1.5.0",
            "_model_name": "ProgressStyleModel",
            "_view_count": null,
            "_view_module": "@jupyter-widgets/base",
            "_view_module_version": "1.2.0",
            "_view_name": "StyleView",
            "bar_color": null,
            "description_width": ""
          }
        },
        "827914d419ab48628897779ff58449f2": {
          "model_module": "@jupyter-widgets/controls",
          "model_module_version": "1.5.0",
          "model_name": "FloatProgressModel",
          "state": {
            "_dom_classes": [],
            "_model_module": "@jupyter-widgets/controls",
            "_model_module_version": "1.5.0",
            "_model_name": "FloatProgressModel",
            "_view_count": null,
            "_view_module": "@jupyter-widgets/controls",
            "_view_module_version": "1.5.0",
            "_view_name": "ProgressView",
            "bar_style": "success",
            "description": "",
            "description_tooltip": null,
            "layout": "IPY_MODEL_00f01f98e3e44841b544ef5f0f34fb5f",
            "max": 1,
            "min": 0,
            "orientation": "horizontal",
            "style": "IPY_MODEL_bbcecb0ffc3749c6a40a800e234cc4b4",
            "value": 1
          }
        },
        "8862a0a19cf14026a402a6130c7178ee": {
          "model_module": "@jupyter-widgets/controls",
          "model_module_version": "1.5.0",
          "model_name": "DescriptionStyleModel",
          "state": {
            "_model_module": "@jupyter-widgets/controls",
            "_model_module_version": "1.5.0",
            "_model_name": "DescriptionStyleModel",
            "_view_count": null,
            "_view_module": "@jupyter-widgets/base",
            "_view_module_version": "1.2.0",
            "_view_name": "StyleView",
            "description_width": ""
          }
        },
        "8c7dba8be43b4381aff614467d221143": {
          "model_module": "@jupyter-widgets/controls",
          "model_module_version": "1.5.0",
          "model_name": "HBoxModel",
          "state": {
            "_dom_classes": [],
            "_model_module": "@jupyter-widgets/controls",
            "_model_module_version": "1.5.0",
            "_model_name": "HBoxModel",
            "_view_count": null,
            "_view_module": "@jupyter-widgets/controls",
            "_view_module_version": "1.5.0",
            "_view_name": "HBoxView",
            "box_style": "",
            "children": [
              "IPY_MODEL_a4240ea75b97488793e9be793d73af66",
              "IPY_MODEL_7d32e5b124164d3c89be0a2cf3bdcda4",
              "IPY_MODEL_3551bd73a46f4af4a8d5dd50fbbcd07b"
            ],
            "layout": "IPY_MODEL_9cbc6021bbce4bd0916ada17845f0044"
          }
        },
        "988db618462d49dc9760b135add9eb78": {
          "model_module": "@jupyter-widgets/base",
          "model_module_version": "1.2.0",
          "model_name": "LayoutModel",
          "state": {
            "_model_module": "@jupyter-widgets/base",
            "_model_module_version": "1.2.0",
            "_model_name": "LayoutModel",
            "_view_count": null,
            "_view_module": "@jupyter-widgets/base",
            "_view_module_version": "1.2.0",
            "_view_name": "LayoutView",
            "align_content": null,
            "align_items": null,
            "align_self": null,
            "border": null,
            "bottom": null,
            "display": null,
            "flex": null,
            "flex_flow": null,
            "grid_area": null,
            "grid_auto_columns": null,
            "grid_auto_flow": null,
            "grid_auto_rows": null,
            "grid_column": null,
            "grid_gap": null,
            "grid_row": null,
            "grid_template_areas": null,
            "grid_template_columns": null,
            "grid_template_rows": null,
            "height": null,
            "justify_content": null,
            "justify_items": null,
            "left": null,
            "margin": null,
            "max_height": null,
            "max_width": null,
            "min_height": null,
            "min_width": null,
            "object_fit": null,
            "object_position": null,
            "order": null,
            "overflow": null,
            "overflow_x": null,
            "overflow_y": null,
            "padding": null,
            "right": null,
            "top": null,
            "visibility": null,
            "width": null
          }
        },
        "991e446e02934729b61633ef3d4951a4": {
          "model_module": "@jupyter-widgets/controls",
          "model_module_version": "1.5.0",
          "model_name": "DescriptionStyleModel",
          "state": {
            "_model_module": "@jupyter-widgets/controls",
            "_model_module_version": "1.5.0",
            "_model_name": "DescriptionStyleModel",
            "_view_count": null,
            "_view_module": "@jupyter-widgets/base",
            "_view_module_version": "1.2.0",
            "_view_name": "StyleView",
            "description_width": ""
          }
        },
        "9b4acb03970a4145b8a28397432cd041": {
          "model_module": "@jupyter-widgets/base",
          "model_module_version": "1.2.0",
          "model_name": "LayoutModel",
          "state": {
            "_model_module": "@jupyter-widgets/base",
            "_model_module_version": "1.2.0",
            "_model_name": "LayoutModel",
            "_view_count": null,
            "_view_module": "@jupyter-widgets/base",
            "_view_module_version": "1.2.0",
            "_view_name": "LayoutView",
            "align_content": null,
            "align_items": null,
            "align_self": null,
            "border": null,
            "bottom": null,
            "display": null,
            "flex": null,
            "flex_flow": null,
            "grid_area": null,
            "grid_auto_columns": null,
            "grid_auto_flow": null,
            "grid_auto_rows": null,
            "grid_column": null,
            "grid_gap": null,
            "grid_row": null,
            "grid_template_areas": null,
            "grid_template_columns": null,
            "grid_template_rows": null,
            "height": null,
            "justify_content": null,
            "justify_items": null,
            "left": null,
            "margin": null,
            "max_height": null,
            "max_width": null,
            "min_height": null,
            "min_width": null,
            "object_fit": null,
            "object_position": null,
            "order": null,
            "overflow": null,
            "overflow_x": null,
            "overflow_y": null,
            "padding": null,
            "right": null,
            "top": null,
            "visibility": null,
            "width": null
          }
        },
        "9cbc6021bbce4bd0916ada17845f0044": {
          "model_module": "@jupyter-widgets/base",
          "model_module_version": "1.2.0",
          "model_name": "LayoutModel",
          "state": {
            "_model_module": "@jupyter-widgets/base",
            "_model_module_version": "1.2.0",
            "_model_name": "LayoutModel",
            "_view_count": null,
            "_view_module": "@jupyter-widgets/base",
            "_view_module_version": "1.2.0",
            "_view_name": "LayoutView",
            "align_content": null,
            "align_items": null,
            "align_self": null,
            "border": null,
            "bottom": null,
            "display": null,
            "flex": null,
            "flex_flow": null,
            "grid_area": null,
            "grid_auto_columns": null,
            "grid_auto_flow": null,
            "grid_auto_rows": null,
            "grid_column": null,
            "grid_gap": null,
            "grid_row": null,
            "grid_template_areas": null,
            "grid_template_columns": null,
            "grid_template_rows": null,
            "height": null,
            "justify_content": null,
            "justify_items": null,
            "left": null,
            "margin": null,
            "max_height": null,
            "max_width": null,
            "min_height": null,
            "min_width": null,
            "object_fit": null,
            "object_position": null,
            "order": null,
            "overflow": null,
            "overflow_x": null,
            "overflow_y": null,
            "padding": null,
            "right": null,
            "top": null,
            "visibility": null,
            "width": null
          }
        },
        "9e309197afb44c5b82655058d4ea25bc": {
          "model_module": "@jupyter-widgets/controls",
          "model_module_version": "1.5.0",
          "model_name": "HTMLModel",
          "state": {
            "_dom_classes": [],
            "_model_module": "@jupyter-widgets/controls",
            "_model_module_version": "1.5.0",
            "_model_name": "HTMLModel",
            "_view_count": null,
            "_view_module": "@jupyter-widgets/controls",
            "_view_module_version": "1.5.0",
            "_view_name": "HTMLView",
            "description": "",
            "description_tooltip": null,
            "layout": "IPY_MODEL_c7b47d492f1748d185a2b67cf784f466",
            "placeholder": "​",
            "style": "IPY_MODEL_2536f32d06d14d2889c739037be58f4f",
            "value": "100%"
          }
        },
        "9e8a1f20e08c41469ebbdada1ae910b1": {
          "model_module": "@jupyter-widgets/controls",
          "model_module_version": "1.5.0",
          "model_name": "DescriptionStyleModel",
          "state": {
            "_model_module": "@jupyter-widgets/controls",
            "_model_module_version": "1.5.0",
            "_model_name": "DescriptionStyleModel",
            "_view_count": null,
            "_view_module": "@jupyter-widgets/base",
            "_view_module_version": "1.2.0",
            "_view_name": "StyleView",
            "description_width": ""
          }
        },
        "9ed59e2f717248ef831786235df8f3b5": {
          "model_module": "@jupyter-widgets/base",
          "model_module_version": "1.2.0",
          "model_name": "LayoutModel",
          "state": {
            "_model_module": "@jupyter-widgets/base",
            "_model_module_version": "1.2.0",
            "_model_name": "LayoutModel",
            "_view_count": null,
            "_view_module": "@jupyter-widgets/base",
            "_view_module_version": "1.2.0",
            "_view_name": "LayoutView",
            "align_content": null,
            "align_items": null,
            "align_self": null,
            "border": null,
            "bottom": null,
            "display": null,
            "flex": null,
            "flex_flow": null,
            "grid_area": null,
            "grid_auto_columns": null,
            "grid_auto_flow": null,
            "grid_auto_rows": null,
            "grid_column": null,
            "grid_gap": null,
            "grid_row": null,
            "grid_template_areas": null,
            "grid_template_columns": null,
            "grid_template_rows": null,
            "height": null,
            "justify_content": null,
            "justify_items": null,
            "left": null,
            "margin": null,
            "max_height": null,
            "max_width": null,
            "min_height": null,
            "min_width": null,
            "object_fit": null,
            "object_position": null,
            "order": null,
            "overflow": null,
            "overflow_x": null,
            "overflow_y": null,
            "padding": null,
            "right": null,
            "top": null,
            "visibility": null,
            "width": null
          }
        },
        "a2b99565439f467c9a03c8c56500c371": {
          "model_module": "@jupyter-widgets/controls",
          "model_module_version": "1.5.0",
          "model_name": "HTMLModel",
          "state": {
            "_dom_classes": [],
            "_model_module": "@jupyter-widgets/controls",
            "_model_module_version": "1.5.0",
            "_model_name": "HTMLModel",
            "_view_count": null,
            "_view_module": "@jupyter-widgets/controls",
            "_view_module_version": "1.5.0",
            "_view_name": "HTMLView",
            "description": "",
            "description_tooltip": null,
            "layout": "IPY_MODEL_d0eb722694b14284b5e2cfbc40275732",
            "placeholder": "​",
            "style": "IPY_MODEL_df235c08d98c4d2ba39a11c6892b6859",
            "value": " 1/1 [04:03&lt;00:00, 243.22s/ file]"
          }
        },
        "a3cff8f7f66c4ffdb0cd2c52ddc82bab": {
          "model_module": "@jupyter-widgets/base",
          "model_module_version": "1.2.0",
          "model_name": "LayoutModel",
          "state": {
            "_model_module": "@jupyter-widgets/base",
            "_model_module_version": "1.2.0",
            "_model_name": "LayoutModel",
            "_view_count": null,
            "_view_module": "@jupyter-widgets/base",
            "_view_module_version": "1.2.0",
            "_view_name": "LayoutView",
            "align_content": null,
            "align_items": null,
            "align_self": null,
            "border": null,
            "bottom": null,
            "display": null,
            "flex": null,
            "flex_flow": null,
            "grid_area": null,
            "grid_auto_columns": null,
            "grid_auto_flow": null,
            "grid_auto_rows": null,
            "grid_column": null,
            "grid_gap": null,
            "grid_row": null,
            "grid_template_areas": null,
            "grid_template_columns": null,
            "grid_template_rows": null,
            "height": null,
            "justify_content": null,
            "justify_items": null,
            "left": null,
            "margin": null,
            "max_height": null,
            "max_width": null,
            "min_height": null,
            "min_width": null,
            "object_fit": null,
            "object_position": null,
            "order": null,
            "overflow": null,
            "overflow_x": null,
            "overflow_y": null,
            "padding": null,
            "right": null,
            "top": null,
            "visibility": null,
            "width": "20px"
          }
        },
        "a4240ea75b97488793e9be793d73af66": {
          "model_module": "@jupyter-widgets/controls",
          "model_module_version": "1.5.0",
          "model_name": "HTMLModel",
          "state": {
            "_dom_classes": [],
            "_model_module": "@jupyter-widgets/controls",
            "_model_module_version": "1.5.0",
            "_model_name": "HTMLModel",
            "_view_count": null,
            "_view_module": "@jupyter-widgets/controls",
            "_view_module_version": "1.5.0",
            "_view_name": "HTMLView",
            "description": "",
            "description_tooltip": null,
            "layout": "IPY_MODEL_d5b28de0c0ef4d5b9ce3403640aa3c28",
            "placeholder": "​",
            "style": "IPY_MODEL_754ba11e1dd843269c025754243e38d5",
            "value": ""
          }
        },
        "a54177907d41473489d03034378c9a03": {
          "model_module": "@jupyter-widgets/controls",
          "model_module_version": "1.5.0",
          "model_name": "HTMLModel",
          "state": {
            "_dom_classes": [],
            "_model_module": "@jupyter-widgets/controls",
            "_model_module_version": "1.5.0",
            "_model_name": "HTMLModel",
            "_view_count": null,
            "_view_module": "@jupyter-widgets/controls",
            "_view_module_version": "1.5.0",
            "_view_name": "HTMLView",
            "description": "",
            "description_tooltip": null,
            "layout": "IPY_MODEL_9b4acb03970a4145b8a28397432cd041",
            "placeholder": "​",
            "style": "IPY_MODEL_004ee6f8e45348ed87f432782a9b2fbd",
            "value": " 25249/25250 [00:04&lt;00:00, 4637.95 examples/s]"
          }
        },
        "acf37a81b7bb400bb85be6ff84db3ffc": {
          "model_module": "@jupyter-widgets/controls",
          "model_module_version": "1.5.0",
          "model_name": "FloatProgressModel",
          "state": {
            "_dom_classes": [],
            "_model_module": "@jupyter-widgets/controls",
            "_model_module_version": "1.5.0",
            "_model_name": "FloatProgressModel",
            "_view_count": null,
            "_view_module": "@jupyter-widgets/controls",
            "_view_module_version": "1.5.0",
            "_view_name": "ProgressView",
            "bar_style": "success",
            "description": "",
            "description_tooltip": null,
            "layout": "IPY_MODEL_39f9996d96114a41aff37094e7b7fedf",
            "max": 1,
            "min": 0,
            "orientation": "horizontal",
            "style": "IPY_MODEL_7f5dd5a5c621484cae9bb5108863b33d",
            "value": 1
          }
        },
        "ade9e87d1fd24eedbfcbbc18e15759db": {
          "model_module": "@jupyter-widgets/controls",
          "model_module_version": "1.5.0",
          "model_name": "HTMLModel",
          "state": {
            "_dom_classes": [],
            "_model_module": "@jupyter-widgets/controls",
            "_model_module_version": "1.5.0",
            "_model_name": "HTMLModel",
            "_view_count": null,
            "_view_module": "@jupyter-widgets/controls",
            "_view_module_version": "1.5.0",
            "_view_name": "HTMLView",
            "description": "",
            "description_tooltip": null,
            "layout": "IPY_MODEL_14087cd1f1d7461baa64f6ab903d9c34",
            "placeholder": "​",
            "style": "IPY_MODEL_753ed7ce8b16429c9fbe91ed4cc6824a",
            "value": ""
          }
        },
        "b5303afb29984974adc78dd79fb558b8": {
          "model_module": "@jupyter-widgets/controls",
          "model_module_version": "1.5.0",
          "model_name": "DescriptionStyleModel",
          "state": {
            "_model_module": "@jupyter-widgets/controls",
            "_model_module_version": "1.5.0",
            "_model_name": "DescriptionStyleModel",
            "_view_count": null,
            "_view_module": "@jupyter-widgets/base",
            "_view_module_version": "1.2.0",
            "_view_name": "StyleView",
            "description_width": ""
          }
        },
        "b6244309739b4e139e3625a493fde360": {
          "model_module": "@jupyter-widgets/controls",
          "model_module_version": "1.5.0",
          "model_name": "HBoxModel",
          "state": {
            "_dom_classes": [],
            "_model_module": "@jupyter-widgets/controls",
            "_model_module_version": "1.5.0",
            "_model_name": "HBoxModel",
            "_view_count": null,
            "_view_module": "@jupyter-widgets/controls",
            "_view_module_version": "1.5.0",
            "_view_name": "HBoxView",
            "box_style": "",
            "children": [
              "IPY_MODEL_9e309197afb44c5b82655058d4ea25bc",
              "IPY_MODEL_37da6af502614dc8bb0dac805b0503dc",
              "IPY_MODEL_c24cd00034ed4f7cb37cf32dfe009eed"
            ],
            "layout": "IPY_MODEL_2721eae1d35440bca41e059274334fa1"
          }
        },
        "b629d261773a41e1a34b806e7e9f95dc": {
          "model_module": "@jupyter-widgets/controls",
          "model_module_version": "1.5.0",
          "model_name": "HTMLModel",
          "state": {
            "_dom_classes": [],
            "_model_module": "@jupyter-widgets/controls",
            "_model_module_version": "1.5.0",
            "_model_name": "HTMLModel",
            "_view_count": null,
            "_view_module": "@jupyter-widgets/controls",
            "_view_module_version": "1.5.0",
            "_view_name": "HTMLView",
            "description": "",
            "description_tooltip": null,
            "layout": "IPY_MODEL_f33d2d638dd845baaa3b5f0384ee9c52",
            "placeholder": "​",
            "style": "IPY_MODEL_55404203d04d4491a73d35d64cfab074",
            "value": " 1/1 [04:03&lt;00:00, 168.41s/ url]"
          }
        },
        "b6fe24fcb3724fd2bb925787c49e0c58": {
          "model_module": "@jupyter-widgets/controls",
          "model_module_version": "1.5.0",
          "model_name": "HTMLModel",
          "state": {
            "_dom_classes": [],
            "_model_module": "@jupyter-widgets/controls",
            "_model_module_version": "1.5.0",
            "_model_name": "HTMLModel",
            "_view_count": null,
            "_view_module": "@jupyter-widgets/controls",
            "_view_module_version": "1.5.0",
            "_view_name": "HTMLView",
            "description": "",
            "description_tooltip": null,
            "layout": "IPY_MODEL_69b72acf36a44023ab231f9522718365",
            "placeholder": "​",
            "style": "IPY_MODEL_9e8a1f20e08c41469ebbdada1ae910b1",
            "value": "Dl Size...: 100%"
          }
        },
        "bbcecb0ffc3749c6a40a800e234cc4b4": {
          "model_module": "@jupyter-widgets/controls",
          "model_module_version": "1.5.0",
          "model_name": "ProgressStyleModel",
          "state": {
            "_model_module": "@jupyter-widgets/controls",
            "_model_module_version": "1.5.0",
            "_model_name": "ProgressStyleModel",
            "_view_count": null,
            "_view_module": "@jupyter-widgets/base",
            "_view_module_version": "1.2.0",
            "_view_name": "StyleView",
            "bar_color": null,
            "description_width": ""
          }
        },
        "bf54c21b457d4a7aac2b47ce4aed3f08": {
          "model_module": "@jupyter-widgets/controls",
          "model_module_version": "1.5.0",
          "model_name": "HTMLModel",
          "state": {
            "_dom_classes": [],
            "_model_module": "@jupyter-widgets/controls",
            "_model_module_version": "1.5.0",
            "_model_name": "HTMLModel",
            "_view_count": null,
            "_view_module": "@jupyter-widgets/controls",
            "_view_module_version": "1.5.0",
            "_view_name": "HTMLView",
            "description": "",
            "description_tooltip": null,
            "layout": "IPY_MODEL_33bef2d6a7614f62b064006f94d40ac2",
            "placeholder": "​",
            "style": "IPY_MODEL_440bde191380425e95385b12bbbc7ce9",
            "value": "Dl Completed...: 100%"
          }
        },
        "c24cd00034ed4f7cb37cf32dfe009eed": {
          "model_module": "@jupyter-widgets/controls",
          "model_module_version": "1.5.0",
          "model_name": "HTMLModel",
          "state": {
            "_dom_classes": [],
            "_model_module": "@jupyter-widgets/controls",
            "_model_module_version": "1.5.0",
            "_model_name": "HTMLModel",
            "_view_count": null,
            "_view_module": "@jupyter-widgets/controls",
            "_view_module_version": "1.5.0",
            "_view_name": "HTMLView",
            "description": "",
            "description_tooltip": null,
            "layout": "IPY_MODEL_5e5c1627fbb84a53987739f6ccbfc577",
            "placeholder": "​",
            "style": "IPY_MODEL_21b811c6721d418d985690fa2de7524e",
            "value": " 75749/75750 [00:29&lt;00:00, 2967.53 examples/s]"
          }
        },
        "c296676d58944998b73351aeac3d9314": {
          "model_module": "@jupyter-widgets/base",
          "model_module_version": "1.2.0",
          "model_name": "LayoutModel",
          "state": {
            "_model_module": "@jupyter-widgets/base",
            "_model_module_version": "1.2.0",
            "_model_name": "LayoutModel",
            "_view_count": null,
            "_view_module": "@jupyter-widgets/base",
            "_view_module_version": "1.2.0",
            "_view_name": "LayoutView",
            "align_content": null,
            "align_items": null,
            "align_self": null,
            "border": null,
            "bottom": null,
            "display": null,
            "flex": null,
            "flex_flow": null,
            "grid_area": null,
            "grid_auto_columns": null,
            "grid_auto_flow": null,
            "grid_auto_rows": null,
            "grid_column": null,
            "grid_gap": null,
            "grid_row": null,
            "grid_template_areas": null,
            "grid_template_columns": null,
            "grid_template_rows": null,
            "height": null,
            "justify_content": null,
            "justify_items": null,
            "left": null,
            "margin": null,
            "max_height": null,
            "max_width": null,
            "min_height": null,
            "min_width": null,
            "object_fit": null,
            "object_position": null,
            "order": null,
            "overflow": null,
            "overflow_x": null,
            "overflow_y": null,
            "padding": null,
            "right": null,
            "top": null,
            "visibility": null,
            "width": null
          }
        },
        "c59fcb7f9d9e4e1185f1193e829f10b5": {
          "model_module": "@jupyter-widgets/base",
          "model_module_version": "1.2.0",
          "model_name": "LayoutModel",
          "state": {
            "_model_module": "@jupyter-widgets/base",
            "_model_module_version": "1.2.0",
            "_model_name": "LayoutModel",
            "_view_count": null,
            "_view_module": "@jupyter-widgets/base",
            "_view_module_version": "1.2.0",
            "_view_name": "LayoutView",
            "align_content": null,
            "align_items": null,
            "align_self": null,
            "border": null,
            "bottom": null,
            "display": null,
            "flex": null,
            "flex_flow": null,
            "grid_area": null,
            "grid_auto_columns": null,
            "grid_auto_flow": null,
            "grid_auto_rows": null,
            "grid_column": null,
            "grid_gap": null,
            "grid_row": null,
            "grid_template_areas": null,
            "grid_template_columns": null,
            "grid_template_rows": null,
            "height": null,
            "justify_content": null,
            "justify_items": null,
            "left": null,
            "margin": null,
            "max_height": null,
            "max_width": null,
            "min_height": null,
            "min_width": null,
            "object_fit": null,
            "object_position": null,
            "order": null,
            "overflow": null,
            "overflow_x": null,
            "overflow_y": null,
            "padding": null,
            "right": null,
            "top": null,
            "visibility": null,
            "width": null
          }
        },
        "c7b47d492f1748d185a2b67cf784f466": {
          "model_module": "@jupyter-widgets/base",
          "model_module_version": "1.2.0",
          "model_name": "LayoutModel",
          "state": {
            "_model_module": "@jupyter-widgets/base",
            "_model_module_version": "1.2.0",
            "_model_name": "LayoutModel",
            "_view_count": null,
            "_view_module": "@jupyter-widgets/base",
            "_view_module_version": "1.2.0",
            "_view_name": "LayoutView",
            "align_content": null,
            "align_items": null,
            "align_self": null,
            "border": null,
            "bottom": null,
            "display": null,
            "flex": null,
            "flex_flow": null,
            "grid_area": null,
            "grid_auto_columns": null,
            "grid_auto_flow": null,
            "grid_auto_rows": null,
            "grid_column": null,
            "grid_gap": null,
            "grid_row": null,
            "grid_template_areas": null,
            "grid_template_columns": null,
            "grid_template_rows": null,
            "height": null,
            "justify_content": null,
            "justify_items": null,
            "left": null,
            "margin": null,
            "max_height": null,
            "max_width": null,
            "min_height": null,
            "min_width": null,
            "object_fit": null,
            "object_position": null,
            "order": null,
            "overflow": null,
            "overflow_x": null,
            "overflow_y": null,
            "padding": null,
            "right": null,
            "top": null,
            "visibility": null,
            "width": null
          }
        },
        "cac742f906ba414094e5b4adcd3fbf6d": {
          "model_module": "@jupyter-widgets/controls",
          "model_module_version": "1.5.0",
          "model_name": "FloatProgressModel",
          "state": {
            "_dom_classes": [],
            "_model_module": "@jupyter-widgets/controls",
            "_model_module_version": "1.5.0",
            "_model_name": "FloatProgressModel",
            "_view_count": null,
            "_view_module": "@jupyter-widgets/controls",
            "_view_module_version": "1.5.0",
            "_view_name": "ProgressView",
            "bar_style": "success",
            "description": "",
            "description_tooltip": null,
            "layout": "IPY_MODEL_dc482ea50c944f628d56479a1bfbd761",
            "max": 1,
            "min": 0,
            "orientation": "horizontal",
            "style": "IPY_MODEL_4b3f898487584a1e947ed55ad5f8c056",
            "value": 1
          }
        },
        "d0eb722694b14284b5e2cfbc40275732": {
          "model_module": "@jupyter-widgets/base",
          "model_module_version": "1.2.0",
          "model_name": "LayoutModel",
          "state": {
            "_model_module": "@jupyter-widgets/base",
            "_model_module_version": "1.2.0",
            "_model_name": "LayoutModel",
            "_view_count": null,
            "_view_module": "@jupyter-widgets/base",
            "_view_module_version": "1.2.0",
            "_view_name": "LayoutView",
            "align_content": null,
            "align_items": null,
            "align_self": null,
            "border": null,
            "bottom": null,
            "display": null,
            "flex": null,
            "flex_flow": null,
            "grid_area": null,
            "grid_auto_columns": null,
            "grid_auto_flow": null,
            "grid_auto_rows": null,
            "grid_column": null,
            "grid_gap": null,
            "grid_row": null,
            "grid_template_areas": null,
            "grid_template_columns": null,
            "grid_template_rows": null,
            "height": null,
            "justify_content": null,
            "justify_items": null,
            "left": null,
            "margin": null,
            "max_height": null,
            "max_width": null,
            "min_height": null,
            "min_width": null,
            "object_fit": null,
            "object_position": null,
            "order": null,
            "overflow": null,
            "overflow_x": null,
            "overflow_y": null,
            "padding": null,
            "right": null,
            "top": null,
            "visibility": null,
            "width": null
          }
        },
        "d337613e16d84530ab9466d84f4e9016": {
          "model_module": "@jupyter-widgets/controls",
          "model_module_version": "1.5.0",
          "model_name": "DescriptionStyleModel",
          "state": {
            "_model_module": "@jupyter-widgets/controls",
            "_model_module_version": "1.5.0",
            "_model_name": "DescriptionStyleModel",
            "_view_count": null,
            "_view_module": "@jupyter-widgets/base",
            "_view_module_version": "1.2.0",
            "_view_name": "StyleView",
            "description_width": ""
          }
        },
        "d5b28de0c0ef4d5b9ce3403640aa3c28": {
          "model_module": "@jupyter-widgets/base",
          "model_module_version": "1.2.0",
          "model_name": "LayoutModel",
          "state": {
            "_model_module": "@jupyter-widgets/base",
            "_model_module_version": "1.2.0",
            "_model_name": "LayoutModel",
            "_view_count": null,
            "_view_module": "@jupyter-widgets/base",
            "_view_module_version": "1.2.0",
            "_view_name": "LayoutView",
            "align_content": null,
            "align_items": null,
            "align_self": null,
            "border": null,
            "bottom": null,
            "display": null,
            "flex": null,
            "flex_flow": null,
            "grid_area": null,
            "grid_auto_columns": null,
            "grid_auto_flow": null,
            "grid_auto_rows": null,
            "grid_column": null,
            "grid_gap": null,
            "grid_row": null,
            "grid_template_areas": null,
            "grid_template_columns": null,
            "grid_template_rows": null,
            "height": null,
            "justify_content": null,
            "justify_items": null,
            "left": null,
            "margin": null,
            "max_height": null,
            "max_width": null,
            "min_height": null,
            "min_width": null,
            "object_fit": null,
            "object_position": null,
            "order": null,
            "overflow": null,
            "overflow_x": null,
            "overflow_y": null,
            "padding": null,
            "right": null,
            "top": null,
            "visibility": null,
            "width": null
          }
        },
        "d8f697bc58d94848b7e303e5c100aa10": {
          "model_module": "@jupyter-widgets/base",
          "model_module_version": "1.2.0",
          "model_name": "LayoutModel",
          "state": {
            "_model_module": "@jupyter-widgets/base",
            "_model_module_version": "1.2.0",
            "_model_name": "LayoutModel",
            "_view_count": null,
            "_view_module": "@jupyter-widgets/base",
            "_view_module_version": "1.2.0",
            "_view_name": "LayoutView",
            "align_content": null,
            "align_items": null,
            "align_self": null,
            "border": null,
            "bottom": null,
            "display": null,
            "flex": null,
            "flex_flow": null,
            "grid_area": null,
            "grid_auto_columns": null,
            "grid_auto_flow": null,
            "grid_auto_rows": null,
            "grid_column": null,
            "grid_gap": null,
            "grid_row": null,
            "grid_template_areas": null,
            "grid_template_columns": null,
            "grid_template_rows": null,
            "height": null,
            "justify_content": null,
            "justify_items": null,
            "left": null,
            "margin": null,
            "max_height": null,
            "max_width": null,
            "min_height": null,
            "min_width": null,
            "object_fit": null,
            "object_position": null,
            "order": null,
            "overflow": null,
            "overflow_x": null,
            "overflow_y": null,
            "padding": null,
            "right": null,
            "top": null,
            "visibility": null,
            "width": null
          }
        },
        "d96c4c13b01149b78eb20a0962b2c641": {
          "model_module": "@jupyter-widgets/controls",
          "model_module_version": "1.5.0",
          "model_name": "HTMLModel",
          "state": {
            "_dom_classes": [],
            "_model_module": "@jupyter-widgets/controls",
            "_model_module_version": "1.5.0",
            "_model_name": "HTMLModel",
            "_view_count": null,
            "_view_module": "@jupyter-widgets/controls",
            "_view_module_version": "1.5.0",
            "_view_name": "HTMLView",
            "description": "",
            "description_tooltip": null,
            "layout": "IPY_MODEL_6611035b972f490d9512fb3f1b14c136",
            "placeholder": "​",
            "style": "IPY_MODEL_35140c5f552049b19003ab3ae3c26b45",
            "value": " 4764/4764 [04:03&lt;00:00, 30.03 MiB/s]"
          }
        },
        "da489ed7324b41179eb0117d5be268f5": {
          "model_module": "@jupyter-widgets/controls",
          "model_module_version": "1.5.0",
          "model_name": "HBoxModel",
          "state": {
            "_dom_classes": [],
            "_model_module": "@jupyter-widgets/controls",
            "_model_module_version": "1.5.0",
            "_model_name": "HBoxModel",
            "_view_count": null,
            "_view_module": "@jupyter-widgets/controls",
            "_view_module_version": "1.5.0",
            "_view_name": "HBoxView",
            "box_style": "",
            "children": [
              "IPY_MODEL_b6fe24fcb3724fd2bb925787c49e0c58",
              "IPY_MODEL_cac742f906ba414094e5b4adcd3fbf6d",
              "IPY_MODEL_d96c4c13b01149b78eb20a0962b2c641"
            ],
            "layout": "IPY_MODEL_50f54c36f1684ff9bfdbc86b8609f16d"
          }
        },
        "dc482ea50c944f628d56479a1bfbd761": {
          "model_module": "@jupyter-widgets/base",
          "model_module_version": "1.2.0",
          "model_name": "LayoutModel",
          "state": {
            "_model_module": "@jupyter-widgets/base",
            "_model_module_version": "1.2.0",
            "_model_name": "LayoutModel",
            "_view_count": null,
            "_view_module": "@jupyter-widgets/base",
            "_view_module_version": "1.2.0",
            "_view_name": "LayoutView",
            "align_content": null,
            "align_items": null,
            "align_self": null,
            "border": null,
            "bottom": null,
            "display": null,
            "flex": null,
            "flex_flow": null,
            "grid_area": null,
            "grid_auto_columns": null,
            "grid_auto_flow": null,
            "grid_auto_rows": null,
            "grid_column": null,
            "grid_gap": null,
            "grid_row": null,
            "grid_template_areas": null,
            "grid_template_columns": null,
            "grid_template_rows": null,
            "height": null,
            "justify_content": null,
            "justify_items": null,
            "left": null,
            "margin": null,
            "max_height": null,
            "max_width": null,
            "min_height": null,
            "min_width": null,
            "object_fit": null,
            "object_position": null,
            "order": null,
            "overflow": null,
            "overflow_x": null,
            "overflow_y": null,
            "padding": null,
            "right": null,
            "top": null,
            "visibility": null,
            "width": "20px"
          }
        },
        "df235c08d98c4d2ba39a11c6892b6859": {
          "model_module": "@jupyter-widgets/controls",
          "model_module_version": "1.5.0",
          "model_name": "DescriptionStyleModel",
          "state": {
            "_model_module": "@jupyter-widgets/controls",
            "_model_module_version": "1.5.0",
            "_model_name": "DescriptionStyleModel",
            "_view_count": null,
            "_view_module": "@jupyter-widgets/base",
            "_view_module_version": "1.2.0",
            "_view_name": "StyleView",
            "description_width": ""
          }
        },
        "e3a1ed16392d4eb1a90a435c537e96b3": {
          "model_module": "@jupyter-widgets/base",
          "model_module_version": "1.2.0",
          "model_name": "LayoutModel",
          "state": {
            "_model_module": "@jupyter-widgets/base",
            "_model_module_version": "1.2.0",
            "_model_name": "LayoutModel",
            "_view_count": null,
            "_view_module": "@jupyter-widgets/base",
            "_view_module_version": "1.2.0",
            "_view_name": "LayoutView",
            "align_content": null,
            "align_items": null,
            "align_self": null,
            "border": null,
            "bottom": null,
            "display": null,
            "flex": null,
            "flex_flow": null,
            "grid_area": null,
            "grid_auto_columns": null,
            "grid_auto_flow": null,
            "grid_auto_rows": null,
            "grid_column": null,
            "grid_gap": null,
            "grid_row": null,
            "grid_template_areas": null,
            "grid_template_columns": null,
            "grid_template_rows": null,
            "height": null,
            "justify_content": null,
            "justify_items": null,
            "left": null,
            "margin": null,
            "max_height": null,
            "max_width": null,
            "min_height": null,
            "min_width": null,
            "object_fit": null,
            "object_position": null,
            "order": null,
            "overflow": null,
            "overflow_x": null,
            "overflow_y": null,
            "padding": null,
            "right": null,
            "top": null,
            "visibility": null,
            "width": null
          }
        },
        "e707dceb0ad84c9ebb2b363a30154ef8": {
          "model_module": "@jupyter-widgets/controls",
          "model_module_version": "1.5.0",
          "model_name": "HTMLModel",
          "state": {
            "_dom_classes": [],
            "_model_module": "@jupyter-widgets/controls",
            "_model_module_version": "1.5.0",
            "_model_name": "HTMLModel",
            "_view_count": null,
            "_view_module": "@jupyter-widgets/controls",
            "_view_module_version": "1.5.0",
            "_view_name": "HTMLView",
            "description": "",
            "description_tooltip": null,
            "layout": "IPY_MODEL_4f53d4fd94494f85b7b8b59036e9c294",
            "placeholder": "​",
            "style": "IPY_MODEL_991e446e02934729b61633ef3d4951a4",
            "value": " 25216/0 [00:56&lt;00:00, 496.73 examples/s]"
          }
        },
        "f0b91cd2cf6648c691a246f617e5d406": {
          "model_module": "@jupyter-widgets/base",
          "model_module_version": "1.2.0",
          "model_name": "LayoutModel",
          "state": {
            "_model_module": "@jupyter-widgets/base",
            "_model_module_version": "1.2.0",
            "_model_name": "LayoutModel",
            "_view_count": null,
            "_view_module": "@jupyter-widgets/base",
            "_view_module_version": "1.2.0",
            "_view_name": "LayoutView",
            "align_content": null,
            "align_items": null,
            "align_self": null,
            "border": null,
            "bottom": null,
            "display": null,
            "flex": null,
            "flex_flow": null,
            "grid_area": null,
            "grid_auto_columns": null,
            "grid_auto_flow": null,
            "grid_auto_rows": null,
            "grid_column": null,
            "grid_gap": null,
            "grid_row": null,
            "grid_template_areas": null,
            "grid_template_columns": null,
            "grid_template_rows": null,
            "height": null,
            "justify_content": null,
            "justify_items": null,
            "left": null,
            "margin": null,
            "max_height": null,
            "max_width": null,
            "min_height": null,
            "min_width": null,
            "object_fit": null,
            "object_position": null,
            "order": null,
            "overflow": null,
            "overflow_x": null,
            "overflow_y": null,
            "padding": null,
            "right": null,
            "top": null,
            "visibility": null,
            "width": "20px"
          }
        },
        "f33d2d638dd845baaa3b5f0384ee9c52": {
          "model_module": "@jupyter-widgets/base",
          "model_module_version": "1.2.0",
          "model_name": "LayoutModel",
          "state": {
            "_model_module": "@jupyter-widgets/base",
            "_model_module_version": "1.2.0",
            "_model_name": "LayoutModel",
            "_view_count": null,
            "_view_module": "@jupyter-widgets/base",
            "_view_module_version": "1.2.0",
            "_view_name": "LayoutView",
            "align_content": null,
            "align_items": null,
            "align_self": null,
            "border": null,
            "bottom": null,
            "display": null,
            "flex": null,
            "flex_flow": null,
            "grid_area": null,
            "grid_auto_columns": null,
            "grid_auto_flow": null,
            "grid_auto_rows": null,
            "grid_column": null,
            "grid_gap": null,
            "grid_row": null,
            "grid_template_areas": null,
            "grid_template_columns": null,
            "grid_template_rows": null,
            "height": null,
            "justify_content": null,
            "justify_items": null,
            "left": null,
            "margin": null,
            "max_height": null,
            "max_width": null,
            "min_height": null,
            "min_width": null,
            "object_fit": null,
            "object_position": null,
            "order": null,
            "overflow": null,
            "overflow_x": null,
            "overflow_y": null,
            "padding": null,
            "right": null,
            "top": null,
            "visibility": null,
            "width": null
          }
        },
        "f64b5d3a939d47f0b066f806ffbd293c": {
          "model_module": "@jupyter-widgets/controls",
          "model_module_version": "1.5.0",
          "model_name": "ProgressStyleModel",
          "state": {
            "_model_module": "@jupyter-widgets/controls",
            "_model_module_version": "1.5.0",
            "_model_name": "ProgressStyleModel",
            "_view_count": null,
            "_view_module": "@jupyter-widgets/base",
            "_view_module_version": "1.2.0",
            "_view_name": "StyleView",
            "bar_color": null,
            "description_width": ""
          }
        },
        "fa142f3383874eec9eb4fe8f91d411b6": {
          "model_module": "@jupyter-widgets/base",
          "model_module_version": "1.2.0",
          "model_name": "LayoutModel",
          "state": {
            "_model_module": "@jupyter-widgets/base",
            "_model_module_version": "1.2.0",
            "_model_name": "LayoutModel",
            "_view_count": null,
            "_view_module": "@jupyter-widgets/base",
            "_view_module_version": "1.2.0",
            "_view_name": "LayoutView",
            "align_content": null,
            "align_items": null,
            "align_self": null,
            "border": null,
            "bottom": null,
            "display": null,
            "flex": null,
            "flex_flow": null,
            "grid_area": null,
            "grid_auto_columns": null,
            "grid_auto_flow": null,
            "grid_auto_rows": null,
            "grid_column": null,
            "grid_gap": null,
            "grid_row": null,
            "grid_template_areas": null,
            "grid_template_columns": null,
            "grid_template_rows": null,
            "height": null,
            "justify_content": null,
            "justify_items": null,
            "left": null,
            "margin": null,
            "max_height": null,
            "max_width": null,
            "min_height": null,
            "min_width": null,
            "object_fit": null,
            "object_position": null,
            "order": null,
            "overflow": null,
            "overflow_x": null,
            "overflow_y": null,
            "padding": null,
            "right": null,
            "top": null,
            "visibility": null,
            "width": null
          }
        }
      }
    }
  },
  "nbformat": 4,
  "nbformat_minor": 0
}
