{
  "cells": [
    {
      "cell_type": "markdown",
      "metadata": {
        "id": "wDnyHhlFzQDd"
      },
      "source": [
        "# Milestone Project 1: Food Vision Big\n",
        "This project is done on colab since the dataset filesize is quite big (5 gb)"
      ]
    },
    {
      "cell_type": "markdown",
      "metadata": {
        "id": "0nNYRIqFyq0t"
      },
      "source": [
        "## Check the Colab GPU and ensure it is a Tesla T4, in order to use mixed precision training"
      ]
    },
    {
      "cell_type": "code",
      "execution_count": null,
      "metadata": {
        "colab": {
          "base_uri": "https://localhost:8080/"
        },
        "id": "SgLqoQIZyyIn",
        "outputId": "48544c67-2f5a-4c27-b725-055942075909"
      },
      "outputs": [
        {
          "output_type": "stream",
          "name": "stdout",
          "text": [
            "GPU 0: Tesla T4 (UUID: GPU-147ae79c-4758-b356-40ae-c699ce4dad94)\n"
          ]
        }
      ],
      "source": [
        "!nvidia-smi -L"
      ]
    },
    {
      "cell_type": "code",
      "execution_count": null,
      "metadata": {
        "colab": {
          "base_uri": "https://localhost:8080/"
        },
        "id": "xuPZP69W1N8t",
        "outputId": "97147c73-adfa-4552-cbb5-86367e8ba6e3"
      },
      "outputs": [
        {
          "output_type": "stream",
          "name": "stdout",
          "text": [
            "--2022-05-16 12:09:46--  https://raw.githubusercontent.com/EngMarchG/TensorFlow-Mastery/master/helper/helperFunctions.py\n",
            "Resolving raw.githubusercontent.com (raw.githubusercontent.com)... 185.199.108.133, 185.199.109.133, 185.199.110.133, ...\n",
            "Connecting to raw.githubusercontent.com (raw.githubusercontent.com)|185.199.108.133|:443... connected.\n",
            "HTTP request sent, awaiting response... 200 OK\n",
            "Length: 13247 (13K) [text/plain]\n",
            "Saving to: ‘helperFunctions.py’\n",
            "\n",
            "\rhelperFunctions.py    0%[                    ]       0  --.-KB/s               \rhelperFunctions.py  100%[===================>]  12.94K  --.-KB/s    in 0s      \n",
            "\n",
            "2022-05-16 12:09:47 (124 MB/s) - ‘helperFunctions.py’ saved [13247/13247]\n",
            "\n"
          ]
        }
      ],
      "source": [
        "# Import the helper function\n",
        "# No need if it is already in your folder\n",
        "!wget https://raw.githubusercontent.com/EngMarchG/TensorFlow-Mastery/master/helper/helperFunctions.py"
      ]
    },
    {
      "cell_type": "markdown",
      "metadata": {
        "id": "Fe6vmjuDHqg2"
      },
      "source": [
        "## Import the helper Module from previous sections"
      ]
    },
    {
      "cell_type": "code",
      "execution_count": null,
      "metadata": {
        "id": "RTPS1ear1lLx"
      },
      "outputs": [],
      "source": [
        "# Import a few functionalities of the module\n",
        "# import sys\n",
        "# sys.path.append(\"./../helper/\")\n",
        "from helperFunctions import create_tensorboard_callback, plot_loss_curves, compare_historys"
      ]
    },
    {
      "cell_type": "markdown",
      "metadata": {
        "id": "iG1RriFU2ARI"
      },
      "source": [
        "# Use TensorFlow Datasets to Download Data"
      ]
    },
    {
      "cell_type": "code",
      "execution_count": null,
      "metadata": {
        "id": "jlARKju17yWw"
      },
      "outputs": [],
      "source": [
        "# import TensorFlow Datasets\n",
        "import tensorflow_datasets as tfds "
      ]
    },
    {
      "cell_type": "code",
      "execution_count": null,
      "metadata": {
        "colab": {
          "base_uri": "https://localhost:8080/"
        },
        "id": "G1iy58zb76jo",
        "outputId": "4c8ba897-374a-4946-fba2-f8e931f19101"
      },
      "outputs": [
        {
          "output_type": "stream",
          "name": "stdout",
          "text": [
            "True\n"
          ]
        }
      ],
      "source": [
        "# List all available datasets\n",
        "datasets_list = tfds.list_builders() # get all available datasets in TFDS\n",
        "print(\"food101\" in datasets_list) # Checking if the target dataset is in the list"
      ]
    },
    {
      "cell_type": "code",
      "execution_count": null,
      "metadata": {
        "id": "Zos0Faas8Pi3",
        "colab": {
          "base_uri": "https://localhost:8080/",
          "height": 299,
          "referenced_widgets": [
            "0b18a62d156b4bfa94e40b820065abdc",
            "c89fcbe102614aa394a7c40fa64711aa",
            "57ed54b36d7044949e2448dbe88dd7a6",
            "bf6fb2de14df4c96b2248cc895cf87d8",
            "f498ed088cea42e4a379bb29bc7eeffd",
            "28e5959c749d432a9d4007dd0464655e",
            "cf195126004d46e0b1d0926bdd872d10",
            "276ba5bdbda044da95f7bd4caf9da9cd",
            "2b3cfc1edea44b8c93665b1d2953e5f9",
            "d7331ed6fcc341faab15f8be8e8d0bbe",
            "8e9022440152438e98f062ba4077a5ec",
            "1c9cb5872cd04ccb85f5dabfc6b5a387",
            "d406b84fcb5647f6ad2168af4a4af8ce",
            "80e80a01c99b45c9b21447a24f19de77",
            "8d51af85d24c4afbbabe551cc5013c92",
            "b4ae9ee76d8f404bb79946ce09464b86",
            "936af444b9454ca4a4a3d629ae669463",
            "f22f8ce4e12d4653ba0db1b5da7b0ba5",
            "a6b3a38adf5c4026b90b261fc0b1b58e",
            "66d18c4244824a37874401180c9b0d49",
            "a83aeaac6828494f898d5d9a25e16e0c",
            "90daac5b08874a1e968459619b83c1db",
            "4bf8540cb547452cadba535bc906f898",
            "8d2861c8ff444adf8e3a4c9fa45fc0db",
            "c248da11a12149ed925e0473e8dc2c5c",
            "c48a8d49e78e4861baee08fbc31b4692",
            "4fb5686f0e704e8fa918b3e08e65c1a3",
            "49c834ff41cf484d888e6f425eb7ebce",
            "4bc7b95f45a646e4807693fc58869478",
            "d80264bb6dbc49438d526bc35dcccdfe",
            "596b34566d3944feb34f9e0113875843",
            "0a1babbf10984ebe89c7c71bb799321f",
            "7c2bb9aa7e324cba8100aa8ca6c1e93b",
            "4dd0c387b990463e9789e4d919ed8c03",
            "aff61c51db374742bbf54c7ac199c353",
            "28591c9ec9e1493f8c798c6c2863d33a",
            "64e2826bffbf443999b3ad1fe36c7efb",
            "3a66375381e54138ad010558d4f7b437",
            "20ba2b9a40904bf69f00666429dfc565",
            "273405b57b9043cca08570216f0af152",
            "f83ed64c0b374e03bb5c751221aa64e0",
            "af2e350440a7421ebaae96a30b301f5d",
            "7bc1f67ea3e449708424daceed363a06",
            "70fc499315414c938e42e6daeb8a93eb",
            "157ed8f93a1d47c3b3753bbb1b6223ba",
            "f90a6768f22045b3afd2139450326f45",
            "dcd2af0986a445c39c8e784d306e6575",
            "13e3b85375304f85a42eb69258a8ef60",
            "8ed1107b92994b359e7b0e6b709defe6",
            "7d2c793dd5d445a7baaf546fc3ce79b7",
            "4ef0b1b4565c4cc8ab9254b906a7a28a",
            "a0b5cc031f334f5b8290c8a866b02bcd",
            "0cf38cf9f4b545759ea8a07b8a5f1057",
            "b9bf47aa542348658728dac3684ed976",
            "2966081d70e84b12ac2d5a5da4ecf07d",
            "f14f8ec49f4348728c64d33ab5d4f214",
            "1cab1d1095d448c7a10d83f067c9a2c4",
            "19e86616547a4716ad765fa6ca968035",
            "c25a27070be24c91897528776c11a25e",
            "df70957b118a496d9e6a4b2471fe024d",
            "135e437e281c4d78a3f97f51f6d08708",
            "135fde43a6794167b38f3b2cf7ede05a",
            "a1da6e356288422f8634af5c7b085646",
            "8cd2237c81b64e9686238402a6dc74de",
            "731018b13e93404faebe7ea786be1873",
            "246ec8ebf69942e2adcd386af1aa9d25",
            "c2abdb116dfa4edb94ea061dd78b3f6a",
            "5f2f3209a03645f38f337280125c973c",
            "27b7b2a27eee42338473900975f3f526",
            "b70ba42053914262a9991e14161e35a0",
            "814694fbc7874a8dbefdf48f4c4b67b8",
            "e57497cb18834e43985d4800237a29bb",
            "7fc9b0575256477299f461e1b3f4837a",
            "7881196ed6514a28a2a454e8f3df772a",
            "d112144f0e3743bfa85db00ea84ec2b5",
            "4c7584b63aad4cc98f7c7dbcdab38ec9",
            "0d3c24cfdec84db6872a22f5ed44bc47"
          ]
        },
        "outputId": "866e3759-142a-48cf-f472-c11ad48c6455"
      },
      "outputs": [
        {
          "output_type": "stream",
          "name": "stdout",
          "text": [
            "\u001b[1mDownloading and preparing dataset food101/2.0.0 (download: 4.65 GiB, generated: Unknown size, total: 4.65 GiB) to /root/tensorflow_datasets/food101/2.0.0...\u001b[0m\n"
          ]
        },
        {
          "output_type": "display_data",
          "data": {
            "text/plain": [
              "Dl Completed...: 0 url [00:00, ? url/s]"
            ],
            "application/vnd.jupyter.widget-view+json": {
              "version_major": 2,
              "version_minor": 0,
              "model_id": "0b18a62d156b4bfa94e40b820065abdc"
            }
          },
          "metadata": {}
        },
        {
          "output_type": "display_data",
          "data": {
            "text/plain": [
              "Dl Size...: 0 MiB [00:00, ? MiB/s]"
            ],
            "application/vnd.jupyter.widget-view+json": {
              "version_major": 2,
              "version_minor": 0,
              "model_id": "1c9cb5872cd04ccb85f5dabfc6b5a387"
            }
          },
          "metadata": {}
        },
        {
          "output_type": "display_data",
          "data": {
            "text/plain": [
              "Extraction completed...: 0 file [00:00, ? file/s]"
            ],
            "application/vnd.jupyter.widget-view+json": {
              "version_major": 2,
              "version_minor": 0,
              "model_id": "4bf8540cb547452cadba535bc906f898"
            }
          },
          "metadata": {}
        },
        {
          "output_type": "stream",
          "name": "stdout",
          "text": [
            "\n",
            "\n",
            "\n"
          ]
        },
        {
          "output_type": "display_data",
          "data": {
            "text/plain": [
              "0 examples [00:00, ? examples/s]"
            ],
            "application/vnd.jupyter.widget-view+json": {
              "version_major": 2,
              "version_minor": 0,
              "model_id": "4dd0c387b990463e9789e4d919ed8c03"
            }
          },
          "metadata": {}
        },
        {
          "output_type": "stream",
          "name": "stdout",
          "text": [
            "Shuffling and writing examples to /root/tensorflow_datasets/food101/2.0.0.incompleteWIIQG9/food101-train.tfrecord\n"
          ]
        },
        {
          "output_type": "display_data",
          "data": {
            "text/plain": [
              "  0%|          | 0/75750 [00:00<?, ? examples/s]"
            ],
            "application/vnd.jupyter.widget-view+json": {
              "version_major": 2,
              "version_minor": 0,
              "model_id": "157ed8f93a1d47c3b3753bbb1b6223ba"
            }
          },
          "metadata": {}
        },
        {
          "output_type": "display_data",
          "data": {
            "text/plain": [
              "0 examples [00:00, ? examples/s]"
            ],
            "application/vnd.jupyter.widget-view+json": {
              "version_major": 2,
              "version_minor": 0,
              "model_id": "f14f8ec49f4348728c64d33ab5d4f214"
            }
          },
          "metadata": {}
        },
        {
          "output_type": "stream",
          "name": "stdout",
          "text": [
            "Shuffling and writing examples to /root/tensorflow_datasets/food101/2.0.0.incompleteWIIQG9/food101-validation.tfrecord\n"
          ]
        },
        {
          "output_type": "display_data",
          "data": {
            "text/plain": [
              "  0%|          | 0/25250 [00:00<?, ? examples/s]"
            ],
            "application/vnd.jupyter.widget-view+json": {
              "version_major": 2,
              "version_minor": 0,
              "model_id": "c2abdb116dfa4edb94ea061dd78b3f6a"
            }
          },
          "metadata": {}
        },
        {
          "output_type": "stream",
          "name": "stdout",
          "text": [
            "\u001b[1mDataset food101 downloaded and prepared to /root/tensorflow_datasets/food101/2.0.0. Subsequent calls will reuse this data.\u001b[0m\n"
          ]
        }
      ],
      "source": [
        "# Load in the data\n",
        "(train_data, test_data), ds_info = tfds.load(name=\"food101\",\n",
        "                                             split=[\"train\", \"validation\"],\n",
        "                                             shuffle_files=True,\n",
        "                                             as_supervised=True, # Data gets returned as tuple (data, label)\n",
        "                                             with_info=True) # Downloads ds_info aka meta data"
      ]
    },
    {
      "cell_type": "markdown",
      "metadata": {
        "id": "BHAoqQhM-s8r"
      },
      "source": [
        "## Exploring the Food101 Data from Tensorflow DataSet\n",
        "\n",
        "To become one with the data, find:\n",
        "- Class names\n",
        "- The shape of input data\n",
        "The datatype of our input data\n",
        "- What the labels look like (one-hot encoded or strings)\n",
        "- Do the labels match up with the image"
      ]
    },
    {
      "cell_type": "code",
      "execution_count": null,
      "metadata": {
        "colab": {
          "base_uri": "https://localhost:8080/"
        },
        "id": "iRxrJWnq9EcB",
        "outputId": "0655cb48-f76b-4081-a5f5-1a869fc34512"
      },
      "outputs": [
        {
          "output_type": "execute_result",
          "data": {
            "text/plain": [
              "FeaturesDict({\n",
              "    'image': Image(shape=(None, None, 3), dtype=tf.uint8),\n",
              "    'label': ClassLabel(shape=(), dtype=tf.int64, num_classes=101),\n",
              "})"
            ]
          },
          "metadata": {},
          "execution_count": 7
        }
      ],
      "source": [
        "# Features of Food101 from TFDS\n",
        "ds_info.features"
      ]
    },
    {
      "cell_type": "code",
      "execution_count": null,
      "metadata": {
        "colab": {
          "base_uri": "https://localhost:8080/"
        },
        "id": "ToT5q2hD-P7M",
        "outputId": "e0a13002-fa08-4bb4-80a7-bc5cae87dedb"
      },
      "outputs": [
        {
          "output_type": "execute_result",
          "data": {
            "text/plain": [
              "['apple_pie',\n",
              " 'baby_back_ribs',\n",
              " 'baklava',\n",
              " 'beef_carpaccio',\n",
              " 'beef_tartare',\n",
              " 'beet_salad',\n",
              " 'beignets',\n",
              " 'bibimbap',\n",
              " 'bread_pudding',\n",
              " 'breakfast_burrito']"
            ]
          },
          "metadata": {},
          "execution_count": 8
        }
      ],
      "source": [
        "# Get the class name\n",
        "class_names = ds_info.features[\"label\"].names\n",
        "class_names[:10]"
      ]
    },
    {
      "cell_type": "markdown",
      "metadata": {
        "id": "wtR5Vm-MBHJW"
      },
      "source": [
        "# Create preprocessing Functions for the data\n",
        "How the data currently is:\n",
        "- Type: 'uint8' datatyp\n",
        "- Comprised of different sized tensors\n",
        "- Unscaled\n",
        "\n",
        "What do models prefer:\n",
        "- Data in 'float32' dtype or mixed precision type 'float16 and float32'\n",
        "- Batch sizes need to be of the same image size\n",
        "- Scaled images (0 & 1)\n",
        "\n",
        "Rescaling won't be necessary in this case since EfficientNetBX will be used"
      ]
    },
    {
      "cell_type": "code",
      "execution_count": null,
      "metadata": {
        "id": "f04yt2t3Dpbp"
      },
      "outputs": [],
      "source": [
        "from helperFunctions import preprocessed_img_sparse"
      ]
    },
    {
      "cell_type": "markdown",
      "metadata": {
        "id": "-K8B1A3SETwZ"
      },
      "source": [
        "## Prepare batches \n",
        "Data input pipelines are recommended to run really fast.\n",
        "\n",
        "Extra resources: www.tensorflow.org/guide"
      ]
    },
    {
      "cell_type": "code",
      "execution_count": null,
      "metadata": {
        "id": "SzHgUsxIGD01"
      },
      "outputs": [],
      "source": [
        "import tensorflow as tf\n",
        "tf.function(jit_compile=True)\n",
        "\n",
        "# Map preprocessing function to training and (parallelize)\n",
        "train_data = train_data.map(map_func=preprocessed_img_sparse, num_parallel_calls=tf.data.AUTOTUNE)\n",
        "\n",
        "# Shuffle train_data and turn it into batches and prefetch it (load it faster)\n",
        "train_data = train_data.shuffle(buffer_size=1000).batch(batch_size=128).prefetch(buffer_size=tf.data.AUTOTUNE) # Stores data in memory for faster batching\n",
        "\n",
        "# Map preprocessing function to test data\n",
        "test_data = test_data.map(preprocessed_img_sparse, num_parallel_calls=tf.data.AUTOTUNE).batch(128).prefetch(tf.data.AUTOTUNE) # .cache if needed"
      ]
    },
    {
      "cell_type": "code",
      "execution_count": null,
      "metadata": {
        "colab": {
          "base_uri": "https://localhost:8080/"
        },
        "id": "8Q8y3Ol-GUC-",
        "outputId": "c84ea7b4-3213-4efb-b1d6-c280821d87d7"
      },
      "outputs": [
        {
          "output_type": "execute_result",
          "data": {
            "text/plain": [
              "(<PrefetchDataset element_spec=(TensorSpec(shape=(None, 224, 224, 3), dtype=tf.float32, name=None), TensorSpec(shape=(None,), dtype=tf.int64, name=None))>,\n",
              " <PrefetchDataset element_spec=(TensorSpec(shape=(None, 224, 224, 3), dtype=tf.float32, name=None), TensorSpec(shape=(None,), dtype=tf.int64, name=None))>,\n",
              " <PrefetchDataset element_spec=(TensorSpec(shape=(None, 224, 224, 3), dtype=tf.float32, name=None), TensorSpec(shape=(None, 101), dtype=tf.float32, name=None))>)"
            ]
          },
          "metadata": {},
          "execution_count": 12
        }
      ],
      "source": [
        "train_data, test_data"
      ]
    },
    {
      "cell_type": "markdown",
      "metadata": {
        "id": "d2LyzLjdaONj"
      },
      "source": [
        "Maps the preprocessing function ('preprocess_img') across the training dataset, then shuffle a number of elements and batch them together. Finally, prepare new patches (prefetch), while the model is looking through (finding patterns) in the current batch."
      ]
    },
    {
      "cell_type": "markdown",
      "metadata": {
        "id": "VUbblDEsaw3u"
      },
      "source": [
        "## Create modelling callbacks\n",
        "\n",
        "Create a couple of callbacks to help out while the model trains\n",
        "- TensorBoard Callback to log training results (so it can be visalized later if needed)\n",
        "- ModelCheckPoint callback to save the model's progress after feature extraction"
      ]
    },
    {
      "cell_type": "code",
      "execution_count": null,
      "metadata": {
        "id": "WHlQNR9rbj7n"
      },
      "outputs": [],
      "source": [
        "# Create a tensorboard callback (premade function will be imported)\n",
        "from helperFunctions import create_tensorboard_callback\n",
        "\n",
        "# Create ModelCheckpoint callback to save a model's progress during training\n",
        "checkpoint_path = \"model_checkpoint\"\n",
        "model_checkpoint = tf.keras.callbacks.ModelCheckpoint(checkpoint_path,\n",
        "                                                      monitor=\"val_acc\", # others like val_loss\n",
        "                                                      save_best_only=True,\n",
        "                                                      save_weights_only=True,\n",
        "                                                      verbose=0) # 0 doesn't print 1 prints 2 prints more stuff\n"
      ]
    },
    {
      "cell_type": "markdown",
      "metadata": {
        "id": "NNlecDK8kkQp"
      },
      "source": [
        "## Setup mixed precision training\n",
        "To understand the process read the following link: [Precision training](www.tensorflow.org/guide/mixed_precision)"
      ]
    },
    {
      "cell_type": "code",
      "execution_count": null,
      "metadata": {
        "colab": {
          "base_uri": "https://localhost:8080/"
        },
        "id": "Ik9TP1N5knhC",
        "outputId": "4d60763a-1680-4b86-bd69-5aeecf71c93d"
      },
      "outputs": [
        {
          "output_type": "stream",
          "name": "stdout",
          "text": [
            "INFO:tensorflow:Mixed precision compatibility check (mixed_float16): OK\n",
            "Your GPU will likely run quickly with dtype policy mixed_float16 as it has compute capability of at least 7.0. Your GPU: Tesla T4, compute capability 7.5\n"
          ]
        },
        {
          "output_type": "stream",
          "name": "stderr",
          "text": [
            "INFO:tensorflow:Mixed precision compatibility check (mixed_float16): OK\n",
            "Your GPU will likely run quickly with dtype policy mixed_float16 as it has compute capability of at least 7.0. Your GPU: Tesla T4, compute capability 7.5\n"
          ]
        },
        {
          "output_type": "execute_result",
          "data": {
            "text/plain": [
              "<Policy \"mixed_float16\">"
            ]
          },
          "metadata": {},
          "execution_count": 14
        }
      ],
      "source": [
        "# Turn on mixed precision training\n",
        "from tensorflow.keras import mixed_precision\n",
        "mixed_precision.set_global_policy(\"mixed_float16\") # Set global policy to mixed precision\n",
        "mixed_precision.global_policy()"
      ]
    },
    {
      "cell_type": "markdown",
      "metadata": {
        "id": "xwmdxvBum5xO"
      },
      "source": [
        "## Building the feature extracting model"
      ]
    },
    {
      "cell_type": "code",
      "execution_count": null,
      "metadata": {
        "id": "xL2tNArUnCkp"
      },
      "outputs": [],
      "source": [
        "from tensorflow.keras import layers\n",
        "import tensorflow as tf"
      ]
    },
    {
      "cell_type": "code",
      "execution_count": null,
      "metadata": {
        "id": "yxUlVkoS9zoc"
      },
      "outputs": [],
      "source": [
        "# First rebuild the mode with data augmentation\n",
        "from tensorflow.keras import Sequential\n",
        "data_augmentation = Sequential([\n",
        "                                layers.RandomFlip(\"horizontal_and_vertical\"),\n",
        "                                layers.RandomZoom(0.2),\n",
        "                                layers.RandomWidth(0.2),\n",
        "                                layers.RandomHeight(0.2),\n",
        "                                layers.RandomRotation(0.35),\n",
        "                                layers.RandomContrast(0.2)\n",
        "], name=\"data_agumentation\")"
      ]
    },
    {
      "cell_type": "code",
      "execution_count": null,
      "metadata": {
        "id": "GNQC9TH7AhUI"
      },
      "outputs": [],
      "source": [
        "# # Create base model\n",
        "# input_shape = (224, 224, 3)\n",
        "# base_model_augmented = tf.keras.applications.EfficientNetV2B0(include_top=False)"
      ]
    },
    {
      "cell_type": "code",
      "execution_count": null,
      "metadata": {
        "id": "2ojBOzYdhcHa"
      },
      "outputs": [],
      "source": [
        "# # Store the fully connected layers\n",
        "# fc1 = base_model_augmented.layers[-3]\n",
        "# fc2 = base_model_augmented.layers[-2]\n",
        "# predictions = base_model_augmented.layers[-1]\n",
        "\n",
        "# # Create the dropout layers\n",
        "# dropout1 = layers.Dropout(0.35)\n",
        "# dropout2 = layers.Dropout(0.35)\n",
        "\n",
        "# # Reconnect the layers\n",
        "# x = dropout1(fc1.output)\n",
        "# x = fc2(x)\n",
        "# x = dropout2(x)\n",
        "# predictors = predictions(x)\n",
        "\n",
        "# # Create a new model\n",
        "# base_model_augmented = tf.keras.Model(base_model_augmented.input, predictors)\n",
        "# base_model_augmented.trainable = False"
      ]
    },
    {
      "cell_type": "code",
      "execution_count": null,
      "metadata": {
        "id": "af4zOZyJhX6L"
      },
      "outputs": [],
      "source": [
        "# # Create Functional model\n",
        "# inputs = layers.Input(shape=input_shape, name=\"input_layer\")\n",
        "# # x = preprocessing.Rescaling(1/255)(x)  # if rescaling was necessary\n",
        "# x = data_augmentation(inputs)\n",
        "# x = base_model_augmented(x, training=False)\n",
        "\n",
        "# # Rebuild the top layer\n",
        "# x = layers.GlobalAveragePooling2D(name=\"global_average_pooling_2D\")(x) \n",
        "# x = layers.Dense(1010, activation=tf.keras.layers.LeakyReLU(0.3))(x)\n",
        "# x = layers.BatchNormalization(name=\"top_added_bn\")(x)\n",
        "# # Added a dropout layer\n",
        "# x = layers.Dense(len(class_names))(x)\n",
        "# outputs = layers.Activation(\"softmax\", dtype=tf.float32, name=\"softmax_float32\")(x) \n",
        "# # Only change is the activation outside to pass types\n",
        "# base_model_augmented = tf.keras.Model(inputs, outputs)"
      ]
    },
    {
      "cell_type": "code",
      "source": [
        "# # Create base model\n",
        "# input_shape = (224, 224, 3)\n",
        "# base_model_augmented = tf.keras.applications.EfficientNetV2B0(include_top=False)\n",
        "# base_model_augmented.trainable = False\n",
        "\n",
        "# # Create Functional model\n",
        "# inputs = layers.Input(shape=input_shape, name=\"input_layer\")\n",
        "# # x = preprocessing.Rescaling(1/255)(x)  # if rescaling was necessary\n",
        "# x = data_augmentation(inputs)\n",
        "# x = base_model_augmented(x, training=False)\n",
        "\n",
        "# x = layers.GlobalMaxPooling2D(keepdims=True)(x)\n",
        "# x = layers.BatchNormalization()(x)\n",
        "# x = layers.Dropout(0.5)(x)\n",
        "# x = layers.Conv2D(640, 3, padding=\"same\")(x)\n",
        "# x = layers.GlobalMaxPool2D()(x)\n",
        "# x = layers.BatchNormalization()(x)\n",
        "# x = layers.Dense(len(class_names))(x)\n",
        "# outputs = layers.Activation(\"softmax\", dtype=tf.float32, name=\"softmax_float32\")(x) \n",
        "# # Only change is the activation outside to pass types\n",
        "# base_model_augmented = tf.keras.Model(inputs, outputs)"
      ],
      "metadata": {
        "id": "JrgQ4OP-1uNW"
      },
      "execution_count": null,
      "outputs": []
    },
    {
      "cell_type": "code",
      "source": [
        "# Create base model\n",
        "input_shape = (224, 224, 3)\n",
        "base_model_augmented = tf.keras.applications.EfficientNetV2B0(include_top=False)\n",
        "base_model_augmented.trainable = False\n",
        "\n",
        "# Create Functional model\n",
        "inputs = layers.Input(shape=input_shape, name=\"input_layer\")\n",
        "# x = preprocessing.Rescaling(1/255)(x)  # if rescaling was necessary\n",
        "x = data_augmentation(inputs)\n",
        "x = base_model_augmented(x, training=False)\n",
        "\n",
        "x = layers.Dropout(0.2)(x)\n",
        "x = layers.GlobalMaxPooling2D(keepdims=True)(x)\n",
        "x = layers.BatchNormalization()(x)\n",
        "\n",
        "x = layers.Dropout(0.2)(x)\n",
        "x = layers.GlobalMaxPool2D()(x)\n",
        "x = layers.BatchNormalization()(x)\n",
        "\n",
        "x = layers.Dense(len(class_names))(x)\n",
        "outputs = layers.Activation(\"softmax\", dtype=tf.float32, name=\"softmax_float32\")(x) \n",
        "# Only change is the activation outside to pass types\n",
        "base_model_augmented = tf.keras.Model(inputs, outputs)"
      ],
      "metadata": {
        "id": "OWkiKImR9xv-",
        "colab": {
          "base_uri": "https://localhost:8080/"
        },
        "outputId": "a5681817-d6f0-4a73-836c-15b2dc62dc8f"
      },
      "execution_count": null,
      "outputs": [
        {
          "output_type": "stream",
          "name": "stdout",
          "text": [
            "Downloading data from https://storage.googleapis.com/tensorflow/keras-applications/efficientnet_v2/efficientnetv2-b0_notop.h5\n",
            "24281088/24274472 [==============================] - 0s 0us/step\n",
            "24289280/24274472 [==============================] - 0s 0us/step\n"
          ]
        }
      ]
    },
    {
      "cell_type": "code",
      "execution_count": null,
      "metadata": {
        "id": "F7l-T27-fcax"
      },
      "outputs": [],
      "source": [
        "# Call back the function early if there is no improvement or overfitting\n",
        "callback = tf.keras.callbacks.EarlyStopping(monitor='val_loss', patience=2, restore_best_weights=True)"
      ]
    },
    {
      "cell_type": "code",
      "execution_count": null,
      "metadata": {
        "colab": {
          "base_uri": "https://localhost:8080/"
        },
        "id": "AD9UgktOAoBI",
        "outputId": "b718f381-5d73-4ed8-e55b-f5101b492b9b"
      },
      "outputs": [
        {
          "output_type": "stream",
          "name": "stdout",
          "text": [
            "Saving TensorBoard log files to: training_log_aug/efficientnetV2b0_101_classes_all_data_augmented_dropout/20220516-121728\n",
            "Epoch 1/25\n",
            "592/592 [==============================] - ETA: 0s - loss: 3.4122 - accuracy: 0.2290WARNING:tensorflow:Can save best model only with val_acc available, skipping.\n"
          ]
        },
        {
          "output_type": "stream",
          "name": "stderr",
          "text": [
            "WARNING:tensorflow:Can save best model only with val_acc available, skipping.\n"
          ]
        },
        {
          "output_type": "stream",
          "name": "stdout",
          "text": [
            "\b\b\b\b\b\b\b\b\b\b\b\b\b\b\b\b\b\b\b\b\b\b\b\b\b\b\b\b\b\b\b\b\b\b\b\b\b\b\b\b\b\b\b\b\b\b\b\b\b\b\b\b\b\b\b\b\b\b\b\b\b\b\b\b\b\b\b\b\b\b\b\b\b\b\b\b\b\b\b\b\b\b\b\b\r592/592 [==============================] - 213s 321ms/step - loss: 3.4122 - accuracy: 0.2290 - val_loss: 2.2854 - val_accuracy: 0.4281\n",
            "Epoch 2/25\n",
            "592/592 [==============================] - ETA: 0s - loss: 2.6144 - accuracy: 0.3720WARNING:tensorflow:Can save best model only with val_acc available, skipping.\n"
          ]
        },
        {
          "output_type": "stream",
          "name": "stderr",
          "text": [
            "WARNING:tensorflow:Can save best model only with val_acc available, skipping.\n"
          ]
        },
        {
          "output_type": "stream",
          "name": "stdout",
          "text": [
            "\b\b\b\b\b\b\b\b\b\b\b\b\b\b\b\b\b\b\b\b\b\b\b\b\b\b\b\b\b\b\b\b\b\b\b\b\b\b\b\b\b\b\b\b\b\b\b\b\b\b\b\b\b\b\b\b\b\b\b\b\b\b\b\b\b\b\b\b\b\b\b\b\b\b\b\b\b\b\b\b\b\b\b\b\r592/592 [==============================] - 179s 299ms/step - loss: 2.6144 - accuracy: 0.3720 - val_loss: 1.9316 - val_accuracy: 0.5048\n",
            "Epoch 3/25\n",
            "592/592 [==============================] - ETA: 0s - loss: 2.3794 - accuracy: 0.4223WARNING:tensorflow:Can save best model only with val_acc available, skipping.\n"
          ]
        },
        {
          "output_type": "stream",
          "name": "stderr",
          "text": [
            "WARNING:tensorflow:Can save best model only with val_acc available, skipping.\n"
          ]
        },
        {
          "output_type": "stream",
          "name": "stdout",
          "text": [
            "\b\b\b\b\b\b\b\b\b\b\b\b\b\b\b\b\b\b\b\b\b\b\b\b\b\b\b\b\b\b\b\b\b\b\b\b\b\b\b\b\b\b\b\b\b\b\b\b\b\b\b\b\b\b\b\b\b\b\b\b\b\b\b\b\b\b\b\b\b\b\b\b\b\b\b\b\b\b\b\b\b\b\b\b\r592/592 [==============================] - 165s 274ms/step - loss: 2.3794 - accuracy: 0.4223 - val_loss: 1.7769 - val_accuracy: 0.5396\n",
            "Epoch 4/25\n",
            "592/592 [==============================] - ETA: 0s - loss: 2.2588 - accuracy: 0.4469WARNING:tensorflow:Can save best model only with val_acc available, skipping.\n"
          ]
        },
        {
          "output_type": "stream",
          "name": "stderr",
          "text": [
            "WARNING:tensorflow:Can save best model only with val_acc available, skipping.\n"
          ]
        },
        {
          "output_type": "stream",
          "name": "stdout",
          "text": [
            "\b\b\b\b\b\b\b\b\b\b\b\b\b\b\b\b\b\b\b\b\b\b\b\b\b\b\b\b\b\b\b\b\b\b\b\b\b\b\b\b\b\b\b\b\b\b\b\b\b\b\b\b\b\b\b\b\b\b\b\b\b\b\b\b\b\b\b\b\b\b\b\b\b\b\b\b\b\b\b\b\b\b\b\b\r592/592 [==============================] - 156s 260ms/step - loss: 2.2588 - accuracy: 0.4469 - val_loss: 1.6884 - val_accuracy: 0.5617\n",
            "Epoch 5/25\n",
            "592/592 [==============================] - ETA: 0s - loss: 2.1840 - accuracy: 0.4645WARNING:tensorflow:Can save best model only with val_acc available, skipping.\n"
          ]
        },
        {
          "output_type": "stream",
          "name": "stderr",
          "text": [
            "WARNING:tensorflow:Can save best model only with val_acc available, skipping.\n"
          ]
        },
        {
          "output_type": "stream",
          "name": "stdout",
          "text": [
            "\b\b\b\b\b\b\b\b\b\b\b\b\b\b\b\b\b\b\b\b\b\b\b\b\b\b\b\b\b\b\b\b\b\b\b\b\b\b\b\b\b\b\b\b\b\b\b\b\b\b\b\b\b\b\b\b\b\b\b\b\b\b\b\b\b\b\b\b\b\b\b\b\b\b\b\b\b\b\b\b\b\b\b\b\r592/592 [==============================] - 154s 256ms/step - loss: 2.1840 - accuracy: 0.4645 - val_loss: 1.6194 - val_accuracy: 0.5776\n",
            "Epoch 6/25\n",
            "592/592 [==============================] - ETA: 0s - loss: 2.1147 - accuracy: 0.4796WARNING:tensorflow:Can save best model only with val_acc available, skipping.\n"
          ]
        },
        {
          "output_type": "stream",
          "name": "stderr",
          "text": [
            "WARNING:tensorflow:Can save best model only with val_acc available, skipping.\n"
          ]
        },
        {
          "output_type": "stream",
          "name": "stdout",
          "text": [
            "\b\b\b\b\b\b\b\b\b\b\b\b\b\b\b\b\b\b\b\b\b\b\b\b\b\b\b\b\b\b\b\b\b\b\b\b\b\b\b\b\b\b\b\b\b\b\b\b\b\b\b\b\b\b\b\b\b\b\b\b\b\b\b\b\b\b\b\b\b\b\b\b\b\b\b\b\b\b\b\b\b\b\b\b\r592/592 [==============================] - 155s 259ms/step - loss: 2.1147 - accuracy: 0.4796 - val_loss: 1.5621 - val_accuracy: 0.5929\n",
            "Epoch 7/25\n",
            "592/592 [==============================] - ETA: 0s - loss: 2.0871 - accuracy: 0.4846WARNING:tensorflow:Can save best model only with val_acc available, skipping.\n"
          ]
        },
        {
          "output_type": "stream",
          "name": "stderr",
          "text": [
            "WARNING:tensorflow:Can save best model only with val_acc available, skipping.\n"
          ]
        },
        {
          "output_type": "stream",
          "name": "stdout",
          "text": [
            "\b\b\b\b\b\b\b\b\b\b\b\b\b\b\b\b\b\b\b\b\b\b\b\b\b\b\b\b\b\b\b\b\b\b\b\b\b\b\b\b\b\b\b\b\b\b\b\b\b\b\b\b\b\b\b\b\b\b\b\b\b\b\b\b\b\b\b\b\b\b\b\b\b\b\b\b\b\b\b\b\b\b\b\b\r592/592 [==============================] - 149s 249ms/step - loss: 2.0871 - accuracy: 0.4846 - val_loss: 1.5412 - val_accuracy: 0.5959\n",
            "Epoch 8/25\n",
            "592/592 [==============================] - ETA: 0s - loss: 2.0496 - accuracy: 0.4922WARNING:tensorflow:Can save best model only with val_acc available, skipping.\n"
          ]
        },
        {
          "output_type": "stream",
          "name": "stderr",
          "text": [
            "WARNING:tensorflow:Can save best model only with val_acc available, skipping.\n"
          ]
        },
        {
          "output_type": "stream",
          "name": "stdout",
          "text": [
            "\b\b\b\b\b\b\b\b\b\b\b\b\b\b\b\b\b\b\b\b\b\b\b\b\b\b\b\b\b\b\b\b\b\b\b\b\b\b\b\b\b\b\b\b\b\b\b\b\b\b\b\b\b\b\b\b\b\b\b\b\b\b\b\b\b\b\b\b\b\b\b\b\b\b\b\b\b\b\b\b\b\b\b\b\r592/592 [==============================] - 152s 254ms/step - loss: 2.0496 - accuracy: 0.4922 - val_loss: 1.5242 - val_accuracy: 0.6032\n",
            "Epoch 9/25\n",
            "592/592 [==============================] - ETA: 0s - loss: 2.0289 - accuracy: 0.4987WARNING:tensorflow:Can save best model only with val_acc available, skipping.\n"
          ]
        },
        {
          "output_type": "stream",
          "name": "stderr",
          "text": [
            "WARNING:tensorflow:Can save best model only with val_acc available, skipping.\n"
          ]
        },
        {
          "output_type": "stream",
          "name": "stdout",
          "text": [
            "\b\b\b\b\b\b\b\b\b\b\b\b\b\b\b\b\b\b\b\b\b\b\b\b\b\b\b\b\b\b\b\b\b\b\b\b\b\b\b\b\b\b\b\b\b\b\b\b\b\b\b\b\b\b\b\b\b\b\b\b\b\b\b\b\b\b\b\b\b\b\b\b\b\b\b\b\b\b\b\b\b\b\b\b\r592/592 [==============================] - 147s 246ms/step - loss: 2.0289 - accuracy: 0.4987 - val_loss: 1.4970 - val_accuracy: 0.6072\n",
            "Epoch 10/25\n",
            "592/592 [==============================] - ETA: 0s - loss: 2.0035 - accuracy: 0.5008WARNING:tensorflow:Can save best model only with val_acc available, skipping.\n"
          ]
        },
        {
          "output_type": "stream",
          "name": "stderr",
          "text": [
            "WARNING:tensorflow:Can save best model only with val_acc available, skipping.\n"
          ]
        },
        {
          "output_type": "stream",
          "name": "stdout",
          "text": [
            "\b\b\b\b\b\b\b\b\b\b\b\b\b\b\b\b\b\b\b\b\b\b\b\b\b\b\b\b\b\b\b\b\b\b\b\b\b\b\b\b\b\b\b\b\b\b\b\b\b\b\b\b\b\b\b\b\b\b\b\b\b\b\b\b\b\b\b\b\b\b\b\b\b\b\b\b\b\b\b\b\b\b\b\b\r592/592 [==============================] - 151s 251ms/step - loss: 2.0035 - accuracy: 0.5008 - val_loss: 1.4749 - val_accuracy: 0.6107\n",
            "Epoch 11/25\n",
            "592/592 [==============================] - ETA: 0s - loss: 1.9844 - accuracy: 0.5056WARNING:tensorflow:Can save best model only with val_acc available, skipping.\n"
          ]
        },
        {
          "output_type": "stream",
          "name": "stderr",
          "text": [
            "WARNING:tensorflow:Can save best model only with val_acc available, skipping.\n"
          ]
        },
        {
          "output_type": "stream",
          "name": "stdout",
          "text": [
            "\b\b\b\b\b\b\b\b\b\b\b\b\b\b\b\b\b\b\b\b\b\b\b\b\b\b\b\b\b\b\b\b\b\b\b\b\b\b\b\b\b\b\b\b\b\b\b\b\b\b\b\b\b\b\b\b\b\b\b\b\b\b\b\b\b\b\b\b\b\b\b\b\b\b\b\b\b\b\b\b\b\b\b\b\r592/592 [==============================] - 146s 243ms/step - loss: 1.9844 - accuracy: 0.5056 - val_loss: 1.4699 - val_accuracy: 0.6113\n",
            "Epoch 12/25\n",
            "592/592 [==============================] - ETA: 0s - loss: 1.9706 - accuracy: 0.5093WARNING:tensorflow:Can save best model only with val_acc available, skipping.\n"
          ]
        },
        {
          "output_type": "stream",
          "name": "stderr",
          "text": [
            "WARNING:tensorflow:Can save best model only with val_acc available, skipping.\n"
          ]
        },
        {
          "output_type": "stream",
          "name": "stdout",
          "text": [
            "\b\b\b\b\b\b\b\b\b\b\b\b\b\b\b\b\b\b\b\b\b\b\b\b\b\b\b\b\b\b\b\b\b\b\b\b\b\b\b\b\b\b\b\b\b\b\b\b\b\b\b\b\b\b\b\b\b\b\b\b\b\b\b\b\b\b\b\b\b\b\b\b\b\b\b\b\b\b\b\b\b\b\b\b\r592/592 [==============================] - 147s 245ms/step - loss: 1.9706 - accuracy: 0.5093 - val_loss: 1.4590 - val_accuracy: 0.6180\n",
            "Epoch 13/25\n",
            "592/592 [==============================] - ETA: 0s - loss: 1.9621 - accuracy: 0.5130WARNING:tensorflow:Can save best model only with val_acc available, skipping.\n"
          ]
        },
        {
          "output_type": "stream",
          "name": "stderr",
          "text": [
            "WARNING:tensorflow:Can save best model only with val_acc available, skipping.\n"
          ]
        },
        {
          "output_type": "stream",
          "name": "stdout",
          "text": [
            "\b\b\b\b\b\b\b\b\b\b\b\b\b\b\b\b\b\b\b\b\b\b\b\b\b\b\b\b\b\b\b\b\b\b\b\b\b\b\b\b\b\b\b\b\b\b\b\b\b\b\b\b\b\b\b\b\b\b\b\b\b\b\b\b\b\b\b\b\b\b\b\b\b\b\b\b\b\b\b\b\b\b\b\b\r592/592 [==============================] - 146s 243ms/step - loss: 1.9621 - accuracy: 0.5130 - val_loss: 1.4494 - val_accuracy: 0.6215\n",
            "Epoch 14/25\n",
            "592/592 [==============================] - ETA: 0s - loss: 1.9524 - accuracy: 0.5146WARNING:tensorflow:Can save best model only with val_acc available, skipping.\n"
          ]
        },
        {
          "output_type": "stream",
          "name": "stderr",
          "text": [
            "WARNING:tensorflow:Can save best model only with val_acc available, skipping.\n"
          ]
        },
        {
          "output_type": "stream",
          "name": "stdout",
          "text": [
            "\b\b\b\b\b\b\b\b\b\b\b\b\b\b\b\b\b\b\b\b\b\b\b\b\b\b\b\b\b\b\b\b\b\b\b\b\b\b\b\b\b\b\b\b\b\b\b\b\b\b\b\b\b\b\b\b\b\b\b\b\b\b\b\b\b\b\b\b\b\b\b\b\b\b\b\b\b\b\b\b\b\b\b\b\r592/592 [==============================] - 148s 248ms/step - loss: 1.9524 - accuracy: 0.5146 - val_loss: 1.4385 - val_accuracy: 0.6210\n",
            "Epoch 15/25\n",
            "592/592 [==============================] - ETA: 0s - loss: 1.9348 - accuracy: 0.5189WARNING:tensorflow:Can save best model only with val_acc available, skipping.\n"
          ]
        },
        {
          "output_type": "stream",
          "name": "stderr",
          "text": [
            "WARNING:tensorflow:Can save best model only with val_acc available, skipping.\n"
          ]
        },
        {
          "output_type": "stream",
          "name": "stdout",
          "text": [
            "\b\b\b\b\b\b\b\b\b\b\b\b\b\b\b\b\b\b\b\b\b\b\b\b\b\b\b\b\b\b\b\b\b\b\b\b\b\b\b\b\b\b\b\b\b\b\b\b\b\b\b\b\b\b\b\b\b\b\b\b\b\b\b\b\b\b\b\b\b\b\b\b\b\b\b\b\b\b\b\b\b\b\b\b\r592/592 [==============================] - 144s 241ms/step - loss: 1.9348 - accuracy: 0.5189 - val_loss: 1.4403 - val_accuracy: 0.6188\n",
            "Epoch 16/25\n",
            "592/592 [==============================] - ETA: 0s - loss: 1.9294 - accuracy: 0.5173WARNING:tensorflow:Can save best model only with val_acc available, skipping.\n"
          ]
        },
        {
          "output_type": "stream",
          "name": "stderr",
          "text": [
            "WARNING:tensorflow:Can save best model only with val_acc available, skipping.\n"
          ]
        },
        {
          "output_type": "stream",
          "name": "stdout",
          "text": [
            "\b\b\b\b\b\b\b\b\b\b\b\b\b\b\b\b\b\b\b\b\b\b\b\b\b\b\b\b\b\b\b\b\b\b\b\b\b\b\b\b\b\b\b\b\b\b\b\b\b\b\b\b\b\b\b\b\b\b\b\b\b\b\b\b\b\b\b\b\b\b\b\b\b\b\b\b\b\b\b\b\b\b\b\b\r592/592 [==============================] - 155s 259ms/step - loss: 1.9294 - accuracy: 0.5173 - val_loss: 1.4251 - val_accuracy: 0.6280\n",
            "Epoch 17/25\n",
            "592/592 [==============================] - ETA: 0s - loss: 1.9220 - accuracy: 0.5206WARNING:tensorflow:Can save best model only with val_acc available, skipping.\n"
          ]
        },
        {
          "output_type": "stream",
          "name": "stderr",
          "text": [
            "WARNING:tensorflow:Can save best model only with val_acc available, skipping.\n"
          ]
        },
        {
          "output_type": "stream",
          "name": "stdout",
          "text": [
            "\b\b\b\b\b\b\b\b\b\b\b\b\b\b\b\b\b\b\b\b\b\b\b\b\b\b\b\b\b\b\b\b\b\b\b\b\b\b\b\b\b\b\b\b\b\b\b\b\b\b\b\b\b\b\b\b\b\b\b\b\b\b\b\b\b\b\b\b\b\b\b\b\b\b\b\b\b\b\b\b\b\b\b\b\r592/592 [==============================] - 149s 249ms/step - loss: 1.9220 - accuracy: 0.5206 - val_loss: 1.4362 - val_accuracy: 0.6247\n",
            "Epoch 18/25\n",
            "592/592 [==============================] - ETA: 0s - loss: 1.9251 - accuracy: 0.5222WARNING:tensorflow:Can save best model only with val_acc available, skipping.\n"
          ]
        },
        {
          "output_type": "stream",
          "name": "stderr",
          "text": [
            "WARNING:tensorflow:Can save best model only with val_acc available, skipping.\n"
          ]
        },
        {
          "output_type": "stream",
          "name": "stdout",
          "text": [
            "\b\b\b\b\b\b\b\b\b\b\b\b\b\b\b\b\b\b\b\b\b\b\b\b\b\b\b\b\b\b\b\b\b\b\b\b\b\b\b\b\b\b\b\b\b\b\b\b\b\b\b\b\b\b\b\b\b\b\b\b\b\b\b\b\b\b\b\b\b\b\b\b\b\b\b\b\b\b\b\b\b\b\b\b\r592/592 [==============================] - 161s 269ms/step - loss: 1.9251 - accuracy: 0.5222 - val_loss: 1.4125 - val_accuracy: 0.6280\n",
            "Epoch 19/25\n",
            "592/592 [==============================] - ETA: 0s - loss: 1.9156 - accuracy: 0.5199WARNING:tensorflow:Can save best model only with val_acc available, skipping.\n"
          ]
        },
        {
          "output_type": "stream",
          "name": "stderr",
          "text": [
            "WARNING:tensorflow:Can save best model only with val_acc available, skipping.\n"
          ]
        },
        {
          "output_type": "stream",
          "name": "stdout",
          "text": [
            "\b\b\b\b\b\b\b\b\b\b\b\b\b\b\b\b\b\b\b\b\b\b\b\b\b\b\b\b\b\b\b\b\b\b\b\b\b\b\b\b\b\b\b\b\b\b\b\b\b\b\b\b\b\b\b\b\b\b\b\b\b\b\b\b\b\b\b\b\b\b\b\b\b\b\b\b\b\b\b\b\b\b\b\b\r592/592 [==============================] - 150s 251ms/step - loss: 1.9156 - accuracy: 0.5199 - val_loss: 1.4135 - val_accuracy: 0.6301\n",
            "Epoch 20/25\n",
            "592/592 [==============================] - ETA: 0s - loss: 1.9109 - accuracy: 0.5233WARNING:tensorflow:Can save best model only with val_acc available, skipping.\n"
          ]
        },
        {
          "output_type": "stream",
          "name": "stderr",
          "text": [
            "WARNING:tensorflow:Can save best model only with val_acc available, skipping.\n"
          ]
        },
        {
          "output_type": "stream",
          "name": "stdout",
          "text": [
            "\b\b\b\b\b\b\b\b\b\b\b\b\b\b\b\b\b\b\b\b\b\b\b\b\b\b\b\b\b\b\b\b\b\b\b\b\b\b\b\b\b\b\b\b\b\b\b\b\b\b\b\b\b\b\b\b\b\b\b\b\b\b\b\b\b\b\b\b\b\b\b\b\b\b\b\b\b\b\b\b\b\b\b\b\r592/592 [==============================] - 148s 247ms/step - loss: 1.9109 - accuracy: 0.5233 - val_loss: 1.4112 - val_accuracy: 0.6304\n",
            "Epoch 21/25\n",
            "592/592 [==============================] - ETA: 0s - loss: 1.9024 - accuracy: 0.5241WARNING:tensorflow:Can save best model only with val_acc available, skipping.\n"
          ]
        },
        {
          "output_type": "stream",
          "name": "stderr",
          "text": [
            "WARNING:tensorflow:Can save best model only with val_acc available, skipping.\n"
          ]
        },
        {
          "output_type": "stream",
          "name": "stdout",
          "text": [
            "\b\b\b\b\b\b\b\b\b\b\b\b\b\b\b\b\b\b\b\b\b\b\b\b\b\b\b\b\b\b\b\b\b\b\b\b\b\b\b\b\b\b\b\b\b\b\b\b\b\b\b\b\b\b\b\b\b\b\b\b\b\b\b\b\b\b\b\b\b\b\b\b\b\b\b\b\b\b\b\b\b\b\b\b\r592/592 [==============================] - 149s 248ms/step - loss: 1.9024 - accuracy: 0.5241 - val_loss: 1.4042 - val_accuracy: 0.6307\n",
            "Epoch 22/25\n",
            "592/592 [==============================] - ETA: 0s - loss: 1.9164 - accuracy: 0.5205WARNING:tensorflow:Can save best model only with val_acc available, skipping.\n"
          ]
        },
        {
          "output_type": "stream",
          "name": "stderr",
          "text": [
            "WARNING:tensorflow:Can save best model only with val_acc available, skipping.\n"
          ]
        },
        {
          "output_type": "stream",
          "name": "stdout",
          "text": [
            "\b\b\b\b\b\b\b\b\b\b\b\b\b\b\b\b\b\b\b\b\b\b\b\b\b\b\b\b\b\b\b\b\b\b\b\b\b\b\b\b\b\b\b\b\b\b\b\b\b\b\b\b\b\b\b\b\b\b\b\b\b\b\b\b\b\b\b\b\b\b\b\b\b\b\b\b\b\b\b\b\b\b\b\b\r592/592 [==============================] - 149s 249ms/step - loss: 1.9164 - accuracy: 0.5205 - val_loss: 1.4019 - val_accuracy: 0.6298\n",
            "Epoch 23/25\n",
            "592/592 [==============================] - ETA: 0s - loss: 1.9058 - accuracy: 0.5240WARNING:tensorflow:Can save best model only with val_acc available, skipping.\n"
          ]
        },
        {
          "output_type": "stream",
          "name": "stderr",
          "text": [
            "WARNING:tensorflow:Can save best model only with val_acc available, skipping.\n"
          ]
        },
        {
          "output_type": "stream",
          "name": "stdout",
          "text": [
            "\b\b\b\b\b\b\b\b\b\b\b\b\b\b\b\b\b\b\b\b\b\b\b\b\b\b\b\b\b\b\b\b\b\b\b\b\b\b\b\b\b\b\b\b\b\b\b\b\b\b\b\b\b\b\b\b\b\b\b\b\b\b\b\b\b\b\b\b\b\b\b\b\b\b\b\b\b\b\b\b\b\b\b\b\r592/592 [==============================] - 145s 242ms/step - loss: 1.9058 - accuracy: 0.5240 - val_loss: 1.4053 - val_accuracy: 0.6325\n",
            "Epoch 24/25\n",
            "592/592 [==============================] - ETA: 0s - loss: 1.8992 - accuracy: 0.5243WARNING:tensorflow:Can save best model only with val_acc available, skipping.\n"
          ]
        },
        {
          "output_type": "stream",
          "name": "stderr",
          "text": [
            "WARNING:tensorflow:Can save best model only with val_acc available, skipping.\n"
          ]
        },
        {
          "output_type": "stream",
          "name": "stdout",
          "text": [
            "\b\b\b\b\b\b\b\b\b\b\b\b\b\b\b\b\b\b\b\b\b\b\b\b\b\b\b\b\b\b\b\b\b\b\b\b\b\b\b\b\b\b\b\b\b\b\b\b\b\b\b\b\b\b\b\b\b\b\b\b\b\b\b\b\b\b\b\b\b\b\b\b\b\b\b\b\b\b\b\b\b\b\b\b\r592/592 [==============================] - 147s 246ms/step - loss: 1.8992 - accuracy: 0.5243 - val_loss: 1.3868 - val_accuracy: 0.6371\n",
            "Epoch 25/25\n",
            "592/592 [==============================] - ETA: 0s - loss: 1.8979 - accuracy: 0.5268WARNING:tensorflow:Can save best model only with val_acc available, skipping.\n"
          ]
        },
        {
          "output_type": "stream",
          "name": "stderr",
          "text": [
            "WARNING:tensorflow:Can save best model only with val_acc available, skipping.\n"
          ]
        },
        {
          "output_type": "stream",
          "name": "stdout",
          "text": [
            "\b\b\b\b\b\b\b\b\b\b\b\b\b\b\b\b\b\b\b\b\b\b\b\b\b\b\b\b\b\b\b\b\b\b\b\b\b\b\b\b\b\b\b\b\b\b\b\b\b\b\b\b\b\b\b\b\b\b\b\b\b\b\b\b\b\b\b\b\b\b\b\b\b\b\b\b\b\b\b\b\b\b\b\b\r592/592 [==============================] - 148s 247ms/step - loss: 1.8979 - accuracy: 0.5268 - val_loss: 1.4022 - val_accuracy: 0.6331\n"
          ]
        }
      ],
      "source": [
        "# Compile the model\n",
        "base_model_augmented.compile(loss=\"sparse_categorical_crossentropy\",\n",
        "              optimizer=tf.keras.optimizers.Adamax(),\n",
        "              metrics=[\"accuracy\"])\n",
        "\n",
        "# Fit the model till called back\n",
        "initial_epochs = 25\n",
        "history_1_101_foods_all_augmented = base_model_augmented.fit(train_data,\n",
        "                                                            epochs=initial_epochs,\n",
        "                                                            steps_per_epoch=len(train_data),\n",
        "                                                            validation_data=test_data,\n",
        "                                                            validation_steps=int(0.15*len(test_data)),\n",
        "                                                            callbacks=[create_tensorboard_callback(\n",
        "                                                                \"training_log_aug\",\n",
        "                                                                 \"efficientnetV2b0_101_classes_all_data_augmented_dropout\"), \n",
        "                                                                 model_checkpoint, \n",
        "                                                                 callback])"
      ]
    },
    {
      "cell_type": "code",
      "execution_count": null,
      "metadata": {
        "colab": {
          "base_uri": "https://localhost:8080/"
        },
        "id": "RAaLQQBSD92J",
        "outputId": "f1085e3b-6d45-4382-df95-a24a9361dd37"
      },
      "outputs": [
        {
          "name": "stdout",
          "output_type": "stream",
          "text": [
            "790/790 [==============================] - 49s 62ms/step - loss: 1.2547 - accuracy: 0.6642\n"
          ]
        },
        {
          "data": {
            "text/plain": [
              "[1.2546886205673218, 0.6641584038734436]"
            ]
          },
          "execution_count": 44,
          "metadata": {},
          "output_type": "execute_result"
        }
      ],
      "source": [
        "evaluated_base_aug = base_model_augmented.evaluate(test_data)\n",
        "evaluated_base_aug"
      ]
    },
    {
      "cell_type": "code",
      "execution_count": null,
      "metadata": {
        "colab": {
          "base_uri": "https://localhost:8080/",
          "height": 573
        },
        "id": "f3vnltGLJiDA",
        "outputId": "e3c3a168-8b7c-475f-f955-c19755424491"
      },
      "outputs": [
        {
          "output_type": "display_data",
          "data": {
            "text/plain": [
              "<Figure size 432x288 with 1 Axes>"
            ],
            "image/png": "[encoded data removed]"
          },
          "metadata": {
            "needs_background": "light"
          }
        },
        {
          "output_type": "display_data",
          "data": {
            "text/plain": [
              "<Figure size 432x288 with 1 Axes>"
            ],
            "image/png": "[encoded data removed]"
          },
          "metadata": {
            "needs_background": "light"
          }
        }
      ],
      "source": [
        "plot_loss_curves(history_1_101_foods_all_augmented)"
      ]
    },
    {
      "cell_type": "markdown",
      "source": [
        "Great looking curves. Time to fine tune the model"
      ],
      "metadata": {
        "id": "G5KJfA159kLZ"
      }
    },
    {
      "cell_type": "markdown",
      "metadata": {
        "id": "qdoObbbxKxal"
      },
      "source": [
        "## Fine-Tuning the model"
      ]
    },
    {
      "cell_type": "code",
      "execution_count": null,
      "metadata": {
        "id": "onq_aFfPK2sM",
        "colab": {
          "base_uri": "https://localhost:8080/"
        },
        "outputId": "265c913f-f911-425a-dcb7-469d2bdf497e"
      },
      "outputs": [
        {
          "output_type": "stream",
          "name": "stdout",
          "text": [
            "INFO:tensorflow:Assets written to: model_101_foods_augmented_dropout_model_v2_adamax/assets\n"
          ]
        },
        {
          "output_type": "stream",
          "name": "stderr",
          "text": [
            "INFO:tensorflow:Assets written to: model_101_foods_augmented_dropout_model_v2_adamax/assets\n"
          ]
        }
      ],
      "source": [
        "# Save the new augmented model \n",
        "base_model_augmented.save(\"model_101_foods_augmented_dropout_model_v2_adamax\")"
      ]
    },
    {
      "cell_type": "code",
      "execution_count": null,
      "metadata": {
        "id": "H5i5Gbr4Xvqx"
      },
      "outputs": [],
      "source": [
        "# Load the augmented model\n",
        "base_model_augmented = tf.keras.models.load_model(\"model_101_foods_augmented_dropout_model_v2_adamax\")"
      ]
    },
    {
      "cell_type": "code",
      "source": [
        "del history_3_101_foods_all_augmented\n",
        "import gc\n",
        "gc.collect()"
      ],
      "metadata": {
        "colab": {
          "base_uri": "https://localhost:8080/"
        },
        "id": "Z9vynL-xj9Mc",
        "outputId": "6464e833-5734-43e3-b706-9eea7daba91f"
      },
      "execution_count": null,
      "outputs": [
        {
          "output_type": "stream",
          "name": "stdout",
          "text": [
            "WARNING:tensorflow:Detecting that an object or model or tf.train.Checkpoint is being deleted with unrestored values. See the following logs for the specific values in question. To silence these warnings, use `status.expect_partial()`. See https://www.tensorflow.org/api_docs/python/tf/train/Checkpoint#restorefor details about the status object returned by the restore function.\n"
          ]
        },
        {
          "output_type": "stream",
          "name": "stderr",
          "text": [
            "WARNING:tensorflow:Detecting that an object or model or tf.train.Checkpoint is being deleted with unrestored values. See the following logs for the specific values in question. To silence these warnings, use `status.expect_partial()`. See https://www.tensorflow.org/api_docs/python/tf/train/Checkpoint#restorefor details about the status object returned by the restore function.\n"
          ]
        },
        {
          "output_type": "stream",
          "name": "stdout",
          "text": [
            "WARNING:tensorflow:Value in checkpoint could not be found in the restored object: (root).layer-1.layer-0._random_generator._generator._state_var\n"
          ]
        },
        {
          "output_type": "stream",
          "name": "stderr",
          "text": [
            "WARNING:tensorflow:Value in checkpoint could not be found in the restored object: (root).layer-1.layer-0._random_generator._generator._state_var\n"
          ]
        },
        {
          "output_type": "stream",
          "name": "stdout",
          "text": [
            "WARNING:tensorflow:Value in checkpoint could not be found in the restored object: (root).layer-1.layer-1._random_generator._generator._state_var\n"
          ]
        },
        {
          "output_type": "stream",
          "name": "stderr",
          "text": [
            "WARNING:tensorflow:Value in checkpoint could not be found in the restored object: (root).layer-1.layer-1._random_generator._generator._state_var\n"
          ]
        },
        {
          "output_type": "stream",
          "name": "stdout",
          "text": [
            "WARNING:tensorflow:Value in checkpoint could not be found in the restored object: (root).layer-1.layer-2._random_generator._generator._state_var\n"
          ]
        },
        {
          "output_type": "stream",
          "name": "stderr",
          "text": [
            "WARNING:tensorflow:Value in checkpoint could not be found in the restored object: (root).layer-1.layer-2._random_generator._generator._state_var\n"
          ]
        },
        {
          "output_type": "stream",
          "name": "stdout",
          "text": [
            "WARNING:tensorflow:Value in checkpoint could not be found in the restored object: (root).layer-1.layer-3._random_generator._generator._state_var\n"
          ]
        },
        {
          "output_type": "stream",
          "name": "stderr",
          "text": [
            "WARNING:tensorflow:Value in checkpoint could not be found in the restored object: (root).layer-1.layer-3._random_generator._generator._state_var\n"
          ]
        },
        {
          "output_type": "stream",
          "name": "stdout",
          "text": [
            "WARNING:tensorflow:Value in checkpoint could not be found in the restored object: (root).layer-1.layer-4._random_generator._generator._state_var\n"
          ]
        },
        {
          "output_type": "stream",
          "name": "stderr",
          "text": [
            "WARNING:tensorflow:Value in checkpoint could not be found in the restored object: (root).layer-1.layer-4._random_generator._generator._state_var\n"
          ]
        },
        {
          "output_type": "execute_result",
          "data": {
            "text/plain": [
              "118679"
            ]
          },
          "metadata": {},
          "execution_count": 186
        }
      ]
    },
    {
      "cell_type": "code",
      "execution_count": null,
      "metadata": {
        "id": "dEkQvjTTOgs_"
      },
      "outputs": [],
      "source": [
        "# Unfreeze a block\n",
        "base_model_augmented.trainable = True\n",
        "\n",
        "for layer in base_model_augmented.layers[2].layers[:-58]:\n",
        "  layer.trainable = False\n",
        "for layer in base_model_augmented.layers[2].layers[-28:]:\n",
        "  layer.trainable = False"
      ]
    },
    {
      "cell_type": "code",
      "execution_count": null,
      "metadata": {
        "id": "mLRdqohuPF2S",
        "colab": {
          "base_uri": "https://localhost:8080/"
        },
        "outputId": "b5afcf16-1f45-4964-eb0a-8bdfea5b5a3a"
      },
      "outputs": [
        {
          "output_type": "stream",
          "name": "stdout",
          "text": [
            "0 input_1 False\n",
            "1 rescaling False\n",
            "2 normalization False\n",
            "3 stem_conv False\n",
            "4 stem_bn False\n",
            "5 stem_activation False\n",
            "6 block1a_project_conv False\n",
            "7 block1a_project_bn False\n",
            "8 block1a_project_activation False\n",
            "9 block2a_expand_conv False\n",
            "10 block2a_expand_bn False\n",
            "11 block2a_expand_activation False\n",
            "12 block2a_project_conv False\n",
            "13 block2a_project_bn False\n",
            "14 block2b_expand_conv False\n",
            "15 block2b_expand_bn False\n",
            "16 block2b_expand_activation False\n",
            "17 block2b_project_conv False\n",
            "18 block2b_project_bn False\n",
            "19 block2b_add False\n",
            "20 block3a_expand_conv False\n",
            "21 block3a_expand_bn False\n",
            "22 block3a_expand_activation False\n",
            "23 block3a_project_conv False\n",
            "24 block3a_project_bn False\n",
            "25 block3b_expand_conv False\n",
            "26 block3b_expand_bn False\n",
            "27 block3b_expand_activation False\n",
            "28 block3b_project_conv False\n",
            "29 block3b_project_bn False\n",
            "30 block3b_add False\n",
            "31 block4a_expand_conv False\n",
            "32 block4a_expand_bn False\n",
            "33 block4a_expand_activation False\n",
            "34 block4a_dwconv2 False\n",
            "35 block4a_bn False\n",
            "36 block4a_activation False\n",
            "37 block4a_se_squeeze False\n",
            "38 block4a_se_reshape False\n",
            "39 block4a_se_reduce False\n",
            "40 block4a_se_expand False\n",
            "41 block4a_se_excite False\n",
            "42 block4a_project_conv False\n",
            "43 block4a_project_bn False\n",
            "44 block4b_expand_conv False\n",
            "45 block4b_expand_bn False\n",
            "46 block4b_expand_activation False\n",
            "47 block4b_dwconv2 False\n",
            "48 block4b_bn False\n",
            "49 block4b_activation False\n",
            "50 block4b_se_squeeze False\n",
            "51 block4b_se_reshape False\n",
            "52 block4b_se_reduce False\n",
            "53 block4b_se_expand False\n",
            "54 block4b_se_excite False\n",
            "55 block4b_project_conv False\n",
            "56 block4b_project_bn False\n",
            "57 block4b_add False\n",
            "58 block4c_expand_conv False\n",
            "59 block4c_expand_bn False\n",
            "60 block4c_expand_activation False\n",
            "61 block4c_dwconv2 False\n",
            "62 block4c_bn False\n",
            "63 block4c_activation False\n",
            "64 block4c_se_squeeze False\n",
            "65 block4c_se_reshape False\n",
            "66 block4c_se_reduce False\n",
            "67 block4c_se_expand False\n",
            "68 block4c_se_excite False\n",
            "69 block4c_project_conv False\n",
            "70 block4c_project_bn False\n",
            "71 block4c_add False\n",
            "72 block5a_expand_conv False\n",
            "73 block5a_expand_bn False\n",
            "74 block5a_expand_activation False\n",
            "75 block5a_dwconv2 False\n",
            "76 block5a_bn False\n",
            "77 block5a_activation False\n",
            "78 block5a_se_squeeze False\n",
            "79 block5a_se_reshape False\n",
            "80 block5a_se_reduce False\n",
            "81 block5a_se_expand False\n",
            "82 block5a_se_excite False\n",
            "83 block5a_project_conv False\n",
            "84 block5a_project_bn False\n",
            "85 block5b_expand_conv False\n",
            "86 block5b_expand_bn False\n",
            "87 block5b_expand_activation False\n",
            "88 block5b_dwconv2 False\n",
            "89 block5b_bn False\n",
            "90 block5b_activation False\n",
            "91 block5b_se_squeeze False\n",
            "92 block5b_se_reshape False\n",
            "93 block5b_se_reduce False\n",
            "94 block5b_se_expand False\n",
            "95 block5b_se_excite False\n",
            "96 block5b_project_conv False\n",
            "97 block5b_project_bn False\n",
            "98 block5b_add False\n",
            "99 block5c_expand_conv False\n",
            "100 block5c_expand_bn False\n",
            "101 block5c_expand_activation False\n",
            "102 block5c_dwconv2 False\n",
            "103 block5c_bn False\n",
            "104 block5c_activation False\n",
            "105 block5c_se_squeeze False\n",
            "106 block5c_se_reshape False\n",
            "107 block5c_se_reduce False\n",
            "108 block5c_se_expand False\n",
            "109 block5c_se_excite False\n",
            "110 block5c_project_conv False\n",
            "111 block5c_project_bn False\n",
            "112 block5c_add False\n",
            "113 block5d_expand_conv False\n",
            "114 block5d_expand_bn False\n",
            "115 block5d_expand_activation False\n",
            "116 block5d_dwconv2 False\n",
            "117 block5d_bn False\n",
            "118 block5d_activation False\n",
            "119 block5d_se_squeeze False\n",
            "120 block5d_se_reshape False\n",
            "121 block5d_se_reduce False\n",
            "122 block5d_se_expand False\n",
            "123 block5d_se_excite False\n",
            "124 block5d_project_conv False\n",
            "125 block5d_project_bn False\n",
            "126 block5d_add False\n",
            "127 block5e_expand_conv False\n",
            "128 block5e_expand_bn False\n",
            "129 block5e_expand_activation False\n",
            "130 block5e_dwconv2 False\n",
            "131 block5e_bn False\n",
            "132 block5e_activation False\n",
            "133 block5e_se_squeeze False\n",
            "134 block5e_se_reshape False\n",
            "135 block5e_se_reduce False\n",
            "136 block5e_se_expand False\n",
            "137 block5e_se_excite False\n",
            "138 block5e_project_conv False\n",
            "139 block5e_project_bn False\n",
            "140 block5e_add False\n",
            "141 block6a_expand_conv False\n",
            "142 block6a_expand_bn False\n",
            "143 block6a_expand_activation False\n",
            "144 block6a_dwconv2 False\n",
            "145 block6a_bn False\n",
            "146 block6a_activation False\n",
            "147 block6a_se_squeeze False\n",
            "148 block6a_se_reshape False\n",
            "149 block6a_se_reduce False\n",
            "150 block6a_se_expand False\n",
            "151 block6a_se_excite False\n",
            "152 block6a_project_conv False\n",
            "153 block6a_project_bn False\n",
            "154 block6b_expand_conv False\n",
            "155 block6b_expand_bn False\n",
            "156 block6b_expand_activation False\n",
            "157 block6b_dwconv2 False\n",
            "158 block6b_bn False\n",
            "159 block6b_activation False\n",
            "160 block6b_se_squeeze False\n",
            "161 block6b_se_reshape False\n",
            "162 block6b_se_reduce False\n",
            "163 block6b_se_expand False\n",
            "164 block6b_se_excite False\n",
            "165 block6b_project_conv False\n",
            "166 block6b_project_bn False\n",
            "167 block6b_add False\n",
            "168 block6c_expand_conv False\n",
            "169 block6c_expand_bn False\n",
            "170 block6c_expand_activation False\n",
            "171 block6c_dwconv2 False\n",
            "172 block6c_bn False\n",
            "173 block6c_activation False\n",
            "174 block6c_se_squeeze False\n",
            "175 block6c_se_reshape False\n",
            "176 block6c_se_reduce False\n",
            "177 block6c_se_expand False\n",
            "178 block6c_se_excite False\n",
            "179 block6c_project_conv False\n",
            "180 block6c_project_bn False\n",
            "181 block6c_add False\n",
            "182 block6d_expand_conv False\n",
            "183 block6d_expand_bn False\n",
            "184 block6d_expand_activation False\n",
            "185 block6d_dwconv2 False\n",
            "186 block6d_bn False\n",
            "187 block6d_activation False\n",
            "188 block6d_se_squeeze False\n",
            "189 block6d_se_reshape False\n",
            "190 block6d_se_reduce False\n",
            "191 block6d_se_expand False\n",
            "192 block6d_se_excite False\n",
            "193 block6d_project_conv False\n",
            "194 block6d_project_bn False\n",
            "195 block6d_add False\n",
            "196 block6e_expand_conv False\n",
            "197 block6e_expand_bn False\n",
            "198 block6e_expand_activation False\n",
            "199 block6e_dwconv2 False\n",
            "200 block6e_bn False\n",
            "201 block6e_activation False\n",
            "202 block6e_se_squeeze False\n",
            "203 block6e_se_reshape False\n",
            "204 block6e_se_reduce False\n",
            "205 block6e_se_expand False\n",
            "206 block6e_se_excite False\n",
            "207 block6e_project_conv False\n",
            "208 block6e_project_bn False\n",
            "209 block6e_add False\n",
            "210 block6f_expand_conv False\n",
            "211 block6f_expand_bn False\n",
            "212 block6f_expand_activation False\n",
            "213 block6f_dwconv2 False\n",
            "214 block6f_bn False\n",
            "215 block6f_activation False\n",
            "216 block6f_se_squeeze False\n",
            "217 block6f_se_reshape False\n",
            "218 block6f_se_reduce False\n",
            "219 block6f_se_expand False\n",
            "220 block6f_se_excite False\n",
            "221 block6f_project_conv False\n",
            "222 block6f_project_bn False\n",
            "223 block6f_add False\n",
            "224 block6g_expand_conv False\n",
            "225 block6g_expand_bn False\n",
            "226 block6g_expand_activation False\n",
            "227 block6g_dwconv2 False\n",
            "228 block6g_bn False\n",
            "229 block6g_activation False\n",
            "230 block6g_se_squeeze False\n",
            "231 block6g_se_reshape False\n",
            "232 block6g_se_reduce False\n",
            "233 block6g_se_expand False\n",
            "234 block6g_se_excite False\n",
            "235 block6g_project_conv False\n",
            "236 block6g_project_bn False\n",
            "237 block6g_add False\n",
            "238 block6h_expand_conv False\n",
            "239 block6h_expand_bn False\n",
            "240 block6h_expand_activation False\n",
            "241 block6h_dwconv2 False\n",
            "242 block6h_bn False\n",
            "243 block6h_activation False\n",
            "244 block6h_se_squeeze False\n",
            "245 block6h_se_reshape False\n",
            "246 block6h_se_reduce False\n",
            "247 block6h_se_expand False\n",
            "248 block6h_se_excite False\n",
            "249 block6h_project_conv False\n",
            "250 block6h_project_bn False\n",
            "251 block6h_add False\n",
            "252 top_conv False\n",
            "253 top_bn False\n",
            "254 top_activation False\n"
          ]
        }
      ],
      "source": [
        "for num, layer in enumerate(base_model_augmented.layers[2].layers):\n",
        "  print(num, layer.name, layer.trainable)"
      ]
    },
    {
      "cell_type": "code",
      "source": [
        "# Call back the function early if there is no improvement or overfitting\n",
        "# For adam\n",
        "# callback = tf.keras.callbacks.EarlyStopping(monitor='val_loss', patience=3, restore_best_weights=True)"
      ],
      "metadata": {
        "id": "TFrlnhR8NF_G"
      },
      "execution_count": null,
      "outputs": []
    },
    {
      "cell_type": "code",
      "execution_count": null,
      "metadata": {
        "colab": {
          "base_uri": "https://localhost:8080/"
        },
        "id": "pp0Vlg39PVep",
        "outputId": "4d52abba-c93e-4e9d-b45a-ec65d8eccd9c"
      },
      "outputs": [
        {
          "output_type": "stream",
          "name": "stdout",
          "text": [
            "Saving TensorBoard log files to: training_log_aug/efficientnetV2b0_101_classes_all_data_augmented_6030l_adamax/20220516-133441\n",
            "Epoch 25/40\n",
            "592/592 [==============================] - 169s 264ms/step - loss: 1.6063 - accuracy: 0.5905 - val_loss: 1.0937 - val_accuracy: 0.7134\n",
            "Epoch 26/40\n",
            "592/592 [==============================] - 152s 254ms/step - loss: 1.4206 - accuracy: 0.6302 - val_loss: 0.9952 - val_accuracy: 0.7314\n",
            "Epoch 27/40\n",
            "592/592 [==============================] - 155s 258ms/step - loss: 1.3193 - accuracy: 0.6532 - val_loss: 0.9477 - val_accuracy: 0.7363\n",
            "Epoch 28/40\n",
            "592/592 [==============================] - 150s 251ms/step - loss: 1.2293 - accuracy: 0.6716 - val_loss: 0.9332 - val_accuracy: 0.7422\n",
            "Epoch 29/40\n",
            "592/592 [==============================] - 154s 257ms/step - loss: 1.1511 - accuracy: 0.6908 - val_loss: 0.9272 - val_accuracy: 0.7438\n",
            "Epoch 30/40\n",
            "592/592 [==============================] - 149s 249ms/step - loss: 1.0960 - accuracy: 0.7049 - val_loss: 0.9281 - val_accuracy: 0.7419\n",
            "Epoch 31/40\n",
            "592/592 [==============================] - 172s 284ms/step - loss: 1.0381 - accuracy: 0.7156 - val_loss: 0.9010 - val_accuracy: 0.7540\n",
            "Epoch 32/40\n",
            "592/592 [==============================] - 156s 260ms/step - loss: 0.9831 - accuracy: 0.7293 - val_loss: 0.8712 - val_accuracy: 0.7554\n",
            "Epoch 33/40\n",
            "592/592 [==============================] - 154s 257ms/step - loss: 0.9420 - accuracy: 0.7390 - val_loss: 0.8568 - val_accuracy: 0.7619\n",
            "Epoch 34/40\n",
            "592/592 [==============================] - 153s 255ms/step - loss: 0.8990 - accuracy: 0.7486 - val_loss: 0.8784 - val_accuracy: 0.7548\n",
            "Epoch 35/40\n",
            "592/592 [==============================] - 154s 258ms/step - loss: 0.8649 - accuracy: 0.7579 - val_loss: 0.8721 - val_accuracy: 0.7519\n"
          ]
        }
      ],
      "source": [
        "# Fine-tune for another 3 epochs or till called back\n",
        "fine_tune_epochs = initial_epochs + 15\n",
        "\n",
        "# Recompile the model\n",
        "base_model_augmented.compile(loss=\"sparse_categorical_crossentropy\",\n",
        "                optimizer=tf.keras.optimizers.Adamax(learning_rate=0.002),\n",
        "                metrics=[\"accuracy\"])\n",
        "\n",
        "# Fit the model\n",
        "history_2_101_foods_all_augmented = base_model_augmented.fit(train_data,\n",
        "                                                             epochs=fine_tune_epochs,\n",
        "                                                             validation_data=test_data,\n",
        "                                                             validation_steps=int(0.15*len(test_data)),\n",
        "                                                             callbacks=[create_tensorboard_callback(\n",
        "                                                                 \"training_log_aug\",\n",
        "                                                                 \"efficientnetV2b0_101_classes_all_data_augmented_6030l_adamax\"), \n",
        "                                                             callback],\n",
        "                                                             initial_epoch=history_1_101_foods_all_augmented.epoch[-1])\n"
      ]
    },
    {
      "cell_type": "code",
      "execution_count": null,
      "metadata": {
        "colab": {
          "base_uri": "https://localhost:8080/"
        },
        "id": "kLJssZWpSl-R",
        "outputId": "f89482b5-ac63-44c3-a0a2-c84ee951b524"
      },
      "outputs": [
        {
          "name": "stdout",
          "output_type": "stream",
          "text": [
            "790/790 [==============================] - 49s 62ms/step - loss: 1.0812 - accuracy: 0.7062\n"
          ]
        },
        {
          "data": {
            "text/plain": [
              "[1.0812370777130127, 0.7061781883239746]"
            ]
          },
          "execution_count": 39,
          "metadata": {},
          "output_type": "execute_result"
        }
      ],
      "source": [
        "# Evaluate the augmented and fine-tuned model over the whole test set\n",
        "base_model_augmented.evaluate(test_data)"
      ]
    },
    {
      "cell_type": "code",
      "execution_count": null,
      "metadata": {
        "colab": {
          "base_uri": "https://localhost:8080/",
          "height": 573
        },
        "id": "_WfdKhyybdUZ",
        "outputId": "5d641faa-54ac-465c-a801-9d8503ccb3f6"
      },
      "outputs": [
        {
          "output_type": "display_data",
          "data": {
            "text/plain": [
              "<Figure size 432x288 with 1 Axes>"
            ],
            "image/png": "[encoded data removed]"
          },
          "metadata": {
            "needs_background": "light"
          }
        },
        {
          "output_type": "display_data",
          "data": {
            "text/plain": [
              "<Figure size 432x288 with 1 Axes>"
            ],
            "image/png": "[encoded data removed]"
          },
          "metadata": {
            "needs_background": "light"
          }
        }
      ],
      "source": [
        "# Plot the loss curves of the new history\n",
        "# The model trend appears to be much better than last time!\n",
        "plot_loss_curves(history_2_101_foods_all_augmented)"
      ]
    },
    {
      "cell_type": "code",
      "execution_count": null,
      "metadata": {
        "colab": {
          "base_uri": "https://localhost:8080/",
          "height": 513
        },
        "id": "RGg-TX1ScNkh",
        "outputId": "5b1afdf0-f1d0-422f-eaa6-d6e829c32a70"
      },
      "outputs": [
        {
          "output_type": "display_data",
          "data": {
            "text/plain": [
              "<Figure size 576x576 with 2 Axes>"
            ],
            "image/png": "[encoded data removed]"
          },
          "metadata": {
            "needs_background": "light"
          }
        }
      ],
      "source": [
        "compare_historys(history_1_101_foods_all_augmented, history_2_101_foods_all_augmented, initial_epochs=history_2_101_foods_all_augmented.epoch[-1])"
      ]
    },
    {
      "cell_type": "markdown",
      "metadata": {
        "id": "0UALXBFsdEpa"
      },
      "source": [
        "Comparing the history of the new model with the old non-trainable one, it can be seen that the model stops improving as much at around 5 epochs."
      ]
    },
    {
      "cell_type": "code",
      "execution_count": null,
      "metadata": {
        "colab": {
          "base_uri": "https://localhost:8080/"
        },
        "id": "Hmx46ZBkyDNx",
        "outputId": "ea084f7c-4f8e-4136-ab6a-dcf62b6574aa"
      },
      "outputs": [
        {
          "output_type": "stream",
          "name": "stdout",
          "text": [
            "INFO:tensorflow:Assets written to: model_101_foods_augmented_dropout_5828l_v2_adamax/assets\n"
          ]
        },
        {
          "output_type": "stream",
          "name": "stderr",
          "text": [
            "INFO:tensorflow:Assets written to: model_101_foods_augmented_dropout_5828l_v2_adamax/assets\n"
          ]
        }
      ],
      "source": [
        "base_model_augmented.save(\"model_101_foods_augmented_dropout_5828l_v2_adamax\")"
      ]
    },
    {
      "cell_type": "markdown",
      "metadata": {
        "id": "ERE_JG5FejiI"
      },
      "source": [
        "## Unfreeze a different block"
      ]
    },
    {
      "cell_type": "code",
      "execution_count": null,
      "metadata": {
        "id": "09Rf2kmWfU74"
      },
      "outputs": [],
      "source": [
        "model_3 = tf.keras.models.load_model(\"model_101_foods_augmented_dropout_5828l_v2_adamax\")\n",
        "# model_3 = base_model_augmented"
      ]
    },
    {
      "cell_type": "code",
      "source": [
        "model_3.load_weights(\"model_101_foods_augmented_model_fine_tuned_dropout_5828l_v2_admax\")"
      ],
      "metadata": {
        "colab": {
          "base_uri": "https://localhost:8080/"
        },
        "id": "IIEPOA-0nBOM",
        "outputId": "ec48a9aa-bb49-40dd-adb6-d9ded172afca"
      },
      "execution_count": null,
      "outputs": [
        {
          "output_type": "execute_result",
          "data": {
            "text/plain": [
              "<tensorflow.python.training.tracking.util.CheckpointLoadStatus at 0x7f1e49bb2c90>"
            ]
          },
          "metadata": {},
          "execution_count": 47
        }
      ]
    },
    {
      "cell_type": "code",
      "execution_count": null,
      "metadata": {
        "id": "NjJ1bvC0fqy6"
      },
      "outputs": [],
      "source": [
        "# Unfreeze another block\n",
        "model_3.trainable = True\n",
        "\n",
        "for layer in model_3.layers[2].layers[:-28]:\n",
        "  layer.trainable = False\n",
        "for layer in model_3.layers[2].layers[-13:]:\n",
        "  layer.trainable = False"
      ]
    },
    {
      "cell_type": "code",
      "execution_count": null,
      "metadata": {
        "colab": {
          "base_uri": "https://localhost:8080/"
        },
        "id": "oRKGRBvqfyJa",
        "outputId": "b1f799a3-0559-4826-caa6-67bbcac89a6c"
      },
      "outputs": [
        {
          "output_type": "stream",
          "name": "stdout",
          "text": [
            "Saving TensorBoard log files to: training_log_aug/efficientnetb0_101_classes_all_data_augmented_2813l_adamax/20220516-141316\n",
            "Epoch 35/49\n",
            "592/592 [==============================] - 157s 247ms/step - loss: 0.8389 - accuracy: 0.7618 - val_loss: 0.8150 - val_accuracy: 0.7726\n",
            "Epoch 36/49\n",
            "592/592 [==============================] - 150s 251ms/step - loss: 0.8045 - accuracy: 0.7721 - val_loss: 0.8275 - val_accuracy: 0.7713\n",
            "Epoch 37/49\n",
            "592/592 [==============================] - 171s 287ms/step - loss: 0.7895 - accuracy: 0.7759 - val_loss: 0.8276 - val_accuracy: 0.7678\n"
          ]
        }
      ],
      "source": [
        "# Fine-tune till called back\n",
        "fine_tune_epochs = history_2_101_foods_all_augmented.epoch[-1] + 15\n",
        "\n",
        "# Recompile the model\n",
        "model_3.compile(loss=\"sparse_categorical_crossentropy\",\n",
        "                optimizer=tf.keras.optimizers.Adamax(learning_rate=0.001), # good was 0.00025\n",
        "                metrics=[\"accuracy\"])\n",
        "\n",
        "# Fit the model\n",
        "history_3_101_foods_all_augmented = model_3.fit(train_data,\n",
        "                                                             epochs=fine_tune_epochs,\n",
        "                                                             validation_data=test_data,\n",
        "                                                             validation_steps=int(0.15*len(test_data)),\n",
        "                                                             callbacks=[create_tensorboard_callback(\n",
        "                                                                 \"training_log_aug\",\n",
        "                                                                 \"efficientnetb0_101_classes_all_data_augmented_2813l_adamax\"), \n",
        "                                                                 callback],\n",
        "                                                             initial_epoch=history_2_101_foods_all_augmented.epoch[-1])\n"
      ]
    },
    {
      "cell_type": "code",
      "source": [
        "model_3.evaluate(test_data)"
      ],
      "metadata": {
        "colab": {
          "base_uri": "https://localhost:8080/"
        },
        "id": "dGfKVWfJQqYD",
        "outputId": "ebb2aad1-9bbb-462b-b097-5058d1c48e87"
      },
      "execution_count": null,
      "outputs": [
        {
          "output_type": "stream",
          "name": "stdout",
          "text": [
            "198/198 [==============================] - 42s 211ms/step - loss: 0.8206 - accuracy: 0.7733\n"
          ]
        },
        {
          "output_type": "execute_result",
          "data": {
            "text/plain": [
              "[0.8206276893615723, 0.7733465433120728]"
            ]
          },
          "metadata": {},
          "execution_count": 43
        }
      ]
    },
    {
      "cell_type": "code",
      "execution_count": null,
      "metadata": {
        "colab": {
          "base_uri": "https://localhost:8080/",
          "height": 573
        },
        "id": "HOCt9vw-gHdJ",
        "outputId": "dd352217-044c-40f9-8b17-60142e2448f3"
      },
      "outputs": [
        {
          "output_type": "display_data",
          "data": {
            "text/plain": [
              "<Figure size 432x288 with 1 Axes>"
            ],
            "image/png": "[encoded data removed]"
          },
          "metadata": {
            "needs_background": "light"
          }
        },
        {
          "output_type": "display_data",
          "data": {
            "text/plain": [
              "<Figure size 432x288 with 1 Axes>"
            ],
            "image/png": "[encoded data removed]"
          },
          "metadata": {
            "needs_background": "light"
          }
        }
      ],
      "source": [
        "# The last epochs seems to barely make a dent but the over all trend apepear \n",
        "# to be good\n",
        "plot_loss_curves(history_3_101_foods_all_augmented)"
      ]
    },
    {
      "cell_type": "code",
      "execution_count": null,
      "metadata": {
        "colab": {
          "base_uri": "https://localhost:8080/",
          "height": 513
        },
        "id": "Q-p7fb3dj37T",
        "outputId": "92fe6829-e44b-461e-b220-4db7933b2603"
      },
      "outputs": [
        {
          "output_type": "display_data",
          "data": {
            "text/plain": [
              "<Figure size 576x576 with 2 Axes>"
            ],
            "image/png": "[encoded data removed]"
          },
          "metadata": {
            "needs_background": "light"
          }
        }
      ],
      "source": [
        "compare_historys(history_2_101_foods_all_augmented,history_3_101_foods_all_augmented, \n",
        "                 initial_epochs=11)"
      ]
    },
    {
      "cell_type": "code",
      "execution_count": null,
      "metadata": {
        "colab": {
          "base_uri": "https://localhost:8080/"
        },
        "id": "Sfmteqa4kWkj",
        "outputId": "c5cddab4-c18d-4f96-b7e1-2e7a72258b3b"
      },
      "outputs": [
        {
          "output_type": "stream",
          "name": "stdout",
          "text": [
            "INFO:tensorflow:Assets written to: model_101_foods_augmented_dropout_2813l_v2_adamax/assets\n"
          ]
        },
        {
          "output_type": "stream",
          "name": "stderr",
          "text": [
            "INFO:tensorflow:Assets written to: model_101_foods_augmented_dropout_2813l_v2_adamax/assets\n"
          ]
        }
      ],
      "source": [
        "# Save the model\n",
        "model_3.save(\"model_101_foods_augmented_dropout_2813l_v2_adamax\")"
      ]
    },
    {
      "cell_type": "code",
      "source": [
        "model_3.load_weights(\"model_101_foods_augmented_dropout_2813l_v2_adamax\")"
      ],
      "metadata": {
        "colab": {
          "base_uri": "https://localhost:8080/"
        },
        "id": "_Q5v--2uubAK",
        "outputId": "4667d5b7-2156-4e65-a4f6-7bea102ce356"
      },
      "execution_count": null,
      "outputs": [
        {
          "output_type": "execute_result",
          "data": {
            "text/plain": [
              "<tensorflow.python.training.tracking.util.CheckpointLoadStatus at 0x7f8b6469b950>"
            ]
          },
          "metadata": {},
          "execution_count": 141
        }
      ]
    },
    {
      "cell_type": "code",
      "execution_count": null,
      "metadata": {
        "colab": {
          "base_uri": "https://localhost:8080/",
          "height": 260
        },
        "id": "csrRapBulDa6",
        "outputId": "f5e59652-8472-4596-eed9-d7ca7654d938"
      },
      "outputs": [
        {
          "output_type": "stream",
          "name": "stdout",
          "text": [
            "  adding: content/model_101_foods_augmented_dropout_2813l_v2_adamax/ (stored 0%)\n",
            "  adding: content/model_101_foods_augmented_dropout_2813l_v2_adamax/saved_model.pb (deflated 92%)\n",
            "  adding: content/model_101_foods_augmented_dropout_2813l_v2_adamax/assets/ (stored 0%)\n",
            "  adding: content/model_101_foods_augmented_dropout_2813l_v2_adamax/variables/ (stored 0%)\n",
            "  adding: content/model_101_foods_augmented_dropout_2813l_v2_adamax/variables/variables.index (deflated 75%)\n",
            "  adding: content/model_101_foods_augmented_dropout_2813l_v2_adamax/variables/variables.data-00000-of-00001 (deflated 8%)\n",
            "  adding: content/model_101_foods_augmented_dropout_2813l_v2_adamax/keras_metadata.pb (deflated 96%)\n",
            "  adding: content/model_101_foods_augmented_dropout_5828l_v2_adamax/ (stored 0%)\n",
            "  adding: content/model_101_foods_augmented_dropout_5828l_v2_adamax/saved_model.pb (deflated 91%)\n",
            "  adding: content/model_101_foods_augmented_dropout_5828l_v2_adamax/assets/ (stored 0%)\n",
            "  adding: content/model_101_foods_augmented_dropout_5828l_v2_adamax/variables/ (stored 0%)\n",
            "  adding: content/model_101_foods_augmented_dropout_5828l_v2_adamax/variables/variables.index (deflated 76%)\n",
            "  adding: content/model_101_foods_augmented_dropout_5828l_v2_adamax/variables/variables.data-00000-of-00001 (deflated 9%)\n",
            "  adding: content/model_101_foods_augmented_dropout_5828l_v2_adamax/keras_metadata.pb (deflated 96%)\n"
          ]
        },
        {
          "output_type": "display_data",
          "data": {
            "text/plain": [
              "<IPython.core.display.Javascript object>"
            ],
            "application/javascript": [
              "\n",
              "    async function download(id, filename, size) {\n",
              "      if (!google.colab.kernel.accessAllowed) {\n",
              "        return;\n",
              "      }\n",
              "      const div = document.createElement('div');\n",
              "      const label = document.createElement('label');\n",
              "      label.textContent = `Downloading \"${filename}\": `;\n",
              "      div.appendChild(label);\n",
              "      const progress = document.createElement('progress');\n",
              "      progress.max = size;\n",
              "      div.appendChild(progress);\n",
              "      document.body.appendChild(div);\n",
              "\n",
              "      const buffers = [];\n",
              "      let downloaded = 0;\n",
              "\n",
              "      const channel = await google.colab.kernel.comms.open(id);\n",
              "      // Send a message to notify the kernel that we're ready.\n",
              "      channel.send({})\n",
              "\n",
              "      for await (const message of channel.messages) {\n",
              "        // Send a message to notify the kernel that we're ready.\n",
              "        channel.send({})\n",
              "        if (message.buffers) {\n",
              "          for (const buffer of message.buffers) {\n",
              "            buffers.push(buffer);\n",
              "            downloaded += buffer.byteLength;\n",
              "            progress.value = downloaded;\n",
              "          }\n",
              "        }\n",
              "      }\n",
              "      const blob = new Blob(buffers, {type: 'application/binary'});\n",
              "      const a = document.createElement('a');\n",
              "      a.href = window.URL.createObjectURL(blob);\n",
              "      a.download = filename;\n",
              "      div.appendChild(a);\n",
              "      a.click();\n",
              "      div.remove();\n",
              "    }\n",
              "  "
            ]
          },
          "metadata": {}
        },
        {
          "output_type": "display_data",
          "data": {
            "text/plain": [
              "<IPython.core.display.Javascript object>"
            ],
            "application/javascript": [
              "download(\"download_d55ba7f1-2230-44dd-be4e-6accd296a803\", \"model_101_foods_augmented_dropout_2813l_v2_adamax.zip\", 28569641)"
            ]
          },
          "metadata": {}
        },
        {
          "output_type": "display_data",
          "data": {
            "text/plain": [
              "<IPython.core.display.Javascript object>"
            ],
            "application/javascript": [
              "\n",
              "    async function download(id, filename, size) {\n",
              "      if (!google.colab.kernel.accessAllowed) {\n",
              "        return;\n",
              "      }\n",
              "      const div = document.createElement('div');\n",
              "      const label = document.createElement('label');\n",
              "      label.textContent = `Downloading \"${filename}\": `;\n",
              "      div.appendChild(label);\n",
              "      const progress = document.createElement('progress');\n",
              "      progress.max = size;\n",
              "      div.appendChild(progress);\n",
              "      document.body.appendChild(div);\n",
              "\n",
              "      const buffers = [];\n",
              "      let downloaded = 0;\n",
              "\n",
              "      const channel = await google.colab.kernel.comms.open(id);\n",
              "      // Send a message to notify the kernel that we're ready.\n",
              "      channel.send({})\n",
              "\n",
              "      for await (const message of channel.messages) {\n",
              "        // Send a message to notify the kernel that we're ready.\n",
              "        channel.send({})\n",
              "        if (message.buffers) {\n",
              "          for (const buffer of message.buffers) {\n",
              "            buffers.push(buffer);\n",
              "            downloaded += buffer.byteLength;\n",
              "            progress.value = downloaded;\n",
              "          }\n",
              "        }\n",
              "      }\n",
              "      const blob = new Blob(buffers, {type: 'application/binary'});\n",
              "      const a = document.createElement('a');\n",
              "      a.href = window.URL.createObjectURL(blob);\n",
              "      a.download = filename;\n",
              "      div.appendChild(a);\n",
              "      a.click();\n",
              "      div.remove();\n",
              "    }\n",
              "  "
            ]
          },
          "metadata": {}
        },
        {
          "output_type": "display_data",
          "data": {
            "text/plain": [
              "<IPython.core.display.Javascript object>"
            ],
            "application/javascript": [
              "download(\"download_88683b43-3c31-44ef-bcd6-9e508c7bb16c\", \"model_101_foods_augmented_dropout_5828l_v2_adamax.zip\", 32645329)"
            ]
          },
          "metadata": {}
        }
      ],
      "source": [
        "# Colab commands to download the model\n",
        "!zip -r /content/model_101_foods_augmented_dropout_2813l_v2_adamax.zip /content/model_101_foods_augmented_dropout_2813l_v2_adamax\n",
        "!zip -r /content/model_101_foods_augmented_dropout_5828l_v2_adamax.zip /content/model_101_foods_augmented_dropout_5828l_v2_adamax\n",
        "\n",
        "# Download the file \n",
        "from google.colab import files\n",
        "files.download(\"/content/model_101_foods_augmented_dropout_2813l_v2_adamax.zip\")\n",
        "files.download(\"/content/model_101_foods_augmented_dropout_5828l_v2_adamax.zip\")"
      ]
    },
    {
      "cell_type": "code",
      "source": [
        "# Clear up ram for colab \n",
        "import gc\n",
        "del history_1_101_foods_all_augmented\n",
        "del history_2_101_foods_all_augmented\n",
        "gc.collect()"
      ],
      "metadata": {
        "colab": {
          "base_uri": "https://localhost:8080/"
        },
        "id": "5msNIRYqZGWy",
        "outputId": "acf849b4-3d9b-44c4-8d6d-e51071fcd3ef"
      },
      "execution_count": null,
      "outputs": [
        {
          "output_type": "execute_result",
          "data": {
            "text/plain": [
              "769"
            ]
          },
          "metadata": {},
          "execution_count": 63
        }
      ]
    },
    {
      "cell_type": "code",
      "source": [
        "# # Use for adam to balance out training\n",
        "\n",
        "# class_weights = [1.05 if i<15 and i>1 or i>60 and i<72 else 1. for i in range(0,101)]\n",
        "# tf_weights = {}\n",
        "# for i in range(101):\n",
        "#   tf_weights[i] = class_weights[i]"
      ],
      "metadata": {
        "id": "rLnMpehNWi2m"
      },
      "execution_count": null,
      "outputs": []
    },
    {
      "cell_type": "code",
      "execution_count": null,
      "metadata": {
        "id": "vafFjDhAlZEr"
      },
      "outputs": [],
      "source": [
        "# Final model with 5 layers and till called back\n",
        "model_4 = tf.keras.models.load_model(\"model_101_foods_augmented_dropout_2813l_v2_adamax\")\n",
        "# model_4 = model_3"
      ]
    },
    {
      "cell_type": "code",
      "execution_count": null,
      "metadata": {
        "id": "QKGInLminaOy"
      },
      "outputs": [],
      "source": [
        "# # Unfreeze the last 60-30 layers layers to learn fine details\n",
        "# model_4.trainable = True\n",
        "\n",
        "# for layer in model_4.layers[2].layers[:-58]:\n",
        "#   layer.trainable = False"
      ]
    },
    {
      "cell_type": "code",
      "source": [
        "# Unfreeze a few blocks and lower learning rate\n",
        "model_4.trainable = True\n",
        "\n",
        "for layer in model_4.layers[2].layers[:-114]:\n",
        "  layer.trainable = False\n",
        "# for layer in model_5_aug_fine_tuned_dropout.layers[2].layers[-75:]:\n",
        "#   layer.trainable = False"
      ],
      "metadata": {
        "id": "Q-WM29Byoj0Q"
      },
      "execution_count": null,
      "outputs": []
    },
    {
      "cell_type": "code",
      "source": [
        "for layer in model_4.layers:\n",
        "  print(layer.trainable, layer.name)"
      ],
      "metadata": {
        "colab": {
          "base_uri": "https://localhost:8080/"
        },
        "id": "JPAqt9KqIRdh",
        "outputId": "e910b993-f6a7-44d0-905d-aa32cad4beff"
      },
      "execution_count": null,
      "outputs": [
        {
          "output_type": "stream",
          "name": "stdout",
          "text": [
            "True input_layer\n",
            "True data_agumentation\n",
            "False model_16\n",
            "False global_average_pooling_2D\n",
            "False top_added_bn\n",
            "False dense_17\n",
            "False dense_18\n",
            "False softmax_float32\n"
          ]
        }
      ]
    },
    {
      "cell_type": "code",
      "source": [
        "for i, layer in enumerate(model_4.layers[2].layers):\n",
        "  print(i, layer.trainable, layer.name)"
      ],
      "metadata": {
        "colab": {
          "base_uri": "https://localhost:8080/"
        },
        "id": "N8jYJr9HnHUg",
        "outputId": "a6dca476-063c-45b6-b838-ba6fea0c7d5b"
      },
      "execution_count": null,
      "outputs": [
        {
          "output_type": "stream",
          "name": "stdout",
          "text": [
            "0 False input_1\n",
            "1 False rescaling\n",
            "2 False normalization\n",
            "3 False stem_conv\n",
            "4 False stem_bn\n",
            "5 False stem_activation\n",
            "6 False block1a_project_conv\n",
            "7 False block1a_project_bn\n",
            "8 False block1a_project_activation\n",
            "9 False block2a_expand_conv\n",
            "10 False block2a_expand_bn\n",
            "11 False block2a_expand_activation\n",
            "12 False block2a_project_conv\n",
            "13 False block2a_project_bn\n",
            "14 False block2b_expand_conv\n",
            "15 False block2b_expand_bn\n",
            "16 False block2b_expand_activation\n",
            "17 False block2b_project_conv\n",
            "18 False block2b_project_bn\n",
            "19 False block2b_add\n",
            "20 False block3a_expand_conv\n",
            "21 False block3a_expand_bn\n",
            "22 False block3a_expand_activation\n",
            "23 False block3a_project_conv\n",
            "24 False block3a_project_bn\n",
            "25 False block3b_expand_conv\n",
            "26 False block3b_expand_bn\n",
            "27 False block3b_expand_activation\n",
            "28 False block3b_project_conv\n",
            "29 False block3b_project_bn\n",
            "30 False block3b_add\n",
            "31 False block4a_expand_conv\n",
            "32 False block4a_expand_bn\n",
            "33 False block4a_expand_activation\n",
            "34 False block4a_dwconv2\n",
            "35 False block4a_bn\n",
            "36 False block4a_activation\n",
            "37 False block4a_se_squeeze\n",
            "38 False block4a_se_reshape\n",
            "39 False block4a_se_reduce\n",
            "40 False block4a_se_expand\n",
            "41 False block4a_se_excite\n",
            "42 False block4a_project_conv\n",
            "43 False block4a_project_bn\n",
            "44 False block4b_expand_conv\n",
            "45 False block4b_expand_bn\n",
            "46 False block4b_expand_activation\n",
            "47 False block4b_dwconv2\n",
            "48 False block4b_bn\n",
            "49 False block4b_activation\n",
            "50 False block4b_se_squeeze\n",
            "51 False block4b_se_reshape\n",
            "52 False block4b_se_reduce\n",
            "53 False block4b_se_expand\n",
            "54 False block4b_se_excite\n",
            "55 False block4b_project_conv\n",
            "56 False block4b_project_bn\n",
            "57 False block4b_add\n",
            "58 False block4c_expand_conv\n",
            "59 False block4c_expand_bn\n",
            "60 False block4c_expand_activation\n",
            "61 False block4c_dwconv2\n",
            "62 False block4c_bn\n",
            "63 False block4c_activation\n",
            "64 False block4c_se_squeeze\n",
            "65 False block4c_se_reshape\n",
            "66 False block4c_se_reduce\n",
            "67 False block4c_se_expand\n",
            "68 False block4c_se_excite\n",
            "69 False block4c_project_conv\n",
            "70 False block4c_project_bn\n",
            "71 False block4c_add\n",
            "72 False block5a_expand_conv\n",
            "73 False block5a_expand_bn\n",
            "74 False block5a_expand_activation\n",
            "75 False block5a_dwconv2\n",
            "76 False block5a_bn\n",
            "77 False block5a_activation\n",
            "78 False block5a_se_squeeze\n",
            "79 False block5a_se_reshape\n",
            "80 False block5a_se_reduce\n",
            "81 False block5a_se_expand\n",
            "82 False block5a_se_excite\n",
            "83 False block5a_project_conv\n",
            "84 False block5a_project_bn\n",
            "85 False block5b_expand_conv\n",
            "86 False block5b_expand_bn\n",
            "87 False block5b_expand_activation\n",
            "88 False block5b_dwconv2\n",
            "89 False block5b_bn\n",
            "90 False block5b_activation\n",
            "91 False block5b_se_squeeze\n",
            "92 False block5b_se_reshape\n",
            "93 False block5b_se_reduce\n",
            "94 False block5b_se_expand\n",
            "95 False block5b_se_excite\n",
            "96 False block5b_project_conv\n",
            "97 False block5b_project_bn\n",
            "98 False block5b_add\n",
            "99 False block5c_expand_conv\n",
            "100 False block5c_expand_bn\n",
            "101 False block5c_expand_activation\n",
            "102 False block5c_dwconv2\n",
            "103 False block5c_bn\n",
            "104 False block5c_activation\n",
            "105 False block5c_se_squeeze\n",
            "106 False block5c_se_reshape\n",
            "107 False block5c_se_reduce\n",
            "108 False block5c_se_expand\n",
            "109 False block5c_se_excite\n",
            "110 False block5c_project_conv\n",
            "111 False block5c_project_bn\n",
            "112 False block5c_add\n",
            "113 False block5d_expand_conv\n",
            "114 False block5d_expand_bn\n",
            "115 False block5d_expand_activation\n",
            "116 False block5d_dwconv2\n",
            "117 False block5d_bn\n",
            "118 False block5d_activation\n",
            "119 False block5d_se_squeeze\n",
            "120 False block5d_se_reshape\n",
            "121 False block5d_se_reduce\n",
            "122 False block5d_se_expand\n",
            "123 False block5d_se_excite\n",
            "124 False block5d_project_conv\n",
            "125 False block5d_project_bn\n",
            "126 False block5d_add\n",
            "127 False block5e_expand_conv\n",
            "128 False block5e_expand_bn\n",
            "129 False block5e_expand_activation\n",
            "130 False block5e_dwconv2\n",
            "131 False block5e_bn\n",
            "132 False block5e_activation\n",
            "133 False block5e_se_squeeze\n",
            "134 False block5e_se_reshape\n",
            "135 False block5e_se_reduce\n",
            "136 False block5e_se_expand\n",
            "137 False block5e_se_excite\n",
            "138 False block5e_project_conv\n",
            "139 False block5e_project_bn\n",
            "140 False block5e_add\n",
            "141 True block6a_expand_conv\n",
            "142 True block6a_expand_bn\n",
            "143 True block6a_expand_activation\n",
            "144 True block6a_dwconv2\n",
            "145 True block6a_bn\n",
            "146 True block6a_activation\n",
            "147 True block6a_se_squeeze\n",
            "148 True block6a_se_reshape\n",
            "149 True block6a_se_reduce\n",
            "150 True block6a_se_expand\n",
            "151 True block6a_se_excite\n",
            "152 True block6a_project_conv\n",
            "153 True block6a_project_bn\n",
            "154 True block6b_expand_conv\n",
            "155 True block6b_expand_bn\n",
            "156 True block6b_expand_activation\n",
            "157 True block6b_dwconv2\n",
            "158 True block6b_bn\n",
            "159 True block6b_activation\n",
            "160 True block6b_se_squeeze\n",
            "161 True block6b_se_reshape\n",
            "162 True block6b_se_reduce\n",
            "163 True block6b_se_expand\n",
            "164 True block6b_se_excite\n",
            "165 True block6b_project_conv\n",
            "166 True block6b_project_bn\n",
            "167 True block6b_add\n",
            "168 True block6c_expand_conv\n",
            "169 True block6c_expand_bn\n",
            "170 True block6c_expand_activation\n",
            "171 True block6c_dwconv2\n",
            "172 True block6c_bn\n",
            "173 True block6c_activation\n",
            "174 True block6c_se_squeeze\n",
            "175 True block6c_se_reshape\n",
            "176 True block6c_se_reduce\n",
            "177 True block6c_se_expand\n",
            "178 True block6c_se_excite\n",
            "179 True block6c_project_conv\n",
            "180 True block6c_project_bn\n",
            "181 True block6c_add\n",
            "182 True block6d_expand_conv\n",
            "183 True block6d_expand_bn\n",
            "184 True block6d_expand_activation\n",
            "185 True block6d_dwconv2\n",
            "186 True block6d_bn\n",
            "187 True block6d_activation\n",
            "188 True block6d_se_squeeze\n",
            "189 True block6d_se_reshape\n",
            "190 True block6d_se_reduce\n",
            "191 True block6d_se_expand\n",
            "192 True block6d_se_excite\n",
            "193 True block6d_project_conv\n",
            "194 True block6d_project_bn\n",
            "195 True block6d_add\n",
            "196 True block6e_expand_conv\n",
            "197 True block6e_expand_bn\n",
            "198 True block6e_expand_activation\n",
            "199 True block6e_dwconv2\n",
            "200 True block6e_bn\n",
            "201 True block6e_activation\n",
            "202 True block6e_se_squeeze\n",
            "203 True block6e_se_reshape\n",
            "204 True block6e_se_reduce\n",
            "205 True block6e_se_expand\n",
            "206 True block6e_se_excite\n",
            "207 True block6e_project_conv\n",
            "208 True block6e_project_bn\n",
            "209 True block6e_add\n",
            "210 True block6f_expand_conv\n",
            "211 True block6f_expand_bn\n",
            "212 True block6f_expand_activation\n",
            "213 True block6f_dwconv2\n",
            "214 True block6f_bn\n",
            "215 True block6f_activation\n",
            "216 True block6f_se_squeeze\n",
            "217 True block6f_se_reshape\n",
            "218 True block6f_se_reduce\n",
            "219 True block6f_se_expand\n",
            "220 True block6f_se_excite\n",
            "221 True block6f_project_conv\n",
            "222 True block6f_project_bn\n",
            "223 True block6f_add\n",
            "224 True block6g_expand_conv\n",
            "225 True block6g_expand_bn\n",
            "226 True block6g_expand_activation\n",
            "227 True block6g_dwconv2\n",
            "228 True block6g_bn\n",
            "229 True block6g_activation\n",
            "230 True block6g_se_squeeze\n",
            "231 True block6g_se_reshape\n",
            "232 True block6g_se_reduce\n",
            "233 True block6g_se_expand\n",
            "234 True block6g_se_excite\n",
            "235 True block6g_project_conv\n",
            "236 True block6g_project_bn\n",
            "237 True block6g_add\n",
            "238 True block6h_expand_conv\n",
            "239 True block6h_expand_bn\n",
            "240 True block6h_expand_activation\n",
            "241 True block6h_dwconv2\n",
            "242 True block6h_bn\n",
            "243 True block6h_activation\n",
            "244 True block6h_se_squeeze\n",
            "245 True block6h_se_reshape\n",
            "246 True block6h_se_reduce\n",
            "247 True block6h_se_expand\n",
            "248 True block6h_se_excite\n",
            "249 True block6h_project_conv\n",
            "250 True block6h_project_bn\n",
            "251 True block6h_add\n",
            "252 True top_conv\n",
            "253 True top_bn\n",
            "254 True top_activation\n"
          ]
        }
      ]
    },
    {
      "cell_type": "code",
      "execution_count": null,
      "metadata": {
        "colab": {
          "base_uri": "https://localhost:8080/"
        },
        "id": "pU8mYaWjnkLj",
        "outputId": "76273e78-2422-487b-f2c8-12b527787859"
      },
      "outputs": [
        {
          "output_type": "stream",
          "name": "stdout",
          "text": [
            "Saving TensorBoard log files to: training_log_aug/efficientnetb0_101_classes_all_data_augmented_13l_adamax/20220516-153139\n",
            "Epoch 37/56\n",
            "592/592 [==============================] - 179s 280ms/step - loss: 0.7798 - accuracy: 0.7799 - val_loss: 0.8039 - val_accuracy: 0.7742\n",
            "Epoch 38/56\n",
            "592/592 [==============================] - 165s 275ms/step - loss: 0.7342 - accuracy: 0.7948 - val_loss: 0.7987 - val_accuracy: 0.7794\n",
            "Epoch 39/56\n",
            "592/592 [==============================] - 169s 281ms/step - loss: 0.7047 - accuracy: 0.8006 - val_loss: 0.7880 - val_accuracy: 0.7786\n",
            "Epoch 40/56\n",
            "592/592 [==============================] - 166s 276ms/step - loss: 0.6782 - accuracy: 0.8066 - val_loss: 0.7960 - val_accuracy: 0.7812\n",
            "Epoch 41/56\n",
            "592/592 [==============================] - 167s 278ms/step - loss: 0.6667 - accuracy: 0.8094 - val_loss: 0.7719 - val_accuracy: 0.7896\n",
            "Epoch 42/56\n",
            "592/592 [==============================] - 177s 294ms/step - loss: 0.6445 - accuracy: 0.8153 - val_loss: 0.7861 - val_accuracy: 0.7788\n",
            "Epoch 43/56\n",
            "592/592 [==============================] - 173s 287ms/step - loss: 0.6318 - accuracy: 0.8199 - val_loss: 0.7833 - val_accuracy: 0.7864\n"
          ]
        }
      ],
      "source": [
        "# Fine-tune for another 4 epochs (or till called back)\n",
        "fine_tune_epochs = history_3_101_foods_all_augmented.epoch[-1] + 20\n",
        "\n",
        "# Recompile the model\n",
        "model_4.compile(loss=\"sparse_categorical_crossentropy\",\n",
        "                optimizer=tf.keras.optimizers.Adamax(learning_rate=0.0001), \n",
        "                metrics=[\"accuracy\"])\n",
        "\n",
        "# Fit the model\n",
        "history_4_101_foods_all_augmented = model_4.fit(train_data,\n",
        "                                                             epochs=fine_tune_epochs,\n",
        "                                                             validation_data=test_data,\n",
        "                                                             validation_steps=int(0.15*len(test_data)),\n",
        "                                                             callbacks=[create_tensorboard_callback(\n",
        "                                                                 \"training_log_aug\",\n",
        "                                                                 \"efficientnetb0_101_classes_all_data_augmented_114end_adamax\"\n",
        "                                                             ),\n",
        "                                                             callback],\n",
        "                                                             initial_epoch=history_3_101_foods_all_augmented.epoch[-1])\n",
        "                                                             # class_weight=tf_weights)\n"
      ]
    },
    {
      "cell_type": "code",
      "source": [
        "model_4.save(\"model_101_foods_augmented_dropout_114end_v2_adamax\")"
      ],
      "metadata": {
        "id": "qF6LsQqZglqW"
      },
      "execution_count": null,
      "outputs": []
    },
    {
      "cell_type": "code",
      "source": [
        "# Colab commands to download the model\n",
        "!zip -r /content/model_101_foods_augmented_dropout_114end_v2_adamax.zip /content/model_101_foods_augmented_dropout_114end_v2_adamax\n",
        "\n",
        "# Download the file \n",
        "from google.colab import files\n",
        "files.download(\"/content/model_101_foods_augmented_dropout_114end_v2_adamax.zip\")"
      ],
      "metadata": {
        "colab": {
          "base_uri": "https://localhost:8080/",
          "height": 139
        },
        "id": "GHxscml4lo8d",
        "outputId": "f66cc1f2-c2d7-445b-b82b-9e205ec1f34d"
      },
      "execution_count": null,
      "outputs": [
        {
          "output_type": "stream",
          "name": "stdout",
          "text": [
            "  adding: content/model_101_foods_augmented_dropout_114end_v2_adamax/ (stored 0%)\n",
            "  adding: content/model_101_foods_augmented_dropout_114end_v2_adamax/saved_model.pb (deflated 91%)\n",
            "  adding: content/model_101_foods_augmented_dropout_114end_v2_adamax/assets/ (stored 0%)\n",
            "  adding: content/model_101_foods_augmented_dropout_114end_v2_adamax/variables/ (stored 0%)\n",
            "  adding: content/model_101_foods_augmented_dropout_114end_v2_adamax/variables/variables.index (deflated 77%)\n",
            "  adding: content/model_101_foods_augmented_dropout_114end_v2_adamax/variables/variables.data-00000-of-00001 (deflated 9%)\n",
            "  adding: content/model_101_foods_augmented_dropout_114end_v2_adamax/keras_metadata.pb (deflated 96%)\n"
          ]
        },
        {
          "output_type": "display_data",
          "data": {
            "text/plain": [
              "<IPython.core.display.Javascript object>"
            ],
            "application/javascript": [
              "\n",
              "    async function download(id, filename, size) {\n",
              "      if (!google.colab.kernel.accessAllowed) {\n",
              "        return;\n",
              "      }\n",
              "      const div = document.createElement('div');\n",
              "      const label = document.createElement('label');\n",
              "      label.textContent = `Downloading \"${filename}\": `;\n",
              "      div.appendChild(label);\n",
              "      const progress = document.createElement('progress');\n",
              "      progress.max = size;\n",
              "      div.appendChild(progress);\n",
              "      document.body.appendChild(div);\n",
              "\n",
              "      const buffers = [];\n",
              "      let downloaded = 0;\n",
              "\n",
              "      const channel = await google.colab.kernel.comms.open(id);\n",
              "      // Send a message to notify the kernel that we're ready.\n",
              "      channel.send({})\n",
              "\n",
              "      for await (const message of channel.messages) {\n",
              "        // Send a message to notify the kernel that we're ready.\n",
              "        channel.send({})\n",
              "        if (message.buffers) {\n",
              "          for (const buffer of message.buffers) {\n",
              "            buffers.push(buffer);\n",
              "            downloaded += buffer.byteLength;\n",
              "            progress.value = downloaded;\n",
              "          }\n",
              "        }\n",
              "      }\n",
              "      const blob = new Blob(buffers, {type: 'application/binary'});\n",
              "      const a = document.createElement('a');\n",
              "      a.href = window.URL.createObjectURL(blob);\n",
              "      a.download = filename;\n",
              "      div.appendChild(a);\n",
              "      a.click();\n",
              "      div.remove();\n",
              "    }\n",
              "  "
            ]
          },
          "metadata": {}
        },
        {
          "output_type": "display_data",
          "data": {
            "text/plain": [
              "<IPython.core.display.Javascript object>"
            ],
            "application/javascript": [
              "download(\"download_321ac3e1-4f07-405b-87ea-a2e9051cadcc\", \"model_101_foods_augmented_dropout_114end_v2_adamax.zip\", 57149730)"
            ]
          },
          "metadata": {}
        }
      ]
    },
    {
      "cell_type": "code",
      "source": [
        "gc.collect()"
      ],
      "metadata": {
        "colab": {
          "base_uri": "https://localhost:8080/"
        },
        "id": "Dl2mkMtllTUU",
        "outputId": "6680c4b1-90b9-4b7a-e6ff-6fa1a0f9f87f"
      },
      "execution_count": null,
      "outputs": [
        {
          "output_type": "stream",
          "name": "stdout",
          "text": [
            "WARNING:tensorflow:Detecting that an object or model or tf.train.Checkpoint is being deleted with unrestored values. See the following logs for the specific values in question. To silence these warnings, use `status.expect_partial()`. See https://www.tensorflow.org/api_docs/python/tf/train/Checkpoint#restorefor details about the status object returned by the restore function.\n"
          ]
        },
        {
          "output_type": "stream",
          "name": "stderr",
          "text": [
            "WARNING:tensorflow:Detecting that an object or model or tf.train.Checkpoint is being deleted with unrestored values. See the following logs for the specific values in question. To silence these warnings, use `status.expect_partial()`. See https://www.tensorflow.org/api_docs/python/tf/train/Checkpoint#restorefor details about the status object returned by the restore function.\n"
          ]
        },
        {
          "output_type": "stream",
          "name": "stdout",
          "text": [
            "WARNING:tensorflow:Value in checkpoint could not be found in the restored object: (root).layer-1.layer-0._random_generator._generator._state_var\n"
          ]
        },
        {
          "output_type": "stream",
          "name": "stderr",
          "text": [
            "WARNING:tensorflow:Value in checkpoint could not be found in the restored object: (root).layer-1.layer-0._random_generator._generator._state_var\n"
          ]
        },
        {
          "output_type": "stream",
          "name": "stdout",
          "text": [
            "WARNING:tensorflow:Value in checkpoint could not be found in the restored object: (root).layer-1.layer-1._random_generator._generator._state_var\n"
          ]
        },
        {
          "output_type": "stream",
          "name": "stderr",
          "text": [
            "WARNING:tensorflow:Value in checkpoint could not be found in the restored object: (root).layer-1.layer-1._random_generator._generator._state_var\n"
          ]
        },
        {
          "output_type": "stream",
          "name": "stdout",
          "text": [
            "WARNING:tensorflow:Value in checkpoint could not be found in the restored object: (root).layer-1.layer-2._random_generator._generator._state_var\n"
          ]
        },
        {
          "output_type": "stream",
          "name": "stderr",
          "text": [
            "WARNING:tensorflow:Value in checkpoint could not be found in the restored object: (root).layer-1.layer-2._random_generator._generator._state_var\n"
          ]
        },
        {
          "output_type": "stream",
          "name": "stdout",
          "text": [
            "WARNING:tensorflow:Value in checkpoint could not be found in the restored object: (root).layer-1.layer-3._random_generator._generator._state_var\n"
          ]
        },
        {
          "output_type": "stream",
          "name": "stderr",
          "text": [
            "WARNING:tensorflow:Value in checkpoint could not be found in the restored object: (root).layer-1.layer-3._random_generator._generator._state_var\n"
          ]
        },
        {
          "output_type": "stream",
          "name": "stdout",
          "text": [
            "WARNING:tensorflow:Value in checkpoint could not be found in the restored object: (root).layer-1.layer-4._random_generator._generator._state_var\n"
          ]
        },
        {
          "output_type": "stream",
          "name": "stderr",
          "text": [
            "WARNING:tensorflow:Value in checkpoint could not be found in the restored object: (root).layer-1.layer-4._random_generator._generator._state_var\n"
          ]
        },
        {
          "output_type": "stream",
          "name": "stdout",
          "text": [
            "WARNING:tensorflow:Value in checkpoint could not be found in the restored object: (root).layer-1.layer-5._random_generator._generator._state_var\n"
          ]
        },
        {
          "output_type": "stream",
          "name": "stderr",
          "text": [
            "WARNING:tensorflow:Value in checkpoint could not be found in the restored object: (root).layer-1.layer-5._random_generator._generator._state_var\n"
          ]
        },
        {
          "output_type": "execute_result",
          "data": {
            "text/plain": [
              "673384"
            ]
          },
          "metadata": {},
          "execution_count": 70
        }
      ]
    },
    {
      "cell_type": "code",
      "source": [
        "model_4.load_weights(\"model_101_foods_augmented_dropout_114end_v2_adamax\")"
      ],
      "metadata": {
        "colab": {
          "base_uri": "https://localhost:8080/"
        },
        "id": "xcCVA1rTqHuB",
        "outputId": "07b9fa87-2a80-4312-c464-c537d9833dcb"
      },
      "execution_count": null,
      "outputs": [
        {
          "output_type": "execute_result",
          "data": {
            "text/plain": [
              "<tensorflow.python.training.tracking.util.CheckpointLoadStatus at 0x7fe5e9d5abd0>"
            ]
          },
          "metadata": {},
          "execution_count": 74
        }
      ]
    },
    {
      "cell_type": "code",
      "source": [
        "model_5 = model_4"
      ],
      "metadata": {
        "id": "S8D_g0mVmZsE"
      },
      "execution_count": null,
      "outputs": []
    },
    {
      "cell_type": "code",
      "source": [
        "model_5.trainable = True\n",
        "\n",
        "for layer in model_4.layers[2].layers[:103]:\n",
        "  layer.trainable = False"
      ],
      "metadata": {
        "id": "NNb8e9pTm6Su"
      },
      "execution_count": null,
      "outputs": []
    },
    {
      "cell_type": "code",
      "source": [
        "# Fine-tune for another 4 epochs (or till called back)\n",
        "fine_tune_epochs = history_4_101_foods_all_augmented.epoch[-1] + 15\n",
        "\n",
        "# Recompile the model\n",
        "model_5.compile(loss=\"sparse_categorical_crossentropy\",\n",
        "                optimizer=tf.keras.optimizers.Adamax(learning_rate=0.0005),\n",
        "                metrics=[\"accuracy\"])\n",
        "\n",
        "# Fit the model\n",
        "history_5_101_foods_all_augmented = model_5.fit(train_data,\n",
        "                                                             epochs=fine_tune_epochs,\n",
        "                                                             validation_data=test_data,\n",
        "                                                             validation_steps=int(0.15*len(test_data)),\n",
        "                                                             callbacks=[create_tensorboard_callback(\n",
        "                                                                 \"training_log_aug\",\n",
        "                                                                 \"efficientnetb0_101_classes_all_data_augmented_fine_tuned_103endLayers\"\n",
        "                                                             ),\n",
        "                                                             callback],\n",
        "                                                             initial_epoch=history_4_101_foods_all_augmented.epoch[-1])\n",
        "                                                             #class_weight=tf_weights)\n"
      ],
      "metadata": {
        "colab": {
          "base_uri": "https://localhost:8080/"
        },
        "id": "W6zpY3eJbFyw",
        "outputId": "481ed2bc-7d2d-4930-ab8d-6d5b451fc8bb"
      },
      "execution_count": null,
      "outputs": [
        {
          "output_type": "stream",
          "name": "stdout",
          "text": [
            "Saving TensorBoard log files to: training_log_aug/efficientnetb0_101_classes_all_data_augmented_fine_tuned_16Layers/20220516-161911\n",
            "Epoch 43/57\n",
            "592/592 [==============================] - 192s 301ms/step - loss: 0.7403 - accuracy: 0.7895 - val_loss: 0.8217 - val_accuracy: 0.7729\n",
            "Epoch 44/57\n",
            "592/592 [==============================] - 176s 293ms/step - loss: 0.6483 - accuracy: 0.8143 - val_loss: 0.8257 - val_accuracy: 0.7697\n",
            "Epoch 45/57\n",
            "592/592 [==============================] - 172s 286ms/step - loss: 0.5999 - accuracy: 0.8260 - val_loss: 0.7264 - val_accuracy: 0.7969\n",
            "Epoch 46/57\n",
            "592/592 [==============================] - 177s 295ms/step - loss: 0.5509 - accuracy: 0.8395 - val_loss: 0.7942 - val_accuracy: 0.7812\n",
            "Epoch 47/57\n",
            "592/592 [==============================] - 176s 293ms/step - loss: 0.5018 - accuracy: 0.8523 - val_loss: 0.8104 - val_accuracy: 0.7718\n"
          ]
        }
      ]
    },
    {
      "cell_type": "code",
      "execution_count": null,
      "metadata": {
        "colab": {
          "base_uri": "https://localhost:8080/"
        },
        "id": "2NNWiTSmn6jU",
        "outputId": "de6416fd-cce0-46bc-eca0-2a377324ccb9"
      },
      "outputs": [
        {
          "output_type": "stream",
          "name": "stdout",
          "text": [
            "790/790 [==============================] - 51s 65ms/step - loss: 0.9363 - accuracy: 0.7516\n",
            "790/790 [==============================] - 50s 63ms/step - loss: 0.9363 - accuracy: 0.7516\n"
          ]
        },
        {
          "output_type": "execute_result",
          "data": {
            "text/plain": [
              "([0.9362660050392151, 0.7516039609909058],\n",
              " [0.936265766620636, 0.7516039609909058])"
            ]
          },
          "metadata": {},
          "execution_count": 86
        }
      ],
      "source": [
        "# Evaluate the performance of model_4 and model_5 since validation only looks at 15% of the test data\n",
        "model_4.evaluate(test_data), model_5.evaluate(test_data)"
      ]
    },
    {
      "cell_type": "code",
      "execution_count": null,
      "metadata": {
        "id": "fij4hi2dnt5B",
        "colab": {
          "base_uri": "https://localhost:8080/",
          "height": 573
        },
        "outputId": "1442fc13-15a2-4fea-9888-b03e71b3baef"
      },
      "outputs": [
        {
          "output_type": "display_data",
          "data": {
            "text/plain": [
              "<Figure size 432x288 with 1 Axes>"
            ],
            "image/png": "[encoded data removed]"
          },
          "metadata": {
            "needs_background": "light"
          }
        },
        {
          "output_type": "display_data",
          "data": {
            "text/plain": [
              "<Figure size 432x288 with 1 Axes>"
            ],
            "image/png": "[encoded data removed]"
          },
          "metadata": {
            "needs_background": "light"
          }
        }
      ],
      "source": [
        "plot_loss_curves(history_5_101_foods_all_augmented)"
      ]
    },
    {
      "cell_type": "code",
      "execution_count": null,
      "metadata": {
        "colab": {
          "base_uri": "https://localhost:8080/",
          "height": 513
        },
        "id": "3hP87BQQnwwj",
        "outputId": "b345ef68-50f6-4bca-9bc6-72b62825e212"
      },
      "outputs": [
        {
          "output_type": "display_data",
          "data": {
            "text/plain": [
              "<Figure size 576x576 with 2 Axes>"
            ],
            "image/png": "[encoded data removed]"
          },
          "metadata": {
            "needs_background": "light"
          }
        }
      ],
      "source": [
        "compare_historys(history_5_101_foods_all_augmented,history_5_101_foods_all_augmented, initial_epochs=5)"
      ]
    },
    {
      "cell_type": "code",
      "source": [
        "model_5.save(\"model_101_foods_augmented_dropout_103end_v2_adamax_best\")\n",
        "# Colab commands to download the model\n",
        "!zip -r /content/model_101_foods_augmented_dropout_103end_v2_adamax_best.zip /content/model_101_foods_augmented_dropout_103end_v2_adamax_best\n",
        "!zip -r /content/training_log_aug.zip /content/training_log_aug\n",
        "\n",
        "# Download the file \n",
        "from google.colab import files\n",
        "files.download(\"/content/model_101_foods_augmented_dropout_103end_v2_adamax_best.zip\")\n",
        "files.download(\"/content/training_log_aug.zip\")"
      ],
      "metadata": {
        "id": "FCHTXm3YujgT"
      },
      "execution_count": null,
      "outputs": []
    },
    {
      "cell_type": "code",
      "source": [
        "model_6 = tf.keras.models.load_model(\"model_101_foods_augmented_dropout_103end_v2_adamax_best\")"
      ],
      "metadata": {
        "id": "gSvyZQV7-FC6"
      },
      "execution_count": null,
      "outputs": []
    },
    {
      "cell_type": "code",
      "source": [
        "gc.collect()"
      ],
      "metadata": {
        "colab": {
          "base_uri": "https://localhost:8080/"
        },
        "id": "2jux-1tUvRdq",
        "outputId": "df893b57-6286-41de-a58d-331feb18cdc6"
      },
      "execution_count": 93,
      "outputs": [
        {
          "output_type": "execute_result",
          "data": {
            "text/plain": [
              "5762"
            ]
          },
          "metadata": {},
          "execution_count": 93
        }
      ]
    },
    {
      "cell_type": "code",
      "source": [
        "# perform the experiment before once again \n",
        "# Unfreeze the last 20 layers\n",
        "model_6.trainable = True\n",
        "for layer in model_6.layers[2].layers[:-201]:\n",
        "  layer.trainable = False\n",
        "for layer in model_6.layers[2].layers[-181:]:\n",
        "  layer.trainable = False"
      ],
      "metadata": {
        "id": "M1dmA3T-oePr"
      },
      "execution_count": 94,
      "outputs": []
    },
    {
      "cell_type": "code",
      "source": [
        "for i, layer in enumerate(model_6.layers[2].layers):\n",
        "  print(i, layer.trainable, layer.name)"
      ],
      "metadata": {
        "colab": {
          "base_uri": "https://localhost:8080/"
        },
        "id": "2ly8dHd5ti1n",
        "outputId": "49229d1d-4280-409c-b822-f7232450ac29"
      },
      "execution_count": 95,
      "outputs": [
        {
          "output_type": "stream",
          "name": "stdout",
          "text": [
            "0 False input_1\n",
            "1 False rescaling\n",
            "2 False normalization\n",
            "3 False stem_conv\n",
            "4 False stem_bn\n",
            "5 False stem_activation\n",
            "6 False block1a_project_conv\n",
            "7 False block1a_project_bn\n",
            "8 False block1a_project_activation\n",
            "9 False block2a_expand_conv\n",
            "10 False block2a_expand_bn\n",
            "11 False block2a_expand_activation\n",
            "12 False block2a_project_conv\n",
            "13 False block2a_project_bn\n",
            "14 False block2b_expand_conv\n",
            "15 False block2b_expand_bn\n",
            "16 False block2b_expand_activation\n",
            "17 False block2b_project_conv\n",
            "18 False block2b_project_bn\n",
            "19 False block2b_add\n",
            "20 False block3a_expand_conv\n",
            "21 False block3a_expand_bn\n",
            "22 False block3a_expand_activation\n",
            "23 False block3a_project_conv\n",
            "24 False block3a_project_bn\n",
            "25 False block3b_expand_conv\n",
            "26 False block3b_expand_bn\n",
            "27 False block3b_expand_activation\n",
            "28 False block3b_project_conv\n",
            "29 False block3b_project_bn\n",
            "30 False block3b_add\n",
            "31 False block4a_expand_conv\n",
            "32 False block4a_expand_bn\n",
            "33 False block4a_expand_activation\n",
            "34 False block4a_dwconv2\n",
            "35 False block4a_bn\n",
            "36 False block4a_activation\n",
            "37 False block4a_se_squeeze\n",
            "38 False block4a_se_reshape\n",
            "39 False block4a_se_reduce\n",
            "40 False block4a_se_expand\n",
            "41 False block4a_se_excite\n",
            "42 False block4a_project_conv\n",
            "43 False block4a_project_bn\n",
            "44 False block4b_expand_conv\n",
            "45 False block4b_expand_bn\n",
            "46 False block4b_expand_activation\n",
            "47 False block4b_dwconv2\n",
            "48 False block4b_bn\n",
            "49 False block4b_activation\n",
            "50 False block4b_se_squeeze\n",
            "51 False block4b_se_reshape\n",
            "52 False block4b_se_reduce\n",
            "53 False block4b_se_expand\n",
            "54 True block4b_se_excite\n",
            "55 True block4b_project_conv\n",
            "56 True block4b_project_bn\n",
            "57 True block4b_add\n",
            "58 True block4c_expand_conv\n",
            "59 True block4c_expand_bn\n",
            "60 True block4c_expand_activation\n",
            "61 True block4c_dwconv2\n",
            "62 True block4c_bn\n",
            "63 True block4c_activation\n",
            "64 True block4c_se_squeeze\n",
            "65 True block4c_se_reshape\n",
            "66 True block4c_se_reduce\n",
            "67 True block4c_se_expand\n",
            "68 True block4c_se_excite\n",
            "69 True block4c_project_conv\n",
            "70 True block4c_project_bn\n",
            "71 True block4c_add\n",
            "72 True block5a_expand_conv\n",
            "73 True block5a_expand_bn\n",
            "74 False block5a_expand_activation\n",
            "75 False block5a_dwconv2\n",
            "76 False block5a_bn\n",
            "77 False block5a_activation\n",
            "78 False block5a_se_squeeze\n",
            "79 False block5a_se_reshape\n",
            "80 False block5a_se_reduce\n",
            "81 False block5a_se_expand\n",
            "82 False block5a_se_excite\n",
            "83 False block5a_project_conv\n",
            "84 False block5a_project_bn\n",
            "85 False block5b_expand_conv\n",
            "86 False block5b_expand_bn\n",
            "87 False block5b_expand_activation\n",
            "88 False block5b_dwconv2\n",
            "89 False block5b_bn\n",
            "90 False block5b_activation\n",
            "91 False block5b_se_squeeze\n",
            "92 False block5b_se_reshape\n",
            "93 False block5b_se_reduce\n",
            "94 False block5b_se_expand\n",
            "95 False block5b_se_excite\n",
            "96 False block5b_project_conv\n",
            "97 False block5b_project_bn\n",
            "98 False block5b_add\n",
            "99 False block5c_expand_conv\n",
            "100 False block5c_expand_bn\n",
            "101 False block5c_expand_activation\n",
            "102 False block5c_dwconv2\n",
            "103 False block5c_bn\n",
            "104 False block5c_activation\n",
            "105 False block5c_se_squeeze\n",
            "106 False block5c_se_reshape\n",
            "107 False block5c_se_reduce\n",
            "108 False block5c_se_expand\n",
            "109 False block5c_se_excite\n",
            "110 False block5c_project_conv\n",
            "111 False block5c_project_bn\n",
            "112 False block5c_add\n",
            "113 False block5d_expand_conv\n",
            "114 False block5d_expand_bn\n",
            "115 False block5d_expand_activation\n",
            "116 False block5d_dwconv2\n",
            "117 False block5d_bn\n",
            "118 False block5d_activation\n",
            "119 False block5d_se_squeeze\n",
            "120 False block5d_se_reshape\n",
            "121 False block5d_se_reduce\n",
            "122 False block5d_se_expand\n",
            "123 False block5d_se_excite\n",
            "124 False block5d_project_conv\n",
            "125 False block5d_project_bn\n",
            "126 False block5d_add\n",
            "127 False block5e_expand_conv\n",
            "128 False block5e_expand_bn\n",
            "129 False block5e_expand_activation\n",
            "130 False block5e_dwconv2\n",
            "131 False block5e_bn\n",
            "132 False block5e_activation\n",
            "133 False block5e_se_squeeze\n",
            "134 False block5e_se_reshape\n",
            "135 False block5e_se_reduce\n",
            "136 False block5e_se_expand\n",
            "137 False block5e_se_excite\n",
            "138 False block5e_project_conv\n",
            "139 False block5e_project_bn\n",
            "140 False block5e_add\n",
            "141 False block6a_expand_conv\n",
            "142 False block6a_expand_bn\n",
            "143 False block6a_expand_activation\n",
            "144 False block6a_dwconv2\n",
            "145 False block6a_bn\n",
            "146 False block6a_activation\n",
            "147 False block6a_se_squeeze\n",
            "148 False block6a_se_reshape\n",
            "149 False block6a_se_reduce\n",
            "150 False block6a_se_expand\n",
            "151 False block6a_se_excite\n",
            "152 False block6a_project_conv\n",
            "153 False block6a_project_bn\n",
            "154 False block6b_expand_conv\n",
            "155 False block6b_expand_bn\n",
            "156 False block6b_expand_activation\n",
            "157 False block6b_dwconv2\n",
            "158 False block6b_bn\n",
            "159 False block6b_activation\n",
            "160 False block6b_se_squeeze\n",
            "161 False block6b_se_reshape\n",
            "162 False block6b_se_reduce\n",
            "163 False block6b_se_expand\n",
            "164 False block6b_se_excite\n",
            "165 False block6b_project_conv\n",
            "166 False block6b_project_bn\n",
            "167 False block6b_add\n",
            "168 False block6c_expand_conv\n",
            "169 False block6c_expand_bn\n",
            "170 False block6c_expand_activation\n",
            "171 False block6c_dwconv2\n",
            "172 False block6c_bn\n",
            "173 False block6c_activation\n",
            "174 False block6c_se_squeeze\n",
            "175 False block6c_se_reshape\n",
            "176 False block6c_se_reduce\n",
            "177 False block6c_se_expand\n",
            "178 False block6c_se_excite\n",
            "179 False block6c_project_conv\n",
            "180 False block6c_project_bn\n",
            "181 False block6c_add\n",
            "182 False block6d_expand_conv\n",
            "183 False block6d_expand_bn\n",
            "184 False block6d_expand_activation\n",
            "185 False block6d_dwconv2\n",
            "186 False block6d_bn\n",
            "187 False block6d_activation\n",
            "188 False block6d_se_squeeze\n",
            "189 False block6d_se_reshape\n",
            "190 False block6d_se_reduce\n",
            "191 False block6d_se_expand\n",
            "192 False block6d_se_excite\n",
            "193 False block6d_project_conv\n",
            "194 False block6d_project_bn\n",
            "195 False block6d_add\n",
            "196 False block6e_expand_conv\n",
            "197 False block6e_expand_bn\n",
            "198 False block6e_expand_activation\n",
            "199 False block6e_dwconv2\n",
            "200 False block6e_bn\n",
            "201 False block6e_activation\n",
            "202 False block6e_se_squeeze\n",
            "203 False block6e_se_reshape\n",
            "204 False block6e_se_reduce\n",
            "205 False block6e_se_expand\n",
            "206 False block6e_se_excite\n",
            "207 False block6e_project_conv\n",
            "208 False block6e_project_bn\n",
            "209 False block6e_add\n",
            "210 False block6f_expand_conv\n",
            "211 False block6f_expand_bn\n",
            "212 False block6f_expand_activation\n",
            "213 False block6f_dwconv2\n",
            "214 False block6f_bn\n",
            "215 False block6f_activation\n",
            "216 False block6f_se_squeeze\n",
            "217 False block6f_se_reshape\n",
            "218 False block6f_se_reduce\n",
            "219 False block6f_se_expand\n",
            "220 False block6f_se_excite\n",
            "221 False block6f_project_conv\n",
            "222 False block6f_project_bn\n",
            "223 False block6f_add\n",
            "224 False block6g_expand_conv\n",
            "225 False block6g_expand_bn\n",
            "226 False block6g_expand_activation\n",
            "227 False block6g_dwconv2\n",
            "228 False block6g_bn\n",
            "229 False block6g_activation\n",
            "230 False block6g_se_squeeze\n",
            "231 False block6g_se_reshape\n",
            "232 False block6g_se_reduce\n",
            "233 False block6g_se_expand\n",
            "234 False block6g_se_excite\n",
            "235 False block6g_project_conv\n",
            "236 False block6g_project_bn\n",
            "237 False block6g_add\n",
            "238 False block6h_expand_conv\n",
            "239 False block6h_expand_bn\n",
            "240 False block6h_expand_activation\n",
            "241 False block6h_dwconv2\n",
            "242 False block6h_bn\n",
            "243 False block6h_activation\n",
            "244 False block6h_se_squeeze\n",
            "245 False block6h_se_reshape\n",
            "246 False block6h_se_reduce\n",
            "247 False block6h_se_expand\n",
            "248 False block6h_se_excite\n",
            "249 False block6h_project_conv\n",
            "250 False block6h_project_bn\n",
            "251 False block6h_add\n",
            "252 False top_conv\n",
            "253 False top_bn\n",
            "254 False top_activation\n"
          ]
        }
      ]
    },
    {
      "cell_type": "code",
      "source": [
        "# class_weights = [1.15 if i>44 and i<60 or i>69 and i<80 else 1. for i in range(0,101)]\n",
        "# tf_weights = {}\n",
        "# for i in range(101):\n",
        "#   tf_weights[i] = class_weights[i]"
      ],
      "metadata": {
        "id": "2LH2nihpozI9"
      },
      "execution_count": null,
      "outputs": []
    },
    {
      "cell_type": "code",
      "source": [
        "# Recompile the model\n",
        "model_6.compile(loss=\"sparse_categorical_crossentropy\",\n",
        "                optimizer=tf.keras.optimizers.Adamax(learning_rate=0.0001),\n",
        "                metrics=[\"accuracy\"])\n",
        "\n",
        "# Fit the model\n",
        "history_6 = model_6.fit(train_data,\n",
        "                        epochs=history_5_101_foods_all_augmented.epoch[-1]+10,\n",
        "                        validation_data=test_data,\n",
        "                        validation_steps=int(0.15*len(test_data)),\n",
        "                        callbacks=[create_tensorboard_callback(\n",
        "                            \"training_log_aug\",\n",
        "                            \"efficientnetb0_101_classes_all_data_augmented_fine_tuned_210181endLayers\"\n",
        "                        ),\n",
        "                        callback],\n",
        "                        initial_epoch=history_5_101_foods_all_augmented.epoch[-1])\n"
      ],
      "metadata": {
        "colab": {
          "base_uri": "https://localhost:8080/",
          "height": 536
        },
        "id": "lW7mYicNLVot",
        "outputId": "60e5b150-2cbd-4d0a-c54c-f0a46f19e2f0"
      },
      "execution_count": 96,
      "outputs": [
        {
          "output_type": "stream",
          "name": "stdout",
          "text": [
            "Saving TensorBoard log files to: training_log_aug/efficientnetb0_101_classes_all_data_augmented_fine_tuned_210181endLayers/20220516-165809\n",
            "Epoch 47/56\n",
            "592/592 [==============================] - 186s 295ms/step - loss: 0.4637 - accuracy: 0.8652 - val_loss: 0.7649 - val_accuracy: 0.7899\n",
            "Epoch 48/56\n",
            "592/592 [==============================] - 174s 290ms/step - loss: 0.4568 - accuracy: 0.8683 - val_loss: 0.7703 - val_accuracy: 0.7899\n",
            "Epoch 49/56\n",
            "592/592 [==============================] - 173s 288ms/step - loss: 0.4581 - accuracy: 0.8671 - val_loss: 0.7648 - val_accuracy: 0.7915\n",
            "Epoch 50/56\n",
            "592/592 [==============================] - 174s 290ms/step - loss: 0.4576 - accuracy: 0.8669 - val_loss: 0.7637 - val_accuracy: 0.7891\n",
            "Epoch 51/56\n",
            " 45/592 [=>............................] - ETA: 2:35 - loss: 0.4611 - accuracy: 0.8651"
          ]
        },
        {
          "output_type": "error",
          "ename": "KeyboardInterrupt",
          "evalue": "ignored",
          "traceback": [
            "\u001b[0;31m---------------------------------------------------------------------------\u001b[0m",
            "\u001b[0;31mKeyboardInterrupt\u001b[0m                         Traceback (most recent call last)",
            "\u001b[0;32m<ipython-input-96-7b1656551298>\u001b[0m in \u001b[0;36m<module>\u001b[0;34m()\u001b[0m\n\u001b[1;32m     14\u001b[0m                         ),\n\u001b[1;32m     15\u001b[0m                         callback],\n\u001b[0;32m---> 16\u001b[0;31m                         initial_epoch=history_5_101_foods_all_augmented.epoch[-1])\n\u001b[0m",
            "\u001b[0;32m/usr/local/lib/python3.7/dist-packages/keras/utils/traceback_utils.py\u001b[0m in \u001b[0;36merror_handler\u001b[0;34m(*args, **kwargs)\u001b[0m\n\u001b[1;32m     62\u001b[0m     \u001b[0mfiltered_tb\u001b[0m \u001b[0;34m=\u001b[0m \u001b[0;32mNone\u001b[0m\u001b[0;34m\u001b[0m\u001b[0;34m\u001b[0m\u001b[0m\n\u001b[1;32m     63\u001b[0m     \u001b[0;32mtry\u001b[0m\u001b[0;34m:\u001b[0m\u001b[0;34m\u001b[0m\u001b[0;34m\u001b[0m\u001b[0m\n\u001b[0;32m---> 64\u001b[0;31m       \u001b[0;32mreturn\u001b[0m \u001b[0mfn\u001b[0m\u001b[0;34m(\u001b[0m\u001b[0;34m*\u001b[0m\u001b[0margs\u001b[0m\u001b[0;34m,\u001b[0m \u001b[0;34m**\u001b[0m\u001b[0mkwargs\u001b[0m\u001b[0;34m)\u001b[0m\u001b[0;34m\u001b[0m\u001b[0;34m\u001b[0m\u001b[0m\n\u001b[0m\u001b[1;32m     65\u001b[0m     \u001b[0;32mexcept\u001b[0m \u001b[0mException\u001b[0m \u001b[0;32mas\u001b[0m \u001b[0me\u001b[0m\u001b[0;34m:\u001b[0m  \u001b[0;31m# pylint: disable=broad-except\u001b[0m\u001b[0;34m\u001b[0m\u001b[0;34m\u001b[0m\u001b[0m\n\u001b[1;32m     66\u001b[0m       \u001b[0mfiltered_tb\u001b[0m \u001b[0;34m=\u001b[0m \u001b[0m_process_traceback_frames\u001b[0m\u001b[0;34m(\u001b[0m\u001b[0me\u001b[0m\u001b[0;34m.\u001b[0m\u001b[0m__traceback__\u001b[0m\u001b[0;34m)\u001b[0m\u001b[0;34m\u001b[0m\u001b[0;34m\u001b[0m\u001b[0m\n",
            "\u001b[0;32m/usr/local/lib/python3.7/dist-packages/keras/engine/training.py\u001b[0m in \u001b[0;36mfit\u001b[0;34m(self, x, y, batch_size, epochs, verbose, callbacks, validation_split, validation_data, shuffle, class_weight, sample_weight, initial_epoch, steps_per_epoch, validation_steps, validation_batch_size, validation_freq, max_queue_size, workers, use_multiprocessing)\u001b[0m\n\u001b[1;32m   1382\u001b[0m                 _r=1):\n\u001b[1;32m   1383\u001b[0m               \u001b[0mcallbacks\u001b[0m\u001b[0;34m.\u001b[0m\u001b[0mon_train_batch_begin\u001b[0m\u001b[0;34m(\u001b[0m\u001b[0mstep\u001b[0m\u001b[0;34m)\u001b[0m\u001b[0;34m\u001b[0m\u001b[0;34m\u001b[0m\u001b[0m\n\u001b[0;32m-> 1384\u001b[0;31m               \u001b[0mtmp_logs\u001b[0m \u001b[0;34m=\u001b[0m \u001b[0mself\u001b[0m\u001b[0;34m.\u001b[0m\u001b[0mtrain_function\u001b[0m\u001b[0;34m(\u001b[0m\u001b[0miterator\u001b[0m\u001b[0;34m)\u001b[0m\u001b[0;34m\u001b[0m\u001b[0;34m\u001b[0m\u001b[0m\n\u001b[0m\u001b[1;32m   1385\u001b[0m               \u001b[0;32mif\u001b[0m \u001b[0mdata_handler\u001b[0m\u001b[0;34m.\u001b[0m\u001b[0mshould_sync\u001b[0m\u001b[0;34m:\u001b[0m\u001b[0;34m\u001b[0m\u001b[0;34m\u001b[0m\u001b[0m\n\u001b[1;32m   1386\u001b[0m                 \u001b[0mcontext\u001b[0m\u001b[0;34m.\u001b[0m\u001b[0masync_wait\u001b[0m\u001b[0;34m(\u001b[0m\u001b[0;34m)\u001b[0m\u001b[0;34m\u001b[0m\u001b[0;34m\u001b[0m\u001b[0m\n",
            "\u001b[0;32m/usr/local/lib/python3.7/dist-packages/tensorflow/python/util/traceback_utils.py\u001b[0m in \u001b[0;36merror_handler\u001b[0;34m(*args, **kwargs)\u001b[0m\n\u001b[1;32m    148\u001b[0m     \u001b[0mfiltered_tb\u001b[0m \u001b[0;34m=\u001b[0m \u001b[0;32mNone\u001b[0m\u001b[0;34m\u001b[0m\u001b[0;34m\u001b[0m\u001b[0m\n\u001b[1;32m    149\u001b[0m     \u001b[0;32mtry\u001b[0m\u001b[0;34m:\u001b[0m\u001b[0;34m\u001b[0m\u001b[0;34m\u001b[0m\u001b[0m\n\u001b[0;32m--> 150\u001b[0;31m       \u001b[0;32mreturn\u001b[0m \u001b[0mfn\u001b[0m\u001b[0;34m(\u001b[0m\u001b[0;34m*\u001b[0m\u001b[0margs\u001b[0m\u001b[0;34m,\u001b[0m \u001b[0;34m**\u001b[0m\u001b[0mkwargs\u001b[0m\u001b[0;34m)\u001b[0m\u001b[0;34m\u001b[0m\u001b[0;34m\u001b[0m\u001b[0m\n\u001b[0m\u001b[1;32m    151\u001b[0m     \u001b[0;32mexcept\u001b[0m \u001b[0mException\u001b[0m \u001b[0;32mas\u001b[0m \u001b[0me\u001b[0m\u001b[0;34m:\u001b[0m\u001b[0;34m\u001b[0m\u001b[0;34m\u001b[0m\u001b[0m\n\u001b[1;32m    152\u001b[0m       \u001b[0mfiltered_tb\u001b[0m \u001b[0;34m=\u001b[0m \u001b[0m_process_traceback_frames\u001b[0m\u001b[0;34m(\u001b[0m\u001b[0me\u001b[0m\u001b[0;34m.\u001b[0m\u001b[0m__traceback__\u001b[0m\u001b[0;34m)\u001b[0m\u001b[0;34m\u001b[0m\u001b[0;34m\u001b[0m\u001b[0m\n",
            "\u001b[0;32m/usr/local/lib/python3.7/dist-packages/tensorflow/python/eager/def_function.py\u001b[0m in \u001b[0;36m__call__\u001b[0;34m(self, *args, **kwds)\u001b[0m\n\u001b[1;32m    913\u001b[0m \u001b[0;34m\u001b[0m\u001b[0m\n\u001b[1;32m    914\u001b[0m       \u001b[0;32mwith\u001b[0m \u001b[0mOptionalXlaContext\u001b[0m\u001b[0;34m(\u001b[0m\u001b[0mself\u001b[0m\u001b[0;34m.\u001b[0m\u001b[0m_jit_compile\u001b[0m\u001b[0;34m)\u001b[0m\u001b[0;34m:\u001b[0m\u001b[0;34m\u001b[0m\u001b[0;34m\u001b[0m\u001b[0m\n\u001b[0;32m--> 915\u001b[0;31m         \u001b[0mresult\u001b[0m \u001b[0;34m=\u001b[0m \u001b[0mself\u001b[0m\u001b[0;34m.\u001b[0m\u001b[0m_call\u001b[0m\u001b[0;34m(\u001b[0m\u001b[0;34m*\u001b[0m\u001b[0margs\u001b[0m\u001b[0;34m,\u001b[0m \u001b[0;34m**\u001b[0m\u001b[0mkwds\u001b[0m\u001b[0;34m)\u001b[0m\u001b[0;34m\u001b[0m\u001b[0;34m\u001b[0m\u001b[0m\n\u001b[0m\u001b[1;32m    916\u001b[0m \u001b[0;34m\u001b[0m\u001b[0m\n\u001b[1;32m    917\u001b[0m       \u001b[0mnew_tracing_count\u001b[0m \u001b[0;34m=\u001b[0m \u001b[0mself\u001b[0m\u001b[0;34m.\u001b[0m\u001b[0mexperimental_get_tracing_count\u001b[0m\u001b[0;34m(\u001b[0m\u001b[0;34m)\u001b[0m\u001b[0;34m\u001b[0m\u001b[0;34m\u001b[0m\u001b[0m\n",
            "\u001b[0;32m/usr/local/lib/python3.7/dist-packages/tensorflow/python/eager/def_function.py\u001b[0m in \u001b[0;36m_call\u001b[0;34m(self, *args, **kwds)\u001b[0m\n\u001b[1;32m    945\u001b[0m       \u001b[0;31m# In this case we have created variables on the first call, so we run the\u001b[0m\u001b[0;34m\u001b[0m\u001b[0;34m\u001b[0m\u001b[0;34m\u001b[0m\u001b[0m\n\u001b[1;32m    946\u001b[0m       \u001b[0;31m# defunned version which is guaranteed to never create variables.\u001b[0m\u001b[0;34m\u001b[0m\u001b[0;34m\u001b[0m\u001b[0;34m\u001b[0m\u001b[0m\n\u001b[0;32m--> 947\u001b[0;31m       \u001b[0;32mreturn\u001b[0m \u001b[0mself\u001b[0m\u001b[0;34m.\u001b[0m\u001b[0m_stateless_fn\u001b[0m\u001b[0;34m(\u001b[0m\u001b[0;34m*\u001b[0m\u001b[0margs\u001b[0m\u001b[0;34m,\u001b[0m \u001b[0;34m**\u001b[0m\u001b[0mkwds\u001b[0m\u001b[0;34m)\u001b[0m  \u001b[0;31m# pylint: disable=not-callable\u001b[0m\u001b[0;34m\u001b[0m\u001b[0;34m\u001b[0m\u001b[0m\n\u001b[0m\u001b[1;32m    948\u001b[0m     \u001b[0;32melif\u001b[0m \u001b[0mself\u001b[0m\u001b[0;34m.\u001b[0m\u001b[0m_stateful_fn\u001b[0m \u001b[0;32mis\u001b[0m \u001b[0;32mnot\u001b[0m \u001b[0;32mNone\u001b[0m\u001b[0;34m:\u001b[0m\u001b[0;34m\u001b[0m\u001b[0;34m\u001b[0m\u001b[0m\n\u001b[1;32m    949\u001b[0m       \u001b[0;31m# Release the lock early so that multiple threads can perform the call\u001b[0m\u001b[0;34m\u001b[0m\u001b[0;34m\u001b[0m\u001b[0;34m\u001b[0m\u001b[0m\n",
            "\u001b[0;32m/usr/local/lib/python3.7/dist-packages/tensorflow/python/eager/function.py\u001b[0m in \u001b[0;36m__call__\u001b[0;34m(self, *args, **kwargs)\u001b[0m\n\u001b[1;32m   2955\u001b[0m        filtered_flat_args) = self._maybe_define_function(args, kwargs)\n\u001b[1;32m   2956\u001b[0m     return graph_function._call_flat(\n\u001b[0;32m-> 2957\u001b[0;31m         filtered_flat_args, captured_inputs=graph_function.captured_inputs)  # pylint: disable=protected-access\n\u001b[0m\u001b[1;32m   2958\u001b[0m \u001b[0;34m\u001b[0m\u001b[0m\n\u001b[1;32m   2959\u001b[0m   \u001b[0;34m@\u001b[0m\u001b[0mproperty\u001b[0m\u001b[0;34m\u001b[0m\u001b[0;34m\u001b[0m\u001b[0m\n",
            "\u001b[0;32m/usr/local/lib/python3.7/dist-packages/tensorflow/python/eager/function.py\u001b[0m in \u001b[0;36m_call_flat\u001b[0;34m(self, args, captured_inputs, cancellation_manager)\u001b[0m\n\u001b[1;32m   1852\u001b[0m       \u001b[0;31m# No tape is watching; skip to running the function.\u001b[0m\u001b[0;34m\u001b[0m\u001b[0;34m\u001b[0m\u001b[0;34m\u001b[0m\u001b[0m\n\u001b[1;32m   1853\u001b[0m       return self._build_call_outputs(self._inference_function.call(\n\u001b[0;32m-> 1854\u001b[0;31m           ctx, args, cancellation_manager=cancellation_manager))\n\u001b[0m\u001b[1;32m   1855\u001b[0m     forward_backward = self._select_forward_and_backward_functions(\n\u001b[1;32m   1856\u001b[0m         \u001b[0margs\u001b[0m\u001b[0;34m,\u001b[0m\u001b[0;34m\u001b[0m\u001b[0;34m\u001b[0m\u001b[0m\n",
            "\u001b[0;32m/usr/local/lib/python3.7/dist-packages/tensorflow/python/eager/function.py\u001b[0m in \u001b[0;36mcall\u001b[0;34m(self, ctx, args, cancellation_manager)\u001b[0m\n\u001b[1;32m    502\u001b[0m               \u001b[0minputs\u001b[0m\u001b[0;34m=\u001b[0m\u001b[0margs\u001b[0m\u001b[0;34m,\u001b[0m\u001b[0;34m\u001b[0m\u001b[0;34m\u001b[0m\u001b[0m\n\u001b[1;32m    503\u001b[0m               \u001b[0mattrs\u001b[0m\u001b[0;34m=\u001b[0m\u001b[0mattrs\u001b[0m\u001b[0;34m,\u001b[0m\u001b[0;34m\u001b[0m\u001b[0;34m\u001b[0m\u001b[0m\n\u001b[0;32m--> 504\u001b[0;31m               ctx=ctx)\n\u001b[0m\u001b[1;32m    505\u001b[0m         \u001b[0;32melse\u001b[0m\u001b[0;34m:\u001b[0m\u001b[0;34m\u001b[0m\u001b[0;34m\u001b[0m\u001b[0m\n\u001b[1;32m    506\u001b[0m           outputs = execute.execute_with_cancellation(\n",
            "\u001b[0;32m/usr/local/lib/python3.7/dist-packages/tensorflow/python/eager/execute.py\u001b[0m in \u001b[0;36mquick_execute\u001b[0;34m(op_name, num_outputs, inputs, attrs, ctx, name)\u001b[0m\n\u001b[1;32m     53\u001b[0m     \u001b[0mctx\u001b[0m\u001b[0;34m.\u001b[0m\u001b[0mensure_initialized\u001b[0m\u001b[0;34m(\u001b[0m\u001b[0;34m)\u001b[0m\u001b[0;34m\u001b[0m\u001b[0;34m\u001b[0m\u001b[0m\n\u001b[1;32m     54\u001b[0m     tensors = pywrap_tfe.TFE_Py_Execute(ctx._handle, device_name, op_name,\n\u001b[0;32m---> 55\u001b[0;31m                                         inputs, attrs, num_outputs)\n\u001b[0m\u001b[1;32m     56\u001b[0m   \u001b[0;32mexcept\u001b[0m \u001b[0mcore\u001b[0m\u001b[0;34m.\u001b[0m\u001b[0m_NotOkStatusException\u001b[0m \u001b[0;32mas\u001b[0m \u001b[0me\u001b[0m\u001b[0;34m:\u001b[0m\u001b[0;34m\u001b[0m\u001b[0;34m\u001b[0m\u001b[0m\n\u001b[1;32m     57\u001b[0m     \u001b[0;32mif\u001b[0m \u001b[0mname\u001b[0m \u001b[0;32mis\u001b[0m \u001b[0;32mnot\u001b[0m \u001b[0;32mNone\u001b[0m\u001b[0;34m:\u001b[0m\u001b[0;34m\u001b[0m\u001b[0;34m\u001b[0m\u001b[0m\n",
            "\u001b[0;31mKeyboardInterrupt\u001b[0m: "
          ]
        }
      ]
    },
    {
      "cell_type": "code",
      "source": [
        "plot_loss_curves(history_5_101_foods_all_augmented)"
      ],
      "metadata": {
        "colab": {
          "base_uri": "https://localhost:8080/",
          "height": 573
        },
        "id": "-DiXdSFFS1Ob",
        "outputId": "bb7c3f68-1939-4f12-b17e-93af78042491"
      },
      "execution_count": null,
      "outputs": [
        {
          "output_type": "display_data",
          "data": {
            "text/plain": [
              "<Figure size 432x288 with 1 Axes>"
            ],
            "image/png": "[encoded data removed]"
          },
          "metadata": {
            "needs_background": "light"
          }
        },
        {
          "output_type": "display_data",
          "data": {
            "text/plain": [
              "<Figure size 432x288 with 1 Axes>"
            ],
            "image/png": "[encoded data removed]"
          },
          "metadata": {
            "needs_background": "light"
          }
        }
      ]
    },
    {
      "cell_type": "code",
      "source": [
        "# perform the experiment before once again \n",
        "# Unfreeze the last 20 layers\n",
        "model_6.trainable = True\n",
        "for layer in model_6.layers[2].layers[:20]:\n",
        "  layer.trainable = False\n",
        "for layer in model_6.layers[2].layers[44:]:\n",
        "  layer.trainable = False"
      ],
      "metadata": {
        "id": "nljpOyVAs1RB"
      },
      "execution_count": null,
      "outputs": []
    },
    {
      "cell_type": "code",
      "source": [
        "for i, layer in enumerate(model_5_aug_fine_tuned_dropout.layers[2].layers):\n",
        "  print(i, layer.trainable, layer.name)"
      ],
      "metadata": {
        "colab": {
          "base_uri": "https://localhost:8080/"
        },
        "id": "MaFCeoBCuorA",
        "outputId": "ed9012a2-a702-4dab-8d17-7e652948f7af"
      },
      "execution_count": null,
      "outputs": [
        {
          "output_type": "stream",
          "name": "stdout",
          "text": [
            "0 False input_9\n",
            "1 False rescaling_8\n",
            "2 False normalization_8\n",
            "3 False stem_conv\n",
            "4 False stem_bn\n",
            "5 False stem_activation\n",
            "6 False block1a_project_conv\n",
            "7 False block1a_project_bn\n",
            "8 False block1a_project_activation\n",
            "9 False block2a_expand_conv\n",
            "10 False block2a_expand_bn\n",
            "11 False block2a_expand_activation\n",
            "12 False block2a_project_conv\n",
            "13 False block2a_project_bn\n",
            "14 False block2b_expand_conv\n",
            "15 False block2b_expand_bn\n",
            "16 False block2b_expand_activation\n",
            "17 False block2b_project_conv\n",
            "18 False block2b_project_bn\n",
            "19 False block2b_add\n",
            "20 True block3a_expand_conv\n",
            "21 True block3a_expand_bn\n",
            "22 True block3a_expand_activation\n",
            "23 True block3a_project_conv\n",
            "24 True block3a_project_bn\n",
            "25 True block3b_expand_conv\n",
            "26 True block3b_expand_bn\n",
            "27 True block3b_expand_activation\n",
            "28 True block3b_project_conv\n",
            "29 True block3b_project_bn\n",
            "30 True block3b_add\n",
            "31 True block4a_expand_conv\n",
            "32 True block4a_expand_bn\n",
            "33 True block4a_expand_activation\n",
            "34 True block4a_dwconv2\n",
            "35 True block4a_bn\n",
            "36 True block4a_activation\n",
            "37 True block4a_se_squeeze\n",
            "38 True block4a_se_reshape\n",
            "39 True block4a_se_reduce\n",
            "40 True block4a_se_expand\n",
            "41 True block4a_se_excite\n",
            "42 True block4a_project_conv\n",
            "43 True block4a_project_bn\n",
            "44 False block4b_expand_conv\n",
            "45 False block4b_expand_bn\n",
            "46 False block4b_expand_activation\n",
            "47 False block4b_dwconv2\n",
            "48 False block4b_bn\n",
            "49 False block4b_activation\n",
            "50 False block4b_se_squeeze\n",
            "51 False block4b_se_reshape\n",
            "52 False block4b_se_reduce\n",
            "53 False block4b_se_expand\n",
            "54 False block4b_se_excite\n",
            "55 False block4b_project_conv\n",
            "56 False block4b_project_bn\n",
            "57 False block4b_add\n",
            "58 False block4c_expand_conv\n",
            "59 False block4c_expand_bn\n",
            "60 False block4c_expand_activation\n",
            "61 False block4c_dwconv2\n",
            "62 False block4c_bn\n",
            "63 False block4c_activation\n",
            "64 False block4c_se_squeeze\n",
            "65 False block4c_se_reshape\n",
            "66 False block4c_se_reduce\n",
            "67 False block4c_se_expand\n",
            "68 False block4c_se_excite\n",
            "69 False block4c_project_conv\n",
            "70 False block4c_project_bn\n",
            "71 False block4c_add\n",
            "72 False block5a_expand_conv\n",
            "73 False block5a_expand_bn\n",
            "74 False block5a_expand_activation\n",
            "75 False block5a_dwconv2\n",
            "76 False block5a_bn\n",
            "77 False block5a_activation\n",
            "78 False block5a_se_squeeze\n",
            "79 False block5a_se_reshape\n",
            "80 False block5a_se_reduce\n",
            "81 False block5a_se_expand\n",
            "82 False block5a_se_excite\n",
            "83 False block5a_project_conv\n",
            "84 False block5a_project_bn\n",
            "85 False block5b_expand_conv\n",
            "86 False block5b_expand_bn\n",
            "87 False block5b_expand_activation\n",
            "88 False block5b_dwconv2\n",
            "89 False block5b_bn\n",
            "90 False block5b_activation\n",
            "91 False block5b_se_squeeze\n",
            "92 False block5b_se_reshape\n",
            "93 False block5b_se_reduce\n",
            "94 False block5b_se_expand\n",
            "95 False block5b_se_excite\n",
            "96 False block5b_project_conv\n",
            "97 False block5b_project_bn\n",
            "98 False block5b_add\n",
            "99 False block5c_expand_conv\n",
            "100 False block5c_expand_bn\n",
            "101 False block5c_expand_activation\n",
            "102 False block5c_dwconv2\n",
            "103 False block5c_bn\n",
            "104 False block5c_activation\n",
            "105 False block5c_se_squeeze\n",
            "106 False block5c_se_reshape\n",
            "107 False block5c_se_reduce\n",
            "108 False block5c_se_expand\n",
            "109 False block5c_se_excite\n",
            "110 False block5c_project_conv\n",
            "111 False block5c_project_bn\n",
            "112 False block5c_add\n",
            "113 False block5d_expand_conv\n",
            "114 False block5d_expand_bn\n",
            "115 False block5d_expand_activation\n",
            "116 False block5d_dwconv2\n",
            "117 False block5d_bn\n",
            "118 False block5d_activation\n",
            "119 False block5d_se_squeeze\n",
            "120 False block5d_se_reshape\n",
            "121 False block5d_se_reduce\n",
            "122 False block5d_se_expand\n",
            "123 False block5d_se_excite\n",
            "124 False block5d_project_conv\n",
            "125 False block5d_project_bn\n",
            "126 False block5d_add\n",
            "127 False block5e_expand_conv\n",
            "128 False block5e_expand_bn\n",
            "129 False block5e_expand_activation\n",
            "130 False block5e_dwconv2\n",
            "131 False block5e_bn\n",
            "132 False block5e_activation\n",
            "133 False block5e_se_squeeze\n",
            "134 False block5e_se_reshape\n",
            "135 False block5e_se_reduce\n",
            "136 False block5e_se_expand\n",
            "137 False block5e_se_excite\n",
            "138 False block5e_project_conv\n",
            "139 False block5e_project_bn\n",
            "140 False block5e_add\n",
            "141 False block6a_expand_conv\n",
            "142 False block6a_expand_bn\n",
            "143 False block6a_expand_activation\n",
            "144 False block6a_dwconv2\n",
            "145 False block6a_bn\n",
            "146 False block6a_activation\n",
            "147 False block6a_se_squeeze\n",
            "148 False block6a_se_reshape\n",
            "149 False block6a_se_reduce\n",
            "150 False block6a_se_expand\n",
            "151 False block6a_se_excite\n",
            "152 False block6a_project_conv\n",
            "153 False block6a_project_bn\n",
            "154 False block6b_expand_conv\n",
            "155 False block6b_expand_bn\n",
            "156 False block6b_expand_activation\n",
            "157 False block6b_dwconv2\n",
            "158 False block6b_bn\n",
            "159 False block6b_activation\n",
            "160 False block6b_se_squeeze\n",
            "161 False block6b_se_reshape\n",
            "162 False block6b_se_reduce\n",
            "163 False block6b_se_expand\n",
            "164 False block6b_se_excite\n",
            "165 False block6b_project_conv\n",
            "166 False block6b_project_bn\n",
            "167 False block6b_add\n",
            "168 False block6c_expand_conv\n",
            "169 False block6c_expand_bn\n",
            "170 False block6c_expand_activation\n",
            "171 False block6c_dwconv2\n",
            "172 False block6c_bn\n",
            "173 False block6c_activation\n",
            "174 False block6c_se_squeeze\n",
            "175 False block6c_se_reshape\n",
            "176 False block6c_se_reduce\n",
            "177 False block6c_se_expand\n",
            "178 False block6c_se_excite\n",
            "179 False block6c_project_conv\n",
            "180 False block6c_project_bn\n",
            "181 False block6c_add\n",
            "182 False block6d_expand_conv\n",
            "183 False block6d_expand_bn\n",
            "184 False block6d_expand_activation\n",
            "185 False block6d_dwconv2\n",
            "186 False block6d_bn\n",
            "187 False block6d_activation\n",
            "188 False block6d_se_squeeze\n",
            "189 False block6d_se_reshape\n",
            "190 False block6d_se_reduce\n",
            "191 False block6d_se_expand\n",
            "192 False block6d_se_excite\n",
            "193 False block6d_project_conv\n",
            "194 False block6d_project_bn\n",
            "195 False block6d_add\n",
            "196 False block6e_expand_conv\n",
            "197 False block6e_expand_bn\n",
            "198 False block6e_expand_activation\n",
            "199 False block6e_dwconv2\n",
            "200 False block6e_bn\n",
            "201 False block6e_activation\n",
            "202 False block6e_se_squeeze\n",
            "203 False block6e_se_reshape\n",
            "204 False block6e_se_reduce\n",
            "205 False block6e_se_expand\n",
            "206 False block6e_se_excite\n",
            "207 False block6e_project_conv\n",
            "208 False block6e_project_bn\n",
            "209 False block6e_add\n",
            "210 False block6f_expand_conv\n",
            "211 False block6f_expand_bn\n",
            "212 False block6f_expand_activation\n",
            "213 False block6f_dwconv2\n",
            "214 False block6f_bn\n",
            "215 False block6f_activation\n",
            "216 False block6f_se_squeeze\n",
            "217 False block6f_se_reshape\n",
            "218 False block6f_se_reduce\n",
            "219 False block6f_se_expand\n",
            "220 False block6f_se_excite\n",
            "221 False block6f_project_conv\n",
            "222 False block6f_project_bn\n",
            "223 False block6f_add\n",
            "224 False block6g_expand_conv\n",
            "225 False block6g_expand_bn\n",
            "226 False block6g_expand_activation\n",
            "227 False block6g_dwconv2\n",
            "228 False block6g_bn\n",
            "229 False block6g_activation\n",
            "230 False block6g_se_squeeze\n",
            "231 False block6g_se_reshape\n",
            "232 False block6g_se_reduce\n",
            "233 False block6g_se_expand\n",
            "234 False block6g_se_excite\n",
            "235 False block6g_project_conv\n",
            "236 False block6g_project_bn\n",
            "237 False block6g_add\n",
            "238 False block6h_expand_conv\n",
            "239 False block6h_expand_bn\n",
            "240 False block6h_expand_activation\n",
            "241 False block6h_dwconv2\n",
            "242 False block6h_bn\n",
            "243 False block6h_activation\n",
            "244 False block6h_se_squeeze\n",
            "245 False block6h_se_reshape\n",
            "246 False block6h_se_reduce\n",
            "247 False block6h_se_expand\n",
            "248 False block6h_se_excite\n",
            "249 False block6h_project_conv\n",
            "250 False block6h_project_bn\n",
            "251 False block6h_add\n",
            "252 False top_conv\n",
            "253 False top_bn\n",
            "254 False top_activation\n"
          ]
        }
      ]
    },
    {
      "cell_type": "code",
      "source": [
        "# Recompile the model\n",
        "model_6.compile(loss=\"sparse_categorical_crossentropy\",\n",
        "                optimizer=tf.keras.optimizers.Adam(learning_rate=0.0001),\n",
        "                metrics=[\"accuracy\"])\n",
        "\n",
        "# Fit the model\n",
        "history_6 = model_6.fit(train_data,\n",
        "                        epochs=history_5_101_foods_all_augmented.epoch[-1]+10,\n",
        "                        validation_data=test_data,\n",
        "                        validation_steps=int(0.15*len(test_data)),\n",
        "                        callbacks=[create_tensorboard_callback(\n",
        "                            \"training_log_aug\",\n",
        "                            \"efficientnetb0_101_classes_all_data_augmented_fine_tuned_16Layers\"\n",
        "                        ),\n",
        "                        callback],\n",
        "                        initial_epoch=history_5_101_foods_all_augmented.epoch[-1]-3)\n"
      ],
      "metadata": {
        "colab": {
          "base_uri": "https://localhost:8080/",
          "height": 467
        },
        "id": "JLtJcbeTuKgg",
        "outputId": "966b2ce8-74fe-4ca7-d337-34acbbd645f3"
      },
      "execution_count": null,
      "outputs": [
        {
          "output_type": "stream",
          "name": "stdout",
          "text": [
            "Saving TensorBoard log files to: training_log_aug/efficientnetb0_101_classes_all_data_augmented_fine_tuned_16Layers/20220515-172148\n",
            "Epoch 32/44\n",
            "2368/2368 [==============================] - 263s 107ms/step - loss: 0.5992 - accuracy: 0.8284 - val_loss: 0.8225 - val_accuracy: 0.7815\n",
            "Epoch 33/44\n",
            "2368/2368 [==============================] - 226s 95ms/step - loss: 0.5904 - accuracy: 0.8292 - val_loss: 0.8237 - val_accuracy: 0.7852\n",
            "Epoch 34/44\n",
            " 100/2368 [>.............................] - ETA: 3:33 - loss: 0.6059 - accuracy: 0.8216"
          ]
        },
        {
          "output_type": "error",
          "ename": "KeyboardInterrupt",
          "evalue": "ignored",
          "traceback": [
            "\u001b[0;31m---------------------------------------------------------------------------\u001b[0m",
            "\u001b[0;31mKeyboardInterrupt\u001b[0m                         Traceback (most recent call last)",
            "\u001b[0;32m<ipython-input-116-b1c0cce30d2c>\u001b[0m in \u001b[0;36m<module>\u001b[0;34m()\u001b[0m\n\u001b[1;32m     14\u001b[0m                         ),\n\u001b[1;32m     15\u001b[0m                         callback],\n\u001b[0;32m---> 16\u001b[0;31m                         initial_epoch=history_5_101_foods_all_augmented.epoch[-1]-3)\n\u001b[0m",
            "\u001b[0;32m/usr/local/lib/python3.7/dist-packages/keras/utils/traceback_utils.py\u001b[0m in \u001b[0;36merror_handler\u001b[0;34m(*args, **kwargs)\u001b[0m\n\u001b[1;32m     62\u001b[0m     \u001b[0mfiltered_tb\u001b[0m \u001b[0;34m=\u001b[0m \u001b[0;32mNone\u001b[0m\u001b[0;34m\u001b[0m\u001b[0;34m\u001b[0m\u001b[0m\n\u001b[1;32m     63\u001b[0m     \u001b[0;32mtry\u001b[0m\u001b[0;34m:\u001b[0m\u001b[0;34m\u001b[0m\u001b[0;34m\u001b[0m\u001b[0m\n\u001b[0;32m---> 64\u001b[0;31m       \u001b[0;32mreturn\u001b[0m \u001b[0mfn\u001b[0m\u001b[0;34m(\u001b[0m\u001b[0;34m*\u001b[0m\u001b[0margs\u001b[0m\u001b[0;34m,\u001b[0m \u001b[0;34m**\u001b[0m\u001b[0mkwargs\u001b[0m\u001b[0;34m)\u001b[0m\u001b[0;34m\u001b[0m\u001b[0;34m\u001b[0m\u001b[0m\n\u001b[0m\u001b[1;32m     65\u001b[0m     \u001b[0;32mexcept\u001b[0m \u001b[0mException\u001b[0m \u001b[0;32mas\u001b[0m \u001b[0me\u001b[0m\u001b[0;34m:\u001b[0m  \u001b[0;31m# pylint: disable=broad-except\u001b[0m\u001b[0;34m\u001b[0m\u001b[0;34m\u001b[0m\u001b[0m\n\u001b[1;32m     66\u001b[0m       \u001b[0mfiltered_tb\u001b[0m \u001b[0;34m=\u001b[0m \u001b[0m_process_traceback_frames\u001b[0m\u001b[0;34m(\u001b[0m\u001b[0me\u001b[0m\u001b[0;34m.\u001b[0m\u001b[0m__traceback__\u001b[0m\u001b[0;34m)\u001b[0m\u001b[0;34m\u001b[0m\u001b[0;34m\u001b[0m\u001b[0m\n",
            "\u001b[0;32m/usr/local/lib/python3.7/dist-packages/keras/engine/training.py\u001b[0m in \u001b[0;36mfit\u001b[0;34m(self, x, y, batch_size, epochs, verbose, callbacks, validation_split, validation_data, shuffle, class_weight, sample_weight, initial_epoch, steps_per_epoch, validation_steps, validation_batch_size, validation_freq, max_queue_size, workers, use_multiprocessing)\u001b[0m\n\u001b[1;32m   1382\u001b[0m                 _r=1):\n\u001b[1;32m   1383\u001b[0m               \u001b[0mcallbacks\u001b[0m\u001b[0;34m.\u001b[0m\u001b[0mon_train_batch_begin\u001b[0m\u001b[0;34m(\u001b[0m\u001b[0mstep\u001b[0m\u001b[0;34m)\u001b[0m\u001b[0;34m\u001b[0m\u001b[0;34m\u001b[0m\u001b[0m\n\u001b[0;32m-> 1384\u001b[0;31m               \u001b[0mtmp_logs\u001b[0m \u001b[0;34m=\u001b[0m \u001b[0mself\u001b[0m\u001b[0;34m.\u001b[0m\u001b[0mtrain_function\u001b[0m\u001b[0;34m(\u001b[0m\u001b[0miterator\u001b[0m\u001b[0;34m)\u001b[0m\u001b[0;34m\u001b[0m\u001b[0;34m\u001b[0m\u001b[0m\n\u001b[0m\u001b[1;32m   1385\u001b[0m               \u001b[0;32mif\u001b[0m \u001b[0mdata_handler\u001b[0m\u001b[0;34m.\u001b[0m\u001b[0mshould_sync\u001b[0m\u001b[0;34m:\u001b[0m\u001b[0;34m\u001b[0m\u001b[0;34m\u001b[0m\u001b[0m\n\u001b[1;32m   1386\u001b[0m                 \u001b[0mcontext\u001b[0m\u001b[0;34m.\u001b[0m\u001b[0masync_wait\u001b[0m\u001b[0;34m(\u001b[0m\u001b[0;34m)\u001b[0m\u001b[0;34m\u001b[0m\u001b[0;34m\u001b[0m\u001b[0m\n",
            "\u001b[0;32m/usr/local/lib/python3.7/dist-packages/tensorflow/python/util/traceback_utils.py\u001b[0m in \u001b[0;36merror_handler\u001b[0;34m(*args, **kwargs)\u001b[0m\n\u001b[1;32m    148\u001b[0m     \u001b[0mfiltered_tb\u001b[0m \u001b[0;34m=\u001b[0m \u001b[0;32mNone\u001b[0m\u001b[0;34m\u001b[0m\u001b[0;34m\u001b[0m\u001b[0m\n\u001b[1;32m    149\u001b[0m     \u001b[0;32mtry\u001b[0m\u001b[0;34m:\u001b[0m\u001b[0;34m\u001b[0m\u001b[0;34m\u001b[0m\u001b[0m\n\u001b[0;32m--> 150\u001b[0;31m       \u001b[0;32mreturn\u001b[0m \u001b[0mfn\u001b[0m\u001b[0;34m(\u001b[0m\u001b[0;34m*\u001b[0m\u001b[0margs\u001b[0m\u001b[0;34m,\u001b[0m \u001b[0;34m**\u001b[0m\u001b[0mkwargs\u001b[0m\u001b[0;34m)\u001b[0m\u001b[0;34m\u001b[0m\u001b[0;34m\u001b[0m\u001b[0m\n\u001b[0m\u001b[1;32m    151\u001b[0m     \u001b[0;32mexcept\u001b[0m \u001b[0mException\u001b[0m \u001b[0;32mas\u001b[0m \u001b[0me\u001b[0m\u001b[0;34m:\u001b[0m\u001b[0;34m\u001b[0m\u001b[0;34m\u001b[0m\u001b[0m\n\u001b[1;32m    152\u001b[0m       \u001b[0mfiltered_tb\u001b[0m \u001b[0;34m=\u001b[0m \u001b[0m_process_traceback_frames\u001b[0m\u001b[0;34m(\u001b[0m\u001b[0me\u001b[0m\u001b[0;34m.\u001b[0m\u001b[0m__traceback__\u001b[0m\u001b[0;34m)\u001b[0m\u001b[0;34m\u001b[0m\u001b[0;34m\u001b[0m\u001b[0m\n",
            "\u001b[0;32m/usr/local/lib/python3.7/dist-packages/tensorflow/python/eager/def_function.py\u001b[0m in \u001b[0;36m__call__\u001b[0;34m(self, *args, **kwds)\u001b[0m\n\u001b[1;32m    913\u001b[0m \u001b[0;34m\u001b[0m\u001b[0m\n\u001b[1;32m    914\u001b[0m       \u001b[0;32mwith\u001b[0m \u001b[0mOptionalXlaContext\u001b[0m\u001b[0;34m(\u001b[0m\u001b[0mself\u001b[0m\u001b[0;34m.\u001b[0m\u001b[0m_jit_compile\u001b[0m\u001b[0;34m)\u001b[0m\u001b[0;34m:\u001b[0m\u001b[0;34m\u001b[0m\u001b[0;34m\u001b[0m\u001b[0m\n\u001b[0;32m--> 915\u001b[0;31m         \u001b[0mresult\u001b[0m \u001b[0;34m=\u001b[0m \u001b[0mself\u001b[0m\u001b[0;34m.\u001b[0m\u001b[0m_call\u001b[0m\u001b[0;34m(\u001b[0m\u001b[0;34m*\u001b[0m\u001b[0margs\u001b[0m\u001b[0;34m,\u001b[0m \u001b[0;34m**\u001b[0m\u001b[0mkwds\u001b[0m\u001b[0;34m)\u001b[0m\u001b[0;34m\u001b[0m\u001b[0;34m\u001b[0m\u001b[0m\n\u001b[0m\u001b[1;32m    916\u001b[0m \u001b[0;34m\u001b[0m\u001b[0m\n\u001b[1;32m    917\u001b[0m       \u001b[0mnew_tracing_count\u001b[0m \u001b[0;34m=\u001b[0m \u001b[0mself\u001b[0m\u001b[0;34m.\u001b[0m\u001b[0mexperimental_get_tracing_count\u001b[0m\u001b[0;34m(\u001b[0m\u001b[0;34m)\u001b[0m\u001b[0;34m\u001b[0m\u001b[0;34m\u001b[0m\u001b[0m\n",
            "\u001b[0;32m/usr/local/lib/python3.7/dist-packages/tensorflow/python/eager/def_function.py\u001b[0m in \u001b[0;36m_call\u001b[0;34m(self, *args, **kwds)\u001b[0m\n\u001b[1;32m    945\u001b[0m       \u001b[0;31m# In this case we have created variables on the first call, so we run the\u001b[0m\u001b[0;34m\u001b[0m\u001b[0;34m\u001b[0m\u001b[0;34m\u001b[0m\u001b[0m\n\u001b[1;32m    946\u001b[0m       \u001b[0;31m# defunned version which is guaranteed to never create variables.\u001b[0m\u001b[0;34m\u001b[0m\u001b[0;34m\u001b[0m\u001b[0;34m\u001b[0m\u001b[0m\n\u001b[0;32m--> 947\u001b[0;31m       \u001b[0;32mreturn\u001b[0m \u001b[0mself\u001b[0m\u001b[0;34m.\u001b[0m\u001b[0m_stateless_fn\u001b[0m\u001b[0;34m(\u001b[0m\u001b[0;34m*\u001b[0m\u001b[0margs\u001b[0m\u001b[0;34m,\u001b[0m \u001b[0;34m**\u001b[0m\u001b[0mkwds\u001b[0m\u001b[0;34m)\u001b[0m  \u001b[0;31m# pylint: disable=not-callable\u001b[0m\u001b[0;34m\u001b[0m\u001b[0;34m\u001b[0m\u001b[0m\n\u001b[0m\u001b[1;32m    948\u001b[0m     \u001b[0;32melif\u001b[0m \u001b[0mself\u001b[0m\u001b[0;34m.\u001b[0m\u001b[0m_stateful_fn\u001b[0m \u001b[0;32mis\u001b[0m \u001b[0;32mnot\u001b[0m \u001b[0;32mNone\u001b[0m\u001b[0;34m:\u001b[0m\u001b[0;34m\u001b[0m\u001b[0;34m\u001b[0m\u001b[0m\n\u001b[1;32m    949\u001b[0m       \u001b[0;31m# Release the lock early so that multiple threads can perform the call\u001b[0m\u001b[0;34m\u001b[0m\u001b[0;34m\u001b[0m\u001b[0;34m\u001b[0m\u001b[0m\n",
            "\u001b[0;32m/usr/local/lib/python3.7/dist-packages/tensorflow/python/eager/function.py\u001b[0m in \u001b[0;36m__call__\u001b[0;34m(self, *args, **kwargs)\u001b[0m\n\u001b[1;32m   2955\u001b[0m        filtered_flat_args) = self._maybe_define_function(args, kwargs)\n\u001b[1;32m   2956\u001b[0m     return graph_function._call_flat(\n\u001b[0;32m-> 2957\u001b[0;31m         filtered_flat_args, captured_inputs=graph_function.captured_inputs)  # pylint: disable=protected-access\n\u001b[0m\u001b[1;32m   2958\u001b[0m \u001b[0;34m\u001b[0m\u001b[0m\n\u001b[1;32m   2959\u001b[0m   \u001b[0;34m@\u001b[0m\u001b[0mproperty\u001b[0m\u001b[0;34m\u001b[0m\u001b[0;34m\u001b[0m\u001b[0m\n",
            "\u001b[0;32m/usr/local/lib/python3.7/dist-packages/tensorflow/python/eager/function.py\u001b[0m in \u001b[0;36m_call_flat\u001b[0;34m(self, args, captured_inputs, cancellation_manager)\u001b[0m\n\u001b[1;32m   1852\u001b[0m       \u001b[0;31m# No tape is watching; skip to running the function.\u001b[0m\u001b[0;34m\u001b[0m\u001b[0;34m\u001b[0m\u001b[0;34m\u001b[0m\u001b[0m\n\u001b[1;32m   1853\u001b[0m       return self._build_call_outputs(self._inference_function.call(\n\u001b[0;32m-> 1854\u001b[0;31m           ctx, args, cancellation_manager=cancellation_manager))\n\u001b[0m\u001b[1;32m   1855\u001b[0m     forward_backward = self._select_forward_and_backward_functions(\n\u001b[1;32m   1856\u001b[0m         \u001b[0margs\u001b[0m\u001b[0;34m,\u001b[0m\u001b[0;34m\u001b[0m\u001b[0;34m\u001b[0m\u001b[0m\n",
            "\u001b[0;32m/usr/local/lib/python3.7/dist-packages/tensorflow/python/eager/function.py\u001b[0m in \u001b[0;36mcall\u001b[0;34m(self, ctx, args, cancellation_manager)\u001b[0m\n\u001b[1;32m    502\u001b[0m               \u001b[0minputs\u001b[0m\u001b[0;34m=\u001b[0m\u001b[0margs\u001b[0m\u001b[0;34m,\u001b[0m\u001b[0;34m\u001b[0m\u001b[0;34m\u001b[0m\u001b[0m\n\u001b[1;32m    503\u001b[0m               \u001b[0mattrs\u001b[0m\u001b[0;34m=\u001b[0m\u001b[0mattrs\u001b[0m\u001b[0;34m,\u001b[0m\u001b[0;34m\u001b[0m\u001b[0;34m\u001b[0m\u001b[0m\n\u001b[0;32m--> 504\u001b[0;31m               ctx=ctx)\n\u001b[0m\u001b[1;32m    505\u001b[0m         \u001b[0;32melse\u001b[0m\u001b[0;34m:\u001b[0m\u001b[0;34m\u001b[0m\u001b[0;34m\u001b[0m\u001b[0m\n\u001b[1;32m    506\u001b[0m           outputs = execute.execute_with_cancellation(\n",
            "\u001b[0;32m/usr/local/lib/python3.7/dist-packages/tensorflow/python/eager/execute.py\u001b[0m in \u001b[0;36mquick_execute\u001b[0;34m(op_name, num_outputs, inputs, attrs, ctx, name)\u001b[0m\n\u001b[1;32m     53\u001b[0m     \u001b[0mctx\u001b[0m\u001b[0;34m.\u001b[0m\u001b[0mensure_initialized\u001b[0m\u001b[0;34m(\u001b[0m\u001b[0;34m)\u001b[0m\u001b[0;34m\u001b[0m\u001b[0;34m\u001b[0m\u001b[0m\n\u001b[1;32m     54\u001b[0m     tensors = pywrap_tfe.TFE_Py_Execute(ctx._handle, device_name, op_name,\n\u001b[0;32m---> 55\u001b[0;31m                                         inputs, attrs, num_outputs)\n\u001b[0m\u001b[1;32m     56\u001b[0m   \u001b[0;32mexcept\u001b[0m \u001b[0mcore\u001b[0m\u001b[0;34m.\u001b[0m\u001b[0m_NotOkStatusException\u001b[0m \u001b[0;32mas\u001b[0m \u001b[0me\u001b[0m\u001b[0;34m:\u001b[0m\u001b[0;34m\u001b[0m\u001b[0;34m\u001b[0m\u001b[0m\n\u001b[1;32m     57\u001b[0m     \u001b[0;32mif\u001b[0m \u001b[0mname\u001b[0m \u001b[0;32mis\u001b[0m \u001b[0;32mnot\u001b[0m \u001b[0;32mNone\u001b[0m\u001b[0;34m:\u001b[0m\u001b[0;34m\u001b[0m\u001b[0;34m\u001b[0m\u001b[0m\n",
            "\u001b[0;31mKeyboardInterrupt\u001b[0m: "
          ]
        }
      ]
    },
    {
      "cell_type": "code",
      "execution_count": null,
      "metadata": {
        "id": "nti2u63qn5qk",
        "colab": {
          "base_uri": "https://localhost:8080/"
        },
        "outputId": "88cbf05e-4303-43b5-8060-f891e86c2e33"
      },
      "outputs": [
        {
          "output_type": "stream",
          "name": "stdout",
          "text": [
            "INFO:tensorflow:Assets written to: model_101_foods_augmented_model_4471l_v2/assets\n"
          ]
        },
        {
          "output_type": "stream",
          "name": "stderr",
          "text": [
            "INFO:tensorflow:Assets written to: model_101_foods_augmented_model_4471l_v2/assets\n"
          ]
        },
        {
          "output_type": "stream",
          "name": "stdout",
          "text": [
            "  adding: content/model_101_foods_augmented_model_4471l_v2/ (stored 0%)\n",
            "  adding: content/model_101_foods_augmented_model_4471l_v2/saved_model.pb (deflated 92%)\n",
            "  adding: content/model_101_foods_augmented_model_4471l_v2/assets/ (stored 0%)\n",
            "  adding: content/model_101_foods_augmented_model_4471l_v2/variables/ (stored 0%)\n",
            "  adding: content/model_101_foods_augmented_model_4471l_v2/variables/variables.index (deflated 75%)\n",
            "  adding: content/model_101_foods_augmented_model_4471l_v2/variables/variables.data-00000-of-00001 (deflated 8%)\n",
            "  adding: content/model_101_foods_augmented_model_4471l_v2/keras_metadata.pb (deflated 96%)\n",
            "  adding: content/training_log_aug/ (stored 0%)\n",
            "  adding: content/training_log_aug/efficientnetb0_101_classes_all_data_augmented_fine_tuned_16Layers/ (stored 0%)\n",
            "  adding: content/training_log_aug/efficientnetb0_101_classes_all_data_augmented_fine_tuned_16Layers/20220515-155948/ (stored 0%)\n",
            "  adding: content/training_log_aug/efficientnetb0_101_classes_all_data_augmented_fine_tuned_16Layers/20220515-155948/validation/ (stored 0%)\n",
            "  adding: content/training_log_aug/efficientnetb0_101_classes_all_data_augmented_fine_tuned_16Layers/20220515-155948/validation/events.out.tfevents.1652630575.7c3156f6c615.71.10.v2 (deflated 70%)\n",
            "  adding: content/training_log_aug/efficientnetb0_101_classes_all_data_augmented_fine_tuned_16Layers/20220515-155948/train/ (stored 0%)\n",
            "  adding: content/training_log_aug/efficientnetb0_101_classes_all_data_augmented_fine_tuned_16Layers/20220515-155948/train/events.out.tfevents.1652630388.7c3156f6c615.71.9.v2 (deflated 93%)\n",
            "  adding: content/training_log_aug/efficientnetb0_101_classes_all_data_augmented_fine_tuned_16Layers/20220515-165613/ (stored 0%)\n",
            "  adding: content/training_log_aug/efficientnetb0_101_classes_all_data_augmented_fine_tuned_16Layers/20220515-165613/validation/ (stored 0%)\n",
            "  adding: content/training_log_aug/efficientnetb0_101_classes_all_data_augmented_fine_tuned_16Layers/20220515-165613/validation/events.out.tfevents.1652633989.7c3156f6c615.71.14.v2 (deflated 66%)\n",
            "  adding: content/training_log_aug/efficientnetb0_101_classes_all_data_augmented_fine_tuned_16Layers/20220515-165613/train/ (stored 0%)\n",
            "  adding: content/training_log_aug/efficientnetb0_101_classes_all_data_augmented_fine_tuned_16Layers/20220515-165613/train/events.out.tfevents.1652633773.7c3156f6c615.71.13.v2 (deflated 93%)\n",
            "  adding: content/training_log_aug/efficientnetb0_101_classes_all_data_augmented_fine_tuned_16Layers/20220515-162930/ (stored 0%)\n",
            "  adding: content/training_log_aug/efficientnetb0_101_classes_all_data_augmented_fine_tuned_16Layers/20220515-162930/validation/ (stored 0%)\n",
            "  adding: content/training_log_aug/efficientnetb0_101_classes_all_data_augmented_fine_tuned_16Layers/20220515-162930/validation/events.out.tfevents.1652632372.7c3156f6c615.71.12.v2 (deflated 69%)\n",
            "  adding: content/training_log_aug/efficientnetb0_101_classes_all_data_augmented_fine_tuned_16Layers/20220515-162930/train/ (stored 0%)\n",
            "  adding: content/training_log_aug/efficientnetb0_101_classes_all_data_augmented_fine_tuned_16Layers/20220515-162930/train/events.out.tfevents.1652632170.7c3156f6c615.71.11.v2 (deflated 93%)\n",
            "  adding: content/training_log_aug/efficientnetb0_101_classes_all_data_augmented_fine_tuned_dropout/ (stored 0%)\n",
            "  adding: content/training_log_aug/efficientnetb0_101_classes_all_data_augmented_fine_tuned_dropout/20220515-141836/ (stored 0%)\n",
            "  adding: content/training_log_aug/efficientnetb0_101_classes_all_data_augmented_fine_tuned_dropout/20220515-141836/validation/ (stored 0%)\n",
            "  adding: content/training_log_aug/efficientnetb0_101_classes_all_data_augmented_fine_tuned_dropout/20220515-141836/validation/events.out.tfevents.1652624498.7c3156f6c615.71.5.v2 (deflated 74%)\n",
            "  adding: content/training_log_aug/efficientnetb0_101_classes_all_data_augmented_fine_tuned_dropout/20220515-141836/train/ (stored 0%)\n",
            "  adding: content/training_log_aug/efficientnetb0_101_classes_all_data_augmented_fine_tuned_dropout/20220515-141836/train/events.out.tfevents.1652624316.7c3156f6c615.71.4.v2 (deflated 93%)\n",
            "  adding: content/training_log_aug/efficientnetb0_101_classes_all_data_augmented_dropout/ (stored 0%)\n",
            "  adding: content/training_log_aug/efficientnetb0_101_classes_all_data_augmented_dropout/20220515-132423/ (stored 0%)\n",
            "  adding: content/training_log_aug/efficientnetb0_101_classes_all_data_augmented_dropout/20220515-132423/validation/ (stored 0%)\n",
            "  adding: content/training_log_aug/efficientnetb0_101_classes_all_data_augmented_dropout/20220515-132423/validation/events.out.tfevents.1652621290.7c3156f6c615.71.1.v2 (deflated 69%)\n",
            "  adding: content/training_log_aug/efficientnetb0_101_classes_all_data_augmented_dropout/20220515-132423/train/ (stored 0%)\n",
            "  adding: content/training_log_aug/efficientnetb0_101_classes_all_data_augmented_dropout/20220515-132423/train/events.out.tfevents.1652621063.7c3156f6c615.71.0.v2 (deflated 93%)\n",
            "  adding: content/training_log_aug/efficientnetb0_101_classes_all_data_augmented_dropout/20220515-134726/ (stored 0%)\n",
            "  adding: content/training_log_aug/efficientnetb0_101_classes_all_data_augmented_dropout/20220515-134726/validation/ (stored 0%)\n",
            "  adding: content/training_log_aug/efficientnetb0_101_classes_all_data_augmented_dropout/20220515-134726/validation/events.out.tfevents.1652622615.7c3156f6c615.71.3.v2 (deflated 71%)\n",
            "  adding: content/training_log_aug/efficientnetb0_101_classes_all_data_augmented_dropout/20220515-134726/train/ (stored 0%)\n",
            "  adding: content/training_log_aug/efficientnetb0_101_classes_all_data_augmented_dropout/20220515-134726/train/events.out.tfevents.1652622446.7c3156f6c615.71.2.v2 (deflated 93%)\n",
            "  adding: content/training_log_aug/efficientnetb0_101_classes_all_data_augmented_fine_tuned_30Layers/ (stored 0%)\n",
            "  adding: content/training_log_aug/efficientnetb0_101_classes_all_data_augmented_fine_tuned_30Layers/20220515-150719/ (stored 0%)\n",
            "  adding: content/training_log_aug/efficientnetb0_101_classes_all_data_augmented_fine_tuned_30Layers/20220515-150719/validation/ (stored 0%)\n",
            "  adding: content/training_log_aug/efficientnetb0_101_classes_all_data_augmented_fine_tuned_30Layers/20220515-150719/validation/events.out.tfevents.1652627422.7c3156f6c615.71.8.v2 (deflated 71%)\n",
            "  adding: content/training_log_aug/efficientnetb0_101_classes_all_data_augmented_fine_tuned_30Layers/20220515-150719/train/ (stored 0%)\n",
            "  adding: content/training_log_aug/efficientnetb0_101_classes_all_data_augmented_fine_tuned_30Layers/20220515-150719/train/events.out.tfevents.1652627239.7c3156f6c615.71.7.v2 (deflated 93%)\n",
            "  adding: content/training_log_aug/efficientnetb0_101_classes_all_data_augmented_fine_tuned_30Layers/20220515-150633/ (stored 0%)\n",
            "  adding: content/training_log_aug/efficientnetb0_101_classes_all_data_augmented_fine_tuned_30Layers/20220515-150633/train/ (stored 0%)\n",
            "  adding: content/training_log_aug/efficientnetb0_101_classes_all_data_augmented_fine_tuned_30Layers/20220515-150633/train/events.out.tfevents.1652627193.7c3156f6c615.71.6.v2 (deflated 93%)\n"
          ]
        }
      ],
      "source": [
        "# Save the model\n",
        "model_6.save(\"model_101_foods_augmented_model_4471l_v2\")\n",
        "\n",
        "# Colab commands to download the model\n",
        "!zip -r /content/model_101_foods_augmented_model_4471l_v2.zip /content/model_101_foods_augmented_model_4471l_v2\n",
        "!zip -r /content/training_log_aug.zip /content/training_log_aug"
      ]
    },
    {
      "cell_type": "code",
      "source": [
        "# Download the file \n",
        "from google.colab import files\n",
        "files.download(\"/content/model_101_foods_augmented_model_4471l_v2.zip\")\n",
        "files.download(\"/content/training_log_aug.zip\")"
      ],
      "metadata": {
        "colab": {
          "base_uri": "https://localhost:8080/",
          "height": 17
        },
        "id": "Dvfjw6T8Rp2M",
        "outputId": "6ae9e90e-719f-499e-d8a2-88471ad0742c"
      },
      "execution_count": null,
      "outputs": [
        {
          "output_type": "display_data",
          "data": {
            "text/plain": [
              "<IPython.core.display.Javascript object>"
            ],
            "application/javascript": [
              "\n",
              "    async function download(id, filename, size) {\n",
              "      if (!google.colab.kernel.accessAllowed) {\n",
              "        return;\n",
              "      }\n",
              "      const div = document.createElement('div');\n",
              "      const label = document.createElement('label');\n",
              "      label.textContent = `Downloading \"${filename}\": `;\n",
              "      div.appendChild(label);\n",
              "      const progress = document.createElement('progress');\n",
              "      progress.max = size;\n",
              "      div.appendChild(progress);\n",
              "      document.body.appendChild(div);\n",
              "\n",
              "      const buffers = [];\n",
              "      let downloaded = 0;\n",
              "\n",
              "      const channel = await google.colab.kernel.comms.open(id);\n",
              "      // Send a message to notify the kernel that we're ready.\n",
              "      channel.send({})\n",
              "\n",
              "      for await (const message of channel.messages) {\n",
              "        // Send a message to notify the kernel that we're ready.\n",
              "        channel.send({})\n",
              "        if (message.buffers) {\n",
              "          for (const buffer of message.buffers) {\n",
              "            buffers.push(buffer);\n",
              "            downloaded += buffer.byteLength;\n",
              "            progress.value = downloaded;\n",
              "          }\n",
              "        }\n",
              "      }\n",
              "      const blob = new Blob(buffers, {type: 'application/binary'});\n",
              "      const a = document.createElement('a');\n",
              "      a.href = window.URL.createObjectURL(blob);\n",
              "      a.download = filename;\n",
              "      div.appendChild(a);\n",
              "      a.click();\n",
              "      div.remove();\n",
              "    }\n",
              "  "
            ]
          },
          "metadata": {}
        },
        {
          "output_type": "display_data",
          "data": {
            "text/plain": [
              "<IPython.core.display.Javascript object>"
            ],
            "application/javascript": [
              "download(\"download_8c2e8b72-ac03-49d5-b9b4-2222b4e498c4\", \"model_101_foods_augmented_model_4471l_v2.zip\", 25842924)"
            ]
          },
          "metadata": {}
        }
      ]
    },
    {
      "cell_type": "markdown",
      "metadata": {
        "id": "nyIVE1ARf5Wu"
      },
      "source": [
        "## Upload the logs on tensorboard and visualize the progress"
      ]
    },
    {
      "cell_type": "code",
      "execution_count": null,
      "metadata": {
        "colab": {
          "base_uri": "https://localhost:8080/"
        },
        "id": "KulQsd4bf7jH",
        "outputId": "56f1fb7d-c1da-47d2-eba4-9e00c290a214"
      },
      "outputs": [
        {
          "output_type": "stream",
          "name": "stdout",
          "text": [
            "\n",
            "***** TensorBoard Uploader *****\n",
            "\n",
            "This will upload your TensorBoard logs to https://tensorboard.dev/ from\n",
            "the following directory:\n",
            "\n",
            "/content/training_log_aug\n",
            "\n",
            "This TensorBoard will be visible to everyone. Do not upload sensitive\n",
            "data.\n",
            "\n",
            "Your use of this service is subject to Google's Terms of Service\n",
            "<https://policies.google.com/terms> and Privacy Policy\n",
            "<https://policies.google.com/privacy>, and TensorBoard.dev's Terms of Service\n",
            "<https://tensorboard.dev/policy/terms/>.\n",
            "\n",
            "This notice will not be shown again while you are logged into the uploader.\n",
            "To log out, run `tensorboard dev auth revoke`.\n",
            "\n",
            "Continue? (yes/NO) yes\n",
            "\n",
            "Please visit this URL to authorize this application: https://accounts.google.com/o/oauth2/auth?response_type=code&client_id=373649185512-8v619h5kft38l4456nm2dj4ubeqsrvh6.apps.googleusercontent.com&redirect_uri=urn%3Aietf%3Awg%3Aoauth%3A2.0%3Aoob&scope=openid+https%3A%2F%2Fwww.googleapis.com%2Fauth%2Fuserinfo.email&state=8gmjlkiXSVhuMu1jWIdnnezgABkn81&prompt=consent&access_type=offline\n",
            "Enter the authorization code: 4/1AX4XfWj1Kug64SzS6a-EOHFzQ5CKyfoLLtlgI2cQcukc58Zes01gukbLX28\n",
            "\n",
            "\n",
            "New experiment created. View your TensorBoard at: https://tensorboard.dev/experiment/hB2U2kL5RXWz6evEePFjrg/\n",
            "\n",
            "\u001b[1m[2022-05-10T09:23:13]\u001b[0m Started scanning logdir.\n",
            "\u001b[1m[2022-05-10T09:23:19]\u001b[0m Total uploaded: 126 scalars, 0 tensors, 5 binary objects (4.4 MB)\n",
            "\u001b[1m[2022-05-10T09:23:19]\u001b[0m Done scanning logdir.\n",
            "\n",
            "\n",
            "Done. View your TensorBoard at https://tensorboard.dev/experiment/hB2U2kL5RXWz6evEePFjrg/\n"
          ]
        }
      ],
      "source": [
        "!tensorboard dev upload --logdir /content/training_log_aug \\\n",
        "--name \"Transfer Learning Experiment with 101 Food Types\" \\\n",
        "--description \"A series of different transfer learning experiments with data augmentation and fine-tuning\" \\\n",
        "--one_shot "
      ]
    },
    {
      "cell_type": "markdown",
      "metadata": {
        "id": "e7YxL8G3GV76"
      },
      "source": [
        "# Visualize the last model's prediction\n",
        "- Create a probability vector\n",
        "- Choose the maximum from the vector, to find the class\n",
        "- unbatch the categorical test data saved previously and extract the labels\n",
        "- Use the make_confusion_matrix from the helperFunction"
      ]
    },
    {
      "cell_type": "code",
      "execution_count": 97,
      "metadata": {
        "colab": {
          "base_uri": "https://localhost:8080/"
        },
        "id": "_Cibd5li8Uau",
        "outputId": "c0966be6-d405-4150-963b-23beaa3d9be0"
      },
      "outputs": [
        {
          "output_type": "stream",
          "name": "stdout",
          "text": [
            "198/198 [==============================] - 60s 292ms/step\n"
          ]
        }
      ],
      "source": [
        "# Make predictions with model\n",
        "preds_probs = model_6.predict(test_data, verbose=1) # set to 1 to see the time left"
      ]
    },
    {
      "cell_type": "code",
      "execution_count": 98,
      "metadata": {
        "id": "QS5B2qLM8Med"
      },
      "outputs": [],
      "source": [
        "# Get the pred classes of each label\n",
        "# Not necessary for sparese\n",
        "pred_classes = preds_probs.argmax(axis=1)\n",
        "\n",
        "# To get the test labels the test_data needs to be unbatched\n",
        "y_labels = []\n",
        "for images, labels in test_data.unbatch():\n",
        "    y_labels.append(labels.numpy().argmax()) # "
      ]
    },
    {
      "cell_type": "code",
      "source": [
        "y_labels_enc = tf.keras.utils.to_categorical(y_labels, num_classes=101)\n",
        "pred_classes_enc = tf.keras.utils.to_categorical(preds_probs, num_classes=101)"
      ],
      "metadata": {
        "id": "zpCRew9h2qh1"
      },
      "execution_count": null,
      "outputs": []
    },
    {
      "cell_type": "code",
      "execution_count": null,
      "metadata": {
        "id": "4ZQSRXUvnLIo"
      },
      "outputs": [],
      "source": [
        "from helperFunctions import make_confusion_matrix\n",
        "make_confusion_matrix(y_true=y_labels_enc,\n",
        "                      y_pred=pred_classes_enc,\n",
        "                      classes= class_names,\n",
        "                      figsize=(100,100),\n",
        "                      text_size=20,\n",
        "                      savefig=True,\n",
        "                      rotate=True)"
      ]
    },
    {
      "cell_type": "code",
      "execution_count": null,
      "metadata": {
        "id": "udy7hc-08jlu"
      },
      "outputs": [],
      "source": [
        ""
      ]
    }
  ],
  "metadata": {
    "accelerator": "GPU",
    "colab": {
      "collapsed_sections": [],
      "name": "07_Food_Vision_Big_Milestone_Project_improved_Effnetv2.ipynb",
      "provenance": []
    },
    "kernelspec": {
      "display_name": "Python 3",
      "name": "python3"
    },
    "language_info": {
      "name": "python"
    },
    "widgets": {
      "application/vnd.jupyter.widget-state+json": {
        "0b18a62d156b4bfa94e40b820065abdc": {
          "model_module": "@jupyter-widgets/controls",
          "model_name": "HBoxModel",
          "model_module_version": "1.5.0",
          "state": {
            "_dom_classes": [],
            "_model_module": "@jupyter-widgets/controls",
            "_model_module_version": "1.5.0",
            "_model_name": "HBoxModel",
            "_view_count": null,
            "_view_module": "@jupyter-widgets/controls",
            "_view_module_version": "1.5.0",
            "_view_name": "HBoxView",
            "box_style": "",
            "children": [
              "IPY_MODEL_c89fcbe102614aa394a7c40fa64711aa",
              "IPY_MODEL_57ed54b36d7044949e2448dbe88dd7a6",
              "IPY_MODEL_bf6fb2de14df4c96b2248cc895cf87d8"
            ],
            "layout": "IPY_MODEL_f498ed088cea42e4a379bb29bc7eeffd"
          }
        },
        "c89fcbe102614aa394a7c40fa64711aa": {
          "model_module": "@jupyter-widgets/controls",
          "model_name": "HTMLModel",
          "model_module_version": "1.5.0",
          "state": {
            "_dom_classes": [],
            "_model_module": "@jupyter-widgets/controls",
            "_model_module_version": "1.5.0",
            "_model_name": "HTMLModel",
            "_view_count": null,
            "_view_module": "@jupyter-widgets/controls",
            "_view_module_version": "1.5.0",
            "_view_name": "HTMLView",
            "description": "",
            "description_tooltip": null,
            "layout": "IPY_MODEL_28e5959c749d432a9d4007dd0464655e",
            "placeholder": "​",
            "style": "IPY_MODEL_cf195126004d46e0b1d0926bdd872d10",
            "value": "Dl Completed...: 100%"
          }
        },
        "57ed54b36d7044949e2448dbe88dd7a6": {
          "model_module": "@jupyter-widgets/controls",
          "model_name": "FloatProgressModel",
          "model_module_version": "1.5.0",
          "state": {
            "_dom_classes": [],
            "_model_module": "@jupyter-widgets/controls",
            "_model_module_version": "1.5.0",
            "_model_name": "FloatProgressModel",
            "_view_count": null,
            "_view_module": "@jupyter-widgets/controls",
            "_view_module_version": "1.5.0",
            "_view_name": "ProgressView",
            "bar_style": "success",
            "description": "",
            "description_tooltip": null,
            "layout": "IPY_MODEL_276ba5bdbda044da95f7bd4caf9da9cd",
            "max": 1,
            "min": 0,
            "orientation": "horizontal",
            "style": "IPY_MODEL_2b3cfc1edea44b8c93665b1d2953e5f9",
            "value": 1
          }
        },
        "bf6fb2de14df4c96b2248cc895cf87d8": {
          "model_module": "@jupyter-widgets/controls",
          "model_name": "HTMLModel",
          "model_module_version": "1.5.0",
          "state": {
            "_dom_classes": [],
            "_model_module": "@jupyter-widgets/controls",
            "_model_module_version": "1.5.0",
            "_model_name": "HTMLModel",
            "_view_count": null,
            "_view_module": "@jupyter-widgets/controls",
            "_view_module_version": "1.5.0",
            "_view_name": "HTMLView",
            "description": "",
            "description_tooltip": null,
            "layout": "IPY_MODEL_d7331ed6fcc341faab15f8be8e8d0bbe",
            "placeholder": "​",
            "style": "IPY_MODEL_8e9022440152438e98f062ba4077a5ec",
            "value": " 1/1 [04:18&lt;00:00, 174.39s/ url]"
          }
        },
        "f498ed088cea42e4a379bb29bc7eeffd": {
          "model_module": "@jupyter-widgets/base",
          "model_name": "LayoutModel",
          "model_module_version": "1.2.0",
          "state": {
            "_model_module": "@jupyter-widgets/base",
            "_model_module_version": "1.2.0",
            "_model_name": "LayoutModel",
            "_view_count": null,
            "_view_module": "@jupyter-widgets/base",
            "_view_module_version": "1.2.0",
            "_view_name": "LayoutView",
            "align_content": null,
            "align_items": null,
            "align_self": null,
            "border": null,
            "bottom": null,
            "display": null,
            "flex": null,
            "flex_flow": null,
            "grid_area": null,
            "grid_auto_columns": null,
            "grid_auto_flow": null,
            "grid_auto_rows": null,
            "grid_column": null,
            "grid_gap": null,
            "grid_row": null,
            "grid_template_areas": null,
            "grid_template_columns": null,
            "grid_template_rows": null,
            "height": null,
            "justify_content": null,
            "justify_items": null,
            "left": null,
            "margin": null,
            "max_height": null,
            "max_width": null,
            "min_height": null,
            "min_width": null,
            "object_fit": null,
            "object_position": null,
            "order": null,
            "overflow": null,
            "overflow_x": null,
            "overflow_y": null,
            "padding": null,
            "right": null,
            "top": null,
            "visibility": null,
            "width": null
          }
        },
        "28e5959c749d432a9d4007dd0464655e": {
          "model_module": "@jupyter-widgets/base",
          "model_name": "LayoutModel",
          "model_module_version": "1.2.0",
          "state": {
            "_model_module": "@jupyter-widgets/base",
            "_model_module_version": "1.2.0",
            "_model_name": "LayoutModel",
            "_view_count": null,
            "_view_module": "@jupyter-widgets/base",
            "_view_module_version": "1.2.0",
            "_view_name": "LayoutView",
            "align_content": null,
            "align_items": null,
            "align_self": null,
            "border": null,
            "bottom": null,
            "display": null,
            "flex": null,
            "flex_flow": null,
            "grid_area": null,
            "grid_auto_columns": null,
            "grid_auto_flow": null,
            "grid_auto_rows": null,
            "grid_column": null,
            "grid_gap": null,
            "grid_row": null,
            "grid_template_areas": null,
            "grid_template_columns": null,
            "grid_template_rows": null,
            "height": null,
            "justify_content": null,
            "justify_items": null,
            "left": null,
            "margin": null,
            "max_height": null,
            "max_width": null,
            "min_height": null,
            "min_width": null,
            "object_fit": null,
            "object_position": null,
            "order": null,
            "overflow": null,
            "overflow_x": null,
            "overflow_y": null,
            "padding": null,
            "right": null,
            "top": null,
            "visibility": null,
            "width": null
          }
        },
        "cf195126004d46e0b1d0926bdd872d10": {
          "model_module": "@jupyter-widgets/controls",
          "model_name": "DescriptionStyleModel",
          "model_module_version": "1.5.0",
          "state": {
            "_model_module": "@jupyter-widgets/controls",
            "_model_module_version": "1.5.0",
            "_model_name": "DescriptionStyleModel",
            "_view_count": null,
            "_view_module": "@jupyter-widgets/base",
            "_view_module_version": "1.2.0",
            "_view_name": "StyleView",
            "description_width": ""
          }
        },
        "276ba5bdbda044da95f7bd4caf9da9cd": {
          "model_module": "@jupyter-widgets/base",
          "model_name": "LayoutModel",
          "model_module_version": "1.2.0",
          "state": {
            "_model_module": "@jupyter-widgets/base",
            "_model_module_version": "1.2.0",
            "_model_name": "LayoutModel",
            "_view_count": null,
            "_view_module": "@jupyter-widgets/base",
            "_view_module_version": "1.2.0",
            "_view_name": "LayoutView",
            "align_content": null,
            "align_items": null,
            "align_self": null,
            "border": null,
            "bottom": null,
            "display": null,
            "flex": null,
            "flex_flow": null,
            "grid_area": null,
            "grid_auto_columns": null,
            "grid_auto_flow": null,
            "grid_auto_rows": null,
            "grid_column": null,
            "grid_gap": null,
            "grid_row": null,
            "grid_template_areas": null,
            "grid_template_columns": null,
            "grid_template_rows": null,
            "height": null,
            "justify_content": null,
            "justify_items": null,
            "left": null,
            "margin": null,
            "max_height": null,
            "max_width": null,
            "min_height": null,
            "min_width": null,
            "object_fit": null,
            "object_position": null,
            "order": null,
            "overflow": null,
            "overflow_x": null,
            "overflow_y": null,
            "padding": null,
            "right": null,
            "top": null,
            "visibility": null,
            "width": "20px"
          }
        },
        "2b3cfc1edea44b8c93665b1d2953e5f9": {
          "model_module": "@jupyter-widgets/controls",
          "model_name": "ProgressStyleModel",
          "model_module_version": "1.5.0",
          "state": {
            "_model_module": "@jupyter-widgets/controls",
            "_model_module_version": "1.5.0",
            "_model_name": "ProgressStyleModel",
            "_view_count": null,
            "_view_module": "@jupyter-widgets/base",
            "_view_module_version": "1.2.0",
            "_view_name": "StyleView",
            "bar_color": null,
            "description_width": ""
          }
        },
        "d7331ed6fcc341faab15f8be8e8d0bbe": {
          "model_module": "@jupyter-widgets/base",
          "model_name": "LayoutModel",
          "model_module_version": "1.2.0",
          "state": {
            "_model_module": "@jupyter-widgets/base",
            "_model_module_version": "1.2.0",
            "_model_name": "LayoutModel",
            "_view_count": null,
            "_view_module": "@jupyter-widgets/base",
            "_view_module_version": "1.2.0",
            "_view_name": "LayoutView",
            "align_content": null,
            "align_items": null,
            "align_self": null,
            "border": null,
            "bottom": null,
            "display": null,
            "flex": null,
            "flex_flow": null,
            "grid_area": null,
            "grid_auto_columns": null,
            "grid_auto_flow": null,
            "grid_auto_rows": null,
            "grid_column": null,
            "grid_gap": null,
            "grid_row": null,
            "grid_template_areas": null,
            "grid_template_columns": null,
            "grid_template_rows": null,
            "height": null,
            "justify_content": null,
            "justify_items": null,
            "left": null,
            "margin": null,
            "max_height": null,
            "max_width": null,
            "min_height": null,
            "min_width": null,
            "object_fit": null,
            "object_position": null,
            "order": null,
            "overflow": null,
            "overflow_x": null,
            "overflow_y": null,
            "padding": null,
            "right": null,
            "top": null,
            "visibility": null,
            "width": null
          }
        },
        "8e9022440152438e98f062ba4077a5ec": {
          "model_module": "@jupyter-widgets/controls",
          "model_name": "DescriptionStyleModel",
          "model_module_version": "1.5.0",
          "state": {
            "_model_module": "@jupyter-widgets/controls",
            "_model_module_version": "1.5.0",
            "_model_name": "DescriptionStyleModel",
            "_view_count": null,
            "_view_module": "@jupyter-widgets/base",
            "_view_module_version": "1.2.0",
            "_view_name": "StyleView",
            "description_width": ""
          }
        },
        "1c9cb5872cd04ccb85f5dabfc6b5a387": {
          "model_module": "@jupyter-widgets/controls",
          "model_name": "HBoxModel",
          "model_module_version": "1.5.0",
          "state": {
            "_dom_classes": [],
            "_model_module": "@jupyter-widgets/controls",
            "_model_module_version": "1.5.0",
            "_model_name": "HBoxModel",
            "_view_count": null,
            "_view_module": "@jupyter-widgets/controls",
            "_view_module_version": "1.5.0",
            "_view_name": "HBoxView",
            "box_style": "",
            "children": [
              "IPY_MODEL_d406b84fcb5647f6ad2168af4a4af8ce",
              "IPY_MODEL_80e80a01c99b45c9b21447a24f19de77",
              "IPY_MODEL_8d51af85d24c4afbbabe551cc5013c92"
            ],
            "layout": "IPY_MODEL_b4ae9ee76d8f404bb79946ce09464b86"
          }
        },
        "d406b84fcb5647f6ad2168af4a4af8ce": {
          "model_module": "@jupyter-widgets/controls",
          "model_name": "HTMLModel",
          "model_module_version": "1.5.0",
          "state": {
            "_dom_classes": [],
            "_model_module": "@jupyter-widgets/controls",
            "_model_module_version": "1.5.0",
            "_model_name": "HTMLModel",
            "_view_count": null,
            "_view_module": "@jupyter-widgets/controls",
            "_view_module_version": "1.5.0",
            "_view_name": "HTMLView",
            "description": "",
            "description_tooltip": null,
            "layout": "IPY_MODEL_936af444b9454ca4a4a3d629ae669463",
            "placeholder": "​",
            "style": "IPY_MODEL_f22f8ce4e12d4653ba0db1b5da7b0ba5",
            "value": "Dl Size...: 100%"
          }
        },
        "80e80a01c99b45c9b21447a24f19de77": {
          "model_module": "@jupyter-widgets/controls",
          "model_name": "FloatProgressModel",
          "model_module_version": "1.5.0",
          "state": {
            "_dom_classes": [],
            "_model_module": "@jupyter-widgets/controls",
            "_model_module_version": "1.5.0",
            "_model_name": "FloatProgressModel",
            "_view_count": null,
            "_view_module": "@jupyter-widgets/controls",
            "_view_module_version": "1.5.0",
            "_view_name": "ProgressView",
            "bar_style": "success",
            "description": "",
            "description_tooltip": null,
            "layout": "IPY_MODEL_a6b3a38adf5c4026b90b261fc0b1b58e",
            "max": 1,
            "min": 0,
            "orientation": "horizontal",
            "style": "IPY_MODEL_66d18c4244824a37874401180c9b0d49",
            "value": 1
          }
        },
        "8d51af85d24c4afbbabe551cc5013c92": {
          "model_module": "@jupyter-widgets/controls",
          "model_name": "HTMLModel",
          "model_module_version": "1.5.0",
          "state": {
            "_dom_classes": [],
            "_model_module": "@jupyter-widgets/controls",
            "_model_module_version": "1.5.0",
            "_model_name": "HTMLModel",
            "_view_count": null,
            "_view_module": "@jupyter-widgets/controls",
            "_view_module_version": "1.5.0",
            "_view_name": "HTMLView",
            "description": "",
            "description_tooltip": null,
            "layout": "IPY_MODEL_a83aeaac6828494f898d5d9a25e16e0c",
            "placeholder": "​",
            "style": "IPY_MODEL_90daac5b08874a1e968459619b83c1db",
            "value": " 4764/4764 [04:18&lt;00:00, 30.34 MiB/s]"
          }
        },
        "b4ae9ee76d8f404bb79946ce09464b86": {
          "model_module": "@jupyter-widgets/base",
          "model_name": "LayoutModel",
          "model_module_version": "1.2.0",
          "state": {
            "_model_module": "@jupyter-widgets/base",
            "_model_module_version": "1.2.0",
            "_model_name": "LayoutModel",
            "_view_count": null,
            "_view_module": "@jupyter-widgets/base",
            "_view_module_version": "1.2.0",
            "_view_name": "LayoutView",
            "align_content": null,
            "align_items": null,
            "align_self": null,
            "border": null,
            "bottom": null,
            "display": null,
            "flex": null,
            "flex_flow": null,
            "grid_area": null,
            "grid_auto_columns": null,
            "grid_auto_flow": null,
            "grid_auto_rows": null,
            "grid_column": null,
            "grid_gap": null,
            "grid_row": null,
            "grid_template_areas": null,
            "grid_template_columns": null,
            "grid_template_rows": null,
            "height": null,
            "justify_content": null,
            "justify_items": null,
            "left": null,
            "margin": null,
            "max_height": null,
            "max_width": null,
            "min_height": null,
            "min_width": null,
            "object_fit": null,
            "object_position": null,
            "order": null,
            "overflow": null,
            "overflow_x": null,
            "overflow_y": null,
            "padding": null,
            "right": null,
            "top": null,
            "visibility": null,
            "width": null
          }
        },
        "936af444b9454ca4a4a3d629ae669463": {
          "model_module": "@jupyter-widgets/base",
          "model_name": "LayoutModel",
          "model_module_version": "1.2.0",
          "state": {
            "_model_module": "@jupyter-widgets/base",
            "_model_module_version": "1.2.0",
            "_model_name": "LayoutModel",
            "_view_count": null,
            "_view_module": "@jupyter-widgets/base",
            "_view_module_version": "1.2.0",
            "_view_name": "LayoutView",
            "align_content": null,
            "align_items": null,
            "align_self": null,
            "border": null,
            "bottom": null,
            "display": null,
            "flex": null,
            "flex_flow": null,
            "grid_area": null,
            "grid_auto_columns": null,
            "grid_auto_flow": null,
            "grid_auto_rows": null,
            "grid_column": null,
            "grid_gap": null,
            "grid_row": null,
            "grid_template_areas": null,
            "grid_template_columns": null,
            "grid_template_rows": null,
            "height": null,
            "justify_content": null,
            "justify_items": null,
            "left": null,
            "margin": null,
            "max_height": null,
            "max_width": null,
            "min_height": null,
            "min_width": null,
            "object_fit": null,
            "object_position": null,
            "order": null,
            "overflow": null,
            "overflow_x": null,
            "overflow_y": null,
            "padding": null,
            "right": null,
            "top": null,
            "visibility": null,
            "width": null
          }
        },
        "f22f8ce4e12d4653ba0db1b5da7b0ba5": {
          "model_module": "@jupyter-widgets/controls",
          "model_name": "DescriptionStyleModel",
          "model_module_version": "1.5.0",
          "state": {
            "_model_module": "@jupyter-widgets/controls",
            "_model_module_version": "1.5.0",
            "_model_name": "DescriptionStyleModel",
            "_view_count": null,
            "_view_module": "@jupyter-widgets/base",
            "_view_module_version": "1.2.0",
            "_view_name": "StyleView",
            "description_width": ""
          }
        },
        "a6b3a38adf5c4026b90b261fc0b1b58e": {
          "model_module": "@jupyter-widgets/base",
          "model_name": "LayoutModel",
          "model_module_version": "1.2.0",
          "state": {
            "_model_module": "@jupyter-widgets/base",
            "_model_module_version": "1.2.0",
            "_model_name": "LayoutModel",
            "_view_count": null,
            "_view_module": "@jupyter-widgets/base",
            "_view_module_version": "1.2.0",
            "_view_name": "LayoutView",
            "align_content": null,
            "align_items": null,
            "align_self": null,
            "border": null,
            "bottom": null,
            "display": null,
            "flex": null,
            "flex_flow": null,
            "grid_area": null,
            "grid_auto_columns": null,
            "grid_auto_flow": null,
            "grid_auto_rows": null,
            "grid_column": null,
            "grid_gap": null,
            "grid_row": null,
            "grid_template_areas": null,
            "grid_template_columns": null,
            "grid_template_rows": null,
            "height": null,
            "justify_content": null,
            "justify_items": null,
            "left": null,
            "margin": null,
            "max_height": null,
            "max_width": null,
            "min_height": null,
            "min_width": null,
            "object_fit": null,
            "object_position": null,
            "order": null,
            "overflow": null,
            "overflow_x": null,
            "overflow_y": null,
            "padding": null,
            "right": null,
            "top": null,
            "visibility": null,
            "width": "20px"
          }
        },
        "66d18c4244824a37874401180c9b0d49": {
          "model_module": "@jupyter-widgets/controls",
          "model_name": "ProgressStyleModel",
          "model_module_version": "1.5.0",
          "state": {
            "_model_module": "@jupyter-widgets/controls",
            "_model_module_version": "1.5.0",
            "_model_name": "ProgressStyleModel",
            "_view_count": null,
            "_view_module": "@jupyter-widgets/base",
            "_view_module_version": "1.2.0",
            "_view_name": "StyleView",
            "bar_color": null,
            "description_width": ""
          }
        },
        "a83aeaac6828494f898d5d9a25e16e0c": {
          "model_module": "@jupyter-widgets/base",
          "model_name": "LayoutModel",
          "model_module_version": "1.2.0",
          "state": {
            "_model_module": "@jupyter-widgets/base",
            "_model_module_version": "1.2.0",
            "_model_name": "LayoutModel",
            "_view_count": null,
            "_view_module": "@jupyter-widgets/base",
            "_view_module_version": "1.2.0",
            "_view_name": "LayoutView",
            "align_content": null,
            "align_items": null,
            "align_self": null,
            "border": null,
            "bottom": null,
            "display": null,
            "flex": null,
            "flex_flow": null,
            "grid_area": null,
            "grid_auto_columns": null,
            "grid_auto_flow": null,
            "grid_auto_rows": null,
            "grid_column": null,
            "grid_gap": null,
            "grid_row": null,
            "grid_template_areas": null,
            "grid_template_columns": null,
            "grid_template_rows": null,
            "height": null,
            "justify_content": null,
            "justify_items": null,
            "left": null,
            "margin": null,
            "max_height": null,
            "max_width": null,
            "min_height": null,
            "min_width": null,
            "object_fit": null,
            "object_position": null,
            "order": null,
            "overflow": null,
            "overflow_x": null,
            "overflow_y": null,
            "padding": null,
            "right": null,
            "top": null,
            "visibility": null,
            "width": null
          }
        },
        "90daac5b08874a1e968459619b83c1db": {
          "model_module": "@jupyter-widgets/controls",
          "model_name": "DescriptionStyleModel",
          "model_module_version": "1.5.0",
          "state": {
            "_model_module": "@jupyter-widgets/controls",
            "_model_module_version": "1.5.0",
            "_model_name": "DescriptionStyleModel",
            "_view_count": null,
            "_view_module": "@jupyter-widgets/base",
            "_view_module_version": "1.2.0",
            "_view_name": "StyleView",
            "description_width": ""
          }
        },
        "4bf8540cb547452cadba535bc906f898": {
          "model_module": "@jupyter-widgets/controls",
          "model_name": "HBoxModel",
          "model_module_version": "1.5.0",
          "state": {
            "_dom_classes": [],
            "_model_module": "@jupyter-widgets/controls",
            "_model_module_version": "1.5.0",
            "_model_name": "HBoxModel",
            "_view_count": null,
            "_view_module": "@jupyter-widgets/controls",
            "_view_module_version": "1.5.0",
            "_view_name": "HBoxView",
            "box_style": "",
            "children": [
              "IPY_MODEL_8d2861c8ff444adf8e3a4c9fa45fc0db",
              "IPY_MODEL_c248da11a12149ed925e0473e8dc2c5c",
              "IPY_MODEL_c48a8d49e78e4861baee08fbc31b4692"
            ],
            "layout": "IPY_MODEL_4fb5686f0e704e8fa918b3e08e65c1a3"
          }
        },
        "8d2861c8ff444adf8e3a4c9fa45fc0db": {
          "model_module": "@jupyter-widgets/controls",
          "model_name": "HTMLModel",
          "model_module_version": "1.5.0",
          "state": {
            "_dom_classes": [],
            "_model_module": "@jupyter-widgets/controls",
            "_model_module_version": "1.5.0",
            "_model_name": "HTMLModel",
            "_view_count": null,
            "_view_module": "@jupyter-widgets/controls",
            "_view_module_version": "1.5.0",
            "_view_name": "HTMLView",
            "description": "",
            "description_tooltip": null,
            "layout": "IPY_MODEL_49c834ff41cf484d888e6f425eb7ebce",
            "placeholder": "​",
            "style": "IPY_MODEL_4bc7b95f45a646e4807693fc58869478",
            "value": "Extraction completed...: 100%"
          }
        },
        "c248da11a12149ed925e0473e8dc2c5c": {
          "model_module": "@jupyter-widgets/controls",
          "model_name": "FloatProgressModel",
          "model_module_version": "1.5.0",
          "state": {
            "_dom_classes": [],
            "_model_module": "@jupyter-widgets/controls",
            "_model_module_version": "1.5.0",
            "_model_name": "FloatProgressModel",
            "_view_count": null,
            "_view_module": "@jupyter-widgets/controls",
            "_view_module_version": "1.5.0",
            "_view_name": "ProgressView",
            "bar_style": "success",
            "description": "",
            "description_tooltip": null,
            "layout": "IPY_MODEL_d80264bb6dbc49438d526bc35dcccdfe",
            "max": 1,
            "min": 0,
            "orientation": "horizontal",
            "style": "IPY_MODEL_596b34566d3944feb34f9e0113875843",
            "value": 1
          }
        },
        "c48a8d49e78e4861baee08fbc31b4692": {
          "model_module": "@jupyter-widgets/controls",
          "model_name": "HTMLModel",
          "model_module_version": "1.5.0",
          "state": {
            "_dom_classes": [],
            "_model_module": "@jupyter-widgets/controls",
            "_model_module_version": "1.5.0",
            "_model_name": "HTMLModel",
            "_view_count": null,
            "_view_module": "@jupyter-widgets/controls",
            "_view_module_version": "1.5.0",
            "_view_name": "HTMLView",
            "description": "",
            "description_tooltip": null,
            "layout": "IPY_MODEL_0a1babbf10984ebe89c7c71bb799321f",
            "placeholder": "​",
            "style": "IPY_MODEL_7c2bb9aa7e324cba8100aa8ca6c1e93b",
            "value": " 1/1 [04:18&lt;00:00, 258.70s/ file]"
          }
        },
        "4fb5686f0e704e8fa918b3e08e65c1a3": {
          "model_module": "@jupyter-widgets/base",
          "model_name": "LayoutModel",
          "model_module_version": "1.2.0",
          "state": {
            "_model_module": "@jupyter-widgets/base",
            "_model_module_version": "1.2.0",
            "_model_name": "LayoutModel",
            "_view_count": null,
            "_view_module": "@jupyter-widgets/base",
            "_view_module_version": "1.2.0",
            "_view_name": "LayoutView",
            "align_content": null,
            "align_items": null,
            "align_self": null,
            "border": null,
            "bottom": null,
            "display": null,
            "flex": null,
            "flex_flow": null,
            "grid_area": null,
            "grid_auto_columns": null,
            "grid_auto_flow": null,
            "grid_auto_rows": null,
            "grid_column": null,
            "grid_gap": null,
            "grid_row": null,
            "grid_template_areas": null,
            "grid_template_columns": null,
            "grid_template_rows": null,
            "height": null,
            "justify_content": null,
            "justify_items": null,
            "left": null,
            "margin": null,
            "max_height": null,
            "max_width": null,
            "min_height": null,
            "min_width": null,
            "object_fit": null,
            "object_position": null,
            "order": null,
            "overflow": null,
            "overflow_x": null,
            "overflow_y": null,
            "padding": null,
            "right": null,
            "top": null,
            "visibility": null,
            "width": null
          }
        },
        "49c834ff41cf484d888e6f425eb7ebce": {
          "model_module": "@jupyter-widgets/base",
          "model_name": "LayoutModel",
          "model_module_version": "1.2.0",
          "state": {
            "_model_module": "@jupyter-widgets/base",
            "_model_module_version": "1.2.0",
            "_model_name": "LayoutModel",
            "_view_count": null,
            "_view_module": "@jupyter-widgets/base",
            "_view_module_version": "1.2.0",
            "_view_name": "LayoutView",
            "align_content": null,
            "align_items": null,
            "align_self": null,
            "border": null,
            "bottom": null,
            "display": null,
            "flex": null,
            "flex_flow": null,
            "grid_area": null,
            "grid_auto_columns": null,
            "grid_auto_flow": null,
            "grid_auto_rows": null,
            "grid_column": null,
            "grid_gap": null,
            "grid_row": null,
            "grid_template_areas": null,
            "grid_template_columns": null,
            "grid_template_rows": null,
            "height": null,
            "justify_content": null,
            "justify_items": null,
            "left": null,
            "margin": null,
            "max_height": null,
            "max_width": null,
            "min_height": null,
            "min_width": null,
            "object_fit": null,
            "object_position": null,
            "order": null,
            "overflow": null,
            "overflow_x": null,
            "overflow_y": null,
            "padding": null,
            "right": null,
            "top": null,
            "visibility": null,
            "width": null
          }
        },
        "4bc7b95f45a646e4807693fc58869478": {
          "model_module": "@jupyter-widgets/controls",
          "model_name": "DescriptionStyleModel",
          "model_module_version": "1.5.0",
          "state": {
            "_model_module": "@jupyter-widgets/controls",
            "_model_module_version": "1.5.0",
            "_model_name": "DescriptionStyleModel",
            "_view_count": null,
            "_view_module": "@jupyter-widgets/base",
            "_view_module_version": "1.2.0",
            "_view_name": "StyleView",
            "description_width": ""
          }
        },
        "d80264bb6dbc49438d526bc35dcccdfe": {
          "model_module": "@jupyter-widgets/base",
          "model_name": "LayoutModel",
          "model_module_version": "1.2.0",
          "state": {
            "_model_module": "@jupyter-widgets/base",
            "_model_module_version": "1.2.0",
            "_model_name": "LayoutModel",
            "_view_count": null,
            "_view_module": "@jupyter-widgets/base",
            "_view_module_version": "1.2.0",
            "_view_name": "LayoutView",
            "align_content": null,
            "align_items": null,
            "align_self": null,
            "border": null,
            "bottom": null,
            "display": null,
            "flex": null,
            "flex_flow": null,
            "grid_area": null,
            "grid_auto_columns": null,
            "grid_auto_flow": null,
            "grid_auto_rows": null,
            "grid_column": null,
            "grid_gap": null,
            "grid_row": null,
            "grid_template_areas": null,
            "grid_template_columns": null,
            "grid_template_rows": null,
            "height": null,
            "justify_content": null,
            "justify_items": null,
            "left": null,
            "margin": null,
            "max_height": null,
            "max_width": null,
            "min_height": null,
            "min_width": null,
            "object_fit": null,
            "object_position": null,
            "order": null,
            "overflow": null,
            "overflow_x": null,
            "overflow_y": null,
            "padding": null,
            "right": null,
            "top": null,
            "visibility": null,
            "width": "20px"
          }
        },
        "596b34566d3944feb34f9e0113875843": {
          "model_module": "@jupyter-widgets/controls",
          "model_name": "ProgressStyleModel",
          "model_module_version": "1.5.0",
          "state": {
            "_model_module": "@jupyter-widgets/controls",
            "_model_module_version": "1.5.0",
            "_model_name": "ProgressStyleModel",
            "_view_count": null,
            "_view_module": "@jupyter-widgets/base",
            "_view_module_version": "1.2.0",
            "_view_name": "StyleView",
            "bar_color": null,
            "description_width": ""
          }
        },
        "0a1babbf10984ebe89c7c71bb799321f": {
          "model_module": "@jupyter-widgets/base",
          "model_name": "LayoutModel",
          "model_module_version": "1.2.0",
          "state": {
            "_model_module": "@jupyter-widgets/base",
            "_model_module_version": "1.2.0",
            "_model_name": "LayoutModel",
            "_view_count": null,
            "_view_module": "@jupyter-widgets/base",
            "_view_module_version": "1.2.0",
            "_view_name": "LayoutView",
            "align_content": null,
            "align_items": null,
            "align_self": null,
            "border": null,
            "bottom": null,
            "display": null,
            "flex": null,
            "flex_flow": null,
            "grid_area": null,
            "grid_auto_columns": null,
            "grid_auto_flow": null,
            "grid_auto_rows": null,
            "grid_column": null,
            "grid_gap": null,
            "grid_row": null,
            "grid_template_areas": null,
            "grid_template_columns": null,
            "grid_template_rows": null,
            "height": null,
            "justify_content": null,
            "justify_items": null,
            "left": null,
            "margin": null,
            "max_height": null,
            "max_width": null,
            "min_height": null,
            "min_width": null,
            "object_fit": null,
            "object_position": null,
            "order": null,
            "overflow": null,
            "overflow_x": null,
            "overflow_y": null,
            "padding": null,
            "right": null,
            "top": null,
            "visibility": null,
            "width": null
          }
        },
        "7c2bb9aa7e324cba8100aa8ca6c1e93b": {
          "model_module": "@jupyter-widgets/controls",
          "model_name": "DescriptionStyleModel",
          "model_module_version": "1.5.0",
          "state": {
            "_model_module": "@jupyter-widgets/controls",
            "_model_module_version": "1.5.0",
            "_model_name": "DescriptionStyleModel",
            "_view_count": null,
            "_view_module": "@jupyter-widgets/base",
            "_view_module_version": "1.2.0",
            "_view_name": "StyleView",
            "description_width": ""
          }
        },
        "4dd0c387b990463e9789e4d919ed8c03": {
          "model_module": "@jupyter-widgets/controls",
          "model_name": "HBoxModel",
          "model_module_version": "1.5.0",
          "state": {
            "_dom_classes": [],
            "_model_module": "@jupyter-widgets/controls",
            "_model_module_version": "1.5.0",
            "_model_name": "HBoxModel",
            "_view_count": null,
            "_view_module": "@jupyter-widgets/controls",
            "_view_module_version": "1.5.0",
            "_view_name": "HBoxView",
            "box_style": "",
            "children": [
              "IPY_MODEL_aff61c51db374742bbf54c7ac199c353",
              "IPY_MODEL_28591c9ec9e1493f8c798c6c2863d33a",
              "IPY_MODEL_64e2826bffbf443999b3ad1fe36c7efb"
            ],
            "layout": "IPY_MODEL_3a66375381e54138ad010558d4f7b437"
          }
        },
        "aff61c51db374742bbf54c7ac199c353": {
          "model_module": "@jupyter-widgets/controls",
          "model_name": "HTMLModel",
          "model_module_version": "1.5.0",
          "state": {
            "_dom_classes": [],
            "_model_module": "@jupyter-widgets/controls",
            "_model_module_version": "1.5.0",
            "_model_name": "HTMLModel",
            "_view_count": null,
            "_view_module": "@jupyter-widgets/controls",
            "_view_module_version": "1.5.0",
            "_view_name": "HTMLView",
            "description": "",
            "description_tooltip": null,
            "layout": "IPY_MODEL_20ba2b9a40904bf69f00666429dfc565",
            "placeholder": "​",
            "style": "IPY_MODEL_273405b57b9043cca08570216f0af152",
            "value": ""
          }
        },
        "28591c9ec9e1493f8c798c6c2863d33a": {
          "model_module": "@jupyter-widgets/controls",
          "model_name": "FloatProgressModel",
          "model_module_version": "1.5.0",
          "state": {
            "_dom_classes": [],
            "_model_module": "@jupyter-widgets/controls",
            "_model_module_version": "1.5.0",
            "_model_name": "FloatProgressModel",
            "_view_count": null,
            "_view_module": "@jupyter-widgets/controls",
            "_view_module_version": "1.5.0",
            "_view_name": "ProgressView",
            "bar_style": "info",
            "description": "",
            "description_tooltip": null,
            "layout": "IPY_MODEL_f83ed64c0b374e03bb5c751221aa64e0",
            "max": 1,
            "min": 0,
            "orientation": "horizontal",
            "style": "IPY_MODEL_af2e350440a7421ebaae96a30b301f5d",
            "value": 1
          }
        },
        "64e2826bffbf443999b3ad1fe36c7efb": {
          "model_module": "@jupyter-widgets/controls",
          "model_name": "HTMLModel",
          "model_module_version": "1.5.0",
          "state": {
            "_dom_classes": [],
            "_model_module": "@jupyter-widgets/controls",
            "_model_module_version": "1.5.0",
            "_model_name": "HTMLModel",
            "_view_count": null,
            "_view_module": "@jupyter-widgets/controls",
            "_view_module_version": "1.5.0",
            "_view_name": "HTMLView",
            "description": "",
            "description_tooltip": null,
            "layout": "IPY_MODEL_7bc1f67ea3e449708424daceed363a06",
            "placeholder": "​",
            "style": "IPY_MODEL_70fc499315414c938e42e6daeb8a93eb",
            "value": " 75670/0 [01:41&lt;00:00, 828.77 examples/s]"
          }
        },
        "3a66375381e54138ad010558d4f7b437": {
          "model_module": "@jupyter-widgets/base",
          "model_name": "LayoutModel",
          "model_module_version": "1.2.0",
          "state": {
            "_model_module": "@jupyter-widgets/base",
            "_model_module_version": "1.2.0",
            "_model_name": "LayoutModel",
            "_view_count": null,
            "_view_module": "@jupyter-widgets/base",
            "_view_module_version": "1.2.0",
            "_view_name": "LayoutView",
            "align_content": null,
            "align_items": null,
            "align_self": null,
            "border": null,
            "bottom": null,
            "display": null,
            "flex": null,
            "flex_flow": null,
            "grid_area": null,
            "grid_auto_columns": null,
            "grid_auto_flow": null,
            "grid_auto_rows": null,
            "grid_column": null,
            "grid_gap": null,
            "grid_row": null,
            "grid_template_areas": null,
            "grid_template_columns": null,
            "grid_template_rows": null,
            "height": null,
            "justify_content": null,
            "justify_items": null,
            "left": null,
            "margin": null,
            "max_height": null,
            "max_width": null,
            "min_height": null,
            "min_width": null,
            "object_fit": null,
            "object_position": null,
            "order": null,
            "overflow": null,
            "overflow_x": null,
            "overflow_y": null,
            "padding": null,
            "right": null,
            "top": null,
            "visibility": null,
            "width": null
          }
        },
        "20ba2b9a40904bf69f00666429dfc565": {
          "model_module": "@jupyter-widgets/base",
          "model_name": "LayoutModel",
          "model_module_version": "1.2.0",
          "state": {
            "_model_module": "@jupyter-widgets/base",
            "_model_module_version": "1.2.0",
            "_model_name": "LayoutModel",
            "_view_count": null,
            "_view_module": "@jupyter-widgets/base",
            "_view_module_version": "1.2.0",
            "_view_name": "LayoutView",
            "align_content": null,
            "align_items": null,
            "align_self": null,
            "border": null,
            "bottom": null,
            "display": null,
            "flex": null,
            "flex_flow": null,
            "grid_area": null,
            "grid_auto_columns": null,
            "grid_auto_flow": null,
            "grid_auto_rows": null,
            "grid_column": null,
            "grid_gap": null,
            "grid_row": null,
            "grid_template_areas": null,
            "grid_template_columns": null,
            "grid_template_rows": null,
            "height": null,
            "justify_content": null,
            "justify_items": null,
            "left": null,
            "margin": null,
            "max_height": null,
            "max_width": null,
            "min_height": null,
            "min_width": null,
            "object_fit": null,
            "object_position": null,
            "order": null,
            "overflow": null,
            "overflow_x": null,
            "overflow_y": null,
            "padding": null,
            "right": null,
            "top": null,
            "visibility": null,
            "width": null
          }
        },
        "273405b57b9043cca08570216f0af152": {
          "model_module": "@jupyter-widgets/controls",
          "model_name": "DescriptionStyleModel",
          "model_module_version": "1.5.0",
          "state": {
            "_model_module": "@jupyter-widgets/controls",
            "_model_module_version": "1.5.0",
            "_model_name": "DescriptionStyleModel",
            "_view_count": null,
            "_view_module": "@jupyter-widgets/base",
            "_view_module_version": "1.2.0",
            "_view_name": "StyleView",
            "description_width": ""
          }
        },
        "f83ed64c0b374e03bb5c751221aa64e0": {
          "model_module": "@jupyter-widgets/base",
          "model_name": "LayoutModel",
          "model_module_version": "1.2.0",
          "state": {
            "_model_module": "@jupyter-widgets/base",
            "_model_module_version": "1.2.0",
            "_model_name": "LayoutModel",
            "_view_count": null,
            "_view_module": "@jupyter-widgets/base",
            "_view_module_version": "1.2.0",
            "_view_name": "LayoutView",
            "align_content": null,
            "align_items": null,
            "align_self": null,
            "border": null,
            "bottom": null,
            "display": null,
            "flex": null,
            "flex_flow": null,
            "grid_area": null,
            "grid_auto_columns": null,
            "grid_auto_flow": null,
            "grid_auto_rows": null,
            "grid_column": null,
            "grid_gap": null,
            "grid_row": null,
            "grid_template_areas": null,
            "grid_template_columns": null,
            "grid_template_rows": null,
            "height": null,
            "justify_content": null,
            "justify_items": null,
            "left": null,
            "margin": null,
            "max_height": null,
            "max_width": null,
            "min_height": null,
            "min_width": null,
            "object_fit": null,
            "object_position": null,
            "order": null,
            "overflow": null,
            "overflow_x": null,
            "overflow_y": null,
            "padding": null,
            "right": null,
            "top": null,
            "visibility": null,
            "width": "20px"
          }
        },
        "af2e350440a7421ebaae96a30b301f5d": {
          "model_module": "@jupyter-widgets/controls",
          "model_name": "ProgressStyleModel",
          "model_module_version": "1.5.0",
          "state": {
            "_model_module": "@jupyter-widgets/controls",
            "_model_module_version": "1.5.0",
            "_model_name": "ProgressStyleModel",
            "_view_count": null,
            "_view_module": "@jupyter-widgets/base",
            "_view_module_version": "1.2.0",
            "_view_name": "StyleView",
            "bar_color": null,
            "description_width": ""
          }
        },
        "7bc1f67ea3e449708424daceed363a06": {
          "model_module": "@jupyter-widgets/base",
          "model_name": "LayoutModel",
          "model_module_version": "1.2.0",
          "state": {
            "_model_module": "@jupyter-widgets/base",
            "_model_module_version": "1.2.0",
            "_model_name": "LayoutModel",
            "_view_count": null,
            "_view_module": "@jupyter-widgets/base",
            "_view_module_version": "1.2.0",
            "_view_name": "LayoutView",
            "align_content": null,
            "align_items": null,
            "align_self": null,
            "border": null,
            "bottom": null,
            "display": null,
            "flex": null,
            "flex_flow": null,
            "grid_area": null,
            "grid_auto_columns": null,
            "grid_auto_flow": null,
            "grid_auto_rows": null,
            "grid_column": null,
            "grid_gap": null,
            "grid_row": null,
            "grid_template_areas": null,
            "grid_template_columns": null,
            "grid_template_rows": null,
            "height": null,
            "justify_content": null,
            "justify_items": null,
            "left": null,
            "margin": null,
            "max_height": null,
            "max_width": null,
            "min_height": null,
            "min_width": null,
            "object_fit": null,
            "object_position": null,
            "order": null,
            "overflow": null,
            "overflow_x": null,
            "overflow_y": null,
            "padding": null,
            "right": null,
            "top": null,
            "visibility": null,
            "width": null
          }
        },
        "70fc499315414c938e42e6daeb8a93eb": {
          "model_module": "@jupyter-widgets/controls",
          "model_name": "DescriptionStyleModel",
          "model_module_version": "1.5.0",
          "state": {
            "_model_module": "@jupyter-widgets/controls",
            "_model_module_version": "1.5.0",
            "_model_name": "DescriptionStyleModel",
            "_view_count": null,
            "_view_module": "@jupyter-widgets/base",
            "_view_module_version": "1.2.0",
            "_view_name": "StyleView",
            "description_width": ""
          }
        },
        "157ed8f93a1d47c3b3753bbb1b6223ba": {
          "model_module": "@jupyter-widgets/controls",
          "model_name": "HBoxModel",
          "model_module_version": "1.5.0",
          "state": {
            "_dom_classes": [],
            "_model_module": "@jupyter-widgets/controls",
            "_model_module_version": "1.5.0",
            "_model_name": "HBoxModel",
            "_view_count": null,
            "_view_module": "@jupyter-widgets/controls",
            "_view_module_version": "1.5.0",
            "_view_name": "HBoxView",
            "box_style": "",
            "children": [
              "IPY_MODEL_f90a6768f22045b3afd2139450326f45",
              "IPY_MODEL_dcd2af0986a445c39c8e784d306e6575",
              "IPY_MODEL_13e3b85375304f85a42eb69258a8ef60"
            ],
            "layout": "IPY_MODEL_8ed1107b92994b359e7b0e6b709defe6"
          }
        },
        "f90a6768f22045b3afd2139450326f45": {
          "model_module": "@jupyter-widgets/controls",
          "model_name": "HTMLModel",
          "model_module_version": "1.5.0",
          "state": {
            "_dom_classes": [],
            "_model_module": "@jupyter-widgets/controls",
            "_model_module_version": "1.5.0",
            "_model_name": "HTMLModel",
            "_view_count": null,
            "_view_module": "@jupyter-widgets/controls",
            "_view_module_version": "1.5.0",
            "_view_name": "HTMLView",
            "description": "",
            "description_tooltip": null,
            "layout": "IPY_MODEL_7d2c793dd5d445a7baaf546fc3ce79b7",
            "placeholder": "​",
            "style": "IPY_MODEL_4ef0b1b4565c4cc8ab9254b906a7a28a",
            "value": "100%"
          }
        },
        "dcd2af0986a445c39c8e784d306e6575": {
          "model_module": "@jupyter-widgets/controls",
          "model_name": "FloatProgressModel",
          "model_module_version": "1.5.0",
          "state": {
            "_dom_classes": [],
            "_model_module": "@jupyter-widgets/controls",
            "_model_module_version": "1.5.0",
            "_model_name": "FloatProgressModel",
            "_view_count": null,
            "_view_module": "@jupyter-widgets/controls",
            "_view_module_version": "1.5.0",
            "_view_name": "ProgressView",
            "bar_style": "danger",
            "description": "",
            "description_tooltip": null,
            "layout": "IPY_MODEL_a0b5cc031f334f5b8290c8a866b02bcd",
            "max": 75750,
            "min": 0,
            "orientation": "horizontal",
            "style": "IPY_MODEL_0cf38cf9f4b545759ea8a07b8a5f1057",
            "value": 75749
          }
        },
        "13e3b85375304f85a42eb69258a8ef60": {
          "model_module": "@jupyter-widgets/controls",
          "model_name": "HTMLModel",
          "model_module_version": "1.5.0",
          "state": {
            "_dom_classes": [],
            "_model_module": "@jupyter-widgets/controls",
            "_model_module_version": "1.5.0",
            "_model_name": "HTMLModel",
            "_view_count": null,
            "_view_module": "@jupyter-widgets/controls",
            "_view_module_version": "1.5.0",
            "_view_name": "HTMLView",
            "description": "",
            "description_tooltip": null,
            "layout": "IPY_MODEL_b9bf47aa542348658728dac3684ed976",
            "placeholder": "​",
            "style": "IPY_MODEL_2966081d70e84b12ac2d5a5da4ecf07d",
            "value": " 75749/75750 [00:24&lt;00:00, 3202.45 examples/s]"
          }
        },
        "8ed1107b92994b359e7b0e6b709defe6": {
          "model_module": "@jupyter-widgets/base",
          "model_name": "LayoutModel",
          "model_module_version": "1.2.0",
          "state": {
            "_model_module": "@jupyter-widgets/base",
            "_model_module_version": "1.2.0",
            "_model_name": "LayoutModel",
            "_view_count": null,
            "_view_module": "@jupyter-widgets/base",
            "_view_module_version": "1.2.0",
            "_view_name": "LayoutView",
            "align_content": null,
            "align_items": null,
            "align_self": null,
            "border": null,
            "bottom": null,
            "display": null,
            "flex": null,
            "flex_flow": null,
            "grid_area": null,
            "grid_auto_columns": null,
            "grid_auto_flow": null,
            "grid_auto_rows": null,
            "grid_column": null,
            "grid_gap": null,
            "grid_row": null,
            "grid_template_areas": null,
            "grid_template_columns": null,
            "grid_template_rows": null,
            "height": null,
            "justify_content": null,
            "justify_items": null,
            "left": null,
            "margin": null,
            "max_height": null,
            "max_width": null,
            "min_height": null,
            "min_width": null,
            "object_fit": null,
            "object_position": null,
            "order": null,
            "overflow": null,
            "overflow_x": null,
            "overflow_y": null,
            "padding": null,
            "right": null,
            "top": null,
            "visibility": null,
            "width": null
          }
        },
        "7d2c793dd5d445a7baaf546fc3ce79b7": {
          "model_module": "@jupyter-widgets/base",
          "model_name": "LayoutModel",
          "model_module_version": "1.2.0",
          "state": {
            "_model_module": "@jupyter-widgets/base",
            "_model_module_version": "1.2.0",
            "_model_name": "LayoutModel",
            "_view_count": null,
            "_view_module": "@jupyter-widgets/base",
            "_view_module_version": "1.2.0",
            "_view_name": "LayoutView",
            "align_content": null,
            "align_items": null,
            "align_self": null,
            "border": null,
            "bottom": null,
            "display": null,
            "flex": null,
            "flex_flow": null,
            "grid_area": null,
            "grid_auto_columns": null,
            "grid_auto_flow": null,
            "grid_auto_rows": null,
            "grid_column": null,
            "grid_gap": null,
            "grid_row": null,
            "grid_template_areas": null,
            "grid_template_columns": null,
            "grid_template_rows": null,
            "height": null,
            "justify_content": null,
            "justify_items": null,
            "left": null,
            "margin": null,
            "max_height": null,
            "max_width": null,
            "min_height": null,
            "min_width": null,
            "object_fit": null,
            "object_position": null,
            "order": null,
            "overflow": null,
            "overflow_x": null,
            "overflow_y": null,
            "padding": null,
            "right": null,
            "top": null,
            "visibility": null,
            "width": null
          }
        },
        "4ef0b1b4565c4cc8ab9254b906a7a28a": {
          "model_module": "@jupyter-widgets/controls",
          "model_name": "DescriptionStyleModel",
          "model_module_version": "1.5.0",
          "state": {
            "_model_module": "@jupyter-widgets/controls",
            "_model_module_version": "1.5.0",
            "_model_name": "DescriptionStyleModel",
            "_view_count": null,
            "_view_module": "@jupyter-widgets/base",
            "_view_module_version": "1.2.0",
            "_view_name": "StyleView",
            "description_width": ""
          }
        },
        "a0b5cc031f334f5b8290c8a866b02bcd": {
          "model_module": "@jupyter-widgets/base",
          "model_name": "LayoutModel",
          "model_module_version": "1.2.0",
          "state": {
            "_model_module": "@jupyter-widgets/base",
            "_model_module_version": "1.2.0",
            "_model_name": "LayoutModel",
            "_view_count": null,
            "_view_module": "@jupyter-widgets/base",
            "_view_module_version": "1.2.0",
            "_view_name": "LayoutView",
            "align_content": null,
            "align_items": null,
            "align_self": null,
            "border": null,
            "bottom": null,
            "display": null,
            "flex": null,
            "flex_flow": null,
            "grid_area": null,
            "grid_auto_columns": null,
            "grid_auto_flow": null,
            "grid_auto_rows": null,
            "grid_column": null,
            "grid_gap": null,
            "grid_row": null,
            "grid_template_areas": null,
            "grid_template_columns": null,
            "grid_template_rows": null,
            "height": null,
            "justify_content": null,
            "justify_items": null,
            "left": null,
            "margin": null,
            "max_height": null,
            "max_width": null,
            "min_height": null,
            "min_width": null,
            "object_fit": null,
            "object_position": null,
            "order": null,
            "overflow": null,
            "overflow_x": null,
            "overflow_y": null,
            "padding": null,
            "right": null,
            "top": null,
            "visibility": null,
            "width": null
          }
        },
        "0cf38cf9f4b545759ea8a07b8a5f1057": {
          "model_module": "@jupyter-widgets/controls",
          "model_name": "ProgressStyleModel",
          "model_module_version": "1.5.0",
          "state": {
            "_model_module": "@jupyter-widgets/controls",
            "_model_module_version": "1.5.0",
            "_model_name": "ProgressStyleModel",
            "_view_count": null,
            "_view_module": "@jupyter-widgets/base",
            "_view_module_version": "1.2.0",
            "_view_name": "StyleView",
            "bar_color": null,
            "description_width": ""
          }
        },
        "b9bf47aa542348658728dac3684ed976": {
          "model_module": "@jupyter-widgets/base",
          "model_name": "LayoutModel",
          "model_module_version": "1.2.0",
          "state": {
            "_model_module": "@jupyter-widgets/base",
            "_model_module_version": "1.2.0",
            "_model_name": "LayoutModel",
            "_view_count": null,
            "_view_module": "@jupyter-widgets/base",
            "_view_module_version": "1.2.0",
            "_view_name": "LayoutView",
            "align_content": null,
            "align_items": null,
            "align_self": null,
            "border": null,
            "bottom": null,
            "display": null,
            "flex": null,
            "flex_flow": null,
            "grid_area": null,
            "grid_auto_columns": null,
            "grid_auto_flow": null,
            "grid_auto_rows": null,
            "grid_column": null,
            "grid_gap": null,
            "grid_row": null,
            "grid_template_areas": null,
            "grid_template_columns": null,
            "grid_template_rows": null,
            "height": null,
            "justify_content": null,
            "justify_items": null,
            "left": null,
            "margin": null,
            "max_height": null,
            "max_width": null,
            "min_height": null,
            "min_width": null,
            "object_fit": null,
            "object_position": null,
            "order": null,
            "overflow": null,
            "overflow_x": null,
            "overflow_y": null,
            "padding": null,
            "right": null,
            "top": null,
            "visibility": null,
            "width": null
          }
        },
        "2966081d70e84b12ac2d5a5da4ecf07d": {
          "model_module": "@jupyter-widgets/controls",
          "model_name": "DescriptionStyleModel",
          "model_module_version": "1.5.0",
          "state": {
            "_model_module": "@jupyter-widgets/controls",
            "_model_module_version": "1.5.0",
            "_model_name": "DescriptionStyleModel",
            "_view_count": null,
            "_view_module": "@jupyter-widgets/base",
            "_view_module_version": "1.2.0",
            "_view_name": "StyleView",
            "description_width": ""
          }
        },
        "f14f8ec49f4348728c64d33ab5d4f214": {
          "model_module": "@jupyter-widgets/controls",
          "model_name": "HBoxModel",
          "model_module_version": "1.5.0",
          "state": {
            "_dom_classes": [],
            "_model_module": "@jupyter-widgets/controls",
            "_model_module_version": "1.5.0",
            "_model_name": "HBoxModel",
            "_view_count": null,
            "_view_module": "@jupyter-widgets/controls",
            "_view_module_version": "1.5.0",
            "_view_name": "HBoxView",
            "box_style": "",
            "children": [
              "IPY_MODEL_1cab1d1095d448c7a10d83f067c9a2c4",
              "IPY_MODEL_19e86616547a4716ad765fa6ca968035",
              "IPY_MODEL_c25a27070be24c91897528776c11a25e"
            ],
            "layout": "IPY_MODEL_df70957b118a496d9e6a4b2471fe024d"
          }
        },
        "1cab1d1095d448c7a10d83f067c9a2c4": {
          "model_module": "@jupyter-widgets/controls",
          "model_name": "HTMLModel",
          "model_module_version": "1.5.0",
          "state": {
            "_dom_classes": [],
            "_model_module": "@jupyter-widgets/controls",
            "_model_module_version": "1.5.0",
            "_model_name": "HTMLModel",
            "_view_count": null,
            "_view_module": "@jupyter-widgets/controls",
            "_view_module_version": "1.5.0",
            "_view_name": "HTMLView",
            "description": "",
            "description_tooltip": null,
            "layout": "IPY_MODEL_135e437e281c4d78a3f97f51f6d08708",
            "placeholder": "​",
            "style": "IPY_MODEL_135fde43a6794167b38f3b2cf7ede05a",
            "value": ""
          }
        },
        "19e86616547a4716ad765fa6ca968035": {
          "model_module": "@jupyter-widgets/controls",
          "model_name": "FloatProgressModel",
          "model_module_version": "1.5.0",
          "state": {
            "_dom_classes": [],
            "_model_module": "@jupyter-widgets/controls",
            "_model_module_version": "1.5.0",
            "_model_name": "FloatProgressModel",
            "_view_count": null,
            "_view_module": "@jupyter-widgets/controls",
            "_view_module_version": "1.5.0",
            "_view_name": "ProgressView",
            "bar_style": "info",
            "description": "",
            "description_tooltip": null,
            "layout": "IPY_MODEL_a1da6e356288422f8634af5c7b085646",
            "max": 1,
            "min": 0,
            "orientation": "horizontal",
            "style": "IPY_MODEL_8cd2237c81b64e9686238402a6dc74de",
            "value": 1
          }
        },
        "c25a27070be24c91897528776c11a25e": {
          "model_module": "@jupyter-widgets/controls",
          "model_name": "HTMLModel",
          "model_module_version": "1.5.0",
          "state": {
            "_dom_classes": [],
            "_model_module": "@jupyter-widgets/controls",
            "_model_module_version": "1.5.0",
            "_model_name": "HTMLModel",
            "_view_count": null,
            "_view_module": "@jupyter-widgets/controls",
            "_view_module_version": "1.5.0",
            "_view_name": "HTMLView",
            "description": "",
            "description_tooltip": null,
            "layout": "IPY_MODEL_731018b13e93404faebe7ea786be1873",
            "placeholder": "​",
            "style": "IPY_MODEL_246ec8ebf69942e2adcd386af1aa9d25",
            "value": " 25228/0 [00:53&lt;00:00, 540.30 examples/s]"
          }
        },
        "df70957b118a496d9e6a4b2471fe024d": {
          "model_module": "@jupyter-widgets/base",
          "model_name": "LayoutModel",
          "model_module_version": "1.2.0",
          "state": {
            "_model_module": "@jupyter-widgets/base",
            "_model_module_version": "1.2.0",
            "_model_name": "LayoutModel",
            "_view_count": null,
            "_view_module": "@jupyter-widgets/base",
            "_view_module_version": "1.2.0",
            "_view_name": "LayoutView",
            "align_content": null,
            "align_items": null,
            "align_self": null,
            "border": null,
            "bottom": null,
            "display": null,
            "flex": null,
            "flex_flow": null,
            "grid_area": null,
            "grid_auto_columns": null,
            "grid_auto_flow": null,
            "grid_auto_rows": null,
            "grid_column": null,
            "grid_gap": null,
            "grid_row": null,
            "grid_template_areas": null,
            "grid_template_columns": null,
            "grid_template_rows": null,
            "height": null,
            "justify_content": null,
            "justify_items": null,
            "left": null,
            "margin": null,
            "max_height": null,
            "max_width": null,
            "min_height": null,
            "min_width": null,
            "object_fit": null,
            "object_position": null,
            "order": null,
            "overflow": null,
            "overflow_x": null,
            "overflow_y": null,
            "padding": null,
            "right": null,
            "top": null,
            "visibility": null,
            "width": null
          }
        },
        "135e437e281c4d78a3f97f51f6d08708": {
          "model_module": "@jupyter-widgets/base",
          "model_name": "LayoutModel",
          "model_module_version": "1.2.0",
          "state": {
            "_model_module": "@jupyter-widgets/base",
            "_model_module_version": "1.2.0",
            "_model_name": "LayoutModel",
            "_view_count": null,
            "_view_module": "@jupyter-widgets/base",
            "_view_module_version": "1.2.0",
            "_view_name": "LayoutView",
            "align_content": null,
            "align_items": null,
            "align_self": null,
            "border": null,
            "bottom": null,
            "display": null,
            "flex": null,
            "flex_flow": null,
            "grid_area": null,
            "grid_auto_columns": null,
            "grid_auto_flow": null,
            "grid_auto_rows": null,
            "grid_column": null,
            "grid_gap": null,
            "grid_row": null,
            "grid_template_areas": null,
            "grid_template_columns": null,
            "grid_template_rows": null,
            "height": null,
            "justify_content": null,
            "justify_items": null,
            "left": null,
            "margin": null,
            "max_height": null,
            "max_width": null,
            "min_height": null,
            "min_width": null,
            "object_fit": null,
            "object_position": null,
            "order": null,
            "overflow": null,
            "overflow_x": null,
            "overflow_y": null,
            "padding": null,
            "right": null,
            "top": null,
            "visibility": null,
            "width": null
          }
        },
        "135fde43a6794167b38f3b2cf7ede05a": {
          "model_module": "@jupyter-widgets/controls",
          "model_name": "DescriptionStyleModel",
          "model_module_version": "1.5.0",
          "state": {
            "_model_module": "@jupyter-widgets/controls",
            "_model_module_version": "1.5.0",
            "_model_name": "DescriptionStyleModel",
            "_view_count": null,
            "_view_module": "@jupyter-widgets/base",
            "_view_module_version": "1.2.0",
            "_view_name": "StyleView",
            "description_width": ""
          }
        },
        "a1da6e356288422f8634af5c7b085646": {
          "model_module": "@jupyter-widgets/base",
          "model_name": "LayoutModel",
          "model_module_version": "1.2.0",
          "state": {
            "_model_module": "@jupyter-widgets/base",
            "_model_module_version": "1.2.0",
            "_model_name": "LayoutModel",
            "_view_count": null,
            "_view_module": "@jupyter-widgets/base",
            "_view_module_version": "1.2.0",
            "_view_name": "LayoutView",
            "align_content": null,
            "align_items": null,
            "align_self": null,
            "border": null,
            "bottom": null,
            "display": null,
            "flex": null,
            "flex_flow": null,
            "grid_area": null,
            "grid_auto_columns": null,
            "grid_auto_flow": null,
            "grid_auto_rows": null,
            "grid_column": null,
            "grid_gap": null,
            "grid_row": null,
            "grid_template_areas": null,
            "grid_template_columns": null,
            "grid_template_rows": null,
            "height": null,
            "justify_content": null,
            "justify_items": null,
            "left": null,
            "margin": null,
            "max_height": null,
            "max_width": null,
            "min_height": null,
            "min_width": null,
            "object_fit": null,
            "object_position": null,
            "order": null,
            "overflow": null,
            "overflow_x": null,
            "overflow_y": null,
            "padding": null,
            "right": null,
            "top": null,
            "visibility": null,
            "width": "20px"
          }
        },
        "8cd2237c81b64e9686238402a6dc74de": {
          "model_module": "@jupyter-widgets/controls",
          "model_name": "ProgressStyleModel",
          "model_module_version": "1.5.0",
          "state": {
            "_model_module": "@jupyter-widgets/controls",
            "_model_module_version": "1.5.0",
            "_model_name": "ProgressStyleModel",
            "_view_count": null,
            "_view_module": "@jupyter-widgets/base",
            "_view_module_version": "1.2.0",
            "_view_name": "StyleView",
            "bar_color": null,
            "description_width": ""
          }
        },
        "731018b13e93404faebe7ea786be1873": {
          "model_module": "@jupyter-widgets/base",
          "model_name": "LayoutModel",
          "model_module_version": "1.2.0",
          "state": {
            "_model_module": "@jupyter-widgets/base",
            "_model_module_version": "1.2.0",
            "_model_name": "LayoutModel",
            "_view_count": null,
            "_view_module": "@jupyter-widgets/base",
            "_view_module_version": "1.2.0",
            "_view_name": "LayoutView",
            "align_content": null,
            "align_items": null,
            "align_self": null,
            "border": null,
            "bottom": null,
            "display": null,
            "flex": null,
            "flex_flow": null,
            "grid_area": null,
            "grid_auto_columns": null,
            "grid_auto_flow": null,
            "grid_auto_rows": null,
            "grid_column": null,
            "grid_gap": null,
            "grid_row": null,
            "grid_template_areas": null,
            "grid_template_columns": null,
            "grid_template_rows": null,
            "height": null,
            "justify_content": null,
            "justify_items": null,
            "left": null,
            "margin": null,
            "max_height": null,
            "max_width": null,
            "min_height": null,
            "min_width": null,
            "object_fit": null,
            "object_position": null,
            "order": null,
            "overflow": null,
            "overflow_x": null,
            "overflow_y": null,
            "padding": null,
            "right": null,
            "top": null,
            "visibility": null,
            "width": null
          }
        },
        "246ec8ebf69942e2adcd386af1aa9d25": {
          "model_module": "@jupyter-widgets/controls",
          "model_name": "DescriptionStyleModel",
          "model_module_version": "1.5.0",
          "state": {
            "_model_module": "@jupyter-widgets/controls",
            "_model_module_version": "1.5.0",
            "_model_name": "DescriptionStyleModel",
            "_view_count": null,
            "_view_module": "@jupyter-widgets/base",
            "_view_module_version": "1.2.0",
            "_view_name": "StyleView",
            "description_width": ""
          }
        },
        "c2abdb116dfa4edb94ea061dd78b3f6a": {
          "model_module": "@jupyter-widgets/controls",
          "model_name": "HBoxModel",
          "model_module_version": "1.5.0",
          "state": {
            "_dom_classes": [],
            "_model_module": "@jupyter-widgets/controls",
            "_model_module_version": "1.5.0",
            "_model_name": "HBoxModel",
            "_view_count": null,
            "_view_module": "@jupyter-widgets/controls",
            "_view_module_version": "1.5.0",
            "_view_name": "HBoxView",
            "box_style": "",
            "children": [
              "IPY_MODEL_5f2f3209a03645f38f337280125c973c",
              "IPY_MODEL_27b7b2a27eee42338473900975f3f526",
              "IPY_MODEL_b70ba42053914262a9991e14161e35a0"
            ],
            "layout": "IPY_MODEL_814694fbc7874a8dbefdf48f4c4b67b8"
          }
        },
        "5f2f3209a03645f38f337280125c973c": {
          "model_module": "@jupyter-widgets/controls",
          "model_name": "HTMLModel",
          "model_module_version": "1.5.0",
          "state": {
            "_dom_classes": [],
            "_model_module": "@jupyter-widgets/controls",
            "_model_module_version": "1.5.0",
            "_model_name": "HTMLModel",
            "_view_count": null,
            "_view_module": "@jupyter-widgets/controls",
            "_view_module_version": "1.5.0",
            "_view_name": "HTMLView",
            "description": "",
            "description_tooltip": null,
            "layout": "IPY_MODEL_e57497cb18834e43985d4800237a29bb",
            "placeholder": "​",
            "style": "IPY_MODEL_7fc9b0575256477299f461e1b3f4837a",
            "value": "100%"
          }
        },
        "27b7b2a27eee42338473900975f3f526": {
          "model_module": "@jupyter-widgets/controls",
          "model_name": "FloatProgressModel",
          "model_module_version": "1.5.0",
          "state": {
            "_dom_classes": [],
            "_model_module": "@jupyter-widgets/controls",
            "_model_module_version": "1.5.0",
            "_model_name": "FloatProgressModel",
            "_view_count": null,
            "_view_module": "@jupyter-widgets/controls",
            "_view_module_version": "1.5.0",
            "_view_name": "ProgressView",
            "bar_style": "danger",
            "description": "",
            "description_tooltip": null,
            "layout": "IPY_MODEL_7881196ed6514a28a2a454e8f3df772a",
            "max": 25250,
            "min": 0,
            "orientation": "horizontal",
            "style": "IPY_MODEL_d112144f0e3743bfa85db00ea84ec2b5",
            "value": 25249
          }
        },
        "b70ba42053914262a9991e14161e35a0": {
          "model_module": "@jupyter-widgets/controls",
          "model_name": "HTMLModel",
          "model_module_version": "1.5.0",
          "state": {
            "_dom_classes": [],
            "_model_module": "@jupyter-widgets/controls",
            "_model_module_version": "1.5.0",
            "_model_name": "HTMLModel",
            "_view_count": null,
            "_view_module": "@jupyter-widgets/controls",
            "_view_module_version": "1.5.0",
            "_view_name": "HTMLView",
            "description": "",
            "description_tooltip": null,
            "layout": "IPY_MODEL_4c7584b63aad4cc98f7c7dbcdab38ec9",
            "placeholder": "​",
            "style": "IPY_MODEL_0d3c24cfdec84db6872a22f5ed44bc47",
            "value": " 25249/25250 [00:05&lt;00:00, 5554.93 examples/s]"
          }
        },
        "814694fbc7874a8dbefdf48f4c4b67b8": {
          "model_module": "@jupyter-widgets/base",
          "model_name": "LayoutModel",
          "model_module_version": "1.2.0",
          "state": {
            "_model_module": "@jupyter-widgets/base",
            "_model_module_version": "1.2.0",
            "_model_name": "LayoutModel",
            "_view_count": null,
            "_view_module": "@jupyter-widgets/base",
            "_view_module_version": "1.2.0",
            "_view_name": "LayoutView",
            "align_content": null,
            "align_items": null,
            "align_self": null,
            "border": null,
            "bottom": null,
            "display": null,
            "flex": null,
            "flex_flow": null,
            "grid_area": null,
            "grid_auto_columns": null,
            "grid_auto_flow": null,
            "grid_auto_rows": null,
            "grid_column": null,
            "grid_gap": null,
            "grid_row": null,
            "grid_template_areas": null,
            "grid_template_columns": null,
            "grid_template_rows": null,
            "height": null,
            "justify_content": null,
            "justify_items": null,
            "left": null,
            "margin": null,
            "max_height": null,
            "max_width": null,
            "min_height": null,
            "min_width": null,
            "object_fit": null,
            "object_position": null,
            "order": null,
            "overflow": null,
            "overflow_x": null,
            "overflow_y": null,
            "padding": null,
            "right": null,
            "top": null,
            "visibility": null,
            "width": null
          }
        },
        "e57497cb18834e43985d4800237a29bb": {
          "model_module": "@jupyter-widgets/base",
          "model_name": "LayoutModel",
          "model_module_version": "1.2.0",
          "state": {
            "_model_module": "@jupyter-widgets/base",
            "_model_module_version": "1.2.0",
            "_model_name": "LayoutModel",
            "_view_count": null,
            "_view_module": "@jupyter-widgets/base",
            "_view_module_version": "1.2.0",
            "_view_name": "LayoutView",
            "align_content": null,
            "align_items": null,
            "align_self": null,
            "border": null,
            "bottom": null,
            "display": null,
            "flex": null,
            "flex_flow": null,
            "grid_area": null,
            "grid_auto_columns": null,
            "grid_auto_flow": null,
            "grid_auto_rows": null,
            "grid_column": null,
            "grid_gap": null,
            "grid_row": null,
            "grid_template_areas": null,
            "grid_template_columns": null,
            "grid_template_rows": null,
            "height": null,
            "justify_content": null,
            "justify_items": null,
            "left": null,
            "margin": null,
            "max_height": null,
            "max_width": null,
            "min_height": null,
            "min_width": null,
            "object_fit": null,
            "object_position": null,
            "order": null,
            "overflow": null,
            "overflow_x": null,
            "overflow_y": null,
            "padding": null,
            "right": null,
            "top": null,
            "visibility": null,
            "width": null
          }
        },
        "7fc9b0575256477299f461e1b3f4837a": {
          "model_module": "@jupyter-widgets/controls",
          "model_name": "DescriptionStyleModel",
          "model_module_version": "1.5.0",
          "state": {
            "_model_module": "@jupyter-widgets/controls",
            "_model_module_version": "1.5.0",
            "_model_name": "DescriptionStyleModel",
            "_view_count": null,
            "_view_module": "@jupyter-widgets/base",
            "_view_module_version": "1.2.0",
            "_view_name": "StyleView",
            "description_width": ""
          }
        },
        "7881196ed6514a28a2a454e8f3df772a": {
          "model_module": "@jupyter-widgets/base",
          "model_name": "LayoutModel",
          "model_module_version": "1.2.0",
          "state": {
            "_model_module": "@jupyter-widgets/base",
            "_model_module_version": "1.2.0",
            "_model_name": "LayoutModel",
            "_view_count": null,
            "_view_module": "@jupyter-widgets/base",
            "_view_module_version": "1.2.0",
            "_view_name": "LayoutView",
            "align_content": null,
            "align_items": null,
            "align_self": null,
            "border": null,
            "bottom": null,
            "display": null,
            "flex": null,
            "flex_flow": null,
            "grid_area": null,
            "grid_auto_columns": null,
            "grid_auto_flow": null,
            "grid_auto_rows": null,
            "grid_column": null,
            "grid_gap": null,
            "grid_row": null,
            "grid_template_areas": null,
            "grid_template_columns": null,
            "grid_template_rows": null,
            "height": null,
            "justify_content": null,
            "justify_items": null,
            "left": null,
            "margin": null,
            "max_height": null,
            "max_width": null,
            "min_height": null,
            "min_width": null,
            "object_fit": null,
            "object_position": null,
            "order": null,
            "overflow": null,
            "overflow_x": null,
            "overflow_y": null,
            "padding": null,
            "right": null,
            "top": null,
            "visibility": null,
            "width": null
          }
        },
        "d112144f0e3743bfa85db00ea84ec2b5": {
          "model_module": "@jupyter-widgets/controls",
          "model_name": "ProgressStyleModel",
          "model_module_version": "1.5.0",
          "state": {
            "_model_module": "@jupyter-widgets/controls",
            "_model_module_version": "1.5.0",
            "_model_name": "ProgressStyleModel",
            "_view_count": null,
            "_view_module": "@jupyter-widgets/base",
            "_view_module_version": "1.2.0",
            "_view_name": "StyleView",
            "bar_color": null,
            "description_width": ""
          }
        },
        "4c7584b63aad4cc98f7c7dbcdab38ec9": {
          "model_module": "@jupyter-widgets/base",
          "model_name": "LayoutModel",
          "model_module_version": "1.2.0",
          "state": {
            "_model_module": "@jupyter-widgets/base",
            "_model_module_version": "1.2.0",
            "_model_name": "LayoutModel",
            "_view_count": null,
            "_view_module": "@jupyter-widgets/base",
            "_view_module_version": "1.2.0",
            "_view_name": "LayoutView",
            "align_content": null,
            "align_items": null,
            "align_self": null,
            "border": null,
            "bottom": null,
            "display": null,
            "flex": null,
            "flex_flow": null,
            "grid_area": null,
            "grid_auto_columns": null,
            "grid_auto_flow": null,
            "grid_auto_rows": null,
            "grid_column": null,
            "grid_gap": null,
            "grid_row": null,
            "grid_template_areas": null,
            "grid_template_columns": null,
            "grid_template_rows": null,
            "height": null,
            "justify_content": null,
            "justify_items": null,
            "left": null,
            "margin": null,
            "max_height": null,
            "max_width": null,
            "min_height": null,
            "min_width": null,
            "object_fit": null,
            "object_position": null,
            "order": null,
            "overflow": null,
            "overflow_x": null,
            "overflow_y": null,
            "padding": null,
            "right": null,
            "top": null,
            "visibility": null,
            "width": null
          }
        },
        "0d3c24cfdec84db6872a22f5ed44bc47": {
          "model_module": "@jupyter-widgets/controls",
          "model_name": "DescriptionStyleModel",
          "model_module_version": "1.5.0",
          "state": {
            "_model_module": "@jupyter-widgets/controls",
            "_model_module_version": "1.5.0",
            "_model_name": "DescriptionStyleModel",
            "_view_count": null,
            "_view_module": "@jupyter-widgets/base",
            "_view_module_version": "1.2.0",
            "_view_name": "StyleView",
            "description_width": ""
          }
        }
      }
    }
  },
  "nbformat": 4,
  "nbformat_minor": 0
}