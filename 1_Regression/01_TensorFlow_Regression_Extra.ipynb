{
  "nbformat": 4,
  "nbformat_minor": 0,
  "metadata": {
    "colab": {
      "name": "01_TensorFlow Regression Extra",
      "provenance": []
    },
    "kernelspec": {
      "name": "python3",
      "display_name": "Python 3"
    },
    "language_info": {
      "name": "python"
    }
  },
  "cells": [
    {
      "cell_type": "markdown",
      "source": [
        "# This notebook will focus on outputting a regression model regarding the Boston house-price data hosted on tensorflow\n",
        "- Download the model from tfds\n",
        "- Explore the dataset\n",
        "- Build a baseline using sklearn\n",
        "- Beat the baseline using Tensorflow\n",
        "- Follow a VGG architecture for the next model\n",
        "- EXTRA: Try reinforced learning"
      ],
      "metadata": {
        "id": "53Bw4Cc6Q8J1"
      }
    },
    {
      "cell_type": "code",
      "source": [
        "import tensorflow as tf\n",
        "from tensorflow.keras import layers\n",
        "import tensorflow_datasets as tfds\n",
        "import matplotlib.pyplot as plt"
      ],
      "metadata": {
        "id": "W_4guDB6SgPN"
      },
      "execution_count": 76,
      "outputs": []
    },
    {
      "cell_type": "code",
      "source": [
        "# The data used will be taken from tfds\n",
        "(X_train, y_train), (X_test, y_test) = tf.keras.datasets.boston_housing.load_data(\n",
        "    path='boston_housing.npz', test_split=0.2, seed=113)"
      ],
      "metadata": {
        "colab": {
          "base_uri": "https://localhost:8080/"
        },
        "id": "jWBsfc3xTOKr",
        "outputId": "49aa1838-a8ba-4436-aa82-f9bbe9cbf18f"
      },
      "execution_count": 3,
      "outputs": [
        {
          "output_type": "stream",
          "name": "stdout",
          "text": [
            "Downloading data from https://storage.googleapis.com/tensorflow/tf-keras-datasets/boston_housing.npz\n",
            "57344/57026 [==============================] - 0s 0us/step\n",
            "65536/57026 [==================================] - 0s 0us/step\n"
          ]
        }
      ]
    },
    {
      "cell_type": "markdown",
      "source": [
        "# Explore the dataset\n",
        "The link to the official dataset can be found here: http://lib.stat.cmu.edu/datasets/boston\n",
        "\n",
        "Variables in order:\n",
        "- CRIM:     per capita crime rate by town\n",
        "- ZN   :    proportion of residential land zoned for lots over 25,000 sq.ft.\n",
        "- INDUS :   proportion of non-retail business acres per town\n",
        "- CHAS  :   Charles River dummy variable (= 1 if tract bounds river; 0 otherwise)\n",
        "- NOX    :  nitric oxides concentration (parts per 10 million)\n",
        "- RM      : average number of rooms per dwelling\n",
        "- AGE     : proportion of owner-occupied units built prior to 1940\n",
        "- DIS     : weighted distances to five Boston employment centres\n",
        "- RAD     : index of accessibility to radial highways\n",
        "- TAX     : :full value property tax rate per 10,000 USD\n",
        "- PTRATIO : pupil teacher ratio by town\n",
        "- B      :  1000(Bk - 0.63)^2 where: Bk is the proportion of blacks by town\n",
        "- LSTAT  :  % lower status of the population\n",
        "- MEDV   :  Median value of owner occupied homes in $1000's"
      ],
      "metadata": {
        "id": "lKs7HAwKYDfD"
      }
    },
    {
      "cell_type": "code",
      "source": [
        "# The dataset appears to be standardized and preprocessed for quick use!\n",
        "X_train[:5], X_train.shape, y_train.shape, X_test.shape, y_test.shape"
      ],
      "metadata": {
        "colab": {
          "base_uri": "https://localhost:8080/"
        },
        "id": "HukMCDD3YHgz",
        "outputId": "b501a5dd-6784-4bf3-9d89-50071e3eda1b"
      },
      "execution_count": 4,
      "outputs": [
        {
          "output_type": "execute_result",
          "data": {
            "text/plain": [
              "(array([[1.23247e+00, 0.00000e+00, 8.14000e+00, 0.00000e+00, 5.38000e-01,\n",
              "         6.14200e+00, 9.17000e+01, 3.97690e+00, 4.00000e+00, 3.07000e+02,\n",
              "         2.10000e+01, 3.96900e+02, 1.87200e+01],\n",
              "        [2.17700e-02, 8.25000e+01, 2.03000e+00, 0.00000e+00, 4.15000e-01,\n",
              "         7.61000e+00, 1.57000e+01, 6.27000e+00, 2.00000e+00, 3.48000e+02,\n",
              "         1.47000e+01, 3.95380e+02, 3.11000e+00],\n",
              "        [4.89822e+00, 0.00000e+00, 1.81000e+01, 0.00000e+00, 6.31000e-01,\n",
              "         4.97000e+00, 1.00000e+02, 1.33250e+00, 2.40000e+01, 6.66000e+02,\n",
              "         2.02000e+01, 3.75520e+02, 3.26000e+00],\n",
              "        [3.96100e-02, 0.00000e+00, 5.19000e+00, 0.00000e+00, 5.15000e-01,\n",
              "         6.03700e+00, 3.45000e+01, 5.98530e+00, 5.00000e+00, 2.24000e+02,\n",
              "         2.02000e+01, 3.96900e+02, 8.01000e+00],\n",
              "        [3.69311e+00, 0.00000e+00, 1.81000e+01, 0.00000e+00, 7.13000e-01,\n",
              "         6.37600e+00, 8.84000e+01, 2.56710e+00, 2.40000e+01, 6.66000e+02,\n",
              "         2.02000e+01, 3.91430e+02, 1.46500e+01]]),\n",
              " (404, 13),\n",
              " (404,),\n",
              " (102, 13),\n",
              " (102,))"
            ]
          },
          "metadata": {},
          "execution_count": 4
        }
      ]
    },
    {
      "cell_type": "markdown",
      "source": [
        "### The dataset from tensorflow appears to be preprocessed and ready to be fed to the machine learning model"
      ],
      "metadata": {
        "id": "jHZRuF4vglQj"
      }
    },
    {
      "cell_type": "markdown",
      "source": [
        "# Build model_0: The baseline\n",
        "- Use sklearn's linear regression function\n",
        "- Evaluate the model using any metric function from sklearn\n",
        "- Visualize the data to better understand the output"
      ],
      "metadata": {
        "id": "6K6iEG-8izr1"
      }
    },
    {
      "cell_type": "code",
      "source": [
        "from sklearn.linear_model import LinearRegression\n",
        "from sklearn.metrics import mean_squared_error as mse \n",
        "\n",
        "model_0 = LinearRegression()\n",
        "\n",
        "# Fit the model\n",
        "model_0.fit(X_train, y_train)\n",
        "\n",
        "# Evaluate the model\n",
        "model_0_preds = model_0.predict(X_test)\n",
        "print(f\"Mean Squared Error (MSE): {mse(y_test, model_0_preds):.2f} \\\n",
        "\\nR2 score (Coefficient of Determination): {model_0.score(X_test, y_test):.2f}\")"
      ],
      "metadata": {
        "colab": {
          "base_uri": "https://localhost:8080/"
        },
        "id": "7B9XkcjBYKrz",
        "outputId": "4de758e0-3762-4be2-e0b6-a4878cf2be87"
      },
      "execution_count": 5,
      "outputs": [
        {
          "output_type": "stream",
          "name": "stdout",
          "text": [
            "Mean Squared Error (MSE): 23.20 \n",
            "R2 score (Coefficient of Determination): 0.72\n"
          ]
        }
      ]
    },
    {
      "cell_type": "markdown",
      "source": [
        "## Visualize the predicted result against the actual y_values "
      ],
      "metadata": {
        "id": "egRrPmcygftE"
      }
    },
    {
      "cell_type": "code",
      "source": [
        "model_0_preds.shape, y_test.shape"
      ],
      "metadata": {
        "colab": {
          "base_uri": "https://localhost:8080/"
        },
        "id": "5-c0idm7lAth",
        "outputId": "75393053-7a7e-4a9d-f2eb-027c42383c8d"
      },
      "execution_count": 6,
      "outputs": [
        {
          "output_type": "execute_result",
          "data": {
            "text/plain": [
              "((102,), (102,))"
            ]
          },
          "metadata": {},
          "execution_count": 6
        }
      ]
    },
    {
      "cell_type": "code",
      "source": [
        "# Plot the y_test vs the y_pred\n",
        "import seaborn as sns\n",
        "sns.regplot(x=y_test, y=model_0_preds, ci=None, color=\"b\")"
      ],
      "metadata": {
        "colab": {
          "base_uri": "https://localhost:8080/",
          "height": 282
        },
        "id": "DfAGud5YkCTk",
        "outputId": "23665b38-50ef-4f12-9977-ebadd565f348"
      },
      "execution_count": 7,
      "outputs": [
        {
          "output_type": "execute_result",
          "data": {
            "text/plain": [
              "<matplotlib.axes._subplots.AxesSubplot at 0x7fc93d6a8350>"
            ]
          },
          "metadata": {},
          "execution_count": 7
        },
        {
          "output_type": "display_data",
          "data": {
            "text/plain": [
              "<Figure size 432x288 with 1 Axes>"
            ],
            "image/png": "[encoded data removed]"
          },
          "metadata": {
            "needs_background": "light"
          }
        }
      ]
    },
    {
      "cell_type": "code",
      "source": [
        "def pred_plot(y_preds, y_test=y_test):\n",
        "  sns.regplot(x=y_test, y=y_preds, ci=None, color=\"b\")"
      ],
      "metadata": {
        "id": "ghQr0nZb3t_x"
      },
      "execution_count": 16,
      "outputs": []
    },
    {
      "cell_type": "markdown",
      "source": [
        "# Model_1: Building a simple regression model using tensorflow"
      ],
      "metadata": {
        "id": "9ZJJ3_gtkyPX"
      }
    },
    {
      "cell_type": "code",
      "source": [
        "# Set the random seed\n",
        "tf.random.set_seed = 42\n",
        "\n",
        "# Create the model\n",
        "model_1 = tf.keras.Sequential([\n",
        "                             layers.Dense(130, activation=\"relu\"),\n",
        "                             layers.Dense(1)\n",
        "])\n",
        "\n",
        "# Compile the model\n",
        "model_1.compile(loss=tf.keras.losses.mse,\n",
        "                optimizer=tf.keras.optimizers.SGD(),\n",
        "                metrics=[\"mse\"])\n",
        "\n",
        "# Build the model\n",
        "history_1 = model_1.fit(X_train,\n",
        "                        y_train,\n",
        "                        epochs=500,\n",
        "                        verbose=0)"
      ],
      "metadata": {
        "id": "hvSnuiQ9uRS_"
      },
      "execution_count": 47,
      "outputs": []
    },
    {
      "cell_type": "code",
      "source": [
        "# Evaluate the model\n",
        "model_1.evaluate(X_test, y_test)"
      ],
      "metadata": {
        "colab": {
          "base_uri": "https://localhost:8080/"
        },
        "id": "1vyEU-dp3OUJ",
        "outputId": "f45362ff-fab0-4816-b68b-d732f66793b6"
      },
      "execution_count": 48,
      "outputs": [
        {
          "output_type": "stream",
          "name": "stdout",
          "text": [
            "4/4 [==============================] - 0s 3ms/step - loss: 83.6925 - mse: 83.6925\n"
          ]
        },
        {
          "output_type": "execute_result",
          "data": {
            "text/plain": [
              "[83.6925048828125, 83.6925048828125]"
            ]
          },
          "metadata": {},
          "execution_count": 48
        }
      ]
    },
    {
      "cell_type": "code",
      "source": [
        "model_1_preds = model_1.predict(X_test)\n",
        "pred_plot(model_1_preds, y_test)"
      ],
      "metadata": {
        "colab": {
          "base_uri": "https://localhost:8080/",
          "height": 265
        },
        "id": "i_7qrfSP3e1I",
        "outputId": "fb13b513-6527-41e2-9b57-fb9e663b0a38"
      },
      "execution_count": 49,
      "outputs": [
        {
          "output_type": "display_data",
          "data": {
            "text/plain": [
              "<Figure size 432x288 with 1 Axes>"
            ],
            "image/png": "[encoded data removed]"
          },
          "metadata": {
            "needs_background": "light"
          }
        }
      ]
    },
    {
      "cell_type": "code",
      "source": [
        "model_1_preds[:10]"
      ],
      "metadata": {
        "colab": {
          "base_uri": "https://localhost:8080/"
        },
        "id": "TC9dofBq4XEx",
        "outputId": "068a01eb-bd43-4072-b3b1-602605aff5ad"
      },
      "execution_count": 50,
      "outputs": [
        {
          "output_type": "execute_result",
          "data": {
            "text/plain": [
              "array([[22.408613],\n",
              "       [22.408613],\n",
              "       [22.408613],\n",
              "       [22.408613],\n",
              "       [22.408613],\n",
              "       [22.408613],\n",
              "       [22.408613],\n",
              "       [22.408613],\n",
              "       [22.408613],\n",
              "       [22.408613]], dtype=float32)"
            ]
          },
          "metadata": {},
          "execution_count": 50
        }
      ]
    },
    {
      "cell_type": "markdown",
      "source": [
        "The model doesn't seem to be doing well. Try fixing that in the next model"
      ],
      "metadata": {
        "id": "RWOld8xx5U4S"
      }
    },
    {
      "cell_type": "markdown",
      "source": [
        "# Model_2: Building a simple regression model with adjusted parameters"
      ],
      "metadata": {
        "id": "tDqVreAI6WJY"
      }
    },
    {
      "cell_type": "code",
      "source": [
        "# Set the random seed\n",
        "tf.random.set_seed = 42\n",
        "\n",
        "# Create the model\n",
        "model_2 = tf.keras.Sequential([\n",
        "                             layers.Dense(130, activation=\"relu\"),\n",
        "                             layers.Dense(1)\n",
        "])\n",
        "\n",
        "# Compile the model\n",
        "model_2.compile(loss=tf.keras.losses.mse,\n",
        "                optimizer=tf.keras.optimizers.Adam(),\n",
        "                metrics=[\"mse\"])\n",
        "\n",
        "# Build the model\n",
        "history_2 = model_2.fit(X_train,\n",
        "                        y_train,\n",
        "                        epochs=150,\n",
        "                        verbose=0)"
      ],
      "metadata": {
        "id": "DNOjbM7F6fiL"
      },
      "execution_count": 70,
      "outputs": []
    },
    {
      "cell_type": "code",
      "source": [
        "# Evaluate the model\n",
        "model_2.evaluate(X_test, y_test), mse(y_test, model_0_preds)"
      ],
      "metadata": {
        "colab": {
          "base_uri": "https://localhost:8080/"
        },
        "id": "541MIh-S6rHr",
        "outputId": "16d6b2f5-f197-446b-c81b-c07699186189"
      },
      "execution_count": 71,
      "outputs": [
        {
          "output_type": "stream",
          "name": "stdout",
          "text": [
            "4/4 [==============================] - 0s 3ms/step - loss: 25.1010 - mse: 25.1010\n"
          ]
        },
        {
          "output_type": "execute_result",
          "data": {
            "text/plain": [
              "([25.100971221923828, 25.100971221923828], 23.195599256422906)"
            ]
          },
          "metadata": {},
          "execution_count": 71
        }
      ]
    },
    {
      "cell_type": "code",
      "source": [
        "model_2_preds = model_2.predict(X_test)\n",
        "pred_plot(y_test, model_2_preds)"
      ],
      "metadata": {
        "colab": {
          "base_uri": "https://localhost:8080/",
          "height": 265
        },
        "id": "1gmRwj7Z63G7",
        "outputId": "d0b73de2-c372-4eb8-b09d-d68b0b3d7177"
      },
      "execution_count": 115,
      "outputs": [
        {
          "output_type": "display_data",
          "data": {
            "text/plain": [
              "<Figure size 432x288 with 1 Axes>"
            ],
            "image/png": "[encoded data removed]"
          },
          "metadata": {
            "needs_background": "light"
          }
        }
      ]
    },
    {
      "cell_type": "code",
      "source": [
        "def plot_curves(history):\n",
        "  \"\"\"\n",
        "  Returns separate loss curves for training and validation metrics.\n",
        "\n",
        "  Args:\n",
        "    history: TensorFlow model History object (see: https://www.tensorflow.org/api_docs/python/tf/keras/callbacks/History)\n",
        "  \"\"\" \n",
        "  loss = history.history['loss']\n",
        "  mse = history.history['mse']\n",
        "  epochs = range(len(history.history['loss']))\n",
        "  \n",
        "  # The loss is mse in this case\n",
        "  # # Plot loss\n",
        "  # plt.plot(epochs, loss, label='loss')\n",
        "  # plt.title('Loss')\n",
        "  # plt.xlabel('Epochs')\n",
        "  # plt.legend()\n",
        "\n",
        "  # Plot mse\n",
        "  plt.figure()\n",
        "  plt.plot(epochs, mse, label='mse')\n",
        "  plt.title('MSE')\n",
        "  plt.xlabel('Epochs')\n",
        "  plt.legend()"
      ],
      "metadata": {
        "id": "5-uGAPOB-GuO"
      },
      "execution_count": 87,
      "outputs": []
    },
    {
      "cell_type": "markdown",
      "source": [
        "The model appears to be performing much better using the Adam optimizer. However, it is time to make a slightly more complex model."
      ],
      "metadata": {
        "id": "pYfN93m17wUE"
      }
    },
    {
      "cell_type": "code",
      "source": [
        "plot_curves(history_2)"
      ],
      "metadata": {
        "colab": {
          "base_uri": "https://localhost:8080/",
          "height": 295
        },
        "id": "qYJbAkug_NgL",
        "outputId": "1c03fe98-f5de-4b8e-dad6-ddb5c89f5933"
      },
      "execution_count": 88,
      "outputs": [
        {
          "output_type": "display_data",
          "data": {
            "text/plain": [
              "<Figure size 432x288 with 1 Axes>"
            ],
            "image/png": "[encoded data removed]"
          },
          "metadata": {
            "needs_background": "light"
          }
        }
      ]
    },
    {
      "cell_type": "markdown",
      "source": [
        "# Model_3: Building a more complex model"
      ],
      "metadata": {
        "id": "_4m25ov48p_N"
      }
    },
    {
      "cell_type": "code",
      "source": [
        "# Set the random seed\n",
        "tf.random.set_seed = 42\n",
        "\n",
        "# Create the model\n",
        "model_3 = tf.keras.Sequential([\n",
        "                             layers.Dense(130, activation=\"relu\"),\n",
        "                             layers.Dense(130, activation=\"relu\"),\n",
        "                             layers.Dense(1)\n",
        "])\n",
        "\n",
        "# Compile the model\n",
        "model_3.compile(loss=tf.keras.losses.mse,\n",
        "                optimizer=tf.keras.optimizers.Adam(learning_rate=0.001),\n",
        "                metrics=[\"mse\"])\n",
        "\n",
        "# Build the model\n",
        "history_3 = model_3.fit(X_train,\n",
        "                        y_train,\n",
        "                        epochs=150,\n",
        "                        verbose=0)"
      ],
      "metadata": {
        "id": "JEuRQnex80js"
      },
      "execution_count": 184,
      "outputs": []
    },
    {
      "cell_type": "code",
      "source": [
        "# Evaluate the model\n",
        "model_3.evaluate(X_test, y_test)"
      ],
      "metadata": {
        "colab": {
          "base_uri": "https://localhost:8080/"
        },
        "id": "7VkuYzeiCAK3",
        "outputId": "89b80534-dc51-4d40-f3ff-a96e31c588dc"
      },
      "execution_count": 185,
      "outputs": [
        {
          "output_type": "stream",
          "name": "stdout",
          "text": [
            "4/4 [==============================] - 0s 3ms/step - loss: 33.7120 - mse: 33.7120\n"
          ]
        },
        {
          "output_type": "execute_result",
          "data": {
            "text/plain": [
              "[33.712005615234375, 33.712005615234375]"
            ]
          },
          "metadata": {},
          "execution_count": 185
        }
      ]
    },
    {
      "cell_type": "code",
      "source": [
        "model_3_preds = model_3.predict(X_test)\n",
        "pred_plot(y_test, model_3_preds)"
      ],
      "metadata": {
        "colab": {
          "base_uri": "https://localhost:8080/",
          "height": 265
        },
        "id": "YI4e6e-dCF16",
        "outputId": "79e13451-d85c-4112-b912-ff1a384e2c4c"
      },
      "execution_count": 186,
      "outputs": [
        {
          "output_type": "display_data",
          "data": {
            "text/plain": [
              "<Figure size 432x288 with 1 Axes>"
            ],
            "image/png": "[encoded data removed]"
          },
          "metadata": {
            "needs_background": "light"
          }
        }
      ]
    },
    {
      "cell_type": "code",
      "source": [
        "plot_curves(history_3)"
      ],
      "metadata": {
        "colab": {
          "base_uri": "https://localhost:8080/",
          "height": 295
        },
        "id": "9bf0i8x3C9-0",
        "outputId": "a585b998-68b9-42a1-bb0d-2a80b5350d81"
      },
      "execution_count": 187,
      "outputs": [
        {
          "output_type": "display_data",
          "data": {
            "text/plain": [
              "<Figure size 432x288 with 1 Axes>"
            ],
            "image/png": "[encoded data removed]"
          },
          "metadata": {
            "needs_background": "light"
          }
        }
      ]
    },
    {
      "cell_type": "code",
      "source": [
        ""
      ],
      "metadata": {
        "id": "X1jMVUQtKleJ"
      },
      "execution_count": null,
      "outputs": []
    }
  ]
}