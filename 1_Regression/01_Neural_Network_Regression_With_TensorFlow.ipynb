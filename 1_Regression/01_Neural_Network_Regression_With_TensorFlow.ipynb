{
  "cells": [
    {
      "cell_type": "code",
      "execution_count": null,
      "metadata": {
        "colab": {
          "base_uri": "https://localhost:8080/",
          "height": 269
        },
        "id": "c8cIU7eXKdSP",
        "outputId": "ae561210-8fab-43a8-f978-b6e1715b76cd"
      },
      "outputs": [
        {
          "output_type": "display_data",
          "data": {
            "text/plain": [
              "<Figure size 432x288 with 1 Axes>"
            ],
            "image/png": "[encoded data removed]"
          },
          "metadata": {
            "needs_background": "light"
          }
        }
      ],
      "source": [
        "import numpy as np\n",
        "import matplotlib.pyplot as plt\n",
        "\n",
        "\n",
        "# Creating Features\n",
        "X = np.array([-7.0, -4.0, -1.0, 2.0, 5.0, 8.0, 11.0, 14.0])\n",
        "\n",
        "# Creating Labels\n",
        "y = np.array([3.0, 6.0, 9.0, 12.0, 15.0, 18.0, 21.0, 24.0])\n",
        "\n",
        "# Visualizing the data\n",
        "plt.scatter(X, y);"
      ]
    },
    {
      "cell_type": "code",
      "execution_count": null,
      "metadata": {
        "colab": {
          "base_uri": "https://localhost:8080/"
        },
        "id": "Xl9Go3P0KrfW",
        "outputId": "dac020cf-722f-4be3-8a63-e2bf97932e0e"
      },
      "outputs": [
        {
          "output_type": "execute_result",
          "data": {
            "text/plain": [
              "array([ True,  True,  True,  True,  True,  True,  True,  True])"
            ]
          },
          "metadata": {},
          "execution_count": 2
        }
      ],
      "source": [
        "y == X + 10"
      ]
    },
    {
      "cell_type": "code",
      "execution_count": null,
      "metadata": {
        "colab": {
          "base_uri": "https://localhost:8080/"
        },
        "id": "3AaCAx2nRS-E",
        "outputId": "bba5ecf2-959d-4473-eb39-b9e40fc75b29"
      },
      "outputs": [
        {
          "output_type": "execute_result",
          "data": {
            "text/plain": [
              "(<tf.Tensor: shape=(8,), dtype=float64, numpy=array([-7., -4., -1.,  2.,  5.,  8., 11., 14.])>,\n",
              " <tf.Tensor: shape=(8,), dtype=float64, numpy=array([ 3.,  6.,  9., 12., 15., 18., 21., 24.])>)"
            ]
          },
          "metadata": {},
          "execution_count": 3
        }
      ],
      "source": [
        "import tensorflow as tf\n",
        "\n",
        "# Turn NumPy arrays into tensors\n",
        "X = tf.constant(X)\n",
        "y = tf.constant(y)\n",
        "X, y"
      ]
    },
    {
      "cell_type": "code",
      "execution_count": null,
      "metadata": {
        "colab": {
          "base_uri": "https://localhost:8080/"
        },
        "id": "tDEBtEwGLSyo",
        "outputId": "30237504-5051-4be7-dbf8-208d000e06c6"
      },
      "outputs": [
        {
          "output_type": "stream",
          "name": "stdout",
          "text": [
            "Epoch 1/5\n",
            "1/1 [==============================] - 1s 674ms/step - loss: 11.5048 - mae: 11.5048\n",
            "Epoch 2/5\n",
            "1/1 [==============================] - 0s 15ms/step - loss: 11.3723 - mae: 11.3723\n",
            "Epoch 3/5\n",
            "1/1 [==============================] - 0s 11ms/step - loss: 11.2398 - mae: 11.2398\n",
            "Epoch 4/5\n",
            "1/1 [==============================] - 0s 10ms/step - loss: 11.1073 - mae: 11.1073\n",
            "Epoch 5/5\n",
            "1/1 [==============================] - 0s 9ms/step - loss: 10.9748 - mae: 10.9748\n"
          ]
        },
        {
          "output_type": "execute_result",
          "data": {
            "text/plain": [
              "<keras.callbacks.History at 0x7f57d13cd210>"
            ]
          },
          "metadata": {},
          "execution_count": 4
        }
      ],
      "source": [
        "# Seed\n",
        "tf.random.set_seed(42)\n",
        "\n",
        "# Creating a model using the Sequenctial API\n",
        "model = tf.keras.Sequential([\n",
        "                             tf.keras.layers.Dense(1)\n",
        "])\n",
        "\n",
        "# Compile the model\n",
        "model.compile(loss=tf.keras.losses.mae,\n",
        "              optimizer=tf.keras.optimizers.SGD(), # Stochastic gradient descent can replace all with \"sgd\"\n",
        "              metrics=[\"mae\"])\n",
        "\n",
        "# Fit the model\n",
        "model.fit(tf.expand_dims(X, axis=-1), y, epochs=5)"
      ]
    },
    {
      "cell_type": "code",
      "execution_count": null,
      "metadata": {
        "colab": {
          "base_uri": "https://localhost:8080/"
        },
        "id": "U8PrdDdmOIM2",
        "outputId": "dc2d17ee-d30e-4337-fe9c-0b67bc22d00a"
      },
      "outputs": [
        {
          "output_type": "execute_result",
          "data": {
            "text/plain": [
              "(<tf.Tensor: shape=(8,), dtype=float64, numpy=array([-7., -4., -1.,  2.,  5.,  8., 11., 14.])>,\n",
              " <tf.Tensor: shape=(8,), dtype=float64, numpy=array([ 3.,  6.,  9., 12., 15., 18., 21., 24.])>,\n",
              " array([[12.716021]], dtype=float32))"
            ]
          },
          "metadata": {},
          "execution_count": 5
        }
      ],
      "source": [
        "X, y, model.predict([17.0]) # 17 should be 27 not so good"
      ]
    },
    {
      "cell_type": "markdown",
      "metadata": {
        "id": "HHBtp0SHS7yW"
      },
      "source": [
        "## Improve the model by \n",
        "\n",
        "1. Creating a model - add more layers (neurons) or change the activation function\n",
        "\n",
        "2. Compiling a model - change the optimiazation function or learning rate of the function\n",
        "\n",
        "3. Fitting a model - add more epochs (generations) or increase data size"
      ]
    },
    {
      "cell_type": "code",
      "execution_count": null,
      "metadata": {
        "colab": {
          "base_uri": "https://localhost:8080/"
        },
        "id": "tKHayD--Sj2j",
        "outputId": "ba766376-5f67-44e8-c9e4-f7f1493b97fd"
      },
      "outputs": [
        {
          "output_type": "stream",
          "name": "stdout",
          "text": [
            "Epoch 1/100\n",
            "1/1 [==============================] - 1s 637ms/step - loss: 11.5048 - mae: 11.5048\n",
            "Epoch 2/100\n",
            "1/1 [==============================] - 0s 15ms/step - loss: 11.3723 - mae: 11.3723\n",
            "Epoch 3/100\n",
            "1/1 [==============================] - 0s 12ms/step - loss: 11.2398 - mae: 11.2398\n",
            "Epoch 4/100\n",
            "1/1 [==============================] - 0s 13ms/step - loss: 11.1073 - mae: 11.1073\n",
            "Epoch 5/100\n",
            "1/1 [==============================] - 0s 16ms/step - loss: 10.9748 - mae: 10.9748\n",
            "Epoch 6/100\n",
            "1/1 [==============================] - 0s 20ms/step - loss: 10.8423 - mae: 10.8423\n",
            "Epoch 7/100\n",
            "1/1 [==============================] - 0s 10ms/step - loss: 10.7098 - mae: 10.7098\n",
            "Epoch 8/100\n",
            "1/1 [==============================] - 0s 22ms/step - loss: 10.5773 - mae: 10.5773\n",
            "Epoch 9/100\n",
            "1/1 [==============================] - 0s 10ms/step - loss: 10.4448 - mae: 10.4448\n",
            "Epoch 10/100\n",
            "1/1 [==============================] - 0s 23ms/step - loss: 10.3123 - mae: 10.3123\n",
            "Epoch 11/100\n",
            "1/1 [==============================] - 0s 20ms/step - loss: 10.1798 - mae: 10.1798\n",
            "Epoch 12/100\n",
            "1/1 [==============================] - 0s 13ms/step - loss: 10.0473 - mae: 10.0473\n",
            "Epoch 13/100\n",
            "1/1 [==============================] - 0s 9ms/step - loss: 9.9148 - mae: 9.9148\n",
            "Epoch 14/100\n",
            "1/1 [==============================] - 0s 9ms/step - loss: 9.7823 - mae: 9.7823\n",
            "Epoch 15/100\n",
            "1/1 [==============================] - 0s 10ms/step - loss: 9.6498 - mae: 9.6498\n",
            "Epoch 16/100\n",
            "1/1 [==============================] - 0s 23ms/step - loss: 9.5173 - mae: 9.5173\n",
            "Epoch 17/100\n",
            "1/1 [==============================] - 0s 19ms/step - loss: 9.3848 - mae: 9.3848\n",
            "Epoch 18/100\n",
            "1/1 [==============================] - 0s 31ms/step - loss: 9.2523 - mae: 9.2523\n",
            "Epoch 19/100\n",
            "1/1 [==============================] - 0s 26ms/step - loss: 9.1198 - mae: 9.1198\n",
            "Epoch 20/100\n",
            "1/1 [==============================] - 0s 15ms/step - loss: 8.9873 - mae: 8.9873\n",
            "Epoch 21/100\n",
            "1/1 [==============================] - 0s 22ms/step - loss: 8.8548 - mae: 8.8548\n",
            "Epoch 22/100\n",
            "1/1 [==============================] - 0s 15ms/step - loss: 8.7223 - mae: 8.7223\n",
            "Epoch 23/100\n",
            "1/1 [==============================] - 0s 9ms/step - loss: 8.5898 - mae: 8.5898\n",
            "Epoch 24/100\n",
            "1/1 [==============================] - 0s 6ms/step - loss: 8.4573 - mae: 8.4573\n",
            "Epoch 25/100\n",
            "1/1 [==============================] - 0s 6ms/step - loss: 8.3248 - mae: 8.3248\n",
            "Epoch 26/100\n",
            "1/1 [==============================] - 0s 6ms/step - loss: 8.1923 - mae: 8.1923\n",
            "Epoch 27/100\n",
            "1/1 [==============================] - 0s 6ms/step - loss: 8.0598 - mae: 8.0598\n",
            "Epoch 28/100\n",
            "1/1 [==============================] - 0s 6ms/step - loss: 7.9273 - mae: 7.9273\n",
            "Epoch 29/100\n",
            "1/1 [==============================] - 0s 10ms/step - loss: 7.7948 - mae: 7.7948\n",
            "Epoch 30/100\n",
            "1/1 [==============================] - 0s 6ms/step - loss: 7.6623 - mae: 7.6623\n",
            "Epoch 31/100\n",
            "1/1 [==============================] - 0s 15ms/step - loss: 7.5298 - mae: 7.5298\n",
            "Epoch 32/100\n",
            "1/1 [==============================] - 0s 15ms/step - loss: 7.3973 - mae: 7.3973\n",
            "Epoch 33/100\n",
            "1/1 [==============================] - 0s 23ms/step - loss: 7.2648 - mae: 7.2648\n",
            "Epoch 34/100\n",
            "1/1 [==============================] - 0s 10ms/step - loss: 7.2525 - mae: 7.2525\n",
            "Epoch 35/100\n",
            "1/1 [==============================] - 0s 18ms/step - loss: 7.2469 - mae: 7.2469\n",
            "Epoch 36/100\n",
            "1/1 [==============================] - 0s 12ms/step - loss: 7.2413 - mae: 7.2413\n",
            "Epoch 37/100\n",
            "1/1 [==============================] - 0s 13ms/step - loss: 7.2356 - mae: 7.2356\n",
            "Epoch 38/100\n",
            "1/1 [==============================] - 0s 23ms/step - loss: 7.2300 - mae: 7.2300\n",
            "Epoch 39/100\n",
            "1/1 [==============================] - 0s 9ms/step - loss: 7.2244 - mae: 7.2244\n",
            "Epoch 40/100\n",
            "1/1 [==============================] - 0s 39ms/step - loss: 7.2188 - mae: 7.2188\n",
            "Epoch 41/100\n",
            "1/1 [==============================] - 0s 5ms/step - loss: 7.2131 - mae: 7.2131\n",
            "Epoch 42/100\n",
            "1/1 [==============================] - 0s 11ms/step - loss: 7.2075 - mae: 7.2075\n",
            "Epoch 43/100\n",
            "1/1 [==============================] - 0s 9ms/step - loss: 7.2019 - mae: 7.2019\n",
            "Epoch 44/100\n",
            "1/1 [==============================] - 0s 12ms/step - loss: 7.1963 - mae: 7.1963\n",
            "Epoch 45/100\n",
            "1/1 [==============================] - 0s 10ms/step - loss: 7.1906 - mae: 7.1906\n",
            "Epoch 46/100\n",
            "1/1 [==============================] - 0s 12ms/step - loss: 7.1850 - mae: 7.1850\n",
            "Epoch 47/100\n",
            "1/1 [==============================] - 0s 12ms/step - loss: 7.1794 - mae: 7.1794\n",
            "Epoch 48/100\n",
            "1/1 [==============================] - 0s 14ms/step - loss: 7.1738 - mae: 7.1738\n",
            "Epoch 49/100\n",
            "1/1 [==============================] - 0s 8ms/step - loss: 7.1681 - mae: 7.1681\n",
            "Epoch 50/100\n",
            "1/1 [==============================] - 0s 10ms/step - loss: 7.1625 - mae: 7.1625\n",
            "Epoch 51/100\n",
            "1/1 [==============================] - 0s 9ms/step - loss: 7.1569 - mae: 7.1569\n",
            "Epoch 52/100\n",
            "1/1 [==============================] - 0s 9ms/step - loss: 7.1512 - mae: 7.1512\n",
            "Epoch 53/100\n",
            "1/1 [==============================] - 0s 11ms/step - loss: 7.1456 - mae: 7.1456\n",
            "Epoch 54/100\n",
            "1/1 [==============================] - 0s 23ms/step - loss: 7.1400 - mae: 7.1400\n",
            "Epoch 55/100\n",
            "1/1 [==============================] - 0s 36ms/step - loss: 7.1344 - mae: 7.1344\n",
            "Epoch 56/100\n",
            "1/1 [==============================] - 0s 14ms/step - loss: 7.1287 - mae: 7.1287\n",
            "Epoch 57/100\n",
            "1/1 [==============================] - 0s 7ms/step - loss: 7.1231 - mae: 7.1231\n",
            "Epoch 58/100\n",
            "1/1 [==============================] - 0s 15ms/step - loss: 7.1175 - mae: 7.1175\n",
            "Epoch 59/100\n",
            "1/1 [==============================] - 0s 24ms/step - loss: 7.1119 - mae: 7.1119\n",
            "Epoch 60/100\n",
            "1/1 [==============================] - 0s 9ms/step - loss: 7.1063 - mae: 7.1063\n",
            "Epoch 61/100\n",
            "1/1 [==============================] - 0s 8ms/step - loss: 7.1006 - mae: 7.1006\n",
            "Epoch 62/100\n",
            "1/1 [==============================] - 0s 6ms/step - loss: 7.0950 - mae: 7.0950\n",
            "Epoch 63/100\n",
            "1/1 [==============================] - 0s 23ms/step - loss: 7.0894 - mae: 7.0894\n",
            "Epoch 64/100\n",
            "1/1 [==============================] - 0s 11ms/step - loss: 7.0838 - mae: 7.0838\n",
            "Epoch 65/100\n",
            "1/1 [==============================] - 0s 17ms/step - loss: 7.0781 - mae: 7.0781\n",
            "Epoch 66/100\n",
            "1/1 [==============================] - 0s 14ms/step - loss: 7.0725 - mae: 7.0725\n",
            "Epoch 67/100\n",
            "1/1 [==============================] - 0s 19ms/step - loss: 7.0669 - mae: 7.0669\n",
            "Epoch 68/100\n",
            "1/1 [==============================] - 0s 12ms/step - loss: 7.0613 - mae: 7.0613\n",
            "Epoch 69/100\n",
            "1/1 [==============================] - 0s 14ms/step - loss: 7.0556 - mae: 7.0556\n",
            "Epoch 70/100\n",
            "1/1 [==============================] - 0s 7ms/step - loss: 7.0500 - mae: 7.0500\n",
            "Epoch 71/100\n",
            "1/1 [==============================] - 0s 9ms/step - loss: 7.0444 - mae: 7.0444\n",
            "Epoch 72/100\n",
            "1/1 [==============================] - 0s 13ms/step - loss: 7.0388 - mae: 7.0388\n",
            "Epoch 73/100\n",
            "1/1 [==============================] - 0s 10ms/step - loss: 7.0331 - mae: 7.0331\n",
            "Epoch 74/100\n",
            "1/1 [==============================] - 0s 20ms/step - loss: 7.0275 - mae: 7.0275\n",
            "Epoch 75/100\n",
            "1/1 [==============================] - 0s 8ms/step - loss: 7.0219 - mae: 7.0219\n",
            "Epoch 76/100\n",
            "1/1 [==============================] - 0s 9ms/step - loss: 7.0163 - mae: 7.0163\n",
            "Epoch 77/100\n",
            "1/1 [==============================] - 0s 5ms/step - loss: 7.0106 - mae: 7.0106\n",
            "Epoch 78/100\n",
            "1/1 [==============================] - 0s 5ms/step - loss: 7.0050 - mae: 7.0050\n",
            "Epoch 79/100\n",
            "1/1 [==============================] - 0s 6ms/step - loss: 6.9994 - mae: 6.9994\n",
            "Epoch 80/100\n",
            "1/1 [==============================] - 0s 7ms/step - loss: 6.9938 - mae: 6.9938\n",
            "Epoch 81/100\n",
            "1/1 [==============================] - 0s 5ms/step - loss: 6.9881 - mae: 6.9881\n",
            "Epoch 82/100\n",
            "1/1 [==============================] - 0s 8ms/step - loss: 6.9825 - mae: 6.9825\n",
            "Epoch 83/100\n",
            "1/1 [==============================] - 0s 11ms/step - loss: 6.9769 - mae: 6.9769\n",
            "Epoch 84/100\n",
            "1/1 [==============================] - 0s 10ms/step - loss: 6.9713 - mae: 6.9713\n",
            "Epoch 85/100\n",
            "1/1 [==============================] - 0s 22ms/step - loss: 6.9656 - mae: 6.9656\n",
            "Epoch 86/100\n",
            "1/1 [==============================] - 0s 21ms/step - loss: 6.9600 - mae: 6.9600\n",
            "Epoch 87/100\n",
            "1/1 [==============================] - 0s 19ms/step - loss: 6.9544 - mae: 6.9544\n",
            "Epoch 88/100\n",
            "1/1 [==============================] - 0s 21ms/step - loss: 6.9488 - mae: 6.9488\n",
            "Epoch 89/100\n",
            "1/1 [==============================] - 0s 15ms/step - loss: 6.9431 - mae: 6.9431\n",
            "Epoch 90/100\n",
            "1/1 [==============================] - 0s 23ms/step - loss: 6.9375 - mae: 6.9375\n",
            "Epoch 91/100\n",
            "1/1 [==============================] - 0s 10ms/step - loss: 6.9319 - mae: 6.9319\n",
            "Epoch 92/100\n",
            "1/1 [==============================] - 0s 8ms/step - loss: 6.9263 - mae: 6.9263\n",
            "Epoch 93/100\n",
            "1/1 [==============================] - 0s 9ms/step - loss: 6.9206 - mae: 6.9206\n",
            "Epoch 94/100\n",
            "1/1 [==============================] - 0s 21ms/step - loss: 6.9150 - mae: 6.9150\n",
            "Epoch 95/100\n",
            "1/1 [==============================] - 0s 7ms/step - loss: 6.9094 - mae: 6.9094\n",
            "Epoch 96/100\n",
            "1/1 [==============================] - 0s 12ms/step - loss: 6.9038 - mae: 6.9038\n",
            "Epoch 97/100\n",
            "1/1 [==============================] - 0s 18ms/step - loss: 6.8981 - mae: 6.8981\n",
            "Epoch 98/100\n",
            "1/1 [==============================] - 0s 7ms/step - loss: 6.8925 - mae: 6.8925\n",
            "Epoch 99/100\n",
            "1/1 [==============================] - 0s 6ms/step - loss: 6.8869 - mae: 6.8869\n",
            "Epoch 100/100\n",
            "1/1 [==============================] - 0s 6ms/step - loss: 6.8813 - mae: 6.8813\n"
          ]
        },
        {
          "output_type": "execute_result",
          "data": {
            "text/plain": [
              "<keras.callbacks.History at 0x7f57d1339550>"
            ]
          },
          "metadata": {},
          "execution_count": 6
        }
      ],
      "source": [
        "# Seed\n",
        "tf.random.set_seed(42)\n",
        "\n",
        "# Creating a model using the Sequenctial API \n",
        "model = tf.keras.Sequential([\n",
        "\n",
        "                             tf.keras.layers.Dense(1)\n",
        "])\n",
        "\n",
        "# Compile the model\n",
        "model.compile(loss=tf.keras.losses.mae,\n",
        "              optimizer=tf.keras.optimizers.SGD(), # Stochastic gradient descent can replace all with \"sgd\"\n",
        "              metrics=[\"mae\"])\n",
        "\n",
        "# Fit the model AND improve by increasing epochs\n",
        "model.fit(tf.expand_dims(X, axis=-1), y, epochs=100)"
      ]
    },
    {
      "cell_type": "code",
      "execution_count": null,
      "metadata": {
        "colab": {
          "base_uri": "https://localhost:8080/"
        },
        "id": "PoAk8xs7S6ps",
        "outputId": "0ee9f08e-62cb-4964-e037-0857974e87f4"
      },
      "outputs": [
        {
          "output_type": "execute_result",
          "data": {
            "text/plain": [
              "(<tf.Tensor: shape=(8,), dtype=float64, numpy=array([-7., -4., -1.,  2.,  5.,  8., 11., 14.])>,\n",
              " <tf.Tensor: shape=(8,), dtype=float64, numpy=array([ 3.,  6.,  9., 12., 15., 18., 21., 24.])>,\n",
              " array([[30.158512]], dtype=float32))"
            ]
          },
          "metadata": {},
          "execution_count": 7
        }
      ],
      "source": [
        "X,y,model.predict([17.0]) # 3 marks off better than last time"
      ]
    },
    {
      "cell_type": "code",
      "execution_count": null,
      "metadata": {
        "colab": {
          "base_uri": "https://localhost:8080/"
        },
        "id": "ZIf0LESMosnS",
        "outputId": "99b7e25a-71b2-4764-b15f-4afc36346fba"
      },
      "outputs": [
        {
          "output_type": "stream",
          "name": "stdout",
          "text": [
            "Epoch 1/100\n",
            "1/1 [==============================] - 1s 772ms/step - loss: 15.2829 - mae: 15.2829\n",
            "Epoch 2/100\n",
            "1/1 [==============================] - 0s 18ms/step - loss: 15.2128 - mae: 15.2128\n",
            "Epoch 3/100\n",
            "1/1 [==============================] - 0s 28ms/step - loss: 15.1438 - mae: 15.1438\n",
            "Epoch 4/100\n",
            "1/1 [==============================] - 0s 23ms/step - loss: 15.0739 - mae: 15.0739\n",
            "Epoch 5/100\n",
            "1/1 [==============================] - 0s 12ms/step - loss: 15.0044 - mae: 15.0044\n",
            "Epoch 6/100\n",
            "1/1 [==============================] - 0s 22ms/step - loss: 14.9350 - mae: 14.9350\n",
            "Epoch 7/100\n",
            "1/1 [==============================] - 0s 19ms/step - loss: 14.8659 - mae: 14.8659\n",
            "Epoch 8/100\n",
            "1/1 [==============================] - 0s 14ms/step - loss: 14.7967 - mae: 14.7967\n",
            "Epoch 9/100\n",
            "1/1 [==============================] - 0s 18ms/step - loss: 14.7277 - mae: 14.7277\n",
            "Epoch 10/100\n",
            "1/1 [==============================] - 0s 13ms/step - loss: 14.6587 - mae: 14.6587\n",
            "Epoch 11/100\n",
            "1/1 [==============================] - 0s 18ms/step - loss: 14.5897 - mae: 14.5897\n",
            "Epoch 12/100\n",
            "1/1 [==============================] - 0s 31ms/step - loss: 14.5208 - mae: 14.5208\n",
            "Epoch 13/100\n",
            "1/1 [==============================] - 0s 13ms/step - loss: 14.4520 - mae: 14.4520\n",
            "Epoch 14/100\n",
            "1/1 [==============================] - 0s 27ms/step - loss: 14.3832 - mae: 14.3832\n",
            "Epoch 15/100\n",
            "1/1 [==============================] - 0s 15ms/step - loss: 14.3145 - mae: 14.3145\n",
            "Epoch 16/100\n",
            "1/1 [==============================] - 0s 16ms/step - loss: 14.2459 - mae: 14.2459\n",
            "Epoch 17/100\n",
            "1/1 [==============================] - 0s 17ms/step - loss: 14.1773 - mae: 14.1773\n",
            "Epoch 18/100\n",
            "1/1 [==============================] - 0s 17ms/step - loss: 14.1089 - mae: 14.1089\n",
            "Epoch 19/100\n",
            "1/1 [==============================] - 0s 14ms/step - loss: 14.0405 - mae: 14.0405\n",
            "Epoch 20/100\n",
            "1/1 [==============================] - 0s 18ms/step - loss: 13.9722 - mae: 13.9722\n",
            "Epoch 21/100\n",
            "1/1 [==============================] - 0s 11ms/step - loss: 13.9038 - mae: 13.9038\n",
            "Epoch 22/100\n",
            "1/1 [==============================] - 0s 16ms/step - loss: 13.8357 - mae: 13.8357\n",
            "Epoch 23/100\n",
            "1/1 [==============================] - 0s 14ms/step - loss: 13.7678 - mae: 13.7678\n",
            "Epoch 24/100\n",
            "1/1 [==============================] - 0s 13ms/step - loss: 13.7003 - mae: 13.7003\n",
            "Epoch 25/100\n",
            "1/1 [==============================] - 0s 21ms/step - loss: 13.6330 - mae: 13.6330\n",
            "Epoch 26/100\n",
            "1/1 [==============================] - 0s 16ms/step - loss: 13.5658 - mae: 13.5658\n",
            "Epoch 27/100\n",
            "1/1 [==============================] - 0s 9ms/step - loss: 13.4985 - mae: 13.4985\n",
            "Epoch 28/100\n",
            "1/1 [==============================] - 0s 15ms/step - loss: 13.4312 - mae: 13.4312\n",
            "Epoch 29/100\n",
            "1/1 [==============================] - 0s 18ms/step - loss: 13.3639 - mae: 13.3639\n",
            "Epoch 30/100\n",
            "1/1 [==============================] - 0s 9ms/step - loss: 13.2966 - mae: 13.2966\n",
            "Epoch 31/100\n",
            "1/1 [==============================] - 0s 9ms/step - loss: 13.2293 - mae: 13.2293\n",
            "Epoch 32/100\n",
            "1/1 [==============================] - 0s 12ms/step - loss: 13.1619 - mae: 13.1619\n",
            "Epoch 33/100\n",
            "1/1 [==============================] - 0s 23ms/step - loss: 13.0945 - mae: 13.0945\n",
            "Epoch 34/100\n",
            "1/1 [==============================] - 0s 19ms/step - loss: 13.0272 - mae: 13.0272\n",
            "Epoch 35/100\n",
            "1/1 [==============================] - 0s 18ms/step - loss: 12.9598 - mae: 12.9598\n",
            "Epoch 36/100\n",
            "1/1 [==============================] - 0s 18ms/step - loss: 12.8925 - mae: 12.8925\n",
            "Epoch 37/100\n",
            "1/1 [==============================] - 0s 20ms/step - loss: 12.8251 - mae: 12.8251\n",
            "Epoch 38/100\n",
            "1/1 [==============================] - 0s 20ms/step - loss: 12.7577 - mae: 12.7577\n",
            "Epoch 39/100\n",
            "1/1 [==============================] - 0s 21ms/step - loss: 12.6903 - mae: 12.6903\n",
            "Epoch 40/100\n",
            "1/1 [==============================] - 0s 19ms/step - loss: 12.6228 - mae: 12.6228\n",
            "Epoch 41/100\n",
            "1/1 [==============================] - 0s 27ms/step - loss: 12.5551 - mae: 12.5551\n",
            "Epoch 42/100\n",
            "1/1 [==============================] - 0s 20ms/step - loss: 12.4874 - mae: 12.4874\n",
            "Epoch 43/100\n",
            "1/1 [==============================] - 0s 16ms/step - loss: 12.4196 - mae: 12.4196\n",
            "Epoch 44/100\n",
            "1/1 [==============================] - 0s 13ms/step - loss: 12.3516 - mae: 12.3516\n",
            "Epoch 45/100\n",
            "1/1 [==============================] - 0s 11ms/step - loss: 12.2835 - mae: 12.2835\n",
            "Epoch 46/100\n",
            "1/1 [==============================] - 0s 12ms/step - loss: 12.2153 - mae: 12.2153\n",
            "Epoch 47/100\n",
            "1/1 [==============================] - 0s 28ms/step - loss: 12.1469 - mae: 12.1469\n",
            "Epoch 48/100\n",
            "1/1 [==============================] - 0s 14ms/step - loss: 12.0784 - mae: 12.0784\n",
            "Epoch 49/100\n",
            "1/1 [==============================] - 0s 14ms/step - loss: 12.0097 - mae: 12.0097\n",
            "Epoch 50/100\n",
            "1/1 [==============================] - 0s 17ms/step - loss: 11.9409 - mae: 11.9409\n",
            "Epoch 51/100\n",
            "1/1 [==============================] - 0s 14ms/step - loss: 11.8719 - mae: 11.8719\n",
            "Epoch 52/100\n",
            "1/1 [==============================] - 0s 17ms/step - loss: 11.8028 - mae: 11.8028\n",
            "Epoch 53/100\n",
            "1/1 [==============================] - 0s 17ms/step - loss: 11.7335 - mae: 11.7335\n",
            "Epoch 54/100\n",
            "1/1 [==============================] - 0s 15ms/step - loss: 11.6642 - mae: 11.6642\n",
            "Epoch 55/100\n",
            "1/1 [==============================] - 0s 23ms/step - loss: 11.5947 - mae: 11.5947\n",
            "Epoch 56/100\n",
            "1/1 [==============================] - 0s 13ms/step - loss: 11.5251 - mae: 11.5251\n",
            "Epoch 57/100\n",
            "1/1 [==============================] - 0s 19ms/step - loss: 11.4554 - mae: 11.4554\n",
            "Epoch 58/100\n",
            "1/1 [==============================] - 0s 19ms/step - loss: 11.3854 - mae: 11.3854\n",
            "Epoch 59/100\n",
            "1/1 [==============================] - 0s 16ms/step - loss: 11.3154 - mae: 11.3154\n",
            "Epoch 60/100\n",
            "1/1 [==============================] - 0s 24ms/step - loss: 11.2453 - mae: 11.2453\n",
            "Epoch 61/100\n",
            "1/1 [==============================] - 0s 29ms/step - loss: 11.1749 - mae: 11.1749\n",
            "Epoch 62/100\n",
            "1/1 [==============================] - 0s 13ms/step - loss: 11.1044 - mae: 11.1044\n",
            "Epoch 63/100\n",
            "1/1 [==============================] - 0s 23ms/step - loss: 11.0336 - mae: 11.0336\n",
            "Epoch 64/100\n",
            "1/1 [==============================] - 0s 19ms/step - loss: 10.9626 - mae: 10.9626\n",
            "Epoch 65/100\n",
            "1/1 [==============================] - 0s 35ms/step - loss: 10.8914 - mae: 10.8914\n",
            "Epoch 66/100\n",
            "1/1 [==============================] - 0s 19ms/step - loss: 10.8200 - mae: 10.8200\n",
            "Epoch 67/100\n",
            "1/1 [==============================] - 0s 18ms/step - loss: 10.7483 - mae: 10.7483\n",
            "Epoch 68/100\n",
            "1/1 [==============================] - 0s 22ms/step - loss: 10.6764 - mae: 10.6764\n",
            "Epoch 69/100\n",
            "1/1 [==============================] - 0s 26ms/step - loss: 10.6042 - mae: 10.6042\n",
            "Epoch 70/100\n",
            "1/1 [==============================] - 0s 32ms/step - loss: 10.5318 - mae: 10.5318\n",
            "Epoch 71/100\n",
            "1/1 [==============================] - 0s 36ms/step - loss: 10.4590 - mae: 10.4590\n",
            "Epoch 72/100\n",
            "1/1 [==============================] - 0s 23ms/step - loss: 10.3860 - mae: 10.3860\n",
            "Epoch 73/100\n",
            "1/1 [==============================] - 0s 27ms/step - loss: 10.3127 - mae: 10.3127\n",
            "Epoch 74/100\n",
            "1/1 [==============================] - 0s 32ms/step - loss: 10.2391 - mae: 10.2391\n",
            "Epoch 75/100\n",
            "1/1 [==============================] - 0s 29ms/step - loss: 10.1681 - mae: 10.1681\n",
            "Epoch 76/100\n",
            "1/1 [==============================] - 0s 36ms/step - loss: 10.1049 - mae: 10.1049\n",
            "Epoch 77/100\n",
            "1/1 [==============================] - 0s 26ms/step - loss: 10.0412 - mae: 10.0412\n",
            "Epoch 78/100\n",
            "1/1 [==============================] - 0s 22ms/step - loss: 9.9772 - mae: 9.9772\n",
            "Epoch 79/100\n",
            "1/1 [==============================] - 0s 18ms/step - loss: 9.9129 - mae: 9.9129\n",
            "Epoch 80/100\n",
            "1/1 [==============================] - 0s 35ms/step - loss: 9.8482 - mae: 9.8482\n",
            "Epoch 81/100\n",
            "1/1 [==============================] - 0s 21ms/step - loss: 9.7832 - mae: 9.7832\n",
            "Epoch 82/100\n",
            "1/1 [==============================] - 0s 37ms/step - loss: 9.7179 - mae: 9.7179\n",
            "Epoch 83/100\n",
            "1/1 [==============================] - 0s 10ms/step - loss: 9.6522 - mae: 9.6522\n",
            "Epoch 84/100\n",
            "1/1 [==============================] - 0s 19ms/step - loss: 9.5862 - mae: 9.5862\n",
            "Epoch 85/100\n",
            "1/1 [==============================] - 0s 31ms/step - loss: 9.5199 - mae: 9.5199\n",
            "Epoch 86/100\n",
            "1/1 [==============================] - 0s 17ms/step - loss: 9.4532 - mae: 9.4532\n",
            "Epoch 87/100\n",
            "1/1 [==============================] - 0s 31ms/step - loss: 9.3863 - mae: 9.3863\n",
            "Epoch 88/100\n",
            "1/1 [==============================] - 0s 24ms/step - loss: 9.3190 - mae: 9.3190\n",
            "Epoch 89/100\n",
            "1/1 [==============================] - 0s 24ms/step - loss: 9.2514 - mae: 9.2514\n",
            "Epoch 90/100\n",
            "1/1 [==============================] - 0s 23ms/step - loss: 9.1835 - mae: 9.1835\n",
            "Epoch 91/100\n",
            "1/1 [==============================] - 0s 19ms/step - loss: 9.1152 - mae: 9.1152\n",
            "Epoch 92/100\n",
            "1/1 [==============================] - 0s 11ms/step - loss: 9.0467 - mae: 9.0467\n",
            "Epoch 93/100\n",
            "1/1 [==============================] - 0s 16ms/step - loss: 8.9778 - mae: 8.9778\n",
            "Epoch 94/100\n",
            "1/1 [==============================] - 0s 55ms/step - loss: 8.9086 - mae: 8.9086\n",
            "Epoch 95/100\n",
            "1/1 [==============================] - 0s 25ms/step - loss: 8.8391 - mae: 8.8391\n",
            "Epoch 96/100\n",
            "1/1 [==============================] - 0s 20ms/step - loss: 8.7692 - mae: 8.7692\n",
            "Epoch 97/100\n",
            "1/1 [==============================] - 0s 19ms/step - loss: 8.6991 - mae: 8.6991\n",
            "Epoch 98/100\n",
            "1/1 [==============================] - 0s 20ms/step - loss: 8.6287 - mae: 8.6287\n",
            "Epoch 99/100\n",
            "1/1 [==============================] - 0s 25ms/step - loss: 8.5579 - mae: 8.5579\n",
            "Epoch 100/100\n",
            "1/1 [==============================] - 0s 44ms/step - loss: 8.4869 - mae: 8.4869\n"
          ]
        },
        {
          "output_type": "execute_result",
          "data": {
            "text/plain": [
              "<keras.callbacks.History at 0x7f57d0a57f50>"
            ]
          },
          "metadata": {},
          "execution_count": 8
        }
      ],
      "source": [
        "# Create a Model using Sequential API ADDING A HIDDEN LAYER\n",
        "model = tf.keras.Sequential([\n",
        "                             tf.keras.layers.Dense(50, activation=\"relu\"),\n",
        "                             tf.keras.layers.Dense(1)\n",
        "])\n",
        "\n",
        "# Compile the Model \n",
        "model.compile(loss=tf.keras.losses.mae,\n",
        "              optimizer='adam',\n",
        "              metrics=[\"mae\"])\n",
        "\n",
        "# Fit the model AND improve by increasing epochs\n",
        "model.fit(tf.expand_dims(X, axis=-1), y, epochs=100)"
      ]
    },
    {
      "cell_type": "code",
      "execution_count": null,
      "metadata": {
        "colab": {
          "base_uri": "https://localhost:8080/"
        },
        "id": "PrD1tLcFpyUH",
        "outputId": "9ee54775-b068-401f-cf52-ab479c230a8a"
      },
      "outputs": [
        {
          "output_type": "execute_result",
          "data": {
            "text/plain": [
              "(<tf.Tensor: shape=(8,), dtype=float64, numpy=array([-7., -4., -1.,  2.,  5.,  8., 11., 14.])>,\n",
              " <tf.Tensor: shape=(8,), dtype=float64, numpy=array([ 3.,  6.,  9., 12., 15., 18., 21., 24.])>,\n",
              " array([[14.20327]], dtype=float32))"
            ]
          },
          "metadata": {},
          "execution_count": 9
        }
      ],
      "source": [
        "# Notice it directly lowered significantly after a few epochs\n",
        "X, y, model.predict([17.0]) # the MAE is lower but the real value is worse than last time"
      ]
    },
    {
      "cell_type": "code",
      "execution_count": null,
      "metadata": {
        "colab": {
          "base_uri": "https://localhost:8080/"
        },
        "id": "-sTk6JflqbgB",
        "outputId": "b1b02ee9-1166-4d40-8e69-72a03d664da6"
      },
      "outputs": [
        {
          "output_type": "stream",
          "name": "stdout",
          "text": [
            "Epoch 1/100\n",
            "1/1 [==============================] - 2s 2s/step - loss: 14.2261 - mae: 14.2261\n",
            "Epoch 2/100\n",
            "1/1 [==============================] - 0s 46ms/step - loss: 13.5328 - mae: 13.5328\n",
            "Epoch 3/100\n",
            "1/1 [==============================] - 0s 42ms/step - loss: 12.8450 - mae: 12.8450\n",
            "Epoch 4/100\n",
            "1/1 [==============================] - 0s 30ms/step - loss: 12.1611 - mae: 12.1611\n",
            "Epoch 5/100\n",
            "1/1 [==============================] - 0s 39ms/step - loss: 11.4786 - mae: 11.4786\n",
            "Epoch 6/100\n",
            "1/1 [==============================] - 0s 26ms/step - loss: 10.7953 - mae: 10.7953\n",
            "Epoch 7/100\n",
            "1/1 [==============================] - 0s 24ms/step - loss: 10.1084 - mae: 10.1084\n",
            "Epoch 8/100\n",
            "1/1 [==============================] - 0s 19ms/step - loss: 9.4153 - mae: 9.4153\n",
            "Epoch 9/100\n",
            "1/1 [==============================] - 0s 27ms/step - loss: 8.7133 - mae: 8.7133\n",
            "Epoch 10/100\n",
            "1/1 [==============================] - 0s 37ms/step - loss: 7.9998 - mae: 7.9998\n",
            "Epoch 11/100\n",
            "1/1 [==============================] - 0s 33ms/step - loss: 7.2724 - mae: 7.2724\n",
            "Epoch 12/100\n",
            "1/1 [==============================] - 0s 47ms/step - loss: 6.6391 - mae: 6.6391\n",
            "Epoch 13/100\n",
            "1/1 [==============================] - 0s 16ms/step - loss: 6.6431 - mae: 6.6431\n",
            "Epoch 14/100\n",
            "1/1 [==============================] - 0s 31ms/step - loss: 6.9208 - mae: 6.9208\n",
            "Epoch 15/100\n",
            "1/1 [==============================] - 0s 28ms/step - loss: 7.0980 - mae: 7.0980\n",
            "Epoch 16/100\n",
            "1/1 [==============================] - 0s 25ms/step - loss: 7.2570 - mae: 7.2570\n",
            "Epoch 17/100\n",
            "1/1 [==============================] - 0s 28ms/step - loss: 7.2611 - mae: 7.2611\n",
            "Epoch 18/100\n",
            "1/1 [==============================] - 0s 21ms/step - loss: 7.1037 - mae: 7.1037\n",
            "Epoch 19/100\n",
            "1/1 [==============================] - 0s 43ms/step - loss: 6.8542 - mae: 6.8542\n",
            "Epoch 20/100\n",
            "1/1 [==============================] - 0s 25ms/step - loss: 6.6416 - mae: 6.6416\n",
            "Epoch 21/100\n",
            "1/1 [==============================] - 0s 29ms/step - loss: 6.4073 - mae: 6.4073\n",
            "Epoch 22/100\n",
            "1/1 [==============================] - 0s 23ms/step - loss: 6.1556 - mae: 6.1556\n",
            "Epoch 23/100\n",
            "1/1 [==============================] - 0s 22ms/step - loss: 5.9512 - mae: 5.9512\n",
            "Epoch 24/100\n",
            "1/1 [==============================] - 0s 22ms/step - loss: 5.9037 - mae: 5.9037\n",
            "Epoch 25/100\n",
            "1/1 [==============================] - 0s 24ms/step - loss: 5.8553 - mae: 5.8553\n",
            "Epoch 26/100\n",
            "1/1 [==============================] - 0s 25ms/step - loss: 5.9016 - mae: 5.9016\n",
            "Epoch 27/100\n",
            "1/1 [==============================] - 0s 23ms/step - loss: 5.8472 - mae: 5.8472\n",
            "Epoch 28/100\n",
            "1/1 [==============================] - 0s 27ms/step - loss: 5.7049 - mae: 5.7049\n",
            "Epoch 29/100\n",
            "1/1 [==============================] - 0s 18ms/step - loss: 5.5259 - mae: 5.5259\n",
            "Epoch 30/100\n",
            "1/1 [==============================] - 0s 21ms/step - loss: 5.4255 - mae: 5.4255\n",
            "Epoch 31/100\n",
            "1/1 [==============================] - 0s 31ms/step - loss: 5.3213 - mae: 5.3213\n",
            "Epoch 32/100\n",
            "1/1 [==============================] - 0s 26ms/step - loss: 5.2131 - mae: 5.2131\n",
            "Epoch 33/100\n",
            "1/1 [==============================] - 0s 28ms/step - loss: 5.1472 - mae: 5.1472\n",
            "Epoch 34/100\n",
            "1/1 [==============================] - 0s 30ms/step - loss: 5.0909 - mae: 5.0909\n",
            "Epoch 35/100\n",
            "1/1 [==============================] - 0s 26ms/step - loss: 4.9926 - mae: 4.9926\n",
            "Epoch 36/100\n",
            "1/1 [==============================] - 0s 31ms/step - loss: 4.8552 - mae: 4.8552\n",
            "Epoch 37/100\n",
            "1/1 [==============================] - 0s 43ms/step - loss: 4.6821 - mae: 4.6821\n",
            "Epoch 38/100\n",
            "1/1 [==============================] - 0s 30ms/step - loss: 4.5740 - mae: 4.5740\n",
            "Epoch 39/100\n",
            "1/1 [==============================] - 0s 33ms/step - loss: 4.4584 - mae: 4.4584\n",
            "Epoch 40/100\n",
            "1/1 [==============================] - 0s 18ms/step - loss: 4.3351 - mae: 4.3351\n",
            "Epoch 41/100\n",
            "1/1 [==============================] - 0s 18ms/step - loss: 4.2039 - mae: 4.2039\n",
            "Epoch 42/100\n",
            "1/1 [==============================] - 0s 35ms/step - loss: 4.0647 - mae: 4.0647\n",
            "Epoch 43/100\n",
            "1/1 [==============================] - 0s 18ms/step - loss: 3.9171 - mae: 3.9171\n",
            "Epoch 44/100\n",
            "1/1 [==============================] - 0s 23ms/step - loss: 3.7610 - mae: 3.7610\n",
            "Epoch 45/100\n",
            "1/1 [==============================] - 0s 13ms/step - loss: 3.5961 - mae: 3.5961\n",
            "Epoch 46/100\n",
            "1/1 [==============================] - 0s 13ms/step - loss: 3.4221 - mae: 3.4221\n",
            "Epoch 47/100\n",
            "1/1 [==============================] - 0s 13ms/step - loss: 3.2387 - mae: 3.2387\n",
            "Epoch 48/100\n",
            "1/1 [==============================] - 0s 23ms/step - loss: 3.0457 - mae: 3.0457\n",
            "Epoch 49/100\n",
            "1/1 [==============================] - 0s 19ms/step - loss: 2.8428 - mae: 2.8428\n",
            "Epoch 50/100\n",
            "1/1 [==============================] - 0s 47ms/step - loss: 2.6857 - mae: 2.6857\n",
            "Epoch 51/100\n",
            "1/1 [==============================] - 0s 15ms/step - loss: 2.4548 - mae: 2.4548\n",
            "Epoch 52/100\n",
            "1/1 [==============================] - 0s 18ms/step - loss: 2.2068 - mae: 2.2068\n",
            "Epoch 53/100\n",
            "1/1 [==============================] - 0s 19ms/step - loss: 1.9829 - mae: 1.9829\n",
            "Epoch 54/100\n",
            "1/1 [==============================] - 0s 18ms/step - loss: 1.8204 - mae: 1.8204\n",
            "Epoch 55/100\n",
            "1/1 [==============================] - 0s 17ms/step - loss: 1.4857 - mae: 1.4857\n",
            "Epoch 56/100\n",
            "1/1 [==============================] - 0s 15ms/step - loss: 1.2132 - mae: 1.2132\n",
            "Epoch 57/100\n",
            "1/1 [==============================] - 0s 19ms/step - loss: 0.9993 - mae: 0.9993\n",
            "Epoch 58/100\n",
            "1/1 [==============================] - 0s 34ms/step - loss: 0.7101 - mae: 0.7101\n",
            "Epoch 59/100\n",
            "1/1 [==============================] - 0s 18ms/step - loss: 0.3594 - mae: 0.3594\n",
            "Epoch 60/100\n",
            "1/1 [==============================] - 0s 19ms/step - loss: 0.1118 - mae: 0.1118\n",
            "Epoch 61/100\n",
            "1/1 [==============================] - 0s 22ms/step - loss: 0.3994 - mae: 0.3994\n",
            "Epoch 62/100\n",
            "1/1 [==============================] - 0s 29ms/step - loss: 0.5249 - mae: 0.5249\n",
            "Epoch 63/100\n",
            "1/1 [==============================] - 0s 18ms/step - loss: 0.8002 - mae: 0.8002\n",
            "Epoch 64/100\n",
            "1/1 [==============================] - 0s 27ms/step - loss: 0.9110 - mae: 0.9110\n",
            "Epoch 65/100\n",
            "1/1 [==============================] - 0s 41ms/step - loss: 0.8892 - mae: 0.8892\n",
            "Epoch 66/100\n",
            "1/1 [==============================] - 0s 27ms/step - loss: 0.9457 - mae: 0.9457\n",
            "Epoch 67/100\n",
            "1/1 [==============================] - 0s 25ms/step - loss: 0.8913 - mae: 0.8913\n",
            "Epoch 68/100\n",
            "1/1 [==============================] - 0s 24ms/step - loss: 0.8768 - mae: 0.8768\n",
            "Epoch 69/100\n",
            "1/1 [==============================] - 0s 51ms/step - loss: 0.7506 - mae: 0.7506\n",
            "Epoch 70/100\n",
            "1/1 [==============================] - 0s 19ms/step - loss: 0.6897 - mae: 0.6897\n",
            "Epoch 71/100\n",
            "1/1 [==============================] - 0s 17ms/step - loss: 0.5674 - mae: 0.5674\n",
            "Epoch 72/100\n",
            "1/1 [==============================] - 0s 10ms/step - loss: 0.3382 - mae: 0.3382\n",
            "Epoch 73/100\n",
            "1/1 [==============================] - 0s 14ms/step - loss: 0.1770 - mae: 0.1770\n",
            "Epoch 74/100\n",
            "1/1 [==============================] - 0s 16ms/step - loss: 0.1846 - mae: 0.1846\n",
            "Epoch 75/100\n",
            "1/1 [==============================] - 0s 19ms/step - loss: 0.2042 - mae: 0.2042\n",
            "Epoch 76/100\n",
            "1/1 [==============================] - 0s 13ms/step - loss: 0.4884 - mae: 0.4884\n",
            "Epoch 77/100\n",
            "1/1 [==============================] - 0s 24ms/step - loss: 0.5454 - mae: 0.5454\n",
            "Epoch 78/100\n",
            "1/1 [==============================] - 0s 32ms/step - loss: 0.4443 - mae: 0.4443\n",
            "Epoch 79/100\n",
            "1/1 [==============================] - 0s 19ms/step - loss: 0.5707 - mae: 0.5707\n",
            "Epoch 80/100\n",
            "1/1 [==============================] - 0s 20ms/step - loss: 0.6051 - mae: 0.6051\n",
            "Epoch 81/100\n",
            "1/1 [==============================] - 0s 19ms/step - loss: 0.4780 - mae: 0.4780\n",
            "Epoch 82/100\n",
            "1/1 [==============================] - 0s 22ms/step - loss: 0.3399 - mae: 0.3399\n",
            "Epoch 83/100\n",
            "1/1 [==============================] - 0s 24ms/step - loss: 0.3067 - mae: 0.3067\n",
            "Epoch 84/100\n",
            "1/1 [==============================] - 0s 7ms/step - loss: 0.1018 - mae: 0.1018\n",
            "Epoch 85/100\n",
            "1/1 [==============================] - 0s 9ms/step - loss: 0.2650 - mae: 0.2650\n",
            "Epoch 86/100\n",
            "1/1 [==============================] - 0s 10ms/step - loss: 0.2374 - mae: 0.2374\n",
            "Epoch 87/100\n",
            "1/1 [==============================] - 0s 12ms/step - loss: 0.3402 - mae: 0.3402\n",
            "Epoch 88/100\n",
            "1/1 [==============================] - 0s 24ms/step - loss: 0.4551 - mae: 0.4551\n",
            "Epoch 89/100\n",
            "1/1 [==============================] - 0s 12ms/step - loss: 0.3949 - mae: 0.3949\n",
            "Epoch 90/100\n",
            "1/1 [==============================] - 0s 11ms/step - loss: 0.2212 - mae: 0.2212\n",
            "Epoch 91/100\n",
            "1/1 [==============================] - 0s 37ms/step - loss: 0.2634 - mae: 0.2634\n",
            "Epoch 92/100\n",
            "1/1 [==============================] - 0s 36ms/step - loss: 0.0835 - mae: 0.0835\n",
            "Epoch 93/100\n",
            "1/1 [==============================] - 0s 30ms/step - loss: 0.2379 - mae: 0.2379\n",
            "Epoch 94/100\n",
            "1/1 [==============================] - 0s 16ms/step - loss: 0.1928 - mae: 0.1928\n",
            "Epoch 95/100\n",
            "1/1 [==============================] - 0s 24ms/step - loss: 0.2699 - mae: 0.2699\n",
            "Epoch 96/100\n",
            "1/1 [==============================] - 0s 31ms/step - loss: 0.3601 - mae: 0.3601\n",
            "Epoch 97/100\n",
            "1/1 [==============================] - 0s 29ms/step - loss: 0.2943 - mae: 0.2943\n",
            "Epoch 98/100\n",
            "1/1 [==============================] - 0s 31ms/step - loss: 0.1065 - mae: 0.1065\n",
            "Epoch 99/100\n",
            "1/1 [==============================] - 0s 21ms/step - loss: 0.1595 - mae: 0.1595\n",
            "Epoch 100/100\n",
            "1/1 [==============================] - 0s 32ms/step - loss: 0.0556 - mae: 0.0556\n"
          ]
        },
        {
          "output_type": "execute_result",
          "data": {
            "text/plain": [
              "<keras.callbacks.History at 0x7f57cfc17b10>"
            ]
          },
          "metadata": {},
          "execution_count": 10
        }
      ],
      "source": [
        "# Create a Model using Sequential API ADDING A HIDDEN LAYER (using no activation)\n",
        "model = tf.keras.Sequential([\n",
        "                             tf.keras.layers.Dense(50, activation=None),\n",
        "                             tf.keras.layers.Dense(1)\n",
        "])\n",
        "\n",
        "# Compile the Model changing to Adam optimization and using a lower LEARNING RATE\n",
        "model.compile(loss=tf.keras.losses.mae,\n",
        "              optimizer=tf.keras.optimizers.Adam(learning_rate=0.01),\n",
        "              metrics=[\"mae\"])\n",
        "\n",
        "# Fit the model AND improve by increasing epochs\n",
        "model.fit(tf.expand_dims(X, axis=-1), y, epochs=100)"
      ]
    },
    {
      "cell_type": "code",
      "execution_count": null,
      "metadata": {
        "colab": {
          "base_uri": "https://localhost:8080/"
        },
        "id": "ze_Zuhl7ruK_",
        "outputId": "42c17dc5-2561-42ba-c460-460a6494d518"
      },
      "outputs": [
        {
          "output_type": "execute_result",
          "data": {
            "text/plain": [
              "(<tf.Tensor: shape=(8,), dtype=float64, numpy=array([-7., -4., -1.,  2.,  5.,  8., 11., 14.])>,\n",
              " <tf.Tensor: shape=(8,), dtype=float64, numpy=array([ 3.,  6.,  9., 12., 15., 18., 21., 24.])>,\n",
              " array([[27.13847]], dtype=float32))"
            ]
          },
          "metadata": {},
          "execution_count": 11
        }
      ],
      "source": [
        "X, y, model.predict([17.0]) # 26.8 which is very close to 27!! Learning rate is most significant hyperpara"
      ]
    },
    {
      "cell_type": "markdown",
      "metadata": {
        "id": "3Sm9fT_lsESn"
      },
      "source": [
        "# Evaluating the model\n"
      ]
    },
    {
      "cell_type": "code",
      "execution_count": null,
      "metadata": {
        "colab": {
          "base_uri": "https://localhost:8080/"
        },
        "id": "ftJ6BPlosW9P",
        "outputId": "c325eede-718d-4091-e396-92fc7a337276"
      },
      "outputs": [
        {
          "output_type": "execute_result",
          "data": {
            "text/plain": [
              "<tf.Tensor: shape=(50,), dtype=int32, numpy=\n",
              "array([-100,  -96,  -92,  -88,  -84,  -80,  -76,  -72,  -68,  -64,  -60,\n",
              "        -56,  -52,  -48,  -44,  -40,  -36,  -32,  -28,  -24,  -20,  -16,\n",
              "        -12,   -8,   -4,    0,    4,    8,   12,   16,   20,   24,   28,\n",
              "         32,   36,   40,   44,   48,   52,   56,   60,   64,   68,   72,\n",
              "         76,   80,   84,   88,   92,   96], dtype=int32)>"
            ]
          },
          "metadata": {},
          "execution_count": 12
        }
      ],
      "source": [
        "# Visualize the model\n",
        "X = tf.range(-100,100,4)\n",
        "X"
      ]
    },
    {
      "cell_type": "code",
      "execution_count": null,
      "metadata": {
        "colab": {
          "base_uri": "https://localhost:8080/"
        },
        "id": "zMpvnbTSs0-G",
        "outputId": "35e5436b-a92a-422d-b23e-f85f635e8474"
      },
      "outputs": [
        {
          "output_type": "execute_result",
          "data": {
            "text/plain": [
              "<tf.Tensor: shape=(50,), dtype=int32, numpy=\n",
              "array([-90, -86, -82, -78, -74, -70, -66, -62, -58, -54, -50, -46, -42,\n",
              "       -38, -34, -30, -26, -22, -18, -14, -10,  -6,  -2,   2,   6,  10,\n",
              "        14,  18,  22,  26,  30,  34,  38,  42,  46,  50,  54,  58,  62,\n",
              "        66,  70,  74,  78,  82,  86,  90,  94,  98, 102, 106], dtype=int32)>"
            ]
          },
          "metadata": {},
          "execution_count": 13
        }
      ],
      "source": [
        "# Labeling the dataset\n",
        "y = X + 10 # Is the intended pattern for the tensor to learn\n",
        "y"
      ]
    },
    {
      "cell_type": "code",
      "execution_count": null,
      "metadata": {
        "colab": {
          "base_uri": "https://localhost:8080/",
          "height": 282
        },
        "id": "9Wl9hZejtCl2",
        "outputId": "655f9179-e420-41bd-ec03-40c00ba8daac"
      },
      "outputs": [
        {
          "output_type": "execute_result",
          "data": {
            "text/plain": [
              "<matplotlib.collections.PathCollection at 0x7f57d134c810>"
            ]
          },
          "metadata": {},
          "execution_count": 14
        },
        {
          "output_type": "display_data",
          "data": {
            "text/plain": [
              "<Figure size 432x288 with 1 Axes>"
            ],
            "image/png": "[encoded data removed]"
          },
          "metadata": {
            "needs_background": "light"
          }
        }
      ],
      "source": [
        "# Import matplotlib.pyplot as plt\n",
        "plt.scatter(X, y)"
      ]
    },
    {
      "cell_type": "code",
      "execution_count": null,
      "metadata": {
        "id": "rzYfT7IhtIZ2"
      },
      "outputs": [],
      "source": [
        "# Now that the data is big enough time to use the practical steps of machine learning\n",
        "# Split the data \n",
        "\n",
        "X_train = X[:40]\n",
        "y_train = y[:40]\n",
        "\n",
        "X_test = X[40:]\n",
        "y_test = y[40:]"
      ]
    },
    {
      "cell_type": "code",
      "execution_count": null,
      "metadata": {
        "colab": {
          "base_uri": "https://localhost:8080/",
          "height": 646
        },
        "id": "2qgJUWgHt-4c",
        "outputId": "09e46dd0-64ce-40e2-c28c-7137a02ce260"
      },
      "outputs": [
        {
          "output_type": "error",
          "ename": "NameError",
          "evalue": "ignored",
          "traceback": [
            "\u001b[0;31m---------------------------------------------------------------------------\u001b[0m",
            "\u001b[0;31mNameError\u001b[0m                                 Traceback (most recent call last)",
            "\u001b[0;32m<ipython-input-16-ea05ca84d237>\u001b[0m in \u001b[0;36m<module>\u001b[0;34m()\u001b[0m\n\u001b[1;32m      3\u001b[0m \u001b[0mplt\u001b[0m\u001b[0;34m.\u001b[0m\u001b[0mfigure\u001b[0m\u001b[0;34m(\u001b[0m\u001b[0mfigsize\u001b[0m\u001b[0;34m=\u001b[0m\u001b[0;34m(\u001b[0m\u001b[0;36m10\u001b[0m\u001b[0;34m,\u001b[0m\u001b[0;36m7\u001b[0m\u001b[0;34m)\u001b[0m\u001b[0;34m)\u001b[0m\u001b[0;34m\u001b[0m\u001b[0;34m\u001b[0m\u001b[0m\n\u001b[1;32m      4\u001b[0m \u001b[0mplt\u001b[0m\u001b[0;34m.\u001b[0m\u001b[0mscatter\u001b[0m\u001b[0;34m(\u001b[0m\u001b[0mX_train\u001b[0m\u001b[0;34m,\u001b[0m\u001b[0my_train\u001b[0m\u001b[0;34m,\u001b[0m \u001b[0mc\u001b[0m\u001b[0;34m=\u001b[0m\u001b[0;34m\"b\"\u001b[0m\u001b[0;34m,\u001b[0m \u001b[0mlabel\u001b[0m\u001b[0;34m=\u001b[0m\u001b[0;34m\"Training data\"\u001b[0m\u001b[0;34m)\u001b[0m\u001b[0;34m\u001b[0m\u001b[0;34m\u001b[0m\u001b[0m\n\u001b[0;32m----> 5\u001b[0;31m \u001b[0mplt\u001b[0m\u001b[0;34m.\u001b[0m\u001b[0mscatter\u001b[0m\u001b[0;34m(\u001b[0m\u001b[0mX_set\u001b[0m\u001b[0;34m,\u001b[0m\u001b[0my_set\u001b[0m\u001b[0;34m,\u001b[0m \u001b[0mc\u001b[0m\u001b[0;34m=\u001b[0m\u001b[0;34m\"g\"\u001b[0m\u001b[0;34m,\u001b[0m \u001b[0mlabel\u001b[0m\u001b[0;34m=\u001b[0m\u001b[0;34m\"Testing data\"\u001b[0m\u001b[0;34m)\u001b[0m\u001b[0;34m\u001b[0m\u001b[0;34m\u001b[0m\u001b[0m\n\u001b[0m\u001b[1;32m      6\u001b[0m \u001b[0;31m# Adding ; removes the matplotlib output.\u001b[0m\u001b[0;34m\u001b[0m\u001b[0;34m\u001b[0m\u001b[0;34m\u001b[0m\u001b[0m\n\u001b[1;32m      7\u001b[0m \u001b[0mplt\u001b[0m\u001b[0;34m.\u001b[0m\u001b[0mlegend\u001b[0m\u001b[0;34m(\u001b[0m\u001b[0;34m)\u001b[0m\u001b[0;34m;\u001b[0m\u001b[0;34m\u001b[0m\u001b[0;34m\u001b[0m\u001b[0m\n",
            "\u001b[0;31mNameError\u001b[0m: name 'X_set' is not defined"
          ]
        },
        {
          "output_type": "display_data",
          "data": {
            "text/plain": [
              "<Figure size 720x504 with 1 Axes>"
            ],
            "image/png": "[encoded data removed]"
          },
          "metadata": {
            "needs_background": "light"
          }
        }
      ],
      "source": [
        "# Now that the data is split by 80/20\n",
        "# Visualize the data again\n",
        "plt.figure(figsize=(10,7))\n",
        "plt.scatter(X_train,y_train, c=\"b\", label=\"Training data\")\n",
        "plt.scatter(X_set,y_set, c=\"g\", label=\"Testing data\")\n",
        "# Adding ; removes the matplotlib output. \n",
        "plt.legend();"
      ]
    },
    {
      "cell_type": "code",
      "execution_count": null,
      "metadata": {
        "id": "-hEUbqrGuMT_"
      },
      "outputs": [],
      "source": [
        "# Create a model\n",
        "model = tf.keras.Sequential([\n",
        "                             tf.keras.layers.Dense(1)\n",
        "])\n",
        "\n",
        "# Compile the model\n",
        "model.compile(loss=tf.keras.losses.mae,\n",
        "              optimizer=tf.keras.optimizers.SGD(),\n",
        "              metrics=[\"mae\"])\n",
        "\n",
        "# Fit the model\n",
        "# model.fit(X_train, y_train, epochs=100)"
      ]
    },
    {
      "cell_type": "code",
      "execution_count": null,
      "metadata": {
        "colab": {
          "base_uri": "https://localhost:8080/",
          "height": 321
        },
        "id": "H9XA371b1Xoz",
        "outputId": "a92d77de-ebb9-4871-e7a9-2324607569c7"
      },
      "outputs": [
        {
          "output_type": "error",
          "ename": "ValueError",
          "evalue": "ignored",
          "traceback": [
            "\u001b[0;31m---------------------------------------------------------------------------\u001b[0m",
            "\u001b[0;31mValueError\u001b[0m                                Traceback (most recent call last)",
            "\u001b[0;32m<ipython-input-18-5f15418b3570>\u001b[0m in \u001b[0;36m<module>\u001b[0;34m()\u001b[0m\n\u001b[0;32m----> 1\u001b[0;31m \u001b[0mmodel\u001b[0m\u001b[0;34m.\u001b[0m\u001b[0msummary\u001b[0m\u001b[0;34m(\u001b[0m\u001b[0;34m)\u001b[0m\u001b[0;34m\u001b[0m\u001b[0;34m\u001b[0m\u001b[0m\n\u001b[0m",
            "\u001b[0;32m/usr/local/lib/python3.7/dist-packages/keras/engine/training.py\u001b[0m in \u001b[0;36msummary\u001b[0;34m(self, line_length, positions, print_fn, expand_nested, show_trainable)\u001b[0m\n\u001b[1;32m   2774\u001b[0m     \u001b[0;32mif\u001b[0m \u001b[0;32mnot\u001b[0m \u001b[0mself\u001b[0m\u001b[0;34m.\u001b[0m\u001b[0mbuilt\u001b[0m\u001b[0;34m:\u001b[0m\u001b[0;34m\u001b[0m\u001b[0;34m\u001b[0m\u001b[0m\n\u001b[1;32m   2775\u001b[0m       raise ValueError(\n\u001b[0;32m-> 2776\u001b[0;31m           \u001b[0;34m'This model has not yet been built. '\u001b[0m\u001b[0;34m\u001b[0m\u001b[0;34m\u001b[0m\u001b[0m\n\u001b[0m\u001b[1;32m   2777\u001b[0m           \u001b[0;34m'Build the model first by calling `build()` or by calling '\u001b[0m\u001b[0;34m\u001b[0m\u001b[0;34m\u001b[0m\u001b[0m\n\u001b[1;32m   2778\u001b[0m           'the model on a batch of data.')\n",
            "\u001b[0;31mValueError\u001b[0m: This model has not yet been built. Build the model first by calling `build()` or by calling the model on a batch of data."
          ]
        }
      ],
      "source": [
        "model.summary()"
      ]
    },
    {
      "cell_type": "code",
      "execution_count": null,
      "metadata": {
        "id": "SyxCkkLc2Gp9"
      },
      "outputs": [],
      "source": [
        "# Try telling keras the shape of the input to visalize the \n",
        "# model summary before building it (usually keras guesses the shape)\n",
        "\n",
        "tf.random.set_seed = 42\n",
        "\n",
        "# Create a model\n",
        "model = tf.keras.Sequential([\n",
        "                             tf.keras.layers.Dense(10, input_shape=[1], name=\"input_layer\"),\n",
        "                             tf.keras.layers.Dense(1, name=\"output_layer\")\n",
        "], name=\"Model_1\")\n",
        "\n",
        "# Compile the model\n",
        "model.compile(loss=tf.keras.losses.mae,\n",
        "              optimizer=tf.keras.optimizers.SGD(),\n",
        "              metrics=[\"mae\"])"
      ]
    },
    {
      "cell_type": "code",
      "execution_count": null,
      "metadata": {
        "colab": {
          "base_uri": "https://localhost:8080/"
        },
        "id": "ZK9XqQSoC6jE",
        "outputId": "94b93fdc-4c94-4269-f509-c0dec0ae8897"
      },
      "outputs": [
        {
          "output_type": "stream",
          "name": "stdout",
          "text": [
            "Model: \"Model_1\"\n",
            "_________________________________________________________________\n",
            " Layer (type)                Output Shape              Param #   \n",
            "=================================================================\n",
            " input_layer (Dense)         (None, 10)                20        \n",
            "                                                                 \n",
            " output_layer (Dense)        (None, 1)                 11        \n",
            "                                                                 \n",
            "=================================================================\n",
            "Total params: 31\n",
            "Trainable params: 31\n",
            "Non-trainable params: 0\n",
            "_________________________________________________________________\n"
          ]
        }
      ],
      "source": [
        "model.summary()"
      ]
    },
    {
      "cell_type": "markdown",
      "metadata": {
        "id": "ABEO7813EVxx"
      },
      "source": [
        "**Total params - total number of parameters in the model.**\n",
        "\n",
        "**Trainable parameters - these are the parameters (patterns) the model can update as it trains.**\n",
        "\n",
        "**Non-trainable parameters - these parameters aren't updated during training (this is typical when you bring in the already learned patterns from other models during transfer learning).**"
      ]
    },
    {
      "cell_type": "code",
      "execution_count": null,
      "metadata": {
        "colab": {
          "base_uri": "https://localhost:8080/"
        },
        "id": "oyzj81_vFi9Q",
        "outputId": "9afd1edc-2ad9-4f74-c5cc-71b4e4735e02"
      },
      "outputs": [
        {
          "output_type": "execute_result",
          "data": {
            "text/plain": [
              "<keras.callbacks.History at 0x7f57d0866090>"
            ]
          },
          "metadata": {},
          "execution_count": 21
        }
      ],
      "source": [
        "# fitting the ab ove model \n",
        "model.fit(X_train, y_train, epochs=100, verbose=0)"
      ]
    },
    {
      "cell_type": "code",
      "execution_count": null,
      "metadata": {
        "colab": {
          "base_uri": "https://localhost:8080/"
        },
        "id": "HwIiOsOygpMl",
        "outputId": "6d21f3ae-d485-423b-b1c2-42cc22b3fd00"
      },
      "outputs": [
        {
          "output_type": "stream",
          "name": "stdout",
          "text": [
            "Model: \"Model_1\"\n",
            "_________________________________________________________________\n",
            " Layer (type)                Output Shape              Param #   \n",
            "=================================================================\n",
            " input_layer (Dense)         (None, 10)                20        \n",
            "                                                                 \n",
            " output_layer (Dense)        (None, 1)                 11        \n",
            "                                                                 \n",
            "=================================================================\n",
            "Total params: 31\n",
            "Trainable params: 31\n",
            "Non-trainable params: 0\n",
            "_________________________________________________________________\n"
          ]
        }
      ],
      "source": [
        "model.summary()"
      ]
    },
    {
      "cell_type": "code",
      "execution_count": null,
      "metadata": {
        "colab": {
          "base_uri": "https://localhost:8080/",
          "height": 312
        },
        "id": "o63TEdnsgq1o",
        "outputId": "f2414ad1-b076-47b2-cc6c-13772b86342d"
      },
      "outputs": [
        {
          "output_type": "execute_result",
          "data": {
            "text/plain": [
              "<IPython.core.display.Image object>"
            ],
            "image/png": "[encoded data removed]"
          },
          "metadata": {},
          "execution_count": 23
        }
      ],
      "source": [
        "from tensorflow.keras.utils import plot_model\n",
        "\n",
        "plot_model(model=model, show_shapes=True)"
      ]
    },
    {
      "cell_type": "code",
      "execution_count": null,
      "metadata": {
        "colab": {
          "base_uri": "https://localhost:8080/"
        },
        "id": "01uxVB8Ig-dg",
        "outputId": "39a7798a-a997-47b3-994c-ecd48acf4f22"
      },
      "outputs": [
        {
          "output_type": "stream",
          "name": "stdout",
          "text": [
            "WARNING:tensorflow:5 out of the last 5 calls to <function Model.make_predict_function.<locals>.predict_function at 0x7f57defcf0e0> triggered tf.function retracing. Tracing is expensive and the excessive number of tracings could be due to (1) creating @tf.function repeatedly in a loop, (2) passing tensors with different shapes, (3) passing Python objects instead of tensors. For (1), please define your @tf.function outside of the loop. For (2), @tf.function has experimental_relax_shapes=True option that relaxes argument shapes that can avoid unnecessary retracing. For (3), please refer to https://www.tensorflow.org/guide/function#controlling_retracing and https://www.tensorflow.org/api_docs/python/tf/function for  more details.\n"
          ]
        },
        {
          "output_type": "execute_result",
          "data": {
            "text/plain": [
              "(array([[ 81.55673 ],\n",
              "        [ 86.87887 ],\n",
              "        [ 92.20101 ],\n",
              "        [ 97.523155],\n",
              "        [102.84529 ],\n",
              "        [108.16743 ],\n",
              "        [113.489555],\n",
              "        [118.81169 ],\n",
              "        [124.133835],\n",
              "        [129.45598 ]], dtype=float32),\n",
              " <tf.Tensor: shape=(10,), dtype=int32, numpy=array([ 70,  74,  78,  82,  86,  90,  94,  98, 102, 106], dtype=int32)>)"
            ]
          },
          "metadata": {},
          "execution_count": 24
        }
      ],
      "source": [
        "# Visualizing the model's predictions\n",
        "\n",
        "y_pred = model.predict(X_test)\n",
        "y_pred, y_test"
      ]
    },
    {
      "cell_type": "code",
      "execution_count": null,
      "metadata": {
        "id": "MDjkXEMCibGf"
      },
      "outputs": [],
      "source": [
        "# Making a function to call everytime you want to visalize the data rather than\n",
        "# Rewritting/copying code every single time\n",
        "\n",
        "def plot_predictions(train_data=X_train,train_labels=y_train,\n",
        "                     test_data=X_test, test_labels=y_test,\n",
        "                     predictions=y_pred):\n",
        "  \"\"\" Plots the training data, test data and compares predictions to the actual values \"\"\"\n",
        "\n",
        "  plt.figure(figsize=(10,7))\n",
        "  # Plot training data in blue\n",
        "  plt.scatter(train_data, train_labels, c=\"b\", label=\"Training data\")\n",
        "  # Plot testing data in green\n",
        "  plt.scatter(test_data, test_labels, c=\"y\", label=\"Testing data\")\n",
        "  # Plot model predictions in red\n",
        "  plt.scatter(test_data, predictions, c=\"r\", label=\"Predictions\")\n",
        "  # Show the legends\n",
        "  plt.legend();"
      ]
    },
    {
      "cell_type": "code",
      "execution_count": null,
      "metadata": {
        "colab": {
          "base_uri": "https://localhost:8080/",
          "height": 428
        },
        "id": "v3rtxFLVkbuO",
        "outputId": "86d25081-ab9e-4c44-aabe-4d6bec85ec27"
      },
      "outputs": [
        {
          "output_type": "display_data",
          "data": {
            "text/plain": [
              "<Figure size 720x504 with 1 Axes>"
            ],
            "image/png": "[encoded data removed]"
          },
          "metadata": {
            "needs_background": "light"
          }
        }
      ],
      "source": [
        "plot_predictions(train_data=X_train, train_labels=y_train,\n",
        "                 test_data=X_test, test_labels=y_test, \n",
        "                 predictions=y_pred)"
      ]
    },
    {
      "cell_type": "markdown",
      "metadata": {
        "id": "OCYcqYGAkn9G"
      },
      "source": [
        "## Evaluating the model's predictions with regression evaluation metrics\n",
        "### - MAE - Mean absolute error - tf.keras.losses.MAE() or tf.metrics.mean_absolute_error()\n",
        "### - MSE - Mean sequared errors - tf.keras.losses.MSE() or tf.metrics.mean_squared_error()\n",
        "### - Huber - combo of mse and mae - tf.keras.losses.Huber()"
      ]
    },
    {
      "cell_type": "code",
      "execution_count": null,
      "metadata": {
        "colab": {
          "base_uri": "https://localhost:8080/"
        },
        "id": "9EMmsp0JmrZt",
        "outputId": "100d6e58-2e8a-4840-f8e3-4b9b5e787e26"
      },
      "outputs": [
        {
          "output_type": "stream",
          "name": "stdout",
          "text": [
            "1/1 [==============================] - 0s 173ms/step - loss: 17.5064 - mae: 17.5064\n"
          ]
        },
        {
          "output_type": "execute_result",
          "data": {
            "text/plain": [
              "[17.506357192993164, 17.506357192993164]"
            ]
          },
          "metadata": {},
          "execution_count": 27
        }
      ],
      "source": [
        "# Evaluate the model on the test\n",
        "model.evaluate(X_test, y_test)"
      ]
    },
    {
      "cell_type": "code",
      "execution_count": null,
      "metadata": {
        "colab": {
          "base_uri": "https://localhost:8080/"
        },
        "id": "ijMblxNenCwc",
        "outputId": "dd76c67f-33d6-465a-d521-cf71c9edcfd8"
      },
      "outputs": [
        {
          "output_type": "execute_result",
          "data": {
            "text/plain": [
              "<tf.Tensor: shape=(), dtype=float32, numpy=17.506353>"
            ]
          },
          "metadata": {},
          "execution_count": 28
        }
      ],
      "source": [
        "# Using MAE without evaluation function\n",
        "# Note: Tensors should be in the same shape\n",
        "\n",
        "#mae = tf.keras.losses.MAE(y_true=y_test,y_pred=y_pred)\n",
        "#mae\n",
        "\n",
        "# Correct \n",
        "mae = tf.keras.losses.MAE(y_true=y_test,y_pred=tf.squeeze(y_pred))\n",
        "mae"
      ]
    },
    {
      "cell_type": "code",
      "execution_count": null,
      "metadata": {
        "colab": {
          "base_uri": "https://localhost:8080/"
        },
        "id": "fUKIvb73ngOl",
        "outputId": "562408a3-749c-4d6e-d5c5-d66c143f002d"
      },
      "outputs": [
        {
          "output_type": "execute_result",
          "data": {
            "text/plain": [
              "<tf.Tensor: shape=(), dtype=float32, numpy=320.89386>"
            ]
          },
          "metadata": {},
          "execution_count": 29
        }
      ],
      "source": [
        "# Using MSE\n",
        "mse = tf.keras.losses.MSE(y_true=y_test, y_pred=tf.squeeze(y_pred))\n",
        "mse"
      ]
    },
    {
      "cell_type": "code",
      "execution_count": null,
      "metadata": {
        "id": "hnjWyva6pzll"
      },
      "outputs": [],
      "source": [
        "# Write a function to reuse MAE and MSE\n",
        "def mae(y_true, y_pred):\n",
        "  return tf.metrics.mean_absolute_error(y_true=y_true, y_pred=tf.squeeze(y_pred))\n",
        "\n",
        "def mse(y_true, y_pred):\n",
        "  return tf.metrics.mean_squared_error(y_true=y_true, y_pred=tf.squeeze(y_pred))"
      ]
    },
    {
      "cell_type": "code",
      "execution_count": null,
      "metadata": {
        "colab": {
          "base_uri": "https://localhost:8080/"
        },
        "id": "WXnal7K50SA2",
        "outputId": "2947a4ac-9eda-42a7-87b4-d2765fb397c5"
      },
      "outputs": [
        {
          "output_type": "execute_result",
          "data": {
            "text/plain": [
              "<tf.Tensor: shape=(), dtype=float32, numpy=17.506353>"
            ]
          },
          "metadata": {},
          "execution_count": 43
        }
      ],
      "source": [
        "mae(y_test,y_pred)"
      ]
    },
    {
      "cell_type": "code",
      "execution_count": null,
      "metadata": {
        "colab": {
          "base_uri": "https://localhost:8080/"
        },
        "id": "0peOrJw10WAH",
        "outputId": "766cf0c8-e6e4-491a-c323-fd876554058c"
      },
      "outputs": [
        {
          "output_type": "stream",
          "name": "stdout",
          "text": [
            "Epoch 1/100\n",
            "2/2 [==============================] - 0s 7ms/step - loss: 90.5424 - mae: 90.5424\n",
            "Epoch 2/100\n",
            "2/2 [==============================] - 0s 6ms/step - loss: 55.0869 - mae: 55.0869\n",
            "Epoch 3/100\n",
            "2/2 [==============================] - 0s 6ms/step - loss: 18.8117 - mae: 18.8117\n",
            "Epoch 4/100\n",
            "2/2 [==============================] - 0s 6ms/step - loss: 10.1430 - mae: 10.1430\n",
            "Epoch 5/100\n",
            "2/2 [==============================] - 0s 6ms/step - loss: 11.1354 - mae: 11.1354\n",
            "Epoch 6/100\n",
            "2/2 [==============================] - 0s 7ms/step - loss: 10.2855 - mae: 10.2855\n",
            "Epoch 7/100\n",
            "2/2 [==============================] - 0s 6ms/step - loss: 9.2888 - mae: 9.2888\n",
            "Epoch 8/100\n",
            "2/2 [==============================] - 0s 6ms/step - loss: 9.2041 - mae: 9.2041\n",
            "Epoch 9/100\n",
            "2/2 [==============================] - 0s 7ms/step - loss: 11.8460 - mae: 11.8460\n",
            "Epoch 10/100\n",
            "2/2 [==============================] - 0s 6ms/step - loss: 13.7814 - mae: 13.7814\n",
            "Epoch 11/100\n",
            "2/2 [==============================] - 0s 8ms/step - loss: 11.8737 - mae: 11.8737\n",
            "Epoch 12/100\n",
            "2/2 [==============================] - 0s 7ms/step - loss: 16.3358 - mae: 16.3358\n",
            "Epoch 13/100\n",
            "2/2 [==============================] - 0s 15ms/step - loss: 11.9005 - mae: 11.9005\n",
            "Epoch 14/100\n",
            "2/2 [==============================] - 0s 8ms/step - loss: 13.8083 - mae: 13.8083\n",
            "Epoch 15/100\n",
            "2/2 [==============================] - 0s 11ms/step - loss: 11.1939 - mae: 11.1939\n",
            "Epoch 16/100\n",
            "2/2 [==============================] - 0s 10ms/step - loss: 8.6319 - mae: 8.6319\n",
            "Epoch 17/100\n",
            "2/2 [==============================] - 0s 7ms/step - loss: 13.8217 - mae: 13.8217\n",
            "Epoch 18/100\n",
            "2/2 [==============================] - 0s 9ms/step - loss: 11.6899 - mae: 11.6899\n",
            "Epoch 19/100\n",
            "2/2 [==============================] - 0s 7ms/step - loss: 17.6896 - mae: 17.6896\n",
            "Epoch 20/100\n",
            "2/2 [==============================] - 0s 6ms/step - loss: 14.8260 - mae: 14.8260\n",
            "Epoch 21/100\n",
            "2/2 [==============================] - 0s 9ms/step - loss: 10.7476 - mae: 10.7476\n",
            "Epoch 22/100\n",
            "2/2 [==============================] - 0s 7ms/step - loss: 8.4853 - mae: 8.4853\n",
            "Epoch 23/100\n",
            "2/2 [==============================] - 0s 7ms/step - loss: 9.8422 - mae: 9.8422\n",
            "Epoch 24/100\n",
            "2/2 [==============================] - 0s 7ms/step - loss: 10.8415 - mae: 10.8415\n",
            "Epoch 25/100\n",
            "2/2 [==============================] - 0s 9ms/step - loss: 9.1293 - mae: 9.1293\n",
            "Epoch 26/100\n",
            "2/2 [==============================] - 0s 6ms/step - loss: 13.0680 - mae: 13.0680\n",
            "Epoch 27/100\n",
            "2/2 [==============================] - 0s 7ms/step - loss: 10.4138 - mae: 10.4138\n",
            "Epoch 28/100\n",
            "2/2 [==============================] - 0s 9ms/step - loss: 13.4086 - mae: 13.4086\n",
            "Epoch 29/100\n",
            "2/2 [==============================] - 0s 8ms/step - loss: 9.6326 - mae: 9.6326\n",
            "Epoch 30/100\n",
            "2/2 [==============================] - 0s 6ms/step - loss: 17.2117 - mae: 17.2117\n",
            "Epoch 31/100\n",
            "2/2 [==============================] - 0s 8ms/step - loss: 22.8706 - mae: 22.8706\n",
            "Epoch 32/100\n",
            "2/2 [==============================] - 0s 6ms/step - loss: 7.9403 - mae: 7.9403\n",
            "Epoch 33/100\n",
            "2/2 [==============================] - 0s 9ms/step - loss: 14.1578 - mae: 14.1578\n",
            "Epoch 34/100\n",
            "2/2 [==============================] - 0s 8ms/step - loss: 12.4064 - mae: 12.4064\n",
            "Epoch 35/100\n",
            "2/2 [==============================] - 0s 8ms/step - loss: 8.2816 - mae: 8.2816\n",
            "Epoch 36/100\n",
            "2/2 [==============================] - 0s 8ms/step - loss: 10.5006 - mae: 10.5006\n",
            "Epoch 37/100\n",
            "2/2 [==============================] - 0s 9ms/step - loss: 10.1465 - mae: 10.1465\n",
            "Epoch 38/100\n",
            "2/2 [==============================] - 0s 6ms/step - loss: 11.3381 - mae: 11.3381\n",
            "Epoch 39/100\n",
            "2/2 [==============================] - 0s 6ms/step - loss: 14.7818 - mae: 14.7818\n",
            "Epoch 40/100\n",
            "2/2 [==============================] - 0s 6ms/step - loss: 12.9119 - mae: 12.9119\n",
            "Epoch 41/100\n",
            "2/2 [==============================] - 0s 8ms/step - loss: 9.3038 - mae: 9.3038\n",
            "Epoch 42/100\n",
            "2/2 [==============================] - 0s 10ms/step - loss: 11.0209 - mae: 11.0209\n",
            "Epoch 43/100\n",
            "2/2 [==============================] - 0s 9ms/step - loss: 8.3553 - mae: 8.3553\n",
            "Epoch 44/100\n",
            "2/2 [==============================] - 0s 5ms/step - loss: 13.0533 - mae: 13.0533\n",
            "Epoch 45/100\n",
            "2/2 [==============================] - 0s 6ms/step - loss: 13.7033 - mae: 13.7033\n",
            "Epoch 46/100\n",
            "2/2 [==============================] - 0s 7ms/step - loss: 8.3147 - mae: 8.3147\n",
            "Epoch 47/100\n",
            "2/2 [==============================] - 0s 5ms/step - loss: 8.7424 - mae: 8.7424\n",
            "Epoch 48/100\n",
            "2/2 [==============================] - 0s 7ms/step - loss: 10.0410 - mae: 10.0410\n",
            "Epoch 49/100\n",
            "2/2 [==============================] - 0s 5ms/step - loss: 8.5270 - mae: 8.5270\n",
            "Epoch 50/100\n",
            "2/2 [==============================] - 0s 5ms/step - loss: 9.0305 - mae: 9.0305\n",
            "Epoch 51/100\n",
            "2/2 [==============================] - 0s 5ms/step - loss: 9.3946 - mae: 9.3946\n",
            "Epoch 52/100\n",
            "2/2 [==============================] - 0s 5ms/step - loss: 14.1665 - mae: 14.1665\n",
            "Epoch 53/100\n",
            "2/2 [==============================] - 0s 5ms/step - loss: 14.9109 - mae: 14.9109\n",
            "Epoch 54/100\n",
            "2/2 [==============================] - 0s 5ms/step - loss: 14.8504 - mae: 14.8504\n",
            "Epoch 55/100\n",
            "2/2 [==============================] - 0s 5ms/step - loss: 12.6347 - mae: 12.6347\n",
            "Epoch 56/100\n",
            "2/2 [==============================] - 0s 6ms/step - loss: 7.6221 - mae: 7.6221\n",
            "Epoch 57/100\n",
            "2/2 [==============================] - 0s 5ms/step - loss: 8.8068 - mae: 8.8068\n",
            "Epoch 58/100\n",
            "2/2 [==============================] - 0s 5ms/step - loss: 8.3971 - mae: 8.3971\n",
            "Epoch 59/100\n",
            "2/2 [==============================] - 0s 6ms/step - loss: 9.1905 - mae: 9.1905\n",
            "Epoch 60/100\n",
            "2/2 [==============================] - 0s 6ms/step - loss: 9.1366 - mae: 9.1366\n",
            "Epoch 61/100\n",
            "2/2 [==============================] - 0s 6ms/step - loss: 10.6724 - mae: 10.6724\n",
            "Epoch 62/100\n",
            "2/2 [==============================] - 0s 6ms/step - loss: 7.4618 - mae: 7.4618\n",
            "Epoch 63/100\n",
            "2/2 [==============================] - 0s 7ms/step - loss: 10.5575 - mae: 10.5575\n",
            "Epoch 64/100\n",
            "2/2 [==============================] - 0s 5ms/step - loss: 12.1660 - mae: 12.1660\n",
            "Epoch 65/100\n",
            "2/2 [==============================] - 0s 6ms/step - loss: 9.4880 - mae: 9.4880\n",
            "Epoch 66/100\n",
            "2/2 [==============================] - 0s 6ms/step - loss: 11.5730 - mae: 11.5730\n",
            "Epoch 67/100\n",
            "2/2 [==============================] - 0s 7ms/step - loss: 8.0413 - mae: 8.0413\n",
            "Epoch 68/100\n",
            "2/2 [==============================] - 0s 6ms/step - loss: 8.5764 - mae: 8.5764\n",
            "Epoch 69/100\n",
            "2/2 [==============================] - 0s 9ms/step - loss: 12.2353 - mae: 12.2353\n",
            "Epoch 70/100\n",
            "2/2 [==============================] - 0s 6ms/step - loss: 8.9584 - mae: 8.9584\n",
            "Epoch 71/100\n",
            "2/2 [==============================] - 0s 8ms/step - loss: 9.9306 - mae: 9.9306\n",
            "Epoch 72/100\n",
            "2/2 [==============================] - 0s 12ms/step - loss: 9.9749 - mae: 9.9749\n",
            "Epoch 73/100\n",
            "2/2 [==============================] - 0s 5ms/step - loss: 12.4195 - mae: 12.4195\n",
            "Epoch 74/100\n",
            "2/2 [==============================] - 0s 6ms/step - loss: 10.6357 - mae: 10.6357\n",
            "Epoch 75/100\n",
            "2/2 [==============================] - 0s 6ms/step - loss: 9.6304 - mae: 9.6304\n",
            "Epoch 76/100\n",
            "2/2 [==============================] - 0s 6ms/step - loss: 11.0892 - mae: 11.0892\n",
            "Epoch 77/100\n",
            "2/2 [==============================] - 0s 6ms/step - loss: 8.2794 - mae: 8.2794\n",
            "Epoch 78/100\n",
            "2/2 [==============================] - 0s 10ms/step - loss: 8.9557 - mae: 8.9557\n",
            "Epoch 79/100\n",
            "2/2 [==============================] - 0s 5ms/step - loss: 19.8636 - mae: 19.8636\n",
            "Epoch 80/100\n",
            "2/2 [==============================] - 0s 5ms/step - loss: 17.7779 - mae: 17.7779\n",
            "Epoch 81/100\n",
            "2/2 [==============================] - 0s 7ms/step - loss: 7.1239 - mae: 7.1239\n",
            "Epoch 82/100\n",
            "2/2 [==============================] - 0s 5ms/step - loss: 10.4046 - mae: 10.4046\n",
            "Epoch 83/100\n",
            "2/2 [==============================] - 0s 5ms/step - loss: 9.8220 - mae: 9.8220\n",
            "Epoch 84/100\n",
            "2/2 [==============================] - 0s 5ms/step - loss: 7.9738 - mae: 7.9738\n",
            "Epoch 85/100\n",
            "2/2 [==============================] - 0s 4ms/step - loss: 9.4916 - mae: 9.4916\n",
            "Epoch 86/100\n",
            "2/2 [==============================] - 0s 4ms/step - loss: 9.5318 - mae: 9.5318\n",
            "Epoch 87/100\n",
            "2/2 [==============================] - 0s 6ms/step - loss: 11.4847 - mae: 11.4847\n",
            "Epoch 88/100\n",
            "2/2 [==============================] - 0s 5ms/step - loss: 9.9850 - mae: 9.9850\n",
            "Epoch 89/100\n",
            "2/2 [==============================] - 0s 6ms/step - loss: 7.2766 - mae: 7.2766\n",
            "Epoch 90/100\n",
            "2/2 [==============================] - 0s 5ms/step - loss: 12.7504 - mae: 12.7504\n",
            "Epoch 91/100\n",
            "2/2 [==============================] - 0s 6ms/step - loss: 7.3469 - mae: 7.3469\n",
            "Epoch 92/100\n",
            "2/2 [==============================] - 0s 9ms/step - loss: 7.7138 - mae: 7.7138\n",
            "Epoch 93/100\n",
            "2/2 [==============================] - 0s 6ms/step - loss: 7.1399 - mae: 7.1399\n",
            "Epoch 94/100\n",
            "2/2 [==============================] - 0s 6ms/step - loss: 12.5949 - mae: 12.5949\n",
            "Epoch 95/100\n",
            "2/2 [==============================] - 0s 6ms/step - loss: 9.9720 - mae: 9.9720\n",
            "Epoch 96/100\n",
            "2/2 [==============================] - 0s 11ms/step - loss: 9.1477 - mae: 9.1477\n",
            "Epoch 97/100\n",
            "2/2 [==============================] - 0s 5ms/step - loss: 12.0696 - mae: 12.0696\n",
            "Epoch 98/100\n",
            "2/2 [==============================] - 0s 5ms/step - loss: 9.1167 - mae: 9.1167\n",
            "Epoch 99/100\n",
            "2/2 [==============================] - 0s 5ms/step - loss: 8.5091 - mae: 8.5091\n",
            "Epoch 100/100\n",
            "2/2 [==============================] - 0s 5ms/step - loss: 14.4262 - mae: 14.4262\n"
          ]
        },
        {
          "output_type": "execute_result",
          "data": {
            "text/plain": [
              "<keras.callbacks.History at 0x7f57d076fd50>"
            ]
          },
          "metadata": {},
          "execution_count": 32
        }
      ],
      "source": [
        "## Building a new model and optimizing it with 3 different metrics\n",
        "tf.random.set_seed = 42\n",
        "\n",
        "# Create the model\n",
        "model_1 = tf.keras.Sequential([\n",
        "                               tf.keras.layers.Dense(1)\n",
        "])\n",
        "\n",
        "# Compile the model\n",
        "model_1.compile(loss=tf.keras.losses.mae,\n",
        "                optimizer=tf.keras.optimizers.SGD(),\n",
        "                metrics=[\"mae\"])\n",
        "\n",
        "# Fit the model\n",
        "model_1.fit(tf.expand_dims(X_train, axis=-1), y_train, epochs=100)"
      ]
    },
    {
      "cell_type": "code",
      "execution_count": null,
      "metadata": {
        "colab": {
          "base_uri": "https://localhost:8080/",
          "height": 465
        },
        "id": "wD_j0qwy8-fJ",
        "outputId": "fc182299-fdaa-4c96-be2b-b825d4eca359"
      },
      "outputs": [
        {
          "output_type": "stream",
          "name": "stdout",
          "text": [
            "WARNING:tensorflow:6 out of the last 6 calls to <function Model.make_predict_function.<locals>.predict_function at 0x7f57cfb4e320> triggered tf.function retracing. Tracing is expensive and the excessive number of tracings could be due to (1) creating @tf.function repeatedly in a loop, (2) passing tensors with different shapes, (3) passing Python objects instead of tensors. For (1), please define your @tf.function outside of the loop. For (2), @tf.function has experimental_relax_shapes=True option that relaxes argument shapes that can avoid unnecessary retracing. For (3), please refer to https://www.tensorflow.org/guide/function#controlling_retracing and https://www.tensorflow.org/api_docs/python/tf/function for  more details.\n"
          ]
        },
        {
          "output_type": "display_data",
          "data": {
            "text/plain": [
              "<Figure size 720x504 with 1 Axes>"
            ],
            "image/png": "[encoded data removed]"
          },
          "metadata": {
            "needs_background": "light"
          }
        }
      ],
      "source": [
        "# Make a prediction and plot model_1\n",
        "y_pred_1 = model_1.predict(X_test)\n",
        "plot_predictions(predictions=y_pred_1)"
      ]
    },
    {
      "cell_type": "code",
      "execution_count": null,
      "metadata": {
        "colab": {
          "base_uri": "https://localhost:8080/"
        },
        "id": "d0hbbVQ6-ZjH",
        "outputId": "1b60ec4e-bcf1-41e4-d1a7-f8f93f74a28c"
      },
      "outputs": [
        {
          "output_type": "execute_result",
          "data": {
            "text/plain": [
              "(<tf.Tensor: shape=(), dtype=float32, numpy=30.760834>,\n",
              " <tf.Tensor: shape=(), dtype=float32, numpy=956.76056>)"
            ]
          },
          "metadata": {},
          "execution_count": 34
        }
      ],
      "source": [
        "# Evaluate model_1\n",
        "mae_1 = mae(y_test, tf.squeeze(y_pred_1))\n",
        "mse_1 = mse(y_test, tf.squeeze(y_pred_1))\n",
        "mae_1,mse_1"
      ]
    },
    {
      "cell_type": "markdown",
      "source": [
        "## Building model_2\n",
        "### - 2 Dense layers, trained for 100 epochs"
      ],
      "metadata": {
        "id": "wY3Lyc-x-0hw"
      }
    },
    {
      "cell_type": "code",
      "source": [
        "# Set the random seed\n",
        "tf.random.set_seed = 42\n",
        "\n",
        "# Create the model\n",
        "model_2 = tf.keras.Sequential([\n",
        "                               tf.keras.layers.Dense(10),\n",
        "                               tf.keras.layers.Dense(1)\n",
        "])\n",
        "\n",
        "# Compile the model\n",
        "model_2.compile(loss=tf.keras.losses.mae,\n",
        "                optimizer=tf.keras.optimizers.SGD(), # this call type allows changing of learning rate\n",
        "                metrics=[\"mse\"])\n",
        "\n",
        "# Fit the model\n",
        "model_2.fit(tf.expand_dims(X_train, axis=-1), y_train, epochs=100)"
      ],
      "metadata": {
        "colab": {
          "base_uri": "https://localhost:8080/"
        },
        "id": "0rc7KFsjDewR",
        "outputId": "15a040aa-78d2-4a55-f768-565db2d5c303"
      },
      "execution_count": null,
      "outputs": [
        {
          "output_type": "stream",
          "name": "stdout",
          "text": [
            "Epoch 1/100\n",
            "2/2 [==============================] - 1s 10ms/step - loss: 28.7859 - mse: 2015.2386\n",
            "Epoch 2/100\n",
            "2/2 [==============================] - 0s 15ms/step - loss: 25.2026 - mse: 1134.4695\n",
            "Epoch 3/100\n",
            "2/2 [==============================] - 0s 12ms/step - loss: 31.3485 - mse: 1449.7688\n",
            "Epoch 4/100\n",
            "2/2 [==============================] - 0s 13ms/step - loss: 14.8292 - mse: 387.4093\n",
            "Epoch 5/100\n",
            "2/2 [==============================] - 0s 16ms/step - loss: 22.2972 - mse: 732.8237\n",
            "Epoch 6/100\n",
            "2/2 [==============================] - 0s 15ms/step - loss: 12.9661 - mse: 227.7825\n",
            "Epoch 7/100\n",
            "2/2 [==============================] - 0s 13ms/step - loss: 12.2512 - mse: 191.7726\n",
            "Epoch 8/100\n",
            "2/2 [==============================] - 0s 16ms/step - loss: 14.0131 - mse: 277.0849\n",
            "Epoch 9/100\n",
            "2/2 [==============================] - 0s 15ms/step - loss: 32.2507 - mse: 1524.4702\n",
            "Epoch 10/100\n",
            "2/2 [==============================] - 0s 13ms/step - loss: 21.8142 - mse: 663.6564\n",
            "Epoch 11/100\n",
            "2/2 [==============================] - 0s 6ms/step - loss: 11.8417 - mse: 218.1421\n",
            "Epoch 12/100\n",
            "2/2 [==============================] - 0s 7ms/step - loss: 23.7368 - mse: 798.5404\n",
            "Epoch 13/100\n",
            "2/2 [==============================] - 0s 8ms/step - loss: 21.1641 - mse: 638.5515\n",
            "Epoch 14/100\n",
            "2/2 [==============================] - 0s 20ms/step - loss: 23.6258 - mse: 855.8307\n",
            "Epoch 15/100\n",
            "2/2 [==============================] - 0s 11ms/step - loss: 15.7181 - mse: 336.1812\n",
            "Epoch 16/100\n",
            "2/2 [==============================] - 0s 11ms/step - loss: 10.4176 - mse: 124.6590\n",
            "Epoch 17/100\n",
            "2/2 [==============================] - 0s 12ms/step - loss: 19.6416 - mse: 524.6754\n",
            "Epoch 18/100\n",
            "2/2 [==============================] - 0s 17ms/step - loss: 13.2845 - mse: 275.9679\n",
            "Epoch 19/100\n",
            "2/2 [==============================] - 0s 13ms/step - loss: 16.0587 - mse: 412.1086\n",
            "Epoch 20/100\n",
            "2/2 [==============================] - 0s 12ms/step - loss: 10.2003 - mse: 153.8806\n",
            "Epoch 21/100\n",
            "2/2 [==============================] - 0s 13ms/step - loss: 13.7509 - mse: 249.6286\n",
            "Epoch 22/100\n",
            "2/2 [==============================] - 0s 12ms/step - loss: 21.9858 - mse: 685.7131\n",
            "Epoch 23/100\n",
            "2/2 [==============================] - 0s 12ms/step - loss: 10.4454 - mse: 166.7309\n",
            "Epoch 24/100\n",
            "2/2 [==============================] - 0s 13ms/step - loss: 15.7317 - mse: 332.3557\n",
            "Epoch 25/100\n",
            "2/2 [==============================] - 0s 12ms/step - loss: 14.8870 - mse: 291.9970\n",
            "Epoch 26/100\n",
            "2/2 [==============================] - 0s 23ms/step - loss: 19.4979 - mse: 576.5244\n",
            "Epoch 27/100\n",
            "2/2 [==============================] - 0s 12ms/step - loss: 20.5825 - mse: 640.6156\n",
            "Epoch 28/100\n",
            "2/2 [==============================] - 0s 13ms/step - loss: 14.9442 - mse: 344.5169\n",
            "Epoch 29/100\n",
            "2/2 [==============================] - 0s 20ms/step - loss: 9.2614 - mse: 93.1706\n",
            "Epoch 30/100\n",
            "2/2 [==============================] - 0s 15ms/step - loss: 30.3405 - mse: 1682.8455\n",
            "Epoch 31/100\n",
            "2/2 [==============================] - 0s 12ms/step - loss: 55.1295 - mse: 5450.3750\n",
            "Epoch 32/100\n",
            "2/2 [==============================] - 0s 14ms/step - loss: 9.6966 - mse: 102.8321\n",
            "Epoch 33/100\n",
            "2/2 [==============================] - 0s 15ms/step - loss: 12.3076 - mse: 191.0235\n",
            "Epoch 34/100\n",
            "2/2 [==============================] - 0s 10ms/step - loss: 24.4826 - mse: 910.6792\n",
            "Epoch 35/100\n",
            "2/2 [==============================] - 0s 11ms/step - loss: 11.9546 - mse: 210.6182\n",
            "Epoch 36/100\n",
            "2/2 [==============================] - 0s 20ms/step - loss: 22.1861 - mse: 700.2662\n",
            "Epoch 37/100\n",
            "2/2 [==============================] - 0s 9ms/step - loss: 17.4263 - mse: 432.7016\n",
            "Epoch 38/100\n",
            "2/2 [==============================] - 0s 7ms/step - loss: 10.6877 - mse: 131.5914\n",
            "Epoch 39/100\n",
            "2/2 [==============================] - 0s 8ms/step - loss: 11.2046 - mse: 163.4144\n",
            "Epoch 40/100\n",
            "2/2 [==============================] - 0s 8ms/step - loss: 18.0585 - mse: 471.5356\n",
            "Epoch 41/100\n",
            "2/2 [==============================] - 0s 8ms/step - loss: 10.4346 - mse: 182.8264\n",
            "Epoch 42/100\n",
            "2/2 [==============================] - 0s 18ms/step - loss: 7.2652 - mse: 75.2075\n",
            "Epoch 43/100\n",
            "2/2 [==============================] - 0s 14ms/step - loss: 19.0214 - mse: 536.5399\n",
            "Epoch 44/100\n",
            "2/2 [==============================] - 0s 14ms/step - loss: 20.1940 - mse: 630.9813\n",
            "Epoch 45/100\n",
            "2/2 [==============================] - 0s 14ms/step - loss: 10.1482 - mse: 127.7471\n",
            "Epoch 46/100\n",
            "2/2 [==============================] - 0s 10ms/step - loss: 11.4254 - mse: 162.5384\n",
            "Epoch 47/100\n",
            "2/2 [==============================] - 0s 7ms/step - loss: 9.7991 - mse: 152.8601\n",
            "Epoch 48/100\n",
            "2/2 [==============================] - 0s 8ms/step - loss: 17.5646 - mse: 419.3270\n",
            "Epoch 49/100\n",
            "2/2 [==============================] - 0s 12ms/step - loss: 9.3614 - mse: 95.9469\n",
            "Epoch 50/100\n",
            "2/2 [==============================] - 0s 8ms/step - loss: 13.4347 - mse: 239.0918\n",
            "Epoch 51/100\n",
            "2/2 [==============================] - 0s 10ms/step - loss: 11.4550 - mse: 149.3124\n",
            "Epoch 52/100\n",
            "2/2 [==============================] - 0s 9ms/step - loss: 29.5604 - mse: 1500.3416\n",
            "Epoch 53/100\n",
            "2/2 [==============================] - 0s 11ms/step - loss: 16.8409 - mse: 420.2309\n",
            "Epoch 54/100\n",
            "2/2 [==============================] - 0s 8ms/step - loss: 21.8444 - mse: 704.4423\n",
            "Epoch 55/100\n",
            "2/2 [==============================] - 0s 10ms/step - loss: 22.4726 - mse: 753.6450\n",
            "Epoch 56/100\n",
            "2/2 [==============================] - 0s 11ms/step - loss: 10.6667 - mse: 172.5509\n",
            "Epoch 57/100\n",
            "2/2 [==============================] - 0s 11ms/step - loss: 12.4446 - mse: 187.4596\n",
            "Epoch 58/100\n",
            "2/2 [==============================] - 0s 12ms/step - loss: 9.4368 - mse: 101.0737\n",
            "Epoch 59/100\n",
            "2/2 [==============================] - 0s 11ms/step - loss: 12.2394 - mse: 199.3288\n",
            "Epoch 60/100\n",
            "2/2 [==============================] - 0s 16ms/step - loss: 11.7098 - mse: 179.8439\n",
            "Epoch 61/100\n",
            "2/2 [==============================] - 0s 15ms/step - loss: 16.2055 - mse: 366.8874\n",
            "Epoch 62/100\n",
            "2/2 [==============================] - 0s 11ms/step - loss: 11.2229 - mse: 160.2168\n",
            "Epoch 63/100\n",
            "2/2 [==============================] - 0s 14ms/step - loss: 12.5063 - mse: 222.8751\n",
            "Epoch 64/100\n",
            "2/2 [==============================] - 0s 9ms/step - loss: 15.9049 - mse: 362.2796\n",
            "Epoch 65/100\n",
            "2/2 [==============================] - 0s 9ms/step - loss: 10.6619 - mse: 141.4051\n",
            "Epoch 66/100\n",
            "2/2 [==============================] - 0s 9ms/step - loss: 21.6918 - mse: 697.8764\n",
            "Epoch 67/100\n",
            "2/2 [==============================] - 0s 9ms/step - loss: 10.6920 - mse: 135.0228\n",
            "Epoch 68/100\n",
            "2/2 [==============================] - 0s 10ms/step - loss: 10.6262 - mse: 147.6096\n",
            "Epoch 69/100\n",
            "2/2 [==============================] - 0s 6ms/step - loss: 22.5861 - mse: 734.9923\n",
            "Epoch 70/100\n",
            "2/2 [==============================] - 0s 6ms/step - loss: 9.3570 - mse: 165.7462\n",
            "Epoch 71/100\n",
            "2/2 [==============================] - 0s 6ms/step - loss: 15.4741 - mse: 324.6391\n",
            "Epoch 72/100\n",
            "2/2 [==============================] - 0s 7ms/step - loss: 7.0257 - mse: 67.7689\n",
            "Epoch 73/100\n",
            "2/2 [==============================] - 0s 6ms/step - loss: 12.2290 - mse: 216.4727\n",
            "Epoch 74/100\n",
            "2/2 [==============================] - 0s 6ms/step - loss: 17.3768 - mse: 408.9277\n",
            "Epoch 75/100\n",
            "2/2 [==============================] - 0s 7ms/step - loss: 7.2312 - mse: 71.5870\n",
            "Epoch 76/100\n",
            "2/2 [==============================] - 0s 6ms/step - loss: 9.4666 - mse: 148.9610\n",
            "Epoch 77/100\n",
            "2/2 [==============================] - 0s 5ms/step - loss: 22.2033 - mse: 735.6451\n",
            "Epoch 78/100\n",
            "2/2 [==============================] - 0s 6ms/step - loss: 17.4232 - mse: 461.5811\n",
            "Epoch 79/100\n",
            "2/2 [==============================] - 0s 6ms/step - loss: 14.6776 - mse: 315.1745\n",
            "Epoch 80/100\n",
            "2/2 [==============================] - 0s 5ms/step - loss: 24.6656 - mse: 930.3366\n",
            "Epoch 81/100\n",
            "2/2 [==============================] - 0s 6ms/step - loss: 11.5296 - mse: 164.2218\n",
            "Epoch 82/100\n",
            "2/2 [==============================] - 0s 6ms/step - loss: 12.4058 - mse: 226.2357\n",
            "Epoch 83/100\n",
            "2/2 [==============================] - 0s 6ms/step - loss: 17.0615 - mse: 378.5786\n",
            "Epoch 84/100\n",
            "2/2 [==============================] - 0s 6ms/step - loss: 7.2548 - mse: 75.6531\n",
            "Epoch 85/100\n",
            "2/2 [==============================] - 0s 6ms/step - loss: 37.3411 - mse: 2244.4854\n",
            "Epoch 86/100\n",
            "2/2 [==============================] - 0s 6ms/step - loss: 21.3170 - mse: 652.7643\n",
            "Epoch 87/100\n",
            "2/2 [==============================] - 0s 7ms/step - loss: 11.0642 - mse: 148.5870\n",
            "Epoch 88/100\n",
            "2/2 [==============================] - 0s 7ms/step - loss: 25.1922 - mse: 903.3376\n",
            "Epoch 89/100\n",
            "2/2 [==============================] - 0s 12ms/step - loss: 9.3929 - mse: 136.3566\n",
            "Epoch 90/100\n",
            "2/2 [==============================] - 0s 11ms/step - loss: 17.4619 - mse: 437.5701\n",
            "Epoch 91/100\n",
            "2/2 [==============================] - 0s 14ms/step - loss: 10.8410 - mse: 160.6641\n",
            "Epoch 92/100\n",
            "2/2 [==============================] - 0s 7ms/step - loss: 19.1538 - mse: 505.8347\n",
            "Epoch 93/100\n",
            "2/2 [==============================] - 0s 6ms/step - loss: 8.3520 - mse: 102.3361\n",
            "Epoch 94/100\n",
            "2/2 [==============================] - 0s 7ms/step - loss: 11.5965 - mse: 180.3975\n",
            "Epoch 95/100\n",
            "2/2 [==============================] - 0s 6ms/step - loss: 26.2025 - mse: 1042.6189\n",
            "Epoch 96/100\n",
            "2/2 [==============================] - 0s 6ms/step - loss: 11.2269 - mse: 170.0398\n",
            "Epoch 97/100\n",
            "2/2 [==============================] - 0s 6ms/step - loss: 16.8518 - mse: 433.5389\n",
            "Epoch 98/100\n",
            "2/2 [==============================] - 0s 6ms/step - loss: 6.6042 - mse: 60.8362\n",
            "Epoch 99/100\n",
            "2/2 [==============================] - 0s 6ms/step - loss: 12.5974 - mse: 229.6535\n",
            "Epoch 100/100\n",
            "2/2 [==============================] - 0s 14ms/step - loss: 19.3930 - mse: 552.2582\n"
          ]
        },
        {
          "output_type": "execute_result",
          "data": {
            "text/plain": [
              "<keras.callbacks.History at 0x7f57c897a150>"
            ]
          },
          "metadata": {},
          "execution_count": 38
        }
      ]
    },
    {
      "cell_type": "code",
      "source": [
        "# Make a prediction and plot model_2\n",
        "y_pred_2 = model_2.predict(X_test)\n",
        "plot_predictions(predictions=y_pred_2)"
      ],
      "metadata": {
        "colab": {
          "base_uri": "https://localhost:8080/",
          "height": 428
        },
        "id": "O4Jn6GcPEdl5",
        "outputId": "f4c64da9-253d-4fc7-979c-a702e18d4782"
      },
      "execution_count": null,
      "outputs": [
        {
          "output_type": "display_data",
          "data": {
            "text/plain": [
              "<Figure size 720x504 with 1 Axes>"
            ],
            "image/png": "[encoded data removed]"
          },
          "metadata": {
            "needs_background": "light"
          }
        }
      ]
    },
    {
      "cell_type": "code",
      "source": [
        "# Evluation metrics for model_2\n",
        "mae_2 = mae(y_test, y_pred_2)\n",
        "mse_2 = mse(y_test, y_pred_2)\n",
        "mae_2, mse_2"
      ],
      "metadata": {
        "colab": {
          "base_uri": "https://localhost:8080/"
        },
        "id": "7wmaVvenEiy2",
        "outputId": "8767647f-0464-4dc9-9ea7-471cc292db03"
      },
      "execution_count": null,
      "outputs": [
        {
          "output_type": "execute_result",
          "data": {
            "text/plain": [
              "(<tf.Tensor: shape=(), dtype=float32, numpy=13.324402>,\n",
              " <tf.Tensor: shape=(), dtype=float32, numpy=187.64375>)"
            ]
          },
          "metadata": {},
          "execution_count": 44
        }
      ]
    },
    {
      "cell_type": "markdown",
      "source": [
        "## Building Model_3\n",
        "### - 2 layers, trained for 500 epochs"
      ],
      "metadata": {
        "id": "G4HZdgXsFPVS"
      }
    },
    {
      "cell_type": "code",
      "source": [
        "# Set the random seed\n",
        "tf.random.set_seed = 42\n",
        "\n",
        "# Create the model\n",
        "model_3 = tf.keras.Sequential([\n",
        "                               tf.keras.layers.Dense(10),\n",
        "                               tf.keras.layers.Dense(1)\n",
        "])\n",
        "\n",
        "# Compile the model\n",
        "model_3.compile(loss=tf.keras.losses.mae,\n",
        "                optimizer=tf.keras.optimizers.SGD(), # this call type allows changing of learning rate\n",
        "                metrics=[\"mse\"])\n",
        "\n",
        "# Fit the model\n",
        "model_3.fit(tf.expand_dims(X_train, axis=-1), y_train, epochs=500)"
      ],
      "metadata": {
        "colab": {
          "base_uri": "https://localhost:8080/"
        },
        "id": "U-cpjFDQFnj2",
        "outputId": "11ac1e70-6947-4691-9482-a4e4b292b697"
      },
      "execution_count": null,
      "outputs": [
        {
          "output_type": "stream",
          "name": "stdout",
          "text": [
            "Epoch 1/500\n",
            "2/2 [==============================] - 1s 7ms/step - loss: 18.9677 - mse: 849.2028\n",
            "Epoch 2/500\n",
            "2/2 [==============================] - 0s 8ms/step - loss: 23.6366 - mse: 755.4867\n",
            "Epoch 3/500\n",
            "2/2 [==============================] - 0s 6ms/step - loss: 28.8634 - mse: 1263.8839\n",
            "Epoch 4/500\n",
            "2/2 [==============================] - 0s 7ms/step - loss: 14.0354 - mse: 262.1344\n",
            "Epoch 5/500\n",
            "2/2 [==============================] - 0s 8ms/step - loss: 19.1924 - mse: 501.6196\n",
            "Epoch 6/500\n",
            "2/2 [==============================] - 0s 7ms/step - loss: 9.5803 - mse: 121.5827\n",
            "Epoch 7/500\n",
            "2/2 [==============================] - 0s 8ms/step - loss: 10.5536 - mse: 140.8990\n",
            "Epoch 8/500\n",
            "2/2 [==============================] - 0s 8ms/step - loss: 12.8684 - mse: 226.1990\n",
            "Epoch 9/500\n",
            "2/2 [==============================] - 0s 5ms/step - loss: 33.8189 - mse: 1711.5498\n",
            "Epoch 10/500\n",
            "2/2 [==============================] - 0s 12ms/step - loss: 23.1392 - mse: 748.6177\n",
            "Epoch 11/500\n",
            "2/2 [==============================] - 0s 6ms/step - loss: 10.2434 - mse: 148.5113\n",
            "Epoch 12/500\n",
            "2/2 [==============================] - 0s 13ms/step - loss: 25.2575 - mse: 889.3024\n",
            "Epoch 13/500\n",
            "2/2 [==============================] - 0s 7ms/step - loss: 17.0745 - mse: 405.1125\n",
            "Epoch 14/500\n",
            "2/2 [==============================] - 0s 6ms/step - loss: 26.0877 - mse: 1064.6759\n",
            "Epoch 15/500\n",
            "2/2 [==============================] - 0s 5ms/step - loss: 18.1284 - mse: 456.9621\n",
            "Epoch 16/500\n",
            "2/2 [==============================] - 0s 10ms/step - loss: 7.8524 - mse: 89.3895\n",
            "Epoch 17/500\n",
            "2/2 [==============================] - 0s 14ms/step - loss: 22.2473 - mse: 686.0425\n",
            "Epoch 18/500\n",
            "2/2 [==============================] - 0s 6ms/step - loss: 10.8287 - mse: 172.5266\n",
            "Epoch 19/500\n",
            "2/2 [==============================] - 0s 7ms/step - loss: 10.7188 - mse: 139.7512\n",
            "Epoch 20/500\n",
            "2/2 [==============================] - 0s 9ms/step - loss: 12.0423 - mse: 165.4875\n",
            "Epoch 21/500\n",
            "2/2 [==============================] - 0s 7ms/step - loss: 20.1794 - mse: 591.4727\n",
            "Epoch 22/500\n",
            "2/2 [==============================] - 0s 11ms/step - loss: 13.7986 - mse: 243.9620\n",
            "Epoch 23/500\n",
            "2/2 [==============================] - 0s 11ms/step - loss: 9.5411 - mse: 95.0052\n",
            "Epoch 24/500\n",
            "2/2 [==============================] - 0s 14ms/step - loss: 11.8993 - mse: 164.0192\n",
            "Epoch 25/500\n",
            "2/2 [==============================] - 0s 8ms/step - loss: 16.2409 - mse: 386.4677\n",
            "Epoch 26/500\n",
            "2/2 [==============================] - 0s 8ms/step - loss: 16.4298 - mse: 376.0696\n",
            "Epoch 27/500\n",
            "2/2 [==============================] - 0s 7ms/step - loss: 11.5892 - mse: 182.3203\n",
            "Epoch 28/500\n",
            "2/2 [==============================] - 0s 12ms/step - loss: 30.0591 - mse: 1473.5533\n",
            "Epoch 29/500\n",
            "2/2 [==============================] - 0s 10ms/step - loss: 9.2443 - mse: 92.2979\n",
            "Epoch 30/500\n",
            "2/2 [==============================] - 0s 10ms/step - loss: 30.5945 - mse: 1718.4041\n",
            "Epoch 31/500\n",
            "2/2 [==============================] - 0s 7ms/step - loss: 55.6237 - mse: 5551.1904\n",
            "Epoch 32/500\n",
            "2/2 [==============================] - 0s 11ms/step - loss: 9.7354 - mse: 103.4574\n",
            "Epoch 33/500\n",
            "2/2 [==============================] - 0s 5ms/step - loss: 12.3570 - mse: 195.8775\n",
            "Epoch 34/500\n",
            "2/2 [==============================] - 0s 12ms/step - loss: 24.7814 - mse: 934.3083\n",
            "Epoch 35/500\n",
            "2/2 [==============================] - 0s 10ms/step - loss: 11.9027 - mse: 211.7259\n",
            "Epoch 36/500\n",
            "2/2 [==============================] - 0s 5ms/step - loss: 22.0661 - mse: 693.8104\n",
            "Epoch 37/500\n",
            "2/2 [==============================] - 0s 14ms/step - loss: 17.8895 - mse: 456.4976\n",
            "Epoch 38/500\n",
            "2/2 [==============================] - 0s 7ms/step - loss: 9.9746 - mse: 111.9236\n",
            "Epoch 39/500\n",
            "2/2 [==============================] - 0s 8ms/step - loss: 10.5061 - mse: 126.8532\n",
            "Epoch 40/500\n",
            "2/2 [==============================] - 0s 11ms/step - loss: 15.6073 - mse: 351.7925\n",
            "Epoch 41/500\n",
            "2/2 [==============================] - 0s 9ms/step - loss: 11.8312 - mse: 183.2713\n",
            "Epoch 42/500\n",
            "2/2 [==============================] - 0s 9ms/step - loss: 9.9489 - mse: 112.8550\n",
            "Epoch 43/500\n",
            "2/2 [==============================] - 0s 11ms/step - loss: 9.7936 - mse: 105.8114\n",
            "Epoch 44/500\n",
            "2/2 [==============================] - 0s 11ms/step - loss: 30.6366 - mse: 1528.5021\n",
            "Epoch 45/500\n",
            "2/2 [==============================] - 0s 10ms/step - loss: 11.9920 - mse: 176.1201\n",
            "Epoch 46/500\n",
            "2/2 [==============================] - 0s 11ms/step - loss: 16.1613 - mse: 389.8439\n",
            "Epoch 47/500\n",
            "2/2 [==============================] - 0s 11ms/step - loss: 15.0268 - mse: 309.9282\n",
            "Epoch 48/500\n",
            "2/2 [==============================] - 0s 11ms/step - loss: 14.2443 - mse: 272.8800\n",
            "Epoch 49/500\n",
            "2/2 [==============================] - 0s 11ms/step - loss: 13.7935 - mse: 266.1514\n",
            "Epoch 50/500\n",
            "2/2 [==============================] - 0s 12ms/step - loss: 12.6626 - mse: 210.3018\n",
            "Epoch 51/500\n",
            "2/2 [==============================] - 0s 7ms/step - loss: 14.7095 - mse: 302.0757\n",
            "Epoch 52/500\n",
            "2/2 [==============================] - 0s 8ms/step - loss: 18.6175 - mse: 517.9984\n",
            "Epoch 53/500\n",
            "2/2 [==============================] - 0s 8ms/step - loss: 23.9448 - mse: 815.2698\n",
            "Epoch 54/500\n",
            "2/2 [==============================] - 0s 8ms/step - loss: 23.9286 - mse: 855.9183\n",
            "Epoch 55/500\n",
            "2/2 [==============================] - 0s 9ms/step - loss: 23.1456 - mse: 801.9815\n",
            "Epoch 56/500\n",
            "2/2 [==============================] - 0s 10ms/step - loss: 10.8605 - mse: 170.8327\n",
            "Epoch 57/500\n",
            "2/2 [==============================] - 0s 9ms/step - loss: 12.7179 - mse: 197.8203\n",
            "Epoch 58/500\n",
            "2/2 [==============================] - 0s 10ms/step - loss: 9.5823 - mse: 102.3155\n",
            "Epoch 59/500\n",
            "2/2 [==============================] - 0s 8ms/step - loss: 12.4963 - mse: 215.3820\n",
            "Epoch 60/500\n",
            "2/2 [==============================] - 0s 7ms/step - loss: 12.3019 - mse: 207.9072\n",
            "Epoch 61/500\n",
            "2/2 [==============================] - 0s 10ms/step - loss: 17.4388 - mse: 427.5541\n",
            "Epoch 62/500\n",
            "2/2 [==============================] - 0s 7ms/step - loss: 10.5901 - mse: 136.6020\n",
            "Epoch 63/500\n",
            "2/2 [==============================] - 0s 8ms/step - loss: 10.4770 - mse: 151.9695\n",
            "Epoch 64/500\n",
            "2/2 [==============================] - 0s 7ms/step - loss: 24.8292 - mse: 910.5004\n",
            "Epoch 65/500\n",
            "2/2 [==============================] - 0s 8ms/step - loss: 10.6642 - mse: 142.3966\n",
            "Epoch 66/500\n",
            "2/2 [==============================] - 0s 15ms/step - loss: 21.7699 - mse: 703.7220\n",
            "Epoch 67/500\n",
            "2/2 [==============================] - 0s 10ms/step - loss: 10.7025 - mse: 135.7784\n",
            "Epoch 68/500\n",
            "2/2 [==============================] - 0s 10ms/step - loss: 10.6300 - mse: 149.0362\n",
            "Epoch 69/500\n",
            "2/2 [==============================] - 0s 10ms/step - loss: 22.6914 - mse: 742.1436\n",
            "Epoch 70/500\n",
            "2/2 [==============================] - 0s 10ms/step - loss: 9.3268 - mse: 166.0735\n",
            "Epoch 71/500\n",
            "2/2 [==============================] - 0s 8ms/step - loss: 15.4298 - mse: 322.9235\n",
            "Epoch 72/500\n",
            "2/2 [==============================] - 0s 9ms/step - loss: 6.7348 - mse: 66.8263\n",
            "Epoch 73/500\n",
            "2/2 [==============================] - 0s 11ms/step - loss: 11.6833 - mse: 183.5084\n",
            "Epoch 74/500\n",
            "2/2 [==============================] - 0s 7ms/step - loss: 24.0566 - mse: 910.2090\n",
            "Epoch 75/500\n",
            "2/2 [==============================] - 0s 5ms/step - loss: 9.5869 - mse: 149.1403\n",
            "Epoch 76/500\n",
            "2/2 [==============================] - 0s 5ms/step - loss: 12.4359 - mse: 188.4221\n",
            "Epoch 77/500\n",
            "2/2 [==============================] - 0s 11ms/step - loss: 16.6647 - mse: 430.2787\n",
            "Epoch 78/500\n",
            "2/2 [==============================] - 0s 11ms/step - loss: 9.0561 - mse: 95.5798\n",
            "Epoch 79/500\n",
            "2/2 [==============================] - 0s 9ms/step - loss: 23.9951 - mse: 866.3000\n",
            "Epoch 80/500\n",
            "2/2 [==============================] - 0s 11ms/step - loss: 26.7792 - mse: 1107.4055\n",
            "Epoch 81/500\n",
            "2/2 [==============================] - 0s 9ms/step - loss: 11.6798 - mse: 171.2909\n",
            "Epoch 82/500\n",
            "2/2 [==============================] - 0s 12ms/step - loss: 12.0096 - mse: 211.6289\n",
            "Epoch 83/500\n",
            "2/2 [==============================] - 0s 10ms/step - loss: 17.4026 - mse: 394.6956\n",
            "Epoch 84/500\n",
            "2/2 [==============================] - 0s 9ms/step - loss: 7.2534 - mse: 72.9992\n",
            "Epoch 85/500\n",
            "2/2 [==============================] - 0s 9ms/step - loss: 14.9479 - mse: 312.1989\n",
            "Epoch 86/500\n",
            "2/2 [==============================] - 0s 9ms/step - loss: 15.2716 - mse: 314.9578\n",
            "Epoch 87/500\n",
            "2/2 [==============================] - 0s 9ms/step - loss: 19.0817 - mse: 520.0405\n",
            "Epoch 88/500\n",
            "2/2 [==============================] - 0s 10ms/step - loss: 29.8904 - mse: 1293.4512\n",
            "Epoch 89/500\n",
            "2/2 [==============================] - 0s 17ms/step - loss: 10.1777 - mse: 124.0460\n",
            "Epoch 90/500\n",
            "2/2 [==============================] - 0s 18ms/step - loss: 21.5830 - mse: 667.5862\n",
            "Epoch 91/500\n",
            "2/2 [==============================] - 0s 13ms/step - loss: 10.5801 - mse: 161.3776\n",
            "Epoch 92/500\n",
            "2/2 [==============================] - 0s 11ms/step - loss: 18.4531 - mse: 467.1240\n",
            "Epoch 93/500\n",
            "2/2 [==============================] - 0s 12ms/step - loss: 7.4131 - mse: 81.4637\n",
            "Epoch 94/500\n",
            "2/2 [==============================] - 0s 12ms/step - loss: 17.7908 - mse: 448.5114\n",
            "Epoch 95/500\n",
            "2/2 [==============================] - 0s 13ms/step - loss: 11.1308 - mse: 165.3653\n",
            "Epoch 96/500\n",
            "2/2 [==============================] - 0s 11ms/step - loss: 19.4893 - mse: 513.4497\n",
            "Epoch 97/500\n",
            "2/2 [==============================] - 0s 20ms/step - loss: 12.5134 - mse: 225.2140\n",
            "Epoch 98/500\n",
            "2/2 [==============================] - 0s 12ms/step - loss: 10.3007 - mse: 137.1952\n",
            "Epoch 99/500\n",
            "2/2 [==============================] - 0s 11ms/step - loss: 13.8507 - mse: 264.0378\n",
            "Epoch 100/500\n",
            "2/2 [==============================] - 0s 12ms/step - loss: 20.1757 - mse: 605.5698\n",
            "Epoch 101/500\n",
            "2/2 [==============================] - 0s 11ms/step - loss: 11.4248 - mse: 175.9641\n",
            "Epoch 102/500\n",
            "2/2 [==============================] - 0s 12ms/step - loss: 17.4376 - mse: 424.3130\n",
            "Epoch 103/500\n",
            "2/2 [==============================] - 0s 12ms/step - loss: 7.0134 - mse: 65.2554\n",
            "Epoch 104/500\n",
            "2/2 [==============================] - 0s 11ms/step - loss: 23.5955 - mse: 758.5052\n",
            "Epoch 105/500\n",
            "2/2 [==============================] - 0s 12ms/step - loss: 16.8499 - mse: 440.9575\n",
            "Epoch 106/500\n",
            "2/2 [==============================] - 0s 15ms/step - loss: 9.2946 - mse: 144.2477\n",
            "Epoch 107/500\n",
            "2/2 [==============================] - 0s 10ms/step - loss: 25.3901 - mse: 935.1766\n",
            "Epoch 108/500\n",
            "2/2 [==============================] - 0s 15ms/step - loss: 13.4305 - mse: 268.5802\n",
            "Epoch 109/500\n",
            "2/2 [==============================] - 0s 12ms/step - loss: 9.5039 - mse: 108.5078\n",
            "Epoch 110/500\n",
            "2/2 [==============================] - 0s 22ms/step - loss: 9.6561 - mse: 128.8492\n",
            "Epoch 111/500\n",
            "2/2 [==============================] - 0s 12ms/step - loss: 14.5723 - mse: 294.9537\n",
            "Epoch 112/500\n",
            "2/2 [==============================] - 0s 12ms/step - loss: 9.5543 - mse: 122.8367\n",
            "Epoch 113/500\n",
            "2/2 [==============================] - 0s 12ms/step - loss: 17.7816 - mse: 459.0224\n",
            "Epoch 114/500\n",
            "2/2 [==============================] - 0s 11ms/step - loss: 17.1499 - mse: 439.6555\n",
            "Epoch 115/500\n",
            "2/2 [==============================] - 0s 21ms/step - loss: 11.1046 - mse: 154.5420\n",
            "Epoch 116/500\n",
            "2/2 [==============================] - 0s 11ms/step - loss: 23.2733 - mse: 789.3411\n",
            "Epoch 117/500\n",
            "2/2 [==============================] - 0s 12ms/step - loss: 9.6003 - mse: 126.1319\n",
            "Epoch 118/500\n",
            "2/2 [==============================] - 0s 9ms/step - loss: 10.6752 - mse: 139.9295\n",
            "Epoch 119/500\n",
            "2/2 [==============================] - 0s 11ms/step - loss: 8.0296 - mse: 78.0983\n",
            "Epoch 120/500\n",
            "2/2 [==============================] - 0s 9ms/step - loss: 29.6563 - mse: 1313.0133\n",
            "Epoch 121/500\n",
            "2/2 [==============================] - 0s 8ms/step - loss: 8.0661 - mse: 70.5512\n",
            "Epoch 122/500\n",
            "2/2 [==============================] - 0s 8ms/step - loss: 28.2868 - mse: 1231.0973\n",
            "Epoch 123/500\n",
            "2/2 [==============================] - 0s 9ms/step - loss: 32.8748 - mse: 1589.0922\n",
            "Epoch 124/500\n",
            "2/2 [==============================] - 0s 5ms/step - loss: 19.6083 - mse: 570.4425\n",
            "Epoch 125/500\n",
            "2/2 [==============================] - 0s 5ms/step - loss: 9.5917 - mse: 150.9613\n",
            "Epoch 126/500\n",
            "2/2 [==============================] - 0s 7ms/step - loss: 9.6534 - mse: 113.1099\n",
            "Epoch 127/500\n",
            "2/2 [==============================] - 0s 5ms/step - loss: 12.8943 - mse: 260.4975\n",
            "Epoch 128/500\n",
            "2/2 [==============================] - 0s 8ms/step - loss: 13.4208 - mse: 251.9495\n",
            "Epoch 129/500\n",
            "2/2 [==============================] - 0s 6ms/step - loss: 10.2353 - mse: 157.5277\n",
            "Epoch 130/500\n",
            "2/2 [==============================] - 0s 5ms/step - loss: 17.6179 - mse: 435.6108\n",
            "Epoch 131/500\n",
            "2/2 [==============================] - 0s 8ms/step - loss: 9.5306 - mse: 118.8033\n",
            "Epoch 132/500\n",
            "2/2 [==============================] - 0s 6ms/step - loss: 17.5429 - mse: 459.5345\n",
            "Epoch 133/500\n",
            "2/2 [==============================] - 0s 6ms/step - loss: 6.2653 - mse: 53.8529\n",
            "Epoch 134/500\n",
            "2/2 [==============================] - 0s 6ms/step - loss: 25.3625 - mse: 908.8682\n",
            "Epoch 135/500\n",
            "2/2 [==============================] - 0s 5ms/step - loss: 16.3326 - mse: 374.4459\n",
            "Epoch 136/500\n",
            "2/2 [==============================] - 0s 6ms/step - loss: 14.6081 - mse: 299.6804\n",
            "Epoch 137/500\n",
            "2/2 [==============================] - 0s 5ms/step - loss: 22.6930 - mse: 694.1083\n",
            "Epoch 138/500\n",
            "2/2 [==============================] - 0s 5ms/step - loss: 8.9453 - mse: 140.2971\n",
            "Epoch 139/500\n",
            "2/2 [==============================] - 0s 6ms/step - loss: 7.9264 - mse: 106.7606\n",
            "Epoch 140/500\n",
            "2/2 [==============================] - 0s 6ms/step - loss: 19.7988 - mse: 555.2023\n",
            "Epoch 141/500\n",
            "2/2 [==============================] - 0s 6ms/step - loss: 8.3377 - mse: 80.3747\n",
            "Epoch 142/500\n",
            "2/2 [==============================] - 0s 5ms/step - loss: 35.2702 - mse: 2168.3281\n",
            "Epoch 143/500\n",
            "2/2 [==============================] - 0s 6ms/step - loss: 24.1870 - mse: 822.6141\n",
            "Epoch 144/500\n",
            "2/2 [==============================] - 0s 6ms/step - loss: 11.3817 - mse: 219.7751\n",
            "Epoch 145/500\n",
            "2/2 [==============================] - 0s 6ms/step - loss: 25.2429 - mse: 863.3924\n",
            "Epoch 146/500\n",
            "2/2 [==============================] - 0s 9ms/step - loss: 10.7961 - mse: 156.3882\n",
            "Epoch 147/500\n",
            "2/2 [==============================] - 0s 5ms/step - loss: 14.2263 - mse: 291.0433\n",
            "Epoch 148/500\n",
            "2/2 [==============================] - 0s 5ms/step - loss: 17.1458 - mse: 404.1221\n",
            "Epoch 149/500\n",
            "2/2 [==============================] - 0s 5ms/step - loss: 9.0229 - mse: 106.2769\n",
            "Epoch 150/500\n",
            "2/2 [==============================] - 0s 6ms/step - loss: 7.8187 - mse: 68.6607\n",
            "Epoch 151/500\n",
            "2/2 [==============================] - 0s 8ms/step - loss: 20.6226 - mse: 622.4269\n",
            "Epoch 152/500\n",
            "2/2 [==============================] - 0s 6ms/step - loss: 10.3975 - mse: 134.8999\n",
            "Epoch 153/500\n",
            "2/2 [==============================] - 0s 5ms/step - loss: 30.3134 - mse: 1333.1448\n",
            "Epoch 154/500\n",
            "2/2 [==============================] - 0s 5ms/step - loss: 9.9664 - mse: 177.2091\n",
            "Epoch 155/500\n",
            "2/2 [==============================] - 0s 5ms/step - loss: 15.7239 - mse: 367.5349\n",
            "Epoch 156/500\n",
            "2/2 [==============================] - 0s 6ms/step - loss: 17.6357 - mse: 462.7225\n",
            "Epoch 157/500\n",
            "2/2 [==============================] - 0s 6ms/step - loss: 31.1832 - mse: 1562.3972\n",
            "Epoch 158/500\n",
            "2/2 [==============================] - 0s 5ms/step - loss: 10.1785 - mse: 138.2695\n",
            "Epoch 159/500\n",
            "2/2 [==============================] - 0s 7ms/step - loss: 8.6531 - mse: 97.1921\n",
            "Epoch 160/500\n",
            "2/2 [==============================] - 0s 6ms/step - loss: 20.8250 - mse: 624.5194\n",
            "Epoch 161/500\n",
            "2/2 [==============================] - 0s 7ms/step - loss: 11.8144 - mse: 206.9936\n",
            "Epoch 162/500\n",
            "2/2 [==============================] - 0s 6ms/step - loss: 21.8351 - mse: 687.7775\n",
            "Epoch 163/500\n",
            "2/2 [==============================] - 0s 7ms/step - loss: 19.4962 - mse: 547.5144\n",
            "Epoch 164/500\n",
            "2/2 [==============================] - 0s 6ms/step - loss: 11.3806 - mse: 195.5862\n",
            "Epoch 165/500\n",
            "2/2 [==============================] - 0s 6ms/step - loss: 11.5989 - mse: 227.1201\n",
            "Epoch 166/500\n",
            "2/2 [==============================] - 0s 7ms/step - loss: 21.3437 - mse: 669.4515\n",
            "Epoch 167/500\n",
            "2/2 [==============================] - 0s 7ms/step - loss: 26.9037 - mse: 1101.9890\n",
            "Epoch 168/500\n",
            "2/2 [==============================] - 0s 8ms/step - loss: 9.9693 - mse: 120.2392\n",
            "Epoch 169/500\n",
            "2/2 [==============================] - 0s 8ms/step - loss: 23.1799 - mse: 832.0052\n",
            "Epoch 170/500\n",
            "2/2 [==============================] - 0s 7ms/step - loss: 9.5588 - mse: 170.2554\n",
            "Epoch 171/500\n",
            "2/2 [==============================] - 0s 8ms/step - loss: 15.8287 - mse: 376.8306\n",
            "Epoch 172/500\n",
            "2/2 [==============================] - 0s 6ms/step - loss: 13.8582 - mse: 284.6639\n",
            "Epoch 173/500\n",
            "2/2 [==============================] - 0s 6ms/step - loss: 22.5413 - mse: 719.2860\n",
            "Epoch 174/500\n",
            "2/2 [==============================] - 0s 5ms/step - loss: 11.3556 - mse: 180.4161\n",
            "Epoch 175/500\n",
            "2/2 [==============================] - 0s 6ms/step - loss: 20.1910 - mse: 658.8376\n",
            "Epoch 176/500\n",
            "2/2 [==============================] - 0s 7ms/step - loss: 7.4067 - mse: 68.3624\n",
            "Epoch 177/500\n",
            "2/2 [==============================] - 0s 9ms/step - loss: 8.5862 - mse: 104.3255\n",
            "Epoch 178/500\n",
            "2/2 [==============================] - 0s 7ms/step - loss: 15.5740 - mse: 348.9976\n",
            "Epoch 179/500\n",
            "2/2 [==============================] - 0s 6ms/step - loss: 9.2321 - mse: 119.2421\n",
            "Epoch 180/500\n",
            "2/2 [==============================] - 0s 7ms/step - loss: 8.1205 - mse: 92.7658\n",
            "Epoch 181/500\n",
            "2/2 [==============================] - 0s 7ms/step - loss: 18.8523 - mse: 511.6429\n",
            "Epoch 182/500\n",
            "2/2 [==============================] - 0s 6ms/step - loss: 10.8000 - mse: 152.2182\n",
            "Epoch 183/500\n",
            "2/2 [==============================] - 0s 7ms/step - loss: 11.5253 - mse: 198.8795\n",
            "Epoch 184/500\n",
            "2/2 [==============================] - 0s 6ms/step - loss: 29.9078 - mse: 1339.5535\n",
            "Epoch 185/500\n",
            "2/2 [==============================] - 0s 7ms/step - loss: 7.5356 - mse: 94.6473\n",
            "Epoch 186/500\n",
            "2/2 [==============================] - 0s 8ms/step - loss: 16.5099 - mse: 388.8084\n",
            "Epoch 187/500\n",
            "2/2 [==============================] - 0s 7ms/step - loss: 10.6864 - mse: 221.8153\n",
            "Epoch 188/500\n",
            "2/2 [==============================] - 0s 6ms/step - loss: 22.4817 - mse: 743.6864\n",
            "Epoch 189/500\n",
            "2/2 [==============================] - 0s 8ms/step - loss: 11.7233 - mse: 212.2626\n",
            "Epoch 190/500\n",
            "2/2 [==============================] - 0s 7ms/step - loss: 9.4414 - mse: 106.1865\n",
            "Epoch 191/500\n",
            "2/2 [==============================] - 0s 8ms/step - loss: 15.7253 - mse: 348.0861\n",
            "Epoch 192/500\n",
            "2/2 [==============================] - 0s 8ms/step - loss: 12.8129 - mse: 267.5295\n",
            "Epoch 193/500\n",
            "2/2 [==============================] - 0s 8ms/step - loss: 27.7668 - mse: 1074.0206\n",
            "Epoch 194/500\n",
            "2/2 [==============================] - 0s 7ms/step - loss: 7.1421 - mse: 77.5036\n",
            "Epoch 195/500\n",
            "2/2 [==============================] - 0s 7ms/step - loss: 7.0130 - mse: 75.2852\n",
            "Epoch 196/500\n",
            "2/2 [==============================] - 0s 6ms/step - loss: 21.8494 - mse: 701.1636\n",
            "Epoch 197/500\n",
            "2/2 [==============================] - 0s 7ms/step - loss: 21.1798 - mse: 665.4777\n",
            "Epoch 198/500\n",
            "2/2 [==============================] - 0s 6ms/step - loss: 12.6553 - mse: 242.9272\n",
            "Epoch 199/500\n",
            "2/2 [==============================] - 0s 6ms/step - loss: 18.2025 - mse: 475.0392\n",
            "Epoch 200/500\n",
            "2/2 [==============================] - 0s 6ms/step - loss: 14.0188 - mse: 294.1040\n",
            "Epoch 201/500\n",
            "2/2 [==============================] - 0s 6ms/step - loss: 6.9205 - mse: 73.3845\n",
            "Epoch 202/500\n",
            "2/2 [==============================] - 0s 6ms/step - loss: 21.7443 - mse: 678.5184\n",
            "Epoch 203/500\n",
            "2/2 [==============================] - 0s 7ms/step - loss: 5.4981 - mse: 40.7673\n",
            "Epoch 204/500\n",
            "2/2 [==============================] - 0s 6ms/step - loss: 14.6404 - mse: 286.7392\n",
            "Epoch 205/500\n",
            "2/2 [==============================] - 0s 6ms/step - loss: 21.5325 - mse: 689.0579\n",
            "Epoch 206/500\n",
            "2/2 [==============================] - 0s 6ms/step - loss: 23.6329 - mse: 831.2401\n",
            "Epoch 207/500\n",
            "2/2 [==============================] - 0s 6ms/step - loss: 12.3222 - mse: 233.2973\n",
            "Epoch 208/500\n",
            "2/2 [==============================] - 0s 5ms/step - loss: 17.3199 - mse: 430.7866\n",
            "Epoch 209/500\n",
            "2/2 [==============================] - 0s 5ms/step - loss: 13.2100 - mse: 273.5583\n",
            "Epoch 210/500\n",
            "2/2 [==============================] - 0s 5ms/step - loss: 18.4761 - mse: 497.1552\n",
            "Epoch 211/500\n",
            "2/2 [==============================] - 0s 8ms/step - loss: 9.9856 - mse: 144.9154\n",
            "Epoch 212/500\n",
            "2/2 [==============================] - 0s 7ms/step - loss: 19.0367 - mse: 545.3602\n",
            "Epoch 213/500\n",
            "2/2 [==============================] - 0s 7ms/step - loss: 14.8311 - mse: 301.5128\n",
            "Epoch 214/500\n",
            "2/2 [==============================] - 0s 7ms/step - loss: 14.4511 - mse: 286.7950\n",
            "Epoch 215/500\n",
            "2/2 [==============================] - 0s 6ms/step - loss: 23.0376 - mse: 783.7595\n",
            "Epoch 216/500\n",
            "2/2 [==============================] - 0s 7ms/step - loss: 13.8011 - mse: 293.6568\n",
            "Epoch 217/500\n",
            "2/2 [==============================] - 0s 11ms/step - loss: 10.1863 - mse: 149.1960\n",
            "Epoch 218/500\n",
            "2/2 [==============================] - 0s 6ms/step - loss: 12.2442 - mse: 198.9916\n",
            "Epoch 219/500\n",
            "2/2 [==============================] - 0s 6ms/step - loss: 6.4948 - mse: 60.5094\n",
            "Epoch 220/500\n",
            "2/2 [==============================] - 0s 6ms/step - loss: 7.0614 - mse: 51.7884\n",
            "Epoch 221/500\n",
            "2/2 [==============================] - 0s 6ms/step - loss: 37.5379 - mse: 2413.2791\n",
            "Epoch 222/500\n",
            "2/2 [==============================] - 0s 7ms/step - loss: 37.3839 - mse: 2276.2456\n",
            "Epoch 223/500\n",
            "2/2 [==============================] - 0s 6ms/step - loss: 6.0976 - mse: 67.3053\n",
            "Epoch 224/500\n",
            "2/2 [==============================] - 0s 6ms/step - loss: 14.4785 - mse: 305.9254\n",
            "Epoch 225/500\n",
            "2/2 [==============================] - 0s 6ms/step - loss: 16.4704 - mse: 349.1360\n",
            "Epoch 226/500\n",
            "2/2 [==============================] - 0s 6ms/step - loss: 15.7044 - mse: 356.7562\n",
            "Epoch 227/500\n",
            "2/2 [==============================] - 0s 6ms/step - loss: 15.9129 - mse: 356.2607\n",
            "Epoch 228/500\n",
            "2/2 [==============================] - 0s 6ms/step - loss: 13.7156 - mse: 271.0224\n",
            "Epoch 229/500\n",
            "2/2 [==============================] - 0s 6ms/step - loss: 17.7933 - mse: 441.3221\n",
            "Epoch 230/500\n",
            "2/2 [==============================] - 0s 7ms/step - loss: 15.4166 - mse: 309.4918\n",
            "Epoch 231/500\n",
            "2/2 [==============================] - 0s 5ms/step - loss: 20.8225 - mse: 651.5387\n",
            "Epoch 232/500\n",
            "2/2 [==============================] - 0s 6ms/step - loss: 20.5300 - mse: 598.9550\n",
            "Epoch 233/500\n",
            "2/2 [==============================] - 0s 7ms/step - loss: 15.1705 - mse: 342.0162\n",
            "Epoch 234/500\n",
            "2/2 [==============================] - 0s 6ms/step - loss: 6.9619 - mse: 65.4267\n",
            "Epoch 235/500\n",
            "2/2 [==============================] - 0s 6ms/step - loss: 15.8308 - mse: 352.0200\n",
            "Epoch 236/500\n",
            "2/2 [==============================] - 0s 7ms/step - loss: 6.6997 - mse: 70.4376\n",
            "Epoch 237/500\n",
            "2/2 [==============================] - 0s 5ms/step - loss: 8.6335 - mse: 113.7908\n",
            "Epoch 238/500\n",
            "2/2 [==============================] - 0s 6ms/step - loss: 7.7706 - mse: 87.1010\n",
            "Epoch 239/500\n",
            "2/2 [==============================] - 0s 7ms/step - loss: 15.7933 - mse: 379.0260\n",
            "Epoch 240/500\n",
            "2/2 [==============================] - 0s 6ms/step - loss: 9.0407 - mse: 109.3248\n",
            "Epoch 241/500\n",
            "2/2 [==============================] - 0s 6ms/step - loss: 13.5341 - mse: 282.6414\n",
            "Epoch 242/500\n",
            "2/2 [==============================] - 0s 6ms/step - loss: 8.9178 - mse: 108.7635\n",
            "Epoch 243/500\n",
            "2/2 [==============================] - 0s 7ms/step - loss: 19.5455 - mse: 582.4308\n",
            "Epoch 244/500\n",
            "2/2 [==============================] - 0s 6ms/step - loss: 13.8035 - mse: 269.6364\n",
            "Epoch 245/500\n",
            "2/2 [==============================] - 0s 6ms/step - loss: 16.0820 - mse: 370.1042\n",
            "Epoch 246/500\n",
            "2/2 [==============================] - 0s 5ms/step - loss: 13.7043 - mse: 248.5345\n",
            "Epoch 247/500\n",
            "2/2 [==============================] - 0s 6ms/step - loss: 27.6281 - mse: 1095.1766\n",
            "Epoch 248/500\n",
            "2/2 [==============================] - 0s 10ms/step - loss: 6.6419 - mse: 77.4280\n",
            "Epoch 249/500\n",
            "2/2 [==============================] - 0s 5ms/step - loss: 8.3548 - mse: 89.6793\n",
            "Epoch 250/500\n",
            "2/2 [==============================] - 0s 6ms/step - loss: 27.6476 - mse: 1182.9285\n",
            "Epoch 251/500\n",
            "2/2 [==============================] - 0s 7ms/step - loss: 8.3405 - mse: 127.4821\n",
            "Epoch 252/500\n",
            "2/2 [==============================] - 0s 6ms/step - loss: 31.6505 - mse: 1391.6860\n",
            "Epoch 253/500\n",
            "2/2 [==============================] - 0s 6ms/step - loss: 10.2064 - mse: 205.4493\n",
            "Epoch 254/500\n",
            "2/2 [==============================] - 0s 6ms/step - loss: 16.0263 - mse: 386.3348\n",
            "Epoch 255/500\n",
            "2/2 [==============================] - 0s 6ms/step - loss: 21.4525 - mse: 705.2397\n",
            "Epoch 256/500\n",
            "2/2 [==============================] - 0s 6ms/step - loss: 28.2760 - mse: 1151.0356\n",
            "Epoch 257/500\n",
            "2/2 [==============================] - 0s 12ms/step - loss: 13.3586 - mse: 276.7993\n",
            "Epoch 258/500\n",
            "2/2 [==============================] - 0s 8ms/step - loss: 7.4775 - mse: 91.4430\n",
            "Epoch 259/500\n",
            "2/2 [==============================] - 0s 10ms/step - loss: 18.5390 - mse: 497.1923\n",
            "Epoch 260/500\n",
            "2/2 [==============================] - 0s 6ms/step - loss: 26.1822 - mse: 1024.6956\n",
            "Epoch 261/500\n",
            "2/2 [==============================] - 0s 5ms/step - loss: 9.5465 - mse: 143.6445\n",
            "Epoch 262/500\n",
            "2/2 [==============================] - 0s 5ms/step - loss: 8.6285 - mse: 122.8753\n",
            "Epoch 263/500\n",
            "2/2 [==============================] - 0s 8ms/step - loss: 8.0982 - mse: 100.0326\n",
            "Epoch 264/500\n",
            "2/2 [==============================] - 0s 5ms/step - loss: 18.1656 - mse: 461.1849\n",
            "Epoch 265/500\n",
            "2/2 [==============================] - 0s 5ms/step - loss: 12.1327 - mse: 213.9111\n",
            "Epoch 266/500\n",
            "2/2 [==============================] - 0s 5ms/step - loss: 13.4924 - mse: 259.4444\n",
            "Epoch 267/500\n",
            "2/2 [==============================] - 0s 5ms/step - loss: 11.1798 - mse: 227.6722\n",
            "Epoch 268/500\n",
            "2/2 [==============================] - 0s 5ms/step - loss: 19.4166 - mse: 561.4587\n",
            "Epoch 269/500\n",
            "2/2 [==============================] - 0s 5ms/step - loss: 39.9006 - mse: 2461.0798\n",
            "Epoch 270/500\n",
            "2/2 [==============================] - 0s 6ms/step - loss: 12.4775 - mse: 242.5370\n",
            "Epoch 271/500\n",
            "2/2 [==============================] - 0s 6ms/step - loss: 14.8324 - mse: 280.9323\n",
            "Epoch 272/500\n",
            "2/2 [==============================] - 0s 6ms/step - loss: 28.6474 - mse: 1126.5671\n",
            "Epoch 273/500\n",
            "2/2 [==============================] - 0s 4ms/step - loss: 7.1903 - mse: 84.0816\n",
            "Epoch 274/500\n",
            "2/2 [==============================] - 0s 5ms/step - loss: 6.3306 - mse: 46.5056\n",
            "Epoch 275/500\n",
            "2/2 [==============================] - 0s 5ms/step - loss: 36.2335 - mse: 2004.9805\n",
            "Epoch 276/500\n",
            "2/2 [==============================] - 0s 5ms/step - loss: 8.1959 - mse: 111.8882\n",
            "Epoch 277/500\n",
            "2/2 [==============================] - 0s 5ms/step - loss: 27.1754 - mse: 1007.8550\n",
            "Epoch 278/500\n",
            "2/2 [==============================] - 0s 5ms/step - loss: 10.7690 - mse: 208.9954\n",
            "Epoch 279/500\n",
            "2/2 [==============================] - 0s 4ms/step - loss: 16.1857 - mse: 396.7867\n",
            "Epoch 280/500\n",
            "2/2 [==============================] - 0s 8ms/step - loss: 21.4136 - mse: 690.7594\n",
            "Epoch 281/500\n",
            "2/2 [==============================] - 0s 5ms/step - loss: 23.3699 - mse: 832.8506\n",
            "Epoch 282/500\n",
            "2/2 [==============================] - 0s 6ms/step - loss: 8.1108 - mse: 94.2468\n",
            "Epoch 283/500\n",
            "2/2 [==============================] - 0s 5ms/step - loss: 8.3504 - mse: 95.1561\n",
            "Epoch 284/500\n",
            "2/2 [==============================] - 0s 9ms/step - loss: 26.2332 - mse: 1041.5011\n",
            "Epoch 285/500\n",
            "2/2 [==============================] - 0s 6ms/step - loss: 13.9363 - mse: 309.2127\n",
            "Epoch 286/500\n",
            "2/2 [==============================] - 0s 7ms/step - loss: 6.8917 - mse: 83.0149\n",
            "Epoch 287/500\n",
            "2/2 [==============================] - 0s 6ms/step - loss: 24.4231 - mse: 855.3918\n",
            "Epoch 288/500\n",
            "2/2 [==============================] - 0s 5ms/step - loss: 20.4905 - mse: 625.0604\n",
            "Epoch 289/500\n",
            "2/2 [==============================] - 0s 8ms/step - loss: 11.8753 - mse: 246.3632\n",
            "Epoch 290/500\n",
            "2/2 [==============================] - 0s 10ms/step - loss: 16.4556 - mse: 361.8213\n",
            "Epoch 291/500\n",
            "2/2 [==============================] - 0s 9ms/step - loss: 16.6912 - mse: 409.1179\n",
            "Epoch 292/500\n",
            "2/2 [==============================] - 0s 7ms/step - loss: 8.7982 - mse: 174.2476\n",
            "Epoch 293/500\n",
            "2/2 [==============================] - 0s 8ms/step - loss: 15.6626 - mse: 343.2991\n",
            "Epoch 294/500\n",
            "2/2 [==============================] - 0s 8ms/step - loss: 23.5158 - mse: 828.7711\n",
            "Epoch 295/500\n",
            "2/2 [==============================] - 0s 10ms/step - loss: 16.1575 - mse: 375.0636\n",
            "Epoch 296/500\n",
            "2/2 [==============================] - 0s 7ms/step - loss: 4.9131 - mse: 40.0613\n",
            "Epoch 297/500\n",
            "2/2 [==============================] - 0s 9ms/step - loss: 11.0157 - mse: 247.4013\n",
            "Epoch 298/500\n",
            "2/2 [==============================] - 0s 12ms/step - loss: 23.3348 - mse: 797.0433\n",
            "Epoch 299/500\n",
            "2/2 [==============================] - 0s 7ms/step - loss: 17.3616 - mse: 451.2275\n",
            "Epoch 300/500\n",
            "2/2 [==============================] - 0s 6ms/step - loss: 6.9036 - mse: 61.1232\n",
            "Epoch 301/500\n",
            "2/2 [==============================] - 0s 10ms/step - loss: 24.7427 - mse: 863.9918\n",
            "Epoch 302/500\n",
            "2/2 [==============================] - 0s 8ms/step - loss: 8.2159 - mse: 95.4885\n",
            "Epoch 303/500\n",
            "2/2 [==============================] - 0s 8ms/step - loss: 21.1654 - mse: 660.1710\n",
            "Epoch 304/500\n",
            "2/2 [==============================] - 0s 10ms/step - loss: 13.7156 - mse: 279.0653\n",
            "Epoch 305/500\n",
            "2/2 [==============================] - 0s 7ms/step - loss: 7.0750 - mse: 92.1016\n",
            "Epoch 306/500\n",
            "2/2 [==============================] - 0s 14ms/step - loss: 19.2977 - mse: 520.8830\n",
            "Epoch 307/500\n",
            "2/2 [==============================] - 0s 7ms/step - loss: 8.9901 - mse: 164.8595\n",
            "Epoch 308/500\n",
            "2/2 [==============================] - 0s 8ms/step - loss: 20.5898 - mse: 651.6867\n",
            "Epoch 309/500\n",
            "2/2 [==============================] - 0s 12ms/step - loss: 13.5838 - mse: 289.0172\n",
            "Epoch 310/500\n",
            "2/2 [==============================] - 0s 8ms/step - loss: 6.6654 - mse: 96.7864\n",
            "Epoch 311/500\n",
            "2/2 [==============================] - 0s 8ms/step - loss: 13.6607 - mse: 264.3988\n",
            "Epoch 312/500\n",
            "2/2 [==============================] - 0s 6ms/step - loss: 30.0188 - mse: 1244.6334\n",
            "Epoch 313/500\n",
            "2/2 [==============================] - 0s 9ms/step - loss: 7.5434 - mse: 104.5390\n",
            "Epoch 314/500\n",
            "2/2 [==============================] - 0s 8ms/step - loss: 9.9553 - mse: 235.1547\n",
            "Epoch 315/500\n",
            "2/2 [==============================] - 0s 6ms/step - loss: 23.8642 - mse: 826.4585\n",
            "Epoch 316/500\n",
            "2/2 [==============================] - 0s 8ms/step - loss: 16.2017 - mse: 396.5440\n",
            "Epoch 317/500\n",
            "2/2 [==============================] - 0s 8ms/step - loss: 20.7016 - mse: 584.8757\n",
            "Epoch 318/500\n",
            "2/2 [==============================] - 0s 7ms/step - loss: 9.1779 - mse: 119.4666\n",
            "Epoch 319/500\n",
            "2/2 [==============================] - 0s 9ms/step - loss: 11.7559 - mse: 232.6267\n",
            "Epoch 320/500\n",
            "2/2 [==============================] - 0s 10ms/step - loss: 12.3734 - mse: 255.1142\n",
            "Epoch 321/500\n",
            "2/2 [==============================] - 0s 9ms/step - loss: 5.3956 - mse: 62.4046\n",
            "Epoch 322/500\n",
            "2/2 [==============================] - 0s 8ms/step - loss: 14.2257 - mse: 276.1482\n",
            "Epoch 323/500\n",
            "2/2 [==============================] - 0s 11ms/step - loss: 18.6599 - mse: 537.1777\n",
            "Epoch 324/500\n",
            "2/2 [==============================] - 0s 7ms/step - loss: 17.9462 - mse: 481.0488\n",
            "Epoch 325/500\n",
            "2/2 [==============================] - 0s 7ms/step - loss: 7.9353 - mse: 151.6561\n",
            "Epoch 326/500\n",
            "2/2 [==============================] - 0s 8ms/step - loss: 21.2052 - mse: 671.4793\n",
            "Epoch 327/500\n",
            "2/2 [==============================] - 0s 7ms/step - loss: 24.5507 - mse: 852.8693\n",
            "Epoch 328/500\n",
            "2/2 [==============================] - 0s 11ms/step - loss: 12.6808 - mse: 241.9238\n",
            "Epoch 329/500\n",
            "2/2 [==============================] - 0s 6ms/step - loss: 17.1968 - mse: 449.8366\n",
            "Epoch 330/500\n",
            "2/2 [==============================] - 0s 7ms/step - loss: 6.9879 - mse: 87.2525\n",
            "Epoch 331/500\n",
            "2/2 [==============================] - 0s 10ms/step - loss: 20.5352 - mse: 642.5983\n",
            "Epoch 332/500\n",
            "2/2 [==============================] - 0s 10ms/step - loss: 11.4574 - mse: 205.4975\n",
            "Epoch 333/500\n",
            "2/2 [==============================] - 0s 9ms/step - loss: 13.8076 - mse: 293.9774\n",
            "Epoch 334/500\n",
            "2/2 [==============================] - 0s 8ms/step - loss: 10.2270 - mse: 212.7635\n",
            "Epoch 335/500\n",
            "2/2 [==============================] - 0s 8ms/step - loss: 13.0535 - mse: 272.0235\n",
            "Epoch 336/500\n",
            "2/2 [==============================] - 0s 9ms/step - loss: 32.4289 - mse: 1433.8564\n",
            "Epoch 337/500\n",
            "2/2 [==============================] - 0s 14ms/step - loss: 10.6963 - mse: 177.2635\n",
            "Epoch 338/500\n",
            "2/2 [==============================] - 0s 8ms/step - loss: 20.2527 - mse: 600.2734\n",
            "Epoch 339/500\n",
            "2/2 [==============================] - 0s 8ms/step - loss: 33.4803 - mse: 1670.4734\n",
            "Epoch 340/500\n",
            "2/2 [==============================] - 0s 7ms/step - loss: 8.6057 - mse: 104.1588\n",
            "Epoch 341/500\n",
            "2/2 [==============================] - 0s 12ms/step - loss: 21.2142 - mse: 629.7913\n",
            "Epoch 342/500\n",
            "2/2 [==============================] - 0s 10ms/step - loss: 14.1657 - mse: 269.4923\n",
            "Epoch 343/500\n",
            "2/2 [==============================] - 0s 12ms/step - loss: 11.7330 - mse: 182.2975\n",
            "Epoch 344/500\n",
            "2/2 [==============================] - 0s 11ms/step - loss: 10.7387 - mse: 227.0556\n",
            "Epoch 345/500\n",
            "2/2 [==============================] - 0s 8ms/step - loss: 30.9283 - mse: 1344.7349\n",
            "Epoch 346/500\n",
            "2/2 [==============================] - 0s 9ms/step - loss: 10.6750 - mse: 258.9108\n",
            "Epoch 347/500\n",
            "2/2 [==============================] - 0s 7ms/step - loss: 25.6109 - mse: 918.0499\n",
            "Epoch 348/500\n",
            "2/2 [==============================] - 0s 8ms/step - loss: 13.1939 - mse: 270.4906\n",
            "Epoch 349/500\n",
            "2/2 [==============================] - 0s 9ms/step - loss: 13.0973 - mse: 249.9458\n",
            "Epoch 350/500\n",
            "2/2 [==============================] - 0s 8ms/step - loss: 15.4353 - mse: 329.7498\n",
            "Epoch 351/500\n",
            "2/2 [==============================] - 0s 14ms/step - loss: 32.9026 - mse: 1519.3180\n",
            "Epoch 352/500\n",
            "2/2 [==============================] - 0s 7ms/step - loss: 14.0313 - mse: 275.1541\n",
            "Epoch 353/500\n",
            "2/2 [==============================] - 0s 7ms/step - loss: 16.0162 - mse: 379.9721\n",
            "Epoch 354/500\n",
            "2/2 [==============================] - 0s 7ms/step - loss: 13.3702 - mse: 257.6989\n",
            "Epoch 355/500\n",
            "2/2 [==============================] - 0s 6ms/step - loss: 21.5263 - mse: 694.8721\n",
            "Epoch 356/500\n",
            "2/2 [==============================] - 0s 6ms/step - loss: 16.2265 - mse: 404.5223\n",
            "Epoch 357/500\n",
            "2/2 [==============================] - 0s 6ms/step - loss: 11.7989 - mse: 240.9866\n",
            "Epoch 358/500\n",
            "2/2 [==============================] - 0s 8ms/step - loss: 14.8804 - mse: 334.3862\n",
            "Epoch 359/500\n",
            "2/2 [==============================] - 0s 7ms/step - loss: 12.2987 - mse: 318.2037\n",
            "Epoch 360/500\n",
            "2/2 [==============================] - 0s 6ms/step - loss: 20.2585 - mse: 616.2860\n",
            "Epoch 361/500\n",
            "2/2 [==============================] - 0s 6ms/step - loss: 11.0760 - mse: 222.3037\n",
            "Epoch 362/500\n",
            "2/2 [==============================] - 0s 8ms/step - loss: 6.8915 - mse: 76.9531\n",
            "Epoch 363/500\n",
            "2/2 [==============================] - 0s 7ms/step - loss: 24.0129 - mse: 840.5917\n",
            "Epoch 364/500\n",
            "2/2 [==============================] - 0s 7ms/step - loss: 29.7922 - mse: 1289.5107\n",
            "Epoch 365/500\n",
            "2/2 [==============================] - 0s 9ms/step - loss: 8.4216 - mse: 109.4060\n",
            "Epoch 366/500\n",
            "2/2 [==============================] - 0s 11ms/step - loss: 6.1586 - mse: 49.2052\n",
            "Epoch 367/500\n",
            "2/2 [==============================] - 0s 9ms/step - loss: 34.8414 - mse: 1844.1084\n",
            "Epoch 368/500\n",
            "2/2 [==============================] - 0s 10ms/step - loss: 7.4640 - mse: 101.6497\n",
            "Epoch 369/500\n",
            "2/2 [==============================] - 0s 14ms/step - loss: 9.2530 - mse: 129.5367\n",
            "Epoch 370/500\n",
            "2/2 [==============================] - 0s 8ms/step - loss: 10.9298 - mse: 206.7226\n",
            "Epoch 371/500\n",
            "2/2 [==============================] - 0s 10ms/step - loss: 8.7097 - mse: 126.5431\n",
            "Epoch 372/500\n",
            "2/2 [==============================] - 0s 11ms/step - loss: 6.5143 - mse: 82.5461\n",
            "Epoch 373/500\n",
            "2/2 [==============================] - 0s 9ms/step - loss: 23.3588 - mse: 807.2747\n",
            "Epoch 374/500\n",
            "2/2 [==============================] - 0s 8ms/step - loss: 10.1469 - mse: 211.7050\n",
            "Epoch 375/500\n",
            "2/2 [==============================] - 0s 9ms/step - loss: 12.7772 - mse: 233.1151\n",
            "Epoch 376/500\n",
            "2/2 [==============================] - 0s 11ms/step - loss: 14.6417 - mse: 311.6751\n",
            "Epoch 377/500\n",
            "2/2 [==============================] - 0s 12ms/step - loss: 14.6039 - mse: 296.3803\n",
            "Epoch 378/500\n",
            "2/2 [==============================] - 0s 8ms/step - loss: 16.1465 - mse: 405.6369\n",
            "Epoch 379/500\n",
            "2/2 [==============================] - 0s 8ms/step - loss: 20.5141 - mse: 581.4059\n",
            "Epoch 380/500\n",
            "2/2 [==============================] - 0s 8ms/step - loss: 34.4704 - mse: 1788.5121\n",
            "Epoch 381/500\n",
            "2/2 [==============================] - 0s 9ms/step - loss: 8.9755 - mse: 125.6921\n",
            "Epoch 382/500\n",
            "2/2 [==============================] - 0s 10ms/step - loss: 9.7372 - mse: 166.6181\n",
            "Epoch 383/500\n",
            "2/2 [==============================] - 0s 10ms/step - loss: 5.8711 - mse: 50.6799\n",
            "Epoch 384/500\n",
            "2/2 [==============================] - 0s 8ms/step - loss: 8.6510 - mse: 124.9432\n",
            "Epoch 385/500\n",
            "2/2 [==============================] - 0s 10ms/step - loss: 4.2682 - mse: 26.8295\n",
            "Epoch 386/500\n",
            "2/2 [==============================] - 0s 8ms/step - loss: 13.7908 - mse: 258.2066\n",
            "Epoch 387/500\n",
            "2/2 [==============================] - 0s 9ms/step - loss: 17.2274 - mse: 444.4011\n",
            "Epoch 388/500\n",
            "2/2 [==============================] - 0s 8ms/step - loss: 16.9874 - mse: 426.3458\n",
            "Epoch 389/500\n",
            "2/2 [==============================] - 0s 10ms/step - loss: 13.3138 - mse: 256.7815\n",
            "Epoch 390/500\n",
            "2/2 [==============================] - 0s 10ms/step - loss: 18.0943 - mse: 508.4851\n",
            "Epoch 391/500\n",
            "2/2 [==============================] - 0s 10ms/step - loss: 14.1053 - mse: 282.3747\n",
            "Epoch 392/500\n",
            "2/2 [==============================] - 0s 16ms/step - loss: 15.3356 - mse: 373.4483\n",
            "Epoch 393/500\n",
            "2/2 [==============================] - 0s 7ms/step - loss: 5.2287 - mse: 59.2656\n",
            "Epoch 394/500\n",
            "2/2 [==============================] - 0s 9ms/step - loss: 14.4811 - mse: 296.9788\n",
            "Epoch 395/500\n",
            "2/2 [==============================] - 0s 13ms/step - loss: 29.2257 - mse: 1184.7540\n",
            "Epoch 396/500\n",
            "2/2 [==============================] - 0s 10ms/step - loss: 7.6489 - mse: 103.2629\n",
            "Epoch 397/500\n",
            "2/2 [==============================] - 0s 6ms/step - loss: 8.7953 - mse: 137.4797\n",
            "Epoch 398/500\n",
            "2/2 [==============================] - 0s 7ms/step - loss: 14.7051 - mse: 323.9199\n",
            "Epoch 399/500\n",
            "2/2 [==============================] - 0s 9ms/step - loss: 11.2806 - mse: 282.8552\n",
            "Epoch 400/500\n",
            "2/2 [==============================] - 0s 6ms/step - loss: 21.8580 - mse: 738.7971\n",
            "Epoch 401/500\n",
            "2/2 [==============================] - 0s 10ms/step - loss: 14.9882 - mse: 353.4191\n",
            "Epoch 402/500\n",
            "2/2 [==============================] - 0s 8ms/step - loss: 8.5254 - mse: 116.0947\n",
            "Epoch 403/500\n",
            "2/2 [==============================] - 0s 11ms/step - loss: 10.4779 - mse: 192.6830\n",
            "Epoch 404/500\n",
            "2/2 [==============================] - 0s 9ms/step - loss: 10.3340 - mse: 208.8979\n",
            "Epoch 405/500\n",
            "2/2 [==============================] - 0s 8ms/step - loss: 6.3457 - mse: 67.8673\n",
            "Epoch 406/500\n",
            "2/2 [==============================] - 0s 10ms/step - loss: 17.6110 - mse: 467.6420\n",
            "Epoch 407/500\n",
            "2/2 [==============================] - 0s 14ms/step - loss: 11.0537 - mse: 259.0462\n",
            "Epoch 408/500\n",
            "2/2 [==============================] - 0s 8ms/step - loss: 21.1504 - mse: 683.2296\n",
            "Epoch 409/500\n",
            "2/2 [==============================] - 0s 9ms/step - loss: 30.0907 - mse: 1396.0477\n",
            "Epoch 410/500\n",
            "2/2 [==============================] - 0s 10ms/step - loss: 9.8794 - mse: 239.6217\n",
            "Epoch 411/500\n",
            "2/2 [==============================] - 0s 10ms/step - loss: 14.7435 - mse: 282.1742\n",
            "Epoch 412/500\n",
            "2/2 [==============================] - 0s 8ms/step - loss: 21.5175 - mse: 709.3724\n",
            "Epoch 413/500\n",
            "2/2 [==============================] - 0s 8ms/step - loss: 13.1983 - mse: 269.2464\n",
            "Epoch 414/500\n",
            "2/2 [==============================] - 0s 7ms/step - loss: 8.2484 - mse: 183.6321\n",
            "Epoch 415/500\n",
            "2/2 [==============================] - 0s 7ms/step - loss: 11.6810 - mse: 243.0892\n",
            "Epoch 416/500\n",
            "2/2 [==============================] - 0s 7ms/step - loss: 25.5868 - mse: 911.4274\n",
            "Epoch 417/500\n",
            "2/2 [==============================] - 0s 8ms/step - loss: 15.8325 - mse: 381.7441\n",
            "Epoch 418/500\n",
            "2/2 [==============================] - 0s 10ms/step - loss: 12.5540 - mse: 231.8179\n",
            "Epoch 419/500\n",
            "2/2 [==============================] - 0s 8ms/step - loss: 15.7113 - mse: 359.5320\n",
            "Epoch 420/500\n",
            "2/2 [==============================] - 0s 9ms/step - loss: 24.3963 - mse: 827.4471\n",
            "Epoch 421/500\n",
            "2/2 [==============================] - 0s 9ms/step - loss: 18.3531 - mse: 490.5098\n",
            "Epoch 422/500\n",
            "2/2 [==============================] - 0s 6ms/step - loss: 8.6439 - mse: 204.4826\n",
            "Epoch 423/500\n",
            "2/2 [==============================] - 0s 6ms/step - loss: 24.6064 - mse: 858.4829\n",
            "Epoch 424/500\n",
            "2/2 [==============================] - 0s 7ms/step - loss: 16.9472 - mse: 441.6717\n",
            "Epoch 425/500\n",
            "2/2 [==============================] - 0s 6ms/step - loss: 7.3634 - mse: 78.7531\n",
            "Epoch 426/500\n",
            "2/2 [==============================] - 0s 8ms/step - loss: 21.1450 - mse: 618.9317\n",
            "Epoch 427/500\n",
            "2/2 [==============================] - 0s 5ms/step - loss: 6.5435 - mse: 82.3864\n",
            "Epoch 428/500\n",
            "2/2 [==============================] - 0s 5ms/step - loss: 13.5486 - mse: 301.7353\n",
            "Epoch 429/500\n",
            "2/2 [==============================] - 0s 5ms/step - loss: 11.5218 - mse: 216.3825\n",
            "Epoch 430/500\n",
            "2/2 [==============================] - 0s 5ms/step - loss: 10.2967 - mse: 216.2053\n",
            "Epoch 431/500\n",
            "2/2 [==============================] - 0s 5ms/step - loss: 11.5682 - mse: 247.7059\n",
            "Epoch 432/500\n",
            "2/2 [==============================] - 0s 4ms/step - loss: 10.0063 - mse: 188.4626\n",
            "Epoch 433/500\n",
            "2/2 [==============================] - 0s 6ms/step - loss: 3.5913 - mse: 18.1126\n",
            "Epoch 434/500\n",
            "2/2 [==============================] - 0s 5ms/step - loss: 37.1641 - mse: 2186.4717\n",
            "Epoch 435/500\n",
            "2/2 [==============================] - 0s 5ms/step - loss: 14.0605 - mse: 321.2035\n",
            "Epoch 436/500\n",
            "2/2 [==============================] - 0s 5ms/step - loss: 12.2716 - mse: 215.1533\n",
            "Epoch 437/500\n",
            "2/2 [==============================] - 0s 9ms/step - loss: 16.3018 - mse: 348.4245\n",
            "Epoch 438/500\n",
            "2/2 [==============================] - 0s 6ms/step - loss: 13.9704 - mse: 285.7425\n",
            "Epoch 439/500\n",
            "2/2 [==============================] - 0s 5ms/step - loss: 32.0128 - mse: 1424.3519\n",
            "Epoch 440/500\n",
            "2/2 [==============================] - 0s 6ms/step - loss: 12.5633 - mse: 257.5417\n",
            "Epoch 441/500\n",
            "2/2 [==============================] - 0s 7ms/step - loss: 15.8179 - mse: 349.7126\n",
            "Epoch 442/500\n",
            "2/2 [==============================] - 0s 5ms/step - loss: 23.7651 - mse: 835.3590\n",
            "Epoch 443/500\n",
            "2/2 [==============================] - 0s 5ms/step - loss: 19.9868 - mse: 559.5704\n",
            "Epoch 444/500\n",
            "2/2 [==============================] - 0s 6ms/step - loss: 8.6957 - mse: 143.1728\n",
            "Epoch 445/500\n",
            "2/2 [==============================] - 0s 6ms/step - loss: 14.0829 - mse: 277.0103\n",
            "Epoch 446/500\n",
            "2/2 [==============================] - 0s 5ms/step - loss: 16.7869 - mse: 445.4883\n",
            "Epoch 447/500\n",
            "2/2 [==============================] - 0s 5ms/step - loss: 6.7364 - mse: 66.2851\n",
            "Epoch 448/500\n",
            "2/2 [==============================] - 0s 5ms/step - loss: 6.7492 - mse: 130.4043\n",
            "Epoch 449/500\n",
            "2/2 [==============================] - 0s 6ms/step - loss: 15.6297 - mse: 344.2648\n",
            "Epoch 450/500\n",
            "2/2 [==============================] - 0s 6ms/step - loss: 16.5894 - mse: 411.4862\n",
            "Epoch 451/500\n",
            "2/2 [==============================] - 0s 6ms/step - loss: 14.2165 - mse: 295.2484\n",
            "Epoch 452/500\n",
            "2/2 [==============================] - 0s 5ms/step - loss: 30.4703 - mse: 1318.5564\n",
            "Epoch 453/500\n",
            "2/2 [==============================] - 0s 6ms/step - loss: 5.1611 - mse: 53.2913\n",
            "Epoch 454/500\n",
            "2/2 [==============================] - 0s 8ms/step - loss: 30.0748 - mse: 1253.7328\n",
            "Epoch 455/500\n",
            "2/2 [==============================] - 0s 4ms/step - loss: 4.8294 - mse: 64.6123\n",
            "Epoch 456/500\n",
            "2/2 [==============================] - 0s 7ms/step - loss: 13.8720 - mse: 275.6440\n",
            "Epoch 457/500\n",
            "2/2 [==============================] - 0s 6ms/step - loss: 16.9440 - mse: 428.1652\n",
            "Epoch 458/500\n",
            "2/2 [==============================] - 0s 8ms/step - loss: 13.5709 - mse: 275.9751\n",
            "Epoch 459/500\n",
            "2/2 [==============================] - 0s 6ms/step - loss: 25.0309 - mse: 912.4338\n",
            "Epoch 460/500\n",
            "2/2 [==============================] - 0s 8ms/step - loss: 17.3593 - mse: 433.6255\n",
            "Epoch 461/500\n",
            "2/2 [==============================] - 0s 8ms/step - loss: 11.0685 - mse: 288.7099\n",
            "Epoch 462/500\n",
            "2/2 [==============================] - 0s 7ms/step - loss: 12.9414 - mse: 240.9652\n",
            "Epoch 463/500\n",
            "2/2 [==============================] - 0s 7ms/step - loss: 28.7866 - mse: 1161.3086\n",
            "Epoch 464/500\n",
            "2/2 [==============================] - 0s 6ms/step - loss: 7.5920 - mse: 114.0983\n",
            "Epoch 465/500\n",
            "2/2 [==============================] - 0s 6ms/step - loss: 15.8752 - mse: 370.8947\n",
            "Epoch 466/500\n",
            "2/2 [==============================] - 0s 7ms/step - loss: 8.7733 - mse: 218.6014\n",
            "Epoch 467/500\n",
            "2/2 [==============================] - 0s 9ms/step - loss: 22.1486 - mse: 751.5313\n",
            "Epoch 468/500\n",
            "2/2 [==============================] - 0s 5ms/step - loss: 22.5350 - mse: 708.6315\n",
            "Epoch 469/500\n",
            "2/2 [==============================] - 0s 7ms/step - loss: 19.9166 - mse: 563.7646\n",
            "Epoch 470/500\n",
            "2/2 [==============================] - 0s 4ms/step - loss: 7.5147 - mse: 95.0049\n",
            "Epoch 471/500\n",
            "2/2 [==============================] - 0s 6ms/step - loss: 27.7542 - mse: 1135.8669\n",
            "Epoch 472/500\n",
            "2/2 [==============================] - 0s 6ms/step - loss: 12.1078 - mse: 243.5330\n",
            "Epoch 473/500\n",
            "2/2 [==============================] - 0s 7ms/step - loss: 14.5411 - mse: 336.8196\n",
            "Epoch 474/500\n",
            "2/2 [==============================] - 0s 6ms/step - loss: 18.2839 - mse: 521.7067\n",
            "Epoch 475/500\n",
            "2/2 [==============================] - 0s 5ms/step - loss: 10.5286 - mse: 191.4027\n",
            "Epoch 476/500\n",
            "2/2 [==============================] - 0s 6ms/step - loss: 12.0164 - mse: 240.7494\n",
            "Epoch 477/500\n",
            "2/2 [==============================] - 0s 5ms/step - loss: 28.2058 - mse: 1119.0193\n",
            "Epoch 478/500\n",
            "2/2 [==============================] - 0s 7ms/step - loss: 7.2600 - mse: 84.9627\n",
            "Epoch 479/500\n",
            "2/2 [==============================] - 0s 7ms/step - loss: 5.9556 - mse: 60.6895\n",
            "Epoch 480/500\n",
            "2/2 [==============================] - 0s 5ms/step - loss: 19.2298 - mse: 537.0972\n",
            "Epoch 481/500\n",
            "2/2 [==============================] - 0s 5ms/step - loss: 10.9914 - mse: 289.1716\n",
            "Epoch 482/500\n",
            "2/2 [==============================] - 0s 6ms/step - loss: 18.5517 - mse: 562.4362\n",
            "Epoch 483/500\n",
            "2/2 [==============================] - 0s 7ms/step - loss: 19.6048 - mse: 542.9944\n",
            "Epoch 484/500\n",
            "2/2 [==============================] - 0s 5ms/step - loss: 17.7531 - mse: 444.4239\n",
            "Epoch 485/500\n",
            "2/2 [==============================] - 0s 5ms/step - loss: 8.5483 - mse: 237.3215\n",
            "Epoch 486/500\n",
            "2/2 [==============================] - 0s 4ms/step - loss: 18.7010 - mse: 534.7018\n",
            "Epoch 487/500\n",
            "2/2 [==============================] - 0s 7ms/step - loss: 13.7395 - mse: 309.1117\n",
            "Epoch 488/500\n",
            "2/2 [==============================] - 0s 7ms/step - loss: 10.8667 - mse: 186.5616\n",
            "Epoch 489/500\n",
            "2/2 [==============================] - 0s 10ms/step - loss: 15.9851 - mse: 346.9964\n",
            "Epoch 490/500\n",
            "2/2 [==============================] - 0s 12ms/step - loss: 14.2319 - mse: 281.0253\n",
            "Epoch 491/500\n",
            "2/2 [==============================] - 0s 9ms/step - loss: 26.2765 - mse: 1006.5562\n",
            "Epoch 492/500\n",
            "2/2 [==============================] - 0s 8ms/step - loss: 13.9823 - mse: 313.0944\n",
            "Epoch 493/500\n",
            "2/2 [==============================] - 0s 7ms/step - loss: 10.2682 - mse: 315.7113\n",
            "Epoch 494/500\n",
            "2/2 [==============================] - 0s 5ms/step - loss: 12.8343 - mse: 228.5233\n",
            "Epoch 495/500\n",
            "2/2 [==============================] - 0s 5ms/step - loss: 13.8261 - mse: 258.0125\n",
            "Epoch 496/500\n",
            "2/2 [==============================] - 0s 8ms/step - loss: 12.9942 - mse: 243.2985\n",
            "Epoch 497/500\n",
            "2/2 [==============================] - 0s 5ms/step - loss: 18.2042 - mse: 543.1730\n",
            "Epoch 498/500\n",
            "2/2 [==============================] - 0s 4ms/step - loss: 22.2244 - mse: 718.4067\n",
            "Epoch 499/500\n",
            "2/2 [==============================] - 0s 7ms/step - loss: 8.1053 - mse: 104.7799\n",
            "Epoch 500/500\n",
            "2/2 [==============================] - 0s 4ms/step - loss: 14.1828 - mse: 262.9560\n"
          ]
        },
        {
          "output_type": "execute_result",
          "data": {
            "text/plain": [
              "<keras.callbacks.History at 0x7f57c8856ad0>"
            ]
          },
          "metadata": {},
          "execution_count": 45
        }
      ]
    },
    {
      "cell_type": "code",
      "source": [
        "# Make a prediction and plot model_2\n",
        "# Note that the model overfitted\n",
        "y_pred_3 = model_3.predict(X_test)\n",
        "plot_predictions(predictions=y_pred_3)"
      ],
      "metadata": {
        "colab": {
          "base_uri": "https://localhost:8080/",
          "height": 428
        },
        "id": "ThNcB1O3FzCV",
        "outputId": "433be8ec-efc3-4b14-b0b5-31d22b8511a7"
      },
      "execution_count": null,
      "outputs": [
        {
          "output_type": "display_data",
          "data": {
            "text/plain": [
              "<Figure size 720x504 with 1 Axes>"
            ],
            "image/png": "[encoded data removed]"
          },
          "metadata": {
            "needs_background": "light"
          }
        }
      ]
    },
    {
      "cell_type": "code",
      "source": [
        "# Evluation metrics for model_2\n",
        "mae_3 = mae(y_test, y_pred_3)\n",
        "mse_3 = mse(y_test, y_pred_3)\n",
        "mae_3, mse_3"
      ],
      "metadata": {
        "colab": {
          "base_uri": "https://localhost:8080/"
        },
        "id": "xdW1eKXRF8gw",
        "outputId": "f77cbe5c-8641-4fef-c756-64288bac2689"
      },
      "execution_count": null,
      "outputs": [
        {
          "output_type": "execute_result",
          "data": {
            "text/plain": [
              "(<tf.Tensor: shape=(), dtype=float32, numpy=67.25127>,\n",
              " <tf.Tensor: shape=(), dtype=float32, numpy=4605.4766>)"
            ]
          },
          "metadata": {},
          "execution_count": 48
        }
      ]
    },
    {
      "cell_type": "markdown",
      "source": [
        "# Comparing the result of the 3 models"
      ],
      "metadata": {
        "id": "P6nrlnXvGBqk"
      }
    },
    {
      "cell_type": "code",
      "source": [
        "import pandas as pd\n",
        "\n",
        "model_results = [[\"model_1\", mae_1.numpy(), mse_1.numpy()],\n",
        "                 [\"model_2\", mae_2.numpy(), mse_2.numpy()],\n",
        "                 [\"model_3\", mae_3.numpy(), mse_3.numpy()]]\n",
        "\n",
        "all_results = pd.DataFrame(model_results, columns=[\"model\", \"mae\", \"mse\"])\n",
        "all_results"
      ],
      "metadata": {
        "colab": {
          "base_uri": "https://localhost:8080/",
          "height": 143
        },
        "id": "l6wNqDfaH8hJ",
        "outputId": "580232f6-c7d3-421f-e427-adbe45cedf46"
      },
      "execution_count": null,
      "outputs": [
        {
          "output_type": "execute_result",
          "data": {
            "text/plain": [
              "     model        mae          mse\n",
              "0  model_1  30.760834   956.760559\n",
              "1  model_2  13.324402   187.643753\n",
              "2  model_3  67.251266  4605.476562"
            ],
            "text/html": [
              "\n",
              "  <div id=\"df-07b2f81b-cb7c-4317-8f61-b2131927d397\">\n",
              "    <div class=\"colab-df-container\">\n",
              "      <div>\n",
              "<style scoped>\n",
              "    .dataframe tbody tr th:only-of-type {\n",
              "        vertical-align: middle;\n",
              "    }\n",
              "\n",
              "    .dataframe tbody tr th {\n",
              "        vertical-align: top;\n",
              "    }\n",
              "\n",
              "    .dataframe thead th {\n",
              "        text-align: right;\n",
              "    }\n",
              "</style>\n",
              "<table border=\"1\" class=\"dataframe\">\n",
              "  <thead>\n",
              "    <tr style=\"text-align: right;\">\n",
              "      <th></th>\n",
              "      <th>model</th>\n",
              "      <th>mae</th>\n",
              "      <th>mse</th>\n",
              "    </tr>\n",
              "  </thead>\n",
              "  <tbody>\n",
              "    <tr>\n",
              "      <th>0</th>\n",
              "      <td>model_1</td>\n",
              "      <td>30.760834</td>\n",
              "      <td>956.760559</td>\n",
              "    </tr>\n",
              "    <tr>\n",
              "      <th>1</th>\n",
              "      <td>model_2</td>\n",
              "      <td>13.324402</td>\n",
              "      <td>187.643753</td>\n",
              "    </tr>\n",
              "    <tr>\n",
              "      <th>2</th>\n",
              "      <td>model_3</td>\n",
              "      <td>67.251266</td>\n",
              "      <td>4605.476562</td>\n",
              "    </tr>\n",
              "  </tbody>\n",
              "</table>\n",
              "</div>\n",
              "      <button class=\"colab-df-convert\" onclick=\"convertToInteractive('df-07b2f81b-cb7c-4317-8f61-b2131927d397')\"\n",
              "              title=\"Convert this dataframe to an interactive table.\"\n",
              "              style=\"display:none;\">\n",
              "        \n",
              "  <svg xmlns=\"http://www.w3.org/2000/svg\" height=\"24px\"viewBox=\"0 0 24 24\"\n",
              "       width=\"24px\">\n",
              "    <path d=\"M0 0h24v24H0V0z\" fill=\"none\"/>\n",
              "    <path d=\"M18.56 5.44l.94 2.06.94-2.06 2.06-.94-2.06-.94-.94-2.06-.94 2.06-2.06.94zm-11 1L8.5 8.5l.94-2.06 2.06-.94-2.06-.94L8.5 2.5l-.94 2.06-2.06.94zm10 10l.94 2.06.94-2.06 2.06-.94-2.06-.94-.94-2.06-.94 2.06-2.06.94z\"/><path d=\"M17.41 7.96l-1.37-1.37c-.4-.4-.92-.59-1.43-.59-.52 0-1.04.2-1.43.59L10.3 9.45l-7.72 7.72c-.78.78-.78 2.05 0 2.83L4 21.41c.39.39.9.59 1.41.59.51 0 1.02-.2 1.41-.59l7.78-7.78 2.81-2.81c.8-.78.8-2.07 0-2.86zM5.41 20L4 18.59l7.72-7.72 1.47 1.35L5.41 20z\"/>\n",
              "  </svg>\n",
              "      </button>\n",
              "      \n",
              "  <style>\n",
              "    .colab-df-container {\n",
              "      display:flex;\n",
              "      flex-wrap:wrap;\n",
              "      gap: 12px;\n",
              "    }\n",
              "\n",
              "    .colab-df-convert {\n",
              "      background-color: #E8F0FE;\n",
              "      border: none;\n",
              "      border-radius: 50%;\n",
              "      cursor: pointer;\n",
              "      display: none;\n",
              "      fill: #1967D2;\n",
              "      height: 32px;\n",
              "      padding: 0 0 0 0;\n",
              "      width: 32px;\n",
              "    }\n",
              "\n",
              "    .colab-df-convert:hover {\n",
              "      background-color: #E2EBFA;\n",
              "      box-shadow: 0px 1px 2px rgba(60, 64, 67, 0.3), 0px 1px 3px 1px rgba(60, 64, 67, 0.15);\n",
              "      fill: #174EA6;\n",
              "    }\n",
              "\n",
              "    [theme=dark] .colab-df-convert {\n",
              "      background-color: #3B4455;\n",
              "      fill: #D2E3FC;\n",
              "    }\n",
              "\n",
              "    [theme=dark] .colab-df-convert:hover {\n",
              "      background-color: #434B5C;\n",
              "      box-shadow: 0px 1px 3px 1px rgba(0, 0, 0, 0.15);\n",
              "      filter: drop-shadow(0px 1px 2px rgba(0, 0, 0, 0.3));\n",
              "      fill: #FFFFFF;\n",
              "    }\n",
              "  </style>\n",
              "\n",
              "      <script>\n",
              "        const buttonEl =\n",
              "          document.querySelector('#df-07b2f81b-cb7c-4317-8f61-b2131927d397 button.colab-df-convert');\n",
              "        buttonEl.style.display =\n",
              "          google.colab.kernel.accessAllowed ? 'block' : 'none';\n",
              "\n",
              "        async function convertToInteractive(key) {\n",
              "          const element = document.querySelector('#df-07b2f81b-cb7c-4317-8f61-b2131927d397');\n",
              "          const dataTable =\n",
              "            await google.colab.kernel.invokeFunction('convertToInteractive',\n",
              "                                                     [key], {});\n",
              "          if (!dataTable) return;\n",
              "\n",
              "          const docLinkHtml = 'Like what you see? Visit the ' +\n",
              "            '<a target=\"_blank\" href=https://colab.research.google.com/notebooks/data_table.ipynb>data table notebook</a>'\n",
              "            + ' to learn more about interactive tables.';\n",
              "          element.innerHTML = '';\n",
              "          dataTable['output_type'] = 'display_data';\n",
              "          await google.colab.output.renderOutput(dataTable, element);\n",
              "          const docLink = document.createElement('div');\n",
              "          docLink.innerHTML = docLinkHtml;\n",
              "          element.appendChild(docLink);\n",
              "        }\n",
              "      </script>\n",
              "    </div>\n",
              "  </div>\n",
              "  "
            ]
          },
          "metadata": {},
          "execution_count": 50
        }
      ]
    },
    {
      "cell_type": "code",
      "source": [
        "model_2.summary()"
      ],
      "metadata": {
        "colab": {
          "base_uri": "https://localhost:8080/"
        },
        "id": "Zatmg6SUJ9QM",
        "outputId": "2e406378-746b-4a69-c7fd-1fd4b9eff1fb"
      },
      "execution_count": null,
      "outputs": [
        {
          "output_type": "stream",
          "name": "stdout",
          "text": [
            "Model: \"sequential_7\"\n",
            "_________________________________________________________________\n",
            " Layer (type)                Output Shape              Param #   \n",
            "=================================================================\n",
            " dense_10 (Dense)            (None, 10)                20        \n",
            "                                                                 \n",
            " dense_11 (Dense)            (None, 1)                 11        \n",
            "                                                                 \n",
            "=================================================================\n",
            "Total params: 31\n",
            "Trainable params: 31\n",
            "Non-trainable params: 0\n",
            "_________________________________________________________________\n"
          ]
        }
      ]
    },
    {
      "cell_type": "markdown",
      "source": [
        "## Track your experiments\n",
        "### - TensorBoard\n",
        "### - Weight and Biases"
      ],
      "metadata": {
        "id": "aswu0lDzNMpD"
      }
    },
    {
      "cell_type": "markdown",
      "source": [
        "# Save and load tensorflow models\n",
        "### Two main methods to save a model:\n",
        "### - The saved model format\n",
        "### - The HDF5 Format"
      ],
      "metadata": {
        "id": "cTeo7JkhWDy9"
      }
    },
    {
      "cell_type": "code",
      "source": [
        "# Save the model\n",
        "model_2.save(\"best_model_SavedModel_format\")"
      ],
      "metadata": {
        "colab": {
          "base_uri": "https://localhost:8080/"
        },
        "id": "X9teiKq1XUB-",
        "outputId": "b9e9708a-8adb-4097-cb92-4a8dcf33ba2a"
      },
      "execution_count": null,
      "outputs": [
        {
          "output_type": "stream",
          "name": "stdout",
          "text": [
            "INFO:tensorflow:Assets written to: best_model_SavedModel_format/assets\n"
          ]
        }
      ]
    },
    {
      "cell_type": "code",
      "source": [
        "# Save the model using the HDF5 format (when going outside tensorflow)\n",
        "model_2.save(\"best_model_HDF5_format.h5\")"
      ],
      "metadata": {
        "id": "YnhJunr3Xmpi"
      },
      "execution_count": null,
      "outputs": []
    },
    {
      "cell_type": "code",
      "source": [
        "# Load in te=he SavedModel format model\n",
        "loaded_SavedModel_format = tf.keras.models.load_model(\"/content/best_model_SavedModel_format\")"
      ],
      "metadata": {
        "id": "8Xk0eh49YTCq"
      },
      "execution_count": null,
      "outputs": []
    },
    {
      "cell_type": "code",
      "source": [
        "loaded_SavedModel_format.summary(), model_2.summary()"
      ],
      "metadata": {
        "colab": {
          "base_uri": "https://localhost:8080/"
        },
        "id": "pooNbKWxZ9Hl",
        "outputId": "379100a9-eb10-4328-f5ae-15350faa001e"
      },
      "execution_count": null,
      "outputs": [
        {
          "output_type": "stream",
          "name": "stdout",
          "text": [
            "Model: \"sequential_7\"\n",
            "_________________________________________________________________\n",
            " Layer (type)                Output Shape              Param #   \n",
            "=================================================================\n",
            " dense_10 (Dense)            (None, 10)                20        \n",
            "                                                                 \n",
            " dense_11 (Dense)            (None, 1)                 11        \n",
            "                                                                 \n",
            "=================================================================\n",
            "Total params: 31\n",
            "Trainable params: 31\n",
            "Non-trainable params: 0\n",
            "_________________________________________________________________\n",
            "Model: \"sequential_7\"\n",
            "_________________________________________________________________\n",
            " Layer (type)                Output Shape              Param #   \n",
            "=================================================================\n",
            " dense_10 (Dense)            (None, 10)                20        \n",
            "                                                                 \n",
            " dense_11 (Dense)            (None, 1)                 11        \n",
            "                                                                 \n",
            "=================================================================\n",
            "Total params: 31\n",
            "Trainable params: 31\n",
            "Non-trainable params: 0\n",
            "_________________________________________________________________\n"
          ]
        },
        {
          "output_type": "execute_result",
          "data": {
            "text/plain": [
              "(None, None)"
            ]
          },
          "metadata": {},
          "execution_count": 58
        }
      ]
    },
    {
      "cell_type": "code",
      "source": [
        "# Compare the loaded model and current model predictions\n",
        "loaded_SavedModel_format.predict([17.0]), model_2.predict([17.0])"
      ],
      "metadata": {
        "colab": {
          "base_uri": "https://localhost:8080/"
        },
        "id": "3yrXEDMjaCYT",
        "outputId": "992fa725-c7a8-4c56-97cf-0836a45eae50"
      },
      "execution_count": null,
      "outputs": [
        {
          "output_type": "execute_result",
          "data": {
            "text/plain": [
              "(array([[23.44757]], dtype=float32), array([[23.44757]], dtype=float32))"
            ]
          },
          "metadata": {},
          "execution_count": 59
        }
      ]
    },
    {
      "cell_type": "markdown",
      "source": [
        "# A larger Example Dataset"
      ],
      "metadata": {
        "id": "nzd1e6l7aVft"
      }
    },
    {
      "cell_type": "code",
      "source": [
        "import tensorflow as tf\n",
        "import pandas as pd\n",
        "import matplotlib.pyplot as plt"
      ],
      "metadata": {
        "id": "vE8IPVp9b3Gv"
      },
      "execution_count": null,
      "outputs": []
    },
    {
      "cell_type": "code",
      "source": [
        "# Reading a medical cost (insuarance part) dataset from kaggle \n",
        "df = pd.read_csv(\"https://raw.githubusercontent.com/stedy/Machine-Learning-with-R-datasets/master/insurance.csv\")\n",
        "df"
      ],
      "metadata": {
        "colab": {
          "base_uri": "https://localhost:8080/",
          "height": 424
        },
        "id": "6TOuNHmscbq3",
        "outputId": "0e84d213-e49d-446c-db2b-0b8e378a20f3"
      },
      "execution_count": null,
      "outputs": [
        {
          "output_type": "execute_result",
          "data": {
            "text/plain": [
              "      age     sex     bmi  children smoker     region      charges\n",
              "0      19  female  27.900         0    yes  southwest  16884.92400\n",
              "1      18    male  33.770         1     no  southeast   1725.55230\n",
              "2      28    male  33.000         3     no  southeast   4449.46200\n",
              "3      33    male  22.705         0     no  northwest  21984.47061\n",
              "4      32    male  28.880         0     no  northwest   3866.85520\n",
              "...   ...     ...     ...       ...    ...        ...          ...\n",
              "1333   50    male  30.970         3     no  northwest  10600.54830\n",
              "1334   18  female  31.920         0     no  northeast   2205.98080\n",
              "1335   18  female  36.850         0     no  southeast   1629.83350\n",
              "1336   21  female  25.800         0     no  southwest   2007.94500\n",
              "1337   61  female  29.070         0    yes  northwest  29141.36030\n",
              "\n",
              "[1338 rows x 7 columns]"
            ],
            "text/html": [
              "\n",
              "  <div id=\"df-d464c38b-acc4-4a81-932a-745e6c710ec2\">\n",
              "    <div class=\"colab-df-container\">\n",
              "      <div>\n",
              "<style scoped>\n",
              "    .dataframe tbody tr th:only-of-type {\n",
              "        vertical-align: middle;\n",
              "    }\n",
              "\n",
              "    .dataframe tbody tr th {\n",
              "        vertical-align: top;\n",
              "    }\n",
              "\n",
              "    .dataframe thead th {\n",
              "        text-align: right;\n",
              "    }\n",
              "</style>\n",
              "<table border=\"1\" class=\"dataframe\">\n",
              "  <thead>\n",
              "    <tr style=\"text-align: right;\">\n",
              "      <th></th>\n",
              "      <th>age</th>\n",
              "      <th>sex</th>\n",
              "      <th>bmi</th>\n",
              "      <th>children</th>\n",
              "      <th>smoker</th>\n",
              "      <th>region</th>\n",
              "      <th>charges</th>\n",
              "    </tr>\n",
              "  </thead>\n",
              "  <tbody>\n",
              "    <tr>\n",
              "      <th>0</th>\n",
              "      <td>19</td>\n",
              "      <td>female</td>\n",
              "      <td>27.900</td>\n",
              "      <td>0</td>\n",
              "      <td>yes</td>\n",
              "      <td>southwest</td>\n",
              "      <td>16884.92400</td>\n",
              "    </tr>\n",
              "    <tr>\n",
              "      <th>1</th>\n",
              "      <td>18</td>\n",
              "      <td>male</td>\n",
              "      <td>33.770</td>\n",
              "      <td>1</td>\n",
              "      <td>no</td>\n",
              "      <td>southeast</td>\n",
              "      <td>1725.55230</td>\n",
              "    </tr>\n",
              "    <tr>\n",
              "      <th>2</th>\n",
              "      <td>28</td>\n",
              "      <td>male</td>\n",
              "      <td>33.000</td>\n",
              "      <td>3</td>\n",
              "      <td>no</td>\n",
              "      <td>southeast</td>\n",
              "      <td>4449.46200</td>\n",
              "    </tr>\n",
              "    <tr>\n",
              "      <th>3</th>\n",
              "      <td>33</td>\n",
              "      <td>male</td>\n",
              "      <td>22.705</td>\n",
              "      <td>0</td>\n",
              "      <td>no</td>\n",
              "      <td>northwest</td>\n",
              "      <td>21984.47061</td>\n",
              "    </tr>\n",
              "    <tr>\n",
              "      <th>4</th>\n",
              "      <td>32</td>\n",
              "      <td>male</td>\n",
              "      <td>28.880</td>\n",
              "      <td>0</td>\n",
              "      <td>no</td>\n",
              "      <td>northwest</td>\n",
              "      <td>3866.85520</td>\n",
              "    </tr>\n",
              "    <tr>\n",
              "      <th>...</th>\n",
              "      <td>...</td>\n",
              "      <td>...</td>\n",
              "      <td>...</td>\n",
              "      <td>...</td>\n",
              "      <td>...</td>\n",
              "      <td>...</td>\n",
              "      <td>...</td>\n",
              "    </tr>\n",
              "    <tr>\n",
              "      <th>1333</th>\n",
              "      <td>50</td>\n",
              "      <td>male</td>\n",
              "      <td>30.970</td>\n",
              "      <td>3</td>\n",
              "      <td>no</td>\n",
              "      <td>northwest</td>\n",
              "      <td>10600.54830</td>\n",
              "    </tr>\n",
              "    <tr>\n",
              "      <th>1334</th>\n",
              "      <td>18</td>\n",
              "      <td>female</td>\n",
              "      <td>31.920</td>\n",
              "      <td>0</td>\n",
              "      <td>no</td>\n",
              "      <td>northeast</td>\n",
              "      <td>2205.98080</td>\n",
              "    </tr>\n",
              "    <tr>\n",
              "      <th>1335</th>\n",
              "      <td>18</td>\n",
              "      <td>female</td>\n",
              "      <td>36.850</td>\n",
              "      <td>0</td>\n",
              "      <td>no</td>\n",
              "      <td>southeast</td>\n",
              "      <td>1629.83350</td>\n",
              "    </tr>\n",
              "    <tr>\n",
              "      <th>1336</th>\n",
              "      <td>21</td>\n",
              "      <td>female</td>\n",
              "      <td>25.800</td>\n",
              "      <td>0</td>\n",
              "      <td>no</td>\n",
              "      <td>southwest</td>\n",
              "      <td>2007.94500</td>\n",
              "    </tr>\n",
              "    <tr>\n",
              "      <th>1337</th>\n",
              "      <td>61</td>\n",
              "      <td>female</td>\n",
              "      <td>29.070</td>\n",
              "      <td>0</td>\n",
              "      <td>yes</td>\n",
              "      <td>northwest</td>\n",
              "      <td>29141.36030</td>\n",
              "    </tr>\n",
              "  </tbody>\n",
              "</table>\n",
              "<p>1338 rows × 7 columns</p>\n",
              "</div>\n",
              "      <button class=\"colab-df-convert\" onclick=\"convertToInteractive('df-d464c38b-acc4-4a81-932a-745e6c710ec2')\"\n",
              "              title=\"Convert this dataframe to an interactive table.\"\n",
              "              style=\"display:none;\">\n",
              "        \n",
              "  <svg xmlns=\"http://www.w3.org/2000/svg\" height=\"24px\"viewBox=\"0 0 24 24\"\n",
              "       width=\"24px\">\n",
              "    <path d=\"M0 0h24v24H0V0z\" fill=\"none\"/>\n",
              "    <path d=\"M18.56 5.44l.94 2.06.94-2.06 2.06-.94-2.06-.94-.94-2.06-.94 2.06-2.06.94zm-11 1L8.5 8.5l.94-2.06 2.06-.94-2.06-.94L8.5 2.5l-.94 2.06-2.06.94zm10 10l.94 2.06.94-2.06 2.06-.94-2.06-.94-.94-2.06-.94 2.06-2.06.94z\"/><path d=\"M17.41 7.96l-1.37-1.37c-.4-.4-.92-.59-1.43-.59-.52 0-1.04.2-1.43.59L10.3 9.45l-7.72 7.72c-.78.78-.78 2.05 0 2.83L4 21.41c.39.39.9.59 1.41.59.51 0 1.02-.2 1.41-.59l7.78-7.78 2.81-2.81c.8-.78.8-2.07 0-2.86zM5.41 20L4 18.59l7.72-7.72 1.47 1.35L5.41 20z\"/>\n",
              "  </svg>\n",
              "      </button>\n",
              "      \n",
              "  <style>\n",
              "    .colab-df-container {\n",
              "      display:flex;\n",
              "      flex-wrap:wrap;\n",
              "      gap: 12px;\n",
              "    }\n",
              "\n",
              "    .colab-df-convert {\n",
              "      background-color: #E8F0FE;\n",
              "      border: none;\n",
              "      border-radius: 50%;\n",
              "      cursor: pointer;\n",
              "      display: none;\n",
              "      fill: #1967D2;\n",
              "      height: 32px;\n",
              "      padding: 0 0 0 0;\n",
              "      width: 32px;\n",
              "    }\n",
              "\n",
              "    .colab-df-convert:hover {\n",
              "      background-color: #E2EBFA;\n",
              "      box-shadow: 0px 1px 2px rgba(60, 64, 67, 0.3), 0px 1px 3px 1px rgba(60, 64, 67, 0.15);\n",
              "      fill: #174EA6;\n",
              "    }\n",
              "\n",
              "    [theme=dark] .colab-df-convert {\n",
              "      background-color: #3B4455;\n",
              "      fill: #D2E3FC;\n",
              "    }\n",
              "\n",
              "    [theme=dark] .colab-df-convert:hover {\n",
              "      background-color: #434B5C;\n",
              "      box-shadow: 0px 1px 3px 1px rgba(0, 0, 0, 0.15);\n",
              "      filter: drop-shadow(0px 1px 2px rgba(0, 0, 0, 0.3));\n",
              "      fill: #FFFFFF;\n",
              "    }\n",
              "  </style>\n",
              "\n",
              "      <script>\n",
              "        const buttonEl =\n",
              "          document.querySelector('#df-d464c38b-acc4-4a81-932a-745e6c710ec2 button.colab-df-convert');\n",
              "        buttonEl.style.display =\n",
              "          google.colab.kernel.accessAllowed ? 'block' : 'none';\n",
              "\n",
              "        async function convertToInteractive(key) {\n",
              "          const element = document.querySelector('#df-d464c38b-acc4-4a81-932a-745e6c710ec2');\n",
              "          const dataTable =\n",
              "            await google.colab.kernel.invokeFunction('convertToInteractive',\n",
              "                                                     [key], {});\n",
              "          if (!dataTable) return;\n",
              "\n",
              "          const docLinkHtml = 'Like what you see? Visit the ' +\n",
              "            '<a target=\"_blank\" href=https://colab.research.google.com/notebooks/data_table.ipynb>data table notebook</a>'\n",
              "            + ' to learn more about interactive tables.';\n",
              "          element.innerHTML = '';\n",
              "          dataTable['output_type'] = 'display_data';\n",
              "          await google.colab.output.renderOutput(dataTable, element);\n",
              "          const docLink = document.createElement('div');\n",
              "          docLink.innerHTML = docLinkHtml;\n",
              "          element.appendChild(docLink);\n",
              "        }\n",
              "      </script>\n",
              "    </div>\n",
              "  </div>\n",
              "  "
            ]
          },
          "metadata": {},
          "execution_count": 62
        }
      ]
    },
    {
      "cell_type": "code",
      "source": [
        "# One hot encode the dataframe\n",
        "df_one_hot = pd.get_dummies(df, drop_first=True)\n",
        "df_one_hot"
      ],
      "metadata": {
        "colab": {
          "base_uri": "https://localhost:8080/",
          "height": 488
        },
        "id": "8DKv5Le3cziw",
        "outputId": "e4d22063-5be5-4e43-cfe0-144f771a13da"
      },
      "execution_count": null,
      "outputs": [
        {
          "output_type": "execute_result",
          "data": {
            "text/plain": [
              "      age     bmi  children      charges  sex_male  smoker_yes  \\\n",
              "0      19  27.900         0  16884.92400         0           1   \n",
              "1      18  33.770         1   1725.55230         1           0   \n",
              "2      28  33.000         3   4449.46200         1           0   \n",
              "3      33  22.705         0  21984.47061         1           0   \n",
              "4      32  28.880         0   3866.85520         1           0   \n",
              "...   ...     ...       ...          ...       ...         ...   \n",
              "1333   50  30.970         3  10600.54830         1           0   \n",
              "1334   18  31.920         0   2205.98080         0           0   \n",
              "1335   18  36.850         0   1629.83350         0           0   \n",
              "1336   21  25.800         0   2007.94500         0           0   \n",
              "1337   61  29.070         0  29141.36030         0           1   \n",
              "\n",
              "      region_northwest  region_southeast  region_southwest  \n",
              "0                    0                 0                 1  \n",
              "1                    0                 1                 0  \n",
              "2                    0                 1                 0  \n",
              "3                    1                 0                 0  \n",
              "4                    1                 0                 0  \n",
              "...                ...               ...               ...  \n",
              "1333                 1                 0                 0  \n",
              "1334                 0                 0                 0  \n",
              "1335                 0                 1                 0  \n",
              "1336                 0                 0                 1  \n",
              "1337                 1                 0                 0  \n",
              "\n",
              "[1338 rows x 9 columns]"
            ],
            "text/html": [
              "\n",
              "  <div id=\"df-ae26a841-cc74-4258-a814-e5d167d66206\">\n",
              "    <div class=\"colab-df-container\">\n",
              "      <div>\n",
              "<style scoped>\n",
              "    .dataframe tbody tr th:only-of-type {\n",
              "        vertical-align: middle;\n",
              "    }\n",
              "\n",
              "    .dataframe tbody tr th {\n",
              "        vertical-align: top;\n",
              "    }\n",
              "\n",
              "    .dataframe thead th {\n",
              "        text-align: right;\n",
              "    }\n",
              "</style>\n",
              "<table border=\"1\" class=\"dataframe\">\n",
              "  <thead>\n",
              "    <tr style=\"text-align: right;\">\n",
              "      <th></th>\n",
              "      <th>age</th>\n",
              "      <th>bmi</th>\n",
              "      <th>children</th>\n",
              "      <th>charges</th>\n",
              "      <th>sex_male</th>\n",
              "      <th>smoker_yes</th>\n",
              "      <th>region_northwest</th>\n",
              "      <th>region_southeast</th>\n",
              "      <th>region_southwest</th>\n",
              "    </tr>\n",
              "  </thead>\n",
              "  <tbody>\n",
              "    <tr>\n",
              "      <th>0</th>\n",
              "      <td>19</td>\n",
              "      <td>27.900</td>\n",
              "      <td>0</td>\n",
              "      <td>16884.92400</td>\n",
              "      <td>0</td>\n",
              "      <td>1</td>\n",
              "      <td>0</td>\n",
              "      <td>0</td>\n",
              "      <td>1</td>\n",
              "    </tr>\n",
              "    <tr>\n",
              "      <th>1</th>\n",
              "      <td>18</td>\n",
              "      <td>33.770</td>\n",
              "      <td>1</td>\n",
              "      <td>1725.55230</td>\n",
              "      <td>1</td>\n",
              "      <td>0</td>\n",
              "      <td>0</td>\n",
              "      <td>1</td>\n",
              "      <td>0</td>\n",
              "    </tr>\n",
              "    <tr>\n",
              "      <th>2</th>\n",
              "      <td>28</td>\n",
              "      <td>33.000</td>\n",
              "      <td>3</td>\n",
              "      <td>4449.46200</td>\n",
              "      <td>1</td>\n",
              "      <td>0</td>\n",
              "      <td>0</td>\n",
              "      <td>1</td>\n",
              "      <td>0</td>\n",
              "    </tr>\n",
              "    <tr>\n",
              "      <th>3</th>\n",
              "      <td>33</td>\n",
              "      <td>22.705</td>\n",
              "      <td>0</td>\n",
              "      <td>21984.47061</td>\n",
              "      <td>1</td>\n",
              "      <td>0</td>\n",
              "      <td>1</td>\n",
              "      <td>0</td>\n",
              "      <td>0</td>\n",
              "    </tr>\n",
              "    <tr>\n",
              "      <th>4</th>\n",
              "      <td>32</td>\n",
              "      <td>28.880</td>\n",
              "      <td>0</td>\n",
              "      <td>3866.85520</td>\n",
              "      <td>1</td>\n",
              "      <td>0</td>\n",
              "      <td>1</td>\n",
              "      <td>0</td>\n",
              "      <td>0</td>\n",
              "    </tr>\n",
              "    <tr>\n",
              "      <th>...</th>\n",
              "      <td>...</td>\n",
              "      <td>...</td>\n",
              "      <td>...</td>\n",
              "      <td>...</td>\n",
              "      <td>...</td>\n",
              "      <td>...</td>\n",
              "      <td>...</td>\n",
              "      <td>...</td>\n",
              "      <td>...</td>\n",
              "    </tr>\n",
              "    <tr>\n",
              "      <th>1333</th>\n",
              "      <td>50</td>\n",
              "      <td>30.970</td>\n",
              "      <td>3</td>\n",
              "      <td>10600.54830</td>\n",
              "      <td>1</td>\n",
              "      <td>0</td>\n",
              "      <td>1</td>\n",
              "      <td>0</td>\n",
              "      <td>0</td>\n",
              "    </tr>\n",
              "    <tr>\n",
              "      <th>1334</th>\n",
              "      <td>18</td>\n",
              "      <td>31.920</td>\n",
              "      <td>0</td>\n",
              "      <td>2205.98080</td>\n",
              "      <td>0</td>\n",
              "      <td>0</td>\n",
              "      <td>0</td>\n",
              "      <td>0</td>\n",
              "      <td>0</td>\n",
              "    </tr>\n",
              "    <tr>\n",
              "      <th>1335</th>\n",
              "      <td>18</td>\n",
              "      <td>36.850</td>\n",
              "      <td>0</td>\n",
              "      <td>1629.83350</td>\n",
              "      <td>0</td>\n",
              "      <td>0</td>\n",
              "      <td>0</td>\n",
              "      <td>1</td>\n",
              "      <td>0</td>\n",
              "    </tr>\n",
              "    <tr>\n",
              "      <th>1336</th>\n",
              "      <td>21</td>\n",
              "      <td>25.800</td>\n",
              "      <td>0</td>\n",
              "      <td>2007.94500</td>\n",
              "      <td>0</td>\n",
              "      <td>0</td>\n",
              "      <td>0</td>\n",
              "      <td>0</td>\n",
              "      <td>1</td>\n",
              "    </tr>\n",
              "    <tr>\n",
              "      <th>1337</th>\n",
              "      <td>61</td>\n",
              "      <td>29.070</td>\n",
              "      <td>0</td>\n",
              "      <td>29141.36030</td>\n",
              "      <td>0</td>\n",
              "      <td>1</td>\n",
              "      <td>1</td>\n",
              "      <td>0</td>\n",
              "      <td>0</td>\n",
              "    </tr>\n",
              "  </tbody>\n",
              "</table>\n",
              "<p>1338 rows × 9 columns</p>\n",
              "</div>\n",
              "      <button class=\"colab-df-convert\" onclick=\"convertToInteractive('df-ae26a841-cc74-4258-a814-e5d167d66206')\"\n",
              "              title=\"Convert this dataframe to an interactive table.\"\n",
              "              style=\"display:none;\">\n",
              "        \n",
              "  <svg xmlns=\"http://www.w3.org/2000/svg\" height=\"24px\"viewBox=\"0 0 24 24\"\n",
              "       width=\"24px\">\n",
              "    <path d=\"M0 0h24v24H0V0z\" fill=\"none\"/>\n",
              "    <path d=\"M18.56 5.44l.94 2.06.94-2.06 2.06-.94-2.06-.94-.94-2.06-.94 2.06-2.06.94zm-11 1L8.5 8.5l.94-2.06 2.06-.94-2.06-.94L8.5 2.5l-.94 2.06-2.06.94zm10 10l.94 2.06.94-2.06 2.06-.94-2.06-.94-.94-2.06-.94 2.06-2.06.94z\"/><path d=\"M17.41 7.96l-1.37-1.37c-.4-.4-.92-.59-1.43-.59-.52 0-1.04.2-1.43.59L10.3 9.45l-7.72 7.72c-.78.78-.78 2.05 0 2.83L4 21.41c.39.39.9.59 1.41.59.51 0 1.02-.2 1.41-.59l7.78-7.78 2.81-2.81c.8-.78.8-2.07 0-2.86zM5.41 20L4 18.59l7.72-7.72 1.47 1.35L5.41 20z\"/>\n",
              "  </svg>\n",
              "      </button>\n",
              "      \n",
              "  <style>\n",
              "    .colab-df-container {\n",
              "      display:flex;\n",
              "      flex-wrap:wrap;\n",
              "      gap: 12px;\n",
              "    }\n",
              "\n",
              "    .colab-df-convert {\n",
              "      background-color: #E8F0FE;\n",
              "      border: none;\n",
              "      border-radius: 50%;\n",
              "      cursor: pointer;\n",
              "      display: none;\n",
              "      fill: #1967D2;\n",
              "      height: 32px;\n",
              "      padding: 0 0 0 0;\n",
              "      width: 32px;\n",
              "    }\n",
              "\n",
              "    .colab-df-convert:hover {\n",
              "      background-color: #E2EBFA;\n",
              "      box-shadow: 0px 1px 2px rgba(60, 64, 67, 0.3), 0px 1px 3px 1px rgba(60, 64, 67, 0.15);\n",
              "      fill: #174EA6;\n",
              "    }\n",
              "\n",
              "    [theme=dark] .colab-df-convert {\n",
              "      background-color: #3B4455;\n",
              "      fill: #D2E3FC;\n",
              "    }\n",
              "\n",
              "    [theme=dark] .colab-df-convert:hover {\n",
              "      background-color: #434B5C;\n",
              "      box-shadow: 0px 1px 3px 1px rgba(0, 0, 0, 0.15);\n",
              "      filter: drop-shadow(0px 1px 2px rgba(0, 0, 0, 0.3));\n",
              "      fill: #FFFFFF;\n",
              "    }\n",
              "  </style>\n",
              "\n",
              "      <script>\n",
              "        const buttonEl =\n",
              "          document.querySelector('#df-ae26a841-cc74-4258-a814-e5d167d66206 button.colab-df-convert');\n",
              "        buttonEl.style.display =\n",
              "          google.colab.kernel.accessAllowed ? 'block' : 'none';\n",
              "\n",
              "        async function convertToInteractive(key) {\n",
              "          const element = document.querySelector('#df-ae26a841-cc74-4258-a814-e5d167d66206');\n",
              "          const dataTable =\n",
              "            await google.colab.kernel.invokeFunction('convertToInteractive',\n",
              "                                                     [key], {});\n",
              "          if (!dataTable) return;\n",
              "\n",
              "          const docLinkHtml = 'Like what you see? Visit the ' +\n",
              "            '<a target=\"_blank\" href=https://colab.research.google.com/notebooks/data_table.ipynb>data table notebook</a>'\n",
              "            + ' to learn more about interactive tables.';\n",
              "          element.innerHTML = '';\n",
              "          dataTable['output_type'] = 'display_data';\n",
              "          await google.colab.output.renderOutput(dataTable, element);\n",
              "          const docLink = document.createElement('div');\n",
              "          docLink.innerHTML = docLinkHtml;\n",
              "          element.appendChild(docLink);\n",
              "        }\n",
              "      </script>\n",
              "    </div>\n",
              "  </div>\n",
              "  "
            ]
          },
          "metadata": {},
          "execution_count": 68
        }
      ]
    },
    {
      "cell_type": "code",
      "source": [
        "# Create X and y\n",
        "X = df_one_hot.drop(\"charges\", axis=1)\n",
        "y = df_one_hot[\"charges\"]\n",
        "y.head()"
      ],
      "metadata": {
        "colab": {
          "base_uri": "https://localhost:8080/"
        },
        "id": "PhcseazAc33_",
        "outputId": "7ef0e9d8-c099-498a-d4b3-0ca805d45919"
      },
      "execution_count": null,
      "outputs": [
        {
          "output_type": "execute_result",
          "data": {
            "text/plain": [
              "0    16884.92400\n",
              "1     1725.55230\n",
              "2     4449.46200\n",
              "3    21984.47061\n",
              "4     3866.85520\n",
              "Name: charges, dtype: float64"
            ]
          },
          "metadata": {},
          "execution_count": 73
        }
      ]
    },
    {
      "cell_type": "code",
      "source": [
        "# Create training and test sets\n",
        "from sklearn.model_selection import train_test_split\n",
        "\n",
        "X_train, X_test, y_train, y_test = train_test_split(X, y, test_size=0.2, random_state=42)\n",
        "len(X), len(X_train), len(X_test)"
      ],
      "metadata": {
        "colab": {
          "base_uri": "https://localhost:8080/"
        },
        "id": "y50dWokAfalw",
        "outputId": "e4d8fe2b-b519-4abf-d37f-174db09ee1d9"
      },
      "execution_count": null,
      "outputs": [
        {
          "output_type": "execute_result",
          "data": {
            "text/plain": [
              "(1338, 1070, 268)"
            ]
          },
          "metadata": {},
          "execution_count": 75
        }
      ]
    },
    {
      "cell_type": "code",
      "source": [
        "# Build a neural network like model_2\n",
        "tf.random.set_seed = 42\n",
        "\n",
        "# Creating the model\n",
        "insurance_model = tf.keras.Sequential([\n",
        "                                       tf.keras.layers.Dense(10),\n",
        "                                       tf.keras.layers.Dense(1)\n",
        "])\n",
        "\n",
        "# Compile the model\n",
        "insurance_model.compile(loss=tf.keras.losses.mae,\n",
        "                        optimizer=tf.keras.optimizers.SGD(),\n",
        "                        metrics=[\"mae\"])\n",
        "\n",
        "# Fit the model\n",
        "insurance_model.fit(X_train, y_train, epochs=100)"
      ],
      "metadata": {
        "colab": {
          "base_uri": "https://localhost:8080/"
        },
        "id": "WXjNXnfziyKs",
        "outputId": "f5c6af13-4599-44c1-a551-3349b8d46495"
      },
      "execution_count": null,
      "outputs": [
        {
          "output_type": "stream",
          "name": "stdout",
          "text": [
            "Epoch 1/100\n",
            "34/34 [==============================] - 1s 3ms/step - loss: 8656.4717 - mae: 8656.4717\n",
            "Epoch 2/100\n",
            "34/34 [==============================] - 0s 2ms/step - loss: 7885.3271 - mae: 7885.3271\n",
            "Epoch 3/100\n",
            "34/34 [==============================] - 0s 2ms/step - loss: 7573.6826 - mae: 7573.6826\n",
            "Epoch 4/100\n",
            "34/34 [==============================] - 0s 2ms/step - loss: 7583.1489 - mae: 7583.1489\n",
            "Epoch 5/100\n",
            "34/34 [==============================] - 0s 2ms/step - loss: 7610.8115 - mae: 7610.8115\n",
            "Epoch 6/100\n",
            "34/34 [==============================] - 0s 2ms/step - loss: 7610.5547 - mae: 7610.5547\n",
            "Epoch 7/100\n",
            "34/34 [==============================] - 0s 2ms/step - loss: 7587.4634 - mae: 7587.4634\n",
            "Epoch 8/100\n",
            "34/34 [==============================] - 0s 2ms/step - loss: 7689.0469 - mae: 7689.0469\n",
            "Epoch 9/100\n",
            "34/34 [==============================] - 0s 2ms/step - loss: 7494.8647 - mae: 7494.8647\n",
            "Epoch 10/100\n",
            "34/34 [==============================] - 0s 2ms/step - loss: 7767.8696 - mae: 7767.8696\n",
            "Epoch 11/100\n",
            "34/34 [==============================] - 0s 2ms/step - loss: 7667.9248 - mae: 7667.9248\n",
            "Epoch 12/100\n",
            "34/34 [==============================] - 0s 2ms/step - loss: 7569.0479 - mae: 7569.0479\n",
            "Epoch 13/100\n",
            "34/34 [==============================] - 0s 2ms/step - loss: 7674.5835 - mae: 7674.5835\n",
            "Epoch 14/100\n",
            "34/34 [==============================] - 0s 2ms/step - loss: 7874.9019 - mae: 7874.9019\n",
            "Epoch 15/100\n",
            "34/34 [==============================] - 0s 2ms/step - loss: 7520.8232 - mae: 7520.8232\n",
            "Epoch 16/100\n",
            "34/34 [==============================] - 0s 2ms/step - loss: 7781.4404 - mae: 7781.4404\n",
            "Epoch 17/100\n",
            "34/34 [==============================] - 0s 3ms/step - loss: 7541.4971 - mae: 7541.4971\n",
            "Epoch 18/100\n",
            "34/34 [==============================] - 0s 2ms/step - loss: 7878.3413 - mae: 7878.3413\n",
            "Epoch 19/100\n",
            "34/34 [==============================] - 0s 2ms/step - loss: 7664.2617 - mae: 7664.2617\n",
            "Epoch 20/100\n",
            "34/34 [==============================] - 0s 2ms/step - loss: 7932.7954 - mae: 7932.7954\n",
            "Epoch 21/100\n",
            "34/34 [==============================] - 0s 2ms/step - loss: 7466.5024 - mae: 7466.5024\n",
            "Epoch 22/100\n",
            "34/34 [==============================] - 0s 2ms/step - loss: 7917.3755 - mae: 7917.3755\n",
            "Epoch 23/100\n",
            "34/34 [==============================] - 0s 3ms/step - loss: 7700.7988 - mae: 7700.7988\n",
            "Epoch 24/100\n",
            "34/34 [==============================] - 0s 2ms/step - loss: 7662.5332 - mae: 7662.5332\n",
            "Epoch 25/100\n",
            "34/34 [==============================] - 0s 2ms/step - loss: 7759.6958 - mae: 7759.6958\n",
            "Epoch 26/100\n",
            "34/34 [==============================] - 0s 2ms/step - loss: 7751.1831 - mae: 7751.1831\n",
            "Epoch 27/100\n",
            "34/34 [==============================] - 0s 2ms/step - loss: 7445.6523 - mae: 7445.6523\n",
            "Epoch 28/100\n",
            "34/34 [==============================] - 0s 3ms/step - loss: 7576.7788 - mae: 7576.7788\n",
            "Epoch 29/100\n",
            "34/34 [==============================] - 0s 3ms/step - loss: 7594.8662 - mae: 7594.8662\n",
            "Epoch 30/100\n",
            "34/34 [==============================] - 0s 2ms/step - loss: 7549.3433 - mae: 7549.3433\n",
            "Epoch 31/100\n",
            "34/34 [==============================] - 0s 2ms/step - loss: 7716.9331 - mae: 7716.9331\n",
            "Epoch 32/100\n",
            "34/34 [==============================] - 0s 2ms/step - loss: 7519.5713 - mae: 7519.5713\n",
            "Epoch 33/100\n",
            "34/34 [==============================] - 0s 3ms/step - loss: 7422.4351 - mae: 7422.4351\n",
            "Epoch 34/100\n",
            "34/34 [==============================] - 0s 2ms/step - loss: 7685.4741 - mae: 7685.4741\n",
            "Epoch 35/100\n",
            "34/34 [==============================] - 0s 2ms/step - loss: 7530.4639 - mae: 7530.4639\n",
            "Epoch 36/100\n",
            "34/34 [==============================] - 0s 2ms/step - loss: 7708.8037 - mae: 7708.8037\n",
            "Epoch 37/100\n",
            "34/34 [==============================] - 0s 2ms/step - loss: 7697.3823 - mae: 7697.3823\n",
            "Epoch 38/100\n",
            "34/34 [==============================] - 0s 2ms/step - loss: 7591.5425 - mae: 7591.5425\n",
            "Epoch 39/100\n",
            "34/34 [==============================] - 0s 2ms/step - loss: 7724.1938 - mae: 7724.1938\n",
            "Epoch 40/100\n",
            "34/34 [==============================] - 0s 2ms/step - loss: 7351.2227 - mae: 7351.2227\n",
            "Epoch 41/100\n",
            "34/34 [==============================] - 0s 2ms/step - loss: 7809.3521 - mae: 7809.3521\n",
            "Epoch 42/100\n",
            "34/34 [==============================] - 0s 2ms/step - loss: 7516.4507 - mae: 7516.4507\n",
            "Epoch 43/100\n",
            "34/34 [==============================] - 0s 2ms/step - loss: 7798.4170 - mae: 7798.4170\n",
            "Epoch 44/100\n",
            "34/34 [==============================] - 0s 2ms/step - loss: 7688.8643 - mae: 7688.8643\n",
            "Epoch 45/100\n",
            "34/34 [==============================] - 0s 2ms/step - loss: 7554.9468 - mae: 7554.9468\n",
            "Epoch 46/100\n",
            "34/34 [==============================] - 0s 2ms/step - loss: 7492.6030 - mae: 7492.6030\n",
            "Epoch 47/100\n",
            "34/34 [==============================] - 0s 2ms/step - loss: 7694.5249 - mae: 7694.5249\n",
            "Epoch 48/100\n",
            "34/34 [==============================] - 0s 2ms/step - loss: 7729.7607 - mae: 7729.7607\n",
            "Epoch 49/100\n",
            "34/34 [==============================] - 0s 2ms/step - loss: 7644.8760 - mae: 7644.8760\n",
            "Epoch 50/100\n",
            "34/34 [==============================] - 0s 4ms/step - loss: 7587.3701 - mae: 7587.3701\n",
            "Epoch 51/100\n",
            "34/34 [==============================] - 0s 2ms/step - loss: 7463.7231 - mae: 7463.7231\n",
            "Epoch 52/100\n",
            "34/34 [==============================] - 0s 2ms/step - loss: 7673.6689 - mae: 7673.6689\n",
            "Epoch 53/100\n",
            "34/34 [==============================] - 0s 2ms/step - loss: 7771.5493 - mae: 7771.5493\n",
            "Epoch 54/100\n",
            "34/34 [==============================] - 0s 2ms/step - loss: 7181.8379 - mae: 7181.8379\n",
            "Epoch 55/100\n",
            "34/34 [==============================] - 0s 2ms/step - loss: 7410.8032 - mae: 7410.8032\n",
            "Epoch 56/100\n",
            "34/34 [==============================] - 0s 3ms/step - loss: 7363.4116 - mae: 7363.4116\n",
            "Epoch 57/100\n",
            "34/34 [==============================] - 0s 2ms/step - loss: 7523.3379 - mae: 7523.3379\n",
            "Epoch 58/100\n",
            "34/34 [==============================] - 0s 2ms/step - loss: 7607.0273 - mae: 7607.0273\n",
            "Epoch 59/100\n",
            "34/34 [==============================] - 0s 2ms/step - loss: 7254.0850 - mae: 7254.0850\n",
            "Epoch 60/100\n",
            "34/34 [==============================] - 0s 2ms/step - loss: 7646.1421 - mae: 7646.1421\n",
            "Epoch 61/100\n",
            "34/34 [==============================] - 0s 3ms/step - loss: 7668.1831 - mae: 7668.1831\n",
            "Epoch 62/100\n",
            "34/34 [==============================] - 0s 2ms/step - loss: 7392.3931 - mae: 7392.3931\n",
            "Epoch 63/100\n",
            "34/34 [==============================] - 0s 2ms/step - loss: 7425.6890 - mae: 7425.6890\n",
            "Epoch 64/100\n",
            "34/34 [==============================] - 0s 2ms/step - loss: 7651.1084 - mae: 7651.1084\n",
            "Epoch 65/100\n",
            "34/34 [==============================] - 0s 2ms/step - loss: 7561.1289 - mae: 7561.1289\n",
            "Epoch 66/100\n",
            "34/34 [==============================] - 0s 2ms/step - loss: 7431.9834 - mae: 7431.9834\n",
            "Epoch 67/100\n",
            "34/34 [==============================] - 0s 2ms/step - loss: 7492.7271 - mae: 7492.7271\n",
            "Epoch 68/100\n",
            "34/34 [==============================] - 0s 3ms/step - loss: 7565.7749 - mae: 7565.7749\n",
            "Epoch 69/100\n",
            "34/34 [==============================] - 0s 2ms/step - loss: 7558.4468 - mae: 7558.4468\n",
            "Epoch 70/100\n",
            "34/34 [==============================] - 0s 3ms/step - loss: 7694.1758 - mae: 7694.1758\n",
            "Epoch 71/100\n",
            "34/34 [==============================] - 0s 3ms/step - loss: 7353.7959 - mae: 7353.7959\n",
            "Epoch 72/100\n",
            "34/34 [==============================] - 0s 3ms/step - loss: 7476.4155 - mae: 7476.4155\n",
            "Epoch 73/100\n",
            "34/34 [==============================] - 0s 2ms/step - loss: 7484.7271 - mae: 7484.7271\n",
            "Epoch 74/100\n",
            "34/34 [==============================] - 0s 2ms/step - loss: 7647.6206 - mae: 7647.6206\n",
            "Epoch 75/100\n",
            "34/34 [==============================] - 0s 3ms/step - loss: 7460.9429 - mae: 7460.9429\n",
            "Epoch 76/100\n",
            "34/34 [==============================] - 0s 3ms/step - loss: 7283.5684 - mae: 7283.5684\n",
            "Epoch 77/100\n",
            "34/34 [==============================] - 0s 3ms/step - loss: 7416.9111 - mae: 7416.9111\n",
            "Epoch 78/100\n",
            "34/34 [==============================] - 0s 3ms/step - loss: 7554.8887 - mae: 7554.8887\n",
            "Epoch 79/100\n",
            "34/34 [==============================] - 0s 2ms/step - loss: 7484.6763 - mae: 7484.6763\n",
            "Epoch 80/100\n",
            "34/34 [==============================] - 0s 2ms/step - loss: 7380.4761 - mae: 7380.4761\n",
            "Epoch 81/100\n",
            "34/34 [==============================] - 0s 2ms/step - loss: 7413.2886 - mae: 7413.2886\n",
            "Epoch 82/100\n",
            "34/34 [==============================] - 0s 2ms/step - loss: 7435.6743 - mae: 7435.6743\n",
            "Epoch 83/100\n",
            "34/34 [==============================] - 0s 3ms/step - loss: 7387.2075 - mae: 7387.2075\n",
            "Epoch 84/100\n",
            "34/34 [==============================] - 0s 3ms/step - loss: 7673.1353 - mae: 7673.1353\n",
            "Epoch 85/100\n",
            "34/34 [==============================] - 0s 3ms/step - loss: 7555.0840 - mae: 7555.0840\n",
            "Epoch 86/100\n",
            "34/34 [==============================] - 0s 2ms/step - loss: 7476.7842 - mae: 7476.7842\n",
            "Epoch 87/100\n",
            "34/34 [==============================] - 0s 4ms/step - loss: 7454.3345 - mae: 7454.3345\n",
            "Epoch 88/100\n",
            "34/34 [==============================] - 0s 3ms/step - loss: 7277.6748 - mae: 7277.6748\n",
            "Epoch 89/100\n",
            "34/34 [==============================] - 0s 2ms/step - loss: 7485.5049 - mae: 7485.5049\n",
            "Epoch 90/100\n",
            "34/34 [==============================] - 0s 2ms/step - loss: 7337.5054 - mae: 7337.5054\n",
            "Epoch 91/100\n",
            "34/34 [==============================] - 0s 2ms/step - loss: 7243.3359 - mae: 7243.3359\n",
            "Epoch 92/100\n",
            "34/34 [==============================] - 0s 2ms/step - loss: 7661.9600 - mae: 7661.9600\n",
            "Epoch 93/100\n",
            "34/34 [==============================] - 0s 3ms/step - loss: 7709.8467 - mae: 7709.8467\n",
            "Epoch 94/100\n",
            "34/34 [==============================] - 0s 2ms/step - loss: 7325.0874 - mae: 7325.0874\n",
            "Epoch 95/100\n",
            "34/34 [==============================] - 0s 3ms/step - loss: 7389.8911 - mae: 7389.8911\n",
            "Epoch 96/100\n",
            "34/34 [==============================] - 0s 2ms/step - loss: 7277.9810 - mae: 7277.9810\n",
            "Epoch 97/100\n",
            "34/34 [==============================] - 0s 3ms/step - loss: 7473.8105 - mae: 7473.8105\n",
            "Epoch 98/100\n",
            "34/34 [==============================] - 0s 3ms/step - loss: 7430.7988 - mae: 7430.7988\n",
            "Epoch 99/100\n",
            "34/34 [==============================] - 0s 2ms/step - loss: 7501.6274 - mae: 7501.6274\n",
            "Epoch 100/100\n",
            "34/34 [==============================] - 0s 2ms/step - loss: 7373.8896 - mae: 7373.8896\n"
          ]
        },
        {
          "output_type": "execute_result",
          "data": {
            "text/plain": [
              "<keras.callbacks.History at 0x7f57c84a9910>"
            ]
          },
          "metadata": {},
          "execution_count": 76
        }
      ]
    },
    {
      "cell_type": "code",
      "source": [
        "# Check the results on the test data\n",
        "insurance_model.evaluate(X_test, y_test)"
      ],
      "metadata": {
        "colab": {
          "base_uri": "https://localhost:8080/"
        },
        "id": "UoFh9Nv2j46l",
        "outputId": "4b541d5a-2e31-40aa-865a-ad7788abf64a"
      },
      "execution_count": null,
      "outputs": [
        {
          "output_type": "stream",
          "name": "stdout",
          "text": [
            "9/9 [==============================] - 0s 3ms/step - loss: 8620.0469 - mae: 8620.0469\n"
          ]
        },
        {
          "output_type": "execute_result",
          "data": {
            "text/plain": [
              "[8620.046875, 8620.046875]"
            ]
          },
          "metadata": {},
          "execution_count": 77
        }
      ]
    },
    {
      "cell_type": "code",
      "source": [
        "y_train.median(), y_train.mean()"
      ],
      "metadata": {
        "colab": {
          "base_uri": "https://localhost:8080/"
        },
        "id": "0_QmizQ6kTGG",
        "outputId": "4802446b-5208-4af1-8791-c0c380158b2e"
      },
      "execution_count": null,
      "outputs": [
        {
          "output_type": "execute_result",
          "data": {
            "text/plain": [
              "(9575.4421, 13346.089736364489)"
            ]
          },
          "metadata": {},
          "execution_count": 78
        }
      ]
    },
    {
      "cell_type": "markdown",
      "source": [
        "# Improve the model since it isn't performing well at all\n",
        "- Add an extra layer and change to the Adam optimizer"
      ],
      "metadata": {
        "id": "FR7s0N5LkpW2"
      }
    },
    {
      "cell_type": "code",
      "source": [
        "tf.random.set_seed = 42\n",
        "# Create a model \n",
        "insurance_model_2 = tf.keras.Sequential([\n",
        "                                         tf.keras.layers.Dense(100),\n",
        "                                         tf.keras.layers.Dense(10),\n",
        "                                         tf.keras.layers.Dense(1)\n",
        "])\n",
        "\n",
        "# Compile the model\n",
        "insurance_model_2.compile(loss=tf.keras.losses.mae,\n",
        "                          optimizer=tf.keras.optimizers.Adam(),\n",
        "                          metrics=[\"mae\"])\n",
        "\n",
        "# Fit the model\n",
        "insurance_model_2.fit(X_train, y_train, epochs=100, verbose=0)"
      ],
      "metadata": {
        "colab": {
          "base_uri": "https://localhost:8080/"
        },
        "id": "KbL2wlcQkzM0",
        "outputId": "96b20d28-3254-48fb-fdb5-cc1f23ff3caa"
      },
      "execution_count": null,
      "outputs": [
        {
          "output_type": "execute_result",
          "data": {
            "text/plain": [
              "<keras.callbacks.History at 0x7f57c025ae50>"
            ]
          },
          "metadata": {},
          "execution_count": 87
        }
      ]
    },
    {
      "cell_type": "code",
      "source": [
        "# Evaluate the model\n",
        "insurance_model_2.evaluate(X_test, y_test)"
      ],
      "metadata": {
        "colab": {
          "base_uri": "https://localhost:8080/"
        },
        "id": "JJFLh_Y8ljFJ",
        "outputId": "5b81afe9-07b3-4d7c-f913-f1922500ee2e"
      },
      "execution_count": null,
      "outputs": [
        {
          "output_type": "stream",
          "name": "stdout",
          "text": [
            "9/9 [==============================] - 0s 2ms/step - loss: 6015.1338 - mae: 6015.1338\n"
          ]
        },
        {
          "output_type": "execute_result",
          "data": {
            "text/plain": [
              "[6015.1337890625, 6015.1337890625]"
            ]
          },
          "metadata": {},
          "execution_count": 88
        }
      ]
    },
    {
      "cell_type": "markdown",
      "source": [
        "# Better than last time\n",
        "- This time add more epochs"
      ],
      "metadata": {
        "id": "hu_UAOhIlurC"
      }
    },
    {
      "cell_type": "code",
      "source": [
        "tf.random.set_seed = 42\n",
        "# Create a model \n",
        "insurance_model_3 = tf.keras.Sequential([\n",
        "                                         tf.keras.layers.Dense(100),\n",
        "                                         tf.keras.layers.Dense(10),\n",
        "                                         tf.keras.layers.Dense(1)\n",
        "])\n",
        "\n",
        "# Compile the model\n",
        "insurance_model_3.compile(loss=tf.keras.losses.mae,\n",
        "                          optimizer=tf.keras.optimizers.Adam(),\n",
        "                          metrics=[\"mae\"])\n",
        "\n",
        "# Fit the model\n",
        "history = insurance_model_3.fit(X_train, y_train, epochs=200, verbose=0)"
      ],
      "metadata": {
        "id": "7d18575_mkD4"
      },
      "execution_count": null,
      "outputs": []
    },
    {
      "cell_type": "code",
      "source": [
        "# Evaluate the model\n",
        "insurance_model_3.evaluate(X_test, y_test)"
      ],
      "metadata": {
        "colab": {
          "base_uri": "https://localhost:8080/"
        },
        "id": "OtSMELV3m16z",
        "outputId": "2a347be7-c95e-448d-d5eb-46bfde66a8a7"
      },
      "execution_count": null,
      "outputs": [
        {
          "output_type": "stream",
          "name": "stdout",
          "text": [
            "9/9 [==============================] - 0s 3ms/step - loss: 3464.3118 - mae: 3464.3118\n"
          ]
        },
        {
          "output_type": "execute_result",
          "data": {
            "text/plain": [
              "[3464.311767578125, 3464.311767578125]"
            ]
          },
          "metadata": {},
          "execution_count": 92
        }
      ]
    },
    {
      "cell_type": "code",
      "source": [
        "# The error more than halfed!!\n",
        "insurance_model.evaluate(X_test, y_test)"
      ],
      "metadata": {
        "colab": {
          "base_uri": "https://localhost:8080/"
        },
        "id": "ae5eXYWMm7i5",
        "outputId": "38275ebd-0b97-43ad-c0b3-2761652223c3"
      },
      "execution_count": null,
      "outputs": [
        {
          "output_type": "stream",
          "name": "stdout",
          "text": [
            "9/9 [==============================] - 0s 3ms/step - loss: 8620.0469 - mae: 8620.0469\n"
          ]
        },
        {
          "output_type": "execute_result",
          "data": {
            "text/plain": [
              "[8620.046875, 8620.046875]"
            ]
          },
          "metadata": {},
          "execution_count": 93
        }
      ]
    },
    {
      "cell_type": "code",
      "source": [
        "# Plot history (also known as a loss curve or training curve)\n",
        "pd.DataFrame(history.history).plot()\n",
        "plt.ylabel(\"loss\")\n",
        "plt.xlabel(\"epochs\");"
      ],
      "metadata": {
        "colab": {
          "base_uri": "https://localhost:8080/",
          "height": 279
        },
        "id": "TBW2RBP9nN_N",
        "outputId": "530e8cef-33e3-4614-cac5-fd95eca161ef"
      },
      "execution_count": null,
      "outputs": [
        {
          "output_type": "display_data",
          "data": {
            "text/plain": [
              "<Figure size 432x288 with 1 Axes>"
            ],
            "image/png": "[encoded data removed]"
          },
          "metadata": {
            "needs_background": "light"
          }
        }
      ]
    },
    {
      "cell_type": "markdown",
      "source": [
        "## Thats great and all but how long should you train for?\n",
        "- It depends on the problem you are working on? Tensorflow indroduced EarlyStopping Callback!\n",
        "- Stops the model from training once it stops improving a certain metric\n"
      ],
      "metadata": {
        "id": "qGFeJkA3nhsJ"
      }
    },
    {
      "cell_type": "markdown",
      "source": [
        "## Preprocessing data (normalization and standardization)"
      ],
      "metadata": {
        "id": "bX6FWuoso-qu"
      }
    },
    {
      "cell_type": "code",
      "source": [
        "import tensorflow as tf\n",
        "import pandas as pd\n",
        "import matplotlib.pyplot as plt\n",
        "\n",
        "# Reading a medical cost (insuarance part) dataset from kaggle \n",
        "df = pd.read_csv(\"https://raw.githubusercontent.com/stedy/Machine-Learning-with-R-datasets/master/insurance.csv\")\n",
        "df"
      ],
      "metadata": {
        "colab": {
          "base_uri": "https://localhost:8080/",
          "height": 424
        },
        "id": "XkzdVaKiplPn",
        "outputId": "047308df-6661-40dc-84f8-4b669b4e3f20"
      },
      "execution_count": null,
      "outputs": [
        {
          "output_type": "execute_result",
          "data": {
            "text/plain": [
              "      age     sex     bmi  children smoker     region      charges\n",
              "0      19  female  27.900         0    yes  southwest  16884.92400\n",
              "1      18    male  33.770         1     no  southeast   1725.55230\n",
              "2      28    male  33.000         3     no  southeast   4449.46200\n",
              "3      33    male  22.705         0     no  northwest  21984.47061\n",
              "4      32    male  28.880         0     no  northwest   3866.85520\n",
              "...   ...     ...     ...       ...    ...        ...          ...\n",
              "1333   50    male  30.970         3     no  northwest  10600.54830\n",
              "1334   18  female  31.920         0     no  northeast   2205.98080\n",
              "1335   18  female  36.850         0     no  southeast   1629.83350\n",
              "1336   21  female  25.800         0     no  southwest   2007.94500\n",
              "1337   61  female  29.070         0    yes  northwest  29141.36030\n",
              "\n",
              "[1338 rows x 7 columns]"
            ],
            "text/html": [
              "\n",
              "  <div id=\"df-967ea28f-0fcd-4ec9-9b8b-bb976db1e74d\">\n",
              "    <div class=\"colab-df-container\">\n",
              "      <div>\n",
              "<style scoped>\n",
              "    .dataframe tbody tr th:only-of-type {\n",
              "        vertical-align: middle;\n",
              "    }\n",
              "\n",
              "    .dataframe tbody tr th {\n",
              "        vertical-align: top;\n",
              "    }\n",
              "\n",
              "    .dataframe thead th {\n",
              "        text-align: right;\n",
              "    }\n",
              "</style>\n",
              "<table border=\"1\" class=\"dataframe\">\n",
              "  <thead>\n",
              "    <tr style=\"text-align: right;\">\n",
              "      <th></th>\n",
              "      <th>age</th>\n",
              "      <th>sex</th>\n",
              "      <th>bmi</th>\n",
              "      <th>children</th>\n",
              "      <th>smoker</th>\n",
              "      <th>region</th>\n",
              "      <th>charges</th>\n",
              "    </tr>\n",
              "  </thead>\n",
              "  <tbody>\n",
              "    <tr>\n",
              "      <th>0</th>\n",
              "      <td>19</td>\n",
              "      <td>female</td>\n",
              "      <td>27.900</td>\n",
              "      <td>0</td>\n",
              "      <td>yes</td>\n",
              "      <td>southwest</td>\n",
              "      <td>16884.92400</td>\n",
              "    </tr>\n",
              "    <tr>\n",
              "      <th>1</th>\n",
              "      <td>18</td>\n",
              "      <td>male</td>\n",
              "      <td>33.770</td>\n",
              "      <td>1</td>\n",
              "      <td>no</td>\n",
              "      <td>southeast</td>\n",
              "      <td>1725.55230</td>\n",
              "    </tr>\n",
              "    <tr>\n",
              "      <th>2</th>\n",
              "      <td>28</td>\n",
              "      <td>male</td>\n",
              "      <td>33.000</td>\n",
              "      <td>3</td>\n",
              "      <td>no</td>\n",
              "      <td>southeast</td>\n",
              "      <td>4449.46200</td>\n",
              "    </tr>\n",
              "    <tr>\n",
              "      <th>3</th>\n",
              "      <td>33</td>\n",
              "      <td>male</td>\n",
              "      <td>22.705</td>\n",
              "      <td>0</td>\n",
              "      <td>no</td>\n",
              "      <td>northwest</td>\n",
              "      <td>21984.47061</td>\n",
              "    </tr>\n",
              "    <tr>\n",
              "      <th>4</th>\n",
              "      <td>32</td>\n",
              "      <td>male</td>\n",
              "      <td>28.880</td>\n",
              "      <td>0</td>\n",
              "      <td>no</td>\n",
              "      <td>northwest</td>\n",
              "      <td>3866.85520</td>\n",
              "    </tr>\n",
              "    <tr>\n",
              "      <th>...</th>\n",
              "      <td>...</td>\n",
              "      <td>...</td>\n",
              "      <td>...</td>\n",
              "      <td>...</td>\n",
              "      <td>...</td>\n",
              "      <td>...</td>\n",
              "      <td>...</td>\n",
              "    </tr>\n",
              "    <tr>\n",
              "      <th>1333</th>\n",
              "      <td>50</td>\n",
              "      <td>male</td>\n",
              "      <td>30.970</td>\n",
              "      <td>3</td>\n",
              "      <td>no</td>\n",
              "      <td>northwest</td>\n",
              "      <td>10600.54830</td>\n",
              "    </tr>\n",
              "    <tr>\n",
              "      <th>1334</th>\n",
              "      <td>18</td>\n",
              "      <td>female</td>\n",
              "      <td>31.920</td>\n",
              "      <td>0</td>\n",
              "      <td>no</td>\n",
              "      <td>northeast</td>\n",
              "      <td>2205.98080</td>\n",
              "    </tr>\n",
              "    <tr>\n",
              "      <th>1335</th>\n",
              "      <td>18</td>\n",
              "      <td>female</td>\n",
              "      <td>36.850</td>\n",
              "      <td>0</td>\n",
              "      <td>no</td>\n",
              "      <td>southeast</td>\n",
              "      <td>1629.83350</td>\n",
              "    </tr>\n",
              "    <tr>\n",
              "      <th>1336</th>\n",
              "      <td>21</td>\n",
              "      <td>female</td>\n",
              "      <td>25.800</td>\n",
              "      <td>0</td>\n",
              "      <td>no</td>\n",
              "      <td>southwest</td>\n",
              "      <td>2007.94500</td>\n",
              "    </tr>\n",
              "    <tr>\n",
              "      <th>1337</th>\n",
              "      <td>61</td>\n",
              "      <td>female</td>\n",
              "      <td>29.070</td>\n",
              "      <td>0</td>\n",
              "      <td>yes</td>\n",
              "      <td>northwest</td>\n",
              "      <td>29141.36030</td>\n",
              "    </tr>\n",
              "  </tbody>\n",
              "</table>\n",
              "<p>1338 rows × 7 columns</p>\n",
              "</div>\n",
              "      <button class=\"colab-df-convert\" onclick=\"convertToInteractive('df-967ea28f-0fcd-4ec9-9b8b-bb976db1e74d')\"\n",
              "              title=\"Convert this dataframe to an interactive table.\"\n",
              "              style=\"display:none;\">\n",
              "        \n",
              "  <svg xmlns=\"http://www.w3.org/2000/svg\" height=\"24px\"viewBox=\"0 0 24 24\"\n",
              "       width=\"24px\">\n",
              "    <path d=\"M0 0h24v24H0V0z\" fill=\"none\"/>\n",
              "    <path d=\"M18.56 5.44l.94 2.06.94-2.06 2.06-.94-2.06-.94-.94-2.06-.94 2.06-2.06.94zm-11 1L8.5 8.5l.94-2.06 2.06-.94-2.06-.94L8.5 2.5l-.94 2.06-2.06.94zm10 10l.94 2.06.94-2.06 2.06-.94-2.06-.94-.94-2.06-.94 2.06-2.06.94z\"/><path d=\"M17.41 7.96l-1.37-1.37c-.4-.4-.92-.59-1.43-.59-.52 0-1.04.2-1.43.59L10.3 9.45l-7.72 7.72c-.78.78-.78 2.05 0 2.83L4 21.41c.39.39.9.59 1.41.59.51 0 1.02-.2 1.41-.59l7.78-7.78 2.81-2.81c.8-.78.8-2.07 0-2.86zM5.41 20L4 18.59l7.72-7.72 1.47 1.35L5.41 20z\"/>\n",
              "  </svg>\n",
              "      </button>\n",
              "      \n",
              "  <style>\n",
              "    .colab-df-container {\n",
              "      display:flex;\n",
              "      flex-wrap:wrap;\n",
              "      gap: 12px;\n",
              "    }\n",
              "\n",
              "    .colab-df-convert {\n",
              "      background-color: #E8F0FE;\n",
              "      border: none;\n",
              "      border-radius: 50%;\n",
              "      cursor: pointer;\n",
              "      display: none;\n",
              "      fill: #1967D2;\n",
              "      height: 32px;\n",
              "      padding: 0 0 0 0;\n",
              "      width: 32px;\n",
              "    }\n",
              "\n",
              "    .colab-df-convert:hover {\n",
              "      background-color: #E2EBFA;\n",
              "      box-shadow: 0px 1px 2px rgba(60, 64, 67, 0.3), 0px 1px 3px 1px rgba(60, 64, 67, 0.15);\n",
              "      fill: #174EA6;\n",
              "    }\n",
              "\n",
              "    [theme=dark] .colab-df-convert {\n",
              "      background-color: #3B4455;\n",
              "      fill: #D2E3FC;\n",
              "    }\n",
              "\n",
              "    [theme=dark] .colab-df-convert:hover {\n",
              "      background-color: #434B5C;\n",
              "      box-shadow: 0px 1px 3px 1px rgba(0, 0, 0, 0.15);\n",
              "      filter: drop-shadow(0px 1px 2px rgba(0, 0, 0, 0.3));\n",
              "      fill: #FFFFFF;\n",
              "    }\n",
              "  </style>\n",
              "\n",
              "      <script>\n",
              "        const buttonEl =\n",
              "          document.querySelector('#df-967ea28f-0fcd-4ec9-9b8b-bb976db1e74d button.colab-df-convert');\n",
              "        buttonEl.style.display =\n",
              "          google.colab.kernel.accessAllowed ? 'block' : 'none';\n",
              "\n",
              "        async function convertToInteractive(key) {\n",
              "          const element = document.querySelector('#df-967ea28f-0fcd-4ec9-9b8b-bb976db1e74d');\n",
              "          const dataTable =\n",
              "            await google.colab.kernel.invokeFunction('convertToInteractive',\n",
              "                                                     [key], {});\n",
              "          if (!dataTable) return;\n",
              "\n",
              "          const docLinkHtml = 'Like what you see? Visit the ' +\n",
              "            '<a target=\"_blank\" href=https://colab.research.google.com/notebooks/data_table.ipynb>data table notebook</a>'\n",
              "            + ' to learn more about interactive tables.';\n",
              "          element.innerHTML = '';\n",
              "          dataTable['output_type'] = 'display_data';\n",
              "          await google.colab.output.renderOutput(dataTable, element);\n",
              "          const docLink = document.createElement('div');\n",
              "          docLink.innerHTML = docLinkHtml;\n",
              "          element.appendChild(docLink);\n",
              "        }\n",
              "      </script>\n",
              "    </div>\n",
              "  </div>\n",
              "  "
            ]
          },
          "metadata": {},
          "execution_count": 97
        }
      ]
    },
    {
      "cell_type": "code",
      "source": [
        "from sklearn.compose import make_column_transformer\n",
        "from sklearn.preprocessing import MinMaxScaler, OneHotEncoder\n",
        "from sklearn.model_selection import train_test_split\n",
        "\n",
        "# Create a column transformer\n",
        "ct = make_column_transformer(\n",
        "    (MinMaxScaler(), [\"age\", \"bmi\", \"children\"]),\n",
        "    (OneHotEncoder(handle_unknown=\"ignore\"), [\"sex\", \"smoker\", \"region\"])\n",
        ")\n",
        "\n",
        "# Create X and y\n",
        "X = df.drop(\"charges\", axis=1)\n",
        "y = df[\"charges\"]\n",
        "\n",
        "# Split the data\n",
        "X_train, X_test, y_train, y_test = train_test_split(X, y, test_size=0.2, random_state=42)\n",
        "\n",
        "# Fit the column transformer to our training data\n",
        "ct.fit(X_train)\n",
        "\n",
        "# Transofrm training and test data with normalization (MinMaxScaler) and OneHotEncoder\n",
        "X_train_normal = ct.transform(X_train)\n",
        "X_test_normal = ct.transform(X_test)"
      ],
      "metadata": {
        "id": "SMMLD41CpsY4"
      },
      "execution_count": null,
      "outputs": []
    },
    {
      "cell_type": "code",
      "source": [
        "X_train.loc[0], X_train_normal[0]"
      ],
      "metadata": {
        "colab": {
          "base_uri": "https://localhost:8080/"
        },
        "id": "z14Jq-49s-h8",
        "outputId": "e9b48eb7-2f5e-435f-c9b9-8e9a3e8d59c4"
      },
      "execution_count": null,
      "outputs": [
        {
          "output_type": "execute_result",
          "data": {
            "text/plain": [
              "(age                19\n",
              " sex            female\n",
              " bmi              27.9\n",
              " children            0\n",
              " smoker            yes\n",
              " region      southwest\n",
              " Name: 0, dtype: object,\n",
              " array([0.60869565, 0.10734463, 0.4       , 1.        , 0.        ,\n",
              "        1.        , 0.        , 0.        , 1.        , 0.        ,\n",
              "        0.        ]))"
            ]
          },
          "metadata": {},
          "execution_count": 109
        }
      ]
    },
    {
      "cell_type": "code",
      "source": [
        "X_train.shape, X_train_normal.shape"
      ],
      "metadata": {
        "colab": {
          "base_uri": "https://localhost:8080/"
        },
        "id": "Khqs7bTQtXjP",
        "outputId": "e1cef3cd-145e-4d87-8afd-458ff03f2056"
      },
      "execution_count": null,
      "outputs": [
        {
          "output_type": "execute_result",
          "data": {
            "text/plain": [
              "((1070, 6), (1070, 11))"
            ]
          },
          "metadata": {},
          "execution_count": 110
        }
      ]
    },
    {
      "cell_type": "code",
      "source": [
        "# The data is now normalized and one hot encoded\n",
        "tf.random.set_seed = 42\n",
        "\n",
        "# Create the model\n",
        "insurance_model_4 = tf.keras.Sequential([\n",
        "                                       tf.keras.layers.Dense(100),\n",
        "                                       tf.keras.layers.Dense(10),\n",
        "                                       tf.keras.layers.Dense(10)\n",
        "])\n",
        "\n",
        "# Compile the model\n",
        "insurance_model_4.compile(loss=tf.keras.losses.mae,\n",
        "                          optimizer=tf.keras.optimizers.Adam(),\n",
        "                          metrics=[\"mae\"])\n",
        "\n",
        "# Fit the model\n",
        "insurance_model_4.fit(X_train_normal, y_train, epochs=100, verbose=0)"
      ],
      "metadata": {
        "colab": {
          "base_uri": "https://localhost:8080/"
        },
        "id": "ihK1Cu5kudH-",
        "outputId": "c4b46895-fe2f-484c-af2e-3fb7246fc7b2"
      },
      "execution_count": null,
      "outputs": [
        {
          "output_type": "execute_result",
          "data": {
            "text/plain": [
              "<keras.callbacks.History at 0x7f57ba393350>"
            ]
          },
          "metadata": {},
          "execution_count": 116
        }
      ]
    },
    {
      "cell_type": "code",
      "source": [
        "# Evaluate the model trained on normalized data\n",
        "insurance_model_4.evaluate(X_test_normal, y_test)"
      ],
      "metadata": {
        "colab": {
          "base_uri": "https://localhost:8080/"
        },
        "id": "2w8DeyOyvUPn",
        "outputId": "d9844b38-17e3-4956-c468-b129d373885a"
      },
      "execution_count": null,
      "outputs": [
        {
          "output_type": "stream",
          "name": "stdout",
          "text": [
            "9/9 [==============================] - 0s 2ms/step - loss: 3447.9382 - mae: 3447.9382\n"
          ]
        },
        {
          "output_type": "execute_result",
          "data": {
            "text/plain": [
              "[3447.938232421875, 3447.938232421875]"
            ]
          },
          "metadata": {},
          "execution_count": 117
        }
      ]
    },
    {
      "cell_type": "code",
      "source": [
        ""
      ],
      "metadata": {
        "id": "eib-XQMXvs2g"
      },
      "execution_count": null,
      "outputs": []
    },
    {
      "cell_type": "code",
      "source": [
        ""
      ],
      "metadata": {
        "id": "dIiaSysNvxc2"
      },
      "execution_count": null,
      "outputs": []
    }
  ],
  "metadata": {
    "colab": {
      "collapsed_sections": [],
      "name": "01 - Neural Network Regression With TensorFlow",
      "provenance": []
    },
    "kernelspec": {
      "display_name": "Python 3",
      "name": "python3"
    },
    "language_info": {
      "name": "python"
    }
  },
  "nbformat": 4,
  "nbformat_minor": 0
}